{
 "cells": [
  {
   "cell_type": "markdown",
   "id": "e6686c3f",
   "metadata": {},
   "source": [
    "<img src=\"images/pandas-intro.png\">"
   ]
  },
  {
   "cell_type": "code",
   "execution_count": null,
   "id": "93fc3b7d",
   "metadata": {},
   "outputs": [],
   "source": []
  },
  {
   "cell_type": "code",
   "execution_count": null,
   "id": "9be938c4",
   "metadata": {},
   "outputs": [],
   "source": [
    "# Module 01:\n",
    "# - DS/ML/DL/AI Big Picture \n",
    "# - Data and Its types(Application)\n",
    "# - 3Vs (Vel, Var, Vol)\n",
    "# - DS Field Trend\n",
    "# - DS/ML Project LifeCyle\n",
    "#     - Problem Statement\n",
    "#     - Data Collection\n",
    "#     - Data Preparation \n",
    "#     - EDA \n",
    "#     - Feature Engineering \n",
    "#     - Model Training\n",
    "#     - Model Evaluation and Tuning\n",
    "#     - Model Development\n",
    "#     - Model Deployment\n",
    "#     - Model Monitor and its Main.\n",
    "# - Data Analyst/ ML Engineer/ Data Scientist/ Data Engineer\n",
    "# - Course Matrix\n",
    "\n",
    "# Module 02(Introduction to Python Programming):\n",
    "# - Hello World in Python\n",
    "# - Variables\n",
    "# - Numeric data types\n",
    "# - Operators \n",
    "# - Mutable and Immutable data-type\n",
    "# - String(define, access, slicing , conctenation, string-methods-> lower, upper, )\n",
    "# - List()\n",
    "# - Tuple\n",
    "# - Set \n",
    "# - Dictionary\n",
    "# - Selection Structure(if, else, if-else, elif, nested if-else)\n",
    "# - Repetition Structure (while, for, nested)\n",
    "# - Functions(user-define, built-in functions)\n",
    "#     - lambda, map, reduce, filter, sorted\n",
    "# - Exceptions(try, except, finally)\n",
    "# - Modules(math, os, random, time, datetime, Calendar,  urllib) and Packages\n",
    "# - File Handling(read, readline, readlines)\n",
    "# - Regular Expression \n",
    "\n",
    "\n",
    "# Module 04: (Python -> Numpy(creation, universal/arithmetic/slicing/Broadcasting/stack/concatenation ) (File Handling using NumPy))\n",
    "    "
   ]
  },
  {
   "cell_type": "code",
   "execution_count": null,
   "id": "a5f615df",
   "metadata": {},
   "outputs": [],
   "source": []
  },
  {
   "cell_type": "code",
   "execution_count": null,
   "id": "1a4fb65c",
   "metadata": {},
   "outputs": [],
   "source": []
  },
  {
   "cell_type": "markdown",
   "id": "4b694ef9",
   "metadata": {},
   "source": [
    "# _Python_Pandas_Introduction"
   ]
  },
  {
   "cell_type": "markdown",
   "id": "091eff40",
   "metadata": {},
   "source": [
    "<img align=\"center\" width=\"700\" height=\"700\"  src=\"images/pandas-apps.png\"  >"
   ]
  },
  {
   "cell_type": "markdown",
   "id": "d3eb7cba",
   "metadata": {},
   "source": [
    "> **Pandas is an open source python library built on top of numpy and provides easy to use data structures and data analysis tools. Pandas has derived its name from panel data system and was developed by wes mckinney in 2008.**\n",
    "\n",
    "> **Data scientists use pandas for performing various data science tasks starting from downloading, opening, reading and writing files of different file formats like csv, excel, json, html and so on. They load the data set into its data structure called data frame.**\n",
    "\n",
    "> **A Pandas Dataframe is a 2-dimensional labeled data structure (like SQL table) with heterogeneously typed columns, having both a row and a column index.**\n",
    "\n",
    "> **After the data is loaded in a data frame the data scientists perform a various data manipulation tasks like filtering and modifying data based on multiple conditions cutting, splitting, merging, sorting, scaling, pivoting and aggregating of data.**\n",
    "\n",
    "> **Data cleaning is done to enhance the data accuracy and integrity by identifying and removing null values, duplicates and outliers.**\n",
    "\n",
    "> **Data wrangling actually transforms the data structurally to appropriate format and makes it ready to be used by the machine learning engineers so that they can apply appropriate machine learning models or algorithm on that data set for training validating and testing purposes.**"
   ]
  },
  {
   "cell_type": "code",
   "execution_count": null,
   "id": "38583d85",
   "metadata": {},
   "outputs": [],
   "source": []
  },
  {
   "cell_type": "markdown",
   "id": "930e2e5c",
   "metadata": {},
   "source": [
    "# Learning Agenda of this Notebook:\n",
    "- What is Pandas and how is it used in AI?\n",
    "- Key features of Pandas\n",
    "- Data Types in Pandas\n",
    "- What does Pandas deal with?\n",
    "\n",
    "- Creating Series in Pandas\n",
    "    - From Python List\n",
    "    - From NumPy Arrays\n",
    "    - From Python Dictionary\n",
    "    - From a scalar value\n",
    "    - Creating empty series object\n",
    "- Attributes of a Pandas Series\n",
    "- Arithmetic Operations on Series\n",
    "\n",
    "- Dataframes in Pandas\n",
    "    - Anatomy of a Dataframe\n",
    "    - Creating Dataframe\n",
    "        - An empty dataframe\n",
    "        - Two-Dimensional NumPy Array\n",
    "        - Dictionary of Python Lists\n",
    "        - Dictionary of Panda Series\n",
    "    - Attributes of a Dataframe\n",
    "    - Bonus\n",
    "- Reading different file formats in Pandas\n",
    "- Data Handling with Pandas\n",
    "  - Practice Exercise I\n",
    "  - Practice Exercise II\n",
    "- All Statistical functions in Pandas\n",
    "- Input/Output Operations\n",
    "- Aggregation & Grouping\n",
    "  - Practice Exercise\n",
    "- Merging, Joining and Concatenation\n",
    "  - Practice Exercise\n",
    "- How To Perform Data Visualization with Pandas\n",
    "- Exercise I\n",
    "- Exercise II\n",
    "- Pandas's Assignment"
   ]
  },
  {
   "cell_type": "code",
   "execution_count": null,
   "id": "b7ae90f2",
   "metadata": {},
   "outputs": [],
   "source": []
  },
  {
   "cell_type": "markdown",
   "id": "93d7fe9d",
   "metadata": {},
   "source": [
    "### Data Structures in Pandas:\n",
    "<img src=\"https://www.databricks.com/wp-content/uploads/2019/03/pandas1.png\">"
   ]
  },
  {
   "cell_type": "code",
   "execution_count": null,
   "id": "58f11cf7",
   "metadata": {},
   "outputs": [],
   "source": []
  },
  {
   "cell_type": "markdown",
   "id": "5d881437",
   "metadata": {},
   "source": [
    ">-  **A Pandas Dataframe is a 2-dimensional labeled data structure (like SQL table) with heterogeneously typed columns, having both a row and a column index.**\n",
    ">-  **In short Pandas is a Software Libarary in Computer Programming and it is written for the Python Programming Language its work to do `data analysis and manipulation.`**"
   ]
  },
  {
   "cell_type": "code",
   "execution_count": null,
   "id": "85a0c6b7",
   "metadata": {},
   "outputs": [],
   "source": []
  },
  {
   "cell_type": "markdown",
   "id": "25a611a7",
   "metadata": {},
   "source": [
    "## So, what is Pandas and how is it used in AI?\n",
    "\n",
    "Artificial Intelligence is about executing machine learning algorithms on products that we use every day. Any ML algorithm, for it to be effective, needs the following prerequisite steps to be done.\n",
    "- `Data Collection` – Conducting opinion Surveys, scraping the internet, etc.\n",
    "- `Data Handling` – Viewing data as a table, performing cleaning activities like checking for spellings, removal of blanks and wrong cases, removal of invalid values from data, etc.\n",
    "- `Data Visualization` – plotting appealing graphs, so anyone who looks at the data can know what story the data tells us.\n",
    "- `Pandas` – short for `Panel Data` (A panel is a 3D container of data) – is a library in python which contains in-built functions to clean, transform, manipulate, visualize and analyze data."
   ]
  },
  {
   "cell_type": "code",
   "execution_count": null,
   "id": "f94d09ae",
   "metadata": {},
   "outputs": [],
   "source": []
  },
  {
   "cell_type": "markdown",
   "id": "bb4573e9",
   "metadata": {},
   "source": [
    "## Key Features of Pandas\n",
    "<img src=\"images/Python-Pandas-Features.webp\" height=600px width=600px>\n",
    "\n",
    "\n",
    "- It has a fast and efficient DataFrame object with the default and customized indexing.\n",
    "- Used for reshaping and pivoting of the data sets.\n",
    "- Group by data for aggregations and transformations.\n",
    "- It is used for data alignment and integration of the missing data.\n",
    "- Provide the functionality of Time Series.\n",
    "- Process a variety of data sets in different formats like matrix data, tabular heterogeneous, time series.\n",
    "- Handle multiple operations of the data sets such as subsetting, slicing, filtering, groupBy, re-ordering, and re-shaping.\n",
    "- It integrates with the other libraries such as SciPy, and scikit-learn.\n"
   ]
  },
  {
   "cell_type": "code",
   "execution_count": null,
   "id": "6a2c3e75",
   "metadata": {},
   "outputs": [],
   "source": []
  },
  {
   "cell_type": "code",
   "execution_count": null,
   "id": "8c1a643c",
   "metadata": {},
   "outputs": [],
   "source": []
  },
  {
   "cell_type": "code",
   "execution_count": null,
   "id": "b607a89c",
   "metadata": {},
   "outputs": [],
   "source": []
  },
  {
   "cell_type": "code",
   "execution_count": null,
   "id": "9999de00",
   "metadata": {},
   "outputs": [],
   "source": []
  },
  {
   "cell_type": "markdown",
   "id": "238ceb96",
   "metadata": {},
   "source": [
    "## Data Types\n",
    "A data type is used by a programming language to understand how to store and manipulate data.\n",
    "- `int` : Integer number, eg: 10, 12\n",
    "- `float` : Floating point number, eg: 100.2, 3.1415\n",
    "- `bool` : True/False value\n",
    "- `object` : Text, non-numeric, or a combination of text and non-numeric values, eg: Apple(It is `str` of Python)\n",
    "- `DateTime` : Date and time values\n",
    "- `category` : A finite list of values"
   ]
  },
  {
   "cell_type": "code",
   "execution_count": null,
   "id": "4ddb38f2",
   "metadata": {},
   "outputs": [],
   "source": []
  },
  {
   "cell_type": "markdown",
   "id": "092dbfa8",
   "metadata": {},
   "source": [
    "## What does Pandas deal with?\n",
    "There are two major categories of data that you can come across while doing data analysis.\n",
    "\n",
    "- One dimensional data (Series)\n",
    "- Two-dimensional data (DataFrame)\n",
    "\n",
    "These data can be of any data type. Character, number or even an object.\n",
    "\n",
    "> **Series in Pandas is one-dimensional data, and data frames are 2-dimensional data. A series can hold only a single data type, whereas a data frame is meant to contain more than one data type.**\n",
    "\n",
    "![](images/dataframe.webp)"
   ]
  },
  {
   "cell_type": "code",
   "execution_count": null,
   "id": "de40250f",
   "metadata": {},
   "outputs": [],
   "source": []
  },
  {
   "cell_type": "markdown",
   "id": "f6983313",
   "metadata": {},
   "source": [
    "**In the example shown above, `Name` is a `series` and it is of the datatype – `Object` and it is treated as a character array. `Age` is another series and it is of the type – `Integer`. Third is the `Marks` is the third series and it is of the type `Integer` again.  The individual Series are one dimensional and hold only one data type. However, the `dataframe` as a whole contains more than 2 data-types and is `heterogeneous` in nature.**"
   ]
  },
  {
   "cell_type": "code",
   "execution_count": null,
   "id": "ebdc5823",
   "metadata": {},
   "outputs": [],
   "source": []
  },
  {
   "cell_type": "markdown",
   "id": "e5a267b9",
   "metadata": {},
   "source": [
    "# Creating Series & data frames in python"
   ]
  },
  {
   "cell_type": "markdown",
   "id": "466edb52",
   "metadata": {},
   "source": [
    "## Creating a simple Serie\n",
    "\n",
    "\n",
    "<img align=\"right\" width=\"500\" height=\"600\"  src=\"images/series-anatomy.png\"  >\n",
    "\n",
    "> **A Series is a one-dimensional array capable of holding a sequence of values of any data type (integers, floating point numbers, strings, Python objects etc) which by default have numeric data labels starting from zero. You can imagine a Pandas Series as a column in a spreadsheet or a Pandas Dataframe object.**\n",
    "- To create a Series object you can use `pd.Series()` method\n",
    "\n",
    "**```pd.Series(data, index, dtype, name)```**\n",
    "- Where,\n",
    "   - `data`: can be a Python list, Python dictionary, numPy array, or a scalar value.\n",
    "   - `index`: If you donot pass the index argument, it will default to `np.arrange(n)`. Indices must be hashable (numbers or strings) and have the same length as `data`. Non-unique index values are allowed. Index is used for three purposes:\n",
    "       - Identification.\n",
    "       - Selection.\n",
    "       - Alignment.\n",
    "   - `dtype`: Optionally, you can assign any valid numpy datatype to the series object (np.sctypes). If not specified, this will be inferred from `data`.\n",
    "   - `name`: Optionally, you can assign a name to a series, which becomes attribute of the series object. Moreover, it becomes the column name, if that series object is used to create a dataframe later."
   ]
  },
  {
   "cell_type": "code",
   "execution_count": 2,
   "id": "6bc5e675",
   "metadata": {},
   "outputs": [],
   "source": [
    "import pandas as pd\n",
    "import numpy as np"
   ]
  },
  {
   "cell_type": "code",
   "execution_count": 3,
   "id": "2ae19831",
   "metadata": {},
   "outputs": [
    {
     "data": {
      "text/plain": [
       "('1.5.3', ['/home/dell/.local/lib/python3.8/site-packages/pandas'])"
      ]
     },
     "execution_count": 3,
     "metadata": {},
     "output_type": "execute_result"
    }
   ],
   "source": [
    "pd.__version__, pd.__path__"
   ]
  },
  {
   "cell_type": "code",
   "execution_count": null,
   "id": "5230e8b7",
   "metadata": {},
   "outputs": [],
   "source": []
  },
  {
   "cell_type": "code",
   "execution_count": null,
   "id": "bffe886b",
   "metadata": {},
   "outputs": [],
   "source": []
  },
  {
   "cell_type": "markdown",
   "id": "499bb65b",
   "metadata": {},
   "source": [
    "### a. Creating a Series from Python List"
   ]
  },
  {
   "cell_type": "code",
   "execution_count": null,
   "id": "b40266a0",
   "metadata": {},
   "outputs": [],
   "source": [
    "list1 = ['Ehtisham', 'Ali', 'Ayesha', '','Dua']  # note the empty string\n",
    "\n",
    "# When index is not provided, it creates an index for the data starting from zero and with a step size of one.\n",
    "s = pd.Series(data=list1)"
   ]
  },
  {
   "cell_type": "code",
   "execution_count": null,
   "id": "c497f2d7",
   "metadata": {},
   "outputs": [],
   "source": []
  },
  {
   "cell_type": "code",
   "execution_count": null,
   "id": "5f4c56ec",
   "metadata": {
    "scrolled": false
   },
   "outputs": [],
   "source": [
    "print(s)\n",
    "\n",
    "print()\n",
    "print()\n",
    "\n",
    "print(type(s))"
   ]
  },
  {
   "cell_type": "code",
   "execution_count": null,
   "id": "062d0597",
   "metadata": {},
   "outputs": [],
   "source": []
  },
  {
   "cell_type": "code",
   "execution_count": null,
   "id": "7c67204e",
   "metadata": {},
   "outputs": [],
   "source": []
  },
  {
   "cell_type": "markdown",
   "id": "d3e20229",
   "metadata": {},
   "source": [
    "> Observe that output is shown in two columns - the `index` is on the left and the `data value` is on the right. If we do not explicitly specify an index for the data values while creating a series, then by default indices range from `0` through `N – 1`. Here N is the number of data elements."
   ]
  },
  {
   "cell_type": "code",
   "execution_count": null,
   "id": "9f68b32a",
   "metadata": {},
   "outputs": [],
   "source": []
  },
  {
   "cell_type": "markdown",
   "id": "5c5d8f6f",
   "metadata": {},
   "source": [
    "**You can explicitly specify the index for a Series object, which can be either int or string type, and must be of the same size as the values in the series. Otherwise, it will raise a ValueError**"
   ]
  },
  {
   "cell_type": "code",
   "execution_count": null,
   "id": "c595cce8",
   "metadata": {},
   "outputs": [],
   "source": [
    "list1 = ['Ehtisham', 'Ali', 'Ayesha', 'Dua']\n",
    "indices = ['01', '02', '', '02']   # non-unique index values are allowed and you can have empty string as index\n",
    "\n",
    "s = pd.Series(data=list1, index=indices)"
   ]
  },
  {
   "cell_type": "code",
   "execution_count": null,
   "id": "6e5945f4",
   "metadata": {},
   "outputs": [],
   "source": [
    "print(s)"
   ]
  },
  {
   "cell_type": "code",
   "execution_count": null,
   "id": "d42720de",
   "metadata": {},
   "outputs": [],
   "source": [
    "print(type(s))"
   ]
  },
  {
   "cell_type": "code",
   "execution_count": null,
   "id": "718a8fe3",
   "metadata": {},
   "outputs": [],
   "source": [
    "s['02']"
   ]
  },
  {
   "cell_type": "markdown",
   "id": "58eb2a6b",
   "metadata": {},
   "source": [
    "> Also note that non-unique indices are allowed."
   ]
  },
  {
   "cell_type": "code",
   "execution_count": null,
   "id": "cac70c8a",
   "metadata": {},
   "outputs": [],
   "source": []
  },
  {
   "cell_type": "code",
   "execution_count": null,
   "id": "828c577e",
   "metadata": {},
   "outputs": [],
   "source": [
    "list1 = ['Ehtisham', 'Ali', 'Ayesha', 'Dua']\n",
    "indices = [2.1, 2.2, 2.3, 2.4,]   \n",
    "\n",
    "s = pd.Series(data=list1, index=indices)"
   ]
  },
  {
   "cell_type": "code",
   "execution_count": null,
   "id": "b772d554",
   "metadata": {},
   "outputs": [],
   "source": [
    "print(s)\n",
    "print()\n",
    "print()\n",
    "\n",
    "print(type(s))"
   ]
  },
  {
   "cell_type": "code",
   "execution_count": null,
   "id": "092569bf",
   "metadata": {},
   "outputs": [],
   "source": []
  },
  {
   "cell_type": "code",
   "execution_count": null,
   "id": "e8e156db",
   "metadata": {},
   "outputs": [],
   "source": []
  },
  {
   "cell_type": "code",
   "execution_count": null,
   "id": "ebffc518",
   "metadata": {},
   "outputs": [],
   "source": []
  },
  {
   "cell_type": "code",
   "execution_count": null,
   "id": "20953373",
   "metadata": {},
   "outputs": [],
   "source": []
  },
  {
   "cell_type": "markdown",
   "id": "994e36fa",
   "metadata": {},
   "source": [
    "**You can create a series with NaN values, using `np.nan`, which is IEEE 754 floating-point representation of Not a Number. NaN values can act as a placeholder for any missing numerical values in the array.**"
   ]
  },
  {
   "cell_type": "code",
   "execution_count": null,
   "id": "2b2df858",
   "metadata": {},
   "outputs": [],
   "source": []
  },
  {
   "cell_type": "code",
   "execution_count": null,
   "id": "262257df",
   "metadata": {},
   "outputs": [],
   "source": [
    "list1 = [1, 2.7, np.nan, 54]\n",
    "\n",
    "\n",
    "s = pd.Series(data=list1)"
   ]
  },
  {
   "cell_type": "code",
   "execution_count": null,
   "id": "9dd089ce",
   "metadata": {},
   "outputs": [],
   "source": [
    "print(s)\n",
    "print(type(s))"
   ]
  },
  {
   "cell_type": "markdown",
   "id": "bd141c94",
   "metadata": {},
   "source": [
    "> Also note the `dtype` of the series object is inferred from the data as `float64`."
   ]
  },
  {
   "cell_type": "markdown",
   "id": "15013374",
   "metadata": {},
   "source": [
    "**You can use the `dtype` argument to specify a datatype to the series object.**\n"
   ]
  },
  {
   "cell_type": "code",
   "execution_count": null,
   "id": "5285f3f6",
   "metadata": {},
   "outputs": [],
   "source": [
    "list1 = [27, 33, 19]\n",
    "\n",
    "s = pd.Series(data=list1, dtype=np.int8)"
   ]
  },
  {
   "cell_type": "code",
   "execution_count": null,
   "id": "4bad1e42",
   "metadata": {},
   "outputs": [],
   "source": [
    "print(s)\n",
    "print(type(s))"
   ]
  },
  {
   "cell_type": "code",
   "execution_count": null,
   "id": "1dd465dc",
   "metadata": {},
   "outputs": [],
   "source": []
  },
  {
   "cell_type": "markdown",
   "id": "f6f4fe88",
   "metadata": {},
   "source": [
    "**Optionally, you can assign a name to a series, which becomes attribute of the series object. Moreover, it becomes the column name, if that series object is used to create a dataframe later.**"
   ]
  },
  {
   "cell_type": "code",
   "execution_count": null,
   "id": "df962ef6",
   "metadata": {},
   "outputs": [],
   "source": [
    "list1 = ['Ehtisham', 'Ali', 'Ayesha', 'Dua']\n",
    "\n",
    "indices = ['01', '02', '03', '04']\n",
    "\n",
    "s = pd.Series(data=list1, index=indices, name='myseries1') \n"
   ]
  },
  {
   "cell_type": "code",
   "execution_count": null,
   "id": "9909358b",
   "metadata": {},
   "outputs": [],
   "source": [
    "print(s)\n",
    "print(type(s))"
   ]
  },
  {
   "cell_type": "code",
   "execution_count": null,
   "id": "458c87fc",
   "metadata": {},
   "outputs": [],
   "source": [
    "s.name"
   ]
  },
  {
   "cell_type": "code",
   "execution_count": null,
   "id": "b3df897b",
   "metadata": {},
   "outputs": [],
   "source": []
  },
  {
   "cell_type": "markdown",
   "id": "4cb03fa6",
   "metadata": {},
   "source": [
    "### b. Creating a Series from NumPy Array"
   ]
  },
  {
   "cell_type": "code",
   "execution_count": null,
   "id": "04fabcbe",
   "metadata": {},
   "outputs": [],
   "source": [
    "s = pd.Series(data = np.arange(4))"
   ]
  },
  {
   "cell_type": "code",
   "execution_count": null,
   "id": "898072ff",
   "metadata": {},
   "outputs": [],
   "source": [
    "print(s)\n",
    "print(type(s))"
   ]
  },
  {
   "cell_type": "code",
   "execution_count": null,
   "id": "5d980c09",
   "metadata": {},
   "outputs": [],
   "source": []
  },
  {
   "cell_type": "markdown",
   "id": "decbafdc",
   "metadata": {},
   "source": [
    "### c. Creating a Series from Python Dictionary"
   ]
  },
  {
   "cell_type": "code",
   "execution_count": null,
   "id": "8b9895dc",
   "metadata": {},
   "outputs": [],
   "source": [
    "my_dict = {\n",
    "    'name':\"Ehtisham\", \n",
    "    'gender':\"Male\", \n",
    "    'Role':\"Student\", \n",
    "    'subject':\"Cloud Computing\"\n",
    "}\n",
    "\n",
    "\n",
    "s = pd.Series(data=my_dict)"
   ]
  },
  {
   "cell_type": "code",
   "execution_count": null,
   "id": "11f3a753",
   "metadata": {},
   "outputs": [],
   "source": [
    "print(s)\n",
    "print()\n",
    "print(type(s))"
   ]
  },
  {
   "cell_type": "code",
   "execution_count": null,
   "id": "0cbc74d4",
   "metadata": {},
   "outputs": [],
   "source": [
    "s['gender']"
   ]
  },
  {
   "cell_type": "code",
   "execution_count": null,
   "id": "ab73aadf",
   "metadata": {},
   "outputs": [],
   "source": []
  },
  {
   "cell_type": "markdown",
   "id": "7591b413",
   "metadata": {},
   "source": [
    "> **When you create a series from dictionary, it will automatically take the `keys` as index and the `values` as data**"
   ]
  },
  {
   "cell_type": "code",
   "execution_count": null,
   "id": "7d91179a",
   "metadata": {},
   "outputs": [],
   "source": []
  },
  {
   "cell_type": "markdown",
   "id": "ee73b0eb",
   "metadata": {},
   "source": [
    "### d. Creating a Series from Scalar value"
   ]
  },
  {
   "cell_type": "code",
   "execution_count": null,
   "id": "f339f09e",
   "metadata": {},
   "outputs": [],
   "source": [
    "s = pd.Series(data=25)\n",
    "\n",
    "\n",
    "print(s)\n",
    "print(type(s))"
   ]
  },
  {
   "cell_type": "code",
   "execution_count": null,
   "id": "6de8ec6a",
   "metadata": {},
   "outputs": [],
   "source": []
  },
  {
   "cell_type": "markdown",
   "id": "fb55f92c",
   "metadata": {},
   "source": [
    "### e. Creating an Empty Series"
   ]
  },
  {
   "cell_type": "code",
   "execution_count": null,
   "id": "00dda843",
   "metadata": {},
   "outputs": [],
   "source": [
    "# Need to pass atleast `dtype` else you get a warning\n",
    "s = pd.Series(dtype=np.int8)\n",
    "\n",
    "print(s)\n",
    "print(type(s))"
   ]
  },
  {
   "cell_type": "code",
   "execution_count": null,
   "id": "1936d196",
   "metadata": {},
   "outputs": [],
   "source": []
  },
  {
   "cell_type": "markdown",
   "id": "03566f7a",
   "metadata": {},
   "source": [
    "## Attributes of Pandas  Series\n",
    "\n",
    "- We can access certain properties called attributes of a series by using that property with the series name using dot `.` notation\n",
    "- Mostly attributes of pandas series are similar to pandas dataframe."
   ]
  },
  {
   "cell_type": "code",
   "execution_count": null,
   "id": "75eec24f",
   "metadata": {},
   "outputs": [],
   "source": [
    "my_dict = {\n",
    "        0:\"Ehtisham Sadiq\", \n",
    "        1:np.nan, \n",
    "        2:\"Ali Sadiq\", \n",
    "        3:\"Ayesha Sadiq\", \n",
    "        4:\"Dua Sadiq\", \n",
    "        5:\"Khubaib Sadiq\", \n",
    "        6:\"Adeen Sadiq\"\n",
    "    }\n",
    "\n",
    "s = pd.Series(my_dict, name=\"myseries1\")\n",
    "s"
   ]
  },
  {
   "cell_type": "code",
   "execution_count": null,
   "id": "31e3b192",
   "metadata": {},
   "outputs": [],
   "source": [
    "# `name` attribute of a series object return the name of the series object\n",
    "s.name"
   ]
  },
  {
   "cell_type": "code",
   "execution_count": null,
   "id": "b3a70dd9",
   "metadata": {},
   "outputs": [],
   "source": [
    "# `index` attribute of a series object return the list of indices and its datatype\n",
    "s.index"
   ]
  },
  {
   "cell_type": "code",
   "execution_count": null,
   "id": "16d495d6",
   "metadata": {},
   "outputs": [],
   "source": [
    "# `values` attribute of a series object return the list of values and its datatype\n",
    "s.values"
   ]
  },
  {
   "cell_type": "code",
   "execution_count": null,
   "id": "861a0b36",
   "metadata": {},
   "outputs": [],
   "source": [
    "# `dtype` attribute of a series object return the type of underlying data\n",
    "s.dtype"
   ]
  },
  {
   "cell_type": "code",
   "execution_count": null,
   "id": "7ac355d0",
   "metadata": {},
   "outputs": [],
   "source": [
    "# `shape` attribute of a series object return a tuple of shape of underlying data\n",
    "s.shape"
   ]
  },
  {
   "cell_type": "code",
   "execution_count": null,
   "id": "cb527404",
   "metadata": {},
   "outputs": [],
   "source": [
    "# `nbytes` attribute of a series object return the number of bytes of underlying data (object data type take 8 bytes)\n",
    "s.nbytes"
   ]
  },
  {
   "cell_type": "code",
   "execution_count": null,
   "id": "7540e822",
   "metadata": {},
   "outputs": [],
   "source": [
    "# `size` attribute of a series object return number of elements in the underlying data\n",
    "s.size"
   ]
  },
  {
   "cell_type": "code",
   "execution_count": null,
   "id": "d77545f9",
   "metadata": {},
   "outputs": [],
   "source": [
    "# `ndim` attribute of a series object return number of dimensions of underlying data\n",
    "s.ndim"
   ]
  },
  {
   "cell_type": "code",
   "execution_count": null,
   "id": "afa6f816",
   "metadata": {},
   "outputs": [],
   "source": [
    "# `hasnans` attribute of a series object return true if there are NaN values in the data\n",
    "s.hasnans"
   ]
  },
  {
   "cell_type": "code",
   "execution_count": null,
   "id": "e781cc20",
   "metadata": {},
   "outputs": [],
   "source": []
  },
  {
   "cell_type": "code",
   "execution_count": null,
   "id": "de967aa2",
   "metadata": {},
   "outputs": [],
   "source": []
  },
  {
   "cell_type": "markdown",
   "id": "513e1e76",
   "metadata": {},
   "source": [
    "<img align=\"right\" width=\"500\" height=\"500\"  src=\"images/series-anatomy.png\"  >\n",
    "\n",
    "## Understanding Index in a Series\n",
    "- Every series object has an index associated with every item. \n",
    "- The Pandas series object supports both integer-based (default) and label/string-based indexing and provides a host of methods for performing operations involving the index.\n",
    "<br><br>\n",
    "\n",
    "- Index in series object is used for three purposes:\n",
    "    - Identification\n",
    "    - Selection/Filtering/Subsetting\n",
    "    - Alignment <br><br>\n",
    "    \n",
    "- There are three ways to access elements of a series:\n",
    "    - Using `s[]` operator and specifying the index (integer/label)\n",
    "    - Using `s.loc[]` method and specifying the index (integer/label)\n",
    "    - Using `s.iloc[]` method and specify the position (an integer value from 0 to length-1). It also support negative indexing, the last element can be accessed by an index of -1"
   ]
  },
  {
   "cell_type": "code",
   "execution_count": null,
   "id": "06c13589",
   "metadata": {},
   "outputs": [],
   "source": [
    "# simple example of indexing on list\n",
    "\n",
    "list1 =  [\"s1\", \"s2\", \"s3\", \"s4\", \"s5\"]"
   ]
  },
  {
   "cell_type": "code",
   "execution_count": null,
   "id": "6dc6d2b1",
   "metadata": {},
   "outputs": [],
   "source": [
    "list1"
   ]
  },
  {
   "cell_type": "code",
   "execution_count": null,
   "id": "3efd2cc8",
   "metadata": {},
   "outputs": [],
   "source": [
    "list1[2]"
   ]
  },
  {
   "cell_type": "code",
   "execution_count": null,
   "id": "a3c0047d",
   "metadata": {},
   "outputs": [],
   "source": []
  },
  {
   "cell_type": "code",
   "execution_count": null,
   "id": "eb605c06",
   "metadata": {},
   "outputs": [],
   "source": []
  },
  {
   "cell_type": "markdown",
   "id": "644b79a2",
   "metadata": {},
   "source": [
    "### Working with Position Indexing "
   ]
  },
  {
   "cell_type": "code",
   "execution_count": null,
   "id": "ed32c28c",
   "metadata": {},
   "outputs": [],
   "source": [
    "list1 = [1,3,5,7,9] \n",
    "s1 = pd.Series(data=list1)\n",
    "s1"
   ]
  },
  {
   "cell_type": "code",
   "execution_count": null,
   "id": "726ae076",
   "metadata": {},
   "outputs": [],
   "source": [
    "s1[1:3]"
   ]
  },
  {
   "cell_type": "code",
   "execution_count": null,
   "id": "ddb797ae",
   "metadata": {},
   "outputs": [],
   "source": []
  },
  {
   "cell_type": "markdown",
   "id": "55e0ee09",
   "metadata": {},
   "source": [
    "### Working with Label Indexing "
   ]
  },
  {
   "cell_type": "code",
   "execution_count": null,
   "id": "6546df2c",
   "metadata": {},
   "outputs": [],
   "source": [
    "# Here write your code \n",
    "\n",
    "list1 = [1,3,5,7,9]\n",
    "\n",
    "indices = [\"s1\", \"s2\", \"s3\", \"s4\", \"s5\"]\n",
    "\n",
    "s1 = pd.Series(list1, index=indices, name=\"myseries\")"
   ]
  },
  {
   "cell_type": "code",
   "execution_count": null,
   "id": "52f71a54",
   "metadata": {},
   "outputs": [],
   "source": [
    "s1"
   ]
  },
  {
   "cell_type": "code",
   "execution_count": null,
   "id": "036809fd",
   "metadata": {},
   "outputs": [],
   "source": [
    "s1.values"
   ]
  },
  {
   "cell_type": "code",
   "execution_count": null,
   "id": "0ad4250a",
   "metadata": {},
   "outputs": [],
   "source": [
    "s1.index"
   ]
  },
  {
   "cell_type": "code",
   "execution_count": null,
   "id": "917a847f",
   "metadata": {},
   "outputs": [],
   "source": [
    "s1[\"s3\"]"
   ]
  },
  {
   "cell_type": "code",
   "execution_count": null,
   "id": "7ba971c7",
   "metadata": {},
   "outputs": [],
   "source": [
    "# Label/string based index\n",
    "\n",
    "s1.loc[[\"s3\", \"s4\"]]"
   ]
  },
  {
   "cell_type": "code",
   "execution_count": null,
   "id": "f69bec4d",
   "metadata": {},
   "outputs": [],
   "source": [
    "# Position based Index\n",
    "s1.iloc[2:4]"
   ]
  },
  {
   "cell_type": "code",
   "execution_count": null,
   "id": "b106d8e9",
   "metadata": {},
   "outputs": [],
   "source": []
  },
  {
   "cell_type": "markdown",
   "id": "89f7942c",
   "metadata": {},
   "source": [
    "## Arithmetic Operations on Series"
   ]
  },
  {
   "cell_type": "markdown",
   "id": "52697924",
   "metadata": {},
   "source": [
    "**Example 1:** Adding two series object with same integer indices"
   ]
  },
  {
   "cell_type": "code",
   "execution_count": null,
   "id": "791bf827",
   "metadata": {},
   "outputs": [],
   "source": [
    "list1 = [1,3,5,7,9] \n",
    "list2 = [2,4,6,8,10]\n",
    "\n",
    "s1 = pd.Series(data=list1)\n",
    "s2 = pd.Series(data=list2)"
   ]
  },
  {
   "cell_type": "code",
   "execution_count": null,
   "id": "77f81c2f",
   "metadata": {},
   "outputs": [],
   "source": [
    "print(s1)\n",
    "print(s1.index)"
   ]
  },
  {
   "cell_type": "code",
   "execution_count": null,
   "id": "a280ea3b",
   "metadata": {},
   "outputs": [],
   "source": [
    "print(s2)\n",
    "print(s2.index)"
   ]
  },
  {
   "cell_type": "code",
   "execution_count": null,
   "id": "978891f1",
   "metadata": {},
   "outputs": [],
   "source": [
    "s3 = s1 + s2\n",
    "\n",
    "print(s3)\n",
    "print(s3.index)"
   ]
  },
  {
   "cell_type": "code",
   "execution_count": null,
   "id": "cda19315",
   "metadata": {},
   "outputs": [],
   "source": []
  },
  {
   "cell_type": "markdown",
   "id": "bb0dbca3",
   "metadata": {},
   "source": [
    "**Example 2:** Adding two series object having different integer indices."
   ]
  },
  {
   "cell_type": "code",
   "execution_count": null,
   "id": "8293cbd6",
   "metadata": {},
   "outputs": [],
   "source": [
    "# First Series\n",
    "list1 = [6,9,7,5]\n",
    "index1 = [0,1,2,3]\n",
    "s1 = pd.Series(data=list1, index=index1);\n",
    "\n",
    "# Second Series\n",
    "list2 = [8,6,2,1]\n",
    "index2 = [0,2,3,5]\n",
    "s2 = pd.Series(data=list2, index=index2);"
   ]
  },
  {
   "cell_type": "code",
   "execution_count": null,
   "id": "89a4653a",
   "metadata": {},
   "outputs": [],
   "source": [
    "print(s1)\n",
    "print(s1.index)"
   ]
  },
  {
   "cell_type": "code",
   "execution_count": null,
   "id": "aca367d6",
   "metadata": {},
   "outputs": [],
   "source": [
    "print(s2)\n",
    "print(s2.index)"
   ]
  },
  {
   "cell_type": "code",
   "execution_count": null,
   "id": "bb9341bf",
   "metadata": {},
   "outputs": [],
   "source": [
    "s3 = s1 + s2\n",
    "print(s3)\n",
    "print(s3.index)"
   ]
  },
  {
   "cell_type": "markdown",
   "id": "20a761b8",
   "metadata": {},
   "source": [
    "**Problem:** While performing mathematical operations on series having mismatched indices, all missing values are filled in with NaN by default."
   ]
  },
  {
   "cell_type": "markdown",
   "id": "427f9bdb",
   "metadata": {},
   "source": [
    "**Solution:** To handle this problem, instead of using the operators (`+, -, *, /`), an explicit call to `s.add()`, `s.sub()`, `s.mul()` and `s.div()` is preferred. This allows us to replace the missing values in any of the series witth a specific value, so as to have a concrete output in place of NaN"
   ]
  },
  {
   "cell_type": "code",
   "execution_count": null,
   "id": "7999776a",
   "metadata": {},
   "outputs": [],
   "source": [
    "s1.add(s2, fill_value=0) # Compare it with above result"
   ]
  },
  {
   "cell_type": "code",
   "execution_count": null,
   "id": "d62b7e71",
   "metadata": {},
   "outputs": [],
   "source": []
  },
  {
   "cell_type": "markdown",
   "id": "dc8c1503",
   "metadata": {},
   "source": [
    "**My dear fellows, please make time to practice following topics related to Series:**\n",
    "\n",
    "- Boolean/Fancy Indexing and Slicing\n",
    "- Use of `reset_index()` method for completely resetting the index\n",
    "- Use of other manipulation methods like \n",
    "    - `s.pop(index)` is passed an index and it returns the data item at the index and removes it from series\n",
    "    - `s.drop(indexes)` is passed one or a list of indices and returns a series of the data items. Series remains unchanged unless the inplace = True argument is passed\n",
    "    - `s1.append(s2, ignore_index=False, verify_integrity=False)` is used to concatenate two series and return the concatenated series, original series remain unchanged\n",
    "    - `s1.update(s2)` is used to miduft the series `s1` inplace using the values from passed series\n",
    "\n",
    "> **We will discuss these while studying Pandas Dataframe object In Shaa Allah**"
   ]
  },
  {
   "cell_type": "code",
   "execution_count": null,
   "id": "291f5358",
   "metadata": {},
   "outputs": [],
   "source": []
  },
  {
   "cell_type": "code",
   "execution_count": null,
   "id": "b3993db6",
   "metadata": {},
   "outputs": [],
   "source": []
  },
  {
   "cell_type": "markdown",
   "id": "a7d8347d",
   "metadata": {},
   "source": [
    "### Pandas Series vs NumPy 1-D Arrays\n",
    "\n",
    ">- In a series object we can define our own labeled index to access elements of an array. These can be numbers or strings. NumPy arrays are accessed  by their integer position using numbers only.\n",
    ">- In a series object the elements can be indexed in descending order also. In NumPy arrays, the indexing starts with zero for the first element and the index is fixed.\n",
    ">- While performing arithmetic operations on series having misaligned indices, NaN or missing values may be generated. In NumPy arrays, the concept of broadcasting exist and there is no concept of NaN values. While performing arithmetic on incompatible numPy arrays the operation fails.\n",
    ">- Series require more memory. NumPy arrays occupies lesser memory.\n",
    "    \n",
    "    "
   ]
  },
  {
   "cell_type": "code",
   "execution_count": null,
   "id": "0c8417c4",
   "metadata": {},
   "outputs": [],
   "source": []
  },
  {
   "cell_type": "markdown",
   "id": "d6fd160b",
   "metadata": {},
   "source": [
    "## Practice Questions:\n",
    "- Write a Pandas program to convert a Pandan module Series to Python list and it’s type.\n",
    "- Write a Pandas program to add, subtract, multiple and divide two Pandas Series having same indices.\n",
    "- Write a Pandas program to compare the elements of the two Pandas Series.(Hint : pd.eq / pd.equals)\n",
    "- Write a Pandas program to change the data type of given a column or a Series.\n",
    "- Write a Pandas program to convert a given Series to an array(Hint : series.values.tolist())\n",
    "- Write a Pandas program to sort a given Series.\n",
    "- Write a Pandas program to add some data to an existing Series.(Hint : series.append()) \n",
    "- Write a Pandas program to create the mean and standard deviation of the data of a given Series.\n",
    "- Write a Pandas program to get the items of a given series not present in another given series.(series.isin())"
   ]
  },
  {
   "cell_type": "code",
   "execution_count": null,
   "id": "2261edc0",
   "metadata": {},
   "outputs": [],
   "source": []
  },
  {
   "cell_type": "code",
   "execution_count": null,
   "id": "f910b2d1",
   "metadata": {},
   "outputs": [],
   "source": []
  },
  {
   "cell_type": "code",
   "execution_count": null,
   "id": "fd51e947",
   "metadata": {},
   "outputs": [],
   "source": []
  },
  {
   "cell_type": "markdown",
   "id": "b3b3bd0f",
   "metadata": {},
   "source": [
    "\n",
    "<img align=\"right\" width=\"500\" height=\"500\"  src=\"images/dataframe.webp\">\n",
    "\n",
    "\n",
    "## 1. Creating a Dataframe\n",
    "<br><br>\n",
    ">**A Pandas Dataframe is a two-dimensional labeled data structure (like SQL table) with heterogeneously typed columns, having both a row and a column index.**\n",
    "\n",
    "<br><br><br><br>\n",
    "\n",
    "**```pd.DataFrame(data=None, index=None, columns=None, dtype=None)```**\n",
    "- Where,\n",
    "   - `data`: It can be a 2-D NumPy Array, a Dictionary of Python Lists, or a Dictionary of Panda Series (You can also create a dataframe from a file in CSV, Excel, JSON, HTML format or may be from a database table as well).\n",
    "   - `index`: These are the row indices. Will default to RangeIndex (0, 1, 2, ..., n), if index argument is not passed and no indexing information is part of input data.\n",
    "   - `columns`: These are the column indices or labels. Will default to RangeIndex (0, 1, 2, ..., n), if index argument is not passed and no indexing information is part of input data.\n",
    "   - `dtype`: Data type to force. Only a single dtype is allowed. If None, infer."
   ]
  },
  {
   "cell_type": "markdown",
   "id": "8d70f844",
   "metadata": {},
   "source": [
    "### Creating a Dataframe\n",
    "- An empty dataframe\n",
    "- Two-dimensional NumPy Arrays\n",
    "- Dictionary of Python Lists\n",
    "- Dictionary of Pandas Series\n",
    "- **Attributes of Dataframe**"
   ]
  },
  {
   "cell_type": "markdown",
   "id": "51ed531c",
   "metadata": {},
   "source": [
    "#### An empty dataframe"
   ]
  },
  {
   "cell_type": "code",
   "execution_count": null,
   "id": "0f10c75e",
   "metadata": {},
   "outputs": [],
   "source": [
    "import pandas as pd\n",
    "import numpy as np\n",
    "df = pd.DataFrame()\n",
    "print(df)"
   ]
  },
  {
   "cell_type": "code",
   "execution_count": null,
   "id": "9b6754b5",
   "metadata": {},
   "outputs": [],
   "source": []
  },
  {
   "cell_type": "markdown",
   "id": "d2eed681",
   "metadata": {},
   "source": [
    "#### Dataframe from 2D NumPy Arrays"
   ]
  },
  {
   "cell_type": "code",
   "execution_count": null,
   "id": "fb64f39c",
   "metadata": {},
   "outputs": [],
   "source": [
    "arr = np.random.randint(10,100, size=(6,5))\n",
    "arr"
   ]
  },
  {
   "cell_type": "code",
   "execution_count": null,
   "id": "0cc0914e",
   "metadata": {},
   "outputs": [],
   "source": [
    "df = pd.DataFrame(arr)\n",
    "print(\"Dataframe from 2D NumPy Array !\")\n",
    "df"
   ]
  },
  {
   "cell_type": "code",
   "execution_count": null,
   "id": "2d7cdb32",
   "metadata": {},
   "outputs": [],
   "source": [
    "# create column labels \n",
    "col_labels = ['col1','col2','col3','col4', 'col5']\n",
    "df = pd.DataFrame(arr, columns=col_labels, )\n",
    "df"
   ]
  },
  {
   "cell_type": "markdown",
   "id": "d1ad386a",
   "metadata": {},
   "source": [
    "> **Note:** use `index` parameter to change row labels."
   ]
  },
  {
   "cell_type": "code",
   "execution_count": null,
   "id": "3b058c65",
   "metadata": {},
   "outputs": [],
   "source": [
    "# df.columns returns all the columns name/labels\n",
    "df.columns"
   ]
  },
  {
   "cell_type": "code",
   "execution_count": null,
   "id": "7bd81de2",
   "metadata": {},
   "outputs": [],
   "source": [
    "# retuns all row labels\n",
    "df.index"
   ]
  },
  {
   "cell_type": "code",
   "execution_count": null,
   "id": "7d87747f",
   "metadata": {},
   "outputs": [],
   "source": []
  },
  {
   "cell_type": "markdown",
   "id": "9924f6ec",
   "metadata": {},
   "source": [
    "### Bonus"
   ]
  },
  {
   "cell_type": "code",
   "execution_count": null,
   "id": "5e948f52",
   "metadata": {},
   "outputs": [],
   "source": [
    "df.columns = df.columns.str.upper()\n",
    "df"
   ]
  },
  {
   "cell_type": "code",
   "execution_count": null,
   "id": "ea2c41e2",
   "metadata": {},
   "outputs": [],
   "source": []
  },
  {
   "cell_type": "markdown",
   "id": "04edbca6",
   "metadata": {},
   "source": [
    "#### Creating a dataframe from a Dictionary of Python Lists"
   ]
  },
  {
   "cell_type": "code",
   "execution_count": null,
   "id": "8a66ce1f",
   "metadata": {},
   "outputs": [],
   "source": [
    "# A dictionary of Python lists\n",
    "people = {\n",
    "    'name': ['Ehtisham','Ali','Ayesha','Dua','Adeen'],\n",
    "    'age' : [23, 20, 17, 7, 3],\n",
    "    'marks' : [70,80,60,90,94]\n",
    "}\n",
    "people"
   ]
  },
  {
   "cell_type": "code",
   "execution_count": null,
   "id": "6002987d",
   "metadata": {},
   "outputs": [],
   "source": [
    "df = pd.DataFrame(people)\n",
    "print(\"dataframe from dictionary of python lists\")\n",
    "df"
   ]
  },
  {
   "cell_type": "code",
   "execution_count": null,
   "id": "df1e3cc9",
   "metadata": {},
   "outputs": [],
   "source": [
    "df.columns = df.columns.str.upper()\n",
    "df"
   ]
  },
  {
   "cell_type": "markdown",
   "id": "f8053c7c",
   "metadata": {},
   "source": [
    "**error while creating a dataframe from dictionary of Python lists**"
   ]
  },
  {
   "cell_type": "code",
   "execution_count": null,
   "id": "02e36b5f",
   "metadata": {},
   "outputs": [],
   "source": [
    "# # A dictionary of Python lists\n",
    "# people = {\n",
    "#     'name': ['Ehtisham','Ali','Ayesha','Dua','Adeen', 'Khubaib'],\n",
    "#     'age' : [23, 20, 17, 7, 3],\n",
    "#     'marks' : [70,80,60,90,94]\n",
    "# }\n",
    "# df = pd.DataFrame(people)\n",
    "# df"
   ]
  },
  {
   "cell_type": "code",
   "execution_count": null,
   "id": "550a70e2",
   "metadata": {},
   "outputs": [],
   "source": []
  },
  {
   "cell_type": "markdown",
   "id": "d15c7058",
   "metadata": {},
   "source": [
    "#### Creating a dataframe from pandas series"
   ]
  },
  {
   "cell_type": "code",
   "execution_count": null,
   "id": "eda1d0f8",
   "metadata": {},
   "outputs": [],
   "source": [
    "name = ['Ehtisham', 'Ali', 'Ayesha', 'Dua']\n",
    "marks = [91.5,93,80,65]\n",
    "age = [21,18,16,6]\n",
    "\n",
    "#Creating a Series by passing list variable to Series() function of pandas \n",
    "name_ser = pd.Series(name)\n",
    "marks_ser = pd.Series(marks)\n",
    "age_ser = pd.Series(age)\n",
    "\n",
    "#Printing Series\n",
    "print(\"Name Series : \", name_ser, sep=\"\\n\")\n",
    "print(\"Marks Series : \", marks_ser, sep=\"\\n\")\n",
    "print(\"Age Series : \", age_ser,sep=\"\\n\")"
   ]
  },
  {
   "cell_type": "markdown",
   "id": "1ff6d90e",
   "metadata": {},
   "source": [
    "#### Creating Dataframe from multiple Series "
   ]
  },
  {
   "cell_type": "code",
   "execution_count": null,
   "id": "8e5d7c92",
   "metadata": {},
   "outputs": [],
   "source": [
    "#Creating a Series by passing list variable to Series() function of pandas \n",
    "name_ser = pd.Series(name)\n",
    "marks_ser = pd.Series(marks)\n",
    "age_ser = pd.Series(age)\n",
    "\n",
    "# Creating a Dictionary by passing series as values of dictionary\n",
    "dic = {\n",
    "    'Name':name_ser,\n",
    "    'Marks':marks_ser,\n",
    "    'Age':age_ser\n",
    "    }\n"
   ]
  },
  {
   "cell_type": "code",
   "execution_count": null,
   "id": "e1955dde",
   "metadata": {
    "scrolled": true
   },
   "outputs": [],
   "source": [
    "# Create dataframe by passing dictionary to pd.DataFrame function of pandas\n",
    "df = pd.DataFrame(dic)\n",
    "print(\"Printing of DataFrame .... \")\n",
    "df"
   ]
  },
  {
   "cell_type": "code",
   "execution_count": null,
   "id": "730e9e7b",
   "metadata": {},
   "outputs": [],
   "source": []
  },
  {
   "cell_type": "markdown",
   "id": "74dc200d",
   "metadata": {},
   "source": [
    "#### Dataframe containing NaN values"
   ]
  },
  {
   "cell_type": "code",
   "execution_count": null,
   "id": "b6908c2d",
   "metadata": {},
   "outputs": [],
   "source": [
    "# A dictionary of Python lists\n",
    "people = {\n",
    "    'name': ['Ehtisham','Ali','Ayesha','Dua','Adeen', \"\"],\n",
    "    'age' : [23, 20, 17, 7, 3, np.NaN],\n",
    "    'marks' : [70,80,60,np.NaN,90,94 ]\n",
    "}\n",
    "people"
   ]
  },
  {
   "cell_type": "code",
   "execution_count": null,
   "id": "cb004ac1",
   "metadata": {},
   "outputs": [],
   "source": [
    "df = pd.DataFrame(people)\n",
    "df"
   ]
  },
  {
   "cell_type": "code",
   "execution_count": null,
   "id": "9c587c31",
   "metadata": {},
   "outputs": [],
   "source": []
  },
  {
   "cell_type": "markdown",
   "id": "2b89482c",
   "metadata": {},
   "source": [
    "### Attributes of Pandas Dataframe\n",
    "- Like Series, we can access properties/attributes of a dataframe by using dot `.` notation"
   ]
  },
  {
   "cell_type": "code",
   "execution_count": 36,
   "id": "5157b310",
   "metadata": {},
   "outputs": [
    {
     "data": {
      "text/plain": [
       "{'name': ['Ehtisham', 'Ali', 'Ayesha', 'Dua', 'Khubaib', 'Adeen'],\n",
       " 'age': [21, 20, 18, 17, 12, 10],\n",
       " 'address': ['Lahore', 'Karachi', 'Lahore', 'Islamabad', 'Kakul', 'Karachi'],\n",
       " 'cell': ['321-123', '320-431', '321-478', '324-446', '321-967', '320-678'],\n",
       " 'bg': ['B+', 'A-', 'B+', 'O-', nan, 'B+']}"
      ]
     },
     "execution_count": 36,
     "metadata": {},
     "output_type": "execute_result"
    }
   ],
   "source": [
    "people = {\n",
    "    \"name\" : [\"Ehtisham\", \"Ali\", \"Ayesha\", \"Dua\", \"Khubaib\", \"Adeen\"],\n",
    "    \"age\" : [21, 20, 18, 17, 12, 10],\n",
    "    \"address\": [\"Lahore\", \"Karachi\", \"Lahore\", \"Islamabad\", \"Kakul\", \"Karachi\"],\n",
    "    \"cell\" : [\"321-123\", \"320-431\", \"321-478\", \"324-446\", \"321-967\", \"320-678\"],\n",
    "    \"bg\": [\"B+\", \"A-\", \"B+\", \"O-\",np.NaN, \"B+\"]\n",
    "}\n",
    "people\n",
    "\n"
   ]
  },
  {
   "cell_type": "code",
   "execution_count": 37,
   "id": "d8b8fb78",
   "metadata": {},
   "outputs": [
    {
     "data": {
      "text/html": [
       "<div>\n",
       "<style scoped>\n",
       "    .dataframe tbody tr th:only-of-type {\n",
       "        vertical-align: middle;\n",
       "    }\n",
       "\n",
       "    .dataframe tbody tr th {\n",
       "        vertical-align: top;\n",
       "    }\n",
       "\n",
       "    .dataframe thead th {\n",
       "        text-align: right;\n",
       "    }\n",
       "</style>\n",
       "<table border=\"1\" class=\"dataframe\">\n",
       "  <thead>\n",
       "    <tr style=\"text-align: right;\">\n",
       "      <th></th>\n",
       "      <th>name</th>\n",
       "      <th>age</th>\n",
       "      <th>address</th>\n",
       "      <th>cell</th>\n",
       "      <th>bg</th>\n",
       "    </tr>\n",
       "  </thead>\n",
       "  <tbody>\n",
       "    <tr>\n",
       "      <th>0</th>\n",
       "      <td>Ehtisham</td>\n",
       "      <td>21</td>\n",
       "      <td>Lahore</td>\n",
       "      <td>321-123</td>\n",
       "      <td>B+</td>\n",
       "    </tr>\n",
       "    <tr>\n",
       "      <th>1</th>\n",
       "      <td>Ali</td>\n",
       "      <td>20</td>\n",
       "      <td>Karachi</td>\n",
       "      <td>320-431</td>\n",
       "      <td>A-</td>\n",
       "    </tr>\n",
       "    <tr>\n",
       "      <th>2</th>\n",
       "      <td>Ayesha</td>\n",
       "      <td>18</td>\n",
       "      <td>Lahore</td>\n",
       "      <td>321-478</td>\n",
       "      <td>B+</td>\n",
       "    </tr>\n",
       "    <tr>\n",
       "      <th>3</th>\n",
       "      <td>Dua</td>\n",
       "      <td>17</td>\n",
       "      <td>Islamabad</td>\n",
       "      <td>324-446</td>\n",
       "      <td>O-</td>\n",
       "    </tr>\n",
       "    <tr>\n",
       "      <th>4</th>\n",
       "      <td>Khubaib</td>\n",
       "      <td>12</td>\n",
       "      <td>Kakul</td>\n",
       "      <td>321-967</td>\n",
       "      <td>NaN</td>\n",
       "    </tr>\n",
       "    <tr>\n",
       "      <th>5</th>\n",
       "      <td>Adeen</td>\n",
       "      <td>10</td>\n",
       "      <td>Karachi</td>\n",
       "      <td>320-678</td>\n",
       "      <td>B+</td>\n",
       "    </tr>\n",
       "  </tbody>\n",
       "</table>\n",
       "</div>"
      ],
      "text/plain": [
       "       name  age    address     cell   bg\n",
       "0  Ehtisham   21     Lahore  321-123   B+\n",
       "1       Ali   20    Karachi  320-431   A-\n",
       "2    Ayesha   18     Lahore  321-478   B+\n",
       "3       Dua   17  Islamabad  324-446   O-\n",
       "4   Khubaib   12      Kakul  321-967  NaN\n",
       "5     Adeen   10    Karachi  320-678   B+"
      ]
     },
     "execution_count": 37,
     "metadata": {},
     "output_type": "execute_result"
    }
   ],
   "source": [
    "df_people = pd.DataFrame(data=people)\n",
    "df_people"
   ]
  },
  {
   "cell_type": "code",
   "execution_count": 8,
   "id": "719b4bd2",
   "metadata": {},
   "outputs": [
    {
     "data": {
      "text/html": [
       "<div>\n",
       "<style scoped>\n",
       "    .dataframe tbody tr th:only-of-type {\n",
       "        vertical-align: middle;\n",
       "    }\n",
       "\n",
       "    .dataframe tbody tr th {\n",
       "        vertical-align: top;\n",
       "    }\n",
       "\n",
       "    .dataframe thead th {\n",
       "        text-align: right;\n",
       "    }\n",
       "</style>\n",
       "<table border=\"1\" class=\"dataframe\">\n",
       "  <thead>\n",
       "    <tr style=\"text-align: right;\">\n",
       "      <th></th>\n",
       "      <th>name</th>\n",
       "      <th>age</th>\n",
       "      <th>address</th>\n",
       "      <th>cell</th>\n",
       "      <th>bg</th>\n",
       "    </tr>\n",
       "  </thead>\n",
       "  <tbody>\n",
       "    <tr>\n",
       "      <th>BS01</th>\n",
       "      <td>Ehtisham</td>\n",
       "      <td>21</td>\n",
       "      <td>Lahore</td>\n",
       "      <td>321-123</td>\n",
       "      <td>B+</td>\n",
       "    </tr>\n",
       "    <tr>\n",
       "      <th>BS02</th>\n",
       "      <td>Ali</td>\n",
       "      <td>20</td>\n",
       "      <td>Karachi</td>\n",
       "      <td>320-431</td>\n",
       "      <td>A-</td>\n",
       "    </tr>\n",
       "    <tr>\n",
       "      <th>BS03</th>\n",
       "      <td>Ayesha</td>\n",
       "      <td>18</td>\n",
       "      <td>Lahore</td>\n",
       "      <td>321-478</td>\n",
       "      <td>B+</td>\n",
       "    </tr>\n",
       "    <tr>\n",
       "      <th>BS04</th>\n",
       "      <td>Dua</td>\n",
       "      <td>17</td>\n",
       "      <td>Islamabad</td>\n",
       "      <td>324-446</td>\n",
       "      <td>O-</td>\n",
       "    </tr>\n",
       "    <tr>\n",
       "      <th>BS05</th>\n",
       "      <td>Khubaib</td>\n",
       "      <td>12</td>\n",
       "      <td>Kakul</td>\n",
       "      <td>321-967</td>\n",
       "      <td>A-</td>\n",
       "    </tr>\n",
       "    <tr>\n",
       "      <th>BS06</th>\n",
       "      <td>Adeen</td>\n",
       "      <td>10</td>\n",
       "      <td>Karachi</td>\n",
       "      <td>320-678</td>\n",
       "      <td>B+</td>\n",
       "    </tr>\n",
       "  </tbody>\n",
       "</table>\n",
       "</div>"
      ],
      "text/plain": [
       "          name  age    address     cell  bg\n",
       "BS01  Ehtisham   21     Lahore  321-123  B+\n",
       "BS02       Ali   20    Karachi  320-431  A-\n",
       "BS03    Ayesha   18     Lahore  321-478  B+\n",
       "BS04       Dua   17  Islamabad  324-446  O-\n",
       "BS05   Khubaib   12      Kakul  321-967  A-\n",
       "BS06     Adeen   10    Karachi  320-678  B+"
      ]
     },
     "execution_count": 8,
     "metadata": {},
     "output_type": "execute_result"
    }
   ],
   "source": [
    "df_people = pd.DataFrame(data=people, index=['BS01', 'BS02', 'BS03', 'BS04', 'BS05', 'BS06'])\n",
    "df_people\n"
   ]
  },
  {
   "cell_type": "code",
   "execution_count": 9,
   "id": "6a067db3",
   "metadata": {},
   "outputs": [],
   "source": [
    "# df_people."
   ]
  },
  {
   "cell_type": "code",
   "execution_count": 10,
   "id": "d9953560",
   "metadata": {},
   "outputs": [
    {
     "data": {
      "text/plain": [
       "(6, 5)"
      ]
     },
     "execution_count": 10,
     "metadata": {},
     "output_type": "execute_result"
    }
   ],
   "source": [
    "# `shape` attribute of a dataframe object return a two value tuple containing rows and columns\n",
    "# Note the rows count does not include the column labels and column count does not include the row index\n",
    "df_people.shape "
   ]
  },
  {
   "cell_type": "code",
   "execution_count": 11,
   "id": "3d092076",
   "metadata": {},
   "outputs": [
    {
     "data": {
      "text/plain": [
       "2"
      ]
     },
     "execution_count": 11,
     "metadata": {},
     "output_type": "execute_result"
    }
   ],
   "source": [
    "# `ndim` attribute of a dataframe object returns number of dimensions (which is always 2)\n",
    "df_people.ndim"
   ]
  },
  {
   "cell_type": "code",
   "execution_count": 12,
   "id": "f380359b",
   "metadata": {},
   "outputs": [
    {
     "data": {
      "text/plain": [
       "30"
      ]
     },
     "execution_count": 12,
     "metadata": {},
     "output_type": "execute_result"
    }
   ],
   "source": [
    "# `size` attribute of a dataframe object returns the number of elements in the underlying data\n",
    "df_people.size"
   ]
  },
  {
   "cell_type": "code",
   "execution_count": 14,
   "id": "11f2c4e6",
   "metadata": {},
   "outputs": [
    {
     "data": {
      "text/plain": [
       "Index(['BS01', 'BS02', 'BS03', 'BS04', 'BS05', 'BS06'], dtype='object')"
      ]
     },
     "execution_count": 14,
     "metadata": {},
     "output_type": "execute_result"
    }
   ],
   "source": [
    "# `index` attribute of a dataframe object return the list of row indices and its datatype\n",
    "df_people.index "
   ]
  },
  {
   "cell_type": "code",
   "execution_count": 15,
   "id": "d73b32c7",
   "metadata": {},
   "outputs": [
    {
     "data": {
      "text/plain": [
       "Index(['name', 'age', 'address', 'cell', 'bg'], dtype='object')"
      ]
     },
     "execution_count": 15,
     "metadata": {},
     "output_type": "execute_result"
    }
   ],
   "source": [
    "# `columns` attribute of a dataframe object return the list of column labels and its datatype\n",
    "df_people.columns"
   ]
  },
  {
   "cell_type": "markdown",
   "id": "60a413f7",
   "metadata": {},
   "source": [
    "### Operations on Columns"
   ]
  },
  {
   "cell_type": "code",
   "execution_count": 17,
   "id": "7fe50ca7",
   "metadata": {},
   "outputs": [],
   "source": [
    "df_people.columns = df_people.columns.str.capitalize()"
   ]
  },
  {
   "cell_type": "code",
   "execution_count": 18,
   "id": "8f0d5540",
   "metadata": {},
   "outputs": [
    {
     "data": {
      "text/html": [
       "<div>\n",
       "<style scoped>\n",
       "    .dataframe tbody tr th:only-of-type {\n",
       "        vertical-align: middle;\n",
       "    }\n",
       "\n",
       "    .dataframe tbody tr th {\n",
       "        vertical-align: top;\n",
       "    }\n",
       "\n",
       "    .dataframe thead th {\n",
       "        text-align: right;\n",
       "    }\n",
       "</style>\n",
       "<table border=\"1\" class=\"dataframe\">\n",
       "  <thead>\n",
       "    <tr style=\"text-align: right;\">\n",
       "      <th></th>\n",
       "      <th>Name</th>\n",
       "      <th>Age</th>\n",
       "      <th>Address</th>\n",
       "      <th>Cell</th>\n",
       "      <th>Bg</th>\n",
       "    </tr>\n",
       "  </thead>\n",
       "  <tbody>\n",
       "    <tr>\n",
       "      <th>BS01</th>\n",
       "      <td>Ehtisham</td>\n",
       "      <td>21</td>\n",
       "      <td>Lahore</td>\n",
       "      <td>321-123</td>\n",
       "      <td>B+</td>\n",
       "    </tr>\n",
       "    <tr>\n",
       "      <th>BS02</th>\n",
       "      <td>Ali</td>\n",
       "      <td>20</td>\n",
       "      <td>Karachi</td>\n",
       "      <td>320-431</td>\n",
       "      <td>A-</td>\n",
       "    </tr>\n",
       "    <tr>\n",
       "      <th>BS03</th>\n",
       "      <td>Ayesha</td>\n",
       "      <td>18</td>\n",
       "      <td>Lahore</td>\n",
       "      <td>321-478</td>\n",
       "      <td>B+</td>\n",
       "    </tr>\n",
       "    <tr>\n",
       "      <th>BS04</th>\n",
       "      <td>Dua</td>\n",
       "      <td>17</td>\n",
       "      <td>Islamabad</td>\n",
       "      <td>324-446</td>\n",
       "      <td>O-</td>\n",
       "    </tr>\n",
       "    <tr>\n",
       "      <th>BS05</th>\n",
       "      <td>Khubaib</td>\n",
       "      <td>12</td>\n",
       "      <td>Kakul</td>\n",
       "      <td>321-967</td>\n",
       "      <td>A-</td>\n",
       "    </tr>\n",
       "    <tr>\n",
       "      <th>BS06</th>\n",
       "      <td>Adeen</td>\n",
       "      <td>10</td>\n",
       "      <td>Karachi</td>\n",
       "      <td>320-678</td>\n",
       "      <td>B+</td>\n",
       "    </tr>\n",
       "  </tbody>\n",
       "</table>\n",
       "</div>"
      ],
      "text/plain": [
       "          Name  Age    Address     Cell  Bg\n",
       "BS01  Ehtisham   21     Lahore  321-123  B+\n",
       "BS02       Ali   20    Karachi  320-431  A-\n",
       "BS03    Ayesha   18     Lahore  321-478  B+\n",
       "BS04       Dua   17  Islamabad  324-446  O-\n",
       "BS05   Khubaib   12      Kakul  321-967  A-\n",
       "BS06     Adeen   10    Karachi  320-678  B+"
      ]
     },
     "execution_count": 18,
     "metadata": {},
     "output_type": "execute_result"
    }
   ],
   "source": [
    "df_people"
   ]
  },
  {
   "cell_type": "code",
   "execution_count": 19,
   "id": "43ca6d70",
   "metadata": {},
   "outputs": [
    {
     "data": {
      "text/plain": [
       "[Index(['BS01', 'BS02', 'BS03', 'BS04', 'BS05', 'BS06'], dtype='object'),\n",
       " Index(['Name', 'Age', 'Address', 'Cell', 'Bg'], dtype='object')]"
      ]
     },
     "execution_count": 19,
     "metadata": {},
     "output_type": "execute_result"
    }
   ],
   "source": [
    "#This attribute is used to fetch both index and column names.\n",
    "df_people.axes"
   ]
  },
  {
   "cell_type": "code",
   "execution_count": 21,
   "id": "3c1b3544",
   "metadata": {},
   "outputs": [
    {
     "data": {
      "text/plain": [
       "array([['Ehtisham', 21, 'Lahore', '321-123', 'B+'],\n",
       "       ['Ali', 20, 'Karachi', '320-431', 'A-'],\n",
       "       ['Ayesha', 18, 'Lahore', '321-478', 'B+'],\n",
       "       ['Dua', 17, 'Islamabad', '324-446', 'O-'],\n",
       "       ['Khubaib', 12, 'Kakul', '321-967', 'A-'],\n",
       "       ['Adeen', 10, 'Karachi', '320-678', 'B+']], dtype=object)"
      ]
     },
     "execution_count": 21,
     "metadata": {},
     "output_type": "execute_result"
    }
   ],
   "source": [
    "# `values` attribute of a dataframe object returns a NumPy 2-D having all the values in the DataFrame, \n",
    "# without the row indices and column labels\n",
    "data = df_people.values\n",
    "data"
   ]
  },
  {
   "cell_type": "markdown",
   "id": "8f87801d",
   "metadata": {},
   "source": [
    "#### Convert 2D NumPy Array into Dataframe"
   ]
  },
  {
   "cell_type": "code",
   "execution_count": 24,
   "id": "509ec60a",
   "metadata": {},
   "outputs": [
    {
     "data": {
      "text/html": [
       "<div>\n",
       "<style scoped>\n",
       "    .dataframe tbody tr th:only-of-type {\n",
       "        vertical-align: middle;\n",
       "    }\n",
       "\n",
       "    .dataframe tbody tr th {\n",
       "        vertical-align: top;\n",
       "    }\n",
       "\n",
       "    .dataframe thead th {\n",
       "        text-align: right;\n",
       "    }\n",
       "</style>\n",
       "<table border=\"1\" class=\"dataframe\">\n",
       "  <thead>\n",
       "    <tr style=\"text-align: right;\">\n",
       "      <th></th>\n",
       "      <th>Name</th>\n",
       "      <th>Age</th>\n",
       "      <th>City</th>\n",
       "      <th>Cell</th>\n",
       "      <th>Bg</th>\n",
       "    </tr>\n",
       "  </thead>\n",
       "  <tbody>\n",
       "    <tr>\n",
       "      <th>0</th>\n",
       "      <td>Ehtisham</td>\n",
       "      <td>21</td>\n",
       "      <td>Lahore</td>\n",
       "      <td>321-123</td>\n",
       "      <td>B+</td>\n",
       "    </tr>\n",
       "    <tr>\n",
       "      <th>1</th>\n",
       "      <td>Ali</td>\n",
       "      <td>20</td>\n",
       "      <td>Karachi</td>\n",
       "      <td>320-431</td>\n",
       "      <td>A-</td>\n",
       "    </tr>\n",
       "    <tr>\n",
       "      <th>2</th>\n",
       "      <td>Ayesha</td>\n",
       "      <td>18</td>\n",
       "      <td>Lahore</td>\n",
       "      <td>321-478</td>\n",
       "      <td>B+</td>\n",
       "    </tr>\n",
       "    <tr>\n",
       "      <th>3</th>\n",
       "      <td>Dua</td>\n",
       "      <td>17</td>\n",
       "      <td>Islamabad</td>\n",
       "      <td>324-446</td>\n",
       "      <td>O-</td>\n",
       "    </tr>\n",
       "    <tr>\n",
       "      <th>4</th>\n",
       "      <td>Khubaib</td>\n",
       "      <td>12</td>\n",
       "      <td>Kakul</td>\n",
       "      <td>321-967</td>\n",
       "      <td>A-</td>\n",
       "    </tr>\n",
       "    <tr>\n",
       "      <th>5</th>\n",
       "      <td>Adeen</td>\n",
       "      <td>10</td>\n",
       "      <td>Karachi</td>\n",
       "      <td>320-678</td>\n",
       "      <td>B+</td>\n",
       "    </tr>\n",
       "  </tbody>\n",
       "</table>\n",
       "</div>"
      ],
      "text/plain": [
       "       Name Age       City     Cell  Bg\n",
       "0  Ehtisham  21     Lahore  321-123  B+\n",
       "1       Ali  20    Karachi  320-431  A-\n",
       "2    Ayesha  18     Lahore  321-478  B+\n",
       "3       Dua  17  Islamabad  324-446  O-\n",
       "4   Khubaib  12      Kakul  321-967  A-\n",
       "5     Adeen  10    Karachi  320-678  B+"
      ]
     },
     "execution_count": 24,
     "metadata": {},
     "output_type": "execute_result"
    }
   ],
   "source": [
    "pd.DataFrame(data= data, columns=['Name','Age','City','Cell','Bg'])"
   ]
  },
  {
   "cell_type": "code",
   "execution_count": 26,
   "id": "fa6e7467",
   "metadata": {},
   "outputs": [
    {
     "data": {
      "text/plain": [
       "False"
      ]
     },
     "execution_count": 26,
     "metadata": {},
     "output_type": "execute_result"
    }
   ],
   "source": [
    "df_people.empty"
   ]
  },
  {
   "cell_type": "code",
   "execution_count": 29,
   "id": "c4cf3583",
   "metadata": {},
   "outputs": [
    {
     "data": {
      "text/plain": [
       "Name       object\n",
       "Age         int64\n",
       "Address    object\n",
       "Cell       object\n",
       "Bg         object\n",
       "dtype: object"
      ]
     },
     "execution_count": 29,
     "metadata": {},
     "output_type": "execute_result"
    }
   ],
   "source": [
    "# `dtypes` attribute of a dataframe object return the data type of each column in the dataframe\n",
    "df_people.dtypes"
   ]
  },
  {
   "cell_type": "markdown",
   "id": "644ef307",
   "metadata": {},
   "source": [
    "### Bonus"
   ]
  },
  {
   "cell_type": "code",
   "execution_count": 32,
   "id": "7b826b1c",
   "metadata": {},
   "outputs": [
    {
     "data": {
      "text/html": [
       "<div>\n",
       "<style scoped>\n",
       "    .dataframe tbody tr th:only-of-type {\n",
       "        vertical-align: middle;\n",
       "    }\n",
       "\n",
       "    .dataframe tbody tr th {\n",
       "        vertical-align: top;\n",
       "    }\n",
       "\n",
       "    .dataframe thead th {\n",
       "        text-align: right;\n",
       "    }\n",
       "</style>\n",
       "<table border=\"1\" class=\"dataframe\">\n",
       "  <thead>\n",
       "    <tr style=\"text-align: right;\">\n",
       "      <th></th>\n",
       "      <th>Name</th>\n",
       "      <th>Address</th>\n",
       "      <th>Cell</th>\n",
       "      <th>Bg</th>\n",
       "    </tr>\n",
       "  </thead>\n",
       "  <tbody>\n",
       "    <tr>\n",
       "      <th>BS01</th>\n",
       "      <td>Ehtisham</td>\n",
       "      <td>Lahore</td>\n",
       "      <td>321-123</td>\n",
       "      <td>B+</td>\n",
       "    </tr>\n",
       "    <tr>\n",
       "      <th>BS02</th>\n",
       "      <td>Ali</td>\n",
       "      <td>Karachi</td>\n",
       "      <td>320-431</td>\n",
       "      <td>A-</td>\n",
       "    </tr>\n",
       "    <tr>\n",
       "      <th>BS03</th>\n",
       "      <td>Ayesha</td>\n",
       "      <td>Lahore</td>\n",
       "      <td>321-478</td>\n",
       "      <td>B+</td>\n",
       "    </tr>\n",
       "    <tr>\n",
       "      <th>BS04</th>\n",
       "      <td>Dua</td>\n",
       "      <td>Islamabad</td>\n",
       "      <td>324-446</td>\n",
       "      <td>O-</td>\n",
       "    </tr>\n",
       "    <tr>\n",
       "      <th>BS05</th>\n",
       "      <td>Khubaib</td>\n",
       "      <td>Kakul</td>\n",
       "      <td>321-967</td>\n",
       "      <td>A-</td>\n",
       "    </tr>\n",
       "    <tr>\n",
       "      <th>BS06</th>\n",
       "      <td>Adeen</td>\n",
       "      <td>Karachi</td>\n",
       "      <td>320-678</td>\n",
       "      <td>B+</td>\n",
       "    </tr>\n",
       "  </tbody>\n",
       "</table>\n",
       "</div>"
      ],
      "text/plain": [
       "          Name    Address     Cell  Bg\n",
       "BS01  Ehtisham     Lahore  321-123  B+\n",
       "BS02       Ali    Karachi  320-431  A-\n",
       "BS03    Ayesha     Lahore  321-478  B+\n",
       "BS04       Dua  Islamabad  324-446  O-\n",
       "BS05   Khubaib      Kakul  321-967  A-\n",
       "BS06     Adeen    Karachi  320-678  B+"
      ]
     },
     "execution_count": 32,
     "metadata": {},
     "output_type": "execute_result"
    }
   ],
   "source": [
    "df_people.select_dtypes(include='O')"
   ]
  },
  {
   "cell_type": "code",
   "execution_count": 33,
   "id": "198c7aa7",
   "metadata": {},
   "outputs": [
    {
     "data": {
      "text/html": [
       "<div>\n",
       "<style scoped>\n",
       "    .dataframe tbody tr th:only-of-type {\n",
       "        vertical-align: middle;\n",
       "    }\n",
       "\n",
       "    .dataframe tbody tr th {\n",
       "        vertical-align: top;\n",
       "    }\n",
       "\n",
       "    .dataframe thead th {\n",
       "        text-align: right;\n",
       "    }\n",
       "</style>\n",
       "<table border=\"1\" class=\"dataframe\">\n",
       "  <thead>\n",
       "    <tr style=\"text-align: right;\">\n",
       "      <th></th>\n",
       "      <th>Age</th>\n",
       "    </tr>\n",
       "  </thead>\n",
       "  <tbody>\n",
       "    <tr>\n",
       "      <th>BS01</th>\n",
       "      <td>21</td>\n",
       "    </tr>\n",
       "    <tr>\n",
       "      <th>BS02</th>\n",
       "      <td>20</td>\n",
       "    </tr>\n",
       "    <tr>\n",
       "      <th>BS03</th>\n",
       "      <td>18</td>\n",
       "    </tr>\n",
       "    <tr>\n",
       "      <th>BS04</th>\n",
       "      <td>17</td>\n",
       "    </tr>\n",
       "    <tr>\n",
       "      <th>BS05</th>\n",
       "      <td>12</td>\n",
       "    </tr>\n",
       "    <tr>\n",
       "      <th>BS06</th>\n",
       "      <td>10</td>\n",
       "    </tr>\n",
       "  </tbody>\n",
       "</table>\n",
       "</div>"
      ],
      "text/plain": [
       "      Age\n",
       "BS01   21\n",
       "BS02   20\n",
       "BS03   18\n",
       "BS04   17\n",
       "BS05   12\n",
       "BS06   10"
      ]
     },
     "execution_count": 33,
     "metadata": {},
     "output_type": "execute_result"
    }
   ],
   "source": [
    "df_people.select_dtypes(exclude='O')"
   ]
  },
  {
   "cell_type": "code",
   "execution_count": null,
   "id": "e0fca4bf",
   "metadata": {},
   "outputs": [],
   "source": []
  },
  {
   "cell_type": "code",
   "execution_count": null,
   "id": "db14f683",
   "metadata": {},
   "outputs": [],
   "source": []
  },
  {
   "cell_type": "code",
   "execution_count": 53,
   "id": "345def6a",
   "metadata": {},
   "outputs": [
    {
     "data": {
      "text/html": [
       "<div>\n",
       "<style scoped>\n",
       "    .dataframe tbody tr th:only-of-type {\n",
       "        vertical-align: middle;\n",
       "    }\n",
       "\n",
       "    .dataframe tbody tr th {\n",
       "        vertical-align: top;\n",
       "    }\n",
       "\n",
       "    .dataframe thead th {\n",
       "        text-align: right;\n",
       "    }\n",
       "</style>\n",
       "<table border=\"1\" class=\"dataframe\">\n",
       "  <thead>\n",
       "    <tr style=\"text-align: right;\">\n",
       "      <th></th>\n",
       "      <th>name</th>\n",
       "      <th>age</th>\n",
       "      <th>address</th>\n",
       "      <th>cell</th>\n",
       "      <th>bg</th>\n",
       "    </tr>\n",
       "  </thead>\n",
       "  <tbody>\n",
       "    <tr>\n",
       "      <th>0</th>\n",
       "      <td>False</td>\n",
       "      <td>False</td>\n",
       "      <td>False</td>\n",
       "      <td>False</td>\n",
       "      <td>False</td>\n",
       "    </tr>\n",
       "    <tr>\n",
       "      <th>1</th>\n",
       "      <td>False</td>\n",
       "      <td>False</td>\n",
       "      <td>False</td>\n",
       "      <td>False</td>\n",
       "      <td>False</td>\n",
       "    </tr>\n",
       "    <tr>\n",
       "      <th>2</th>\n",
       "      <td>False</td>\n",
       "      <td>False</td>\n",
       "      <td>False</td>\n",
       "      <td>False</td>\n",
       "      <td>False</td>\n",
       "    </tr>\n",
       "    <tr>\n",
       "      <th>3</th>\n",
       "      <td>False</td>\n",
       "      <td>False</td>\n",
       "      <td>False</td>\n",
       "      <td>False</td>\n",
       "      <td>False</td>\n",
       "    </tr>\n",
       "    <tr>\n",
       "      <th>4</th>\n",
       "      <td>False</td>\n",
       "      <td>False</td>\n",
       "      <td>False</td>\n",
       "      <td>False</td>\n",
       "      <td>True</td>\n",
       "    </tr>\n",
       "    <tr>\n",
       "      <th>5</th>\n",
       "      <td>False</td>\n",
       "      <td>False</td>\n",
       "      <td>False</td>\n",
       "      <td>False</td>\n",
       "      <td>False</td>\n",
       "    </tr>\n",
       "  </tbody>\n",
       "</table>\n",
       "</div>"
      ],
      "text/plain": [
       "    name    age  address   cell     bg\n",
       "0  False  False    False  False  False\n",
       "1  False  False    False  False  False\n",
       "2  False  False    False  False  False\n",
       "3  False  False    False  False  False\n",
       "4  False  False    False  False   True\n",
       "5  False  False    False  False  False"
      ]
     },
     "execution_count": 53,
     "metadata": {},
     "output_type": "execute_result"
    }
   ],
   "source": [
    "# To check missing values\n",
    "df_people.isnull()"
   ]
  },
  {
   "cell_type": "code",
   "execution_count": 54,
   "id": "586eef5e",
   "metadata": {},
   "outputs": [
    {
     "data": {
      "text/plain": [
       "name       0\n",
       "age        0\n",
       "address    0\n",
       "cell       0\n",
       "bg         1\n",
       "dtype: int64"
      ]
     },
     "execution_count": 54,
     "metadata": {},
     "output_type": "execute_result"
    }
   ],
   "source": [
    "# To check missing values\n",
    "df_people.isnull().sum()"
   ]
  },
  {
   "cell_type": "code",
   "execution_count": null,
   "id": "28dd8d86",
   "metadata": {},
   "outputs": [],
   "source": []
  },
  {
   "cell_type": "code",
   "execution_count": null,
   "id": "73d1c63f",
   "metadata": {},
   "outputs": [],
   "source": []
  },
  {
   "cell_type": "code",
   "execution_count": 55,
   "id": "dc1b9af8",
   "metadata": {},
   "outputs": [
    {
     "data": {
      "text/plain": [
       "name       6\n",
       "age        6\n",
       "address    6\n",
       "cell       6\n",
       "bg         5\n",
       "dtype: int64"
      ]
     },
     "execution_count": 55,
     "metadata": {},
     "output_type": "execute_result"
    }
   ],
   "source": [
    "# To check number on non-NA values\n",
    "df_people.count()"
   ]
  },
  {
   "cell_type": "code",
   "execution_count": null,
   "id": "311a3192",
   "metadata": {},
   "outputs": [],
   "source": []
  },
  {
   "cell_type": "code",
   "execution_count": 50,
   "id": "e32e8cae",
   "metadata": {},
   "outputs": [
    {
     "data": {
      "text/plain": [
       "0       Lahore\n",
       "1      Karachi\n",
       "2       Lahore\n",
       "3    Islamabad\n",
       "4        Kakul\n",
       "5      Karachi\n",
       "Name: address, dtype: object"
      ]
     },
     "execution_count": 50,
     "metadata": {},
     "output_type": "execute_result"
    }
   ],
   "source": [
    "# To check unique values in a column\n",
    "df_people['address']"
   ]
  },
  {
   "cell_type": "code",
   "execution_count": 43,
   "id": "ea89ba00",
   "metadata": {},
   "outputs": [
    {
     "data": {
      "text/plain": [
       "array(['Lahore', 'Karachi', 'Islamabad', 'Kakul'], dtype=object)"
      ]
     },
     "execution_count": 43,
     "metadata": {},
     "output_type": "execute_result"
    }
   ],
   "source": [
    "df_people['address'].unique()"
   ]
  },
  {
   "cell_type": "code",
   "execution_count": 44,
   "id": "9072a933",
   "metadata": {},
   "outputs": [
    {
     "data": {
      "text/plain": [
       "4"
      ]
     },
     "execution_count": 44,
     "metadata": {},
     "output_type": "execute_result"
    }
   ],
   "source": [
    "df_people['address'].nunique()"
   ]
  },
  {
   "cell_type": "code",
   "execution_count": 45,
   "id": "7cb77309",
   "metadata": {},
   "outputs": [
    {
     "data": {
      "text/plain": [
       "array(['B+', 'A-', 'O-', nan], dtype=object)"
      ]
     },
     "execution_count": 45,
     "metadata": {},
     "output_type": "execute_result"
    }
   ],
   "source": [
    "df_people['bg'].unique()"
   ]
  },
  {
   "cell_type": "code",
   "execution_count": 46,
   "id": "2164b4c1",
   "metadata": {},
   "outputs": [
    {
     "data": {
      "text/plain": [
       "3"
      ]
     },
     "execution_count": 46,
     "metadata": {},
     "output_type": "execute_result"
    }
   ],
   "source": [
    "df_people['bg'].nunique()"
   ]
  },
  {
   "cell_type": "code",
   "execution_count": null,
   "id": "f3bd6b59",
   "metadata": {},
   "outputs": [],
   "source": []
  },
  {
   "cell_type": "markdown",
   "id": "75d6bd52",
   "metadata": {},
   "source": [
    "### Data-Type of a Series"
   ]
  },
  {
   "cell_type": "code",
   "execution_count": 49,
   "id": "c9355379",
   "metadata": {},
   "outputs": [
    {
     "data": {
      "text/plain": [
       "0       Ehtisham\n",
       "1            Ali\n",
       "2             23\n",
       "3             20\n",
       "4    03054661042\n",
       "dtype: object"
      ]
     },
     "execution_count": 49,
     "metadata": {},
     "output_type": "execute_result"
    }
   ],
   "source": [
    "s1 = pd.Series([\"Ehtisham\",\"Ali\",23, 20, \"03054661042\"])\n",
    "s1"
   ]
  },
  {
   "cell_type": "code",
   "execution_count": 51,
   "id": "c15f9347",
   "metadata": {},
   "outputs": [
    {
     "data": {
      "text/plain": [
       "array(['Ehtisham', 'Ali', 23, 20, '03054661042'], dtype=object)"
      ]
     },
     "execution_count": 51,
     "metadata": {},
     "output_type": "execute_result"
    }
   ],
   "source": [
    "s1.values"
   ]
  },
  {
   "cell_type": "code",
   "execution_count": 52,
   "id": "dbd71be8",
   "metadata": {},
   "outputs": [
    {
     "data": {
      "text/plain": [
       "RangeIndex(start=0, stop=5, step=1)"
      ]
     },
     "execution_count": 52,
     "metadata": {},
     "output_type": "execute_result"
    }
   ],
   "source": [
    "s1.index"
   ]
  },
  {
   "cell_type": "code",
   "execution_count": null,
   "id": "1bccba4c",
   "metadata": {},
   "outputs": [],
   "source": []
  },
  {
   "cell_type": "code",
   "execution_count": null,
   "id": "24bf5f77",
   "metadata": {},
   "outputs": [],
   "source": []
  },
  {
   "cell_type": "code",
   "execution_count": 57,
   "id": "9c8c4e5d",
   "metadata": {},
   "outputs": [
    {
     "data": {
      "text/html": [
       "<div>\n",
       "<style scoped>\n",
       "    .dataframe tbody tr th:only-of-type {\n",
       "        vertical-align: middle;\n",
       "    }\n",
       "\n",
       "    .dataframe tbody tr th {\n",
       "        vertical-align: top;\n",
       "    }\n",
       "\n",
       "    .dataframe thead th {\n",
       "        text-align: right;\n",
       "    }\n",
       "</style>\n",
       "<table border=\"1\" class=\"dataframe\">\n",
       "  <thead>\n",
       "    <tr style=\"text-align: right;\">\n",
       "      <th></th>\n",
       "      <th>name</th>\n",
       "      <th>age</th>\n",
       "      <th>address</th>\n",
       "      <th>cell</th>\n",
       "      <th>bg</th>\n",
       "    </tr>\n",
       "  </thead>\n",
       "  <tbody>\n",
       "    <tr>\n",
       "      <th>0</th>\n",
       "      <td>Ehtisham</td>\n",
       "      <td>21</td>\n",
       "      <td>Lahore</td>\n",
       "      <td>321-123</td>\n",
       "      <td>B+</td>\n",
       "    </tr>\n",
       "    <tr>\n",
       "      <th>1</th>\n",
       "      <td>Ali</td>\n",
       "      <td>20</td>\n",
       "      <td>Karachi</td>\n",
       "      <td>320-431</td>\n",
       "      <td>A-</td>\n",
       "    </tr>\n",
       "    <tr>\n",
       "      <th>2</th>\n",
       "      <td>Ayesha</td>\n",
       "      <td>18</td>\n",
       "      <td>Lahore</td>\n",
       "      <td>321-478</td>\n",
       "      <td>B+</td>\n",
       "    </tr>\n",
       "    <tr>\n",
       "      <th>3</th>\n",
       "      <td>Dua</td>\n",
       "      <td>17</td>\n",
       "      <td>Islamabad</td>\n",
       "      <td>324-446</td>\n",
       "      <td>O-</td>\n",
       "    </tr>\n",
       "    <tr>\n",
       "      <th>4</th>\n",
       "      <td>Khubaib</td>\n",
       "      <td>12</td>\n",
       "      <td>Kakul</td>\n",
       "      <td>321-967</td>\n",
       "      <td>NaN</td>\n",
       "    </tr>\n",
       "    <tr>\n",
       "      <th>5</th>\n",
       "      <td>Adeen</td>\n",
       "      <td>10</td>\n",
       "      <td>Karachi</td>\n",
       "      <td>320-678</td>\n",
       "      <td>B+</td>\n",
       "    </tr>\n",
       "  </tbody>\n",
       "</table>\n",
       "</div>"
      ],
      "text/plain": [
       "       name  age    address     cell   bg\n",
       "0  Ehtisham   21     Lahore  321-123   B+\n",
       "1       Ali   20    Karachi  320-431   A-\n",
       "2    Ayesha   18     Lahore  321-478   B+\n",
       "3       Dua   17  Islamabad  324-446   O-\n",
       "4   Khubaib   12      Kakul  321-967  NaN\n",
       "5     Adeen   10    Karachi  320-678   B+"
      ]
     },
     "execution_count": 57,
     "metadata": {},
     "output_type": "execute_result"
    }
   ],
   "source": [
    "df_people"
   ]
  },
  {
   "cell_type": "markdown",
   "id": "574a5260",
   "metadata": {},
   "source": [
    "## Bonus\n"
   ]
  },
  {
   "cell_type": "code",
   "execution_count": 62,
   "id": "7eaf6b26",
   "metadata": {},
   "outputs": [
    {
     "data": {
      "text/html": [
       "<div>\n",
       "<style scoped>\n",
       "    .dataframe tbody tr th:only-of-type {\n",
       "        vertical-align: middle;\n",
       "    }\n",
       "\n",
       "    .dataframe tbody tr th {\n",
       "        vertical-align: top;\n",
       "    }\n",
       "\n",
       "    .dataframe thead th {\n",
       "        text-align: right;\n",
       "    }\n",
       "</style>\n",
       "<table border=\"1\" class=\"dataframe\">\n",
       "  <thead>\n",
       "    <tr style=\"text-align: right;\">\n",
       "      <th></th>\n",
       "      <th>name</th>\n",
       "      <th>age</th>\n",
       "      <th>address</th>\n",
       "      <th>cell</th>\n",
       "      <th>bg</th>\n",
       "    </tr>\n",
       "  </thead>\n",
       "  <tbody>\n",
       "    <tr>\n",
       "      <th>0</th>\n",
       "      <td>Ehtisham</td>\n",
       "      <td>21</td>\n",
       "      <td>Lahore</td>\n",
       "      <td>321-123</td>\n",
       "      <td>B+</td>\n",
       "    </tr>\n",
       "    <tr>\n",
       "      <th>1</th>\n",
       "      <td>Ali</td>\n",
       "      <td>20</td>\n",
       "      <td>Karachi</td>\n",
       "      <td>320-431</td>\n",
       "      <td>A-</td>\n",
       "    </tr>\n",
       "  </tbody>\n",
       "</table>\n",
       "</div>"
      ],
      "text/plain": [
       "       name  age  address     cell  bg\n",
       "0  Ehtisham   21   Lahore  321-123  B+\n",
       "1       Ali   20  Karachi  320-431  A-"
      ]
     },
     "execution_count": 62,
     "metadata": {},
     "output_type": "execute_result"
    }
   ],
   "source": [
    "df_people.iloc[0:2]"
   ]
  },
  {
   "cell_type": "code",
   "execution_count": null,
   "id": "4dbac9a5",
   "metadata": {},
   "outputs": [],
   "source": []
  },
  {
   "cell_type": "markdown",
   "id": "e8cfe543",
   "metadata": {},
   "source": [
    "\n",
    "#### The `df.info()` Method"
   ]
  },
  {
   "cell_type": "code",
   "execution_count": 63,
   "id": "995c72a6",
   "metadata": {},
   "outputs": [
    {
     "name": "stdout",
     "output_type": "stream",
     "text": [
      "<class 'pandas.core.frame.DataFrame'>\n",
      "RangeIndex: 6 entries, 0 to 5\n",
      "Data columns (total 5 columns):\n",
      " #   Column   Non-Null Count  Dtype \n",
      "---  ------   --------------  ----- \n",
      " 0   name     6 non-null      object\n",
      " 1   age      6 non-null      int64 \n",
      " 2   address  6 non-null      object\n",
      " 3   cell     6 non-null      object\n",
      " 4   bg       5 non-null      object\n",
      "dtypes: int64(1), object(4)\n",
      "memory usage: 368.0+ bytes\n"
     ]
    }
   ],
   "source": [
    "#This method prints information about a DataFrame including the row indices, column labels, \n",
    "# non-null values count in each column, datatype and memory usage\n",
    "df_people.info()"
   ]
  },
  {
   "cell_type": "code",
   "execution_count": null,
   "id": "e51d546e",
   "metadata": {},
   "outputs": [],
   "source": []
  },
  {
   "cell_type": "markdown",
   "id": "daa94a34",
   "metadata": {},
   "source": [
    "#### The `df.describe()` Method"
   ]
  },
  {
   "cell_type": "code",
   "execution_count": 65,
   "id": "1705bd08",
   "metadata": {},
   "outputs": [
    {
     "data": {
      "text/html": [
       "<div>\n",
       "<style scoped>\n",
       "    .dataframe tbody tr th:only-of-type {\n",
       "        vertical-align: middle;\n",
       "    }\n",
       "\n",
       "    .dataframe tbody tr th {\n",
       "        vertical-align: top;\n",
       "    }\n",
       "\n",
       "    .dataframe thead th {\n",
       "        text-align: right;\n",
       "    }\n",
       "</style>\n",
       "<table border=\"1\" class=\"dataframe\">\n",
       "  <thead>\n",
       "    <tr style=\"text-align: right;\">\n",
       "      <th></th>\n",
       "      <th>age</th>\n",
       "    </tr>\n",
       "  </thead>\n",
       "  <tbody>\n",
       "    <tr>\n",
       "      <th>count</th>\n",
       "      <td>6.000000</td>\n",
       "    </tr>\n",
       "    <tr>\n",
       "      <th>mean</th>\n",
       "      <td>16.333333</td>\n",
       "    </tr>\n",
       "    <tr>\n",
       "      <th>std</th>\n",
       "      <td>4.412105</td>\n",
       "    </tr>\n",
       "    <tr>\n",
       "      <th>min</th>\n",
       "      <td>10.000000</td>\n",
       "    </tr>\n",
       "    <tr>\n",
       "      <th>25%</th>\n",
       "      <td>13.250000</td>\n",
       "    </tr>\n",
       "    <tr>\n",
       "      <th>50%</th>\n",
       "      <td>17.500000</td>\n",
       "    </tr>\n",
       "    <tr>\n",
       "      <th>75%</th>\n",
       "      <td>19.500000</td>\n",
       "    </tr>\n",
       "    <tr>\n",
       "      <th>max</th>\n",
       "      <td>21.000000</td>\n",
       "    </tr>\n",
       "  </tbody>\n",
       "</table>\n",
       "</div>"
      ],
      "text/plain": [
       "             age\n",
       "count   6.000000\n",
       "mean   16.333333\n",
       "std     4.412105\n",
       "min    10.000000\n",
       "25%    13.250000\n",
       "50%    17.500000\n",
       "75%    19.500000\n",
       "max    21.000000"
      ]
     },
     "execution_count": 65,
     "metadata": {},
     "output_type": "execute_result"
    }
   ],
   "source": [
    "# This method prints the descriptive view of all the columns of dataset which are numeric\n",
    "df_people.describe()"
   ]
  },
  {
   "cell_type": "code",
   "execution_count": 67,
   "id": "35b3c094",
   "metadata": {},
   "outputs": [],
   "source": [
    "# This method prints the descriptive view of all the columns of dataset which are numeric\n",
    "# df_people.describe(include='all')"
   ]
  },
  {
   "cell_type": "code",
   "execution_count": null,
   "id": "2dd37d87",
   "metadata": {},
   "outputs": [],
   "source": []
  },
  {
   "cell_type": "code",
   "execution_count": null,
   "id": "50b39809",
   "metadata": {},
   "outputs": [],
   "source": []
  },
  {
   "cell_type": "code",
   "execution_count": null,
   "id": "2204e5cf",
   "metadata": {},
   "outputs": [],
   "source": []
  },
  {
   "cell_type": "code",
   "execution_count": null,
   "id": "b770c00c",
   "metadata": {},
   "outputs": [],
   "source": []
  },
  {
   "cell_type": "code",
   "execution_count": null,
   "id": "68260307",
   "metadata": {},
   "outputs": [],
   "source": []
  },
  {
   "cell_type": "code",
   "execution_count": null,
   "id": "7d2bf4d2",
   "metadata": {},
   "outputs": [],
   "source": []
  },
  {
   "cell_type": "code",
   "execution_count": null,
   "id": "f15cc97e",
   "metadata": {},
   "outputs": [],
   "source": []
  },
  {
   "cell_type": "code",
   "execution_count": 1,
   "id": "ef6df26d",
   "metadata": {},
   "outputs": [
    {
     "data": {
      "text/html": [
       "\n",
       "    <style>\n",
       "        body {\n",
       "            background-color: #f2fff2;\n",
       "        }\n",
       "        h1 {\n",
       "            text-align: center;\n",
       "            font-weight: bold;\n",
       "            font-size: 36px;\n",
       "            color: #4295F4;\n",
       "            text-decoration: underline;\n",
       "            padding-top: 15px;\n",
       "        }\n",
       "        \n",
       "        h2 {\n",
       "            text-align: left;\n",
       "            font-weight: bold;\n",
       "            font-size: 30px;\n",
       "            color: #4A000A;\n",
       "            text-decoration: underline;\n",
       "            padding-top: 10px;\n",
       "        }\n",
       "        \n",
       "        h3 {\n",
       "            text-align: left;\n",
       "            font-weight: bold;\n",
       "            font-size: 30px;\n",
       "            color: #f0081e;\n",
       "            text-decoration: underline;\n",
       "            padding-top: 5px;\n",
       "        }\n",
       "\n",
       "        \n",
       "        p {\n",
       "            text-align: center;\n",
       "            font-size: 12 px;\n",
       "            color: #0B9923;\n",
       "        }\n",
       "    </style>\n",
       "\n",
       "<h1>Hello</h1>\n",
       "<p>Hello World</p>\n",
       "<h2> Hello</h2>\n",
       "<h3> World </h3>\n"
      ],
      "text/plain": [
       "<IPython.core.display.HTML object>"
      ]
     },
     "execution_count": 1,
     "metadata": {},
     "output_type": "execute_result"
    }
   ],
   "source": [
    "from IPython.core.display import HTML\n",
    "\n",
    "style = \"\"\"\n",
    "    <style>\n",
    "        body {\n",
    "            background-color: #f2fff2;\n",
    "        }\n",
    "        h1 {\n",
    "            text-align: center;\n",
    "            font-weight: bold;\n",
    "            font-size: 36px;\n",
    "            color: #4295F4;\n",
    "            text-decoration: underline;\n",
    "            padding-top: 15px;\n",
    "        }\n",
    "        \n",
    "        h2 {\n",
    "            text-align: left;\n",
    "            font-weight: bold;\n",
    "            font-size: 30px;\n",
    "            color: #4A000A;\n",
    "            text-decoration: underline;\n",
    "            padding-top: 10px;\n",
    "        }\n",
    "        \n",
    "        h3 {\n",
    "            text-align: left;\n",
    "            font-weight: bold;\n",
    "            font-size: 30px;\n",
    "            color: #f0081e;\n",
    "            text-decoration: underline;\n",
    "            padding-top: 5px;\n",
    "        }\n",
    "\n",
    "        \n",
    "        p {\n",
    "            text-align: center;\n",
    "            font-size: 12 px;\n",
    "            color: #0B9923;\n",
    "        }\n",
    "    </style>\n",
    "\"\"\"\n",
    "\n",
    "html_content = \"\"\"\n",
    "<h1>Hello</h1>\n",
    "<p>Hello World</p>\n",
    "<h2> Hello</h2>\n",
    "<h3> World </h3>\n",
    "\"\"\"\n",
    "\n",
    "HTML(style + html_content)"
   ]
  },
  {
   "cell_type": "code",
   "execution_count": null,
   "id": "7f2c8316",
   "metadata": {},
   "outputs": [],
   "source": []
  }
 ],
 "metadata": {
  "kernelspec": {
   "display_name": "Python 3 (ipykernel)",
   "language": "python",
   "name": "python3"
  },
  "language_info": {
   "codemirror_mode": {
    "name": "ipython",
    "version": 3
   },
   "file_extension": ".py",
   "mimetype": "text/x-python",
   "name": "python",
   "nbconvert_exporter": "python",
   "pygments_lexer": "ipython3",
   "version": "3.8.10"
  }
 },
 "nbformat": 4,
 "nbformat_minor": 5
}
