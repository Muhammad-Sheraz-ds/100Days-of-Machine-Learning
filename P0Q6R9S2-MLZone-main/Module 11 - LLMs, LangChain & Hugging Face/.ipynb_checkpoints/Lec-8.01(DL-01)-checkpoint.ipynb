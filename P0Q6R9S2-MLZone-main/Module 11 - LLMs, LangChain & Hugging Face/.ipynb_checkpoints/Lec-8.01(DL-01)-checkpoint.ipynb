{
 "cells": [
  {
   "cell_type": "markdown",
   "id": "833860ba",
   "metadata": {},
   "source": [
    "---   \n",
    "\n",
    "<h1 align=\"center\">Introduction to Data Analyst and Data Science for beginners</h1>\n",
    "<h1 align=\"center\">Lecture no 8.01(DL-01)</h1>\n",
    "\n",
    "---\n",
    "<h3><div align=\"right\">Ehtisham Sadiq</div></h3>    "
   ]
  },
  {
   "cell_type": "markdown",
   "id": "ef5a80db",
   "metadata": {},
   "source": [
    "## Learning Agenda\n",
    "- What is Deep Learning?\n",
    "- Examples of Deep Learning\n",
    "- Architectures\n",
    "- Types of Deep Learning Networks\n",
    "    - Feed Forward Neural Network\n",
    "    - Recurrent Neural Network\n",
    "    - Convolutional Neural Network\n",
    "    - Restricted Boltzmann Machine\n",
    "    - Autoencoders\n",
    "    \n",
    "- Deep Learning Applications\n",
    "- Limitations\n",
    "- Advantgaes\n",
    "- Disadvantages"
   ]
  },
  {
   "cell_type": "markdown",
   "id": "0c022af6",
   "metadata": {},
   "source": [
    "## What is Deep Learning?\n",
    ">**Deep learning is a collection of statistical techniques of machine learning for learning feature hierarchies that are actually based on artificial neural networks.**"
   ]
  },
  {
   "cell_type": "code",
   "execution_count": null,
   "id": "5379fe9f",
   "metadata": {},
   "outputs": [],
   "source": []
  },
  {
   "cell_type": "code",
   "execution_count": null,
   "id": "3ab2346d",
   "metadata": {},
   "outputs": [],
   "source": []
  },
  {
   "cell_type": "markdown",
   "id": "57e9d940",
   "metadata": {},
   "source": [
    "## Example of DL\n",
    "\n",
    "<img src=\"images/deep-learning-example.png\" >"
   ]
  },
  {
   "cell_type": "code",
   "execution_count": null,
   "id": "8bd1574b",
   "metadata": {},
   "outputs": [],
   "source": []
  },
  {
   "cell_type": "markdown",
   "id": "089b11fb",
   "metadata": {},
   "source": [
    "### Architectures\n",
    "\n",
    "   - Deep Neural Networks\n",
    "        - It is a neural network that incorporates the complexity of a certain level, which means several numbers of hidden layers are encompassed in between the input and output layers. They are highly proficient on model and process non-linear associations.\n",
    "   - Deep Belief Networks\n",
    "        - A deep belief network is a class of Deep Neural Network that comprises of multi-layer belief networks.\n",
    "        Steps to perform DBN:\n",
    "            - With the help of the Contrastive Divergence algorithm, a layer of features is learned from perceptible units.\n",
    "            - Next, the formerly trained features are treated as visible units, which perform learning of features.\n",
    "            - Lastly, when the learning of the final hidden layer is accomplished, then the whole DBN is trained.\n",
    "   - Recurrent Neural Networks\n",
    "        - It permits parallel as well as sequential computation, and it is exactly similar to that of the human brain (large feedback network of connected neurons). Since they are capable enough to reminisce all of the imperative things related to the input they have received, so they are more precise.\n"
   ]
  },
  {
   "cell_type": "code",
   "execution_count": null,
   "id": "568ef5ec",
   "metadata": {},
   "outputs": [],
   "source": []
  },
  {
   "cell_type": "markdown",
   "id": "bb425ef4",
   "metadata": {},
   "source": [
    "## Types of Deep Learning Networks\n",
    "\n",
    "<img src=\"images/types-of-deep-learning-networks.png\">"
   ]
  },
  {
   "cell_type": "code",
   "execution_count": null,
   "id": "e2823211",
   "metadata": {},
   "outputs": [],
   "source": []
  },
  {
   "cell_type": "markdown",
   "id": "b5748830",
   "metadata": {},
   "source": [
    "### Deep learning applications\n",
    "\n",
    "##### Self-Driving Cars\n",
    "   In self-driven cars, it is able to capture the images around it by processing a huge amount of data, and then it will decide which actions should be incorporated to take a left or right or should it stop. So, accordingly, it will decide what actions it should take, which will further reduce the accidents that happen every year.\n",
    "   \n",
    "##### Voice Controlled Assistance\n",
    "   When we talk about voice control assistance, then Siri is the one thing that comes into our mind. So, you can tell Siri whatever you want it to do it for you, and it will search it for you and display it for you.\n",
    "   \n",
    "##### Automatic Image Caption Generation\n",
    "   Whatever image that you upload, the algorithm will work in such a way that it will generate caption accordingly. If you say blue colored eye, it will display a blue-colored eye with a caption at the bottom of the image.\n",
    "   \n",
    "##### Automatic Machine Translation\n",
    "   With the help of automatic machine translation, we are able to convert one language into another with the help of deep learning.\n"
   ]
  },
  {
   "cell_type": "code",
   "execution_count": null,
   "id": "eaddf3d0",
   "metadata": {},
   "outputs": [],
   "source": []
  },
  {
   "cell_type": "markdown",
   "id": "446874db",
   "metadata": {},
   "source": [
    "### Limitations\n",
    "\n",
    "- It only learns through the observations.\n",
    "- It comprises of biases issues.\n",
    "\n",
    "### Advantages\n",
    "\n",
    "- It lessens the need for feature engineering.\n",
    "- It eradicates all those costs that are needless.\n",
    "- It easily identifies difficult defects.\n",
    "- It results in the best-in-class performance on problems.\n",
    "\n",
    "### Disadvantages\n",
    "\n",
    "- It requires an ample amount of data.\n",
    "- It is quite expensive to train.\n",
    "- It does not have strong theoretical groundwork.\n"
   ]
  },
  {
   "cell_type": "code",
   "execution_count": null,
   "id": "ea22e0ca",
   "metadata": {},
   "outputs": [],
   "source": []
  }
 ],
 "metadata": {
  "kernelspec": {
   "display_name": "Python 3 (ipykernel)",
   "language": "python",
   "name": "python3"
  },
  "language_info": {
   "codemirror_mode": {
    "name": "ipython",
    "version": 3
   },
   "file_extension": ".py",
   "mimetype": "text/x-python",
   "name": "python",
   "nbconvert_exporter": "python",
   "pygments_lexer": "ipython3",
   "version": "3.8.10"
  }
 },
 "nbformat": 4,
 "nbformat_minor": 5
}
