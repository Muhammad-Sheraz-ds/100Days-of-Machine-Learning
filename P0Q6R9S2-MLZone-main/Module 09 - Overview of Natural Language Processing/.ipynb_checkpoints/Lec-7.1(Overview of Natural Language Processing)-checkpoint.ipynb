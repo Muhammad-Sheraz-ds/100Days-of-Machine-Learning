{
 "cells": [
  {
   "cell_type": "markdown",
   "id": "d162b058",
   "metadata": {},
   "source": [
    "---   \n",
    "\n",
    "<h1 align=\"center\">Introduction to Data Analyst and Data Science for beginners</h1>\n",
    "<h1 align=\"center\">Lecture no 7.01(NLP-01)</h1>\n",
    "\n",
    "---\n",
    "<h3><div align=\"right\">Ehtisham Sadiq</div></h3>    "
   ]
  },
  {
   "cell_type": "markdown",
   "id": "7db92d41",
   "metadata": {},
   "source": [
    "<h1 align=\"center\">Lecture 7.1 (Overview of Natural Language Processing)</h1>"
   ]
  },
  {
   "cell_type": "markdown",
   "id": "abbb91a7",
   "metadata": {},
   "source": [
    "<a href=\"https://colab.research.google.com/github/arifpucit/data-science/blob/master/Section-5-(Data-Acquisition)/Lec-5.4(Web-Scraping-using-Selenium-II).ipynb\" target=\"_parent\"><img src=\"https://colab.research.google.com/assets/colab-badge.svg\" alt=\"Open In Colab\"/></a>"
   ]
  },
  {
   "cell_type": "markdown",
   "id": "19b0c47d",
   "metadata": {},
   "source": [
    "<img align=\"center\" width=\"900\"  src=\"images/nlp-overview.png\"  > "
   ]
  },
  {
   "cell_type": "code",
   "execution_count": null,
   "id": "7fc601d6",
   "metadata": {},
   "outputs": [],
   "source": []
  },
  {
   "cell_type": "markdown",
   "id": "1ba18953",
   "metadata": {},
   "source": [
    "# Learning Agenda\n",
    "1. **Overview of NLP and its challenges**\n",
    "\n",
    "\n",
    "2. **Real World Applications**\n",
    "    - Text Classification (Spam / Fake News / Hate speech Detection)\n",
    "    - Sentiment Analysis (Measures polarity of input text)\n",
    "    - Information Extraction\n",
    "    - Search Engines\n",
    "    - Spelling Correction and Auto Completion\n",
    "    - Machine Translation\n",
    "    - Contextual Advertisements \n",
    "    - Text Similarity / Plagiarism Detection\n",
    "    - Text Summarization\n",
    "    - Topic Modeling\n",
    "    - Authorship Attribution\n",
    "    - Recommendation Systems\n",
    "    - Chatbots\n",
    "    - Voice Assistants\n",
    "    - Text Generation (GPT3) and Automated News Generation (Bloomberg)\n",
    "\n",
    "\n",
    "3. **Approaches used to solve NLP use cases**\n",
    "    - Heuristic Method Approach\n",
    "    - Machine Learning Approach\n",
    "    - Deep Learning Based Approach\n",
    "\n",
    "\n",
    "4. **NLP Pipeline**\n",
    "    - Data Acquisition\n",
    "    - Text Preprocessing\n",
    "    - Feature Engineering\n",
    "    - Model Building\n",
    "    - Model Evaluation\n",
    "    - Deployment"
   ]
  },
  {
   "cell_type": "markdown",
   "id": "b6bb6502",
   "metadata": {},
   "source": [
    "<img align=\"right\" width=\"300\"  src=\"images/vandiagram.png\"  > \n",
    "\n",
    "# 1. Overview of NLP and its Challenges\n",
    "- Natural Language Processing (NLP) is a sub-field of linguistics, computer science, and artificial intelligence in which you write programs to teach and train machines so that they can understand human language(s) u text ad spoken form, and can perform actions based on the commands given to them.\n",
    "- In simple words, NLP enables computers to understand and respond to human languages in written, verbal and sign form.\n",
    "- Challenges in natural language processing frequently involve speech recognition, natural language understanding, and natural language generation."
   ]
  },
  {
   "cell_type": "markdown",
   "id": "08d36dc2",
   "metadata": {},
   "source": [
    "<h3 align=\"center\"><div class=\"alert alert-success\" style=\"margin: 20px\">I saw a student on a hill with a microscope</h3>"
   ]
  },
  {
   "cell_type": "code",
   "execution_count": null,
   "id": "78b9ed9a",
   "metadata": {},
   "outputs": [],
   "source": []
  },
  {
   "cell_type": "markdown",
   "id": "df9f8415",
   "metadata": {},
   "source": [
    "<img align=\"center\" width=\"800\"  src=\"images/nlp-challenges.png\"  > "
   ]
  },
  {
   "cell_type": "code",
   "execution_count": null,
   "id": "1bf242fa",
   "metadata": {},
   "outputs": [],
   "source": []
  },
  {
   "cell_type": "markdown",
   "id": "06e69d75",
   "metadata": {},
   "source": [
    "### Referential Ambiguity:\n",
    "<h3 align=\"center\"><div class=\"alert alert-success\" style=\"margin: 20px\">\"I voted for Imran Khan, because he was most aligned with my values\"</h3>"
   ]
  },
  {
   "cell_type": "code",
   "execution_count": null,
   "id": "73bce59a",
   "metadata": {},
   "outputs": [],
   "source": []
  },
  {
   "cell_type": "markdown",
   "id": "58ac95a8",
   "metadata": {},
   "source": [
    "### Lexical Ambiguity:\n",
    "<h3 align=\"center\"><div class=\"alert alert-success\" style=\"margin: 20px\">\"Arif is swimming against the current. I need new batteries for my mouse\"</h3>"
   ]
  },
  {
   "cell_type": "code",
   "execution_count": null,
   "id": "c87c428f",
   "metadata": {},
   "outputs": [],
   "source": []
  },
  {
   "cell_type": "markdown",
   "id": "59175fc1",
   "metadata": {},
   "source": [
    "### Syntactical Ambiguity:\n",
    "<h3 align=\"center\"><div class=\"alert alert-success\" style=\"margin: 20px\">\"I shot an elephant wearing pajamas.\"</h3>"
   ]
  },
  {
   "cell_type": "code",
   "execution_count": null,
   "id": "f5dd1e3c",
   "metadata": {},
   "outputs": [],
   "source": []
  },
  {
   "cell_type": "markdown",
   "id": "e197acb5",
   "metadata": {},
   "source": [
    "### Semantic Ambiguity:\n",
    "<h3 align=\"center\"><div class=\"alert alert-success\" style=\"margin: 20px\">\"Arif and Khurram are married.\"</h3>"
   ]
  },
  {
   "cell_type": "code",
   "execution_count": null,
   "id": "4afcfbee",
   "metadata": {},
   "outputs": [],
   "source": []
  },
  {
   "cell_type": "markdown",
   "id": "f8994c5d",
   "metadata": {},
   "source": [
    "### Anaphoric Ambiguity:\n",
    "<h3 align=\"center\"><div class=\"alert alert-success\" style=\"margin: 20px\">\"I watched a guy do 50 push-ups. Can you do that?\"</h3>"
   ]
  },
  {
   "cell_type": "code",
   "execution_count": null,
   "id": "30690d23",
   "metadata": {},
   "outputs": [],
   "source": []
  },
  {
   "cell_type": "markdown",
   "id": "0668705b",
   "metadata": {},
   "source": [
    "### Colloquialisms and Slang:\n",
    "<h3 align=\"center\"><div class=\"alert alert-success\" style=\"margin: 20px\">\"Working on a Linux shell is like a piece of cake for me, but playing football is not your cup of tea\"</h3>"
   ]
  },
  {
   "cell_type": "code",
   "execution_count": null,
   "id": "0027059c",
   "metadata": {},
   "outputs": [],
   "source": []
  },
  {
   "cell_type": "markdown",
   "id": "541c33c1",
   "metadata": {},
   "source": [
    "# 2. Real World Applications of NLP\n",
    "\n",
    "<img align=\"center\" width=\"600\"  src=\"images/nlp-tasks.png\"  > "
   ]
  },
  {
   "cell_type": "code",
   "execution_count": null,
   "id": "07f47d60",
   "metadata": {},
   "outputs": [],
   "source": []
  },
  {
   "cell_type": "markdown",
   "id": "7fe4cb15",
   "metadata": {},
   "source": [
    "## a. SPAM Filtering\n",
    "<img align=\"center\" width=\"500\"  src=\"images/email-classifier.png\"  > "
   ]
  },
  {
   "cell_type": "code",
   "execution_count": null,
   "id": "4ab37a59",
   "metadata": {},
   "outputs": [],
   "source": []
  },
  {
   "cell_type": "markdown",
   "id": "01db9633",
   "metadata": {},
   "source": [
    "## b. Sentiment Analysis\n",
    "<img align=\"center\" width=\"800\"  src=\"images/senti-analysis.png\"  > "
   ]
  },
  {
   "cell_type": "code",
   "execution_count": null,
   "id": "7799b63e",
   "metadata": {},
   "outputs": [],
   "source": []
  },
  {
   "cell_type": "markdown",
   "id": "f86bdfd1",
   "metadata": {},
   "source": [
    "## c. Information Extraction\n",
    "<img align=\"center\" width=\"500\"  src=\"images/ie.png\"  >"
   ]
  },
  {
   "cell_type": "code",
   "execution_count": null,
   "id": "f35fa627",
   "metadata": {},
   "outputs": [],
   "source": []
  },
  {
   "cell_type": "markdown",
   "id": "ad7e747d",
   "metadata": {},
   "source": [
    "## d. Search Engines / Information Retrieval\n",
    "<img align=\"center\" width=\"600\"  src=\"images/pak-capital1.png\"  > "
   ]
  },
  {
   "cell_type": "code",
   "execution_count": null,
   "id": "b9c87e49",
   "metadata": {},
   "outputs": [],
   "source": []
  },
  {
   "cell_type": "markdown",
   "id": "c979d183",
   "metadata": {},
   "source": [
    "## e. Spelling Detection/Correction and Auto-complete Features\n",
    "\n",
    "<img align=\"center\" width=\"600\"  src=\"images/auto-complete.png\"  > "
   ]
  },
  {
   "cell_type": "code",
   "execution_count": null,
   "id": "1692aeb4",
   "metadata": {},
   "outputs": [],
   "source": []
  },
  {
   "cell_type": "markdown",
   "id": "d384ce11",
   "metadata": {},
   "source": [
    "## f. Machine Translation\n",
    "<img align=\"center\" width=\"800\"  src=\"images/machine-translate.png\"  > "
   ]
  },
  {
   "cell_type": "code",
   "execution_count": null,
   "id": "c8bda1bd",
   "metadata": {},
   "outputs": [],
   "source": []
  },
  {
   "cell_type": "markdown",
   "id": "0e783c03",
   "metadata": {},
   "source": [
    "## g. Contextual Advertisement\n",
    "\n",
    "<img align=\"center\" width=\"700\"  src=\"images/contextualAd.png\"  > "
   ]
  },
  {
   "cell_type": "code",
   "execution_count": null,
   "id": "3ce5660b",
   "metadata": {},
   "outputs": [],
   "source": []
  },
  {
   "cell_type": "markdown",
   "id": "62c9592c",
   "metadata": {},
   "source": [
    "## h. Text Similarity / Plagiarism Detection using turnitin\n",
    "<img align=\"center\" width=\"600\"  src=\"images/similarity.jpeg\"  >"
   ]
  },
  {
   "cell_type": "code",
   "execution_count": null,
   "id": "1e458aa6",
   "metadata": {},
   "outputs": [],
   "source": []
  },
  {
   "cell_type": "markdown",
   "id": "95314eb2",
   "metadata": {},
   "source": [
    "## i. Text Summarization\n",
    "<img align=\"center\" width=\"700\"  src=\"images/text-summarization.png\"  > \n"
   ]
  },
  {
   "cell_type": "code",
   "execution_count": null,
   "id": "c879b25f",
   "metadata": {},
   "outputs": [],
   "source": []
  },
  {
   "cell_type": "markdown",
   "id": "376b2fda",
   "metadata": {},
   "source": [
    "## j. Topic Modeling\n",
    "<img align=\"center\" width=\"600\"  src=\"images/topic-modeling.png\"  > \n"
   ]
  },
  {
   "cell_type": "code",
   "execution_count": null,
   "id": "cf7b2484",
   "metadata": {},
   "outputs": [],
   "source": []
  },
  {
   "cell_type": "markdown",
   "id": "ac6be1b7",
   "metadata": {},
   "source": [
    "## j. Authorship Attribution\n",
    "<img align=\"center\" width=\"400\"  src=\"images/auth-attr1.png\"  > \n"
   ]
  },
  {
   "cell_type": "code",
   "execution_count": null,
   "id": "ad82836b",
   "metadata": {},
   "outputs": [],
   "source": []
  },
  {
   "cell_type": "markdown",
   "id": "1b39c8ea",
   "metadata": {},
   "source": [
    "## k. Recommendation Systems\n",
    "<img align=\"center\" width=\"700\"  src=\"images/recommendation-sys.png\"  >\n"
   ]
  },
  {
   "cell_type": "code",
   "execution_count": null,
   "id": "ea71cb0b",
   "metadata": {},
   "outputs": [],
   "source": []
  },
  {
   "cell_type": "markdown",
   "id": "01500985",
   "metadata": {},
   "source": [
    "## k. Chatbots / Conversational Agents\n",
    "<img align=\"center\" width=\"600\"  src=\"images/chatbot.jpeg\"  > \n"
   ]
  },
  {
   "cell_type": "code",
   "execution_count": null,
   "id": "d679c3ab",
   "metadata": {},
   "outputs": [],
   "source": []
  },
  {
   "cell_type": "markdown",
   "id": "f7878159",
   "metadata": {},
   "source": [
    "## l. Voice Assistants\n",
    "\n",
    "<img align=\"center\" width=\"700\"  src=\"images/voice-asst.png\"  > "
   ]
  },
  {
   "cell_type": "code",
   "execution_count": null,
   "id": "67a7e60a",
   "metadata": {},
   "outputs": [],
   "source": []
  },
  {
   "cell_type": "markdown",
   "id": "d8230cc5",
   "metadata": {},
   "source": [
    "# 3. Approaches used to solve NLP use cases\n",
    "- Till now we have read about different applications and all that we have achieved using NLP  till now then the question arises is how did we achieve it? What approaches or techniques were used to archive those applications? So 3 approaches were used which are described below.\n",
    "\n",
    "<img align=\"center\" width=\"800\"  src=\"images/nlp-approaches2.png\"  > "
   ]
  },
  {
   "cell_type": "code",
   "execution_count": null,
   "id": "039582e8",
   "metadata": {},
   "outputs": [],
   "source": []
  },
  {
   "cell_type": "markdown",
   "id": "b4882c5f",
   "metadata": {},
   "source": [
    "## a. Heuristic/Rule-Based Approach to solve NLP Problems (1950 onwards)\n",
    "<img align=\"right\" width=\"400\"  src=\"images/heuristic-methods.png\"  > \n",
    "\n",
    "- A heuristic approach simply means a rule-based approach to prolem-solving that employs a practical method which is not guaranteed to be optimal, but is sufficient for reaching an immediate, short-term goal or approximation\n",
    "- Examples:\n",
    "    - Dictionary based sentiment analysis\n",
    "    - WordNET (lexical database of semantic relations between words)\n",
    "    - Open Mind Common Sense (OMCS)\n",
    "    - Regular Expression\n",
    "- Advantages:\n",
    "    - It is accurate because of human involvement\n",
    "    - It is a quick approach\n",
    "- Disadvantages:\n",
    "    - It requires knowledge and experience to apply heuristics effectively\n",
    "    - You should have to use multiple experts and aggregate their results\n",
    "    - Sometimes time-consuming"
   ]
  },
  {
   "cell_type": "code",
   "execution_count": null,
   "id": "a1d8b528",
   "metadata": {},
   "outputs": [],
   "source": []
  },
  {
   "cell_type": "markdown",
   "id": "72d5c5cc",
   "metadata": {},
   "source": [
    "## b. Machine Learning Based Approach to solve NLP Problems (1990 onwards)\n",
    "\n",
    "<img align=\"right\" width=\"500\"  src=\"images/ml-approach.png\"  > \n",
    "\n",
    "\n",
    "- In the heuristic method, human experts are supposed to create the rules by deeply analyzing and observing the data which is a cumbersome method when there are many rules and the dataset is huge so Machine learning algorithms prove to be beneficial because they are capable of defining and creating their own rules and also given good performance as compared to heuristic approach\n",
    "- The machine learning approaches can be supervised or unsupervised and can be classification or regression\n",
    "    - Supervised ML Algorithms used in NLP:\n",
    "        - Naïve Bayes\n",
    "        - Logistic Regression\n",
    "        - Support Vector Machine\n",
    "        - Decision Trees\n",
    "        - Random Forrest\n",
    "    - Un-supervised ML Algorithms used in NLP:\n",
    "        - K-Mean Clustering\n",
    "        - Latent Semantic Indexing\n",
    "        - Latent Dirichlet allocation (LDA)\n",
    "        - Non-negative Matrix Factorization\n",
    "        - Hidden Markov Model (HMMs can be trained both in an unsupervised and in a supervised fashion)"
   ]
  },
  {
   "cell_type": "code",
   "execution_count": null,
   "id": "70394fcd",
   "metadata": {},
   "outputs": [],
   "source": []
  },
  {
   "cell_type": "markdown",
   "id": "154b199b",
   "metadata": {},
   "source": [
    "## c. Deep Learning Based Approach to solve NLP Problems (2010 onwards)\n",
    "<img align=\"center\" width=\"800\"  src=\"images/dl-approach.png\"  > \n",
    "\n",
    "- Deep learning  is a subfield of machine learning concerned with algorithms inspired by the structure and function of the brain called artificial neural networks (ANN). Learning can be supervised, semi-supervised or unsupervised\n",
    "- Deep-learning architectures such as deep neural networks, deep belief networks, deep reinforcement learning, recurrent neural networks, convolutional neural networks and Transformers have been applied to fields including computer vision, speech recognition, natural language processing, machine translation, bioinformatics, drug design, medical image analysis, climate science, material inspection and board game programs, where they have produced results comparable to and in some cases surpassing human expert performance\n",
    "\n",
    "- Advantages of DL over ML:\n",
    "    - In Deep learning, feature generation is automatic\n",
    "    - In Deep learning, the sequence information is retained (Word2Vec, FastText, GloVe)\n",
    "\n",
    "- Deep Learning models\n",
    "    - CNN (Convolutional Neural Networks)\n",
    "    - RNN (Recurrent Neural Networks)\n",
    "    - LSTM (Long-term Short-Term Memory)\n",
    "    - GRU (Gated Recurrent Unit)\n",
    "    - Transformers\n",
    "        - BERT (Bidirectional Encoder Representations from Transformers)\n",
    "        - GPT (Generative Pre-trained Transformer)"
   ]
  },
  {
   "cell_type": "code",
   "execution_count": null,
   "id": "52f350a9",
   "metadata": {},
   "outputs": [],
   "source": []
  },
  {
   "cell_type": "markdown",
   "id": "6955b998",
   "metadata": {},
   "source": [
    "# 4. NLP Pipeline\n",
    "<img align=\"center\" width=\"900\"  src=\"images/nlp-pipeline.png\"  > "
   ]
  },
  {
   "cell_type": "code",
   "execution_count": null,
   "id": "6b64a3c4",
   "metadata": {},
   "outputs": [],
   "source": []
  },
  {
   "cell_type": "markdown",
   "id": "6f76dfa7",
   "metadata": {},
   "source": [
    "# a. Data Acquisition:\n",
    "\n",
    "<img align=\"right\" width=\"600\" src=\"images/data-acquisition.png\"  >\n",
    "\n",
    "- **Use Libraries Built-in Datasets:**\n",
    "    - Seaborn: (iris, titanic, tips, flights, panguins, car_crashes)\n",
    "    - Scikit-learn: (iris, digits, diaetes, ostan housing) \n",
    "    - NLTK: (movie-reviews, product_reviews, twitter_samples, gutenerg, genesis, timeit, voice, wordnet, sentiword)\n",
    "    \n",
    "- **Use Public Dataset Repositories:**\n",
    "    - https://www.kaggle.com/\n",
    "    - https://data.gov/\n",
    "    - https://archive.ics.uci.edu/ml/index.php\n",
    "    - https://github.com/\n",
    "- **Use Company's Database:** (SQL, NOSQL, Data warehouse, Data lake)\n",
    "- **Generate your own Datasets:**\n",
    "    - Use Web scraping or Web API </li>\n",
    "    - IoT Devices </li>\n",
    "    - Crowd Sourcing (Amazon Mechanical Turk, Lionbridge AI)\n",
    "    - Data Augmentation\n",
    "    \n",
    ">- Data Acquisition using web scraping: https://www.youtube.com/playlist?list=PL7B2bn3G_wfCODLEzjCrpq-GsstBFcygc\n",
    "\n",
    "<h3 align=\"center\"><div class=\"alert alert-success\" style=\"margin: 20px\">Better data often beats better algorithms</h3>"
   ]
  },
  {
   "cell_type": "code",
   "execution_count": null,
   "id": "0f88da80",
   "metadata": {},
   "outputs": [],
   "source": []
  },
  {
   "cell_type": "markdown",
   "id": "909b3d9c",
   "metadata": {},
   "source": [
    "# b. Text Pre-Processing\n",
    "\n",
    "<img align=\"right\" width=\"600\" src=\"images/text-preprocessing.png\"  >\n",
    "\n",
    "- **Text Cleaning:** \n",
    "    - Removing digits and words containing digits\n",
    "    - Removing newline characters and extra spaces\n",
    "    - Removing HTML tags\n",
    "    - Removing URLs\n",
    "    - Removing punctuations\n",
    "    - Handle emojis\n",
    "    - Spelling correction\n",
    "\n",
    "- **Basic Preprocessing:** \n",
    "    - Case folding\n",
    "    - Expand contractions\n",
    "    - Chat word treatment\n",
    "    - Spelling correction\n",
    "    - Tokenization and N-grams\n",
    "    - Removing stop words\n",
    "\n",
    "- **Advance Preprocessing:**\n",
    "    - Stemming\n",
    "    - Lemmatization\n",
    "    - POS tagging\n",
    "    - Parsing\n",
    "    - Coreference Resolution"
   ]
  },
  {
   "cell_type": "markdown",
   "id": "3f58fdc8",
   "metadata": {},
   "source": []
  },
  {
   "cell_type": "code",
   "execution_count": null,
   "id": "c1b69978",
   "metadata": {},
   "outputs": [],
   "source": []
  },
  {
   "cell_type": "markdown",
   "id": "b02707b4",
   "metadata": {},
   "source": [
    "# c. Feature Engineering\n",
    "<img align=\"center\" width=\"900\"  src=\"images/feature-engr-models.png\"  > \n",
    "\n",
    "- Once the text pre-processing is done, we need to transform it into their features to be used for modeling. We assign numeric weights to words within our document, so that it can be fed to some machine/deep learning algorithm. This assignment of weights to words is done in such a way that the number represent the meaning of that word.\n",
    "\n",
    "- The process of converting text data into vectors of real numbers is called `Feature Extraction from text` or `Text Representation` or `Text Vectorization`, whose goal is converting the text data into numbers in such a way that those numbers should be able to tell the semantic or meaning of those words.\n",
    "\n",
    "- The two main categories and their sub-categories of word embeddings are:\n",
    "    - **Frequency Based Word Embedding Techniques:**\n",
    "        - Bag of Words (BoW)\n",
    "        - Term Frequency - Inverse Document Frequency (TFIDF)\n",
    "        - Global Vectors (GloVe)\n",
    "    - **Prediction Based Word Embedding Techniques:**\n",
    "        - Word2Vec (Google, 2013)\n",
    "        -  FastText (Facebook, 2016)"
   ]
  },
  {
   "cell_type": "code",
   "execution_count": null,
   "id": "3693cbc1",
   "metadata": {},
   "outputs": [],
   "source": []
  },
  {
   "cell_type": "markdown",
   "id": "0581d93d",
   "metadata": {},
   "source": [
    "# d. Model Building\n",
    "\n",
    "<img align=\"center\" width=\"800\"  src=\"images/dl-approach.png\"  > \n",
    "\n",
    "- The machine learning approaches can be supervised or unsupervised and can be classification or regression\n",
    "    - Supervised ML Algorithms used in NLP:\n",
    "        - Naïve Bayes\n",
    "        - Logistic Regression\n",
    "        - Support Vector Machine\n",
    "        - Decision Trees\n",
    "        - Random Forrest\n",
    "    - Un-supervised ML Algorithms used in NLP:\n",
    "        - K-Mean Clustering\n",
    "        - Latent Semantic Indexing\n",
    "        - Latent Dirichlet allocation (LDA)\n",
    "        - Non-negative Matrix Factorization\n",
    "        - Hidden Markov Model (HMMs can be trained both in an unsupervised and in a supervised fashion)\n",
    "\n",
    "\n",
    "- Deep Learning models\n",
    "    - CNN (Convolutional Neural Networks)\n",
    "    - RNN (Recurrent Neural Networks)\n",
    "    - LSTM (Long-term Short-Term Memory)\n",
    "    - GRU (Gated Recurrent Unit)\n",
    "    - Transformers\n",
    "        - BERT (Bidirectional Encoder Representations from Transformers)\n",
    "        - GPT (Generative Pre-trained Transformer)\n",
    "\n",
    "- If the dataset has a fewer number of observations and a higher number of features, choose algorithms with high bias/low variance like Linear regression, Naïve Bayes, Linear SVM\n",
    "- If the training data is sufficiently large and the number of observations is higher as compared to the number of features, one can go for low bias/high variance algorithms like KNN, Decision trees, kernel SVM"
   ]
  },
  {
   "cell_type": "code",
   "execution_count": null,
   "id": "271080bc",
   "metadata": {},
   "outputs": [],
   "source": []
  },
  {
   "cell_type": "markdown",
   "id": "ab57ccf7",
   "metadata": {},
   "source": [
    "# e. Model Evaluation\n",
    "\n",
    "<img align=\"center\" width=\"500\"  src=\"images/model-evaluation.jpeg\"  > \n",
    "\n",
    "- Model evaluation is the process of using different evaluation metrics to understand a machine learning model's performance, as well as its strengths and weaknesses\n",
    "- **Evaluation Metrics for Classification Algorithms:**\n",
    "    - Confusion Matrix\n",
    "    - Accuracy\n",
    "    - Precision\n",
    "    - Recall\n",
    "    - F1-Score\n",
    "    - AUC-ROC (Receiver Operator Characteristic (ROC) curve\n",
    "- **Evaluation Metrics for Regression Algorithms:**\n",
    "    - Mean Absolute Error (MAE)\n",
    "    - Mean Squared Error (MSE)\n",
    "    - Root Mean Squared Error (RMSE)\n",
    "    - R-Squared (coefficient of determination)\n",
    "    - Adjusted R-Squared\n",
    ">- For details read this blog: https://blog.knoldus.com/model-evaluation-metrics-for-machine-learning-algorithms/"
   ]
  },
  {
   "cell_type": "code",
   "execution_count": null,
   "id": "4213fc06",
   "metadata": {},
   "outputs": [],
   "source": []
  },
  {
   "cell_type": "markdown",
   "id": "7567173c",
   "metadata": {},
   "source": [
    "# f. Model Deployment\n",
    "\n",
    "<img align=\"center\" width=\"800\"  src=\"images/deployment.png\"  > \n"
   ]
  },
  {
   "cell_type": "code",
   "execution_count": null,
   "id": "29f43002",
   "metadata": {},
   "outputs": [],
   "source": []
  }
 ],
 "metadata": {
  "kernelspec": {
   "display_name": "Python 3 (ipykernel)",
   "language": "python",
   "name": "python3"
  },
  "language_info": {
   "codemirror_mode": {
    "name": "ipython",
    "version": 3
   },
   "file_extension": ".py",
   "mimetype": "text/x-python",
   "name": "python",
   "nbconvert_exporter": "python",
   "pygments_lexer": "ipython3",
   "version": "3.8.10"
  }
 },
 "nbformat": 4,
 "nbformat_minor": 5
}
