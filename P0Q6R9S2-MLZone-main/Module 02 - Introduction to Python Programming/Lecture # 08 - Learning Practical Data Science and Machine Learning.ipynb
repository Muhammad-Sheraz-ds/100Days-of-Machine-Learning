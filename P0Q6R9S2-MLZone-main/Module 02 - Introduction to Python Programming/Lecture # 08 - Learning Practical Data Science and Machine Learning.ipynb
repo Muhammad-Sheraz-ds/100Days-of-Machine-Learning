{
 "cells": [
  {
   "cell_type": "markdown",
   "id": "dbd5aa33",
   "metadata": {},
   "source": [
    "<img src=\"images/intro-8.png\" height=1000px width=1000px>\n"
   ]
  },
  {
   "cell_type": "code",
   "execution_count": null,
   "id": "d45c88a0",
   "metadata": {},
   "outputs": [],
   "source": []
  },
  {
   "cell_type": "code",
   "execution_count": null,
   "id": "9717d7f2",
   "metadata": {},
   "outputs": [],
   "source": [
    "# # Python Built-in Data structures\n",
    "# - Mutable DS(List, Dictionary, Set)\n",
    "# - Immutable DS(String, Tuple, Numbers(int, float, bool))\n",
    "\n",
    "# Conditional \n",
    "#     - if statement\n",
    "#     - if-else statement\n",
    "#     - if-elif-else statement\n",
    "\n",
    "# Repetitional Statements \n",
    "#     - While loop\n",
    "#     - for loop"
   ]
  },
  {
   "cell_type": "code",
   "execution_count": null,
   "id": "3ab10038",
   "metadata": {},
   "outputs": [],
   "source": [
    "# How to create dictionaries?\n",
    "# {'key':12, }\n",
    "# key-> immutable(int, string, tuple)\n",
    "# value-> mutable(list, dict, tuple, int, etc)\n",
    "\n",
    "# Proof of concepts\n",
    "# key-> unique(does allow duplicate)\n",
    "# values -> duplicates\n",
    "\n",
    "# Accessing elements of a dictionary\n",
    "# dict.get(\"key\")\n",
    "# dict[\"key\"] -> this returns value.\n",
    "\n",
    "# Adding/Modifying elements of a dictionary\n",
    "# dict[\"key\"] = \n",
    "# dict.update()\n",
    "\n",
    "# Removing elements from a dictionary\n",
    "# del \n",
    "# dict.\n",
    "# clear\n",
    "\n",
    "\n",
    "# Dictionary, tuple and list conversions\n",
    "# list(dict.keys())\n",
    "# list(dict.values())\n",
    "\n",
    "\n",
    "\n",
    "# Sorting Dictionary values\n",
    "# sorted(iterable, key=custom-function, reverse=False/True)\n",
    "# Sorting of Json file\n",
    "\n",
    "\n",
    "# Aliasing vs Shallow Copy vs Deep Copy\n",
    "\n",
    "# Bonus: Dictionary(missing values, null values, duplicates operations) -> Dataframe(table containing rows and columns)(Pandas) -> CSV files"
   ]
  },
  {
   "cell_type": "code",
   "execution_count": null,
   "id": "425ea439",
   "metadata": {},
   "outputs": [],
   "source": []
  },
  {
   "cell_type": "code",
   "execution_count": null,
   "id": "90309d3f",
   "metadata": {},
   "outputs": [],
   "source": []
  },
  {
   "cell_type": "code",
   "execution_count": null,
   "id": "3d12db70",
   "metadata": {},
   "outputs": [],
   "source": []
  },
  {
   "cell_type": "markdown",
   "id": "22f54aa8",
   "metadata": {},
   "source": [
    "<h1 align=\"center\" style=\"color:red\"> If-elif-else </h1>"
   ]
  },
  {
   "cell_type": "code",
   "execution_count": null,
   "id": "ef46a265",
   "metadata": {},
   "outputs": [],
   "source": []
  },
  {
   "cell_type": "markdown",
   "id": "85ce601a",
   "metadata": {},
   "source": [
    "## Learning agenda of this notebook\n",
    "There are scenarios in programming, where we need to make a decision and based on that decision we want the flow of execution to move to one block of code or the other. In Python this decision making is done using `if...else` statements.\n",
    "1. Python Indentation\n",
    "2. Branching with `if`, `else`, and `elif`\n",
    "    - `if` statement\n",
    "    - `if...else` statement\n",
    "    - Ternary operator\n",
    "    - Nested `if...else` statement\n",
    "    - Ladder of `if...elif...else`\n",
    "3. The `pass` statement"
   ]
  },
  {
   "cell_type": "code",
   "execution_count": null,
   "id": "c06c9b8d",
   "metadata": {},
   "outputs": [],
   "source": [
    "a = 9+6 #this is a statement(One line of code), right side value is called a expression, here `a` is a variable"
   ]
  },
  {
   "cell_type": "code",
   "execution_count": null,
   "id": "3fac9bf0",
   "metadata": {},
   "outputs": [],
   "source": [
    "a"
   ]
  },
  {
   "cell_type": "code",
   "execution_count": null,
   "id": "70276de2",
   "metadata": {},
   "outputs": [],
   "source": []
  },
  {
   "cell_type": "markdown",
   "id": "f1e3dcfe",
   "metadata": {},
   "source": [
    "## 1.  Python Expression, Statements and Indentation\n",
    "\n",
    "> **Expressions and Statements**: An expression is some code that evaluates to a value. As a rule of thumb, an expression is anything that can appear on the right side of the assignment operator `=`. On the contrary a statement is an instruction that can be executed. \n",
    "\n",
    "> **Python Indentation**:\n",
    ">- Most programming languages like C, C++, Java use braces { } to define a block of code. \n",
    ">- Python use indentation to tell the interpreter that the group of statements belongs to a particular block of code. \n",
    ">- Whitespace is used for indentation in Python. All statements with the same distance to the right belong to the same block of code. If a block has to be more deeply nested, it is simply indented further to the right. \n",
    ">- Python uses 4 spaces as indentation by default. However, the number of spaces is up to you, but a minimum of 1 space has to be used. \n",
    ">- Pressing `Tab` in a Jupyter notebook cell, will indent the code by 4 spaces, and pressing `Shift+Tab` will reduce the indentation by 4 spaces. "
   ]
  },
  {
   "cell_type": "markdown",
   "id": "d3d9bffb",
   "metadata": {},
   "source": [
    "<img src=\"images/indentation.jpg\" height=600 width=600>"
   ]
  },
  {
   "cell_type": "code",
   "execution_count": null,
   "id": "4673fd83",
   "metadata": {},
   "outputs": [],
   "source": [
    "# name = \"Sam\"\n",
    "\n",
    "# if name == \"Sam\":\n",
    "# print(\"Hello Sam\")\n",
    "# else:\n",
    "# print(\"Hello dude\")\n",
    "# print(\"How  are you?\")"
   ]
  },
  {
   "cell_type": "code",
   "execution_count": null,
   "id": "225a729f",
   "metadata": {},
   "outputs": [],
   "source": [
    "# name = \"Sam\"\n",
    "\n",
    "# if name == \"Sam\":\n",
    "#     print(\"Hello Sam\")\n",
    "# else:\n",
    "#     print(\"Hello dude\")\n",
    "\n",
    "# print(\"How  are you?\")"
   ]
  },
  {
   "cell_type": "code",
   "execution_count": null,
   "id": "81ded97d",
   "metadata": {},
   "outputs": [],
   "source": []
  },
  {
   "cell_type": "code",
   "execution_count": null,
   "id": "4e755077",
   "metadata": {},
   "outputs": [],
   "source": [
    "# def display(name):\n",
    "#     a = 5\n",
    "#     b = 7\n",
    "#     print (\"Hello\", name, \"Welcome to Data Science Course!\")\n",
    "#     c = 8\n",
    "#     def display2(name):\n",
    "#         print(name)\n",
    "#     return a,b,c"
   ]
  },
  {
   "cell_type": "code",
   "execution_count": null,
   "id": "f28e9a59",
   "metadata": {},
   "outputs": [],
   "source": [
    "# display('Ehtisham Sadiq')"
   ]
  },
  {
   "cell_type": "code",
   "execution_count": null,
   "id": "b162f5ef",
   "metadata": {},
   "outputs": [],
   "source": [
    "# # total = 3+4\n",
    "# # total\n",
    "# def display():\n",
    "#     name = \"Ehtisham\"\n",
    "#     age = 21\n",
    "#     return name,age\n",
    "\n",
    "# Class = \"SE\""
   ]
  },
  {
   "cell_type": "code",
   "execution_count": null,
   "id": "5cbe8f4a",
   "metadata": {},
   "outputs": [],
   "source": [
    "# # display()\n",
    "# # name\n",
    "# Class"
   ]
  },
  {
   "cell_type": "code",
   "execution_count": null,
   "id": "56fdda25",
   "metadata": {},
   "outputs": [],
   "source": [
    "a = 5\n",
    "b = 6 # Giving an extra extra space without the need of a block will flag an error\n",
    "print(a,b)"
   ]
  },
  {
   "cell_type": "code",
   "execution_count": null,
   "id": "411afb08",
   "metadata": {},
   "outputs": [],
   "source": [
    "if (2 == 1):\n",
    "    print(\"Hello!\")\n",
    "    \n",
    "print('True Statement')  # Not doing an indentation also flags an error"
   ]
  },
  {
   "cell_type": "code",
   "execution_count": null,
   "id": "3e6be172",
   "metadata": {},
   "outputs": [],
   "source": []
  },
  {
   "cell_type": "code",
   "execution_count": null,
   "id": "9cb9f7cd",
   "metadata": {},
   "outputs": [],
   "source": []
  },
  {
   "cell_type": "markdown",
   "id": "3a39551f",
   "metadata": {},
   "source": [
    "## 2. Branching with `if`, `else` and `elif`\n",
    "One of the most powerful features of programming languages is *branching*: the ability to make decisions and execute a different set of statements based on whether one or more conditions are true."
   ]
  },
  {
   "cell_type": "code",
   "execution_count": null,
   "id": "d8aefd78",
   "metadata": {},
   "outputs": [],
   "source": []
  },
  {
   "cell_type": "markdown",
   "id": "5f2e034e",
   "metadata": {},
   "source": [
    "### a. `if` Statement\n",
    "<img align=\"right\" width=\"300\" height=\"300\"  src=\"images/if1.png\" > \n",
    "\n",
    "In Python, branching is implemented using the `if` statement, which is written as follows:\n",
    "\n",
    "```\n",
    "if condition:\n",
    "    statement1\n",
    "    statement2\n",
    "statement(s)\n",
    "```\n",
    "\n",
    "- The `condition` can be a value, variable or expression. \n",
    "- If the condition evaluates to `True`, then the statements within the *`if` block* are executed. \n",
    "- Notice the four spaces before `statement1`, and `statement2`, which inform Python interpreter that these statements are associated with the `if` statement above. \n",
    "- This technique of structuring code by adding spaces is called *indentation*.\n"
   ]
  },
  {
   "cell_type": "code",
   "execution_count": null,
   "id": "63b134c0",
   "metadata": {},
   "outputs": [],
   "source": [
    "help('if')"
   ]
  },
  {
   "cell_type": "code",
   "execution_count": null,
   "id": "ecdea0c7",
   "metadata": {},
   "outputs": [],
   "source": [
    "help('TRUTHVALUE')"
   ]
  },
  {
   "cell_type": "markdown",
   "id": "8c3cb597",
   "metadata": {},
   "source": [
    "In Python the following values evaluate to `False` (they are often called *falsy* values):\n",
    "1. The value `False` itself\n",
    "2. The integer `0`\n",
    "3. The float `0.0`\n",
    "4. The empty value `None` \n",
    "5. The empty text `\"\"`\n",
    "6. The empty list `[]`\n",
    "7. The empty tuple `()`\n",
    "8. The empty dictionary `{}`\n",
    "9. The empty set `set()`\n",
    "10. The empty range `range(0)`\n",
    "\n",
    "Everything else evaluates to `True` (a value that evaluates to `True` is often called a *truthy* value).\n",
    "\n",
    "The **None** type includes a single value `None`, used to indicate the absence of a value. `None` has the type `NoneType`. It is often used to declare a variable whose value may be assigned later or as a return value of functions that do not return a value"
   ]
  },
  {
   "cell_type": "code",
   "execution_count": null,
   "id": "58a6a3a7",
   "metadata": {},
   "outputs": [],
   "source": []
  },
  {
   "cell_type": "code",
   "execution_count": null,
   "id": "f75afdf8",
   "metadata": {},
   "outputs": [],
   "source": [
    "a = False\n",
    "b = bool(0)\n",
    "c = bool(0.0)\n",
    "d = bool(None)\n",
    "print(a, b,c, d)"
   ]
  },
  {
   "cell_type": "code",
   "execution_count": null,
   "id": "6ab704d4",
   "metadata": {},
   "outputs": [],
   "source": [
    "print(type(None))\n",
    "# var = None"
   ]
  },
  {
   "cell_type": "code",
   "execution_count": null,
   "id": "bc951f51",
   "metadata": {},
   "outputs": [],
   "source": []
  },
  {
   "cell_type": "code",
   "execution_count": null,
   "id": "839e0850",
   "metadata": {},
   "outputs": [],
   "source": [
    "x = 2\n",
    "\n",
    "print(x==2) # comaparing content 2==1\n",
    "\n",
    "print(x==3)"
   ]
  },
  {
   "cell_type": "code",
   "execution_count": null,
   "id": "2d727491",
   "metadata": {},
   "outputs": [],
   "source": []
  },
  {
   "cell_type": "code",
   "execution_count": null,
   "id": "3a5c1e7a",
   "metadata": {},
   "outputs": [],
   "source": [
    "# Example:\n",
    "x = 2\n",
    "if (x == 2): # you can put parenthesis around condition, but it is OK if you dont\n",
    "    print('This will execute, only if the condition is true')\n",
    "    print(\"I'm in if block!\")\n",
    "    \n",
    "print(\"\\n\\n\\nI'm not in if block\")\n",
    "print(\"Hello\")    \n",
    "print('This will always execute')\n",
    "print(\"Done!\")"
   ]
  },
  {
   "cell_type": "code",
   "execution_count": null,
   "id": "3ae60c6c",
   "metadata": {},
   "outputs": [],
   "source": []
  },
  {
   "cell_type": "code",
   "execution_count": null,
   "id": "ec30cffd",
   "metadata": {},
   "outputs": [],
   "source": [
    "# Example:\n",
    "x = 2\n",
    "if (x == 3): # you can put parenthesis around condition, but it is OK if you dont\n",
    "    print('This will execute, only if the condition is true')\n",
    "    print(\"I'm in if block!\")\n",
    "    \n",
    "print(\"\\n\\n\\nI'm not in if block\")\n",
    "print(\"Hello\")    \n",
    "print('This will always execute')\n",
    "print(\"Done!\")"
   ]
  },
  {
   "cell_type": "code",
   "execution_count": null,
   "id": "93a3e46e",
   "metadata": {},
   "outputs": [],
   "source": []
  },
  {
   "cell_type": "code",
   "execution_count": null,
   "id": "e6886853",
   "metadata": {},
   "outputs": [],
   "source": [
    "# take input from user/prompts  -> input()"
   ]
  },
  {
   "cell_type": "code",
   "execution_count": null,
   "id": "2e49c278",
   "metadata": {},
   "outputs": [],
   "source": [
    "# Example , take age of user and tell her/him , about his/her age status\n",
    "age = int(input(\"Enter your age : \"))\n",
    "\n",
    "\n",
    "if age >= 18:\n",
    "    print(\"You are a young person!\")\n",
    "    \n",
    "print(\"Done!\")"
   ]
  },
  {
   "cell_type": "code",
   "execution_count": null,
   "id": "d18eb069",
   "metadata": {},
   "outputs": [],
   "source": []
  },
  {
   "cell_type": "code",
   "execution_count": null,
   "id": "a23aa911",
   "metadata": {},
   "outputs": [],
   "source": []
  },
  {
   "cell_type": "code",
   "execution_count": null,
   "id": "9561a5c4",
   "metadata": {},
   "outputs": [],
   "source": []
  },
  {
   "cell_type": "markdown",
   "id": "59bdac9b",
   "metadata": {},
   "source": [
    "### b. `if...else` statement\n",
    "<img align=\"right\" width=\"400\" height=\"300\"  src=\"images/ifelse.png\" > \n",
    "\n",
    "- The simple `if` statement shown above tells us that if a condition is True it will execute a block of statements and if the condition is False it won’t. \n",
    "- But what if we want to do something else if the condition is false. \n",
    "- Here comes the `else` statement. We can use the `else` statement with `if` statement to execute a block of code when the condition is False. It is written as follows:\n",
    "\n",
    "```\n",
    "if condition:\n",
    "    statement1\n",
    "    statement2\n",
    "else:\n",
    "    statement3\n",
    "    statement4\n",
    "remaining statement(s)\n",
    "```\n",
    "\n",
    "If `condition` evaluates to `True`, the statements in the `if` block are executed. If it evaluates to `False`, the statements in the `else` block are executed."
   ]
  },
  {
   "cell_type": "code",
   "execution_count": null,
   "id": "e4469b9d",
   "metadata": {},
   "outputs": [],
   "source": [
    "# Example , take age of user and tell her/him , about his/her age status\n",
    "age = int(input(\"Enter your age : \"))\n",
    "\n",
    "\n",
    "if age>=18:\n",
    "    print(\"You are a young person!\")\n",
    "    print(\"I'm in the if Block\")\n",
    "    \n",
    "else:\n",
    "    print(\"Your are a teenager!\")\n",
    "    print(\"I'm in the else block\")\n",
    "\n",
    "print(\"Done!\")"
   ]
  },
  {
   "cell_type": "code",
   "execution_count": null,
   "id": "4621e3a0",
   "metadata": {},
   "outputs": [],
   "source": []
  },
  {
   "cell_type": "code",
   "execution_count": null,
   "id": "3771980a",
   "metadata": {},
   "outputs": [],
   "source": [
    "number = int(input(\"Enter a number : \"))\n",
    "\n",
    "if number%2 == 0:\n",
    "    print(f\"{number} is even number!\")\n",
    "    print(\"I'm in if block\")\n",
    "\n",
    "else:\n",
    "    print(f\"{number} is odd number!\")\n",
    "    print(\"I'm in else block\")\n",
    "\n",
    "print(\"Done!\")"
   ]
  },
  {
   "cell_type": "code",
   "execution_count": null,
   "id": "de70eb8c",
   "metadata": {},
   "outputs": [],
   "source": [
    "# 21%2"
   ]
  },
  {
   "cell_type": "code",
   "execution_count": null,
   "id": "de994e5c",
   "metadata": {},
   "outputs": [],
   "source": [
    "# Example 1: Take input from user by using the input function and decide if the number is even or odd\n",
    "x = input(\"enter a number: \")\n",
    "\n",
    "# by default the type returned by input() is string, so don't forget to type cast it\n",
    "\n",
    "x = int(x)\n",
    "\n",
    "if(x % 2 == 0):\n",
    "    print(\"Even\")\n",
    "else:\n",
    "    print(\"Odd\")\n",
    "\n",
    "print(\"Bye\")"
   ]
  },
  {
   "cell_type": "code",
   "execution_count": null,
   "id": "7eaf078a",
   "metadata": {},
   "outputs": [],
   "source": []
  },
  {
   "cell_type": "markdown",
   "id": "8226e32c",
   "metadata": {},
   "source": [
    "> The `input()` function allows a user to insert a value into a program. It returns a string value, which can be casted to any data type as per the requirement."
   ]
  },
  {
   "cell_type": "code",
   "execution_count": null,
   "id": "70421ded",
   "metadata": {},
   "outputs": [],
   "source": [
    "a = 5\n",
    "b = 10\n",
    "print(a < b)"
   ]
  },
  {
   "cell_type": "code",
   "execution_count": null,
   "id": "c8198dab",
   "metadata": {},
   "outputs": [],
   "source": [
    "#Example 2:\n",
    "a = 5\n",
    "b = 10\n",
    "if (a < b):\n",
    "    print('b is greater than a.')\n",
    "    print (\"i'm in if Block\")\n",
    "\n",
    "else:\n",
    "    print('a is smaller than b.')\n",
    "    print (\"i'm in else Block\")\n",
    "\n",
    "print (\"i'm neither in the if-block, nor in the else-block\")"
   ]
  },
  {
   "cell_type": "code",
   "execution_count": null,
   "id": "2d5cbd91",
   "metadata": {},
   "outputs": [],
   "source": []
  },
  {
   "cell_type": "code",
   "execution_count": null,
   "id": "9ba3af49",
   "metadata": {},
   "outputs": [],
   "source": []
  },
  {
   "cell_type": "markdown",
   "id": "c42be9c2",
   "metadata": {},
   "source": [
    "### c. Python Ternary Opertor\n",
    "- The Python ternary operator is a type of conditional expression that evaluates a statement. \n",
    "- This is different from the `if..else` structure mentioned above, because it is not a control structure that directs the flow of program execution. It rather acts more like an operator that defines an expression.\n",
    "```\n",
    "rv = <expr1> if <condition> else <expr2>\n",
    "```"
   ]
  },
  {
   "cell_type": "code",
   "execution_count": null,
   "id": "09b6ffdd",
   "metadata": {},
   "outputs": [],
   "source": [
    "number = int(input(\"Enter a number : \"))"
   ]
  },
  {
   "cell_type": "code",
   "execution_count": null,
   "id": "81057bea",
   "metadata": {},
   "outputs": [],
   "source": [
    "a = \"Number is even!\" if number%2==0 else \"Number is Odd!\"\n",
    "print(a)"
   ]
  },
  {
   "cell_type": "code",
   "execution_count": null,
   "id": "4abd5740",
   "metadata": {},
   "outputs": [],
   "source": []
  },
  {
   "cell_type": "code",
   "execution_count": null,
   "id": "9df530a4",
   "metadata": {},
   "outputs": [],
   "source": [
    "# Example 1: Let us assign a specific value to variable rv (adult or child), depending on a condition\n",
    "age = 19\n",
    "rv = 'adult' if age>= 18 else 'child'\n",
    "rv"
   ]
  },
  {
   "cell_type": "code",
   "execution_count": null,
   "id": "300cb28b",
   "metadata": {},
   "outputs": [],
   "source": []
  },
  {
   "cell_type": "code",
   "execution_count": null,
   "id": "a378d4b2",
   "metadata": {},
   "outputs": [],
   "source": [
    "# Example 2: Let us assign a specific value to variable parity (even or odd), depending on a condition\n",
    "a_number = 5\n",
    "\n",
    "parity = 'even' if a_number % 2 == 0 else 'odd'\n",
    "\n",
    "# print('The number {} is {}.'.format(a_number, parity))\n",
    "\n",
    "print(f'The number {a_number} is {parity}.')"
   ]
  },
  {
   "cell_type": "code",
   "execution_count": null,
   "id": "5624829c",
   "metadata": {},
   "outputs": [],
   "source": []
  },
  {
   "cell_type": "code",
   "execution_count": null,
   "id": "ce26dcc7",
   "metadata": {},
   "outputs": [],
   "source": []
  },
  {
   "cell_type": "code",
   "execution_count": null,
   "id": "1f09cad0",
   "metadata": {},
   "outputs": [],
   "source": []
  },
  {
   "cell_type": "markdown",
   "id": "029e6291",
   "metadata": {},
   "source": [
    "### d. Nested `if...else` Statement\n",
    "Python allows us to nest `if` statements within `if` statements. i.e, we can place an if statement inside another if statement.\n",
    "<img align=\"center\" width=\"400\" height=\"300\"  src=\"images/nestedif.png\" > "
   ]
  },
  {
   "cell_type": "markdown",
   "id": "29d45c29",
   "metadata": {},
   "source": [
    "> The `input()` function allows a user to insert a value into a program. It returns a string value, which can be casted to any data type as per the requirement."
   ]
  },
  {
   "cell_type": "code",
   "execution_count": null,
   "id": "fbb5681e",
   "metadata": {},
   "outputs": [],
   "source": [
    "age = input(\"Enter your age : \")\n",
    "\n",
    "age = int(age)"
   ]
  },
  {
   "cell_type": "code",
   "execution_count": null,
   "id": "4d1982df",
   "metadata": {},
   "outputs": [],
   "source": [
    "if age>=18:\n",
    "    rv = input(\"Do you have CNIC ? Y/N : \")\n",
    "    if (rv=='Y') or (rv=='y'):\n",
    "        print(\"Welcome , you can vote!\")\n",
    "    else:\n",
    "        print(\"You can vote until a CNIC!\")\n",
    "else:\n",
    "    print(\"You are too young for Vote!\")\n",
    "\n",
    "print(\"Done!\")"
   ]
  },
  {
   "cell_type": "code",
   "execution_count": null,
   "id": "8830f926",
   "metadata": {},
   "outputs": [],
   "source": []
  },
  {
   "cell_type": "code",
   "execution_count": null,
   "id": "0a30eb30",
   "metadata": {},
   "outputs": [],
   "source": []
  },
  {
   "cell_type": "code",
   "execution_count": null,
   "id": "5a9faf7f",
   "metadata": {},
   "outputs": [],
   "source": [
    "# Example:\n",
    "age = float(input(\"Please enter your age: \"))\n",
    "\n",
    "if (age >= 18):\n",
    "    rv = input(\"Do you have National ID card? Y/N: \")\n",
    "    if ((rv == 'Y') or (rv == 'y')):\n",
    "        print(\"Welcome, you can vote\")\n",
    "    else:\n",
    "        print(\"Since you donot have CNIC, so you cannot vote.\")\n",
    "else:\n",
    "    print(\"You are too young to vote\")"
   ]
  },
  {
   "cell_type": "markdown",
   "id": "0e3a37bb",
   "metadata": {},
   "source": [
    "> Nested `if`, `else` statements are often confusing to read and prone to human error. It's good to avoid nesting whenever possible, or limit the nesting to 1 or 2 levels."
   ]
  },
  {
   "cell_type": "code",
   "execution_count": null,
   "id": "053d4447",
   "metadata": {},
   "outputs": [],
   "source": []
  },
  {
   "cell_type": "code",
   "execution_count": null,
   "id": "4ae03be7",
   "metadata": {},
   "outputs": [],
   "source": []
  },
  {
   "cell_type": "markdown",
   "id": "5e1ebc20",
   "metadata": {},
   "source": [
    "<img align=\"right\" width=\"400\" height=\"300\"  src=\"images/ifladder.png\" >\n",
    "\n",
    "### e. Ladder of `if`...`elif`...`else` Statements\n",
    "\n",
    "- Python also provides an `elif` statement (short for \"else if\") to chain a series of conditional blocks. \n",
    "- The conditions are evaluated one by one from top to bottom. \n",
    "- For the first condition that evaluates to `True`, its associated block of statements is executed. \n",
    "- The remaining conditions and statements are not evaluated at all. \n",
    "- So, in an `if`, `elif`, `elif`... chain, at most one block of statements is executed, the one corresponding to the first condition that evaluates to `True`. "
   ]
  },
  {
   "cell_type": "code",
   "execution_count": null,
   "id": "1b339f49",
   "metadata": {},
   "outputs": [],
   "source": [
    "# def modify_state(x):\n",
    "#     if x in (\"CA\", \"California\"):\n",
    "#         return \"California\"\n",
    "#     elif x in (\"TX\",\"Texas\"):\n",
    "#         return \"Texas\"\n",
    "#     elif x in (\"FL\",\"Florida\"):\n",
    "#         return \"Florida\"\n",
    "#     elif x in (\"NY\", \"New York\"):\n",
    "#         return \"New York\"\n",
    "#     elif x in (\"NC\", \"North Carolina\"):\n",
    "#         return \"North Carolina\"\n",
    "#     elif x in (\"New Jersey\", \"NJ\"):\n",
    "#         return \"New Jersey\"\n",
    "#     elif x in (\"Pennsylvania\", \"PA\"):\n",
    "#         return \"Pennsylvania\"\n",
    "#     elif x in (\"Washington\", \"WA\"):\n",
    "#         return \"Washington\"\n",
    "#     elif x in (\"Georgia\", \"GA\"):\n",
    "#         return \"Georgia\"\n",
    "#     elif x in (\"Illinois\", \"IL\"):\n",
    "#         return \"Illinois\"\n",
    "#     elif x in (\"Ontario\", \"ON\"):\n",
    "#         return \"Ontario\"\n",
    "#     elif x in (\"Arizona\", \"AZ\"):\n",
    "#         return \"Arizona\"\n",
    "#     elif x in (\"Colorado\", \"CO\"):\n",
    "#         return \"Colorado\"\n",
    "#     elif x in (\"Virginia\", \"VA\"):\n",
    "#         return \"Virginia\"\n",
    "#     elif x in (\"Massachusetts\",\"MA\"):\n",
    "#         return \"Massachusetts\"\n",
    "#     elif x in (\"Michigan\", \"MI\"):\n",
    "#         return \"Michigan\"\n",
    "#     elif x in (\"MD\", \"Maryland\"):\n",
    "#         return \"Maryland\"\n",
    "#     elif x in (\"Ohio\", \"OH\"):\n",
    "#         return \"Ohio\"\n",
    "#     elif x in (\"Tennessee\",\"TN\"):\n",
    "#         return \"Tennessee\"\n",
    "#     elif x in (\"South Carolina\", \"SC\"):\n",
    "#         return \"South Carolina\"\n",
    "#     elif x in (\"British Columbia\", \"BC\"):\n",
    "#         return \"British Columbia\"\n",
    "#     elif x in (\"CT\",\"Connecticut\"):\n",
    "#         return \"Connecticut\"\n",
    "#     elif x in (\"Missouri\", \"MO\"):\n",
    "#         return \"Missouri\"\n",
    "#     elif x in (\"Minnesota\", \"MN\"):\n",
    "#         return \"Minnesota\"\n",
    "#     else:\n",
    "#         return x"
   ]
  },
  {
   "cell_type": "code",
   "execution_count": null,
   "id": "bf29f9ac",
   "metadata": {},
   "outputs": [],
   "source": [
    "# modify_state(\"MIA\")"
   ]
  },
  {
   "cell_type": "code",
   "execution_count": null,
   "id": "cece0316",
   "metadata": {},
   "outputs": [],
   "source": []
  },
  {
   "cell_type": "code",
   "execution_count": null,
   "id": "11c0c83b",
   "metadata": {},
   "outputs": [],
   "source": [
    "# Example 1:\n",
    "y = input(\"Enter your subject marks: \")\n",
    "\n",
    "# by default the type is string, so we need to convert the type first\n",
    "\n",
    "y = int(y)"
   ]
  },
  {
   "cell_type": "code",
   "execution_count": null,
   "id": "5b7deacb",
   "metadata": {},
   "outputs": [],
   "source": [
    "if  (y >= 85):\n",
    "    print(\"Letter Grade A\")\n",
    "\n",
    "elif((y >= 80) and (y<85)):\n",
    "    print(\"Letter Grade A-\")\n",
    "\n",
    "elif((y >= 77) and (y<80)):\n",
    "    print(\"Letter Grade B+\")\n",
    "\n",
    "elif((y >= 73) and (y<77)):\n",
    "    print(\"Letter Grade B\")\n",
    "\n",
    "else:\n",
    "    print(\"Bad Grade\")"
   ]
  },
  {
   "cell_type": "code",
   "execution_count": null,
   "id": "1f8fb0d8",
   "metadata": {},
   "outputs": [],
   "source": []
  },
  {
   "cell_type": "code",
   "execution_count": null,
   "id": "476d5ee8",
   "metadata": {},
   "outputs": [],
   "source": [
    "# Example 2: Remember in an if-elif ladder at most one block of statements is executed\n",
    "a_number = 15\n",
    "\n",
    "if (a_number % 2 == 0):\n",
    "    print('{} is divisible by 2'.format(a_number))\n",
    "\n",
    "elif a_number % 3 == 0:\n",
    "    print('{} is divisible by 3'.format(a_number))\n",
    "\n",
    "elif a_number % 5 == 0:\n",
    "    print('{} is divisible by 5'.format(a_number))\n",
    "\n",
    "elif a_number % 7 == 0:\n",
    "    print('{} is divisible by 7'.format(a_number))"
   ]
  },
  {
   "cell_type": "markdown",
   "id": "a27f3521",
   "metadata": {},
   "source": [
    ">- Note that the message `15 is divisible by 5` is not printed because the condition `a_number % 5 == 0` isn't evaluated, since the previous condition `a_number % 3 == 0` evaluates to `True`. \n",
    ">- This is the key difference between using a chain of `if`, `elif`, `elif`... statements vs. a chain of `if` statements, where each condition is evaluated independently.\n",
    ">- This is shown below"
   ]
  },
  {
   "cell_type": "code",
   "execution_count": null,
   "id": "97bd9e5a",
   "metadata": {},
   "outputs": [],
   "source": []
  },
  {
   "cell_type": "code",
   "execution_count": null,
   "id": "835ccec2",
   "metadata": {},
   "outputs": [],
   "source": [
    "# Example 3:\n",
    "a_number = 15\n",
    "if a_number % 2 == 0:\n",
    "    print('{} is divisible by 2'.format(a_number))\n",
    "    \n",
    "if a_number % 3 == 0:\n",
    "    print('{} is divisible by 3'.format(a_number))\n",
    "    \n",
    "if a_number % 5 == 0:\n",
    "    print('{} is divisible by 5'.format(a_number))\n",
    "    \n",
    "if a_number % 7 == 0:\n",
    "    print('{} is divisible by 7'.format(a_number))"
   ]
  },
  {
   "cell_type": "code",
   "execution_count": null,
   "id": "4c875074",
   "metadata": {},
   "outputs": [],
   "source": []
  },
  {
   "cell_type": "code",
   "execution_count": null,
   "id": "834db89a",
   "metadata": {},
   "outputs": [],
   "source": []
  },
  {
   "cell_type": "code",
   "execution_count": null,
   "id": "6d11c2f1",
   "metadata": {},
   "outputs": [],
   "source": [
    "# Example 4: You can also include an `else` statement at the end of a chain of `if`, `elif`... statements. \n",
    "# This code within the `else` block is evaluated, when none of the conditions hold true.\n",
    "\n",
    "a_number = 73\n",
    "\n",
    "if a_number % 2 == 0:\n",
    "    print('{} is divisible by 2'.format(a_number))\n",
    "\n",
    "elif a_number % 3 == 0:\n",
    "    print('{} is divisible by 3'.format(a_number))\n",
    "\n",
    "elif a_number % 5 == 0:\n",
    "    print('{} is divisible by 5'.format(a_number))\n",
    "\n",
    "else:\n",
    "    print('All checks failed!')\n",
    "    print('{} is not divisible by 2, 3 or 5'.format(a_number))"
   ]
  },
  {
   "cell_type": "code",
   "execution_count": null,
   "id": "dbbbfd87",
   "metadata": {},
   "outputs": [],
   "source": []
  },
  {
   "cell_type": "code",
   "execution_count": null,
   "id": "106a9f37",
   "metadata": {},
   "outputs": [],
   "source": [
    "# True and False\n",
    "not False"
   ]
  },
  {
   "cell_type": "code",
   "execution_count": null,
   "id": "10b0fbff",
   "metadata": {},
   "outputs": [],
   "source": [
    "# Example 5: Conditions can also be combined using the logical operators `and`, `or` and `not`. \n",
    "a_number = 12\n",
    "\n",
    "if a_number % 3 == 0 and a_number % 5 == 0:\n",
    "    print(\"The number {} is divisible by 3 and 5\".format(a_number))\n",
    "\n",
    "elif not a_number % 5 == 0:\n",
    "    print(\"The number {} is not divisible by 5\".format(a_number))"
   ]
  },
  {
   "cell_type": "code",
   "execution_count": null,
   "id": "3046ad20",
   "metadata": {},
   "outputs": [],
   "source": []
  },
  {
   "cell_type": "code",
   "execution_count": null,
   "id": "db84f951",
   "metadata": {},
   "outputs": [],
   "source": []
  },
  {
   "cell_type": "markdown",
   "id": "5aa7fd27",
   "metadata": {},
   "source": [
    "## 3. The `pass` statement (Do nothing)\n",
    "The `pass` statement is generally used as a placeholder i.e. when the user does not know what code to write. So user simply places pass at that line. So user can simply place pass where empty code is not allowed, like in loops, function definitions, class definitions, or in if statements."
   ]
  },
  {
   "cell_type": "code",
   "execution_count": null,
   "id": "21fb029f",
   "metadata": {},
   "outputs": [],
   "source": [
    "help('pass')"
   ]
  },
  {
   "cell_type": "code",
   "execution_count": null,
   "id": "3a631e5c",
   "metadata": {},
   "outputs": [],
   "source": [
    "# A simple example of pass:\n",
    "x = 6\n",
    "\n",
    "if x < 0:\n",
    "    pass\n",
    "\n",
    "\n",
    "print(\"I will place code when the condition is true, later :)\")"
   ]
  },
  {
   "cell_type": "code",
   "execution_count": null,
   "id": "8c58ef44",
   "metadata": {},
   "outputs": [],
   "source": [
    "def func():\n",
    "    pass"
   ]
  },
  {
   "cell_type": "code",
   "execution_count": null,
   "id": "1b11427b",
   "metadata": {},
   "outputs": [],
   "source": []
  },
  {
   "cell_type": "code",
   "execution_count": null,
   "id": "9370915c",
   "metadata": {},
   "outputs": [],
   "source": []
  },
  {
   "cell_type": "markdown",
   "id": "57782dfd",
   "metadata": {},
   "source": [
    "## Check your Concepts\n",
    "\n",
    "Try answering the following questions to test your understanding of the topics covered in this notebook:\n",
    "\n",
    "1. What is branching in programming languages?\n",
    "2. What is the purpose of the `if` statement in Python?\n",
    "3. What is the syntax of the `if` statement? Give an example.\n",
    "4. What is indentation? Why is it used?\n",
    "5. What is an indented block of statements?\n",
    "6. How do you perform indentation in Python?\n",
    "7. What happens if some code is not indented correctly?\n",
    "8. What happens when the condition within the `if` statement evaluates to `True`? What happens if the condition evaluates for `false`?\n",
    "9. How do you check if a number is even?\n",
    "10. What is the purpose of the `else` statement in Python?\n",
    "11. What is the syntax of the `else` statement? Give an example.\n",
    "12. Write a program that prints different messages based on whether a number is positive or negative.\n",
    "13. Can the `else` statement be used without an `if` statement?\n",
    "14. What is the purpose of the `elif` statement in Python?\n",
    "15. What is the syntax of the `elif` statement? Give an example.\n",
    "16. Write a program that prints different messages for different months of the year.\n",
    "17. Write a program that uses `if`, `elif`, and `else` statements together.\n",
    "18. Can the `elif` statement be used without an `if` statement?\n",
    "19. Can the `elif` statement be used without an `else` statement?\n",
    "20. What is the difference between a chain of `if`, `elif`, `elif`… statements and a chain of `if`, `if`, `if`… statements? Give an example.\n",
    "21. Can non-boolean conditions be used with `if` statements? Give some examples.\n",
    "22. What are nested conditional statements? How are they useful?\n",
    "23. Give an example of nested conditional statements.\n",
    "24. Why is it advisable to avoid nested conditional statements?\n",
    "25. What is the shorthand `if` conditional expression? \n",
    "26. What is the syntax of the shorthand `if` conditional expression? Give an example.\n",
    "27. What is the difference between the shorthand `if` expression and the regular `if` statement?\n",
    "28. What is a statement in Python?\n",
    "29. What is an expression in Python?\n",
    "30. What is the difference between statements and expressions?\n",
    "31. Is every statement an expression? Give an example or counterexample.\n",
    "32. Is every expression a statement? Give an example or counterexample.\n",
    "33. What is the purpose of the pass statement in `if` blocks?\n",
    "34. Python does not have a switch or case statement. To get around this fact, one can use dictionary mapping. Try to implement code for this task.\n",
    "35. Write an if statement that assigns 0 to x if y is equal to 20.\n",
    "36. Write an if statement that assigns 0.2 to commissionRate if sales is greater thanor equal to 10000.\n",
    "37.  Write an if statement that assigns 20 to the variable y and assigns 40 to the variable z if the variable x is greater than 100.\n",
    "38. How do you test that a string userInput is the empty string?\n",
    "39. Suppose x and y are variables, each of which contains a number. Write a code frag\u0002ment that sets y to x if x is positive and to 0 otherwise. "
   ]
  },
  {
   "cell_type": "code",
   "execution_count": null,
   "id": "4a15eca1",
   "metadata": {},
   "outputs": [],
   "source": []
  },
  {
   "cell_type": "code",
   "execution_count": null,
   "id": "a5587d6a",
   "metadata": {},
   "outputs": [],
   "source": []
  },
  {
   "cell_type": "code",
   "execution_count": null,
   "id": "59350c34",
   "metadata": {},
   "outputs": [],
   "source": []
  },
  {
   "cell_type": "code",
   "execution_count": null,
   "id": "c861125a",
   "metadata": {},
   "outputs": [],
   "source": []
  },
  {
   "cell_type": "code",
   "execution_count": null,
   "id": "73012b67",
   "metadata": {},
   "outputs": [],
   "source": []
  },
  {
   "cell_type": "code",
   "execution_count": null,
   "id": "0bdf1f44",
   "metadata": {},
   "outputs": [],
   "source": []
  },
  {
   "cell_type": "code",
   "execution_count": null,
   "id": "541aaafb",
   "metadata": {},
   "outputs": [],
   "source": []
  },
  {
   "cell_type": "markdown",
   "id": "cd9bf0ba",
   "metadata": {},
   "source": [
    "<h1 align=\"center\" style=\"color:red\"> Loops </h1>"
   ]
  },
  {
   "cell_type": "code",
   "execution_count": null,
   "id": "399e15ac",
   "metadata": {},
   "outputs": [],
   "source": []
  },
  {
   "cell_type": "markdown",
   "id": "fa7840eb",
   "metadata": {},
   "source": [
    "## Learning agenda of this notebook\n",
    "There are scenarios in programming, where we need to repeat a set of instructions a specified number of times or until a condition is met. This is called iteration. A programming structure that implements iteration is called a loop. In programming there are two types of iteration:\n",
    "1. Indefinite Iteration, implemented using a `while` loop\n",
    "    - Basic `while` loop examples\n",
    "    - Use of `break`,  `continue` and `else` in `while` loop   \n",
    "    - Nested `while` loop <br><br>\n",
    "3. Definite Iteration, implemented using a `for` loop\n",
    "    - Iterables and Iterators\n",
    "    - Basic `for` loop examples\n",
    "    - The `range()` and `enumerate()` functions\n",
    "    - Use of `break`, `continue` and `else` in `for` loop\n",
    "    - Nested `for` loop <br><br>\n",
    "4. List Comprehension <br><br>\n",
    "5. Dictionary Comprehension"
   ]
  },
  {
   "cell_type": "code",
   "execution_count": null,
   "id": "c63e3c8c",
   "metadata": {},
   "outputs": [],
   "source": [
    "# i = 0 #while loop variable\n",
    "# while i<5: # while loop condition\n",
    "#     print(\"Hello world!\") # set statements\n",
    "    \n",
    "#     i = i +1 # update loop variable\n",
    "\n",
    "    \n",
    "# print(\"Done!\")"
   ]
  },
  {
   "cell_type": "code",
   "execution_count": null,
   "id": "1eb695a0",
   "metadata": {},
   "outputs": [],
   "source": []
  },
  {
   "cell_type": "markdown",
   "id": "efe70ed5",
   "metadata": {},
   "source": [
    "<img align=\"right\" width=\"400\" height=\"300\"  src=\"images/while.png\" > \n",
    "\n",
    "## 1. The `while` Loop\n",
    "```\n",
    "initialize loop variable\n",
    "while (condition is true):\n",
    "    statement(s)\n",
    "    update loop variable\n",
    "statement(s)\n",
    "```\n",
    "- The indented block of code, often refered to as body of the loop will be executed repeatedly until the condition/expression evaluates to False.\n",
    "- The condition or controlling expression, typically involves on or more variables that are initialized prior to starting the loop and then modified somewhere in the loop body.\n",
    "- While loop is generally used, when we don't know the number of times to iterate beforehand."
   ]
  },
  {
   "cell_type": "code",
   "execution_count": null,
   "id": "ae577c15",
   "metadata": {},
   "outputs": [],
   "source": [
    "# "
   ]
  },
  {
   "cell_type": "code",
   "execution_count": null,
   "id": "681def34",
   "metadata": {},
   "outputs": [],
   "source": [
    "help('while')"
   ]
  },
  {
   "cell_type": "markdown",
   "id": "629f773e",
   "metadata": {},
   "source": [
    "### a. Basics of While Loop"
   ]
  },
  {
   "cell_type": "code",
   "execution_count": null,
   "id": "7d1a532b",
   "metadata": {},
   "outputs": [],
   "source": [
    "# Example 1: Print numbers\n",
    "# initialize loop variable - check condition - update loop variable\n",
    "number = 2\n",
    "while number < 7:\n",
    "    \n",
    "    print(number)\n",
    "    \n",
    "    number = number + 1\n",
    "    \n",
    "\n",
    "print(\"Bye-Bye\")\n",
    "# 2, 3, 4, 5, 6, "
   ]
  },
  {
   "cell_type": "code",
   "execution_count": null,
   "id": "83605395",
   "metadata": {},
   "outputs": [],
   "source": [
    "\n",
    "i = 50\n",
    "\n",
    "while i>1:\n",
    "    print(i)\n",
    "    i = i - 5\n",
    "\n",
    "print(\"Done!\")"
   ]
  },
  {
   "cell_type": "code",
   "execution_count": null,
   "id": "634acfc8",
   "metadata": {},
   "outputs": [],
   "source": []
  },
  {
   "cell_type": "code",
   "execution_count": null,
   "id": "f0e45b01",
   "metadata": {},
   "outputs": [],
   "source": []
  },
  {
   "cell_type": "markdown",
   "id": "champion-small",
   "metadata": {},
   "source": [
    "### Example: Program to print 1 to 10 using while loop"
   ]
  },
  {
   "cell_type": "code",
   "execution_count": null,
   "id": "d7f0b6f4",
   "metadata": {},
   "outputs": [],
   "source": [
    "# loop variable\n",
    "i = 1\n",
    "\n",
    "while i<=10:\n",
    "    print(i, end= \"  \")\n",
    "    i = i + 2\n",
    "\n",
    "print(\"Done\")"
   ]
  },
  {
   "cell_type": "code",
   "execution_count": null,
   "id": "4ea7ec7e",
   "metadata": {},
   "outputs": [],
   "source": [
    "i = 0\n",
    "\n",
    "while i<=100:\n",
    "    print(i, end= \"  \")\n",
    "    i = i + 5\n",
    "    "
   ]
  },
  {
   "cell_type": "code",
   "execution_count": null,
   "id": "8d0d4bd2",
   "metadata": {},
   "outputs": [],
   "source": []
  },
  {
   "cell_type": "code",
   "execution_count": null,
   "id": "cheap-natural",
   "metadata": {},
   "outputs": [],
   "source": [
    "# initialize while loop variable\n",
    "i = 1\n",
    "# condition of while loop\n",
    "while i<=10:\n",
    "    print(i)\n",
    "    i+=1"
   ]
  },
  {
   "cell_type": "code",
   "execution_count": null,
   "id": "changed-cooperative",
   "metadata": {},
   "outputs": [],
   "source": []
  },
  {
   "cell_type": "markdown",
   "id": "animated-dimension",
   "metadata": {},
   "source": [
    "### Example: Program to print table of given numbers."
   ]
  },
  {
   "cell_type": "code",
   "execution_count": null,
   "id": "cee321a4",
   "metadata": {},
   "outputs": [],
   "source": [
    "number = int(input(\"Enter a number : \"))"
   ]
  },
  {
   "cell_type": "code",
   "execution_count": null,
   "id": "c863212c",
   "metadata": {},
   "outputs": [],
   "source": [
    "i = 1\n",
    "while i<=10:\n",
    "    print(number, \" *\" , i, \" = \", number*i)\n",
    "    i = i+1"
   ]
  },
  {
   "cell_type": "code",
   "execution_count": null,
   "id": "e044a071",
   "metadata": {},
   "outputs": [],
   "source": []
  },
  {
   "cell_type": "code",
   "execution_count": null,
   "id": "partial-whale",
   "metadata": {},
   "outputs": [],
   "source": [
    "# Take input from user using input() function\n",
    "number = int(input(\"Enter a number : \"))\n",
    "\n",
    "# initialize while loop variable\n",
    "i = 1\n",
    "\n",
    "#condition of while loop\n",
    "while i<=10:\n",
    "    print(f\"{i} * {number} = {i*number}\")\n",
    "    i += 1\n",
    "    \n",
    "print(\"Done\")"
   ]
  },
  {
   "cell_type": "code",
   "execution_count": null,
   "id": "chronic-justice",
   "metadata": {},
   "outputs": [],
   "source": []
  },
  {
   "cell_type": "markdown",
   "id": "forward-share",
   "metadata": {},
   "source": [
    "## Example: Program to print sum of all the numbers in list12"
   ]
  },
  {
   "cell_type": "code",
   "execution_count": null,
   "id": "elegant-clause",
   "metadata": {},
   "outputs": [],
   "source": [
    "list1 =  [2,4,5,6,7,8,9]\n",
    "\n",
    "i = 0\n",
    "Sum = 0\n",
    "\n",
    "while i < len(list1):\n",
    "    \n",
    "    Sum = Sum + list1[i]\n",
    "    \n",
    "    i = i+1\n",
    "    \n",
    "print(Sum)\n",
    "\n",
    "# Try, it into Python Tutor"
   ]
  },
  {
   "cell_type": "code",
   "execution_count": null,
   "id": "finnish-growth",
   "metadata": {},
   "outputs": [],
   "source": [
    "sum(list1)"
   ]
  },
  {
   "cell_type": "code",
   "execution_count": null,
   "id": "fc6dc025",
   "metadata": {},
   "outputs": [],
   "source": []
  },
  {
   "cell_type": "code",
   "execution_count": null,
   "id": "d3abd5fc",
   "metadata": {},
   "outputs": [],
   "source": []
  },
  {
   "cell_type": "code",
   "execution_count": null,
   "id": "e5d3f3ab",
   "metadata": {},
   "outputs": [],
   "source": [
    "import math\n",
    "math.factorial(10)\n",
    "# 3628800"
   ]
  },
  {
   "cell_type": "code",
   "execution_count": null,
   "id": "d173c5a8",
   "metadata": {},
   "outputs": [],
   "source": [
    "# print(dir(math))"
   ]
  },
  {
   "cell_type": "code",
   "execution_count": null,
   "id": "1f0ddd4e",
   "metadata": {},
   "outputs": [],
   "source": [
    "%%time   \n",
    "# Example 2: Calculate 100th factorial\n",
    "\n",
    "\n",
    "i = 1   \n",
    "result = 1 \n",
    "if i == 0:  # Base Condition\n",
    "    result = 1\n",
    "else:\n",
    "    while (i <= 10):\n",
    "        result = result * i\n",
    "        i += 1\n",
    "\n",
    "print(result)"
   ]
  },
  {
   "cell_type": "code",
   "execution_count": null,
   "id": "1e54d335",
   "metadata": {},
   "outputs": [],
   "source": [
    "%%time\n",
    "import math\n",
    "math.factorial(10)\n",
    "# 3628800"
   ]
  },
  {
   "cell_type": "code",
   "execution_count": null,
   "id": "c1934815",
   "metadata": {},
   "outputs": [],
   "source": []
  },
  {
   "cell_type": "markdown",
   "id": "0b09e2d3",
   "metadata": {},
   "source": [
    "User time is the amount of CPU time taken outside of the kernel. Sys time is the amount of time taken inside of the kernel, and Wall time the time the code was submitted to the CPU to the time when the process completed."
   ]
  },
  {
   "cell_type": "markdown",
   "id": "1a39c34f",
   "metadata": {},
   "source": [
    "Here's how the above code works:\n",
    "\n",
    "* We initialize two variables, `result` and, `i`. `result` will contain the final outcome. And `i` is used to keep track of the next number to be multiplied with `result`. Both are initialized to 1 (can you explain why?)\n",
    "\n",
    "* The condition `i <= 100` holds true (since `i` is initially `1`), so the `while` block is executed.\n",
    "\n",
    "* The `result` is updated to `result * i`, `i` is increased by `1` and it now has the value `2`.\n",
    "\n",
    "* At this point, the condition `i <= 100` is evaluated again. Since it continues to hold true, `result` is again updated to `result * i`, and `i` is increased to `3`.\n",
    "\n",
    "* This process is repeated till the condition becomes false, which happens when `i` holds the value `101`. Once the condition evaluates to `False`, the execution of the loop ends, and the `print` statement below it is executed. \n"
   ]
  },
  {
   "cell_type": "code",
   "execution_count": null,
   "id": "f2dbbc91",
   "metadata": {},
   "outputs": [],
   "source": [
    "# 1 + 2+ 3+4+5....+100"
   ]
  },
  {
   "cell_type": "code",
   "execution_count": null,
   "id": "f8f69a98",
   "metadata": {},
   "outputs": [],
   "source": [
    "%%time\n",
    "n = 10000\n",
    "a = (n*(n+1))//2\n",
    "a"
   ]
  },
  {
   "cell_type": "code",
   "execution_count": null,
   "id": "8032dfc7",
   "metadata": {},
   "outputs": [],
   "source": []
  },
  {
   "cell_type": "code",
   "execution_count": null,
   "id": "01b355c8",
   "metadata": {},
   "outputs": [],
   "source": [
    "# Example 3: Input number from user and compute the sum 1+2+3+4+....+n\n",
    "\n",
    "n = int(input(\"Enter number: \"))"
   ]
  },
  {
   "cell_type": "code",
   "execution_count": null,
   "id": "edd4a13e",
   "metadata": {},
   "outputs": [],
   "source": [
    "%%time\n",
    "Sum = 0\n",
    "i = 1\n",
    "while (i <= n):\n",
    "    Sum = Sum + i\n",
    "    i = i+1   # update counter\n",
    "print(\"The sum is\", Sum)"
   ]
  },
  {
   "cell_type": "code",
   "execution_count": null,
   "id": "994ab9ee",
   "metadata": {},
   "outputs": [],
   "source": []
  },
  {
   "cell_type": "code",
   "execution_count": null,
   "id": "4dbd06b3",
   "metadata": {},
   "outputs": [],
   "source": [
    "students = ['Ehtisham', 'Ali', 'Ayesha', 'Dua', 'Adeen']\n",
    "\n",
    "print(len(students))\n",
    "\n",
    "i = 0\n",
    "\n",
    "while i < len(students):\n",
    "    print(students[i])\n",
    "    i = i +2\n",
    "print(\"Done!\")"
   ]
  },
  {
   "cell_type": "code",
   "execution_count": null,
   "id": "ca972f99",
   "metadata": {},
   "outputs": [],
   "source": []
  },
  {
   "cell_type": "code",
   "execution_count": null,
   "id": "324c5616",
   "metadata": {},
   "outputs": [],
   "source": [
    "# # Example 4: while loop iterates over the elements until a certain condition is met\n",
    "students = ['Ehtisham', 'Ali', 'Ayesha', 'Dua', 'Adeen']\n",
    "\n",
    "ctr = 0\n",
    "\n",
    "while(ctr < len(students)):\n",
    "    print(students[ctr])\n",
    "    ctr += 1\n",
    "\n",
    "print(students)"
   ]
  },
  {
   "cell_type": "code",
   "execution_count": null,
   "id": "baef5ff0",
   "metadata": {},
   "outputs": [],
   "source": []
  },
  {
   "cell_type": "code",
   "execution_count": null,
   "id": "49751c6d",
   "metadata": {},
   "outputs": [],
   "source": [
    "# Example 5: Using iterables inside a while loop expression\n",
    "mylist = ['Ehtisham', 'Ali','Ayesha', 'Dua']\n",
    "print(\"mylist before the loop: \", mylist)"
   ]
  },
  {
   "cell_type": "code",
   "execution_count": null,
   "id": "2dcd7b56",
   "metadata": {},
   "outputs": [],
   "source": [
    "x = 1\n",
    "while mylist:   #you read it as while there exist elements in the iterable mylist do following\n",
    "    print(\"This is iteration number: \", x)\n",
    "    x += 1\n",
    "    print(mylist.pop())   # removes the right most value from the iterable mylist each time it is called\n",
    "    print(\"\\n\")\n",
    "    \n",
    "print(\"mylist after the loop: \",mylist)"
   ]
  },
  {
   "cell_type": "code",
   "execution_count": null,
   "id": "110de404",
   "metadata": {},
   "outputs": [],
   "source": []
  },
  {
   "cell_type": "code",
   "execution_count": null,
   "id": "c0a75de7",
   "metadata": {},
   "outputs": [],
   "source": []
  },
  {
   "cell_type": "code",
   "execution_count": null,
   "id": "fa5d3c8e",
   "metadata": {},
   "outputs": [],
   "source": []
  },
  {
   "cell_type": "code",
   "execution_count": null,
   "id": "19918cb9",
   "metadata": {},
   "outputs": [],
   "source": []
  },
  {
   "cell_type": "code",
   "execution_count": null,
   "id": "e70e164f",
   "metadata": {},
   "outputs": [],
   "source": []
  },
  {
   "cell_type": "code",
   "execution_count": null,
   "id": "9d56e9c0",
   "metadata": {},
   "outputs": [],
   "source": []
  },
  {
   "cell_type": "code",
   "execution_count": null,
   "id": "a2bdcead",
   "metadata": {},
   "outputs": [],
   "source": []
  },
  {
   "cell_type": "code",
   "execution_count": null,
   "id": "3e5a04cf",
   "metadata": {},
   "outputs": [],
   "source": []
  },
  {
   "cell_type": "code",
   "execution_count": null,
   "id": "20b80627",
   "metadata": {},
   "outputs": [],
   "source": [
    "# Example 6: Print Fibonacci series\n",
    "n = int(input(\"Enter count of fibonacci numbers you want to print: \"))"
   ]
  },
  {
   "cell_type": "code",
   "execution_count": null,
   "id": "31b8e875",
   "metadata": {},
   "outputs": [],
   "source": [
    "i = 1  # loop variable \n",
    "\n",
    "if n<1:\n",
    "    fib = []       # In case user enter <0, the list is empty\n",
    "elif n==1:\n",
    "    fib = [0]      # If user enters 1, the list has the first fibonacci number\n",
    "elif n==2:\n",
    "    fib = [0, 1]   # If user enters 2, the list has the first two fibonacci numbers\n",
    "elif n > 2:\n",
    "    fib = [0, 1]   # if n>2, then we need to enter in while loop to compute the rest of the fibonacci numbers\n",
    "    while (i < n):\n",
    "        fib.append(fib[i-1] + fib[i-2])\n",
    "        i += 1\n",
    "print(\"Required Fibonacci series: \", fib)"
   ]
  },
  {
   "cell_type": "code",
   "execution_count": null,
   "id": "38817caf",
   "metadata": {},
   "outputs": [],
   "source": []
  },
  {
   "cell_type": "code",
   "execution_count": null,
   "id": "unexpected-camera",
   "metadata": {},
   "outputs": [],
   "source": [
    "# fib.append(fib[i-1] + fib[i-2])\n",
    "#Fn = Fn-1 + Fn-2###"
   ]
  },
  {
   "cell_type": "code",
   "execution_count": null,
   "id": "1ef674be",
   "metadata": {},
   "outputs": [],
   "source": []
  },
  {
   "cell_type": "code",
   "execution_count": null,
   "id": "878b1038",
   "metadata": {},
   "outputs": [],
   "source": []
  },
  {
   "cell_type": "markdown",
   "id": "532a3dcb",
   "metadata": {},
   "source": [
    "### b. Nested While Loops\n",
    "- A while loop can have other control structures such as `if` statements or other `while` loops nested under them"
   ]
  },
  {
   "cell_type": "code",
   "execution_count": null,
   "id": "bf5e0252",
   "metadata": {},
   "outputs": [],
   "source": [
    "i = 1\n",
    "while i<=5:\n",
    "    j = 1\n",
    "    while j<=10:\n",
    "        print(i,'*',j,'=',i*j)\n",
    "        j=j+1\n",
    "    print(\"\\n\")\n",
    "    i = i+1"
   ]
  },
  {
   "cell_type": "code",
   "execution_count": null,
   "id": "502a5e35",
   "metadata": {},
   "outputs": [],
   "source": []
  },
  {
   "cell_type": "code",
   "execution_count": null,
   "id": "594b75b5",
   "metadata": {},
   "outputs": [],
   "source": []
  },
  {
   "cell_type": "code",
   "execution_count": null,
   "id": "fb2b2887",
   "metadata": {},
   "outputs": [],
   "source": [
    "a = [1,2,3,4,5]\n",
    "while (a):\n",
    "    print(\"Outer : \", a.pop())\n",
    "    b = ['Ehtisham', 'Ali']\n",
    "    while b:\n",
    "        print(\"Inner : \", b.pop())\n",
    "print(\"Done!\")"
   ]
  },
  {
   "cell_type": "code",
   "execution_count": null,
   "id": "406b22a3",
   "metadata": {},
   "outputs": [],
   "source": [
    "# Example 1: A while loop nested inside another while loop\n",
    "# Note the inner while loop works on a list that is declared again and again inside the outer loop\n",
    "a = [1,2,3,4,5]\n",
    "while (a):\n",
    "    print(\"Outer: \", a.pop())\n",
    "    b = ['Ehtisham', 'Ali']\n",
    "    while (b):\n",
    "        print(\"\\t Inner: \", b.pop())\n",
    "\n",
    "print(\"After both the loops end\")\n",
    "print(\"a= \", a)\n",
    "print(\"b= \", b)"
   ]
  },
  {
   "cell_type": "code",
   "execution_count": null,
   "id": "a974d8aa",
   "metadata": {},
   "outputs": [],
   "source": []
  },
  {
   "cell_type": "code",
   "execution_count": null,
   "id": "733d6719",
   "metadata": {},
   "outputs": [],
   "source": []
  },
  {
   "cell_type": "code",
   "execution_count": null,
   "id": "d8eb739a",
   "metadata": {},
   "outputs": [],
   "source": []
  },
  {
   "cell_type": "code",
   "execution_count": null,
   "id": "b2e74edb",
   "metadata": {},
   "outputs": [],
   "source": []
  },
  {
   "cell_type": "code",
   "execution_count": null,
   "id": "4d0607bb",
   "metadata": {},
   "outputs": [],
   "source": []
  },
  {
   "cell_type": "markdown",
   "id": "566a05d1",
   "metadata": {},
   "source": [
    "## 2. Jump Statements in Python (`break` and `continue`)\n",
    "\n",
    "<img align=\"left\" width=\"300\" height=\"300\"  src=\"images/break.png\" > \n",
    "\n",
    "<img align=\"right\" width=\"300\" height=\"300\"  src=\"images/continue.png\" > \n",
    "\n",
    "In the above examples, we have seen that the entire body of the while loop is executed on each iteration. Python provides two keywords that terminate a loop iteration prematurely:\n",
    "- Python **`break`** statement immediately terminates a loop entirely. Program execution proceeds to the first statement after the loop body.<br><br>\n",
    "- Python **`continue`** statement immediately terminates the current loop iteration. Program execution jumps to the top of the loop, and the loop condition is re-evaluated to determine whether the loop will execute again or terminate\n",
    "    "
   ]
  },
  {
   "cell_type": "markdown",
   "id": "73c2c76b",
   "metadata": {},
   "source": [
    "### a. Infinite loop and break statement: "
   ]
  },
  {
   "cell_type": "code",
   "execution_count": null,
   "id": "4fe24e36",
   "metadata": {},
   "outputs": [],
   "source": [
    "help('break')"
   ]
  },
  {
   "cell_type": "code",
   "execution_count": null,
   "id": "f4957e8f",
   "metadata": {},
   "outputs": [],
   "source": [
    "#Example 1: Breaking an infinite while loop on a certain condition\n",
    "n = 0\n",
    "while (True):\n",
    "    n = n + 1\n",
    "    if (n == 10):\n",
    "        break\n",
    "    print(n, end=\"  \")\n",
    "    \n",
    "    \n",
    "print(\"\\nOutside loop\")"
   ]
  },
  {
   "cell_type": "code",
   "execution_count": null,
   "id": "de092cb7",
   "metadata": {},
   "outputs": [],
   "source": [
    "#Example 2: Breaking a while loop on a certain condition\n",
    "\n",
    "n = 10\n",
    "while n>0:\n",
    "    n = n - 1\n",
    "    if (n == 4):\n",
    "        break\n",
    "    print(n , end=\" \")\n",
    "    \n",
    "    \n",
    "print(\"Break\")"
   ]
  },
  {
   "cell_type": "markdown",
   "id": "27079c95",
   "metadata": {},
   "source": [
    "### b. The `continue` statement: \n",
    "- Python **continue** statement immediately terminates the current loop iteration. Program execution jumps to the top of the loop, and the loop condition is re-evaluated to determine whether the loop will execute again or terminate"
   ]
  },
  {
   "cell_type": "code",
   "execution_count": null,
   "id": "3dbe280d",
   "metadata": {},
   "outputs": [],
   "source": [
    "help('continue')"
   ]
  },
  {
   "cell_type": "code",
   "execution_count": null,
   "id": "7fe06b75",
   "metadata": {},
   "outputs": [],
   "source": [
    "#Example 1: Use of continue\n",
    "n = 10\n",
    "while n > 0:\n",
    "    n = n - 1\n",
    "    if (n == 5 or n == 7):\n",
    "        continue\n",
    "    print(n)\n",
    "    \n",
    "print(\"Done!\")"
   ]
  },
  {
   "cell_type": "code",
   "execution_count": null,
   "id": "a68692a6",
   "metadata": {},
   "outputs": [],
   "source": []
  },
  {
   "cell_type": "code",
   "execution_count": null,
   "id": "6a6fc549",
   "metadata": {},
   "outputs": [],
   "source": [
    "#Example 2: Use of continue\n",
    "n = 10\n",
    "\n",
    "while n > 0:\n",
    "    n = n - 1\n",
    "    if (n % 2 == 0):\n",
    "        continue\n",
    "    print(n)\n",
    "else:\n",
    "    print(\"Done!\")"
   ]
  },
  {
   "cell_type": "code",
   "execution_count": null,
   "id": "196723d0",
   "metadata": {},
   "outputs": [],
   "source": []
  },
  {
   "cell_type": "code",
   "execution_count": null,
   "id": "414415b3",
   "metadata": {},
   "outputs": [],
   "source": [
    "#Example 2: Use of continue\n",
    "\n",
    "n = 10\n",
    "while n > 0:\n",
    "    n = n - 1\n",
    "    if (n == 2):\n",
    "        break\n",
    "    print(n)\n",
    "else:\n",
    "    print(\"Done!\")"
   ]
  },
  {
   "cell_type": "markdown",
   "id": "e35ee7fa",
   "metadata": {},
   "source": [
    "### c. The `while` loop with `else` statement: \n",
    "- On normal termination of loop, i.e., when the loop condition becomes False, the `else` clause will execute. \n",
    "- However, if the loop is terminated prematurely by either a break or return statement, the `else` clause won’t execute at all."
   ]
  },
  {
   "cell_type": "code",
   "execution_count": null,
   "id": "454fd344",
   "metadata": {},
   "outputs": [],
   "source": [
    "# Example: The `else` block will execute only when the loop condition becomes false\n",
    "\n",
    "n = 5\n",
    "while n > 0:\n",
    "    n = n - 1\n",
    "    if (n==2):\n",
    "        continue\n",
    "#         break\n",
    "    print(n)\n",
    "else:\n",
    "    print(\"Loop is finished\")\n",
    "    \n",
    "    \n",
    "print(\"outside loop\")"
   ]
  },
  {
   "cell_type": "code",
   "execution_count": null,
   "id": "c91bacff",
   "metadata": {},
   "outputs": [],
   "source": []
  },
  {
   "cell_type": "code",
   "execution_count": null,
   "id": "34c87a59",
   "metadata": {},
   "outputs": [],
   "source": [
    "# Example: The `else` block will execute only when the loop condition becomes false\n",
    "n = 5\n",
    "while n > 0:\n",
    "    n = n - 1\n",
    "    print(n)\n",
    "else:\n",
    "    print(\"Loop is finished\")\n",
    "print(\"outside loop\")"
   ]
  },
  {
   "cell_type": "code",
   "execution_count": null,
   "id": "c30a79e8",
   "metadata": {},
   "outputs": [],
   "source": [
    "n = 5\n",
    "while n > 0:\n",
    "    n = n - 1\n",
    "    print(n)\n",
    "print(\"Loop is finished\")\n",
    "print(\"outside loop\")"
   ]
  },
  {
   "cell_type": "code",
   "execution_count": null,
   "id": "be892815",
   "metadata": {},
   "outputs": [],
   "source": [
    "# Example: The `else` block will NOT execute because the loop breaks w/o the loop condition being false\n",
    "n = 5\n",
    "while n > 0:\n",
    "    n = n - 1\n",
    "    if (n==2):\n",
    "        break\n",
    "    print(n)\n",
    "else:\n",
    "    print(\"Loop is finished\")\n",
    "print(\"outside loop\")"
   ]
  },
  {
   "cell_type": "code",
   "execution_count": null,
   "id": "824fd781",
   "metadata": {},
   "outputs": [],
   "source": []
  },
  {
   "cell_type": "code",
   "execution_count": null,
   "id": "5325a275",
   "metadata": {},
   "outputs": [],
   "source": []
  },
  {
   "cell_type": "code",
   "execution_count": null,
   "id": "b02f30d3",
   "metadata": {},
   "outputs": [],
   "source": [
    "# if, if-else, if-elif-else\n",
    "# while , while-else, while(if-else-elif,-else)\n",
    "# Nested while loops"
   ]
  },
  {
   "cell_type": "code",
   "execution_count": null,
   "id": "c54fcfcb",
   "metadata": {},
   "outputs": [],
   "source": [
    "# while condition:\n",
    "    \n",
    "# elif:(Question)    \n",
    "    \n",
    "# else:"
   ]
  },
  {
   "cell_type": "markdown",
   "id": "e0aa81c0",
   "metadata": {},
   "source": [
    "<img align=\"right\" width=\"300\" height=\"300\"  src=\"images/for.png\" > \n",
    "\n",
    "## 3. The `for` Loop\n",
    "- We use `for` loop when we want to run a block of code for known set of items in an iterable.\n",
    "- In the context of most data science work, Python `for` loops are used to loop through an iterable object (like a list, tuple, set, dictionary) and perform the same action for each entry. \n",
    "- For example, a for loop would allow us to iterate through a list, performing the same action on each item in the list.\n",
    "```\n",
    "for variable in <iterable>:\n",
    "    <statement(s)>\n",
    "```\n",
    "- Before we see a basic example of a Python `for` loop, let us first understand the concept of **Iterables** and **Iterators**"
   ]
  },
  {
   "cell_type": "code",
   "execution_count": null,
   "id": "0dbe1e2e",
   "metadata": {},
   "outputs": [],
   "source": [
    "# for i in [2,3,4,5]:\n",
    "#     print(\"Hello world\")\n",
    "#     print(\"Data Science\")\n",
    "#     print(\"Machine Learning\")\n",
    "#     print(\"\\n\\n\")"
   ]
  },
  {
   "cell_type": "code",
   "execution_count": null,
   "id": "cf0c730d",
   "metadata": {},
   "outputs": [],
   "source": []
  },
  {
   "cell_type": "markdown",
   "id": "702a0369",
   "metadata": {},
   "source": [
    "### a. Iterables and Iterators\n",
    "- An `Iterable` in Python is an object that is capable of returning its members one at a time, and therefore, can be used in an iteration. Lists, Tuples, Sets and Dictionaries are iterables.\n",
    "- An `Iterator` in Python is an object that is used to iterate over iterable objects\n",
    "    - To initialize an iterator we pass an iterable object to Python built-in function `iter()`\n",
    "    - The `iter()` function returns an iterator for that iterable object. \n",
    "    - Later we use the Python built-in `next()` function to iterate over the elements of that iterable\n",
    "- Let us understand this using some example codes:"
   ]
  },
  {
   "cell_type": "code",
   "execution_count": null,
   "id": "bb80e250",
   "metadata": {},
   "outputs": [],
   "source": [
    "# for i in [2,3,4,5]:\n",
    "#     print(i)"
   ]
  },
  {
   "cell_type": "code",
   "execution_count": null,
   "id": "362ba9d5",
   "metadata": {},
   "outputs": [],
   "source": []
  },
  {
   "cell_type": "markdown",
   "id": "c9c22c22",
   "metadata": {},
   "source": [
    ">**So the `iter()` and the `next()` functions makes the basis of a `for` loop in Python**"
   ]
  },
  {
   "cell_type": "code",
   "execution_count": null,
   "id": "9e6c6934",
   "metadata": {},
   "outputs": [],
   "source": [
    "# Example\n",
    "print(mylist)\n",
    "iter_object = iter(mylist)\n",
    "print(type(iter_object))\n",
    "next(iter_object)"
   ]
  },
  {
   "cell_type": "code",
   "execution_count": null,
   "id": "a2439483",
   "metadata": {},
   "outputs": [],
   "source": []
  },
  {
   "cell_type": "code",
   "execution_count": null,
   "id": "19fb6dcb",
   "metadata": {},
   "outputs": [],
   "source": []
  },
  {
   "cell_type": "code",
   "execution_count": null,
   "id": "3648b266",
   "metadata": {},
   "outputs": [],
   "source": []
  },
  {
   "cell_type": "code",
   "execution_count": null,
   "id": "2585734d",
   "metadata": {},
   "outputs": [],
   "source": []
  },
  {
   "cell_type": "code",
   "execution_count": null,
   "id": "a10c028f",
   "metadata": {},
   "outputs": [],
   "source": []
  },
  {
   "cell_type": "code",
   "execution_count": null,
   "id": "66cc95db",
   "metadata": {},
   "outputs": [],
   "source": []
  },
  {
   "cell_type": "code",
   "execution_count": null,
   "id": "c138b5fb",
   "metadata": {},
   "outputs": [],
   "source": []
  },
  {
   "cell_type": "markdown",
   "id": "bd6bcfbc",
   "metadata": {},
   "source": [
    "### b. Basic For Loop Examples"
   ]
  },
  {
   "cell_type": "code",
   "execution_count": null,
   "id": "4a7feeee",
   "metadata": {},
   "outputs": [],
   "source": [
    "# Example 1\n",
    "mylist = ['Ehtisham', 'Ali', 'Ayesha', 'Adeen' ,'Dua']\n",
    "\n",
    "for i in mylist:\n",
    "    print(i)\n",
    "    \n",
    "print(\"Done!\")"
   ]
  },
  {
   "cell_type": "code",
   "execution_count": null,
   "id": "02d986f3",
   "metadata": {},
   "outputs": [],
   "source": []
  },
  {
   "cell_type": "code",
   "execution_count": null,
   "id": "24f52411",
   "metadata": {},
   "outputs": [],
   "source": [
    "\n",
    "# Example 2: Loop through the letters in a string\n",
    "string = \"Be Happy\"\n",
    "for i in string:\n",
    "    print(i , end= \" \")"
   ]
  },
  {
   "cell_type": "code",
   "execution_count": null,
   "id": "bbfba52a",
   "metadata": {},
   "outputs": [],
   "source": []
  },
  {
   "cell_type": "code",
   "execution_count": null,
   "id": "8cef87e4",
   "metadata": {},
   "outputs": [],
   "source": [
    "# Example 3: Iterate a tuple using for loop\n",
    "friends = ('Ehtisham', 'Ali', 'Ayesha', 'Dua', 'Adeen')\n",
    "\n",
    "for friend in friends:\n",
    "    print(friend)"
   ]
  },
  {
   "cell_type": "code",
   "execution_count": null,
   "id": "098e9361",
   "metadata": {},
   "outputs": [],
   "source": []
  },
  {
   "cell_type": "code",
   "execution_count": null,
   "id": "1c882526",
   "metadata": {},
   "outputs": [],
   "source": [
    "# Example 4: Iterate a string using for loop and count the count of a specific character\n",
    "word = \"Learning Practical Data Science and Machine Learning\"\n",
    "\n",
    "count = 0\n",
    "for character in word:\n",
    "    if character == 'c':\n",
    "        count = count+1\n",
    "        \n",
    "print(count)"
   ]
  },
  {
   "cell_type": "code",
   "execution_count": null,
   "id": "2c3bcad1",
   "metadata": {},
   "outputs": [],
   "source": []
  },
  {
   "cell_type": "code",
   "execution_count": null,
   "id": "e3a1de2d",
   "metadata": {},
   "outputs": [],
   "source": [
    "# Example 5:  Iterating through a dictionary keys\n",
    "d1 = {\n",
    "    'Name': 'Ehtisham', \n",
    "    'Gender': 'Male', \n",
    "    'Age': 22, \n",
    "    'Height': 5.7, \n",
    "    'Occupation': 'ML Engineer'\n",
    "}\n",
    "\n"
   ]
  },
  {
   "cell_type": "code",
   "execution_count": null,
   "id": "92e4d719",
   "metadata": {},
   "outputs": [],
   "source": [
    "print(\"Iterating through dictionary keys:\")\n",
    "\n",
    "for i in d1:\n",
    "    print(i)\n",
    "print(\"\\n\\n\")    "
   ]
  },
  {
   "cell_type": "code",
   "execution_count": null,
   "id": "60f33367",
   "metadata": {},
   "outputs": [],
   "source": [
    "d1.keys()"
   ]
  },
  {
   "cell_type": "code",
   "execution_count": null,
   "id": "17cf8bc6",
   "metadata": {},
   "outputs": [],
   "source": [
    "print(\"Another way of iterating through dictionary keys:\")\n",
    "for i in d1.keys():\n",
    "    print(i)"
   ]
  },
  {
   "cell_type": "code",
   "execution_count": null,
   "id": "afdbfab8",
   "metadata": {},
   "outputs": [],
   "source": [
    "print(\"Another way of iterating through dictionary values:\")\n",
    "for i in d1.values():\n",
    "    print(i)"
   ]
  },
  {
   "cell_type": "code",
   "execution_count": null,
   "id": "8b711436",
   "metadata": {},
   "outputs": [],
   "source": []
  },
  {
   "cell_type": "code",
   "execution_count": null,
   "id": "c5f9a063",
   "metadata": {},
   "outputs": [],
   "source": []
  },
  {
   "cell_type": "code",
   "execution_count": null,
   "id": "cbfc78f6",
   "metadata": {},
   "outputs": [],
   "source": [
    "# Example 6: Iterating through the values\n",
    "d1 = {\n",
    "    'Name': 'Ehtisham', \n",
    "    'Gender': 'Male', \n",
    "    'Age': 22, \n",
    "    'Height': 5.7, \n",
    "    'Occupation': 'ML Engineer'\n",
    "}\n",
    "\n",
    "print(\"Iterating through a dictionary values:\")\n",
    "for i in d1.values():\n",
    "    print(i)"
   ]
  },
  {
   "cell_type": "code",
   "execution_count": null,
   "id": "7b1e2f23",
   "metadata": {},
   "outputs": [],
   "source": []
  },
  {
   "cell_type": "code",
   "execution_count": null,
   "id": "78f3f30e",
   "metadata": {},
   "outputs": [],
   "source": []
  },
  {
   "cell_type": "code",
   "execution_count": null,
   "id": "690b5910",
   "metadata": {},
   "outputs": [],
   "source": [
    "# d1.items()"
   ]
  },
  {
   "cell_type": "code",
   "execution_count": null,
   "id": "7613efba",
   "metadata": {
    "scrolled": true
   },
   "outputs": [],
   "source": [
    "# Example 7: Iterating through the key-value pairs\n",
    "d1 = {\n",
    "    'Name': 'Ehtisham', \n",
    "    'Gender': 'Male', \n",
    "    'Age': 22, \n",
    "    'Height': 5.7, \n",
    "    'Occupation': 'ML Engineer'\n",
    "}\n",
    "\n",
    "\n",
    "print(\"\\nIterating through a dictionary key:value pairs:\\n\\n\")\n",
    "for i in d1.items():\n",
    "    print(i)"
   ]
  },
  {
   "cell_type": "code",
   "execution_count": null,
   "id": "959ce9e8",
   "metadata": {},
   "outputs": [],
   "source": []
  },
  {
   "cell_type": "code",
   "execution_count": null,
   "id": "ba7fe158",
   "metadata": {},
   "outputs": [],
   "source": []
  },
  {
   "cell_type": "code",
   "execution_count": null,
   "id": "fa38f10f",
   "metadata": {},
   "outputs": [],
   "source": [
    "d1 = {\n",
    "    'Name': 'Ehtisham', \n",
    "    'Gender': 'Male', \n",
    "    'Age': 22, \n",
    "    'Height': 5.7, \n",
    "    'Occupation': 'ML Engineer'\n",
    "}\n",
    "\n",
    "print(\"\\nIterating through a dictionary key:value pairs:\")\n",
    "for k,v in d1.items():\n",
    "    print(k,':',v)"
   ]
  },
  {
   "cell_type": "code",
   "execution_count": null,
   "id": "3d78897e",
   "metadata": {},
   "outputs": [],
   "source": []
  },
  {
   "cell_type": "code",
   "execution_count": null,
   "id": "2bfea8b4",
   "metadata": {},
   "outputs": [],
   "source": []
  },
  {
   "cell_type": "markdown",
   "id": "fabae812",
   "metadata": {},
   "source": [
    "#### The `pass` statement in a `for` loop\n",
    "- The `pass` statement is generally used as a placeholder i.e. when the user does not know what code to write. \n",
    "- So user can simply write `pass` statement, where empty code is not allowed, like in loops, function definitions, class definitions, or in if statements."
   ]
  },
  {
   "cell_type": "code",
   "execution_count": null,
   "id": "d8cfc949",
   "metadata": {},
   "outputs": [],
   "source": []
  },
  {
   "cell_type": "code",
   "execution_count": null,
   "id": "6a4716ad",
   "metadata": {},
   "outputs": [],
   "source": [
    "help('pass')"
   ]
  },
  {
   "cell_type": "code",
   "execution_count": null,
   "id": "ceaad1db",
   "metadata": {},
   "outputs": [],
   "source": [
    "list1 =['Ehtisham', 'ali', 'ayesha', 'dua']\n",
    "\n",
    "for i in list1:\n",
    "    if i == 'ali':\n",
    "        continue\n",
    "    print(i)"
   ]
  },
  {
   "cell_type": "code",
   "execution_count": null,
   "id": "0c41d181",
   "metadata": {},
   "outputs": [],
   "source": []
  },
  {
   "cell_type": "code",
   "execution_count": null,
   "id": "863c4a7d",
   "metadata": {},
   "outputs": [],
   "source": [
    "list1 =['Ehtisham', 'ali', 'ayesha', 'dua']\n",
    "for i in list1:\n",
    "    if i == 'ali':\n",
    "        pass\n",
    "    else:\n",
    "        print(i)"
   ]
  },
  {
   "cell_type": "code",
   "execution_count": null,
   "id": "8073eff2",
   "metadata": {},
   "outputs": [],
   "source": []
  },
  {
   "cell_type": "code",
   "execution_count": null,
   "id": "cbf08c57",
   "metadata": {},
   "outputs": [],
   "source": []
  },
  {
   "cell_type": "code",
   "execution_count": null,
   "id": "55bdd06b",
   "metadata": {},
   "outputs": [],
   "source": [
    "# Print all elements of list ignoring string \"ali\"\n",
    "list1 =['Ehtisham', 'ali', 'ayesha', 'dua']\n",
    " \n",
    "for i in list1:\n",
    "    if(i =='ali'):\n",
    "        pass    # do nothing \n",
    "    else:\n",
    "        print(i)"
   ]
  },
  {
   "cell_type": "code",
   "execution_count": null,
   "id": "b1e73a92",
   "metadata": {},
   "outputs": [],
   "source": [
    "str1 = \"This is great stuff\"\n",
    "for i in str1:\n",
    "    if i == ' ':\n",
    "        pass\n",
    "    else:\n",
    "        print(i, end=\"\")"
   ]
  },
  {
   "cell_type": "code",
   "execution_count": null,
   "id": "9a76272a",
   "metadata": {},
   "outputs": [],
   "source": []
  },
  {
   "cell_type": "code",
   "execution_count": null,
   "id": "ac1cd03d",
   "metadata": {},
   "outputs": [],
   "source": [
    "# Print the string ignoring spaces\n",
    "str1 = \"This is great stuff\"\n",
    "for i in str1:\n",
    "    if(i ==' '):\n",
    "        pass\n",
    "    else:\n",
    "        print(i, end=\"\")"
   ]
  },
  {
   "cell_type": "code",
   "execution_count": null,
   "id": "3114260d",
   "metadata": {},
   "outputs": [],
   "source": []
  },
  {
   "cell_type": "code",
   "execution_count": null,
   "id": "e8376572",
   "metadata": {},
   "outputs": [],
   "source": []
  },
  {
   "cell_type": "markdown",
   "id": "3deb901c",
   "metadata": {},
   "source": [
    "### c. Using `range()` Function in `for` Loops\n",
    "- The `range()` method is used to create a range object, containing sequence of numbers that can be iterated over using a `for` loop.\n",
    "- It can be used in 3 ways:\n",
    "* `range(n)` - Creates a sequence of numbers from `0` to `n-1`\n",
    "* `range(a, b)` - Creates a sequence of numbers from `a` to `b-1`\n",
    "* `range(a, b, step)` - Creates a sequence of numbers from `a` to `b-1` with increment/decrement of `step`"
   ]
  },
  {
   "cell_type": "code",
   "execution_count": null,
   "id": "ca3c3f02",
   "metadata": {},
   "outputs": [],
   "source": []
  },
  {
   "cell_type": "code",
   "execution_count": null,
   "id": "cd4c09ef",
   "metadata": {},
   "outputs": [],
   "source": [
    "# help(range)"
   ]
  },
  {
   "cell_type": "code",
   "execution_count": null,
   "id": "19c0cf34",
   "metadata": {},
   "outputs": [],
   "source": [
    "rv = range(10)\n",
    "print(rv)\n",
    "print(type(rv))"
   ]
  },
  {
   "cell_type": "code",
   "execution_count": null,
   "id": "b8f751ce",
   "metadata": {},
   "outputs": [],
   "source": []
  },
  {
   "cell_type": "code",
   "execution_count": null,
   "id": "870b49ca",
   "metadata": {},
   "outputs": [],
   "source": [
    "#Example 1: \n",
    "a = range(10) \n",
    "for i in a:\n",
    "    print(i)"
   ]
  },
  {
   "cell_type": "code",
   "execution_count": null,
   "id": "f4393c38",
   "metadata": {},
   "outputs": [],
   "source": []
  },
  {
   "cell_type": "code",
   "execution_count": null,
   "id": "2cde61b3",
   "metadata": {},
   "outputs": [],
   "source": [
    "#Example 2:\n",
    "#a = range(3, 10) \n",
    "for i in range(3, 10):\n",
    "    print(i)"
   ]
  },
  {
   "cell_type": "code",
   "execution_count": null,
   "id": "6425ef11",
   "metadata": {},
   "outputs": [],
   "source": [
    "#Example 3: \n",
    "a = range(3, 16, 4) \n",
    "for i in a:\n",
    "    print(i)"
   ]
  },
  {
   "cell_type": "code",
   "execution_count": null,
   "id": "e4be7962",
   "metadata": {},
   "outputs": [],
   "source": [
    "# a"
   ]
  },
  {
   "cell_type": "code",
   "execution_count": null,
   "id": "252607f3",
   "metadata": {},
   "outputs": [],
   "source": []
  },
  {
   "cell_type": "code",
   "execution_count": null,
   "id": "cc1e76f9",
   "metadata": {},
   "outputs": [],
   "source": [
    "print(range(10))    # returns an iterator object containing integer values"
   ]
  },
  {
   "cell_type": "code",
   "execution_count": null,
   "id": "dd561364",
   "metadata": {},
   "outputs": [],
   "source": [
    "print(list(range(10)))"
   ]
  },
  {
   "cell_type": "code",
   "execution_count": null,
   "id": "400b8444",
   "metadata": {},
   "outputs": [],
   "source": [
    "\n",
    "print(list(range(-5, 2, 1)))\n",
    "\n",
    "print(list(range(20, 2, -3)))"
   ]
  },
  {
   "cell_type": "code",
   "execution_count": null,
   "id": "901b2e89",
   "metadata": {},
   "outputs": [],
   "source": []
  },
  {
   "cell_type": "code",
   "execution_count": null,
   "id": "9e02c76c",
   "metadata": {},
   "outputs": [],
   "source": []
  },
  {
   "cell_type": "code",
   "execution_count": null,
   "id": "8ceeb381",
   "metadata": {},
   "outputs": [],
   "source": [
    "myfamily = ['Ehtisham','Ali', 'Ayesha', 'Dua', 'Adeen', 'Khubaib']\n",
    "for i in myfamily:\n",
    "    print(i)"
   ]
  },
  {
   "cell_type": "code",
   "execution_count": null,
   "id": "02b16e8c",
   "metadata": {},
   "outputs": [],
   "source": [
    "print(len(myfamily))\n",
    "print(range(len(myfamily)))"
   ]
  },
  {
   "cell_type": "code",
   "execution_count": null,
   "id": "2cb6749c",
   "metadata": {},
   "outputs": [],
   "source": [
    "# Example 4: Used to iterate over Lists, when you need to track the index of elements while iterating.\n",
    "myfamily = ['Ehtisham','Ali', 'Ayesha', 'Dua', 'Adeen', 'Khubaib']\n",
    "\n",
    "\n",
    "for i in range(len(myfamily)):  # Remember the len() function returns 6 in this scenario\n",
    "    print('The value at position {} is {}.'.format(i, myfamily[i]))"
   ]
  },
  {
   "cell_type": "code",
   "execution_count": null,
   "id": "8d867e50",
   "metadata": {},
   "outputs": [],
   "source": []
  },
  {
   "cell_type": "code",
   "execution_count": null,
   "id": "e999b0d7",
   "metadata": {},
   "outputs": [],
   "source": []
  },
  {
   "cell_type": "markdown",
   "id": "b094a17d",
   "metadata": {},
   "source": [
    "### d. Using  `enumerate()` Function in `for` Loops\n",
    "- The `enumerate()` method is passed an iterable object and returns an enumerate object containing tuples, each tuple having two values:\n",
    "```\n",
    "(index, data_at_that_index_in_the_iterable)\n",
    "```\n",
    "- It is is useful for obtaining an indexed list:\n",
    "```\n",
    "       (0, seq[0]), (1, seq[1]), (2, seq[2]), ...\n",
    "```"
   ]
  },
  {
   "cell_type": "code",
   "execution_count": null,
   "id": "b0c30dfa",
   "metadata": {},
   "outputs": [],
   "source": [
    "myfamily"
   ]
  },
  {
   "cell_type": "code",
   "execution_count": null,
   "id": "61ed6c32",
   "metadata": {},
   "outputs": [],
   "source": [
    "for i in enumerate(myfamily):\n",
    "    print(i)"
   ]
  },
  {
   "cell_type": "code",
   "execution_count": null,
   "id": "384ba694",
   "metadata": {},
   "outputs": [],
   "source": []
  },
  {
   "cell_type": "code",
   "execution_count": null,
   "id": "d43f0fc0",
   "metadata": {},
   "outputs": [],
   "source": [
    "mylist = ['ehtisham','ali','ayesha']\n",
    "rv = enumerate(mylist)\n",
    "print(type(rv))"
   ]
  },
  {
   "cell_type": "code",
   "execution_count": null,
   "id": "87895511",
   "metadata": {},
   "outputs": [],
   "source": []
  },
  {
   "cell_type": "code",
   "execution_count": null,
   "id": "15d86b41",
   "metadata": {},
   "outputs": [],
   "source": [
    "mylist = ['ehtisham','ali','ayesha']\n",
    "\n",
    "print(list(enumerate(mylist)))"
   ]
  },
  {
   "cell_type": "code",
   "execution_count": null,
   "id": "0ecf5e65",
   "metadata": {},
   "outputs": [],
   "source": []
  },
  {
   "cell_type": "code",
   "execution_count": null,
   "id": "72cb8153",
   "metadata": {},
   "outputs": [],
   "source": []
  },
  {
   "cell_type": "code",
   "execution_count": null,
   "id": "f72b4688",
   "metadata": {},
   "outputs": [],
   "source": [
    "mylist = ['ehtisham','ali','ayesha']\n",
    "\n",
    "print(dict(enumerate(mylist)))"
   ]
  },
  {
   "cell_type": "code",
   "execution_count": null,
   "id": "2aadabc1",
   "metadata": {},
   "outputs": [],
   "source": []
  },
  {
   "cell_type": "code",
   "execution_count": null,
   "id": "4eb3d368",
   "metadata": {},
   "outputs": [],
   "source": []
  },
  {
   "cell_type": "code",
   "execution_count": null,
   "id": "swedish-bradford",
   "metadata": {},
   "outputs": [],
   "source": [
    "myfamily"
   ]
  },
  {
   "cell_type": "code",
   "execution_count": null,
   "id": "d8043e82",
   "metadata": {},
   "outputs": [],
   "source": [
    "myfamily = ['Ehtisham', 'Ali', 'Ayesha', 'Dua', 'Adeen', 'Khubaib']\n",
    "\n",
    "for i, name in enumerate(myfamily): \n",
    "    print('The value at position {} is {}.'.format(i, myfamily[i]))"
   ]
  },
  {
   "cell_type": "code",
   "execution_count": null,
   "id": "ad16f679",
   "metadata": {},
   "outputs": [],
   "source": []
  },
  {
   "cell_type": "markdown",
   "id": "96fb967a",
   "metadata": {},
   "source": [
    "### d. Use of `break` and `continue` statement inside a `for` loop\n",
    "- Python **break** statement immediately terminates a loop entirely. Program execution proceeds to the first statement after the loop body.\n",
    "- Python **continue** statement immediately terminates the current loop iteration. Program execution jumps to the top of the loop, and the loop condition is re-evaluated to determine whether the loop will execute again or terminate"
   ]
  },
  {
   "cell_type": "code",
   "execution_count": null,
   "id": "0673d9d3",
   "metadata": {},
   "outputs": [],
   "source": [
    "# Example 1: Break the loop when it reaches the element \"cherry\"\n",
    "fruits = [\"apple\", \"banana\", \"cherry\", \"guava\"]\n",
    "for x in fruits:\n",
    "    if x == \"cherry\":\n",
    "        break\n",
    "    print(x)"
   ]
  },
  {
   "cell_type": "code",
   "execution_count": null,
   "id": "56645937",
   "metadata": {},
   "outputs": [],
   "source": [
    "# Example 2: Do not print banana from the list\n",
    "fruits = [\"apple\", \"banana\", \"cherry\", \"guava\"]\n",
    "for x in fruits:\n",
    "    if x == \"banana\":\n",
    "        continue\n",
    "    print(x)"
   ]
  },
  {
   "cell_type": "code",
   "execution_count": null,
   "id": "4dbbd8ad",
   "metadata": {},
   "outputs": [],
   "source": []
  },
  {
   "cell_type": "code",
   "execution_count": null,
   "id": "1f71aa58",
   "metadata": {},
   "outputs": [],
   "source": [
    "# Example 3: Print odd numbers from 1 to 11\n",
    "for i in range(1,12):\n",
    "    if i%2 == 0:\n",
    "        continue\n",
    "    print(i)"
   ]
  },
  {
   "cell_type": "code",
   "execution_count": null,
   "id": "b40404e7",
   "metadata": {},
   "outputs": [],
   "source": [
    "mydict = {\n",
    "          'ehtisham':90, \n",
    "          'ali':95, \n",
    "          'ayesha':81, \n",
    "          'dua':77, \n",
    "          'adeen':86, \n",
    "          'khubaib':100\n",
    "        }\n",
    "mydict.keys()"
   ]
  },
  {
   "cell_type": "code",
   "execution_count": null,
   "id": "78392ef5",
   "metadata": {},
   "outputs": [],
   "source": [
    "# Example 4: A for loop with else and break\n",
    "mydict = {\n",
    "          'ehtisham':90, \n",
    "          'ali':95, \n",
    "          'ayesha':81, \n",
    "          'dua':77, \n",
    "          'adeen':86, \n",
    "          'khubaib':100\n",
    "        }\n",
    "\n",
    "mydict"
   ]
  },
  {
   "cell_type": "code",
   "execution_count": null,
   "id": "97e5a89a",
   "metadata": {},
   "outputs": [],
   "source": [
    "mydict['ali']"
   ]
  },
  {
   "cell_type": "code",
   "execution_count": null,
   "id": "384fb778",
   "metadata": {},
   "outputs": [],
   "source": [
    "student_name = input('enter name: ')\n",
    "\n",
    "for name in mydict.keys():\n",
    "    if name == student_name:\n",
    "        print(mydict[name])\n",
    "        break\n",
    "else:\n",
    "    print('No entry with that name found.')\n",
    "    \n",
    "print(\"Outside loop\")"
   ]
  },
  {
   "cell_type": "code",
   "execution_count": null,
   "id": "c1886a87",
   "metadata": {},
   "outputs": [],
   "source": []
  },
  {
   "cell_type": "markdown",
   "id": "eb71393a",
   "metadata": {},
   "source": [
    "### e. Nested for loop"
   ]
  },
  {
   "cell_type": "code",
   "execution_count": null,
   "id": "cf9b091b",
   "metadata": {},
   "outputs": [],
   "source": [
    "# Example: A for loop nested inside another for loop\n",
    "# Note the inner for loop works on a list that is declared again and again inside the outer loop\n",
    "list1 = [1,2,3,4]\n",
    "\n",
    "for numb in list1:\n",
    "    print(\"Outer: \", numb)\n",
    "    list2 = ['Ehtisham', 'Ali']\n",
    "    \n",
    "    for name in list2:\n",
    "        print(\"\\t Inner: \", name)\n",
    "\n",
    "print(\"Outside loops\")"
   ]
  },
  {
   "cell_type": "code",
   "execution_count": null,
   "id": "a255cd2b",
   "metadata": {},
   "outputs": [],
   "source": [
    "days = ['Monday', 'Tuesday', 'Wednesday']\n",
    "fruits = ['apple', 'banana', 'guava']\n",
    "\n",
    "for day in days:\n",
    "    for fruit in fruits:\n",
    "        print(day, fruit)"
   ]
  },
  {
   "cell_type": "code",
   "execution_count": null,
   "id": "d051df7e",
   "metadata": {},
   "outputs": [],
   "source": [
    "for i in range(12,15):\n",
    "    for j in range(1,11):\n",
    "        print(i,'*',j,'=',i*j)"
   ]
  },
  {
   "cell_type": "code",
   "execution_count": null,
   "id": "dad9639c",
   "metadata": {},
   "outputs": [],
   "source": [
    "list3 = list(range(1,11))\n",
    "print(list3)\n",
    "for i in list3:\n",
    "    if i%2==0:\n",
    "        print(i)"
   ]
  },
  {
   "cell_type": "code",
   "execution_count": null,
   "id": "75842124",
   "metadata": {},
   "outputs": [],
   "source": []
  },
  {
   "cell_type": "code",
   "execution_count": null,
   "id": "cf69b52d",
   "metadata": {},
   "outputs": [],
   "source": []
  },
  {
   "cell_type": "markdown",
   "id": "27e28f73",
   "metadata": {},
   "source": [
    "## 4. List Comprehension\n",
    "- In Python comprehension is a concise way to create a new sequence based on the values of an existing sequence (which can be a list, dictionary, set or a generator)\n",
    "- Let us understand List comprehension step by step with examples:"
   ]
  },
  {
   "cell_type": "markdown",
   "id": "f9c3ba8c",
   "metadata": {},
   "source": [
    "**Example 1:** Suppose we have an oldlist containing some random numbers. We want to create a new list that contains square of the numbers of the oldlist"
   ]
  },
  {
   "cell_type": "code",
   "execution_count": null,
   "id": "20138c16",
   "metadata": {},
   "outputs": [],
   "source": [
    "oldlist = [5, 3, 6, 2]\n",
    "\n",
    "newlist = []\n",
    "\n",
    "for i in oldlist:\n",
    "    newlist.append(i**2)\n",
    "newlist"
   ]
  },
  {
   "cell_type": "code",
   "execution_count": null,
   "id": "e47a8a9f",
   "metadata": {},
   "outputs": [],
   "source": []
  },
  {
   "cell_type": "code",
   "execution_count": null,
   "id": "e158089b",
   "metadata": {},
   "outputs": [],
   "source": [
    "oldlist = [5, 3, 6, 2]\n",
    "newlist = []\n",
    "for i in oldlist:\n",
    "    newlist.append(i*i)\n",
    "\n",
    "newlist"
   ]
  },
  {
   "cell_type": "code",
   "execution_count": null,
   "id": "c9d476d9",
   "metadata": {},
   "outputs": [],
   "source": []
  },
  {
   "cell_type": "code",
   "execution_count": null,
   "id": "c287bc2b",
   "metadata": {},
   "outputs": [],
   "source": []
  },
  {
   "cell_type": "code",
   "execution_count": null,
   "id": "1b0f7064",
   "metadata": {},
   "outputs": [],
   "source": []
  },
  {
   "cell_type": "markdown",
   "id": "28b4708e",
   "metadata": {},
   "source": [
    "**You can perform above task in single line using List Comprehension**\n",
    "\n",
    "```newlist = [expression for item in iterable]```\n",
    "\n",
    "Where,\n",
    "- `expression` is the member itself, a call to a method, or any other valid expression that returns a value. \n",
    "- `item` is the object or value in the list or iterable.\n",
    "- `iterable` is a list, set, sequence, generator, or any other object that can return its elements one at a time.\n"
   ]
  },
  {
   "cell_type": "code",
   "execution_count": null,
   "id": "f24e5a17",
   "metadata": {},
   "outputs": [],
   "source": [
    "oldlist = [5, 3, 6, 2]\n",
    "\n",
    "newlist = [i**2 for i in oldlist]\n",
    "\n",
    "newlist"
   ]
  },
  {
   "cell_type": "code",
   "execution_count": null,
   "id": "3ce952f2",
   "metadata": {},
   "outputs": [],
   "source": []
  },
  {
   "cell_type": "markdown",
   "id": "f9c4e549",
   "metadata": {},
   "source": [
    "**Example 2:** Given a list, create a new list that should contain the even numbers in the given list using List Comprehension\n",
    "\n",
    "```newlist = [expression for item in iterable if (condition == True)]```\n",
    "\n",
    "A list comprehension in Python can have four elements:\n",
    "- `expression` is the member itself, a call to a method, or any other valid expression that returns a value. \n",
    "- `item` is the object or value in the list or iterable.\n",
    "- `iterable` is a list, set, sequence, generator, or any other object that can return its elements one at a time.\n",
    "- `if (condition==True)` The item will be placed in the newlist only if the condition evaluates to True"
   ]
  },
  {
   "cell_type": "code",
   "execution_count": null,
   "id": "33343586",
   "metadata": {},
   "outputs": [],
   "source": [
    "list1 = [1, 9, 12, 88, 65, 7, 20, 55, 47, 32]\n",
    "\n",
    "new = []\n",
    "\n",
    "for i in list1:\n",
    "    if  i%2==0:\n",
    "        new.append(i)\n",
    "new"
   ]
  },
  {
   "cell_type": "code",
   "execution_count": null,
   "id": "72f27033",
   "metadata": {},
   "outputs": [],
   "source": []
  },
  {
   "cell_type": "code",
   "execution_count": null,
   "id": "f599f84a",
   "metadata": {},
   "outputs": [],
   "source": [
    "# list1 = range(1,100)\n",
    "# new = []\n",
    "\n",
    "# for i in list1:\n",
    "#     if  i%2==0:\n",
    "#         new.append(i)\n",
    "# new"
   ]
  },
  {
   "cell_type": "code",
   "execution_count": null,
   "id": "25363dff",
   "metadata": {},
   "outputs": [],
   "source": [
    "new1 = [i for i in list1 if (i%2==0)]\n",
    "new1"
   ]
  },
  {
   "cell_type": "code",
   "execution_count": null,
   "id": "72220728",
   "metadata": {},
   "outputs": [],
   "source": []
  },
  {
   "cell_type": "code",
   "execution_count": null,
   "id": "9db4663f",
   "metadata": {},
   "outputs": [],
   "source": []
  },
  {
   "cell_type": "code",
   "execution_count": null,
   "id": "35ab73b3",
   "metadata": {},
   "outputs": [],
   "source": []
  },
  {
   "cell_type": "markdown",
   "id": "930f03a8",
   "metadata": {},
   "source": [
    "**Example 3:** Suppose we want to create a `newlist` from an existing list of `fruits` such that the new list should contain only those fruits having alphabet **`a`** in their name\n",
    "```newlist = [expression for item in iterable if (condition == True)]```\n",
    "\n",
    "A list comprehension in Python can have four elements:\n",
    "- `expression` is the member itself, a call to a method, or any other valid expression that returns a value. \n",
    "- `item` is the object or value in the list or iterable.\n",
    "- `iterable` is a list, set, sequence, generator, or any other object that can return its elements one at a time.\n",
    "- `if (condition)` The item will be placed in the newlist only if the condition evaluates to true"
   ]
  },
  {
   "cell_type": "code",
   "execution_count": null,
   "id": "944e9c5b",
   "metadata": {},
   "outputs": [],
   "source": [
    "fruits = [\"apple\", \"banana\", \"cherry\", \"kiwi\", \"mango\"]\n",
    "\n",
    "new2 = []\n",
    "\n",
    "for i in fruits:\n",
    "    if 'a' in i:\n",
    "        new2.append(i)\n",
    "new2"
   ]
  },
  {
   "cell_type": "code",
   "execution_count": null,
   "id": "01a35fc6",
   "metadata": {},
   "outputs": [],
   "source": [
    "new3 = [i for i in fruits if 'a' in i]\n",
    "new3"
   ]
  },
  {
   "cell_type": "code",
   "execution_count": null,
   "id": "5a93ded5",
   "metadata": {},
   "outputs": [],
   "source": []
  },
  {
   "cell_type": "code",
   "execution_count": null,
   "id": "9fbb53b1",
   "metadata": {},
   "outputs": [],
   "source": [
    "# fruits = [\"apple\", \"banana\", \"cherry\", \"kiwi\", \"mango\"]\n",
    "# newlist = []\n",
    "\n",
    "# for fruit in fruits:\n",
    "#     if \"a\" in fruit:\n",
    "#         newlist.append(fruit)\n",
    "\n",
    "# print(newlist)"
   ]
  },
  {
   "cell_type": "code",
   "execution_count": null,
   "id": "c14b3edd",
   "metadata": {},
   "outputs": [],
   "source": [
    "# fruits = [\"apple\", \"banana\", \"cherry\", \"kiwi\", \"mango\"]\n",
    "\n",
    "# newlist = [fruit for fruit in fruits if (\"a\" in fruit)]\n",
    "\n",
    "# print(newlist)"
   ]
  },
  {
   "cell_type": "code",
   "execution_count": null,
   "id": "2acb8a44",
   "metadata": {},
   "outputs": [],
   "source": []
  },
  {
   "cell_type": "code",
   "execution_count": null,
   "id": "73695b99",
   "metadata": {},
   "outputs": [],
   "source": []
  },
  {
   "cell_type": "markdown",
   "id": "f4d58088",
   "metadata": {},
   "source": [
    "**Example 4:** Create a `newlist` from an existing list of `fruits` such that the new list should contain all elements except `kiwi`. Use List Comprehension"
   ]
  },
  {
   "cell_type": "code",
   "execution_count": null,
   "id": "42eb28f5",
   "metadata": {
    "scrolled": true
   },
   "outputs": [],
   "source": [
    "fruits = [\"apple\", \"banana\", \"cherry\", \"kiwi\", \"mango\"]\n",
    "\n",
    "newlist = [fruit for fruit in fruits if (fruit != \"kiwi\")]\n",
    "\n",
    "print(newlist)"
   ]
  },
  {
   "cell_type": "code",
   "execution_count": null,
   "id": "d2e6b258",
   "metadata": {},
   "outputs": [],
   "source": []
  },
  {
   "cell_type": "code",
   "execution_count": null,
   "id": "8355fee7",
   "metadata": {},
   "outputs": [],
   "source": []
  },
  {
   "cell_type": "code",
   "execution_count": null,
   "id": "1ceabce7",
   "metadata": {},
   "outputs": [],
   "source": []
  },
  {
   "cell_type": "markdown",
   "id": "7072faa2",
   "metadata": {},
   "source": [
    "## 4. Dictionary Comprehension\n",
    "- Dictionary comprehension is a concise way to create a new dictionary based on the values of an existing list or dictionary.\n",
    "\n",
    "- Let us understand Dictionary comprehension step by step with examples:\n",
    "```\n",
    "newdict = {key:value for var in iterable if (condition == True)}\n",
    "```\n",
    "- Note for list comprehension we use `[  ]`, while for dictionary comprehension we use `{  }` "
   ]
  },
  {
   "cell_type": "markdown",
   "id": "fa6e53dd",
   "metadata": {},
   "source": [
    "**Example 1:** Suppose we have a list containing some random numbers. We want to create a dictionary having keys of that list and values as cubes of the list values"
   ]
  },
  {
   "cell_type": "code",
   "execution_count": null,
   "id": "e2c12c94",
   "metadata": {},
   "outputs": [],
   "source": [
    "list1 = [1, 2, 3, 4, 5]\n",
    "\n",
    "dict1 = {}\n",
    "\n",
    "for i in list1:\n",
    "    dict1[i] = i**3\n",
    "print(dict1)"
   ]
  },
  {
   "cell_type": "code",
   "execution_count": null,
   "id": "1a06df1c",
   "metadata": {},
   "outputs": [],
   "source": [
    "list1 = [1, 2, 3, 4, 5,6]\n",
    "\n",
    "dict1 = {key: key**3 for key in list1}\n",
    "\n",
    "print (dict1)"
   ]
  },
  {
   "cell_type": "markdown",
   "id": "38b8ea13",
   "metadata": {},
   "source": [
    "**Example 2:** Suppose we have a list containing numbers from 1 to 10. We want to create a dictionary having dictionary keys as the values of that list and dictionary values as cubes of the values in the list. However, the dictionary should contain only those key:value pairs, where the dictionary values are divisible by 4"
   ]
  },
  {
   "cell_type": "code",
   "execution_count": null,
   "id": "f2b35cec",
   "metadata": {},
   "outputs": [],
   "source": [
    "list2 = range(11)\n",
    "\n",
    "dict2 = {}\n",
    "\n",
    "for i in list2:\n",
    "    if i**3%4==0:\n",
    "        dict2[i] = i**3\n",
    "dict2"
   ]
  },
  {
   "cell_type": "code",
   "execution_count": null,
   "id": "d67196fa",
   "metadata": {},
   "outputs": [],
   "source": []
  },
  {
   "cell_type": "code",
   "execution_count": null,
   "id": "d817ddc9",
   "metadata": {},
   "outputs": [],
   "source": []
  },
  {
   "cell_type": "code",
   "execution_count": null,
   "id": "a63c44e2",
   "metadata": {},
   "outputs": [],
   "source": [
    "list1 = range(11)\n",
    "\n",
    "dict1 = {key: key**3 for key in list1 if key**3 % 4 == 0}\n",
    "\n",
    "print(dict1)"
   ]
  },
  {
   "cell_type": "code",
   "execution_count": null,
   "id": "93515b11",
   "metadata": {},
   "outputs": [],
   "source": []
  },
  {
   "cell_type": "code",
   "execution_count": null,
   "id": "2d5daeb6",
   "metadata": {},
   "outputs": [],
   "source": []
  },
  {
   "cell_type": "markdown",
   "id": "4268aaf9",
   "metadata": {},
   "source": [
    "**Example 3:** Suppose we have a dictionary containing some grossary items and their prices. \n",
    "```\n",
    "dict1 = {'milk': 120.0, 'choclate': 45.0, 'bread': 80.0}\n",
    "```\n",
    "Use dictionary comprehension to create a new dictionary with increased prices by 25%"
   ]
  },
  {
   "cell_type": "code",
   "execution_count": null,
   "id": "5d91b2b5",
   "metadata": {},
   "outputs": [],
   "source": [
    "\n",
    "dict1 = {'milk': 120.0, 'choclate': 45.0, 'bread': 80.0}\n",
    "increase = 1.25\n",
    "\n",
    "dict2 = {key: value*increase for (key, value) in dict1.items()}\n",
    "\n",
    "print(dict2)"
   ]
  },
  {
   "cell_type": "code",
   "execution_count": null,
   "id": "703b294b",
   "metadata": {},
   "outputs": [],
   "source": []
  },
  {
   "cell_type": "code",
   "execution_count": null,
   "id": "827922aa",
   "metadata": {},
   "outputs": [],
   "source": [
    "dict1\n",
    "dict4 = {}\n",
    "\n",
    "for i,j in dict1.items():\n",
    "    dict4[i] = j*increase\n",
    "dict4"
   ]
  },
  {
   "cell_type": "code",
   "execution_count": null,
   "id": "e2b5f327",
   "metadata": {},
   "outputs": [],
   "source": []
  },
  {
   "cell_type": "markdown",
   "id": "74cae131",
   "metadata": {},
   "source": [
    "**Example 4:** Suppose we have a dictionary \n",
    "```\n",
    "dict1 = {'alpha': 47, 'bravo': 84, 'charlie': 79, 'delta': 92}\n",
    "```\n",
    "\n",
    "Use Dictionary comprehension to create a new dictionary containing even values only"
   ]
  },
  {
   "cell_type": "code",
   "execution_count": null,
   "id": "a3f51a3b",
   "metadata": {},
   "outputs": [],
   "source": [
    "\n",
    "dict1 = {'alpha': 47, 'bravo': 84, 'charlie': 79, 'delta': 92}\n",
    "\n",
    "dict2 = {key: value for (key, value) in dict1.items() if value % 2 == 0}\n",
    "print(dict2)"
   ]
  },
  {
   "cell_type": "code",
   "execution_count": null,
   "id": "65a2430f",
   "metadata": {},
   "outputs": [],
   "source": []
  },
  {
   "cell_type": "markdown",
   "id": "bcdb0f45",
   "metadata": {},
   "source": [
    "## Check your Concepts\n",
    "\n",
    "Try answering the following questions to test your understanding of the topics covered in this notebook:\n",
    "\n",
    "1. What is iteration or looping in programming languages? Why is it useful?\n",
    "2. What are the two ways for performing iteration in Python?\n",
    "3. What is the purpose of the `while` statement in Python?\n",
    "4. What is the syntax of the `while` statement in Python? Give an example.\n",
    "5. Write a program to compute the sum of the numbers 1 to 100 using a while loop. \n",
    "6. Repeat the above program for numbers up to 1000, 10000, and 100000. How long does it take each loop to complete?\n",
    "7. What is an infinite loop?\n",
    "8. What causes a program to enter an infinite loop?\n",
    "9. How do you interrupt an infinite loop within Jupyter?\n",
    "10. What is the purpose of the `break` statement in Python? \n",
    "11. Give an example of using a `break` statement within a while loop.\n",
    "12. What is the purpose of the `continue` statement in Python?\n",
    "13. Give an example of using the `continue` statement within a while loop.\n",
    "15. What is the purpose of the `for` statement in Python?\n",
    "16. What is the syntax of `for` loops? Give an example.\n",
    "17. How are for loops and while loops different?\n",
    "18. How do you loop over a string? Give an example.\n",
    "19. How do you loop over a list? Give an example.\n",
    "20. How do you loop over a tuple? Give an example.\n",
    "21. How do you loop over a dictionary? Give an example.\n",
    "22. What is the purpose of the `range` statement? Give an example.\n",
    "23. What is the purpose of the `enumerate` statement? Give an example.\n",
    "24. How are the `break`, `continue`, and `pass` statements used in for loops? Give examples.\n",
    "25. Can loops be nested within other loops? How is nesting useful?\n",
    "26. Give an example of a for loop nested within another for loop.\n",
    "27. Give an example of a while loop nested within another while loop.\n",
    "28. Give an example of a for loop nested within a while loop.\n",
    "29. Give an example of a while loop nested within a for loop."
   ]
  },
  {
   "cell_type": "code",
   "execution_count": null,
   "id": "cb2d253b",
   "metadata": {},
   "outputs": [],
   "source": [
    "# i= 1\n",
    "# Sum = 0\n",
    "# while i<=100:\n",
    "#     Sum = Sum+i\n",
    "#     i = i +1\n",
    "# print(\"Sum of first 100 numbers is : \", Sum)"
   ]
  },
  {
   "cell_type": "code",
   "execution_count": null,
   "id": "6be7fb2a",
   "metadata": {},
   "outputs": [],
   "source": []
  },
  {
   "cell_type": "code",
   "execution_count": null,
   "id": "d7670e6d",
   "metadata": {},
   "outputs": [],
   "source": []
  },
  {
   "cell_type": "code",
   "execution_count": null,
   "id": "af6706e2",
   "metadata": {},
   "outputs": [],
   "source": []
  }
 ],
 "metadata": {
  "kernelspec": {
   "display_name": "Python 3 (ipykernel)",
   "language": "python",
   "name": "python3"
  },
  "language_info": {
   "codemirror_mode": {
    "name": "ipython",
    "version": 3
   },
   "file_extension": ".py",
   "mimetype": "text/x-python",
   "name": "python",
   "nbconvert_exporter": "python",
   "pygments_lexer": "ipython3",
   "version": "3.8.10"
  }
 },
 "nbformat": 4,
 "nbformat_minor": 5
}
