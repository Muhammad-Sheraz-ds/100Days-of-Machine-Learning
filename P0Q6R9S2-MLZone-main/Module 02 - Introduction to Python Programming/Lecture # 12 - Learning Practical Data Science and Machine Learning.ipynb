{
 "cells": [
  {
   "cell_type": "markdown",
   "id": "4a87b5ef",
   "metadata": {},
   "source": [
    "<img src=\"images/lect-12.png\" height=1000px width=1000px>\n"
   ]
  },
  {
   "cell_type": "code",
   "execution_count": null,
   "id": "543fc656",
   "metadata": {},
   "outputs": [],
   "source": []
  },
  {
   "cell_type": "markdown",
   "id": "de3926f4",
   "metadata": {},
   "source": [
    "![](images/main-qimg-c47ec0f011ff0bbc9e7ee7d20c4ae107.png)"
   ]
  },
  {
   "cell_type": "code",
   "execution_count": null,
   "id": "0cd47cdc",
   "metadata": {},
   "outputs": [],
   "source": []
  },
  {
   "cell_type": "code",
   "execution_count": null,
   "id": "9cba7e26",
   "metadata": {},
   "outputs": [],
   "source": []
  },
  {
   "cell_type": "code",
   "execution_count": null,
   "id": "8c54c2ab",
   "metadata": {},
   "outputs": [],
   "source": []
  },
  {
   "cell_type": "markdown",
   "id": "19f82705",
   "metadata": {},
   "source": [
    "<h1 align=\"center\" style=\"color:red\">File Handling in Python </h1>"
   ]
  },
  {
   "cell_type": "markdown",
   "id": "9727124d",
   "metadata": {},
   "source": [
    "## Learning agenda of this notebook\n",
    "\n",
    "1. What are Files, and Why we need them?\n",
    "2. Opening a text file in Python\n",
    "3. Reading contents of a file\n",
    "4. Writing and appending data in a file\n",
    "5. Closing a file\n",
    "6. **HomeWork:** Change File Offset using `fd.seek()` method\n",
    "7. Performing some Operations on File Contents\n",
    "8. Identifying Type of File\n",
    "9. Bonus: Handling Image Files in Python"
   ]
  },
  {
   "cell_type": "code",
   "execution_count": null,
   "id": "44c43425",
   "metadata": {},
   "outputs": [],
   "source": []
  },
  {
   "cell_type": "code",
   "execution_count": null,
   "id": "2846b8c7",
   "metadata": {},
   "outputs": [],
   "source": []
  },
  {
   "cell_type": "markdown",
   "id": "263d8d43",
   "metadata": {},
   "source": [
    "## 1. What are Files, and Why we need them?\n",
    "- An important component of an operating system is its files and directories. A file is a location on disk that stores related information and has a name. We use files to organize our data in different directories on a hard-disk(Non-volatile).\n",
    "- The RAM (Random Access Memory) is volatile; it holds data only as long as it is up. So, we use files to store data permanently.\n",
    "\n",
    "### File Types\n",
    "- Python supports two types of files (Binary files and Text files):\n",
    "    - **Binary Files:** All binary files follow a specific format. We can open some binary files in the normal text editor, but we cannot read the content present in the file. This is because the binary files are encoded in a specific format. So for handling binary files we need applications that understand the specific format of that binary file. Most of the files that we see in our computer systems are binary files. Some examples are:\n",
    "        - **Document Files:** .pdf, .doc, .xls, etc\n",
    "        - **Image Files:** .png, .jpg, .gif, .bmp, etc\n",
    "        - **Audio Files:** .mp3, .wav, .mka, .aac, etc\n",
    "        - **Video Files:** .mp4, .3gp, .mkv, .avi, etc\n",
    "        - **Database Files:** .mdb, .accde, .frm, .sqlite, etc\n",
    "        - **Archive Files:** .zip, .gzip, .rar, .tar, .iso, .7z, etc\n",
    "        - **Executable Files:** .exe, .dll, .elf, .class, etc\n",
    "    - **Text Files:** Text files do not have any specific encoding and can be opened in a normal text editor. Text files are mostly structured as a sequence of lines, where each line includes a sequence of characters. Every line in a file terminates with a special character known as EOL or end of line. Some examples are:\n",
    "        - **Document Files:** .txt, .tex, .rtf, etc\n",
    "        - **Source Codes:** .c, .cpp, .js, .py, .java, etc\n",
    "        - **Web Standards:** .html, .xml, .css, .json, etc\n",
    "        - **Tabular Data:** .csv, .tsv, etc\n",
    "        - **Configuration Files:** .ini, .cfg, .reg, etc\n",
    "\n",
    "   \n",
    "### File Handling in Python\n",
    "For file handling there are four important operations that can be handled by Python on files:\n",
    " - open\n",
    " - read\n",
    " - write\n",
    " - close\n",
    " \n",
    "There are other file operations as well e.g., deleting a file, renaming a file, appending data to file, copying a file, changing properties of file. However, CRUD operations are basic file handling operations."
   ]
  },
  {
   "cell_type": "code",
   "execution_count": null,
   "id": "a2fe1aed",
   "metadata": {},
   "outputs": [],
   "source": []
  },
  {
   "cell_type": "markdown",
   "id": "01b4663f",
   "metadata": {},
   "source": [
    "## Why we need File Handling\n",
    "- Till now, we were taking the input from the console and writing it back to the console to interact with the user.\n",
    "- Sometimes, it is not enough to only display the data on the console. The data to be displayed may be very large, and only a limited amount of data can be displayed on the console since the memory is volatile, it is impossible to recover the programmatically generated data again and again.\n",
    "- The file handling plays an important role when the data needs to be stored permanently into the file. A file is a named location on disk to store related information. We can access the stored information (non-volatile) after the program termination.\n",
    "- The file-handling implementation is slightly lengthy or complicated in the other programming language, but it is easier and shorter in Python."
   ]
  },
  {
   "cell_type": "code",
   "execution_count": null,
   "id": "53155be4",
   "metadata": {},
   "outputs": [],
   "source": []
  },
  {
   "cell_type": "code",
   "execution_count": null,
   "id": "0cbe5eaf",
   "metadata": {},
   "outputs": [],
   "source": []
  },
  {
   "cell_type": "code",
   "execution_count": null,
   "id": "a63621a5",
   "metadata": {},
   "outputs": [],
   "source": []
  },
  {
   "cell_type": "code",
   "execution_count": null,
   "id": "ecf0ca4d",
   "metadata": {},
   "outputs": [],
   "source": []
  },
  {
   "cell_type": "code",
   "execution_count": null,
   "id": "5b7ab461",
   "metadata": {},
   "outputs": [],
   "source": [
    "\"file.txt\""
   ]
  },
  {
   "cell_type": "markdown",
   "id": "799564e5",
   "metadata": {},
   "source": [
    "## 2. Opening a File\n",
    "Files in Python can be opened with a built-in `open()` function. Ideally, it takes two string arguments:\n",
    "- The `filepath` including the file name and the extension we want to open (passed as a string)\n",
    "- The `mode` in which we want to open the file (passed as a string), default value is `'rt'`\n",
    "***\n",
    "**`open(file,  mode='rt')`**\n",
    "***\n",
    "\n",
    "Where,\n",
    "- `file` is the only required argument, including the file name and the extension we want to open (passed as a string)\n",
    "- `mode` is for the file access modes (passed as a string)\n",
    "- For other arguments read documentation  `help(open)`\n",
    "\n",
    "**FILE ACCESS MODES**\n",
    "\n",
    " * `Read Only (‘r’)`: It opens the text file for reading. If the file does not exist, raises I/O error.\n",
    " * `Read and Write (‘r+’)`: It opens the file for reading and writing. Raises I/O error if the file does not exists.\n",
    " * `Write Only (‘w’)`: It opens the file for writing only. For existing file, data is truncated. Creates the file if the file does not exists.\n",
    " * `Write and Read (‘w+’)`: It opens the file for reading and writing. For existing file, data is truncated. Creates the file if the file does not exists.\n",
    " * `Append Only (‘a’)`: It opens the file for writing, appending to the end off the file if it exists. The file is created if it does not exist.\n",
    " * `Append and Read (‘a+’)`: It opens the file for reading and writing. The file is created if it does not exist. The data being written will be inserted at the end, after the existing data.\n",
    "\n",
    " \n",
    "Along with above file access modes, you can also specify how file should be handled as text or binary\n",
    "  * `Text file (‘t’)`: Opens a file in text mode\n",
    "  * `Binary file (‘b’)`: Opens a file in binary mode\n"
   ]
  },
  {
   "cell_type": "code",
   "execution_count": null,
   "id": "e08b9bee",
   "metadata": {},
   "outputs": [],
   "source": [
    "# help(open)"
   ]
  },
  {
   "cell_type": "code",
   "execution_count": null,
   "id": "dfd9d8f8",
   "metadata": {},
   "outputs": [],
   "source": [
    "!cat datasets/f1.txt"
   ]
  },
  {
   "cell_type": "code",
   "execution_count": null,
   "id": "056aceec",
   "metadata": {},
   "outputs": [],
   "source": [
    "# Example 1: Open a text named file f1.txt, present in the current working directory in read write mode\n",
    "#On Linux OS the absolute path may looks like : /home/dell/Data/...../Module 1(Introduction to Python)/Lecture # 16/f1.txt\n",
    "\n",
    "fd = open(\"datasets/f1.txt\", \"rt+\")\n",
    "fd"
   ]
  },
  {
   "cell_type": "code",
   "execution_count": null,
   "id": "978ed48d",
   "metadata": {},
   "outputs": [],
   "source": [
    "# Example 2: Open a binary file named image.png, present in the current working directory in read write mode\n",
    "filepath = \"./images/ehtisham.jpg\"\n",
    "fd = open(filepath, \"rb+\")\n",
    "fd"
   ]
  },
  {
   "cell_type": "code",
   "execution_count": null,
   "id": "6f07db83",
   "metadata": {},
   "outputs": [],
   "source": []
  },
  {
   "cell_type": "markdown",
   "id": "3a2e45f2",
   "metadata": {},
   "source": [
    "## 3. Reading Contents of a File\n",
    "- In Python once you have a file opened, there are three ways to read contents of that file:\n",
    "```\n",
    "fd.read(size=-1)\n",
    "fd.readline(size=-1)\n",
    "fd.readlines(sizehint=-1)\n",
    "```"
   ]
  },
  {
   "cell_type": "markdown",
   "id": "70101033",
   "metadata": {},
   "source": [
    "### a.  Using `fd.read(size=-1)` method\n",
    "- The `fd.read()` method reads and returns `size` characters from the file (if size is positive)\n",
    "- The read() method reads a string from the file. It can read the data in the text as well as a binary format.\n",
    "- If `size` is negative or omitted, read until EOF"
   ]
  },
  {
   "cell_type": "code",
   "execution_count": null,
   "id": "5f3d597f",
   "metadata": {},
   "outputs": [],
   "source": []
  },
  {
   "cell_type": "code",
   "execution_count": null,
   "id": "0062c8d4",
   "metadata": {},
   "outputs": [],
   "source": []
  },
  {
   "cell_type": "code",
   "execution_count": null,
   "id": "6d6873d6",
   "metadata": {},
   "outputs": [],
   "source": [
    "!cat datasets/f1.txt"
   ]
  },
  {
   "cell_type": "code",
   "execution_count": null,
   "id": "3023dbbc",
   "metadata": {},
   "outputs": [],
   "source": [
    "# Example: \n",
    "fd = open(\"datasets/f1.txt\",\"r\") \n",
    "fd = open(\"datasets/f1.txt\")\n",
    "fd = open(\"datasets/f1.txt\", \"rt\")    # are all equivalent"
   ]
  },
  {
   "cell_type": "code",
   "execution_count": null,
   "id": "028157e9",
   "metadata": {},
   "outputs": [],
   "source": []
  },
  {
   "cell_type": "code",
   "execution_count": null,
   "id": "c6dae261",
   "metadata": {},
   "outputs": [],
   "source": [
    "#Here we read 10 characters or bytes from the file\n",
    "rv = fd.read(10)\n",
    "print(rv, type(rv), sep=\"\\n\")\n"
   ]
  },
  {
   "cell_type": "code",
   "execution_count": null,
   "id": "d0a603a3",
   "metadata": {},
   "outputs": [],
   "source": []
  },
  {
   "cell_type": "code",
   "execution_count": null,
   "id": "6af297ed",
   "metadata": {},
   "outputs": [],
   "source": [
    "# Example: Reading the complete file till EOF character\n",
    "\n",
    "fd = open(\"datasets/f1.txt\")\n",
    "result = fd.read()\n",
    "print(result)"
   ]
  },
  {
   "cell_type": "code",
   "execution_count": null,
   "id": "308bfebd",
   "metadata": {},
   "outputs": [],
   "source": [
    "type(result)"
   ]
  },
  {
   "cell_type": "code",
   "execution_count": null,
   "id": "701d3dce",
   "metadata": {},
   "outputs": [],
   "source": [
    "# Example: Try to read again, and notice what will happen?\n",
    "fd.read()"
   ]
  },
  {
   "cell_type": "markdown",
   "id": "99841da5",
   "metadata": {},
   "source": [
    ">- As you can see we got an empty string. \n",
    ">- The reason is `fd.read()` always reads from the **current file offset**, which in this situation has reached the **end of file**, therefore it returns an empty string"
   ]
  },
  {
   "cell_type": "code",
   "execution_count": null,
   "id": "de8e5e43",
   "metadata": {},
   "outputs": [],
   "source": [
    "# close the file\n",
    "fd.close()"
   ]
  },
  {
   "cell_type": "code",
   "execution_count": null,
   "id": "a262d64b",
   "metadata": {},
   "outputs": [],
   "source": [
    "# Let us open and read the file again\n",
    "fd = open(\"datasets/f1.txt\",\"r\")"
   ]
  },
  {
   "cell_type": "code",
   "execution_count": null,
   "id": "bc5fc321",
   "metadata": {},
   "outputs": [],
   "source": [
    "print(fd.read())\n",
    "fd.close()"
   ]
  },
  {
   "cell_type": "markdown",
   "id": "40810345",
   "metadata": {},
   "source": [
    ">- **Note** : read() method read the content of the file where the current offset of file is present. Once, we opened a file, the **current file offset** is at the **beginning of the file**. "
   ]
  },
  {
   "cell_type": "code",
   "execution_count": null,
   "id": "faf73ea9",
   "metadata": {},
   "outputs": [],
   "source": [
    "fd.read()"
   ]
  },
  {
   "cell_type": "code",
   "execution_count": null,
   "id": "99d9b088",
   "metadata": {},
   "outputs": [],
   "source": []
  },
  {
   "cell_type": "markdown",
   "id": "91121e45",
   "metadata": {},
   "source": [
    "### b. Using `fd.readline(size=-1)` method\n",
    "- The `fd.readline()` method reads and returns one line at a time\n",
    "- If `size` is passed then reads and returns size characters of a line"
   ]
  },
  {
   "cell_type": "code",
   "execution_count": null,
   "id": "e03f67e1",
   "metadata": {},
   "outputs": [],
   "source": [
    "!cat datasets/f1.txt"
   ]
  },
  {
   "cell_type": "code",
   "execution_count": null,
   "id": "d7c530f4",
   "metadata": {},
   "outputs": [],
   "source": [
    "# Example: If you want to read a file line by line use readline() method\n",
    "fd = open(\"datasets/f1.txt\",\"r\")"
   ]
  },
  {
   "cell_type": "code",
   "execution_count": null,
   "id": "45eec5d1",
   "metadata": {},
   "outputs": [],
   "source": [
    "print(fd.readline())"
   ]
  },
  {
   "cell_type": "code",
   "execution_count": null,
   "id": "70e33d6e",
   "metadata": {},
   "outputs": [],
   "source": [
    "print(fd.readline())"
   ]
  },
  {
   "cell_type": "code",
   "execution_count": null,
   "id": "05077e1f",
   "metadata": {},
   "outputs": [],
   "source": [
    "print(fd.readline())\n",
    "print(fd.readline())"
   ]
  },
  {
   "cell_type": "code",
   "execution_count": null,
   "id": "80c6582e",
   "metadata": {},
   "outputs": [],
   "source": [
    "print(fd.readline())\n",
    "print(fd.readline())\n",
    "print(fd.readline())\n",
    "print(fd.readline())\n",
    "print(\"Done\")\n",
    "\n",
    "# close the file\n",
    "fd.close()"
   ]
  },
  {
   "cell_type": "code",
   "execution_count": null,
   "id": "e0122d39",
   "metadata": {},
   "outputs": [],
   "source": [
    "# Example: If you want to read a file line by line use readline() method\n",
    "fd = open(\"datasets/f1.txt\",\"r\")\n",
    "print(fd.readline())"
   ]
  },
  {
   "cell_type": "code",
   "execution_count": null,
   "id": "4fb075bd",
   "metadata": {},
   "outputs": [],
   "source": [
    "print(fd.readline(10))\n",
    "\n",
    "\n",
    "# close the file\n",
    "fd.close()"
   ]
  },
  {
   "cell_type": "markdown",
   "id": "04a4b5ba",
   "metadata": {},
   "source": [
    ">So `fd.read()` method focuses on reading a file character by character, while the `fd.readline()` method focuses on reading a file line by line."
   ]
  },
  {
   "cell_type": "markdown",
   "id": "5a9addca",
   "metadata": {},
   "source": [
    "### c. Using `fd.readlines(sizehint=-1)` method\n",
    "- The `fd.readlines()` method reads until end of file and returns a list object containing the lines. "
   ]
  },
  {
   "cell_type": "code",
   "execution_count": null,
   "id": "95036650",
   "metadata": {},
   "outputs": [],
   "source": [
    "!cat datasets/f1.txt"
   ]
  },
  {
   "cell_type": "code",
   "execution_count": null,
   "id": "5aa498e6",
   "metadata": {},
   "outputs": [],
   "source": [
    "fd = open(\"datasets/f1.txt\",\"r\")\n",
    "mylist = fd.readlines()\n"
   ]
  },
  {
   "cell_type": "code",
   "execution_count": null,
   "id": "71d9e1ef",
   "metadata": {},
   "outputs": [],
   "source": [
    "print(mylist)\n",
    "print(\"\\n\\n\")\n",
    "print(type(mylist))"
   ]
  },
  {
   "cell_type": "code",
   "execution_count": null,
   "id": "c0c9b984",
   "metadata": {},
   "outputs": [],
   "source": [
    "# close the file\n",
    "fd.close()"
   ]
  },
  {
   "cell_type": "markdown",
   "id": "721accde",
   "metadata": {},
   "source": [
    "- If the optional `sizehint` passed, instead of reading up to EOF, whole lines totalling approximately `sizehint` bytes are read. (possibly after rounding up to an internal buffer size) "
   ]
  },
  {
   "cell_type": "code",
   "execution_count": null,
   "id": "0be99eb7",
   "metadata": {},
   "outputs": [],
   "source": [
    "fd = open(\"datasets/f1.txt\",\"r\")\n",
    "rd = fd.readlines(10)\n"
   ]
  },
  {
   "cell_type": "code",
   "execution_count": null,
   "id": "ca10b346",
   "metadata": {},
   "outputs": [],
   "source": [
    "print(rd)\n",
    "\n",
    "# close the file\n",
    "fd.close()"
   ]
  },
  {
   "cell_type": "code",
   "execution_count": null,
   "id": "2a60e9e3",
   "metadata": {},
   "outputs": [],
   "source": []
  },
  {
   "cell_type": "code",
   "execution_count": null,
   "id": "976bbe5d",
   "metadata": {},
   "outputs": [],
   "source": []
  },
  {
   "cell_type": "markdown",
   "id": "e5435465",
   "metadata": {},
   "source": [
    "## 4. Writing in a File"
   ]
  },
  {
   "cell_type": "markdown",
   "id": "41789820",
   "metadata": {},
   "source": [
    "### a. The `fd.write()` method\n",
    "- To write a file, one must open the file in write or append mode.\n",
    "- The `fd.write(text)` method is used to write a string to file.\n",
    "- If the file is opened in write mode the existing file data is overwritten\n",
    "- If the file is opened in append mode the new data is written at the end of the file\n",
    "- If the file doesnot exist, a new file with that name is created\n",
    "- The `fd.write(text)` returns the number of characters written (which is always equal to the length of the string) It overwrites the existing data. If the file doesn't exist, it will create the file. \n",
    "\n",
    "\n",
    " * `Append Only (‘a’)`: It opens the file for writing, appending to the end off the file if it exists. The file is created if it does not exist.\n",
    " * `Append and Read (‘a+’)`: It opens the file for reading and writing. The file is created if it does not exist. The data being written will be inserted at the end, after the existing data.\n",
    " "
   ]
  },
  {
   "cell_type": "markdown",
   "id": "a4e41ce4",
   "metadata": {},
   "source": [
    "**Example 1:** Let us create a new file in the present working directory. Let us use `mode='w'`(`Write Only`). It will create the file as it do not exist. If the file with the name exist its data is truncated."
   ]
  },
  {
   "cell_type": "code",
   "execution_count": null,
   "id": "8b18a43d",
   "metadata": {},
   "outputs": [],
   "source": [
    "!cat datasets/out.txt"
   ]
  },
  {
   "cell_type": "code",
   "execution_count": null,
   "id": "eb78e860",
   "metadata": {},
   "outputs": [],
   "source": [
    "fd1 = open('datasets/out.txt','w')"
   ]
  },
  {
   "cell_type": "code",
   "execution_count": null,
   "id": "73d828eb",
   "metadata": {},
   "outputs": [],
   "source": [
    "fd1"
   ]
  },
  {
   "cell_type": "code",
   "execution_count": null,
   "id": "de98604c",
   "metadata": {},
   "outputs": [],
   "source": [
    "rv = fd1.write('Python is Awesome!')"
   ]
  },
  {
   "cell_type": "code",
   "execution_count": null,
   "id": "ccb6ccb6",
   "metadata": {},
   "outputs": [],
   "source": [
    "print(\"Number of bytes/charaters written in the file: \", rv)"
   ]
  },
  {
   "cell_type": "code",
   "execution_count": null,
   "id": "3a1a3d86",
   "metadata": {},
   "outputs": [],
   "source": [
    "fd1.close()"
   ]
  },
  {
   "cell_type": "code",
   "execution_count": null,
   "id": "58ba84a0",
   "metadata": {},
   "outputs": [],
   "source": []
  },
  {
   "cell_type": "code",
   "execution_count": null,
   "id": "da4e5491",
   "metadata": {},
   "outputs": [],
   "source": [
    "# Let us open the file in read mode and read its contents\n",
    "fd1 = open('datasets/out.txt')\n",
    "print(fd1.read())\n",
    "fd1.close()\n"
   ]
  },
  {
   "cell_type": "code",
   "execution_count": null,
   "id": "6806022a",
   "metadata": {},
   "outputs": [],
   "source": []
  },
  {
   "cell_type": "code",
   "execution_count": null,
   "id": "692813b8",
   "metadata": {},
   "outputs": [],
   "source": []
  },
  {
   "cell_type": "markdown",
   "id": "39cd31b2",
   "metadata": {},
   "source": [
    "**Example 2:** Let us again open `out.txt` file in the present working directory in `mode=w+` (Write and Read). Since the file already exist, the file is opened and its data is truncated. If the file with the name does not exist, a new file is created."
   ]
  },
  {
   "cell_type": "code",
   "execution_count": null,
   "id": "1d059593",
   "metadata": {},
   "outputs": [],
   "source": [
    "!cat datasets/out.txt"
   ]
  },
  {
   "cell_type": "code",
   "execution_count": null,
   "id": "b961d227",
   "metadata": {},
   "outputs": [],
   "source": [
    "fd1 = open('datasets/out.txt','w+') # Due to w+ all the data is truncated"
   ]
  },
  {
   "cell_type": "code",
   "execution_count": null,
   "id": "048e73c9",
   "metadata": {},
   "outputs": [],
   "source": [
    "print(\"Existing data in the file is: \", fd1.read())\n",
    "print(\"The filepointer is at byte :\",fd1.tell())    "
   ]
  },
  {
   "cell_type": "code",
   "execution_count": null,
   "id": "933fbe12",
   "metadata": {},
   "outputs": [],
   "source": [
    "# Since the file is opened in read-write mode so we can write in the file\n",
    "fd1.write('Learning Python & Data Science!')\n",
    "print(\"The filepointer is at byte :\",fd1.tell())    "
   ]
  },
  {
   "cell_type": "code",
   "execution_count": null,
   "id": "f49f0a74",
   "metadata": {},
   "outputs": [],
   "source": [
    "# Since the file is opened in read-write mode so we can read from the file\n",
    "print(\"Data in out.txt after writing: \", fd1.read())"
   ]
  },
  {
   "cell_type": "code",
   "execution_count": null,
   "id": "f49b0c0e",
   "metadata": {},
   "outputs": [],
   "source": [
    "\n",
    "fd1.close()\n",
    "# Here filepointer is at the end of file means the file offset is at end of the file,\n",
    "# we cannot write something at the end ,\n",
    "# we should need to mentioned the filepointer or to change the file offset to write something in file "
   ]
  },
  {
   "cell_type": "code",
   "execution_count": null,
   "id": "054c7ddd",
   "metadata": {},
   "outputs": [],
   "source": []
  },
  {
   "cell_type": "markdown",
   "id": "1d88dcc1",
   "metadata": {},
   "source": [
    "### File Pointer positions\n",
    ">- Python provides the tell() method which is used to print the byte number at which the file pointer currently exists. "
   ]
  },
  {
   "cell_type": "code",
   "execution_count": null,
   "id": "8b12b9d1",
   "metadata": {},
   "outputs": [],
   "source": [
    "fd1 = open('datasets/out.txt','w+') # Due to w+ all the data is truncated\n",
    "\n",
    "print(\"Existing data in the file is: \", fd1.read())"
   ]
  },
  {
   "cell_type": "code",
   "execution_count": null,
   "id": "3c5f3f27",
   "metadata": {},
   "outputs": [],
   "source": [
    "# Since the file is opened in read-write mode so we can write in the file\n",
    "fd1.write('Learning Python is Fun!')"
   ]
  },
  {
   "cell_type": "code",
   "execution_count": null,
   "id": "bf307e13",
   "metadata": {},
   "outputs": [],
   "source": [
    "# Since the file is opened in read-write mode so we can read from the file\n",
    "print(\"Data in out.txt after writing: \", fd1.read())"
   ]
  },
  {
   "cell_type": "code",
   "execution_count": null,
   "id": "45318b8b",
   "metadata": {},
   "outputs": [],
   "source": [
    "#This is because the file offset is at the end of the file\n",
    "fd1.seek(0)\n",
    "print(\"Data read again after seek: \", fd1.read())"
   ]
  },
  {
   "cell_type": "code",
   "execution_count": null,
   "id": "6543feab",
   "metadata": {},
   "outputs": [],
   "source": [
    "fd1.close()"
   ]
  },
  {
   "cell_type": "code",
   "execution_count": null,
   "id": "e08a0b9e",
   "metadata": {},
   "outputs": [],
   "source": []
  },
  {
   "cell_type": "code",
   "execution_count": null,
   "id": "77e9c72e",
   "metadata": {},
   "outputs": [],
   "source": []
  },
  {
   "cell_type": "markdown",
   "id": "cfa382d7",
   "metadata": {},
   "source": [
    "**Example 3:** Let us now append some text in the file `out.txt` by opening it in append mode `mode=a`. It opens the file for writing, appending to the end of the file if it exists. The file is created if it does not exist."
   ]
  },
  {
   "cell_type": "code",
   "execution_count": null,
   "id": "4b91b807",
   "metadata": {},
   "outputs": [],
   "source": [
    "# creating a list\n",
    "fruits = [\"\\nApple\",\"\\nBanana\",\"\\nOranges\"]\n",
    "\n",
    "# open a file in append mode\n",
    "fd =open(\"datasets/out.txt\",mode=\"a\")"
   ]
  },
  {
   "cell_type": "code",
   "execution_count": null,
   "id": "29e12069",
   "metadata": {},
   "outputs": [],
   "source": [
    "#Copying the list content in file\n",
    "for fruit in fruits:\n",
    "    fd.write(fruit)\n",
    "\n",
    "fd.close()\n"
   ]
  },
  {
   "cell_type": "code",
   "execution_count": null,
   "id": "c9c14f14",
   "metadata": {},
   "outputs": [],
   "source": [
    "# open a file in read mode again\n",
    "fd =open(\"datasets/out.txt\")\n",
    "\n",
    "#reading the data from file\n",
    "for line in fd:\n",
    "    print(line)\n",
    "    \n",
    "# close the file\n",
    "fd.close()"
   ]
  },
  {
   "cell_type": "code",
   "execution_count": null,
   "id": "1f00ac18",
   "metadata": {},
   "outputs": [],
   "source": []
  },
  {
   "cell_type": "markdown",
   "id": "5e7315be",
   "metadata": {},
   "source": [
    "## 5. Closing a File"
   ]
  },
  {
   "cell_type": "markdown",
   "id": "25f02832",
   "metadata": {},
   "source": [
    "### a. The `fd.close()` method\n",
    "Closing a file will free up the resources that were tied with the file. Python has a garbage collector to clean up unreferenced objects but we must not rely on it to close the file."
   ]
  },
  {
   "cell_type": "code",
   "execution_count": null,
   "id": "93262e79",
   "metadata": {},
   "outputs": [],
   "source": [
    "# open a file\n",
    "f = open(\"datasets/f1.txt\", \"r\")\n",
    "\n",
    "# perform some file operations\n",
    "\n",
    "#close the file\n",
    "f.close()"
   ]
  },
  {
   "cell_type": "markdown",
   "id": "f7352ee2",
   "metadata": {},
   "source": [
    "### b. Use `fd.close()` in `try...finally` Block\n",
    "- Often one forgets to close an open file. This may produce errors and may become harmful when you are working on large files.\n",
    "- Moreover, if an exception occurs when we are performing some operation with the file, the program exits without closing the file.\n",
    "\n",
    "> In such scenarios, `try-except-finally` blocks come to the rescue. We can keep the  `fd.close()` method in the finally block, so that even if the program execution stops due to an exception, the file will get closed anyway."
   ]
  },
  {
   "cell_type": "code",
   "execution_count": null,
   "id": "2fc7d4c3",
   "metadata": {},
   "outputs": [],
   "source": [
    "# Put the entire code in try block\n",
    "try:\n",
    "    fd = open(\"datasets/f12.txt\", \"r\")\n",
    "   # perform file operations\n",
    "except Exception as e:\n",
    "    print(e)\n",
    "finally:\n",
    "    fd.close() "
   ]
  },
  {
   "cell_type": "markdown",
   "id": "80bd17db",
   "metadata": {},
   "source": [
    "### c. Use of `with` Keyword while opening a File\n",
    "- The best way to open a file in Python script is by using the `with` keyword. \n",
    "- This guarantees that the file will automatically be closed when the block inside the `with` statement exits.\n",
    "- Even if an exception occurs before the end of the block, it will close the file before the exception is caught by an outer exception handler."
   ]
  },
  {
   "cell_type": "code",
   "execution_count": null,
   "id": "dbb86693",
   "metadata": {},
   "outputs": [],
   "source": [
    "# open the file in read mode using with statement\n",
    "with open(\"datasets/f1.txt\", \"r\") as fd:\n",
    "    \n",
    "    # perform file operations\n",
    "    print(fd.read())\n",
    "   "
   ]
  },
  {
   "cell_type": "markdown",
   "id": "066b787d",
   "metadata": {},
   "source": [
    "**Let us confirm if the file opened in the above code cell is closed or not**"
   ]
  },
  {
   "cell_type": "code",
   "execution_count": null,
   "id": "4a5a9aad",
   "metadata": {},
   "outputs": [],
   "source": [
    "fd.read()"
   ]
  },
  {
   "cell_type": "markdown",
   "id": "f1040bab",
   "metadata": {},
   "source": [
    "## 6. _HomeWork:_ Change File Offset using `fd.seek()` method\n",
    "<img align=\"right\" width=\"500\" height=\"300\"  src=\"images/seek.png\"  >    \n",
    "  \n",
    "\n",
    "The `fd.seek()` method is used to change the position of the File Handle or current file offset to a given specific position, from where the data has to be read or written in the file. The method returns the new absolute position.\n",
    "```\n",
    "seek(offset, whence)\n",
    "```\n",
    "Where,\n",
    " - `offset` means the number of positions to move forward/backward. It is interpreted relative to the position indicated by whence\n",
    " - `whence` can take following values: \n",
    "     - 0:  start of stream (the default); offset should be zero or positive \n",
    "     - 1:  current stream position; offset may be negative\n",
    "     - 2:  end of stream; offset is usually negative\n",
    "     - In image : seek(+n, 0) -> means take positive offset from the beginning of the file.\n",
    "     \n",
    "**Note:** \n",
    "- Reference point at current position / end of file cannot be set in text mode except when offset is equal to 0.\n",
    "- Seek() function with negative offset only works when file is opened in Binary mode.\n",
    "- When we open a file, current offset of file in case of reading and writing is at the beginning of the file.   \n",
    "- In case of append mode, file offset represents the first byte after the end of the file. "
   ]
  },
  {
   "cell_type": "code",
   "execution_count": null,
   "id": "e77fd658",
   "metadata": {},
   "outputs": [],
   "source": []
  },
  {
   "cell_type": "code",
   "execution_count": null,
   "id": "f8055f38",
   "metadata": {},
   "outputs": [],
   "source": []
  },
  {
   "cell_type": "code",
   "execution_count": null,
   "id": "42ef8418",
   "metadata": {},
   "outputs": [],
   "source": []
  },
  {
   "cell_type": "markdown",
   "id": "e09f3def",
   "metadata": {},
   "source": [
    "## 7. Performing some Operations on File Contents"
   ]
  },
  {
   "cell_type": "markdown",
   "id": "cd573f06",
   "metadata": {},
   "source": [
    "### a. Iterating Contents of a File (Line by Line)"
   ]
  },
  {
   "cell_type": "markdown",
   "id": "9944983b",
   "metadata": {},
   "source": [
    "**Using a `while` loop**"
   ]
  },
  {
   "cell_type": "code",
   "execution_count": null,
   "id": "bafdf762",
   "metadata": {},
   "outputs": [],
   "source": [
    "# # open(), it is used to open a file.\n",
    "# # read(), It is used to read content of a file.\n",
    "# # write(), it is used t write something in the file.\n",
    "# # close(), It is used to free all the resources contained by the file.\n",
    "# read() -> file content character by character. \n",
    "# readline() -> One line of file at a time.\n",
    "# readlines() -> But list of lines by comma separated."
   ]
  },
  {
   "cell_type": "code",
   "execution_count": null,
   "id": "3eed229b",
   "metadata": {},
   "outputs": [],
   "source": [
    "!cat  datasets/f1.txt"
   ]
  },
  {
   "cell_type": "code",
   "execution_count": null,
   "id": "ff5c934e",
   "metadata": {},
   "outputs": [],
   "source": [
    "!cat datasets/hello.txt"
   ]
  },
  {
   "cell_type": "code",
   "execution_count": null,
   "id": "f2d91a3b",
   "metadata": {},
   "outputs": [],
   "source": []
  },
  {
   "cell_type": "code",
   "execution_count": null,
   "id": "e8b4ace5",
   "metadata": {},
   "outputs": [],
   "source": [
    "fd = open(\"datasets/hello.txt\",\"r\")\n",
    "\n",
    "while True:\n",
    "    line = fd.readline()\n",
    "#     loop will break when line is empty or readline returns nothing\n",
    "    if not line:\n",
    "        break\n",
    "    print(line)\n",
    "\n",
    "    \n",
    "fd.close()"
   ]
  },
  {
   "cell_type": "code",
   "execution_count": null,
   "id": "946df44b",
   "metadata": {},
   "outputs": [],
   "source": []
  },
  {
   "cell_type": "code",
   "execution_count": null,
   "id": "25cef4a3",
   "metadata": {},
   "outputs": [],
   "source": []
  },
  {
   "cell_type": "markdown",
   "id": "5c9df4e2",
   "metadata": {},
   "source": [
    "**Using a `for` loop**"
   ]
  },
  {
   "cell_type": "code",
   "execution_count": null,
   "id": "7996a1b9",
   "metadata": {},
   "outputs": [],
   "source": []
  },
  {
   "cell_type": "code",
   "execution_count": null,
   "id": "15dbedc2",
   "metadata": {},
   "outputs": [],
   "source": [
    "fd = open(\"datasets/hello.txt\",\"r\")\n",
    "\n",
    "for line in fd:  #File handle can be used as iterator in the for loop\n",
    "    print(line)\n",
    "\n",
    "    \n",
    "fd.close()"
   ]
  },
  {
   "cell_type": "code",
   "execution_count": null,
   "id": "fbf6e272",
   "metadata": {},
   "outputs": [],
   "source": []
  },
  {
   "cell_type": "markdown",
   "id": "6e11a5d7",
   "metadata": {},
   "source": [
    "**A better way to iterate a file line by line using a `for` loop**"
   ]
  },
  {
   "cell_type": "code",
   "execution_count": null,
   "id": "748226a3",
   "metadata": {},
   "outputs": [],
   "source": []
  },
  {
   "cell_type": "code",
   "execution_count": null,
   "id": "435596a2",
   "metadata": {},
   "outputs": [],
   "source": []
  },
  {
   "cell_type": "code",
   "execution_count": null,
   "id": "bf7f4dbd",
   "metadata": {},
   "outputs": [],
   "source": [
    "for line in open(\"datasets/hello.txt\", 'r'):\n",
    "    print(line)\n",
    "\n",
    "#How can we close the file handle, as we dont have one"
   ]
  },
  {
   "cell_type": "markdown",
   "id": "a3d00522",
   "metadata": {},
   "source": [
    "**The best way to iterate a file line by line using a `for` loop**"
   ]
  },
  {
   "cell_type": "code",
   "execution_count": null,
   "id": "bcf23e3e",
   "metadata": {},
   "outputs": [],
   "source": [
    "with open(\"datasets/hello.txt\", 'r') as fd:\n",
    "    for line in fd:\n",
    "        print(line)"
   ]
  },
  {
   "cell_type": "code",
   "execution_count": null,
   "id": "2e587b47",
   "metadata": {},
   "outputs": [],
   "source": []
  },
  {
   "cell_type": "code",
   "execution_count": null,
   "id": "eb95ba2b",
   "metadata": {},
   "outputs": [],
   "source": []
  },
  {
   "cell_type": "markdown",
   "id": "fca239ed",
   "metadata": {},
   "source": [
    "### b.  Count the words in the file using `str.split()` method"
   ]
  },
  {
   "cell_type": "code",
   "execution_count": null,
   "id": "ddd51e5c",
   "metadata": {},
   "outputs": [],
   "source": [
    "# string = \"Data Science and Machine Learning\"\n",
    "# len(string.split(\" \"))"
   ]
  },
  {
   "cell_type": "code",
   "execution_count": null,
   "id": "8213c4bc",
   "metadata": {},
   "outputs": [],
   "source": [
    "!cat datasets/f1.txt"
   ]
  },
  {
   "cell_type": "code",
   "execution_count": null,
   "id": "c5b15245",
   "metadata": {},
   "outputs": [],
   "source": [
    "# First Method\n",
    "with open(\"datasets/f1.txt\", \"r\") as fd:\n",
    "    data = fd.read().split()\n",
    "    print(type(data))\n",
    "    print()\n",
    "    print()\n",
    "    \n",
    "    print(data)\n",
    "    print()\n",
    "    print()\n",
    "    \n",
    "    print(\"Total words in the file is : \", len(data))"
   ]
  },
  {
   "cell_type": "code",
   "execution_count": null,
   "id": "79cc7481",
   "metadata": {},
   "outputs": [],
   "source": []
  },
  {
   "cell_type": "markdown",
   "id": "814f07a3",
   "metadata": {},
   "source": [
    "### Count of unique words in the file."
   ]
  },
  {
   "cell_type": "code",
   "execution_count": null,
   "id": "b5cfda52",
   "metadata": {},
   "outputs": [],
   "source": [
    "UniqueWords = []\n",
    "with open(\"datasets/f1.txt\",\"r\") as fd:\n",
    "    data = fd.read().split() # here `data` is a list\n",
    "    for i in data:\n",
    "        if i not in UniqueWords:\n",
    "            UniqueWords.append(i)\n",
    "    print(UniqueWords)\n",
    "    print()\n",
    "    print(\"Total words in the file are : \", len(UniqueWords))"
   ]
  },
  {
   "cell_type": "code",
   "execution_count": null,
   "id": "7bee2421",
   "metadata": {},
   "outputs": [],
   "source": []
  },
  {
   "cell_type": "code",
   "execution_count": null,
   "id": "7b5a04c6",
   "metadata": {},
   "outputs": [],
   "source": []
  },
  {
   "cell_type": "code",
   "execution_count": null,
   "id": "43768d28",
   "metadata": {},
   "outputs": [],
   "source": []
  },
  {
   "cell_type": "code",
   "execution_count": null,
   "id": "17270b6d",
   "metadata": {},
   "outputs": [],
   "source": [
    "# Example:\n",
    "\n",
    "totalwords = 0\n",
    "with open(\"datasets/f1.txt\", \"r\") as fd:\n",
    "    for line in fd:\n",
    "        listoftokens = line.split(' ')\n",
    "        print(line, len(listoftokens))\n",
    "        totalwords = totalwords + len(listoftokens)\n",
    "\n",
    "print(\"\\nTotal words in this file are: \", totalwords)"
   ]
  },
  {
   "cell_type": "code",
   "execution_count": null,
   "id": "1c71bed2",
   "metadata": {},
   "outputs": [],
   "source": []
  },
  {
   "cell_type": "markdown",
   "id": "ff4037c7",
   "metadata": {},
   "source": [
    "## 8. Identifying Type of File"
   ]
  },
  {
   "cell_type": "code",
   "execution_count": null,
   "id": "b4faf4bc",
   "metadata": {},
   "outputs": [],
   "source": [
    "!ls"
   ]
  },
  {
   "cell_type": "code",
   "execution_count": null,
   "id": "5b8ae957",
   "metadata": {},
   "outputs": [],
   "source": [
    "import os\n",
    "name = input(\"Enter name of the file/directory: \")"
   ]
  },
  {
   "cell_type": "code",
   "execution_count": null,
   "id": "aabfb0fd",
   "metadata": {},
   "outputs": [],
   "source": [
    "if os.path.isfile(name):\n",
    "    print(\"It is a file\")\n",
    "elif os.path.isdir(name):\n",
    "    print(\"It is a directory\")\n",
    "\n",
    "else:\n",
    "    print(\"Unknown file type or file do not exist\")"
   ]
  },
  {
   "cell_type": "code",
   "execution_count": null,
   "id": "5b0da030",
   "metadata": {},
   "outputs": [],
   "source": []
  },
  {
   "cell_type": "code",
   "execution_count": null,
   "id": "e480b0df",
   "metadata": {},
   "outputs": [],
   "source": []
  },
  {
   "cell_type": "code",
   "execution_count": null,
   "id": "023e8bfe",
   "metadata": {},
   "outputs": [],
   "source": []
  },
  {
   "cell_type": "code",
   "execution_count": null,
   "id": "6a4397e1",
   "metadata": {},
   "outputs": [],
   "source": [
    "!ls datasets/"
   ]
  },
  {
   "cell_type": "markdown",
   "id": "24cc2649",
   "metadata": {},
   "source": [
    "# Bonus: Reading CSV Files in Python"
   ]
  },
  {
   "cell_type": "code",
   "execution_count": null,
   "id": "8b38cc7a",
   "metadata": {},
   "outputs": [],
   "source": [
    "# !cat datasets/MyFamily.csv"
   ]
  },
  {
   "cell_type": "code",
   "execution_count": null,
   "id": "ea2342e3",
   "metadata": {
    "scrolled": true
   },
   "outputs": [],
   "source": []
  },
  {
   "cell_type": "code",
   "execution_count": null,
   "id": "848f21b0",
   "metadata": {},
   "outputs": [],
   "source": [
    "import csv\n",
    "with open('datasets/MyFamily.csv', 'r') as fd:\n",
    "    obj = csv.reader(fd)\n",
    "    for line in obj:\n",
    "        print(line)"
   ]
  },
  {
   "cell_type": "code",
   "execution_count": null,
   "id": "8d976f16",
   "metadata": {},
   "outputs": [],
   "source": []
  },
  {
   "cell_type": "code",
   "execution_count": null,
   "id": "1838c1ae",
   "metadata": {},
   "outputs": [],
   "source": [
    "import csv\n",
    "with open('datasets/MyFamily.csv', 'r') as fd:\n",
    "    obj = csv.reader(fd)\n",
    "    count = 0\n",
    "    for i in obj:\n",
    "        print(i)\n",
    "        count = count +1\n",
    "        if count==5:\n",
    "            break"
   ]
  },
  {
   "cell_type": "code",
   "execution_count": null,
   "id": "66b3fc0c",
   "metadata": {},
   "outputs": [],
   "source": []
  },
  {
   "cell_type": "markdown",
   "id": "77d12efd",
   "metadata": {},
   "source": [
    "\n",
    "# Bonus: Handling Image Files in Python\n",
    "- Let us now try to open and read binary files in Python"
   ]
  },
  {
   "cell_type": "code",
   "execution_count": null,
   "id": "3aed1e91",
   "metadata": {},
   "outputs": [],
   "source": [
    "fd = open(\"images/Ehtisham.JPG\", \"rb\")\n",
    "# 'rb' means it is a binary file"
   ]
  },
  {
   "cell_type": "code",
   "execution_count": null,
   "id": "c93bc732",
   "metadata": {},
   "outputs": [],
   "source": [
    "print(fd.read())\n",
    "# This is a huge string of bytes represent Hexa-format"
   ]
  },
  {
   "cell_type": "code",
   "execution_count": null,
   "id": "49acecb0",
   "metadata": {},
   "outputs": [],
   "source": [
    "fd.close()"
   ]
  },
  {
   "cell_type": "code",
   "execution_count": null,
   "id": "df81393e",
   "metadata": {},
   "outputs": [],
   "source": [
    "from PIL import Image\n",
    "# PLI is python imaging Library , it is used to save, read , manipulate etc operations on images."
   ]
  },
  {
   "cell_type": "code",
   "execution_count": null,
   "id": "3cf8a8ef",
   "metadata": {},
   "outputs": [],
   "source": []
  },
  {
   "cell_type": "code",
   "execution_count": null,
   "id": "710fd965",
   "metadata": {},
   "outputs": [],
   "source": [
    "img = Image.open(\"images/Ehtisham.JPG\")"
   ]
  },
  {
   "cell_type": "code",
   "execution_count": null,
   "id": "d1e74196",
   "metadata": {},
   "outputs": [],
   "source": [
    "img.format"
   ]
  },
  {
   "cell_type": "code",
   "execution_count": null,
   "id": "412777d9",
   "metadata": {},
   "outputs": [],
   "source": [
    "img.size\n",
    "# It's showing height and width of the image"
   ]
  },
  {
   "cell_type": "code",
   "execution_count": null,
   "id": "de383556",
   "metadata": {},
   "outputs": [],
   "source": [
    "img.mode"
   ]
  },
  {
   "cell_type": "code",
   "execution_count": null,
   "id": "e42518f8",
   "metadata": {},
   "outputs": [],
   "source": [
    "img"
   ]
  },
  {
   "cell_type": "code",
   "execution_count": null,
   "id": "8a36839c",
   "metadata": {},
   "outputs": [],
   "source": [
    "import numpy as np"
   ]
  },
  {
   "cell_type": "code",
   "execution_count": null,
   "id": "310ac946",
   "metadata": {},
   "outputs": [],
   "source": [
    "img_array = np.array(img)\n",
    "# img_array"
   ]
  },
  {
   "cell_type": "code",
   "execution_count": null,
   "id": "f3b2b620",
   "metadata": {},
   "outputs": [],
   "source": [
    "img_array.shape\n",
    "# it's three dimensional matrix, list in side list , list inside sublist"
   ]
  },
  {
   "cell_type": "code",
   "execution_count": null,
   "id": "635b9756",
   "metadata": {},
   "outputs": [],
   "source": [
    "# img_array\n",
    "# [179, 178, 183] -> This is value of First pixel of the image.\n",
    "# [ 23,  21,  24] -> This is value of the Last pixel of the image"
   ]
  },
  {
   "cell_type": "code",
   "execution_count": null,
   "id": "9568d05f",
   "metadata": {},
   "outputs": [],
   "source": [
    "img_copy = img.copy()"
   ]
  },
  {
   "cell_type": "code",
   "execution_count": null,
   "id": "630a1954",
   "metadata": {},
   "outputs": [],
   "source": [
    "img_copy"
   ]
  },
  {
   "cell_type": "code",
   "execution_count": null,
   "id": "615e5f7a",
   "metadata": {},
   "outputs": [],
   "source": [
    "img_cropped = img.crop((250,8,790,800))"
   ]
  },
  {
   "cell_type": "code",
   "execution_count": null,
   "id": "2833e1a3",
   "metadata": {},
   "outputs": [],
   "source": [
    "img_cropped"
   ]
  },
  {
   "cell_type": "code",
   "execution_count": null,
   "id": "e46a0ec7",
   "metadata": {},
   "outputs": [],
   "source": [
    "out = img_cropped.transpose(Image.ROTATE_90)"
   ]
  },
  {
   "cell_type": "code",
   "execution_count": null,
   "id": "8f6c44a2",
   "metadata": {},
   "outputs": [],
   "source": [
    "out"
   ]
  },
  {
   "cell_type": "code",
   "execution_count": null,
   "id": "ede7d6b8",
   "metadata": {},
   "outputs": [],
   "source": [
    "out.save('images/corpped_speech.jpg')"
   ]
  },
  {
   "cell_type": "code",
   "execution_count": null,
   "id": "da6c89f0",
   "metadata": {},
   "outputs": [],
   "source": [
    "img2 = Image.open(\"images/corpped_speech.jpg\")"
   ]
  },
  {
   "cell_type": "code",
   "execution_count": null,
   "id": "ed719fcf",
   "metadata": {},
   "outputs": [],
   "source": [
    "img2"
   ]
  },
  {
   "cell_type": "code",
   "execution_count": null,
   "id": "72be84de",
   "metadata": {},
   "outputs": [],
   "source": []
  },
  {
   "cell_type": "markdown",
   "id": "719550ac",
   "metadata": {},
   "source": [
    "# Bonus: Accessing Files from GitHub Gists"
   ]
  },
  {
   "cell_type": "markdown",
   "id": "c040707d",
   "metadata": {},
   "source": [
    "> While accessing Internet, if you get `SSL: CERTIFICATE_VERIFY_FAILED` error, set, the `_create_default_https_context` attribute of `ssl` to `_create_unverified_context`"
   ]
  },
  {
   "cell_type": "code",
   "execution_count": null,
   "id": "d1788020",
   "metadata": {},
   "outputs": [],
   "source": [
    "!cat datasets/assign.txt"
   ]
  },
  {
   "cell_type": "code",
   "execution_count": null,
   "id": "b6e8c88a",
   "metadata": {},
   "outputs": [],
   "source": [
    "fd1 = open('datasets/assign.txt','r')\n",
    "mydata = fd1.read()\n",
    "print(mydata)\n",
    "fd1.close()"
   ]
  },
  {
   "cell_type": "code",
   "execution_count": null,
   "id": "c984cb63",
   "metadata": {},
   "outputs": [],
   "source": [
    "# Read first five lines of the file\n",
    "fd1 = open('datasets/assign.txt','r')\n",
    "j = 0\n",
    "for i in fd1:\n",
    "    j = j +1\n",
    "    print(i)\n",
    "    if j==5:\n",
    "        break\n",
    "# print(mydata)\n",
    "fd1.close()"
   ]
  },
  {
   "cell_type": "code",
   "execution_count": null,
   "id": "b7f720ff",
   "metadata": {},
   "outputs": [],
   "source": []
  },
  {
   "cell_type": "code",
   "execution_count": null,
   "id": "29a5f041",
   "metadata": {},
   "outputs": [],
   "source": [
    "import ssl\n",
    "ssl._create_default_https_context = ssl._create_unverified_context"
   ]
  },
  {
   "cell_type": "markdown",
   "id": "38075fc1",
   "metadata": {},
   "source": [
    "> Get the raw data url of the file ('hellogist.txt') to be downloaded from your github gist. Pass that url to `urlretrieve()` function to download file to disk\n",
    "```\n",
    "urllib.request.urlretrieve(url, filename=None)\n",
    "``` "
   ]
  },
  {
   "cell_type": "markdown",
   "id": "2d1a335e",
   "metadata": {},
   "source": [
    "**Example1: Download, Open and Read any `.txt` file from Github Gist**"
   ]
  },
  {
   "cell_type": "code",
   "execution_count": null,
   "id": "87491b77",
   "metadata": {},
   "outputs": [],
   "source": [
    "# Download\n",
    "import urllib\n",
    "link = \"https://raw.githubusercontent.com/beancount/beancount/master/setup.py\"\n",
    "urllib.request.urlretrieve(link,\"datasets/setup.py\")"
   ]
  },
  {
   "cell_type": "code",
   "execution_count": null,
   "id": "0d58055a",
   "metadata": {},
   "outputs": [],
   "source": []
  },
  {
   "cell_type": "code",
   "execution_count": null,
   "id": "e51f26ff",
   "metadata": {},
   "outputs": [],
   "source": [
    "with open(\"setup.py\") as fd:\n",
    "    print(fd.read())"
   ]
  },
  {
   "cell_type": "markdown",
   "id": "fd4d422c",
   "metadata": {},
   "source": [
    "Let us now open and read the file"
   ]
  },
  {
   "cell_type": "code",
   "execution_count": null,
   "id": "604a39c4",
   "metadata": {},
   "outputs": [],
   "source": []
  },
  {
   "cell_type": "code",
   "execution_count": null,
   "id": "cc1f0a0c",
   "metadata": {},
   "outputs": [],
   "source": []
  },
  {
   "cell_type": "code",
   "execution_count": null,
   "id": "9f792da3",
   "metadata": {},
   "outputs": [],
   "source": []
  },
  {
   "cell_type": "markdown",
   "id": "03b5aa6f",
   "metadata": {},
   "source": [
    "# Check Your Concepts\n",
    "Try to answer the following questions\n",
    " - Name two types of data files available in python .\n",
    " - In text file each line is terminated by a special character called _______\n",
    " - In python, default EOL character is _______\n",
    " - In binary files, data stored in the same format as it is stored in computer memory. (T/F)\n",
    " - Processing of binary file is faster than text file (T/F)\n",
    " - What is difference between writing data and appending data into the files.\n",
    " - Writing data is same as appending data in file. (T/F)\n",
    " - Can we read file without opening?\n",
    " - What is the difference between sequential access and random access?\n",
    " - Write the code in python to open a file named `try.txt`.\n",
    " - Write one basic difference between Text file and Binary file in Python.\n",
    " >- A text file consists of human readable characters, which can be opened by any text editor. while, binary files consist of non-human readable characters and symbols, which require specific programs to access its contents.\n",
    "\n",
    " - What is the default mode of opening a file?\n",
    " - Write a statement in python to open a file named “data.txt” stored in folder “content” in D drive.\n",
    " - Name the three modes in which file can be opened in python.\n",
    " >- read, write, append\n",
    " \n",
    " - What do you mean by file object in python?\n",
    " - Write the symbols used in text file mode for the following operations.\n",
    "  >- 1. Read Only\n",
    "  >- 2. Write only\n",
    "  >- 3. Read and Write\n",
    "  >- 4. Write and Read\n",
    "\n",
    " - Write the symbols used in binary file mode for the following operations.\n",
    "\n",
    "  >- 1. Read Only\n",
    "  >- 2. Write only\n",
    "  >- 3. Read and Write\n",
    "  >- 4. Write and Read \n",
    "\n",
    " - What is the difference between r+ and w+ mode?\n",
    " - What is the difference between write and append mode?\n",
    " - Which method is used to close the file in python?\n",
    " - Write the statement to close the file “test.txt” which is associated with file object named “fo”.\n",
    " - Write one similarity and one difference between a+ and w+.\n",
    " - What is the difference between read() and read(n) functions?\n",
    " - What is the difference between readline() and readlines() ?\n",
    " - Write a program to read first 10 characters from a file named `f1.txt`\n",
    " - Write a program in python to display number of lines in a file(`f1.txt`). \n",
    " - Write a program in python to display first line and total number of characters in the first line from the file(`data.txt`) using `readlines()`.\n",
    " - Name two functions which are used to write data into file?\n",
    " - Accept five names from the user and write in a file `name.txt`\n",
    " - Accept five sports names from the user and write in a file `sport.txt` (each name should write in separate line).\n",
    "\n",
    "\n",
    "\n",
    "\n",
    "\n",
    "\n",
    "\n",
    "\n",
    "\n",
    "\n",
    "\n",
    "\n",
    "\n",
    "\n",
    "\n"
   ]
  },
  {
   "cell_type": "code",
   "execution_count": null,
   "id": "88a3ec50",
   "metadata": {},
   "outputs": [],
   "source": []
  },
  {
   "cell_type": "code",
   "execution_count": null,
   "id": "9850bffa",
   "metadata": {},
   "outputs": [],
   "source": []
  },
  {
   "cell_type": "markdown",
   "id": "dc123e19",
   "metadata": {},
   "source": [
    "## Practice Questions"
   ]
  },
  {
   "cell_type": "markdown",
   "id": "41ba5109",
   "metadata": {},
   "source": [
    "**Question 01: Accept five hobbies from the user and write in a file `hobby.txt` (each hobby should write in separate line) without using write() function. And also read all the hobbies from the file.**"
   ]
  },
  {
   "cell_type": "code",
   "execution_count": null,
   "id": "ba64e423",
   "metadata": {},
   "outputs": [],
   "source": [
    "with open('hobby.txt', 'w') as file:\n",
    "    h = []\n",
    "    for i in range(5):\n",
    "        hobby = input(\"Enter Your hobby : \")\n",
    "        h.append(hobby)\n",
    "        h.append('\\n')\n",
    "    file.writelines(h)"
   ]
  },
  {
   "cell_type": "code",
   "execution_count": null,
   "id": "996325ce",
   "metadata": {},
   "outputs": [],
   "source": [
    "with open('hobby1.txt', 'w') as file:\n",
    "    for i in range(3):\n",
    "        hobby = input(\"Enter Your hobby : \")\n",
    "        h = hobby + \"\\n\"\n",
    "        file.writelines(h)"
   ]
  },
  {
   "cell_type": "code",
   "execution_count": null,
   "id": "ad30a86d",
   "metadata": {},
   "outputs": [],
   "source": []
  },
  {
   "cell_type": "markdown",
   "id": "cefcbc96",
   "metadata": {},
   "source": [
    "**Question 02: Write a Python Program to copy the contents of one file into another.     \n",
    "Sample:**\n",
    "- Input File : out.txt\n",
    "- Output File : outtest.txt"
   ]
  },
  {
   "cell_type": "code",
   "execution_count": null,
   "id": "6d3eab3d",
   "metadata": {},
   "outputs": [],
   "source": [
    "str1 = \"\"\n",
    "with open(\"datasets/out.txt\") as fd:\n",
    "    str1 = fd.read()"
   ]
  },
  {
   "cell_type": "code",
   "execution_count": null,
   "id": "7a0d3a74",
   "metadata": {},
   "outputs": [],
   "source": [
    "str1"
   ]
  },
  {
   "cell_type": "code",
   "execution_count": null,
   "id": "8d3dc187",
   "metadata": {},
   "outputs": [],
   "source": [
    "with open(\"datasets/test.txt\",'w') as fd:\n",
    "    for i in str1:\n",
    "        fd.writelines(i)"
   ]
  },
  {
   "cell_type": "code",
   "execution_count": null,
   "id": "779640d1",
   "metadata": {},
   "outputs": [],
   "source": [
    "!cat datasets/out.txt"
   ]
  },
  {
   "cell_type": "code",
   "execution_count": null,
   "id": "bf456e82",
   "metadata": {},
   "outputs": [],
   "source": [
    "# Here write your answer\n",
    "!cat datasets/test.txt"
   ]
  },
  {
   "cell_type": "code",
   "execution_count": null,
   "id": "ed31dbd9",
   "metadata": {},
   "outputs": [],
   "source": []
  },
  {
   "cell_type": "markdown",
   "id": "1a9daed6",
   "metadata": {},
   "source": [
    "**Question 03: Write a python Program to find size of file `f1.txt` using `os` module or using file operations**"
   ]
  },
  {
   "cell_type": "code",
   "execution_count": null,
   "id": "8bb41ce8",
   "metadata": {},
   "outputs": [],
   "source": []
  },
  {
   "cell_type": "code",
   "execution_count": null,
   "id": "19a60a6e",
   "metadata": {},
   "outputs": [],
   "source": [
    "# Here write Your answer\n",
    "import os\n",
    "os.stat(\"datasets/f1.txt\")"
   ]
  },
  {
   "cell_type": "code",
   "execution_count": null,
   "id": "a067b931",
   "metadata": {},
   "outputs": [],
   "source": [
    "os.stat(\"datasets/f1.txt\").st_size"
   ]
  },
  {
   "cell_type": "code",
   "execution_count": null,
   "id": "8d490f97",
   "metadata": {},
   "outputs": [],
   "source": [
    "with open(\"datasets/f1.txt\") as fd:\n",
    "    data = fd.read()\n",
    "    print(len(data))"
   ]
  },
  {
   "cell_type": "code",
   "execution_count": null,
   "id": "89ded4fe",
   "metadata": {},
   "outputs": [],
   "source": []
  },
  {
   "cell_type": "markdown",
   "id": "f9191c7e",
   "metadata": {},
   "source": [
    "**Question 04: Write a python program to count number of uppercase, lowercase, digits ,space and special characters in a text file `f1.txt`.**"
   ]
  },
  {
   "cell_type": "code",
   "execution_count": null,
   "id": "cb21aaa3",
   "metadata": {},
   "outputs": [],
   "source": [
    "# Here write your answer\n",
    "lowercase = \"abcdefghijklmnopqurstuvwxyz\"\n",
    "uppercase = lowercase.upper()\n",
    "digits = \"1234567890\"\n",
    "specialCharacters = \".[{(),\\^$|?*+\"\n",
    "space = \" \"\n"
   ]
  },
  {
   "cell_type": "code",
   "execution_count": null,
   "id": "4ee03fc3",
   "metadata": {},
   "outputs": [],
   "source": [
    "lowercaseCount = 0\n",
    "uppercaseCount = 0\n",
    "digitsCount = 0\n",
    "sccount = 0\n",
    "spaceCount = 0"
   ]
  },
  {
   "cell_type": "code",
   "execution_count": null,
   "id": "5160fdfe",
   "metadata": {},
   "outputs": [],
   "source": [
    "with open(\"datasets/f1.txt\") as fd:\n",
    "    data = fd.read()\n",
    "    for letter in data:\n",
    "        if letter in lowercase:\n",
    "            lowercaseCount = lowercaseCount+1\n",
    "        elif letter in uppercase:\n",
    "            uppercaseCount = uppercaseCount+1\n",
    "        elif letter in digits:\n",
    "            digitsCount =  digitsCount+1\n",
    "        elif letter in specialCharacters:\n",
    "            sccount = sccount+1\n",
    "        else:\n",
    "            spaceCount = spaceCount+1\n",
    "            \n",
    "print(\"NUmber of lowercase letters are : \", lowercaseCount)\n",
    "print(\"Number of uppercase letters are : \", uppercaseCount)\n",
    "print(\"Number of digits are : \", digitsCount)\n",
    "print(\"Number of special characters are : \", sccount)\n",
    "print(\"NUmber of spaces are : \", spaceCount)"
   ]
  },
  {
   "cell_type": "code",
   "execution_count": null,
   "id": "3f23036d",
   "metadata": {},
   "outputs": [],
   "source": []
  },
  {
   "cell_type": "code",
   "execution_count": null,
   "id": "54c5b5c3",
   "metadata": {},
   "outputs": [],
   "source": []
  },
  {
   "cell_type": "markdown",
   "id": "3c1104c6",
   "metadata": {},
   "source": [
    "**Question 06: Write a python code to read lines from a text file of your own choice and display those lines of length more than `50`.**\n"
   ]
  },
  {
   "cell_type": "code",
   "execution_count": null,
   "id": "c1c7a481",
   "metadata": {},
   "outputs": [],
   "source": [
    "# Here write your answer\n",
    "!ls"
   ]
  },
  {
   "cell_type": "code",
   "execution_count": null,
   "id": "3f3521b8",
   "metadata": {},
   "outputs": [],
   "source": [
    "!cat f1.txt"
   ]
  },
  {
   "cell_type": "code",
   "execution_count": null,
   "id": "68dba855",
   "metadata": {},
   "outputs": [],
   "source": [
    "with open(\"f1.txt\") as fd:\n",
    "    for i in fd:\n",
    "        if i[0]=='a':\n",
    "            print(i)"
   ]
  },
  {
   "cell_type": "code",
   "execution_count": null,
   "id": "a8015bb3",
   "metadata": {},
   "outputs": [],
   "source": []
  },
  {
   "cell_type": "code",
   "execution_count": null,
   "id": "106b16b6",
   "metadata": {},
   "outputs": [],
   "source": []
  },
  {
   "cell_type": "markdown",
   "id": "070d9296",
   "metadata": {},
   "source": [
    "**Question 07: Write a python program to print the words starting with `m` or `M` from a file `README.md`.**"
   ]
  },
  {
   "cell_type": "code",
   "execution_count": null,
   "id": "02ac572c",
   "metadata": {},
   "outputs": [],
   "source": [
    "# !cat README.md"
   ]
  },
  {
   "cell_type": "code",
   "execution_count": null,
   "id": "c49c4b36",
   "metadata": {},
   "outputs": [],
   "source": [
    "# Here write your answer\n",
    "with open(\"README.md\") as fd:\n",
    "    data = fd.read().split()\n",
    "    for i in data:\n",
    "        if i[0]=='m' or i[0]=='M':\n",
    "            print(i)"
   ]
  },
  {
   "cell_type": "code",
   "execution_count": null,
   "id": "0f92f71b",
   "metadata": {},
   "outputs": [],
   "source": []
  },
  {
   "cell_type": "code",
   "execution_count": null,
   "id": "484db0de",
   "metadata": {},
   "outputs": [],
   "source": []
  },
  {
   "cell_type": "markdown",
   "id": "14f86772",
   "metadata": {},
   "source": [
    "### Try to Practice these Questions:\n",
    "- Write a Python program to count all the line having `a` as first character.\n",
    "- Write a Python Program to Write 1 to 100 in a Text File `number.txt`\n",
    "- Write a Python Program to Find and Replace a Word in a Text File \n",
    "- Python Program to Find and Remove Duplicate Lines in a Large Text File.\n",
    "- Write a Python Program to Reverse Each Word in a Text File `f1.txt`.\n",
    "- Write a Python Program to Read a Text File `f1.txt` and Count the Number of Words whose Length is Greater than 5.\n",
    "- Write a Python Function to Display each Lines with line's number from the Text File `f1.txt` using `read()`.\n",
    "- Write a Python Program to Print Just the Last line of a Text File `f1.txt`."
   ]
  },
  {
   "cell_type": "code",
   "execution_count": null,
   "id": "73962cd3",
   "metadata": {},
   "outputs": [],
   "source": []
  }
 ],
 "metadata": {
  "kernelspec": {
   "display_name": "Python 3 (ipykernel)",
   "language": "python",
   "name": "python3"
  },
  "language_info": {
   "codemirror_mode": {
    "name": "ipython",
    "version": 3
   },
   "file_extension": ".py",
   "mimetype": "text/x-python",
   "name": "python",
   "nbconvert_exporter": "python",
   "pygments_lexer": "ipython3",
   "version": "3.8.10"
  }
 },
 "nbformat": 4,
 "nbformat_minor": 5
}
