{
 "cells": [
  {
   "cell_type": "markdown",
   "id": "ed455b47",
   "metadata": {},
   "source": [
    "<img src=\"../images/lect-11.png\" height=1000px width=1000px>\n"
   ]
  },
  {
   "cell_type": "code",
   "execution_count": null,
   "id": "13e4143a",
   "metadata": {},
   "outputs": [],
   "source": []
  },
  {
   "cell_type": "markdown",
   "id": "f70c6290",
   "metadata": {},
   "source": [
    "\n",
    "<h1 align=\"center\" style=\"color:red\">Creating-Modules </h1>"
   ]
  },
  {
   "cell_type": "markdown",
   "id": "4a466ee0",
   "metadata": {},
   "source": [
    "<img align=\"center\" width=\"600\" height=\"600\"  src=\"../images/script.png\" > "
   ]
  },
  {
   "cell_type": "code",
   "execution_count": null,
   "id": "53646627",
   "metadata": {},
   "outputs": [],
   "source": []
  },
  {
   "cell_type": "code",
   "execution_count": null,
   "id": "01253c52",
   "metadata": {},
   "outputs": [],
   "source": [
    "!ls"
   ]
  },
  {
   "cell_type": "code",
   "execution_count": null,
   "id": "c1686774",
   "metadata": {},
   "outputs": [],
   "source": [
    "!cat data.py"
   ]
  },
  {
   "cell_type": "code",
   "execution_count": null,
   "id": "35a3819b",
   "metadata": {},
   "outputs": [],
   "source": []
  },
  {
   "cell_type": "code",
   "execution_count": null,
   "id": "91fb8544",
   "metadata": {},
   "outputs": [],
   "source": []
  },
  {
   "cell_type": "code",
   "execution_count": null,
   "id": "c0fcd6c5",
   "metadata": {},
   "outputs": [],
   "source": []
  },
  {
   "cell_type": "markdown",
   "id": "a781dec1",
   "metadata": {},
   "source": [
    "# Python Script vs module vs packages vs Library vs Framework?"
   ]
  },
  {
   "cell_type": "markdown",
   "id": "1e1777b0",
   "metadata": {},
   "source": [
    "### What is Python Script:\n",
    "- Script is a file having Python code written outside the scope of any function or class.\n",
    "In above Example:    \n",
    "\n",
    "```\n",
    "x = 5    \n",
    "rv = myfactorial(x)    \n",
    "print(\"Factorial of {} is {}\".format(x,rv)) \n",
    "```\n",
    "- When we run this script definitly , it will perform some work"
   ]
  },
  {
   "cell_type": "code",
   "execution_count": null,
   "id": "597c5507",
   "metadata": {},
   "outputs": [],
   "source": []
  },
  {
   "cell_type": "markdown",
   "id": "0ef18912",
   "metadata": {},
   "source": [
    "<img align=\"center\" width=\"600\" height=\"600\"  src=\"../images/module.png\" > "
   ]
  },
  {
   "cell_type": "code",
   "execution_count": null,
   "id": "14325b0e",
   "metadata": {},
   "outputs": [],
   "source": [
    "!cat mymodule.py"
   ]
  },
  {
   "cell_type": "code",
   "execution_count": null,
   "id": "b5d404db",
   "metadata": {},
   "outputs": [],
   "source": []
  },
  {
   "cell_type": "markdown",
   "id": "02fc24dc",
   "metadata": {},
   "source": [
    "## What is Python Module:\n",
    "- A module is a file having python code with dot py extension.\n",
    "- Module may contain multiple functions, variables, classes.\n",
    "- We cannot run directly this module in any python program.\n",
    "- TO run a module, firstly , we need to import this module in our program using `import` keyword."
   ]
  },
  {
   "cell_type": "code",
   "execution_count": null,
   "id": "e6c5e258",
   "metadata": {},
   "outputs": [],
   "source": []
  },
  {
   "cell_type": "markdown",
   "id": "8ea00da3",
   "metadata": {},
   "source": [
    "<img align=\"center\" width=\"600\" height=\"600\"  src=\"../images/package.png\" > "
   ]
  },
  {
   "cell_type": "code",
   "execution_count": null,
   "id": "9cf47347",
   "metadata": {},
   "outputs": [],
   "source": [
    "!ls packageDemo/package1/"
   ]
  },
  {
   "cell_type": "markdown",
   "id": "b60dff03",
   "metadata": {},
   "source": [
    "## What is Python Package:\n",
    "- Python Package is a directory having one or more python modules.\n",
    "- One package also contains sub packages.\n",
    "- Here , we have `__init__.py` in every package, I will discuss about this later on."
   ]
  },
  {
   "cell_type": "code",
   "execution_count": null,
   "id": "a7a3634c",
   "metadata": {},
   "outputs": [],
   "source": []
  },
  {
   "cell_type": "markdown",
   "id": "447ea2ac",
   "metadata": {},
   "source": [
    "<img align=\"center\" width=\"800\" height=\"800\"  src=\"../images/intro.png\" > "
   ]
  },
  {
   "cell_type": "markdown",
   "id": "3ac0dd2f",
   "metadata": {},
   "source": [
    "## What is Python Standard Library:\n",
    "- Standard Library contains hundreds of modules , these modules contain wide range of functionalities.\n",
    "- The Python standard library comes with python installation.\n",
    "- If we want to use any function of a module, then, firstly, we need to import that module."
   ]
  },
  {
   "cell_type": "code",
   "execution_count": null,
   "id": "6c12d9ee",
   "metadata": {},
   "outputs": [],
   "source": [
    "import pandas as pd"
   ]
  },
  {
   "cell_type": "code",
   "execution_count": null,
   "id": "3b175d48",
   "metadata": {},
   "outputs": [],
   "source": [
    "# dir()\n",
    "# pd.read_csv()"
   ]
  },
  {
   "cell_type": "markdown",
   "id": "918b928a",
   "metadata": {},
   "source": [
    "## What is Python Framework?\n",
    "- Python framework provides programmer a very efficient way to work with any type of problem.\n",
    "- By using framework , there is no need to go in the low level details of the program.\n",
    "- Some famous framework of Python are Flask, django, tensorflow."
   ]
  },
  {
   "cell_type": "markdown",
   "id": "12be69aa",
   "metadata": {},
   "source": [
    "<img src=\"../images/WebFrameworks-1200x720.jpg\" height = \"350px\" width=\"500px\">"
   ]
  },
  {
   "cell_type": "code",
   "execution_count": null,
   "id": "f8106bfd",
   "metadata": {},
   "outputs": [],
   "source": []
  },
  {
   "cell_type": "code",
   "execution_count": null,
   "id": "3f1c9711",
   "metadata": {},
   "outputs": [],
   "source": []
  },
  {
   "cell_type": "markdown",
   "id": "c84d6cd1",
   "metadata": {},
   "source": [
    "# Learning agenda of this notebook\n",
    "Modular Programming is a design technique to break your code into different parts. These parts in which we are breaking code into are called modules.\n",
    "\n",
    "**PART - I**\n",
    "1. Create a Module of your own\n",
    "2. Use the newly created module in this notebook file\n",
    "3. How Python locates a module?\n",
    "4. Reloading a module\n",
    "\n",
    "**PART - II**\n",
    "1. What are Python packages?\n",
    "2. How to create a Python Package?\n",
    "3. How to import modules from the package?"
   ]
  },
  {
   "cell_type": "code",
   "execution_count": null,
   "id": "8e9320fc",
   "metadata": {},
   "outputs": [],
   "source": [
    "!cat mymodule.py"
   ]
  },
  {
   "cell_type": "markdown",
   "id": "4bf35ccf",
   "metadata": {},
   "source": [
    "## 1. Create a Module named _`mymodule`_\n",
    "- Create `mymodule.py` file as shown below in the current working directory, i.e., the directory in which this IPython Notebook file resides. "
   ]
  },
  {
   "cell_type": "code",
   "execution_count": null,
   "id": "f8939ef3",
   "metadata": {},
   "outputs": [],
   "source": [
    "!ls"
   ]
  },
  {
   "cell_type": "markdown",
   "id": "8ff90697",
   "metadata": {},
   "source": [
    "#### mymodule.py\n",
    "```\n",
    "AUTHOR = 'Ehtisham'\n",
    "BATCH = 2023\n",
    "\n",
    "def myfactorial(num):\n",
    "    # code\n",
    "    \n",
    "\n",
    "def myindex(numbers, no):\n",
    "    # code\n",
    "\n",
    "def mysort(numbers, inplace=False):\n",
    "    # code\n",
    "```"
   ]
  },
  {
   "cell_type": "code",
   "execution_count": null,
   "id": "255458e3",
   "metadata": {},
   "outputs": [],
   "source": []
  },
  {
   "cell_type": "code",
   "execution_count": null,
   "id": "eddccc76",
   "metadata": {},
   "outputs": [],
   "source": [
    "!ls"
   ]
  },
  {
   "cell_type": "markdown",
   "id": "0607638d",
   "metadata": {},
   "source": [
    "## 2. Use the Functions of `mymodule`"
   ]
  },
  {
   "cell_type": "code",
   "execution_count": null,
   "id": "e4ffc4cd",
   "metadata": {},
   "outputs": [],
   "source": [
    "import mymodule as mm\n",
    "print(dir(mm))"
   ]
  },
  {
   "cell_type": "code",
   "execution_count": null,
   "id": "80d0e8fe",
   "metadata": {},
   "outputs": [],
   "source": [
    "!ls"
   ]
  },
  {
   "cell_type": "code",
   "execution_count": null,
   "id": "bfd02839",
   "metadata": {},
   "outputs": [],
   "source": [
    "mm.AUTHOR"
   ]
  },
  {
   "cell_type": "code",
   "execution_count": null,
   "id": "9ba22c8a",
   "metadata": {},
   "outputs": [],
   "source": [
    "mm.BATCH"
   ]
  },
  {
   "cell_type": "code",
   "execution_count": null,
   "id": "193dfd67",
   "metadata": {},
   "outputs": [],
   "source": [
    "mm.mysort"
   ]
  },
  {
   "cell_type": "code",
   "execution_count": null,
   "id": "0b43ffe2",
   "metadata": {},
   "outputs": [],
   "source": [
    "mm.__name__"
   ]
  },
  {
   "cell_type": "code",
   "execution_count": null,
   "id": "7f3ae021",
   "metadata": {},
   "outputs": [],
   "source": [
    "mm.__cached__"
   ]
  },
  {
   "cell_type": "code",
   "execution_count": null,
   "id": "62dde105",
   "metadata": {},
   "outputs": [],
   "source": [
    "gcc file.c -o myfile"
   ]
  },
  {
   "cell_type": "markdown",
   "id": "d12833ed",
   "metadata": {},
   "source": [
    ">- `.pyc` files are created by the Python interpreter when a `.py` file is imported. \n",
    ">- The `.pyc` file contain the **compiled bytecode** of the imported module, so that the \"translation\" from source code to bytecode (which only needs to be done once) can be skipped on subsequent imports to speed up startup.\n",
    ">- If the `.pyc` is older than the corresponding .py file, we do have to re-import it in our program.\n",
    ">- The `.pyc` file is still interpreted, however, cnce the `.pyc` file is generated, there is no need of `.py` file, unless you edit it."
   ]
  },
  {
   "cell_type": "code",
   "execution_count": null,
   "id": "6f998429",
   "metadata": {},
   "outputs": [],
   "source": []
  },
  {
   "cell_type": "code",
   "execution_count": null,
   "id": "90a96624",
   "metadata": {
    "scrolled": true
   },
   "outputs": [],
   "source": [
    "# mm.__builtins__"
   ]
  },
  {
   "cell_type": "code",
   "execution_count": null,
   "id": "56494486",
   "metadata": {},
   "outputs": [],
   "source": [
    "import os\n",
    "os.listdir('__pycache__')"
   ]
  },
  {
   "cell_type": "code",
   "execution_count": null,
   "id": "6a988cd0",
   "metadata": {},
   "outputs": [],
   "source": []
  },
  {
   "cell_type": "code",
   "execution_count": null,
   "id": "1f894065",
   "metadata": {},
   "outputs": [],
   "source": []
  },
  {
   "cell_type": "markdown",
   "id": "b3d3ece1",
   "metadata": {},
   "source": [
    "**Let us use the `factorial()` function**"
   ]
  },
  {
   "cell_type": "code",
   "execution_count": null,
   "id": "412fb266",
   "metadata": {},
   "outputs": [],
   "source": [
    "mm.myfactorial(5)"
   ]
  },
  {
   "cell_type": "code",
   "execution_count": null,
   "id": "d7625c43",
   "metadata": {},
   "outputs": [],
   "source": [
    "import math\n",
    "math.factorial(5)"
   ]
  },
  {
   "cell_type": "code",
   "execution_count": null,
   "id": "b37ef33b",
   "metadata": {},
   "outputs": [],
   "source": []
  },
  {
   "cell_type": "markdown",
   "id": "815aa081",
   "metadata": {},
   "source": [
    "**Let us use the `myindex()` function**"
   ]
  },
  {
   "cell_type": "code",
   "execution_count": null,
   "id": "49acf41c",
   "metadata": {},
   "outputs": [],
   "source": [
    "list1=[44, 99, -65, 101, 27, 88]\n",
    "mm.myindex(list1, 101)"
   ]
  },
  {
   "cell_type": "code",
   "execution_count": null,
   "id": "a6a90f5c",
   "metadata": {},
   "outputs": [],
   "source": [
    "list1=[44, 99, -65, 101, 27, 88]\n",
    "mm.myindex(list1, 10)"
   ]
  },
  {
   "cell_type": "code",
   "execution_count": null,
   "id": "4fcd2426",
   "metadata": {},
   "outputs": [],
   "source": []
  },
  {
   "cell_type": "code",
   "execution_count": null,
   "id": "7054a00e",
   "metadata": {},
   "outputs": [],
   "source": []
  },
  {
   "cell_type": "markdown",
   "id": "d065467a",
   "metadata": {},
   "source": [
    "**Let us use the `mysort()` function. Remember the default inplace argument is False, so it does not modify the list that is passed rather returns a new sorted list**"
   ]
  },
  {
   "cell_type": "code",
   "execution_count": null,
   "id": "620727f0",
   "metadata": {},
   "outputs": [],
   "source": [
    "list1=[44, 99, -65, 101, 27, 88]\n",
    "\n",
    "rv = mm.mysort(list1)\n",
    "print(f\"Orignal List is : {list1}\")\n",
    "print(f\"New List is : {rv}\")"
   ]
  },
  {
   "cell_type": "code",
   "execution_count": null,
   "id": "34b503f3",
   "metadata": {},
   "outputs": [],
   "source": []
  },
  {
   "cell_type": "markdown",
   "id": "26ef1cc7",
   "metadata": {},
   "source": [
    "**Let us use the `mysort()` function and pass `inplace` argument as True, so it sort the list that is passed and returns None**"
   ]
  },
  {
   "cell_type": "code",
   "execution_count": null,
   "id": "bcc55b97",
   "metadata": {},
   "outputs": [],
   "source": [
    "list1=[44, 99, -65, 101, 27, 88]\n",
    "rv = mm.mysort(list1, inplace=True)\n",
    "type(rv)"
   ]
  },
  {
   "cell_type": "code",
   "execution_count": null,
   "id": "93c736d6",
   "metadata": {},
   "outputs": [],
   "source": [
    "list1"
   ]
  },
  {
   "cell_type": "code",
   "execution_count": null,
   "id": "fbd64da2",
   "metadata": {},
   "outputs": [],
   "source": []
  },
  {
   "cell_type": "markdown",
   "id": "d880daa8",
   "metadata": {},
   "source": [
    "## 3. How Python Locates a module?\n",
    "Let us try to import a module named `ehtishammodule` that is located in the following directory\n",
    "```\n",
    "/home/dell/Data/Files/SightSee/Github Repo/Module 02 - Introduction to Python Programming/Lecture # 11 - Learning Practical Data Science and Machine Learning/pathissue/\n",
    "```"
   ]
  },
  {
   "cell_type": "code",
   "execution_count": null,
   "id": "3b75a732",
   "metadata": {},
   "outputs": [],
   "source": [
    "# !ls pathissue/"
   ]
  },
  {
   "cell_type": "code",
   "execution_count": null,
   "id": "a8fade70",
   "metadata": {},
   "outputs": [],
   "source": [
    "import ehtishammodule"
   ]
  },
  {
   "cell_type": "code",
   "execution_count": null,
   "id": "0e8a95ed",
   "metadata": {},
   "outputs": [],
   "source": []
  },
  {
   "cell_type": "markdown",
   "id": "c464a2ce",
   "metadata": {},
   "source": [
    ">- **First** Python Interpreter looks for the module in the current working directory, i.e., the directory from which the input script was run\n",
    ">- Let us see the contents of current working directory"
   ]
  },
  {
   "cell_type": "code",
   "execution_count": null,
   "id": "121449d2",
   "metadata": {},
   "outputs": [],
   "source": [
    "import os\n",
    "os.listdir()"
   ]
  },
  {
   "cell_type": "code",
   "execution_count": null,
   "id": "95e72d7e",
   "metadata": {},
   "outputs": [],
   "source": [
    "os.getcwd()"
   ]
  },
  {
   "cell_type": "code",
   "execution_count": null,
   "id": "f1e21f34",
   "metadata": {},
   "outputs": [],
   "source": []
  },
  {
   "cell_type": "markdown",
   "id": "e340fb2e",
   "metadata": {},
   "source": [
    "**So in the current working directory, we do not have the module named `ehtishammodule`**"
   ]
  },
  {
   "cell_type": "code",
   "execution_count": null,
   "id": "f95804bc",
   "metadata": {},
   "outputs": [],
   "source": []
  },
  {
   "cell_type": "markdown",
   "id": "4db1fbe3",
   "metadata": {},
   "source": [
    ">- **Second** Python Interpreter looks for the module in the list of built-in modules of Python standard library\n",
    ">- Let us see the list of all builtin modules"
   ]
  },
  {
   "cell_type": "code",
   "execution_count": null,
   "id": "0e696795",
   "metadata": {},
   "outputs": [],
   "source": [
    "print(dir(__builtins__))"
   ]
  },
  {
   "cell_type": "code",
   "execution_count": null,
   "id": "6766659a",
   "metadata": {},
   "outputs": [],
   "source": []
  },
  {
   "cell_type": "markdown",
   "id": "aa0497f6",
   "metadata": {},
   "source": [
    "**So `ehtishammodule` is not in the list of `__builtins__`**"
   ]
  },
  {
   "cell_type": "code",
   "execution_count": null,
   "id": "9df8de64",
   "metadata": {},
   "outputs": [],
   "source": []
  },
  {
   "cell_type": "markdown",
   "id": "d105875b",
   "metadata": {},
   "source": [
    ">- **Third** If there is no built-in module of that name, Python looks into a list of directories defined in `sys.path` environment variable\n",
    ">- Let us see the directories mentioned in the `sys.path` environment variable"
   ]
  },
  {
   "cell_type": "code",
   "execution_count": null,
   "id": "fe7fc091",
   "metadata": {},
   "outputs": [],
   "source": [
    "import sys\n",
    "sys.path"
   ]
  },
  {
   "cell_type": "code",
   "execution_count": null,
   "id": "82f275ad",
   "metadata": {},
   "outputs": [],
   "source": [
    "!ls pathissue/"
   ]
  },
  {
   "cell_type": "markdown",
   "id": "07de67d4",
   "metadata": {},
   "source": [
    "**The module `ehtishammodule` is not in either of the above locations**"
   ]
  },
  {
   "cell_type": "markdown",
   "id": "ba34f475",
   "metadata": {},
   "source": [
    ">- Let us now add the path of the directory containing `ehtishammodule` in the `sys.path` environment variable"
   ]
  },
  {
   "cell_type": "code",
   "execution_count": null,
   "id": "79b4f860",
   "metadata": {},
   "outputs": [],
   "source": [
    "!ls"
   ]
  },
  {
   "cell_type": "code",
   "execution_count": null,
   "id": "cdaa6259",
   "metadata": {
    "scrolled": true
   },
   "outputs": [],
   "source": [
    "import sys\n",
    "path =\"/home/dell/Data/Files/SightSee/Github Repo/Module 02 - Introduction to Python Programming/Lecture # 11/pathissue\"\n",
    "path"
   ]
  },
  {
   "cell_type": "code",
   "execution_count": null,
   "id": "bd4a9b89",
   "metadata": {},
   "outputs": [],
   "source": [
    "sys.path.append(path)"
   ]
  },
  {
   "cell_type": "code",
   "execution_count": null,
   "id": "a8ea5034",
   "metadata": {},
   "outputs": [],
   "source": [
    "sys.path"
   ]
  },
  {
   "cell_type": "code",
   "execution_count": null,
   "id": "dce49f56",
   "metadata": {},
   "outputs": [],
   "source": [
    "import ehtishammodule"
   ]
  },
  {
   "cell_type": "markdown",
   "id": "1c3334d4",
   "metadata": {},
   "source": [
    "**Success**"
   ]
  },
  {
   "cell_type": "code",
   "execution_count": null,
   "id": "30e7e497",
   "metadata": {},
   "outputs": [],
   "source": []
  },
  {
   "cell_type": "markdown",
   "id": "c100e05f",
   "metadata": {},
   "source": [
    "## 4. Reload a module\n",
    "- The Python interpreter imports a module only once during a session. This makes things more efficient. \n",
    "- Consider `demomodule.py` located in the same directory in which this .ipynb file is located."
   ]
  },
  {
   "cell_type": "code",
   "execution_count": null,
   "id": "36510ed2",
   "metadata": {},
   "outputs": [],
   "source": [
    "!ls"
   ]
  },
  {
   "cell_type": "markdown",
   "id": "2685f55a",
   "metadata": {},
   "source": [
    "#### demomodule.py\n",
    "```\n",
    "print(\"This is the demomodule having only one print statement. It is located in the same directory in which this .ipynb file is...\")\n",
    "```"
   ]
  },
  {
   "cell_type": "code",
   "execution_count": null,
   "id": "8fc71033",
   "metadata": {},
   "outputs": [],
   "source": [
    "# import the module for the first time\n",
    "import demomodule"
   ]
  },
  {
   "cell_type": "markdown",
   "id": "51273d45",
   "metadata": {},
   "source": [
    "**Let us import this module again**"
   ]
  },
  {
   "cell_type": "code",
   "execution_count": null,
   "id": "08d97c4c",
   "metadata": {},
   "outputs": [],
   "source": [
    "import demomodule\n",
    "\n",
    "# you can note that python imports the module only once"
   ]
  },
  {
   "cell_type": "code",
   "execution_count": null,
   "id": "f90b47c4",
   "metadata": {},
   "outputs": [],
   "source": []
  },
  {
   "cell_type": "markdown",
   "id": "da52a313",
   "metadata": {},
   "source": [
    "**What if we have made some changes in this module and want to reload it, there are two ways to do that:**\n",
    "1. Restart the Interpreter\n",
    "2. Call the `imp.reload(<modulename>)` function"
   ]
  },
  {
   "cell_type": "code",
   "execution_count": null,
   "id": "55a6631b",
   "metadata": {},
   "outputs": [],
   "source": [
    "import imp\n",
    "imp.reload(demomodule)"
   ]
  },
  {
   "cell_type": "code",
   "execution_count": null,
   "id": "f5e8548e",
   "metadata": {},
   "outputs": [],
   "source": [
    "import demomodule"
   ]
  },
  {
   "cell_type": "code",
   "execution_count": null,
   "id": "4fcc3000",
   "metadata": {},
   "outputs": [],
   "source": []
  },
  {
   "cell_type": "markdown",
   "id": "36ac0776",
   "metadata": {},
   "source": [
    "# Bonus: `main()` Function in Python\n",
    "- In most programming languages, the `main()` function serves as a starting point for the execution of a program. It is executed automatically every time the program is run.\n",
    "- In Python, it is not necessary to define the `main()`, because the Python interpreter executes from the top of the script file unless a specific function is defined. \n",
    "- However, having a defined starting point for the execution of your Python program is useful to better understand how a Python program works."
   ]
  },
  {
   "cell_type": "markdown",
   "id": "0981e83c",
   "metadata": {},
   "source": [
    "### The Python `__name__` Variable and Python Execution Modes\n",
    "- In Python, the `.py` file may be executed as a script or may be imported as a module in another script.\n",
    "- Python has a special built-in variable, called `__name__`, that helps us decide whether we want to run the script or we want to import the functions defined in the script\n",
    "    - When you run your script, the `__name__` variable equals `__main__` \n",
    "    - When you import the containing script, the `__name__` variable will contain the name of the script.\n",
    "- Consider the following file named `myscript.py`:    \n",
    "```\n",
    "def myFunction():\n",
    "    print('The value of __name__ is ' + __name__)\n",
    "def main():\n",
    "    myFunction()\n",
    "if __name__ == '__main__':\n",
    "    main()\n",
    "```"
   ]
  },
  {
   "cell_type": "code",
   "execution_count": null,
   "id": "a3597d81",
   "metadata": {},
   "outputs": [],
   "source": [
    "!cat myscript.py"
   ]
  },
  {
   "cell_type": "markdown",
   "id": "cbc6d6f0",
   "metadata": {},
   "source": [
    "### Scenario 1: Execute `myscript.py` as a Python Script"
   ]
  },
  {
   "cell_type": "code",
   "execution_count": null,
   "id": "622f945e",
   "metadata": {},
   "outputs": [],
   "source": [
    "!cat myscript.py"
   ]
  },
  {
   "cell_type": "code",
   "execution_count": null,
   "id": "25c76f17",
   "metadata": {},
   "outputs": [],
   "source": [
    "%run myscript.py"
   ]
  },
  {
   "cell_type": "markdown",
   "id": "e0dd0256",
   "metadata": {},
   "source": [
    ">**So it proves that when we run the `myscript.py` file as a script the `__name__` variable contains `__main__`, the condition evaluates to True and therefore `main()` function is called which further caled `myFunction()`, which executes the print statement.**"
   ]
  },
  {
   "cell_type": "markdown",
   "id": "d6609474",
   "metadata": {},
   "source": [
    "### Scenario 2: Import `myscript.py` in another script as a Python Module"
   ]
  },
  {
   "cell_type": "code",
   "execution_count": null,
   "id": "6e33f51e",
   "metadata": {},
   "outputs": [],
   "source": [
    "!cat myscript.py"
   ]
  },
  {
   "cell_type": "code",
   "execution_count": null,
   "id": "7be76e0d",
   "metadata": {},
   "outputs": [],
   "source": [
    "import myscript as ms\n"
   ]
  },
  {
   "cell_type": "code",
   "execution_count": null,
   "id": "ff510c02",
   "metadata": {},
   "outputs": [],
   "source": [
    "ms.main()"
   ]
  },
  {
   "cell_type": "markdown",
   "id": "6830d923",
   "metadata": {},
   "source": [
    ">**So it proves that when we import the `myscript.py` file as a module the `__name__` variable DOES NOT contains `__main__`, the condition evaluates to False and therefore `main()` function is NOT called and therefore nothing is printed on screen.**\n",
    "\n",
    "**Now since the `myscript.py` has been imported, so we can call its functions. Let us call `myFunction()`**"
   ]
  },
  {
   "cell_type": "code",
   "execution_count": null,
   "id": "2d4081dd",
   "metadata": {},
   "outputs": [],
   "source": [
    "ms.myFunction()\n",
    "# ms.main()"
   ]
  },
  {
   "cell_type": "markdown",
   "id": "59adf27f",
   "metadata": {},
   "source": [
    "**So it proves that when we import the `myscript.py` file as a module the `__name__` variable contains the name of the script `__myscript__`**"
   ]
  },
  {
   "cell_type": "code",
   "execution_count": null,
   "id": "70cad99d",
   "metadata": {},
   "outputs": [],
   "source": []
  },
  {
   "cell_type": "code",
   "execution_count": null,
   "id": "c1cdb847",
   "metadata": {},
   "outputs": [],
   "source": []
  },
  {
   "cell_type": "markdown",
   "id": "34a4ce29",
   "metadata": {},
   "source": [
    "# Second Example"
   ]
  },
  {
   "cell_type": "markdown",
   "id": "7e7df772",
   "metadata": {},
   "source": [
    "### Case 01 : Execute `Mycalculator.py` as Python script "
   ]
  },
  {
   "cell_type": "code",
   "execution_count": null,
   "id": "2ff0bb03",
   "metadata": {},
   "outputs": [],
   "source": [
    "!cat Mycalculator.py"
   ]
  },
  {
   "cell_type": "code",
   "execution_count": null,
   "id": "a42e15cc",
   "metadata": {},
   "outputs": [],
   "source": [
    "%run Mycalculator.py"
   ]
  },
  {
   "cell_type": "markdown",
   "id": "2fa691ce",
   "metadata": {},
   "source": [
    ">**So it proves that when we run the `Mycalculator.py` file as a script the `__name__` variable contains `__main__`, the condition evaluates to True and therefore `main()` function is called which further caled `Calculator()`, which executes the print statement.**"
   ]
  },
  {
   "cell_type": "markdown",
   "id": "b9e814d2",
   "metadata": {},
   "source": [
    "### Case 02: Import `Mycalculator.py` in another script as a Python Module"
   ]
  },
  {
   "cell_type": "code",
   "execution_count": null,
   "id": "024646ba",
   "metadata": {},
   "outputs": [],
   "source": [
    "import Mycalculator as cal\n"
   ]
  },
  {
   "cell_type": "code",
   "execution_count": null,
   "id": "3c4c3c07",
   "metadata": {},
   "outputs": [],
   "source": [
    "# cal.main()\n",
    "cal.__name__"
   ]
  },
  {
   "cell_type": "code",
   "execution_count": null,
   "id": "a6e56e65",
   "metadata": {},
   "outputs": [],
   "source": [
    "# cal.Calculator(4,5)\n",
    "# cal.main()\n",
    "cal.main()"
   ]
  },
  {
   "cell_type": "code",
   "execution_count": null,
   "id": "34872ced",
   "metadata": {},
   "outputs": [],
   "source": [
    "cal.Calculator()"
   ]
  },
  {
   "cell_type": "markdown",
   "id": "8f693787",
   "metadata": {},
   "source": [
    "**So it proves that when we import the `Mycalculator.py` file as a module the `__name__` variable contains the name of the script `__Mycalculator__`**"
   ]
  },
  {
   "cell_type": "markdown",
   "id": "b0c5b814",
   "metadata": {},
   "source": [
    "## Check your Concepts\n",
    "\n",
    "Try answering the following questions to test your understanding of the topics covered in this notebook:\n",
    "1. What is Python Script?\n",
    "2. What is difference between Python Module and Python Package?\n",
    "3. Can a Python script contain more than one modules?\n",
    "4. How we can check the content of the any file in jupyter or which command is use to check the content of any file?\n",
    "5. How we can run a Python file in jupyter notebook?\n",
    "6. How we can access any module in our current working directory?\n",
    "7. How we can get all the functions or variables of any module ?\n",
    "8. What is the purpose of `imp.reload(module)`?"
   ]
  },
  {
   "cell_type": "code",
   "execution_count": null,
   "id": "9e4643a3",
   "metadata": {},
   "outputs": [],
   "source": [
    "# !cat mymodule.py"
   ]
  },
  {
   "cell_type": "code",
   "execution_count": null,
   "id": "ee0d185f",
   "metadata": {},
   "outputs": [],
   "source": [
    "# %run Mycalculator.py"
   ]
  },
  {
   "cell_type": "code",
   "execution_count": null,
   "id": "085e8fab",
   "metadata": {},
   "outputs": [],
   "source": []
  },
  {
   "cell_type": "code",
   "execution_count": null,
   "id": "301ff693",
   "metadata": {},
   "outputs": [],
   "source": []
  },
  {
   "cell_type": "markdown",
   "id": "cfc18fd7",
   "metadata": {},
   "source": [
    "\n",
    "<h1 align=\"center\" style=\"color:red\">Packages </h1>"
   ]
  },
  {
   "cell_type": "code",
   "execution_count": null,
   "id": "356776bd",
   "metadata": {},
   "outputs": [],
   "source": []
  },
  {
   "cell_type": "code",
   "execution_count": null,
   "id": "3e464dc2",
   "metadata": {},
   "outputs": [],
   "source": []
  },
  {
   "cell_type": "markdown",
   "id": "9b7bfc3a",
   "metadata": {},
   "source": [
    "## What is Package in Python?\n",
    "- Python Package is a directory haing one or more modules.\n",
    "- Package also contains sub-packages.\n",
    "- Packages are namespaces that contain multiple packages and modules themselves. They are simply directories.\n",
    "- Syntax: from `<mypackage>` import `<modulename>`"
   ]
  },
  {
   "cell_type": "code",
   "execution_count": 8,
   "id": "91c08801",
   "metadata": {},
   "outputs": [],
   "source": [
    "# from mypackage import mymodule"
   ]
  },
  {
   "cell_type": "markdown",
   "id": "afe42d18",
   "metadata": {},
   "source": [
    "## 1- What are Python Packages?"
   ]
  },
  {
   "cell_type": "markdown",
   "id": "f7c02348",
   "metadata": {},
   "source": [
    "<img align=\"center\" width=\"800\" height=\"800\"  src=\"../images/package.png\" > "
   ]
  },
  {
   "cell_type": "markdown",
   "id": "87e010e0",
   "metadata": {},
   "source": [
    "Here __init__.py is a python File , which may or may not contain any code."
   ]
  },
  {
   "cell_type": "code",
   "execution_count": null,
   "id": "87e6bde1",
   "metadata": {},
   "outputs": [],
   "source": []
  },
  {
   "cell_type": "code",
   "execution_count": null,
   "id": "8473cc90",
   "metadata": {},
   "outputs": [],
   "source": []
  },
  {
   "cell_type": "markdown",
   "id": "b72d2d92",
   "metadata": {},
   "source": [
    "## 2- How to Create a Python Package?\n",
    "#### **Let us create a package:**\n",
    "\n",
    "- First of all, remember a package is a directory and the name of the package is the name of the directory. \n",
    "- We create our directory with the name \"_packageDemo_\". \n",
    "- Inside this we create sub-directories \"_package1_\" and \"_package2_\".\n",
    "- The packageDemo, package1, and package2 directory needs to contain a file with the name '_ _ init _ _.py'. To keep things simple, we left these file empty.\n",
    "- Now we can put all of the Python files which will be the modules into these directory. We create 3 different modules named arithmetic, comparison and bitcompare, containing our function definitions.\n",
    "- We put arithmetic module in package1(sub-package), and place the comparison and bitcompare module in package2 (sub-package)\n",
    "\n",
    "### Hierarchy:\n",
    " - **packageDemo**\n",
    "     - `__init__.py`\n",
    " \n",
    "     - **package1**    \n",
    "         - `___init__.py`    \n",
    "         - `arithmetic.py` \n",
    "     \n",
    "     - **package2**    \n",
    "         - `__init__.py`\n",
    "         - `comparison.py`\n",
    "         - `bitcompare.py`"
   ]
  },
  {
   "cell_type": "code",
   "execution_count": null,
   "id": "33da5363",
   "metadata": {},
   "outputs": [],
   "source": []
  },
  {
   "cell_type": "code",
   "execution_count": null,
   "id": "e5f46980",
   "metadata": {},
   "outputs": [],
   "source": []
  },
  {
   "cell_type": "markdown",
   "id": "da049494",
   "metadata": {},
   "source": [
    "#### packageDemo/package1/arithmetic.py\n",
    "```\n",
    "def myadd(a,b):\n",
    "    return a+b\n",
    "\n",
    "def mysub(a,b):\n",
    "    return a-b\n",
    "\n",
    "def mymul(a,b):\n",
    "    return a*b\n",
    "\n",
    "def mydiv(a,b):\n",
    "    if (y==0):\n",
    "        return 'Not Possible'\n",
    "    else:\n",
    "        return a/b\n",
    "\n",
    "def mypow(a,b):\n",
    "    return a**b\n",
    "```"
   ]
  },
  {
   "cell_type": "code",
   "execution_count": null,
   "id": "8e91a8c0",
   "metadata": {},
   "outputs": [],
   "source": []
  },
  {
   "cell_type": "code",
   "execution_count": null,
   "id": "290fb5d0",
   "metadata": {},
   "outputs": [],
   "source": []
  },
  {
   "cell_type": "markdown",
   "id": "9d68ff46",
   "metadata": {},
   "source": [
    "#### pakcageDemo/package2/bitcompare.py\n",
    "```\n",
    "def bitand(a,b):\n",
    "    print('a & b is',a&b)\n",
    "\n",
    "    \n",
    "def bitor(a,b):\n",
    "    print('a | b is',a|b)\n",
    "\n",
    "def bitnot(a):\n",
    "    print('~a is',~a)\n",
    "\n",
    "def bitxor(a,b):\n",
    "    print('a ^ b is',a^b)\n",
    "\n",
    "def bitright(a,b):\n",
    "    print('x >> b is',a>>b)\n",
    "\n",
    "def bitleft(a,b):\n",
    "    print('a << b is',a<<b)\n",
    "```"
   ]
  },
  {
   "cell_type": "code",
   "execution_count": null,
   "id": "ed028077",
   "metadata": {},
   "outputs": [],
   "source": []
  },
  {
   "cell_type": "markdown",
   "id": "d82ec17b",
   "metadata": {},
   "source": [
    "#### pakcageDemo/package2/comparison.py\n",
    "```\n",
    "def comparison(x,y):\n",
    "    print(\"Comparing both operand where x is \",x,\"and y is \",y)\n",
    "    \n",
    "    if(x>y):\n",
    "        print(\" x > y is: \",  x>y)\n",
    "        \n",
    "    elif(x<y):\n",
    "        print(\" x < y is: \", x<y)\n",
    "        \n",
    "    else:\n",
    "        print(\" x == y is: \", x==y)\n",
    "    \n",
    "```"
   ]
  },
  {
   "cell_type": "code",
   "execution_count": null,
   "id": "82c7e7e3",
   "metadata": {},
   "outputs": [],
   "source": []
  },
  {
   "cell_type": "markdown",
   "id": "de03f109",
   "metadata": {},
   "source": [
    "## 3. How to import and use modules from the Package"
   ]
  },
  {
   "cell_type": "code",
   "execution_count": null,
   "id": "8e2fe60c",
   "metadata": {},
   "outputs": [],
   "source": []
  },
  {
   "cell_type": "code",
   "execution_count": 9,
   "id": "4fb5848f",
   "metadata": {},
   "outputs": [],
   "source": [
    "import packageDemo.package1.arithmetic"
   ]
  },
  {
   "cell_type": "code",
   "execution_count": 12,
   "id": "4aa0f6fd",
   "metadata": {},
   "outputs": [
    {
     "data": {
      "text/plain": [
       "['__builtins__',\n",
       " '__cached__',\n",
       " '__doc__',\n",
       " '__file__',\n",
       " '__loader__',\n",
       " '__name__',\n",
       " '__package__',\n",
       " '__spec__',\n",
       " 'myadd',\n",
       " 'mydiv',\n",
       " 'mymul',\n",
       " 'mypow',\n",
       " 'mysub']"
      ]
     },
     "execution_count": 12,
     "metadata": {},
     "output_type": "execute_result"
    }
   ],
   "source": [
    "dir(packageDemo.package1.arithmetic)"
   ]
  },
  {
   "cell_type": "code",
   "execution_count": null,
   "id": "56e783fb",
   "metadata": {},
   "outputs": [],
   "source": []
  },
  {
   "cell_type": "code",
   "execution_count": 14,
   "id": "1005873a",
   "metadata": {},
   "outputs": [
    {
     "data": {
      "text/plain": [
       "11"
      ]
     },
     "execution_count": 14,
     "metadata": {},
     "output_type": "execute_result"
    }
   ],
   "source": [
    "packageDemo.package1.arithmetic.myadd(5,6)\n"
   ]
  },
  {
   "cell_type": "code",
   "execution_count": 15,
   "id": "d6275342",
   "metadata": {},
   "outputs": [
    {
     "data": {
      "text/plain": [
       "-1"
      ]
     },
     "execution_count": 15,
     "metadata": {},
     "output_type": "execute_result"
    }
   ],
   "source": [
    "packageDemo.package1.arithmetic.mysub(5,6)"
   ]
  },
  {
   "cell_type": "code",
   "execution_count": 16,
   "id": "602c9913",
   "metadata": {},
   "outputs": [
    {
     "data": {
      "text/plain": [
       "16"
      ]
     },
     "execution_count": 16,
     "metadata": {},
     "output_type": "execute_result"
    }
   ],
   "source": [
    "packageDemo.package1.arithmetic.mypow(2,4)"
   ]
  },
  {
   "cell_type": "code",
   "execution_count": null,
   "id": "d88f7bcf",
   "metadata": {},
   "outputs": [],
   "source": []
  },
  {
   "cell_type": "code",
   "execution_count": null,
   "id": "5e1bd766",
   "metadata": {},
   "outputs": [],
   "source": []
  },
  {
   "cell_type": "markdown",
   "id": "a007f8a6",
   "metadata": {},
   "source": [
    "**Using functions inside the arithmetic module**"
   ]
  },
  {
   "cell_type": "code",
   "execution_count": 17,
   "id": "b8ce0e66",
   "metadata": {},
   "outputs": [],
   "source": [
    "# import packageDemo.package1.arithmetic\n",
    "import packageDemo.package1.arithmetic"
   ]
  },
  {
   "cell_type": "code",
   "execution_count": 18,
   "id": "fdece88c",
   "metadata": {},
   "outputs": [
    {
     "data": {
      "text/plain": [
       "144"
      ]
     },
     "execution_count": 18,
     "metadata": {},
     "output_type": "execute_result"
    }
   ],
   "source": [
    "packageDemo.package1.arithmetic.mymul(12, 12)"
   ]
  },
  {
   "cell_type": "code",
   "execution_count": null,
   "id": "456a0b50",
   "metadata": {},
   "outputs": [],
   "source": []
  },
  {
   "cell_type": "code",
   "execution_count": null,
   "id": "6fbff1cc",
   "metadata": {},
   "outputs": [],
   "source": []
  },
  {
   "cell_type": "markdown",
   "id": "2768baf5",
   "metadata": {},
   "source": [
    "### import arithmetic module as an alias\n"
   ]
  },
  {
   "cell_type": "code",
   "execution_count": 20,
   "id": "3f2188a1",
   "metadata": {},
   "outputs": [],
   "source": [
    "import packageDemo.package1.arithmetic as abc"
   ]
  },
  {
   "cell_type": "code",
   "execution_count": 21,
   "id": "4120cecb",
   "metadata": {},
   "outputs": [
    {
     "data": {
      "text/plain": [
       "15"
      ]
     },
     "execution_count": 21,
     "metadata": {},
     "output_type": "execute_result"
    }
   ],
   "source": [
    "abc.mymul(3,5)"
   ]
  },
  {
   "cell_type": "code",
   "execution_count": 22,
   "id": "e971a05b",
   "metadata": {},
   "outputs": [
    {
     "data": {
      "text/plain": [
       "1024"
      ]
     },
     "execution_count": 22,
     "metadata": {},
     "output_type": "execute_result"
    }
   ],
   "source": [
    "abc.mypow(2,10)"
   ]
  },
  {
   "cell_type": "code",
   "execution_count": null,
   "id": "7a0734ad",
   "metadata": {},
   "outputs": [],
   "source": []
  },
  {
   "cell_type": "markdown",
   "id": "05645b43",
   "metadata": {},
   "source": [
    "### Just import arithmetic module from package1\n"
   ]
  },
  {
   "cell_type": "code",
   "execution_count": 23,
   "id": "d8b17a44",
   "metadata": {},
   "outputs": [],
   "source": [
    "# Just import arithmetic module from package1\n",
    "from packageDemo.package1 import arithmetic"
   ]
  },
  {
   "cell_type": "code",
   "execution_count": 24,
   "id": "15ec52be",
   "metadata": {},
   "outputs": [
    {
     "data": {
      "text/plain": [
       "-9"
      ]
     },
     "execution_count": 24,
     "metadata": {},
     "output_type": "execute_result"
    }
   ],
   "source": [
    "arithmetic.mysub(34,43)"
   ]
  },
  {
   "cell_type": "code",
   "execution_count": null,
   "id": "b13ae2f0",
   "metadata": {},
   "outputs": [],
   "source": []
  },
  {
   "cell_type": "markdown",
   "id": "893a9b26",
   "metadata": {},
   "source": [
    "### import all the functions of the arithmetic module\n"
   ]
  },
  {
   "cell_type": "code",
   "execution_count": 26,
   "id": "bca4f7a9",
   "metadata": {},
   "outputs": [],
   "source": [
    "# import all the functions of the arithmetic module\n",
    "from packageDemo.package1.arithmetic import *"
   ]
  },
  {
   "cell_type": "code",
   "execution_count": 27,
   "id": "f81f6170",
   "metadata": {},
   "outputs": [
    {
     "data": {
      "text/plain": [
       "12"
      ]
     },
     "execution_count": 27,
     "metadata": {},
     "output_type": "execute_result"
    }
   ],
   "source": [
    "myadd(3,9)"
   ]
  },
  {
   "cell_type": "code",
   "execution_count": 28,
   "id": "6f3d6178",
   "metadata": {},
   "outputs": [
    {
     "data": {
      "text/plain": [
       "1024"
      ]
     },
     "execution_count": 28,
     "metadata": {},
     "output_type": "execute_result"
    }
   ],
   "source": [
    "mypow(4,5)"
   ]
  },
  {
   "cell_type": "code",
   "execution_count": 29,
   "id": "6f712cb5",
   "metadata": {},
   "outputs": [
    {
     "name": "stdout",
     "output_type": "stream",
     "text": [
      "['Calculator', 'In', 'Mycalculator', 'Out', '_', '_10', '_11', '_12', '_13', '_14', '_15', '_16', '_18', '_21', '_22', '_24', '_27', '_28', '__', '___', '__builtin__', '__builtins__', '__doc__', '__loader__', '__name__', '__nonzero__', '__package__', '__spec__', '_dh', '_exit_code', '_i', '_i1', '_i10', '_i11', '_i12', '_i13', '_i14', '_i15', '_i16', '_i17', '_i18', '_i19', '_i2', '_i20', '_i21', '_i22', '_i23', '_i24', '_i25', '_i26', '_i27', '_i28', '_i29', '_i3', '_i4', '_i5', '_i6', '_i7', '_i8', '_i9', '_ih', '_ii', '_iii', '_oh', 'abc', 'arithmetic', 'exit', 'get_ipython', 'main', 'myadd', 'mydiv', 'mymul', 'mypow', 'mysub', 'open', 'packageDemo', 'quit']\n"
     ]
    }
   ],
   "source": [
    "print(dir())"
   ]
  },
  {
   "cell_type": "code",
   "execution_count": null,
   "id": "0ba25211",
   "metadata": {},
   "outputs": [],
   "source": []
  },
  {
   "cell_type": "code",
   "execution_count": null,
   "id": "86d9ca4f",
   "metadata": {},
   "outputs": [],
   "source": []
  },
  {
   "cell_type": "code",
   "execution_count": null,
   "id": "9e9afd07",
   "metadata": {},
   "outputs": [],
   "source": []
  },
  {
   "cell_type": "code",
   "execution_count": null,
   "id": "7c703ee5",
   "metadata": {},
   "outputs": [],
   "source": []
  },
  {
   "cell_type": "markdown",
   "id": "2dd4e544",
   "metadata": {},
   "source": [
    "**Using functions inside the comparison module**"
   ]
  },
  {
   "cell_type": "code",
   "execution_count": 30,
   "id": "5261b01a",
   "metadata": {},
   "outputs": [],
   "source": [
    "# import comparison module as an alias\n",
    "import packageDemo.package2.comparison as comp"
   ]
  },
  {
   "cell_type": "code",
   "execution_count": 31,
   "id": "53bc78d3",
   "metadata": {},
   "outputs": [
    {
     "data": {
      "text/plain": [
       "['__builtins__',\n",
       " '__cached__',\n",
       " '__doc__',\n",
       " '__file__',\n",
       " '__loader__',\n",
       " '__name__',\n",
       " '__package__',\n",
       " '__spec__',\n",
       " 'comparison']"
      ]
     },
     "execution_count": 31,
     "metadata": {},
     "output_type": "execute_result"
    }
   ],
   "source": [
    "dir(comp)"
   ]
  },
  {
   "cell_type": "code",
   "execution_count": 32,
   "id": "9054c9f5",
   "metadata": {},
   "outputs": [
    {
     "name": "stdout",
     "output_type": "stream",
     "text": [
      "Comparing both operand where x is  4 and y is  5\n",
      " x < y is:  True\n"
     ]
    }
   ],
   "source": [
    "comp.comparison(4,5)"
   ]
  },
  {
   "cell_type": "code",
   "execution_count": 33,
   "id": "ed5fdc0f",
   "metadata": {},
   "outputs": [
    {
     "name": "stdout",
     "output_type": "stream",
     "text": [
      "Comparing both operand where x is  85 and y is  46\n",
      " x > y is:  True\n"
     ]
    }
   ],
   "source": [
    "comp.comparison(85,46)"
   ]
  },
  {
   "cell_type": "code",
   "execution_count": null,
   "id": "4cfd497c",
   "metadata": {},
   "outputs": [],
   "source": []
  },
  {
   "cell_type": "code",
   "execution_count": null,
   "id": "8da755a2",
   "metadata": {},
   "outputs": [],
   "source": []
  },
  {
   "cell_type": "markdown",
   "id": "b8e355fb",
   "metadata": {},
   "source": [
    "**Using functions inside the bitcompare module**"
   ]
  },
  {
   "cell_type": "code",
   "execution_count": 34,
   "id": "22ad1554",
   "metadata": {},
   "outputs": [],
   "source": [
    "# import bitcompare module as an alias\n",
    "import packageDemo.package2.bitcompare as bits"
   ]
  },
  {
   "cell_type": "code",
   "execution_count": 35,
   "id": "4e8908f6",
   "metadata": {},
   "outputs": [
    {
     "data": {
      "text/plain": [
       "['__builtins__',\n",
       " '__cached__',\n",
       " '__doc__',\n",
       " '__file__',\n",
       " '__loader__',\n",
       " '__name__',\n",
       " '__package__',\n",
       " '__spec__',\n",
       " 'bitand',\n",
       " 'bitleft',\n",
       " 'bitnot',\n",
       " 'bitor',\n",
       " 'bitright',\n",
       " 'bitxor']"
      ]
     },
     "execution_count": 35,
     "metadata": {},
     "output_type": "execute_result"
    }
   ],
   "source": [
    "dir(bits)"
   ]
  },
  {
   "cell_type": "code",
   "execution_count": 36,
   "id": "329ee8cf",
   "metadata": {},
   "outputs": [
    {
     "name": "stdout",
     "output_type": "stream",
     "text": [
      "a & b is 4\n"
     ]
    }
   ],
   "source": [
    "bits.bitand(5,6)"
   ]
  },
  {
   "cell_type": "code",
   "execution_count": 37,
   "id": "f1e94909",
   "metadata": {},
   "outputs": [
    {
     "name": "stdout",
     "output_type": "stream",
     "text": [
      "a << b is 373833953443840\n"
     ]
    }
   ],
   "source": [
    "bits.bitleft(85,42)"
   ]
  },
  {
   "cell_type": "code",
   "execution_count": 38,
   "id": "91a3e038",
   "metadata": {},
   "outputs": [
    {
     "name": "stdout",
     "output_type": "stream",
     "text": [
      "~a is -9\n"
     ]
    }
   ],
   "source": [
    "bits.bitnot(8)"
   ]
  },
  {
   "cell_type": "code",
   "execution_count": 39,
   "id": "50c59129",
   "metadata": {},
   "outputs": [
    {
     "name": "stdout",
     "output_type": "stream",
     "text": [
      "a | b is 7\n",
      "x >> b is 0\n",
      "a ^ b is 82\n"
     ]
    }
   ],
   "source": [
    "bits.bitor(5,7)\n",
    "bits.bitright(96,458)\n",
    "bits.bitxor(86,4)"
   ]
  },
  {
   "cell_type": "code",
   "execution_count": null,
   "id": "200f52a6",
   "metadata": {},
   "outputs": [],
   "source": []
  },
  {
   "cell_type": "code",
   "execution_count": null,
   "id": "a82aa96a",
   "metadata": {},
   "outputs": [],
   "source": []
  },
  {
   "cell_type": "code",
   "execution_count": null,
   "id": "6bcd3103",
   "metadata": {},
   "outputs": [],
   "source": []
  },
  {
   "cell_type": "markdown",
   "id": "6b2ebd19",
   "metadata": {},
   "source": [
    "**Using functions of all the modules**"
   ]
  },
  {
   "cell_type": "code",
   "execution_count": 40,
   "id": "dba12689",
   "metadata": {},
   "outputs": [],
   "source": [
    "# now we will import all the functions of all the modules\n",
    "from packageDemo.package1 import *\n",
    "from packageDemo.package2 import *"
   ]
  },
  {
   "cell_type": "code",
   "execution_count": 41,
   "id": "4cf18cbb",
   "metadata": {},
   "outputs": [
    {
     "name": "stdout",
     "output_type": "stream",
     "text": [
      "Comparing both operand where x is  5 and y is  6\n",
      " x < y is:  True\n",
      "~a is -95\n"
     ]
    }
   ],
   "source": [
    "arithmetic.mypow(8,3)\n",
    "comparison.comparison(5,6)\n",
    "bitcompare.bitnot(94)"
   ]
  },
  {
   "cell_type": "code",
   "execution_count": 42,
   "id": "b75220b8",
   "metadata": {},
   "outputs": [
    {
     "name": "stdout",
     "output_type": "stream",
     "text": [
      "['Calculator', 'In', 'Mycalculator', 'Out', '_', '_10', '_11', '_12', '_13', '_14', '_15', '_16', '_18', '_21', '_22', '_24', '_27', '_28', '_31', '_35', '__', '___', '__builtin__', '__builtins__', '__doc__', '__loader__', '__name__', '__nonzero__', '__package__', '__spec__', '_dh', '_exit_code', '_i', '_i1', '_i10', '_i11', '_i12', '_i13', '_i14', '_i15', '_i16', '_i17', '_i18', '_i19', '_i2', '_i20', '_i21', '_i22', '_i23', '_i24', '_i25', '_i26', '_i27', '_i28', '_i29', '_i3', '_i30', '_i31', '_i32', '_i33', '_i34', '_i35', '_i36', '_i37', '_i38', '_i39', '_i4', '_i40', '_i41', '_i42', '_i5', '_i6', '_i7', '_i8', '_i9', '_ih', '_ii', '_iii', '_oh', 'abc', 'arithmetic', 'bitcompare', 'bits', 'comp', 'comparison', 'exit', 'get_ipython', 'main', 'myadd', 'mydiv', 'mymul', 'mypow', 'mysub', 'open', 'packageDemo', 'quit']\n"
     ]
    }
   ],
   "source": [
    "print(dir())"
   ]
  },
  {
   "cell_type": "code",
   "execution_count": 43,
   "id": "1c5404d2",
   "metadata": {},
   "outputs": [
    {
     "data": {
      "text/plain": [
       "'comparison'"
      ]
     },
     "execution_count": 43,
     "metadata": {},
     "output_type": "execute_result"
    }
   ],
   "source": [
    "comparison.comparison.__name__"
   ]
  },
  {
   "cell_type": "code",
   "execution_count": null,
   "id": "97976e01",
   "metadata": {},
   "outputs": [],
   "source": []
  },
  {
   "cell_type": "code",
   "execution_count": null,
   "id": "671974eb",
   "metadata": {},
   "outputs": [],
   "source": []
  },
  {
   "cell_type": "code",
   "execution_count": null,
   "id": "d8767e21",
   "metadata": {},
   "outputs": [],
   "source": []
  },
  {
   "cell_type": "code",
   "execution_count": 44,
   "id": "6ed54a57",
   "metadata": {},
   "outputs": [],
   "source": [
    "from packageDemo.package1 import arithmetic as arith\n",
    "from packageDemo.package2 import bitcompare as bits\n",
    "from packageDemo.package2 import comparison as comp"
   ]
  },
  {
   "cell_type": "code",
   "execution_count": null,
   "id": "8748596b",
   "metadata": {},
   "outputs": [],
   "source": []
  },
  {
   "cell_type": "code",
   "execution_count": null,
   "id": "a3ec2872",
   "metadata": {},
   "outputs": [],
   "source": []
  },
  {
   "cell_type": "code",
   "execution_count": null,
   "id": "510fba3e",
   "metadata": {},
   "outputs": [],
   "source": []
  },
  {
   "cell_type": "markdown",
   "id": "f39c90ce",
   "metadata": {},
   "source": [
    "## Check your Concepts\n",
    "\n",
    "Try answering the following questions to test your understanding of the topics covered in this notebook:\n",
    "1. What is a package in Python?\n",
    "2. What is the special file that each package in Python must contain?\n",
    "3. How do you delete a file in Python?\n",
    "4. Mention the commands and their syntax for the following: get current directory, changing directory, list, directories and files, make a new directory, renaming and removing directory."
   ]
  },
  {
   "cell_type": "code",
   "execution_count": 47,
   "id": "52219b60",
   "metadata": {},
   "outputs": [],
   "source": [
    "# import os \n",
    "# # os.getcwd()"
   ]
  },
  {
   "cell_type": "code",
   "execution_count": null,
   "id": "7c17f0ba",
   "metadata": {},
   "outputs": [],
   "source": []
  },
  {
   "cell_type": "code",
   "execution_count": null,
   "id": "437a58f8",
   "metadata": {},
   "outputs": [],
   "source": []
  },
  {
   "cell_type": "markdown",
   "id": "aaf6637e",
   "metadata": {},
   "source": [
    "## Practice Questions\n",
    "### Question no 01:\n",
    "Write a Python program to generate a random alphabetical string, random value between two integers (inclusive) and a random multiple of 7 between 0 and 10.    \n",
    "**Use random.randint()**"
   ]
  },
  {
   "cell_type": "code",
   "execution_count": 52,
   "id": "bef851b9",
   "metadata": {},
   "outputs": [],
   "source": [
    "import random\n",
    "import string"
   ]
  },
  {
   "cell_type": "code",
   "execution_count": 55,
   "id": "ff3b3206",
   "metadata": {},
   "outputs": [],
   "source": [
    "# random.randint(4,9)\n",
    "# random.randint(1,max_length)"
   ]
  },
  {
   "cell_type": "code",
   "execution_count": null,
   "id": "8e22303a",
   "metadata": {},
   "outputs": [],
   "source": []
  },
  {
   "cell_type": "code",
   "execution_count": 58,
   "id": "b1ab3336",
   "metadata": {},
   "outputs": [
    {
     "data": {
      "text/plain": [
       "'abcdefghijklmnopqrstuvwxyzABCDEFGHIJKLMNOPQRSTUVWXYZ'"
      ]
     },
     "execution_count": 58,
     "metadata": {},
     "output_type": "execute_result"
    }
   ],
   "source": [
    "string.ascii_letters"
   ]
  },
  {
   "cell_type": "code",
   "execution_count": 71,
   "id": "edcbb6a4",
   "metadata": {},
   "outputs": [],
   "source": [
    "import random\n",
    "import string\n",
    "# generate a random alphabetical string\n",
    "MAX_LENGTH = 255\n",
    "String = \"\"\n",
    "for i in range(random.randint(1,MAX_LENGTH)):\n",
    "#     here string.ascii_letters functions prints all the letters in both lower and upper case\n",
    "    String = String+random.choice(string.ascii_letters)\n"
   ]
  },
  {
   "cell_type": "code",
   "execution_count": 72,
   "id": "a3a98619",
   "metadata": {},
   "outputs": [
    {
     "name": "stdout",
     "output_type": "stream",
     "text": [
      "Random generated string is :  RrOYiiPLWhVinMBZEFbRYWvvEOsRERHAuFXauDsVJzFOkrfcioyIEawnowacKpSvTdZSWRfkUyBTXUJkXfiIqLQlxhWueGtdreyVSBmFdPZuFGrTavFbOjvqSGejvqWjJQFhEWgLVzyIdUbraOKOUKPPRueGJdSEityYZidsTBDSKTCKXkCfjuwsxdLJpUUWrqPCwmUCEbDTaRbGZpQuIUBVYMXblwvVLdAEaCnuBCxbSLyEYxfbkLNGKCtA\n"
     ]
    }
   ],
   "source": [
    "print(\"Random generated string is : \",String)"
   ]
  },
  {
   "cell_type": "code",
   "execution_count": 73,
   "id": "fd6e7d6c",
   "metadata": {},
   "outputs": [
    {
     "name": "stdout",
     "output_type": "stream",
     "text": [
      "Random value between 7 and 100 is :  77\n",
      "Random value between -33 and 1  is  -15\n",
      "Random value between 7 and 10 is :  10\n",
      "Random value between 79 and 100 is :  95\n",
      "Random multiple of 7 between 0 and 10 is :  28\n"
     ]
    }
   ],
   "source": [
    "print(\"Random value between 7 and 100 is : \", random.randint(7,100))\n",
    "print(\"Random value between -33 and 1  is \", random.randint(-33,1))\n",
    "print(\"Random value between 7 and 10 is : \", random.randint(7,10))\n",
    "print(\"Random value between 79 and 100 is : \", random.randint(79,100))\n",
    "print(\"Random multiple of 7 between 0 and 10 is : \", random.randint(0,10)*7)"
   ]
  },
  {
   "cell_type": "code",
   "execution_count": null,
   "id": "dec3f21c",
   "metadata": {},
   "outputs": [],
   "source": []
  },
  {
   "cell_type": "markdown",
   "id": "232fb8c8",
   "metadata": {},
   "source": [
    "### Question no 02:\n",
    "Write a Python program to select a random element from a list, set, dictionary (value) and a file from a directory.    \n",
    "**use random.choice()**"
   ]
  },
  {
   "cell_type": "code",
   "execution_count": 75,
   "id": "5e4841a6",
   "metadata": {},
   "outputs": [
    {
     "name": "stdout",
     "output_type": "stream",
     "text": [
      "Generate a random element from the list : \n",
      "8\n",
      "1\n",
      "4\n",
      "6\n"
     ]
    }
   ],
   "source": [
    "import random\n",
    "import os\n",
    "list1 = list(range(1,11))\n",
    "print(\"Generate a random element from the list : \")\n",
    "print(random.choice(list1))\n",
    "print(random.choice(list1))\n",
    "print(random.choice(list1))\n",
    "print(random.choice(list1))"
   ]
  },
  {
   "cell_type": "code",
   "execution_count": 76,
   "id": "5d8aa8bf",
   "metadata": {},
   "outputs": [
    {
     "name": "stdout",
     "output_type": "stream",
     "text": [
      "Generate a random element from the set : \n",
      "8\n",
      "1\n",
      "5\n"
     ]
    }
   ],
   "source": [
    "set1 = set(list1)\n",
    "# we cannot get elements from the set directly, to do this , first of all , we convert our set into tuple\n",
    "print(\"Generate a random element from the set : \")\n",
    "print(random.choice(tuple(set1)))\n",
    "print(random.choice(tuple(set1)))\n",
    "print(random.choice(tuple(set1)))"
   ]
  },
  {
   "cell_type": "code",
   "execution_count": 78,
   "id": "2c3112cf",
   "metadata": {},
   "outputs": [
    {
     "name": "stdout",
     "output_type": "stream",
     "text": [
      "Generate a random value from the dictionary : \n",
      "5\n",
      "2\n",
      "4\n"
     ]
    }
   ],
   "source": [
    "print(\"Generate a random value from the dictionary : \")\n",
    "d = {\"a\": 1, \"b\": 2, \"c\": 3, \"d\": 4, \"e\": 5}\n",
    "# list(d) function provides a list which contains all the keys of the dictionary\n",
    "key = random.choice(list(d))\n",
    "print(d[key])\n",
    "key = random.choice(list(d))\n",
    "print(d[key])\n",
    "key = random.choice(list(d))\n",
    "print(d[key])"
   ]
  },
  {
   "cell_type": "code",
   "execution_count": 79,
   "id": "61732c6e",
   "metadata": {},
   "outputs": [
    {
     "name": "stdout",
     "output_type": "stream",
     "text": [
      "List of all the files in the current working directory :  ['.ipynb_checkpoints', 'Lecture # 11.ipynb', 'data.py', 'mymodule.py', 'demomodule.py', '__pycache__', 'pathissue', 'myscript.py', 'UserData.py', 'Mycalculator.py', 'packageDemo']\n"
     ]
    }
   ],
   "source": [
    "listOfFiles = os.listdir()\n",
    "print(\"List of all the files in the current working directory : \", listOfFiles)"
   ]
  },
  {
   "cell_type": "code",
   "execution_count": 82,
   "id": "26329ba7",
   "metadata": {},
   "outputs": [
    {
     "name": "stdout",
     "output_type": "stream",
     "text": [
      "Select a random file from the directory : \n",
      "myscript.py\n"
     ]
    }
   ],
   "source": [
    "print(\"Select a random file from the directory : \")\n",
    "print(random.choice(listOfFiles))"
   ]
  },
  {
   "cell_type": "code",
   "execution_count": null,
   "id": "baeb97e9",
   "metadata": {},
   "outputs": [],
   "source": []
  }
 ],
 "metadata": {
  "kernelspec": {
   "display_name": "Python 3 (ipykernel)",
   "language": "python",
   "name": "python3"
  },
  "language_info": {
   "codemirror_mode": {
    "name": "ipython",
    "version": 3
   },
   "file_extension": ".py",
   "mimetype": "text/x-python",
   "name": "python",
   "nbconvert_exporter": "python",
   "pygments_lexer": "ipython3",
   "version": "3.8.10"
  }
 },
 "nbformat": 4,
 "nbformat_minor": 5
}
