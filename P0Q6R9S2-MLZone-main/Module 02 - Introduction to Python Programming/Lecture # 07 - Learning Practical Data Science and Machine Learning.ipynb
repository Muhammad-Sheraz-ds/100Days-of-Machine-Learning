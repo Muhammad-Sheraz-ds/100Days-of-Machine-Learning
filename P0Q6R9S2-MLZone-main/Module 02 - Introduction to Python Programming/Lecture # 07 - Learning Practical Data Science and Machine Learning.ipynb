{
 "cells": [
  {
   "cell_type": "markdown",
   "id": "a6651c01",
   "metadata": {},
   "source": [
    "<img src=\"images/intro-7.png\" height=1000px width=1000px>\n"
   ]
  },
  {
   "cell_type": "code",
   "execution_count": null,
   "id": "b748f37e",
   "metadata": {},
   "outputs": [],
   "source": []
  },
  {
   "cell_type": "code",
   "execution_count": null,
   "id": "e35327a5",
   "metadata": {},
   "outputs": [],
   "source": []
  },
  {
   "cell_type": "code",
   "execution_count": null,
   "id": "41ebd0d1",
   "metadata": {},
   "outputs": [],
   "source": []
  },
  {
   "cell_type": "markdown",
   "id": "95de41a5",
   "metadata": {},
   "source": [
    "## _Python-Dictionaries.ipynb_\n",
    "#### [Click me to learn more about Python Dictionaries](https://www.geeksforgeeks.org/python-dictionary/)"
   ]
  },
  {
   "cell_type": "markdown",
   "id": "3594553d",
   "metadata": {},
   "source": [
    "<img align=\"center\" width=\"800\" height=\"800\"  src=\"images/datatypes1.png\" > "
   ]
  },
  {
   "cell_type": "code",
   "execution_count": null,
   "id": "muslim-outreach",
   "metadata": {},
   "outputs": [],
   "source": []
  },
  {
   "cell_type": "code",
   "execution_count": null,
   "id": "careful-nashville",
   "metadata": {},
   "outputs": [],
   "source": []
  },
  {
   "cell_type": "markdown",
   "id": "68ab91ba",
   "metadata": {},
   "source": [
    "- A Dictionary object  is created by placing comma separated `key:value` pairs in curly braces.\n",
    "- The keys of a dictionary has to be unique and can be of heterogeneous immutable types only (int, string or tuple).\n",
    "- The values can be duplicated and can be of heterogeneous types (mutable + immutable).\n",
    "- From Python version 3.7 onwards, dictionaries are ordered, however, are not indexed like Lists rather indexed on key values.\n",
    "- The dictionaries are used when you have to store million of `key:value` pairs and want to search a value given the key efficiently."
   ]
  },
  {
   "cell_type": "markdown",
   "id": "9631b1a8",
   "metadata": {},
   "source": [
    "<img align=\"center\" width=\"900\" height=\"900\"  src=\"images/dict_main.png\" > "
   ]
  },
  {
   "cell_type": "code",
   "execution_count": null,
   "id": "33bcffb3",
   "metadata": {},
   "outputs": [],
   "source": []
  },
  {
   "cell_type": "code",
   "execution_count": null,
   "id": "09b58e99",
   "metadata": {},
   "outputs": [],
   "source": []
  },
  {
   "cell_type": "code",
   "execution_count": null,
   "id": "2f426672",
   "metadata": {},
   "outputs": [],
   "source": []
  },
  {
   "cell_type": "code",
   "execution_count": null,
   "id": "4556ca6d",
   "metadata": {},
   "outputs": [],
   "source": []
  },
  {
   "cell_type": "code",
   "execution_count": null,
   "id": "d1b6fff8",
   "metadata": {},
   "outputs": [],
   "source": []
  },
  {
   "cell_type": "markdown",
   "id": "7c109b0c",
   "metadata": {},
   "source": [
    "## Learning agenda of this notebook\n",
    "* **Motivation to use Dictionary**\n",
    "1. How to create dictionaries?\n",
    "2. Proof of concepts\n",
    "3. Accessing elements of a dictionary\n",
    "4. Adding/Modifying elements of a dictionary\n",
    "5. Removing elements from a dictionary\n",
    "6. Dictionary, tuple and list conversions\n",
    "7. Sorting Dictionary values\n",
    "8. Aliasing vs Shallow Copy vs Deep Copy"
   ]
  },
  {
   "cell_type": "code",
   "execution_count": null,
   "id": "20690d1d",
   "metadata": {},
   "outputs": [],
   "source": [
    "# help(dict)"
   ]
  },
  {
   "cell_type": "markdown",
   "id": "dbc7a471",
   "metadata": {},
   "source": [
    "## Motivation to use Dictionary"
   ]
  },
  {
   "cell_type": "markdown",
   "id": "familiar-investment",
   "metadata": {},
   "source": [
    "Let's solve a problem to see benefits of dictionary.  \n",
    "How you can get marks of a specific student by using both lists students and name.  "
   ]
  },
  {
   "cell_type": "code",
   "execution_count": null,
   "id": "swedish-recycling",
   "metadata": {},
   "outputs": [],
   "source": []
  },
  {
   "cell_type": "code",
   "execution_count": null,
   "id": "6ca016ed",
   "metadata": {},
   "outputs": [],
   "source": [
    "students = ['Ehtisham', 'Ali', 'Ayesha', 'Dua', 'Adeen']\n",
    "\n",
    "marks = [81, 52, 70, 74, 78]"
   ]
  },
  {
   "cell_type": "code",
   "execution_count": null,
   "id": "487c1667",
   "metadata": {},
   "outputs": [],
   "source": [
    "students, marks"
   ]
  },
  {
   "cell_type": "code",
   "execution_count": null,
   "id": "c24ca06b",
   "metadata": {},
   "outputs": [],
   "source": [
    "# students[3], marks[3]"
   ]
  },
  {
   "cell_type": "code",
   "execution_count": null,
   "id": "f367aa72",
   "metadata": {},
   "outputs": [],
   "source": []
  },
  {
   "cell_type": "code",
   "execution_count": null,
   "id": "eb279140",
   "metadata": {},
   "outputs": [],
   "source": []
  },
  {
   "cell_type": "code",
   "execution_count": null,
   "id": "nuclear-forge",
   "metadata": {},
   "outputs": [],
   "source": [
    "def get_marks(name):\n",
    "    index = students.index(name)\n",
    "    return marks[index]\n",
    "get_marks('Ali Sadiq')"
   ]
  },
  {
   "cell_type": "code",
   "execution_count": null,
   "id": "aboriginal-faculty",
   "metadata": {},
   "outputs": [],
   "source": []
  },
  {
   "cell_type": "code",
   "execution_count": null,
   "id": "34db3d36",
   "metadata": {},
   "outputs": [],
   "source": []
  },
  {
   "cell_type": "code",
   "execution_count": null,
   "id": "f5c49657",
   "metadata": {},
   "outputs": [],
   "source": []
  },
  {
   "cell_type": "code",
   "execution_count": null,
   "id": "unavailable-jewel",
   "metadata": {},
   "outputs": [],
   "source": []
  },
  {
   "cell_type": "markdown",
   "id": "78d11dc1",
   "metadata": {},
   "source": [
    "## 1. How to create Dictionaries?\n",
    "- A Dictionary object  is created by placing comma separated `key:value` pairs in curly braces.\n",
    "- The keys of a dictionary has to be unique and can be of heterogeneous immutable types only (int, string or tuple).\n",
    "- The values can be duplicated and can be of heterogeneous types (mutable + immutable)."
   ]
  },
  {
   "cell_type": "code",
   "execution_count": null,
   "id": "88801cf7",
   "metadata": {},
   "outputs": [],
   "source": [
    "# A dictionary with string keys, and integer values, showing age of person\n",
    "dict1 = {\n",
    "    'Ehtisham':51, \n",
    "    'Ali':52, \n",
    "    'Dua':22,\n",
    "}"
   ]
  },
  {
   "cell_type": "code",
   "execution_count": null,
   "id": "bfe72b4c",
   "metadata": {},
   "outputs": [],
   "source": [
    "dict1['Dua']"
   ]
  },
  {
   "cell_type": "code",
   "execution_count": null,
   "id": "c3b8bc22",
   "metadata": {},
   "outputs": [],
   "source": [
    "print(dict1)"
   ]
  },
  {
   "cell_type": "code",
   "execution_count": null,
   "id": "39167ec3",
   "metadata": {},
   "outputs": [],
   "source": [
    "print(type(dict1))\n",
    "\n",
    "print(id(dict1))"
   ]
  },
  {
   "cell_type": "code",
   "execution_count": null,
   "id": "6a5b06ed",
   "metadata": {},
   "outputs": [],
   "source": []
  },
  {
   "cell_type": "code",
   "execution_count": null,
   "id": "d3322b9d",
   "metadata": {},
   "outputs": [],
   "source": []
  },
  {
   "cell_type": "code",
   "execution_count": null,
   "id": "4eaf7468",
   "metadata": {},
   "outputs": [],
   "source": [
    "# A dictionary with integer keys, and string values, showing a symbol table generated by compiler\n",
    "dict2 = {\n",
    "    2580:'var1', \n",
    "    2582:'var2', \n",
    "    2586:'var3'\n",
    "}\n",
    "dict2"
   ]
  },
  {
   "cell_type": "code",
   "execution_count": null,
   "id": "0c046b53",
   "metadata": {},
   "outputs": [],
   "source": [
    "print(type(dict2))\n",
    "print(id(dict2))"
   ]
  },
  {
   "cell_type": "code",
   "execution_count": null,
   "id": "1a3db222",
   "metadata": {},
   "outputs": [],
   "source": []
  },
  {
   "cell_type": "code",
   "execution_count": null,
   "id": "28246b4b",
   "metadata": {},
   "outputs": [],
   "source": [
    "# dictionary with mixed keys (immutable types only)\n",
    "dict3 = {\n",
    "    'name': 'ali', \n",
    "    1: 10,\n",
    "    'abc':25,\n",
    "    33: 'xyz'\n",
    "}\n",
    "print(dict3)"
   ]
  },
  {
   "cell_type": "code",
   "execution_count": null,
   "id": "2b837716",
   "metadata": {},
   "outputs": [],
   "source": [
    "# creating dictionary using dict() method\n",
    "dict4 = dict({1: 'hello', 2: 'bye'})\n",
    "dict4"
   ]
  },
  {
   "cell_type": "code",
   "execution_count": null,
   "id": "42a9682a",
   "metadata": {},
   "outputs": [],
   "source": [
    "# Creating an empty dictionary\n",
    "dict5 = dict()\n",
    "dict5"
   ]
  },
  {
   "cell_type": "code",
   "execution_count": null,
   "id": "northern-webmaster",
   "metadata": {},
   "outputs": [],
   "source": []
  },
  {
   "cell_type": "code",
   "execution_count": null,
   "id": "e5aa7f0f",
   "metadata": {},
   "outputs": [],
   "source": [
    "# other way to create empty dictionary\n",
    "dict6 = {}\n",
    "dict6"
   ]
  },
  {
   "cell_type": "code",
   "execution_count": null,
   "id": "banner-demonstration",
   "metadata": {},
   "outputs": [],
   "source": []
  },
  {
   "cell_type": "code",
   "execution_count": null,
   "id": "012edf44",
   "metadata": {},
   "outputs": [],
   "source": []
  },
  {
   "cell_type": "code",
   "execution_count": null,
   "id": "c3f8c253",
   "metadata": {},
   "outputs": [],
   "source": []
  },
  {
   "cell_type": "code",
   "execution_count": null,
   "id": "82597fbb",
   "metadata": {},
   "outputs": [],
   "source": [
    "# A list of two object tuples can also be used to create dictionaries\n",
    "\n",
    "# A list of two object tuples\n",
    "# [('name', 'Ehtisham'), ('age',22), ('city', 'Okara')]\n",
    "\n",
    "\n",
    "dict7 = dict([('name', 'Ehtisham'), ('age',22), ('city', 'Okara')])\n",
    "\n",
    "\n",
    "dict7"
   ]
  },
  {
   "cell_type": "code",
   "execution_count": null,
   "id": "eastern-salvation",
   "metadata": {},
   "outputs": [],
   "source": []
  },
  {
   "cell_type": "code",
   "execution_count": null,
   "id": "2eb93dee",
   "metadata": {},
   "outputs": [],
   "source": []
  },
  {
   "cell_type": "code",
   "execution_count": null,
   "id": "3a16c491",
   "metadata": {},
   "outputs": [],
   "source": []
  },
  {
   "cell_type": "code",
   "execution_count": null,
   "id": "30482124",
   "metadata": {},
   "outputs": [],
   "source": []
  },
  {
   "cell_type": "code",
   "execution_count": null,
   "id": "c950b493",
   "metadata": {},
   "outputs": [],
   "source": []
  },
  {
   "cell_type": "markdown",
   "id": "d6ec8ad7",
   "metadata": {},
   "source": [
    "## 2. Proof of concepts"
   ]
  },
  {
   "cell_type": "markdown",
   "id": "feba67cb",
   "metadata": {},
   "source": [
    "### a. Dictionary allows Duplicate Values"
   ]
  },
  {
   "cell_type": "code",
   "execution_count": null,
   "id": "36c560ea",
   "metadata": {},
   "outputs": [],
   "source": [
    "# Duplicate values are allowed\n",
    "d1 = {\n",
    "    'name1' : 'ali',\n",
    "     'name2' : 'ali'\n",
    "     }\n",
    "d1"
   ]
  },
  {
   "cell_type": "code",
   "execution_count": null,
   "id": "c9f4a431",
   "metadata": {},
   "outputs": [],
   "source": []
  },
  {
   "cell_type": "code",
   "execution_count": null,
   "id": "24a24def",
   "metadata": {},
   "outputs": [],
   "source": []
  },
  {
   "cell_type": "markdown",
   "id": "241ef2e0",
   "metadata": {},
   "source": [
    "### b. Dictionary DOESNOT allows Duplicate Keys"
   ]
  },
  {
   "cell_type": "code",
   "execution_count": null,
   "id": "873aa251",
   "metadata": {},
   "outputs": [],
   "source": [
    "# Duplicate keys are not allowed\n",
    "# This will not raise an error, but will overwrite the value corresponding to the key\n",
    "d1 = { \n",
    "     'name' : 'ali',\n",
    "     'name' : 'ehtisham',\n",
    "     'name' : 'AYESHA'\n",
    "     }\n",
    "d1"
   ]
  },
  {
   "cell_type": "code",
   "execution_count": null,
   "id": "30a05a42",
   "metadata": {},
   "outputs": [],
   "source": []
  },
  {
   "cell_type": "code",
   "execution_count": null,
   "id": "d614dda8",
   "metadata": {},
   "outputs": [],
   "source": []
  },
  {
   "cell_type": "markdown",
   "id": "37e2a7a2",
   "metadata": {},
   "source": [
    "### c. Keys inside Dictionaries Must be of Immutable data types\n",
    "- The keys of a dictionary has to be of immutable data type (number, string, tuple)"
   ]
  },
  {
   "cell_type": "code",
   "execution_count": null,
   "id": "f6c829c1",
   "metadata": {},
   "outputs": [],
   "source": [
    "# Tuple being immutable can be used as a key\n",
    "d1 = {\n",
    "        'ali':'name', \n",
    "      (60, 78, 83): 'marks' \n",
    "     }\n",
    "d1"
   ]
  },
  {
   "cell_type": "code",
   "execution_count": null,
   "id": "d79ebe78",
   "metadata": {},
   "outputs": [],
   "source": []
  },
  {
   "cell_type": "code",
   "execution_count": null,
   "id": "f9a511cd",
   "metadata": {},
   "outputs": [],
   "source": []
  },
  {
   "cell_type": "code",
   "execution_count": null,
   "id": "dd02a56d",
   "metadata": {},
   "outputs": [],
   "source": []
  },
  {
   "cell_type": "code",
   "execution_count": null,
   "id": "fbcf6824",
   "metadata": {},
   "outputs": [],
   "source": [
    "# List being mutable cannot be used as a key\n",
    "d1 = {\n",
    "      'ali':'name', \n",
    "    \n",
    "      [60, 78, 83]:'marks' \n",
    "     }\n",
    "d1"
   ]
  },
  {
   "cell_type": "code",
   "execution_count": null,
   "id": "3e478d0f",
   "metadata": {},
   "outputs": [],
   "source": []
  },
  {
   "cell_type": "code",
   "execution_count": null,
   "id": "0d2bb4ee",
   "metadata": {},
   "outputs": [],
   "source": []
  },
  {
   "cell_type": "markdown",
   "id": "b6b79f18",
   "metadata": {},
   "source": [
    "### d. Values inside Dictionaies can be of mutable/immutable data type"
   ]
  },
  {
   "cell_type": "code",
   "execution_count": null,
   "id": "707b1982",
   "metadata": {},
   "outputs": [],
   "source": [
    "# List being mutable can be used as a value\n",
    "d1 = {\n",
    "     'name':'Ali', \n",
    "      'marks':[60,78,83] \n",
    "     }\n",
    "d1"
   ]
  },
  {
   "cell_type": "code",
   "execution_count": null,
   "id": "848acae1",
   "metadata": {},
   "outputs": [],
   "source": [
    "# Tuple being immutable can also be used as a value\n",
    "d1 = {\n",
    "    'name':'ali', \n",
    "      'marks': (60,78,83) \n",
    "     }\n",
    "d1"
   ]
  },
  {
   "cell_type": "code",
   "execution_count": null,
   "id": "fae6b8cb",
   "metadata": {},
   "outputs": [],
   "source": []
  },
  {
   "cell_type": "code",
   "execution_count": null,
   "id": "2f50c75e",
   "metadata": {},
   "outputs": [],
   "source": []
  },
  {
   "cell_type": "markdown",
   "id": "b4736b44",
   "metadata": {},
   "source": [
    "### e. Dictionaries are heterogeneous\n",
    "- The keys of a dictionary can be of integer, string, or tuple type\n",
    "- The values of a dictionary can be of any data type"
   ]
  },
  {
   "cell_type": "code",
   "execution_count": null,
   "id": "554ca278",
   "metadata": {},
   "outputs": [],
   "source": [
    "dict3 = {\n",
    "    'name': 'ali', \n",
    "    1: 10,\n",
    "    'abc':25,\n",
    "    33: 'xyz'\n",
    "}\n",
    "dict3"
   ]
  },
  {
   "cell_type": "code",
   "execution_count": null,
   "id": "b5e6c1c2",
   "metadata": {},
   "outputs": [],
   "source": []
  },
  {
   "cell_type": "code",
   "execution_count": null,
   "id": "d3d1ae84",
   "metadata": {},
   "outputs": [],
   "source": []
  },
  {
   "cell_type": "markdown",
   "id": "dd3c355e",
   "metadata": {},
   "source": [
    "### f. Dictionaries can be nested to arbitrary depth"
   ]
  },
  {
   "cell_type": "code",
   "execution_count": null,
   "id": "silver-visibility",
   "metadata": {},
   "outputs": [],
   "source": []
  },
  {
   "cell_type": "code",
   "execution_count": null,
   "id": "6b41d82a",
   "metadata": {},
   "outputs": [],
   "source": [
    "# Creating a Nested Dictionary\n",
    "dict7 = {\n",
    "        'name':'ehtisham', \n",
    "         'status':'ML Engineer',\n",
    "        'address':{'house#' : 35, 'area' : 'Pak Villas Housing Society', 'city' : 'Okara'},\n",
    "         'phone': '03460000000'\n",
    "        }\n",
    "# print(dict7)\n",
    "dict7"
   ]
  },
  {
   "cell_type": "code",
   "execution_count": null,
   "id": "b5b7e7d7",
   "metadata": {},
   "outputs": [],
   "source": []
  },
  {
   "cell_type": "code",
   "execution_count": null,
   "id": "least-yemen",
   "metadata": {},
   "outputs": [],
   "source": [
    "# dict7['address']"
   ]
  },
  {
   "cell_type": "code",
   "execution_count": null,
   "id": "67ed1312",
   "metadata": {},
   "outputs": [],
   "source": []
  },
  {
   "cell_type": "code",
   "execution_count": null,
   "id": "ac8d780f",
   "metadata": {},
   "outputs": [],
   "source": []
  },
  {
   "cell_type": "markdown",
   "id": "bdfb8c5d",
   "metadata": {},
   "source": [
    "### g. Dictionaries from Python 3.7 onward are ordered\n",
    "- From Python 3.7 onwards, dictionaries are guranteed to be in insertion ordered. i.e., every time you access dictionary elements they will show up in same sequence. \n",
    "- However, like string, list, and tuple, the elements of a dictionary are not associated by an index\n",
    "- Moreover, two dictionaries having same key-value pairs are two different objects"
   ]
  },
  {
   "cell_type": "code",
   "execution_count": null,
   "id": "f588c165",
   "metadata": {},
   "outputs": [],
   "source": [
    "d1 = {\n",
    "    'Ehtisham':51, \n",
    "    'ali':52, \n",
    "    'dua':20\n",
    "}\n",
    "d1"
   ]
  },
  {
   "cell_type": "code",
   "execution_count": null,
   "id": "8d46063a",
   "metadata": {},
   "outputs": [],
   "source": [
    "d2 = {\n",
    "    'Ehtisham':51, \n",
    "    'ali':52, \n",
    "    'dua':20\n",
    "}\n",
    "d2\n"
   ]
  },
  {
   "cell_type": "code",
   "execution_count": null,
   "id": "b96d10b2",
   "metadata": {},
   "outputs": [],
   "source": [
    "d3 = {\n",
    "    'Ehtisham':52, \n",
    "    'dua':20,\n",
    "    'Ehtisham':51\n",
    "}\n",
    "\n",
    "print(id(d1), id(d2), id(d3))"
   ]
  },
  {
   "cell_type": "code",
   "execution_count": null,
   "id": "8ca22785",
   "metadata": {},
   "outputs": [],
   "source": []
  },
  {
   "cell_type": "code",
   "execution_count": null,
   "id": "68b1201d",
   "metadata": {},
   "outputs": [],
   "source": []
  },
  {
   "cell_type": "markdown",
   "id": "11c05fb2",
   "metadata": {},
   "source": [
    "## 3. Accessing Elements of a Dictionary"
   ]
  },
  {
   "cell_type": "markdown",
   "id": "f79228bc",
   "metadata": {},
   "source": [
    "### a. Retrieving a `value`of a Dictionary given a `key`\n",
    "- Given a key, you can retrieve corresponding value from a dictionary using two ways:\n",
    "    - Use key inside `[]` operator\n",
    "    - Pass the key as argument to `dict.get(key)` method"
   ]
  },
  {
   "cell_type": "code",
   "execution_count": null,
   "id": "af560a31",
   "metadata": {},
   "outputs": [],
   "source": [
    "d1 = {\n",
    "    'name':'Ehisham', \n",
    "    'age':22, \n",
    "    'address':'Pak Villas', \n",
    "    'marks':[60, 75, 80]\n",
    "}\n",
    "d1"
   ]
  },
  {
   "cell_type": "code",
   "execution_count": null,
   "id": "06df71ad",
   "metadata": {},
   "outputs": [],
   "source": [
    "d1['address']"
   ]
  },
  {
   "cell_type": "code",
   "execution_count": null,
   "id": "43c4a5ff",
   "metadata": {},
   "outputs": [],
   "source": [
    "d1.get('marks')"
   ]
  },
  {
   "cell_type": "code",
   "execution_count": null,
   "id": "8998ef84",
   "metadata": {},
   "outputs": [],
   "source": [
    "# d1[\"123\"]\n",
    "d1.get(\"123\")"
   ]
  },
  {
   "cell_type": "code",
   "execution_count": null,
   "id": "aaf68533",
   "metadata": {},
   "outputs": [],
   "source": []
  },
  {
   "cell_type": "code",
   "execution_count": null,
   "id": "6a813da5",
   "metadata": {},
   "outputs": [],
   "source": []
  },
  {
   "cell_type": "code",
   "execution_count": null,
   "id": "83dd66cb",
   "metadata": {},
   "outputs": [],
   "source": []
  },
  {
   "cell_type": "markdown",
   "id": "248a9a51",
   "metadata": {},
   "source": [
    "**To retrieve a value from a nested dictionary**"
   ]
  },
  {
   "cell_type": "code",
   "execution_count": null,
   "id": "c7bcc139",
   "metadata": {},
   "outputs": [],
   "source": [
    "d2 = {\n",
    "        'name':'ehtisham', \n",
    "         'status':'ML Engineer',\n",
    "        'address':{'house#' : 35, \n",
    "                   'area' : 'Pak Villas Housing Society', \n",
    "                   'city' : 'Okara'},\n",
    "         'phone': '03460000000'\n",
    "        }\n",
    " \n",
    "d2"
   ]
  },
  {
   "cell_type": "code",
   "execution_count": null,
   "id": "a08ce2d1",
   "metadata": {},
   "outputs": [],
   "source": [
    "d2['address']"
   ]
  },
  {
   "cell_type": "code",
   "execution_count": null,
   "id": "3ffa6521",
   "metadata": {},
   "outputs": [],
   "source": [
    "d2['address']['city']"
   ]
  },
  {
   "cell_type": "code",
   "execution_count": null,
   "id": "61ead2f6",
   "metadata": {},
   "outputs": [],
   "source": [
    "d2.get('address')['city']"
   ]
  },
  {
   "cell_type": "code",
   "execution_count": null,
   "id": "7aea3ab9",
   "metadata": {},
   "outputs": [],
   "source": [
    "d2.get('address').get('city')"
   ]
  },
  {
   "cell_type": "code",
   "execution_count": null,
   "id": "a2a0b87c",
   "metadata": {},
   "outputs": [],
   "source": []
  },
  {
   "cell_type": "code",
   "execution_count": null,
   "id": "86cc71f1",
   "metadata": {},
   "outputs": [],
   "source": []
  },
  {
   "cell_type": "markdown",
   "id": "46c467b5",
   "metadata": {},
   "source": [
    "### c. Retrieving all `key:value` pairs from a Dictionary using `dict.items()`  method\n",
    "- The `dict.items()` method returns all the key-value pairs of a dictionary as a two object tuple"
   ]
  },
  {
   "cell_type": "code",
   "execution_count": null,
   "id": "a5a898cd",
   "metadata": {},
   "outputs": [],
   "source": [
    "help(dict.items)"
   ]
  },
  {
   "cell_type": "code",
   "execution_count": null,
   "id": "f3b13815",
   "metadata": {},
   "outputs": [],
   "source": [
    "# Creating a Nested Dictionary\n",
    "d1 = {\n",
    "        'name':'ehtisham', \n",
    "         'status':'ML Engineer',\n",
    "        'address':{'house#' : 35, 'area' : 'Pak Villas Housing Society', 'city' : 'Okara'},\n",
    "         'phone': '03460000000'\n",
    "        }\n",
    " \n",
    "d1"
   ]
  },
  {
   "cell_type": "code",
   "execution_count": null,
   "id": "4a03894e",
   "metadata": {},
   "outputs": [],
   "source": []
  },
  {
   "cell_type": "code",
   "execution_count": null,
   "id": "57cfcf35",
   "metadata": {},
   "outputs": [],
   "source": []
  },
  {
   "cell_type": "code",
   "execution_count": null,
   "id": "63929986",
   "metadata": {},
   "outputs": [],
   "source": [
    "l1 = d1.items()\n",
    "l1"
   ]
  },
  {
   "cell_type": "code",
   "execution_count": null,
   "id": "enclosed-plain",
   "metadata": {},
   "outputs": [],
   "source": [
    "# for key,value in l1:\n",
    "#     if d1[key] == \"ehtisham\":\n",
    "#         print(key)"
   ]
  },
  {
   "cell_type": "code",
   "execution_count": null,
   "id": "ba0b8fb2",
   "metadata": {},
   "outputs": [],
   "source": []
  },
  {
   "cell_type": "code",
   "execution_count": null,
   "id": "2be49ab4",
   "metadata": {},
   "outputs": [],
   "source": []
  },
  {
   "cell_type": "markdown",
   "id": "b1b75815",
   "metadata": {},
   "source": [
    "### d. Retrieving all `keys` of a Dictionary using `dict.keys()`  method\n",
    "- The `dict.keys()` method returns all the keys  of a dictionary object"
   ]
  },
  {
   "cell_type": "code",
   "execution_count": null,
   "id": "757ddbcd",
   "metadata": {},
   "outputs": [],
   "source": [
    "d1 = {\n",
    "    'name':'Ehtisham', \n",
    "    'age':22, \n",
    "    'address':'Pak Villas', \n",
    "    'marks':[60, 75, 80]\n",
    "}"
   ]
  },
  {
   "cell_type": "code",
   "execution_count": null,
   "id": "9a202981",
   "metadata": {},
   "outputs": [],
   "source": [
    "d1.keys()"
   ]
  },
  {
   "cell_type": "code",
   "execution_count": null,
   "id": "aa0e2a19",
   "metadata": {},
   "outputs": [],
   "source": []
  },
  {
   "cell_type": "markdown",
   "id": "9bd002d9",
   "metadata": {},
   "source": [
    "### e. Retrieving all `values` from a Dictionary using `dict.values()`  method\n",
    "- The `dict.values()` method returns all the values  of a dict object\n",
    "- If a value occurs multiple times in the dictionary, it will appear that many times"
   ]
  },
  {
   "cell_type": "code",
   "execution_count": null,
   "id": "521ab72a",
   "metadata": {},
   "outputs": [],
   "source": [
    "d1 = {\n",
    "    'name':'Ehtisham', \n",
    "    'age':22, \n",
    "    'address':'Pak Villas', \n",
    "    'marks':[60, 75, 80]\n",
    "}"
   ]
  },
  {
   "cell_type": "code",
   "execution_count": null,
   "id": "7a1fc953",
   "metadata": {},
   "outputs": [],
   "source": [
    "d1.values()"
   ]
  },
  {
   "cell_type": "code",
   "execution_count": null,
   "id": "25a88787",
   "metadata": {},
   "outputs": [],
   "source": []
  },
  {
   "cell_type": "code",
   "execution_count": null,
   "id": "8cca4321",
   "metadata": {},
   "outputs": [],
   "source": []
  },
  {
   "cell_type": "markdown",
   "id": "c8bf8328",
   "metadata": {},
   "source": [
    "## 4. Adding/Modifying Elements of a Dictionary"
   ]
  },
  {
   "cell_type": "markdown",
   "id": "b3baf5f7",
   "metadata": {},
   "source": [
    "### a. Adding/Modifying Elements using `[]` Operator\n",
    "- You can  modify value associated with a key using `[]` operator and assignment statement\n",
    "```\n",
    "dict[key] = value\n",
    "```\n",
    "- If the key donot already exist, a new key:value is inserted in the dictionary"
   ]
  },
  {
   "cell_type": "code",
   "execution_count": null,
   "id": "ee36941b",
   "metadata": {},
   "outputs": [],
   "source": [
    "d1 = {\n",
    "    'name':'Ehtisham', \n",
    "    'age':22, \n",
    "    'address':'Pak Villas', \n",
    "    'marks':[60, 75, 80]\n",
    "}\n",
    "d1"
   ]
  },
  {
   "cell_type": "code",
   "execution_count": null,
   "id": "9ab55d28",
   "metadata": {},
   "outputs": [],
   "source": [
    "# Modify value corresponding to an existing key\n",
    "d1['address'] = 'Township'\n",
    "d1"
   ]
  },
  {
   "cell_type": "code",
   "execution_count": null,
   "id": "eb507d6e",
   "metadata": {},
   "outputs": [],
   "source": [
    "# Adding a new key:value pair\n",
    "d1['key1'] = 'value1'\n",
    "d1"
   ]
  },
  {
   "cell_type": "code",
   "execution_count": null,
   "id": "0dd767d2",
   "metadata": {},
   "outputs": [],
   "source": []
  },
  {
   "cell_type": "code",
   "execution_count": null,
   "id": "dfe03f31",
   "metadata": {},
   "outputs": [],
   "source": []
  },
  {
   "cell_type": "markdown",
   "id": "e40d6d74",
   "metadata": {},
   "source": [
    "### b. Modifying Elements using `d1.update()` method \n",
    "- The `d1.update()` method is used to update the value corresponding to an existing key inside the dictionary\n",
    "```\n",
    "dict.update(key:value)\n",
    "```\n",
    "- If the key donot already exist, a new key:value is inserted in the dictionary"
   ]
  },
  {
   "cell_type": "code",
   "execution_count": null,
   "id": "be36f778",
   "metadata": {},
   "outputs": [],
   "source": [
    "# Create a simple dictionary\n",
    "d1 = {\n",
    "    'name':'Ali', \n",
    "    'age':20, \n",
    "    'address':'Pak Villas', \n",
    "    'marks':[60, 75, 80]\n",
    "}\n",
    "d1"
   ]
  },
  {
   "cell_type": "code",
   "execution_count": null,
   "id": "4f7f5acf",
   "metadata": {},
   "outputs": [],
   "source": [
    "# Modify value corresponding to an existing key\n",
    "d1.update({'name':'Ehtisham Sadiq'})\n",
    "d1"
   ]
  },
  {
   "cell_type": "code",
   "execution_count": null,
   "id": "f4427151",
   "metadata": {},
   "outputs": [],
   "source": [
    "# Adding a new key:value pair\n",
    "d1.update({'key2':'value2'})\n",
    "d1"
   ]
  },
  {
   "cell_type": "code",
   "execution_count": null,
   "id": "ab9c89e1",
   "metadata": {},
   "outputs": [],
   "source": []
  },
  {
   "cell_type": "code",
   "execution_count": null,
   "id": "821a1358",
   "metadata": {},
   "outputs": [],
   "source": []
  },
  {
   "cell_type": "markdown",
   "id": "202c78c0",
   "metadata": {},
   "source": [
    "**You can use the `dict.update()` method to merge two dictionaries**"
   ]
  },
  {
   "cell_type": "code",
   "execution_count": null,
   "id": "fbd84bff",
   "metadata": {},
   "outputs": [],
   "source": [
    "d1 = {\n",
    "    'name':'Ehtisham Sadiq', \n",
    "    'age':22, \n",
    "}\n",
    "\n",
    "d2 = {\n",
    "    'address':'Pak Villas', \n",
    "    'marks':[60, 75, 80],\n",
    "    'age':21\n",
    "}"
   ]
  },
  {
   "cell_type": "code",
   "execution_count": null,
   "id": "21a4621f",
   "metadata": {},
   "outputs": [],
   "source": [
    "d1.update(d2)\n",
    "d1"
   ]
  },
  {
   "cell_type": "code",
   "execution_count": null,
   "id": "8c6eac59",
   "metadata": {},
   "outputs": [],
   "source": []
  },
  {
   "cell_type": "code",
   "execution_count": null,
   "id": "49d5efb0",
   "metadata": {},
   "outputs": [],
   "source": []
  },
  {
   "cell_type": "markdown",
   "id": "77a3ec17",
   "metadata": {},
   "source": [
    "## 5. Removing Elements from a Dictionary"
   ]
  },
  {
   "cell_type": "markdown",
   "id": "bee8de58",
   "metadata": {},
   "source": [
    "### a. Removing Element using `[]` operator\n",
    "- To delete a dictionary element use the `del d1[key]` \n",
    "- To delete an entire dictionary from memory use `del d1` "
   ]
  },
  {
   "cell_type": "code",
   "execution_count": null,
   "id": "17874e8f",
   "metadata": {},
   "outputs": [],
   "source": [
    "d1 = {\n",
    "    'name':'Ali', \n",
    "    'age':20, \n",
    "    'address':'Pak Villas', \n",
    "    'marks':[60, 75, 80]\n",
    "}\n",
    "d1"
   ]
  },
  {
   "cell_type": "code",
   "execution_count": null,
   "id": "d581d04d",
   "metadata": {},
   "outputs": [],
   "source": [
    "del d1['age']\n",
    "d1"
   ]
  },
  {
   "cell_type": "code",
   "execution_count": null,
   "id": "96f35fe3",
   "metadata": {},
   "outputs": [],
   "source": [
    "#this will delete the whole directory\n",
    "del d1\n",
    "print(d1)  # will generate an error now"
   ]
  },
  {
   "cell_type": "code",
   "execution_count": null,
   "id": "809028b5",
   "metadata": {},
   "outputs": [],
   "source": []
  },
  {
   "cell_type": "code",
   "execution_count": null,
   "id": "32cd7173",
   "metadata": {},
   "outputs": [],
   "source": []
  },
  {
   "cell_type": "markdown",
   "id": "689320ac",
   "metadata": {},
   "source": [
    "### b. Removing Element using `d1.popitem()` Method\n",
    "- The `d1.popitem()` removes and returns a (key,value) pair as a 2-tuple\n",
    "- Pairs are returned in LIFO order, i.e., last inserted element is returned\n",
    "- Raises KeyError if the dict is empty"
   ]
  },
  {
   "cell_type": "code",
   "execution_count": null,
   "id": "5be61226",
   "metadata": {},
   "outputs": [],
   "source": [
    "d1 = {\n",
    "    'name':'Ehtisham', \n",
    "    'age':22, \n",
    "    'address':'Pak Villas', \n",
    "    'marks':[60, 75, 80]\n",
    "}\n",
    "d1"
   ]
  },
  {
   "cell_type": "code",
   "execution_count": null,
   "id": "ultimate-iraqi",
   "metadata": {},
   "outputs": [],
   "source": []
  },
  {
   "cell_type": "code",
   "execution_count": null,
   "id": "0c4776fe",
   "metadata": {},
   "outputs": [],
   "source": [
    "d1.popitem()"
   ]
  },
  {
   "cell_type": "code",
   "execution_count": null,
   "id": "coastal-location",
   "metadata": {},
   "outputs": [],
   "source": [
    "d1"
   ]
  },
  {
   "cell_type": "code",
   "execution_count": null,
   "id": "reduced-mortgage",
   "metadata": {},
   "outputs": [],
   "source": []
  },
  {
   "cell_type": "code",
   "execution_count": null,
   "id": "aba9d471",
   "metadata": {},
   "outputs": [],
   "source": [
    "d1.popitem()"
   ]
  },
  {
   "cell_type": "code",
   "execution_count": null,
   "id": "c089f60f",
   "metadata": {},
   "outputs": [],
   "source": [
    "d1"
   ]
  },
  {
   "cell_type": "code",
   "execution_count": null,
   "id": "rolled-lawyer",
   "metadata": {},
   "outputs": [],
   "source": [
    "d1.popitem()"
   ]
  },
  {
   "cell_type": "code",
   "execution_count": null,
   "id": "historical-mozambique",
   "metadata": {},
   "outputs": [],
   "source": [
    "d1.popitem()"
   ]
  },
  {
   "cell_type": "code",
   "execution_count": null,
   "id": "7394cd29",
   "metadata": {},
   "outputs": [],
   "source": [
    "d1.popitem()"
   ]
  },
  {
   "cell_type": "code",
   "execution_count": null,
   "id": "bea3c844",
   "metadata": {},
   "outputs": [],
   "source": []
  },
  {
   "cell_type": "code",
   "execution_count": null,
   "id": "96a7aa0c",
   "metadata": {},
   "outputs": [],
   "source": []
  },
  {
   "cell_type": "code",
   "execution_count": null,
   "id": "1e08ebfd",
   "metadata": {},
   "outputs": [],
   "source": []
  },
  {
   "cell_type": "code",
   "execution_count": null,
   "id": "3a886e9b",
   "metadata": {},
   "outputs": [],
   "source": []
  },
  {
   "cell_type": "markdown",
   "id": "a67d9031",
   "metadata": {},
   "source": [
    "### c. Removing Element using `d1.pop(key)` Method\n",
    "- The `d1.pop(key)` returns the value only of the key passed as its required argument\n",
    "- Moreover, the corresponding key-value pair is also removed from the dictionary\n",
    "- If key is not found a KeyError is raised"
   ]
  },
  {
   "cell_type": "code",
   "execution_count": null,
   "id": "2463a560",
   "metadata": {},
   "outputs": [],
   "source": [
    "d1 = {\n",
    "    'name':'Ehtisham', \n",
    "    'age':22, \n",
    "    'address':'Pak Villas', \n",
    "    'marks':[60, 75, 80]\n",
    "}\n",
    "d1"
   ]
  },
  {
   "cell_type": "code",
   "execution_count": null,
   "id": "803ccb1b",
   "metadata": {},
   "outputs": [],
   "source": [
    "d1.pop('name')"
   ]
  },
  {
   "cell_type": "code",
   "execution_count": null,
   "id": "1acdedb0",
   "metadata": {},
   "outputs": [],
   "source": [
    "d1"
   ]
  },
  {
   "cell_type": "code",
   "execution_count": null,
   "id": "9c8bf117",
   "metadata": {},
   "outputs": [],
   "source": [
    "d1.pop('nok?ey') #This will raise an error"
   ]
  },
  {
   "cell_type": "code",
   "execution_count": null,
   "id": "52b0bf76",
   "metadata": {},
   "outputs": [],
   "source": []
  },
  {
   "cell_type": "code",
   "execution_count": null,
   "id": "c4e8928a",
   "metadata": {},
   "outputs": [],
   "source": []
  },
  {
   "cell_type": "code",
   "execution_count": null,
   "id": "ca72e6c6",
   "metadata": {},
   "outputs": [],
   "source": []
  },
  {
   "cell_type": "markdown",
   "id": "f54b5f0b",
   "metadata": {},
   "source": [
    "### d. Removing Element using `d1.clear()` Method\n",
    "- The `d1.clear()` removes all items from the dictionary and returns None"
   ]
  },
  {
   "cell_type": "code",
   "execution_count": null,
   "id": "52892e03",
   "metadata": {},
   "outputs": [],
   "source": [
    "d1 = {\n",
    "    'name':'Ehtisham', \n",
    "    'age':22, \n",
    "    'address':'Pak Villas', \n",
    "    'marks':[60, 75, 80]\n",
    "}\n",
    "d1"
   ]
  },
  {
   "cell_type": "code",
   "execution_count": null,
   "id": "a3781586",
   "metadata": {},
   "outputs": [],
   "source": [
    "d1.clear()"
   ]
  },
  {
   "cell_type": "code",
   "execution_count": null,
   "id": "c2651f02",
   "metadata": {},
   "outputs": [],
   "source": [
    "d1"
   ]
  },
  {
   "cell_type": "code",
   "execution_count": null,
   "id": "dee2d1d3",
   "metadata": {},
   "outputs": [],
   "source": [
    "id(d1)"
   ]
  },
  {
   "cell_type": "code",
   "execution_count": null,
   "id": "db592fff",
   "metadata": {},
   "outputs": [],
   "source": []
  },
  {
   "cell_type": "code",
   "execution_count": null,
   "id": "a21cc3a3",
   "metadata": {},
   "outputs": [],
   "source": []
  },
  {
   "cell_type": "code",
   "execution_count": null,
   "id": "a04104ed",
   "metadata": {},
   "outputs": [],
   "source": []
  },
  {
   "cell_type": "code",
   "execution_count": null,
   "id": "d7145153",
   "metadata": {},
   "outputs": [],
   "source": []
  },
  {
   "cell_type": "markdown",
   "id": "0f4dd1c2",
   "metadata": {},
   "source": [
    "## 6. Dictionary, Tuple and List conversions"
   ]
  },
  {
   "cell_type": "code",
   "execution_count": null,
   "id": "24e78729",
   "metadata": {},
   "outputs": [],
   "source": [
    "# Create a simple dictionary for these operations\n",
    "d1 = {\n",
    "    'Name': 'Ehtisham', \n",
    "    'Sex': 'Male', \n",
    "    'Age': 22, \n",
    "    'Height': 5.7, \n",
    "    'Profession': 'ML Engineer'\n",
    "}\n",
    "d1"
   ]
  },
  {
   "cell_type": "code",
   "execution_count": null,
   "id": "5f5ac187",
   "metadata": {},
   "outputs": [],
   "source": [
    "# The items() method, returns an object of dict_items containing two value tuples\n",
    "rv = d1.items()"
   ]
  },
  {
   "cell_type": "code",
   "execution_count": null,
   "id": "dd646c23",
   "metadata": {},
   "outputs": [],
   "source": [
    "print(rv)\n",
    "print(\"\\n\", type(rv))"
   ]
  },
  {
   "cell_type": "code",
   "execution_count": null,
   "id": "3c4b5ecf",
   "metadata": {},
   "outputs": [],
   "source": []
  },
  {
   "cell_type": "code",
   "execution_count": null,
   "id": "26e3bf6b",
   "metadata": {},
   "outputs": [],
   "source": [
    "# You can convert dictionary key-value pairs into a tuple containing two valued tuples\n",
    "t1 = tuple(d1.items())\n",
    "print(t1)\n",
    "print(\"\\n\", type(t1))"
   ]
  },
  {
   "cell_type": "code",
   "execution_count": null,
   "id": "268e3881",
   "metadata": {},
   "outputs": [],
   "source": []
  },
  {
   "cell_type": "code",
   "execution_count": null,
   "id": "783483d9",
   "metadata": {},
   "outputs": [],
   "source": []
  },
  {
   "cell_type": "code",
   "execution_count": null,
   "id": "668a6735",
   "metadata": {},
   "outputs": [],
   "source": [
    "d1.keys()"
   ]
  },
  {
   "cell_type": "code",
   "execution_count": null,
   "id": "6908b650",
   "metadata": {},
   "outputs": [],
   "source": [
    "#converting dictionary keys only into a tuple\n",
    "t1 = tuple(d1.keys())\n",
    "print(t1)\n",
    "print(\"\\n\", type(t1))"
   ]
  },
  {
   "cell_type": "code",
   "execution_count": null,
   "id": "fa39aa38",
   "metadata": {},
   "outputs": [],
   "source": []
  },
  {
   "cell_type": "code",
   "execution_count": null,
   "id": "15862e7e",
   "metadata": {},
   "outputs": [],
   "source": []
  },
  {
   "cell_type": "code",
   "execution_count": null,
   "id": "a040924f",
   "metadata": {},
   "outputs": [],
   "source": [
    "#converting dictionary values only into a list\n",
    "mylist = list(d1.values())\n",
    "print(\"\\n\", mylist)\n",
    "print(type(mylist))"
   ]
  },
  {
   "cell_type": "code",
   "execution_count": null,
   "id": "c6b388a6",
   "metadata": {},
   "outputs": [],
   "source": []
  },
  {
   "cell_type": "code",
   "execution_count": null,
   "id": "31230bc9",
   "metadata": {},
   "outputs": [],
   "source": []
  },
  {
   "cell_type": "markdown",
   "id": "af8f68ac",
   "metadata": {},
   "source": [
    "## 7. Sorting a Dictionary by Values\n",
    "- We can use the built-in function `sorted(iterable)` to get a sorted copy of a dictionary (by value). \n",
    "- The `sorted(iterable)` returns a sorted version of the iterable, without making any change to the iterable. \n",
    "- It's syntax is quite similar to `list.sort()` method, however, the iterator to be sorted needs to be passed as a required parameteras shown below:\n",
    "```\n",
    "    sorted(iterable, key=None, reverse=False)\n",
    "```\n",
    "- By default the `reverse` argument is `False`, you override the default behavior by passing a `True` value to this argument to perform a descending sort\n",
    "- A custom key function can also be supplied to customize the sort order."
   ]
  },
  {
   "cell_type": "markdown",
   "id": "81562a11",
   "metadata": {},
   "source": [
    "**Consider the following dictionary having `names` as keys and `marks` as values**"
   ]
  },
  {
   "cell_type": "code",
   "execution_count": null,
   "id": "0a29a9b7",
   "metadata": {},
   "outputs": [],
   "source": [
    "dict1 = {\n",
    "        'Ehtisham': 81, \n",
    "         'Ayesha':90, \n",
    "        'Ali':76, \n",
    "        'Dua':73,\n",
    "         'Khubaib':93, \n",
    "        }\n",
    "dict1"
   ]
  },
  {
   "cell_type": "code",
   "execution_count": null,
   "id": "37a29315",
   "metadata": {},
   "outputs": [],
   "source": [
    "sorted(dict1, reverse=True)"
   ]
  },
  {
   "cell_type": "code",
   "execution_count": null,
   "id": "509de2b8",
   "metadata": {},
   "outputs": [],
   "source": [
    "sorted(dict1)"
   ]
  },
  {
   "cell_type": "code",
   "execution_count": null,
   "id": "7aef3ad2",
   "metadata": {},
   "outputs": [],
   "source": []
  },
  {
   "cell_type": "code",
   "execution_count": null,
   "id": "1eceeecf",
   "metadata": {},
   "outputs": [],
   "source": []
  },
  {
   "cell_type": "markdown",
   "id": "ec112673",
   "metadata": {},
   "source": [
    "**When you pass a dictionary object to the `sorted()` function, it will return the list of sorted dictionary keys**"
   ]
  },
  {
   "cell_type": "code",
   "execution_count": null,
   "id": "342246d7",
   "metadata": {},
   "outputs": [],
   "source": [
    "d2 = sorted(dict1)\n",
    "d2"
   ]
  },
  {
   "cell_type": "markdown",
   "id": "1bad6321",
   "metadata": {},
   "source": [
    "**You can pass the keys only to the `sorted()` function, to do the above task**"
   ]
  },
  {
   "cell_type": "code",
   "execution_count": null,
   "id": "homeless-catering",
   "metadata": {},
   "outputs": [],
   "source": [
    "dict1.keys()"
   ]
  },
  {
   "cell_type": "code",
   "execution_count": null,
   "id": "66df17d9",
   "metadata": {},
   "outputs": [],
   "source": [
    "d2 = sorted(dict1.keys())\n",
    "d2"
   ]
  },
  {
   "cell_type": "code",
   "execution_count": null,
   "id": "fcd4d89b",
   "metadata": {},
   "outputs": [],
   "source": []
  },
  {
   "cell_type": "code",
   "execution_count": null,
   "id": "d849c2a0",
   "metadata": {},
   "outputs": [],
   "source": []
  },
  {
   "cell_type": "markdown",
   "id": "30acac88",
   "metadata": {},
   "source": [
    "**Similarly you can pass the values only to the `sorted()` function, and it will return the list of sorted values**"
   ]
  },
  {
   "cell_type": "code",
   "execution_count": null,
   "id": "second-boring",
   "metadata": {},
   "outputs": [],
   "source": [
    "dict1.values()"
   ]
  },
  {
   "cell_type": "code",
   "execution_count": null,
   "id": "ae007f27",
   "metadata": {},
   "outputs": [],
   "source": [
    "d2 = sorted(dict1.values())\n",
    "d2"
   ]
  },
  {
   "cell_type": "code",
   "execution_count": null,
   "id": "0bceee34",
   "metadata": {},
   "outputs": [],
   "source": []
  },
  {
   "cell_type": "code",
   "execution_count": null,
   "id": "e3e097c9",
   "metadata": {},
   "outputs": [],
   "source": []
  },
  {
   "cell_type": "code",
   "execution_count": null,
   "id": "04c4bbf0",
   "metadata": {},
   "outputs": [],
   "source": []
  },
  {
   "cell_type": "markdown",
   "id": "295bbb71",
   "metadata": {},
   "source": [
    "**Let us do customized sorting with Python Dictionaries**"
   ]
  },
  {
   "cell_type": "markdown",
   "id": "53bf33d8",
   "metadata": {},
   "source": [
    "**Example 1: Suppose we have a dictionary containing student names along with their marks and we want to sort the dictionary by highest marks of the students first**"
   ]
  },
  {
   "cell_type": "code",
   "execution_count": null,
   "id": "89b0a8ab",
   "metadata": {},
   "outputs": [],
   "source": [
    "dict1 = {'Ehtisham': 81, \n",
    "         'Ayesha':90, \n",
    "        'Ali':76, \n",
    "        'Dua':73,\n",
    "         'Adeen':93, \n",
    "        }\n",
    "\n",
    "\n",
    "ls = dict1.items()\n",
    "ls"
   ]
  },
  {
   "cell_type": "code",
   "execution_count": null,
   "id": "electronic-marble",
   "metadata": {},
   "outputs": [],
   "source": [
    "for i in ls:\n",
    "    print(type(i))\n",
    "    print(i)\n",
    "    print(\"\\n\")"
   ]
  },
  {
   "cell_type": "code",
   "execution_count": null,
   "id": "77b05206",
   "metadata": {},
   "outputs": [],
   "source": [
    "for i in ls:\n",
    "    print(i[1])"
   ]
  },
  {
   "cell_type": "code",
   "execution_count": null,
   "id": "technical-finnish",
   "metadata": {},
   "outputs": [],
   "source": [
    "help(sorted)"
   ]
  },
  {
   "cell_type": "code",
   "execution_count": null,
   "id": "republican-fetish",
   "metadata": {
    "scrolled": true
   },
   "outputs": [],
   "source": [
    "# dict1.items()\n",
    "for m in dict1.items():\n",
    "    print(m)"
   ]
  },
  {
   "cell_type": "code",
   "execution_count": null,
   "id": "a0e128a4",
   "metadata": {},
   "outputs": [],
   "source": [
    "# Function receives a key:value tuple (key, value) and returns the value\n",
    "def func1(item):\n",
    "    return item[1]"
   ]
  },
  {
   "cell_type": "code",
   "execution_count": null,
   "id": "559de624",
   "metadata": {},
   "outputs": [],
   "source": [
    "mylist = sorted(dict1.items(), key = func1, reverse=True)\n",
    "\n",
    "print(mylist)"
   ]
  },
  {
   "cell_type": "code",
   "execution_count": null,
   "id": "6c89711c",
   "metadata": {},
   "outputs": [],
   "source": []
  },
  {
   "cell_type": "markdown",
   "id": "ff2fc3e3",
   "metadata": {},
   "source": [
    "Note the `sorted()` function returned a list object in which each element is a two valued tuple having (key,value) pairs. You can always typecast such lists to a dictionary object"
   ]
  },
  {
   "cell_type": "code",
   "execution_count": null,
   "id": "5eb1c717",
   "metadata": {},
   "outputs": [],
   "source": [
    "sorted_dict = dict(mylist)\n",
    "print(sorted_dict)"
   ]
  },
  {
   "cell_type": "code",
   "execution_count": null,
   "id": "1bc663ac",
   "metadata": {},
   "outputs": [],
   "source": [
    "type(sorted_dict)"
   ]
  },
  {
   "cell_type": "code",
   "execution_count": null,
   "id": "d3f35107",
   "metadata": {},
   "outputs": [],
   "source": []
  },
  {
   "cell_type": "code",
   "execution_count": null,
   "id": "cffe8333",
   "metadata": {},
   "outputs": [],
   "source": []
  },
  {
   "cell_type": "code",
   "execution_count": null,
   "id": "ec95e260",
   "metadata": {},
   "outputs": [],
   "source": []
  },
  {
   "cell_type": "markdown",
   "id": "6a575f97",
   "metadata": {},
   "source": [
    "**Example 2: Suppose we have a JSON array containing name, age and grades of students. We want to sort it by the age of the students.**\n",
    "- JSON stands for JavaScript Object Notation\n",
    "- JSON is a text format for storing and transporting data\n",
    "- A JSON string has comma separated `key:value` pairs"
   ]
  },
  {
   "cell_type": "code",
   "execution_count": null,
   "id": "25db9c4a",
   "metadata": {},
   "outputs": [],
   "source": [
    "# The following JSON array defines a student object with 3 properties: `name`, `age`, and `grade`\n",
    "# It is actually a list containing dictionary objects each object containing three key:value pairs\n",
    "students = [\n",
    "         {\"name\": \"Ehtisham\", \"age\": 22, \"grade\": \"B\"},\n",
    "         {\"name\": \"Ali\", \"age\": 20, \"grade\": \"A\"},\n",
    "         {\"name\": \"Ayesha\", \"age\": 17, \"grade\": \"C\"},\n",
    "         {\"name\": \"Dua\", \"age\": 7, \"grade\": \"D\"},\n",
    "         {\"name\": \"Adeen\", \"age\": 3, \"grade\": \"A\"},\n",
    "         {\"name\": \"Khubaib\", \"age\": 5, \"grade\": \"B\"}\n",
    "        ]\n",
    "students"
   ]
  },
  {
   "cell_type": "code",
   "execution_count": null,
   "id": "de97a063",
   "metadata": {},
   "outputs": [],
   "source": [
    "# sorted(students)"
   ]
  },
  {
   "cell_type": "code",
   "execution_count": null,
   "id": "593b1bca",
   "metadata": {},
   "outputs": [],
   "source": [
    "for i in students:\n",
    "    print(i)\n",
    "    print(i.get('age'))\n",
    "    print(i.get('grade'))\n",
    "    print(\"\\n\")"
   ]
  },
  {
   "cell_type": "code",
   "execution_count": null,
   "id": "3969365a",
   "metadata": {},
   "outputs": [],
   "source": []
  },
  {
   "cell_type": "code",
   "execution_count": null,
   "id": "fb671395",
   "metadata": {},
   "outputs": [],
   "source": []
  },
  {
   "cell_type": "code",
   "execution_count": null,
   "id": "b5f46b71",
   "metadata": {},
   "outputs": [],
   "source": [
    "# Function receives a dictionary object and returns the value corresponding to key age in that dictionary\n",
    "def func2(item):\n",
    "     return item.get('age') #return item['age']"
   ]
  },
  {
   "cell_type": "code",
   "execution_count": null,
   "id": "1439f43f",
   "metadata": {},
   "outputs": [],
   "source": []
  },
  {
   "cell_type": "code",
   "execution_count": null,
   "id": "df0ecc5f",
   "metadata": {},
   "outputs": [],
   "source": [
    "sorted_students = sorted(students, key = func2, reverse=True)\n",
    "\n",
    "sorted_students"
   ]
  },
  {
   "cell_type": "code",
   "execution_count": null,
   "id": "5a48be47",
   "metadata": {},
   "outputs": [],
   "source": []
  },
  {
   "cell_type": "code",
   "execution_count": null,
   "id": "4f60cdc2",
   "metadata": {},
   "outputs": [],
   "source": [
    "# dict10 = dict(sorted_students)"
   ]
  },
  {
   "cell_type": "markdown",
   "id": "6e45acd9",
   "metadata": {},
   "source": [
    "Note the `sorted()` function returned a list object in which each element is a dictionary object having three key:value pairs"
   ]
  },
  {
   "cell_type": "code",
   "execution_count": null,
   "id": "73bea17b",
   "metadata": {},
   "outputs": [],
   "source": []
  },
  {
   "cell_type": "markdown",
   "id": "c0f4a519",
   "metadata": {},
   "source": [
    "## 8. Simple Assignment (aliasing) vs Shallow Copy vs Deep Copy"
   ]
  },
  {
   "cell_type": "markdown",
   "id": "4aac33b0",
   "metadata": {},
   "source": [
    "### a. Aliasing: Making an Alias of a List object using simple Assignment `=` Operator\n",
    "- In Python, we use `=` operator to create a copy/alias of an object. \n",
    "- Remember it doesnot create a new object, rather creates a new variable that shares the reference of the original object."
   ]
  },
  {
   "cell_type": "code",
   "execution_count": null,
   "id": "17189b7d",
   "metadata": {},
   "outputs": [],
   "source": [
    "dict1 = {'Ehtisham': 81, \n",
    "         'Ayesha':90, \n",
    "        'Ali':76, \n",
    "        'Dua':73,\n",
    "         'Adeen':93, \n",
    "        }\n",
    "print(dict1)"
   ]
  },
  {
   "cell_type": "code",
   "execution_count": null,
   "id": "bbe13a17",
   "metadata": {},
   "outputs": [],
   "source": [
    "dict2 = dict1\n",
    "\n",
    "# Both references point to same memory object, so have the same ID\n",
    "print('ID of dict1:', id(dict1))\n",
    "print('ID of dict2:', id(dict2))"
   ]
  },
  {
   "cell_type": "code",
   "execution_count": null,
   "id": "5b03fc97",
   "metadata": {},
   "outputs": [],
   "source": []
  },
  {
   "cell_type": "code",
   "execution_count": null,
   "id": "7962e717",
   "metadata": {},
   "outputs": [],
   "source": [
    "# If you modify an element of one object, the change will be visible in both\n",
    "dict2[\"Khubaib\"] = 100\n",
    "\n",
    "print('\\ndict1:', dict1)\n",
    "print('dict2:', dict2)\n"
   ]
  },
  {
   "cell_type": "code",
   "execution_count": null,
   "id": "d99f2c2d",
   "metadata": {},
   "outputs": [],
   "source": []
  },
  {
   "cell_type": "code",
   "execution_count": null,
   "id": "5fabd87f",
   "metadata": {},
   "outputs": [],
   "source": []
  },
  {
   "cell_type": "code",
   "execution_count": null,
   "id": "03cefc9d",
   "metadata": {},
   "outputs": [],
   "source": []
  },
  {
   "cell_type": "markdown",
   "id": "ae7c3184",
   "metadata": {},
   "source": [
    "### b. Shallow Copy\n",
    "- We have used the `copy.copy()` method of copy module to create a shallow copy of List objects in our previous session\n",
    "- To create a shallow copy of a list or dictionary, we can also use `copy()` method of List and Dictionary objects."
   ]
  },
  {
   "cell_type": "code",
   "execution_count": null,
   "id": "d09fb369",
   "metadata": {},
   "outputs": [],
   "source": [
    "import copy\n",
    "dict1 = {'Ehtisham': 81, \n",
    "         'Ayesha':90, \n",
    "        'Ali':76, \n",
    "        'Dua':73,\n",
    "         'Adeen':93, \n",
    "        }\n",
    "print(dict1)"
   ]
  },
  {
   "cell_type": "code",
   "execution_count": null,
   "id": "0b29ceb8",
   "metadata": {},
   "outputs": [],
   "source": [
    "#dict2 = copy.copy(dict1)\n",
    "dict2 = dict1.copy()\n",
    "\n",
    "\n",
    "# Both variables point to different memory objects, so have the different ID\n",
    "print('ID of dict1:', id(dict1))\n",
    "print('ID of dict2:', id(dict2))"
   ]
  },
  {
   "cell_type": "code",
   "execution_count": null,
   "id": "21a71cfd",
   "metadata": {},
   "outputs": [],
   "source": []
  },
  {
   "cell_type": "code",
   "execution_count": null,
   "id": "4095a88e",
   "metadata": {},
   "outputs": [],
   "source": [
    "# If you modify an element of one object, the change will NOT be visible in other\n",
    "dict2[\"Khubaib\"] = 100\n",
    "\n",
    "print('\\ndict1:', dict1)\n",
    "print('dict2:', dict2)\n"
   ]
  },
  {
   "cell_type": "code",
   "execution_count": null,
   "id": "42137530",
   "metadata": {},
   "outputs": [],
   "source": []
  },
  {
   "cell_type": "code",
   "execution_count": null,
   "id": "c6abbbb1",
   "metadata": {},
   "outputs": [],
   "source": []
  },
  {
   "cell_type": "markdown",
   "id": "5d06c019",
   "metadata": {},
   "source": [
    "**This seems woking fine, then why this is called shallow copy**"
   ]
  },
  {
   "cell_type": "markdown",
   "id": "bed7ee06",
   "metadata": {},
   "source": [
    "**Limitation of Shallow Copy**\n",
    "- The word Shallow copy comes in picture when there is some object in dictionary like list or user define objects instead of primitive datatypes.\n",
    "- The limitation of shallow copy is that it does not create a copy of nested objects, instead it just copies the reference of nested objects. This means, a copy process does not recurse or create copies of nested objects itself.\n",
    "- Let us understand this by an example"
   ]
  },
  {
   "cell_type": "code",
   "execution_count": null,
   "id": "be8025d4",
   "metadata": {},
   "outputs": [],
   "source": [
    "import copy\n",
    "dict1 = {'Ehtisham': 81, \n",
    "         'Ayesha':90, \n",
    "        'Ali':[55, 66, 77],  #note we have a list of marks as a dictionary value\n",
    "        'Dua':73,\n",
    "         'Adeen':93, \n",
    "        }\n",
    "print(dict1)"
   ]
  },
  {
   "cell_type": "code",
   "execution_count": null,
   "id": "66d2d321",
   "metadata": {},
   "outputs": [],
   "source": [
    "#dict2 = copy.copy(dict1)\n",
    "dict2 = dict1.copy()\n",
    "\n",
    "\n",
    "# Both variables point to different memory objects, so have the different ID\n",
    "print('ID of dict1:', id(dict1))\n",
    "print('ID of dict2:', id(dict2))"
   ]
  },
  {
   "cell_type": "code",
   "execution_count": null,
   "id": "3d3e4915",
   "metadata": {},
   "outputs": [],
   "source": []
  },
  {
   "cell_type": "code",
   "execution_count": null,
   "id": "44adc1ca",
   "metadata": {},
   "outputs": [],
   "source": [
    "# If you modify a nested element of one object, the change will be visible in both\n",
    "# This is the limitation of shallow copy\n",
    "\n",
    "dict2[\"Ali\"][1] = 0\n",
    "\n",
    "print('\\ndict1:', dict1)\n",
    "print('\\ndict2:', dict2)\n"
   ]
  },
  {
   "cell_type": "code",
   "execution_count": null,
   "id": "4b043281",
   "metadata": {},
   "outputs": [],
   "source": []
  },
  {
   "cell_type": "code",
   "execution_count": null,
   "id": "3a3364d4",
   "metadata": {},
   "outputs": [],
   "source": []
  },
  {
   "cell_type": "markdown",
   "id": "f24c4ad9",
   "metadata": {},
   "source": [
    "- **Marks of student 'Ali' has been changed in both :(**\n",
    "- **So in case of a dictionary having primitive datatypes, the shallow copy works fine. However, when we have nested objects inside the dictionary the shallow copy does not work**\n",
    "- **Lets solve this using deep copy**"
   ]
  },
  {
   "cell_type": "markdown",
   "id": "fbf7c5a1",
   "metadata": {},
   "source": [
    "### c. Deep Copy: Making a Copy of an Object using `copy.deepcopy()` Method\n",
    "- Deep copy creates a new object and recursively creates independent copy of original object and all its nested objects."
   ]
  },
  {
   "cell_type": "code",
   "execution_count": null,
   "id": "5ffcd728",
   "metadata": {},
   "outputs": [],
   "source": [
    "import copy\n",
    "\n",
    "dict1 = {'Ehtisham': 81, \n",
    "         'Ayesha':90, \n",
    "        'Ali':[55, 66, 77],  #note we have a list of marks as a dictionary value\n",
    "        'Dua':73,\n",
    "         'Adeen':93, \n",
    "        }\n",
    "print(dict1)\n"
   ]
  },
  {
   "cell_type": "code",
   "execution_count": null,
   "id": "a6719b4e",
   "metadata": {},
   "outputs": [],
   "source": [
    " \n",
    "dict2 = copy.deepcopy(dict1)\n",
    "\n",
    "# Both variables point to different memory objects, so have the different ID\n",
    "print('ID of dict1:', id(dict1))\n",
    "print('ID of dict2:', id(dict2))"
   ]
  },
  {
   "cell_type": "code",
   "execution_count": null,
   "id": "41ab4536",
   "metadata": {},
   "outputs": [],
   "source": []
  },
  {
   "cell_type": "code",
   "execution_count": null,
   "id": "a6d9dee9",
   "metadata": {},
   "outputs": [],
   "source": [
    "# If you modify a nested element of one object, the change will be visible in other\n",
    "dict2[\"Ali\"][1] = 0\n",
    "\n",
    "print('\\ndict1:', dict1)\n",
    "print('\\ndict2:', dict2)\n"
   ]
  },
  {
   "cell_type": "code",
   "execution_count": null,
   "id": "64cc6867",
   "metadata": {},
   "outputs": [],
   "source": []
  },
  {
   "cell_type": "code",
   "execution_count": null,
   "id": "5717ba0d",
   "metadata": {},
   "outputs": [],
   "source": []
  },
  {
   "cell_type": "code",
   "execution_count": null,
   "id": "ea3c9ff1",
   "metadata": {},
   "outputs": [],
   "source": []
  },
  {
   "cell_type": "markdown",
   "id": "dress-hurricane",
   "metadata": {},
   "source": [
    "![](images/dict_operations.jpg)"
   ]
  },
  {
   "cell_type": "code",
   "execution_count": null,
   "id": "f66ce106",
   "metadata": {},
   "outputs": [],
   "source": []
  },
  {
   "cell_type": "code",
   "execution_count": null,
   "id": "ba958b13",
   "metadata": {},
   "outputs": [],
   "source": []
  },
  {
   "cell_type": "code",
   "execution_count": null,
   "id": "034f34f2",
   "metadata": {},
   "outputs": [],
   "source": []
  },
  {
   "cell_type": "markdown",
   "id": "26a08d4c",
   "metadata": {},
   "source": [
    "# Visualize Python Code: https://pythontutor.com/"
   ]
  },
  {
   "cell_type": "markdown",
   "id": "nasty-austria",
   "metadata": {},
   "source": [
    "# Bonus Portion"
   ]
  },
  {
   "cell_type": "markdown",
   "id": "vertical-poland",
   "metadata": {},
   "source": [
    "### Dictionary is used to create DataFrame."
   ]
  },
  {
   "cell_type": "code",
   "execution_count": null,
   "id": "technological-exhibition",
   "metadata": {},
   "outputs": [],
   "source": [
    "import pandas as pd\n",
    "# Dictionary with list object in values    \n",
    "studentData = {\n",
    "        'name' : ['Ehtisham', 'Ahmed', 'Ali'],\n",
    "        'age' : [22, 22, 20],\n",
    "        'city' : ['Okara', 'Sargodha', 'Lahore']\n",
    "    }"
   ]
  },
  {
   "cell_type": "code",
   "execution_count": null,
   "id": "executed-induction",
   "metadata": {},
   "outputs": [],
   "source": [
    "print('Creating Dataframe from Dictionary')\n",
    "    \n",
    "#  Pass dictionary in Dataframe constructor to create a new object\n",
    "#  keys will be the column names and lists in values will be column data\n",
    "# pd.DataFrame()\n",
    "dfObj = pd.DataFrame(studentData) "
   ]
  },
  {
   "cell_type": "code",
   "execution_count": null,
   "id": "14fb3f42",
   "metadata": {},
   "outputs": [],
   "source": [
    "dfObj"
   ]
  },
  {
   "cell_type": "code",
   "execution_count": null,
   "id": "7c83c83f",
   "metadata": {},
   "outputs": [],
   "source": [
    "# Print data frame object on console\n",
    "dfObj.to_csv('datasets/Data.csv', index=False)"
   ]
  },
  {
   "cell_type": "code",
   "execution_count": null,
   "id": "f0c8d3e6",
   "metadata": {},
   "outputs": [],
   "source": [
    "# !cat datasets/Data.csv"
   ]
  },
  {
   "cell_type": "code",
   "execution_count": null,
   "id": "69988456",
   "metadata": {},
   "outputs": [],
   "source": []
  },
  {
   "cell_type": "code",
   "execution_count": null,
   "id": "unlikely-nigeria",
   "metadata": {},
   "outputs": [],
   "source": [
    "#    Create dataframe from nested dictionary\n",
    "studentData = { \n",
    "    0 : {\n",
    "        'name' : 'Ehtisham',\n",
    "        'age' : 22,\n",
    "        'city' : 'Okara'},\n",
    "    1 : {\n",
    "        'name' : 'Ahmed',\n",
    "        'age' : 22,\n",
    "        'city' : 'Sargodha'},\n",
    "    2 : {\n",
    "        'name' : 'Ali',\n",
    "        'age' : 20,\n",
    "        'city' : 'Lahore'}\n",
    "    }\n",
    "    \n",
    "dfObj = pd.DataFrame(studentData) \n",
    "# Print Dataframe object on console\n",
    "dfObj\n",
    "    \n"
   ]
  },
  {
   "cell_type": "code",
   "execution_count": null,
   "id": "bf1f59d7",
   "metadata": {},
   "outputs": [],
   "source": []
  },
  {
   "cell_type": "code",
   "execution_count": null,
   "id": "valuable-modem",
   "metadata": {},
   "outputs": [],
   "source": [
    "print(\"Transpose the dictionary\")\n",
    "    \n",
    "# Transpose dataframe object\n",
    "dfObj = dfObj.transpose()\n",
    "dfObj"
   ]
  },
  {
   "cell_type": "code",
   "execution_count": null,
   "id": "6b4e40d3",
   "metadata": {},
   "outputs": [],
   "source": []
  },
  {
   "cell_type": "code",
   "execution_count": null,
   "id": "0eb88892",
   "metadata": {},
   "outputs": [],
   "source": []
  },
  {
   "cell_type": "code",
   "execution_count": null,
   "id": "talented-tennis",
   "metadata": {},
   "outputs": [],
   "source": []
  },
  {
   "cell_type": "markdown",
   "id": "055bad4f",
   "metadata": {},
   "source": [
    "## Check your Concepts\n",
    "\n",
    "Try answering the following questions to test your understanding of the topics covered in this notebook:\n",
    "\n",
    "\n",
    "1. What is a dictionary in Python?\n",
    "2. How do you create a dictionary?\n",
    "3. What are keys and values?\n",
    "4. How do you access the value associated with a specific key in a dictionary?\n",
    "5. What happens if you try to access the value for a key that doesn't exist in a dictionary?\n",
    "6. Can a dictionary have two keys with the same value? Two values with the same key?\n",
    "7. Define a dictionary that maps month name abbreviations to month names.\n",
    "8. Define a dictionary with five entries that maps student identification numbers to \n",
    "their full names.\n",
    "9. What is the `.get` method of a dictionary used for?\n",
    "10. How do you change the value associated with a key in a dictionary?\n",
    "11. How do you add or remove a key-value pair in a dictionary?\n",
    "12. How do you access the keys, values, and key-value pairs within a dictionary?\n",
    "13. Describe/Differentiate the concept of aliasing, shallow copy and deep copy using assignment statement, `dict.copy()`, `copy.copy()` and `copy.deepcopy()` methods\n",
    "14. Practice sorting dictionaries having different types of `key:value` combinations\n",
    "15. Create and initialize a dictionary that maps the English words `one` through `five` to the numbers 1 through 5.\n",
    "16. Which part of a dictionary element must be immutable?\n",
    "17. What is the difference between the dictionary methods pop and popitem?\n",
    "18.  What does the items method return?\n",
    "19.  What does the keys method return?\n",
    "20.  What does the values method return?"
   ]
  },
  {
   "cell_type": "code",
   "execution_count": null,
   "id": "efc94f4a",
   "metadata": {},
   "outputs": [],
   "source": []
  },
  {
   "cell_type": "code",
   "execution_count": null,
   "id": "waiting-richards",
   "metadata": {},
   "outputs": [],
   "source": []
  },
  {
   "cell_type": "code",
   "execution_count": null,
   "id": "senior-cosmetic",
   "metadata": {},
   "outputs": [],
   "source": []
  },
  {
   "cell_type": "code",
   "execution_count": null,
   "id": "bacterial-coach",
   "metadata": {},
   "outputs": [],
   "source": []
  },
  {
   "cell_type": "code",
   "execution_count": null,
   "id": "variable-pulse",
   "metadata": {},
   "outputs": [],
   "source": []
  },
  {
   "cell_type": "code",
   "execution_count": null,
   "id": "chinese-booking",
   "metadata": {},
   "outputs": [],
   "source": [
    "print(dir(dict))"
   ]
  },
  {
   "cell_type": "code",
   "execution_count": null,
   "id": "interracial-floor",
   "metadata": {},
   "outputs": [],
   "source": []
  },
  {
   "cell_type": "code",
   "execution_count": null,
   "id": "bb24d3e3",
   "metadata": {},
   "outputs": [],
   "source": []
  }
 ],
 "metadata": {
  "kernelspec": {
   "display_name": "Python 3 (ipykernel)",
   "language": "python",
   "name": "python3"
  },
  "language_info": {
   "codemirror_mode": {
    "name": "ipython",
    "version": 3
   },
   "file_extension": ".py",
   "mimetype": "text/x-python",
   "name": "python",
   "nbconvert_exporter": "python",
   "pygments_lexer": "ipython3",
   "version": "3.8.10"
  }
 },
 "nbformat": 4,
 "nbformat_minor": 5
}
