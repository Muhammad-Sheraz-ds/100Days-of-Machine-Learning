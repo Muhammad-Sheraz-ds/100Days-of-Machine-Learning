{
 "cells": [
  {
   "cell_type": "markdown",
   "id": "c0f94bec",
   "metadata": {},
   "source": [
    "<img src=\"images/lect-13.png\" height=1000px width=1000px>\n"
   ]
  },
  {
   "cell_type": "code",
   "execution_count": null,
   "id": "f7fb28d0",
   "metadata": {},
   "outputs": [],
   "source": []
  },
  {
   "cell_type": "code",
   "execution_count": null,
   "id": "59a8ad90",
   "metadata": {},
   "outputs": [],
   "source": []
  },
  {
   "cell_type": "markdown",
   "id": "433483df",
   "metadata": {},
   "source": [
    "<h1 align=\"center\" style=\"color:red\">Regular Expressions </h1>"
   ]
  },
  {
   "cell_type": "code",
   "execution_count": null,
   "id": "219c957c",
   "metadata": {},
   "outputs": [],
   "source": []
  },
  {
   "cell_type": "markdown",
   "id": "9aa4323e",
   "metadata": {},
   "source": [
    "## Regular Expressions \n",
    "https://docs.python.org/3/howto/regex.html#regex-howto\n",
    "\n",
    "https://docs.python.org/3/library/re.html"
   ]
  },
  {
   "cell_type": "code",
   "execution_count": null,
   "id": "610fe665",
   "metadata": {},
   "outputs": [],
   "source": []
  },
  {
   "cell_type": "markdown",
   "id": "5e2e11de",
   "metadata": {},
   "source": [
    "## Baseline:\n",
    "- The concept of regular expressions began in the 1950s, when the American mathematician `Stephen Cole Kleene` formalized the concept of a regular language. \n",
    "- Today's regular expressions are used in Data Science day to day tasks like:\n",
    " >- Simple pattern matching\n",
    " >- In find and replace operations like in editor example sublime, notepad++, atom etc.\n",
    " >- Information Extraction\n",
    " >- Web scraping\n",
    " >- Text Mining (Text mining, also known as text data mining, is the process of transforming unstructured text into a structured format to identify meaningful patterns and new insights. By applying advanced analytical techniques, such as Naïve Bayes, Support Vector Machines (SVM), and other deep learning algorithms, companies are able to explore and discover hidden relationships within their unstructured data.)\n",
    " >- In domain of natural language processing ."
   ]
  },
  {
   "cell_type": "code",
   "execution_count": null,
   "id": "265bc1ec",
   "metadata": {},
   "outputs": [],
   "source": []
  },
  {
   "cell_type": "code",
   "execution_count": null,
   "id": "aa38c930",
   "metadata": {},
   "outputs": [],
   "source": []
  },
  {
   "cell_type": "markdown",
   "id": "6ad97a3c",
   "metadata": {},
   "source": [
    "<h1 align=\"center\">A Gentle Introduction to Regular Expressions (Regex)</h1> <br><br>\n",
    "\n",
    "<img align=\"center\" width=\"800\" height=\"800\"  src=\"images/re.jpeg\"  >\n",
    "<img align=\"center\" width=\"500\" height=\"500\"  src=\"images/tm.jpg\"  >\n",
    "\n",
    "<br><br><br><br><br><br><br><br><br>"
   ]
  },
  {
   "cell_type": "code",
   "execution_count": null,
   "id": "7c5b753b",
   "metadata": {},
   "outputs": [],
   "source": []
  },
  {
   "cell_type": "code",
   "execution_count": null,
   "id": "0f68e2a9",
   "metadata": {},
   "outputs": [],
   "source": []
  },
  {
   "cell_type": "markdown",
   "id": "3773a40d",
   "metadata": {},
   "source": [
    "# <div style=\"text-align: center; color: red;\"> <b> Medical Data Extraction Challenges  </b> </div>\n",
    "<div style=\"text-align: center; color: red;\">\n",
    "    <b>\n",
    "        I'm working on a large-scale data extraction project where I need to parse complex medical records to extract specific patient information such as names, dates of birth, medical conditions, and treatment details. What are the most efficient methods and best practices to handle this type of data extraction in Python?\n",
    "    </b>\n",
    "</div>\n"
   ]
  },
  {
   "cell_type": "code",
   "execution_count": null,
   "id": "1b0d0d0b",
   "metadata": {},
   "outputs": [],
   "source": []
  },
  {
   "cell_type": "code",
   "execution_count": null,
   "id": "ca7ef756",
   "metadata": {},
   "outputs": [],
   "source": []
  },
  {
   "cell_type": "code",
   "execution_count": null,
   "id": "49f762b5",
   "metadata": {},
   "outputs": [],
   "source": []
  },
  {
   "cell_type": "code",
   "execution_count": null,
   "id": "b13149cf",
   "metadata": {},
   "outputs": [],
   "source": [
    "# Data\n",
    "\n",
    "patient_records = \"\"\"\n",
    "Patient Records:\n",
    "----------------\n",
    "\n",
    "Patient ID: 001\n",
    "Patient Name: John Doe\n",
    "Date of Birth: 1980-05-25\n",
    "Medical Condition: Hypertension, Diabetes\n",
    "Treatment Details: Prescribed medications: Metoprolol, Insulin\n",
    "Next Appointment: 2023-10-25\n",
    "\n",
    "Patient ID: 002\n",
    "Patient Name: Jane Smith\n",
    "Date of Birth: 1975-08-12\n",
    "Medical Condition: Asthma, Allergies\n",
    "Treatment Details: Inhaler, Antihistamines\n",
    "Next Appointment: 2023-11-05\n",
    "\n",
    "Patient ID: 003\n",
    "Patient Name: Michael Johnson\n",
    "Date of Birth: 1992-11-18\n",
    "Medical Condition: Migraine, Depression\n",
    "Treatment Details: Therapy sessions, Sertraline\n",
    "Next Appointment: 2023-10-28\n",
    "\"\"\"\n"
   ]
  },
  {
   "cell_type": "code",
   "execution_count": null,
   "id": "f46431ac",
   "metadata": {},
   "outputs": [],
   "source": []
  },
  {
   "cell_type": "code",
   "execution_count": null,
   "id": "d1436c3d",
   "metadata": {},
   "outputs": [],
   "source": []
  },
  {
   "cell_type": "code",
   "execution_count": null,
   "id": "e3d9721b",
   "metadata": {},
   "outputs": [],
   "source": []
  },
  {
   "cell_type": "code",
   "execution_count": null,
   "id": "c86a21d6",
   "metadata": {},
   "outputs": [],
   "source": []
  },
  {
   "cell_type": "code",
   "execution_count": null,
   "id": "c677af10",
   "metadata": {},
   "outputs": [],
   "source": []
  },
  {
   "cell_type": "code",
   "execution_count": null,
   "id": "91bbbbf4",
   "metadata": {},
   "outputs": [],
   "source": []
  },
  {
   "cell_type": "code",
   "execution_count": null,
   "id": "f24355a3",
   "metadata": {},
   "outputs": [],
   "source": []
  },
  {
   "cell_type": "code",
   "execution_count": null,
   "id": "9feda67f",
   "metadata": {},
   "outputs": [],
   "source": []
  },
  {
   "cell_type": "code",
   "execution_count": null,
   "id": "7954caf2",
   "metadata": {},
   "outputs": [],
   "source": []
  },
  {
   "cell_type": "markdown",
   "id": "8666a7d3",
   "metadata": {},
   "source": [
    "### First Solution"
   ]
  },
  {
   "cell_type": "code",
   "execution_count": null,
   "id": "e6f5072f",
   "metadata": {},
   "outputs": [],
   "source": [
    "patient_data = []\n",
    "records = patient_records.split('Patient ID')[1:]\n",
    "\n",
    "for record in records:\n",
    "    data = {}\n",
    "    data['Patient Name'] = record.split('Patient Name:')[1].split('\\n')[0].strip()\n",
    "    data['Date of Birth'] = record.split('Date of Birth:')[1].split('\\n')[0].strip()\n",
    "    data['Medical Condition'] = record.split('Medical Condition:')[1].split('\\n')[0].strip()\n",
    "    data['Treatment Details'] = record.split('Treatment Details:')[1].split('\\n')[0].strip()\n",
    "    patient_data.append(data)\n",
    "\n",
    "for idx, patient in enumerate(patient_data, start=1):\n",
    "    print(f\"Patient {idx} Data:\")\n",
    "    for key, value in patient.items():\n",
    "        print(f\"{key}: {value}\")\n",
    "    print()"
   ]
  },
  {
   "cell_type": "code",
   "execution_count": null,
   "id": "c94a270c",
   "metadata": {},
   "outputs": [],
   "source": []
  },
  {
   "cell_type": "markdown",
   "id": "89054807",
   "metadata": {},
   "source": [
    "### Second Solution"
   ]
  },
  {
   "cell_type": "code",
   "execution_count": null,
   "id": "29dfbb4d",
   "metadata": {},
   "outputs": [],
   "source": [
    "import re\n",
    "pattern = r\"Patient ID: (\\d+)\\nPatient Name: (.*?)\\nDate of Birth: (.*?)\\nMedical Condition: (.*?)\\nTreatment Details: (.*?)\\nNext Appointment: (\\d{4}-\\d{2}-\\d{2})\"\n",
    "matches = re.findall(pattern, patient_records, re.DOTALL)\n",
    "for idx, match in enumerate(matches, start=1):\n",
    "    print(f\"Patient {idx} Data:\")\n",
    "    print(\"Patient ID:\", match[0])\n",
    "    print(\"Patient Name:\", match[1])\n",
    "    print(\"Date of Birth:\", match[2])\n",
    "    print(\"Medical Condition:\", match[3])\n",
    "    print(\"Treatment Details:\", match[4])\n",
    "    print(\"Next Appointment:\", match[5])\n",
    "    print()\n"
   ]
  },
  {
   "cell_type": "code",
   "execution_count": null,
   "id": "59d80d98",
   "metadata": {},
   "outputs": [],
   "source": []
  },
  {
   "cell_type": "code",
   "execution_count": null,
   "id": "6206f073",
   "metadata": {},
   "outputs": [],
   "source": []
  },
  {
   "cell_type": "code",
   "execution_count": null,
   "id": "7c492656",
   "metadata": {},
   "outputs": [],
   "source": []
  },
  {
   "cell_type": "code",
   "execution_count": null,
   "id": "140c1c71",
   "metadata": {},
   "outputs": [],
   "source": []
  },
  {
   "cell_type": "code",
   "execution_count": null,
   "id": "f8f50b66",
   "metadata": {},
   "outputs": [],
   "source": []
  },
  {
   "cell_type": "markdown",
   "id": "99cbfc89",
   "metadata": {},
   "source": [
    "# Learning Agenda\n",
    "**PART-I:**\n",
    "1. A gentle introduction to Regular Expressions\n",
    "2. Overview of Regex Metacharacters, Anchors, Quantifiers, Escape Codes and Grouping Constructs\n",
    "3. Overview of regex101\n",
    "4. A Step by Step hands-on practical understanding of REs on regex101.com\n",
    "5. Practical Use Cases\n",
    "    - Identify valid phone numbers\n",
    "    - Identify/locate valid names or city codes\n",
    "    - Identify valid email addresses\n",
    "    - Identify valid URLs\n",
    "6. Substitution and Replacement\n",
    "\n",
    "<br><br>**PART-II:**\n",
    "\n",
    "Regular Expressions in Python"
   ]
  },
  {
   "cell_type": "code",
   "execution_count": null,
   "id": "4b91d7e8",
   "metadata": {},
   "outputs": [],
   "source": []
  },
  {
   "cell_type": "markdown",
   "id": "e6bc917e",
   "metadata": {},
   "source": [
    "## Wild Card / Meta Characters\n",
    "Special characters are characters that do not match themselves as seen but have a special meaning when used in a regular expression. Some commonly used wild cards or meta characters are listed below:\n",
    "\n",
    "\n",
    "| Wild Card | Description         \n",
    "| :-:       |:-------------\n",
    "| **^**     |Caret symbol specifies that the match must start at the beginning of the string, and in MULTILINE mode also matches immediately after each newline<br>- `^b` will check if the string starts with 'b' such as baba, boss, basic, b, by, etc.<br>- `^si` will check if the string starts with 'si' such as simple, sister, si, etc.\n",
    "| **$**     |Specifies that the match must occur at the end of the string <br> - `s$` will check for the string that ends with a such as geeks, ends, s, etc.<br>- `ing$` will check for the string that ends with ing such as going, seeing, ing, etc.\n",
    "| **.**     |Represent a single occurrance of any character except new line <br> - `a.b` will check for the string that contains any character at the place of the dot such as acb, acbd, abbb, etc<br> - `..` will check if the string contains at least 2 characters\n",
    "| **\\\\**    |Used to drop special meaning of a character following it or used to refer to a special character. <br> - Since dot `(.)` is a metacharacter, so if you want to search it in a string you have to use the backslash `(\\)` just before the dot `(.)`  so that it will lose its specialty. \n",
    "| **[...]** |Matches a single character in the listed set. If caret is the first character inside it, it means negation<br>- `[abc]` means match any single character out of this set<br>- `[123]` means match any single digit out of this set<br>- `[a-z]` means match any single character out of lower case alphabets<br>- `[0-9]` means match any single digit out of this set<br>- `[^0-3]` means any number except 0, 1, 2, or 3<br>- `[^a-c]` means any character except a, b, or c<br>- [0-5][0-9] will match all the two-digits numbers from 00 to 59<br>- `[0-9A-Fa-f]` will match any hexadecimal digit.<br>- Special characters lose their special meaning inside sets, so `[(+*)]` will match any of the literal characters '(', '+', '*', or ')'.<br>- To match a literal ']' inside a set, precede it with a backslash, or place it at the beginning of the set, so `[()[\\]{}]` and `[]()[{}]` will both match parenthesis.\n",
    "| **^[...]**|Matches any character in the set at the beginning of the string\n",
    "| **[^...]**|Matches any character except those NOT in the listed set (negation)\n",
    "| **\\|**    |Or symbol works as the OR operator meaning it checks whether the pattern before or after the or symbol is present in the string or not<br>- `a\\|b` will match any string that contains a or b such as acd, bcd, abcd, etc.<br>- To match a literal '\\|', use `\\|`, or enclose it inside a character class, as in `[\\|]`.\n",
    "| **( )**   |Used to capture and group\n",
    "\n"
   ]
  },
  {
   "cell_type": "markdown",
   "id": "fcf4fe87",
   "metadata": {},
   "source": [
    "> To match a literal ']' inside a set, precede it with a backslash, or place it at the beginning of the set, so `[()[\\]{}]` and `[]()[{}]` will both match parentheses."
   ]
  },
  {
   "cell_type": "code",
   "execution_count": null,
   "id": "1f6a2de7",
   "metadata": {},
   "outputs": [],
   "source": []
  },
  {
   "cell_type": "markdown",
   "id": "f0cfcb57",
   "metadata": {},
   "source": [
    "## Quantifiers\n",
    "- A quantifier metacharacter immediately follows a portion of a <regex> and indicates how many times that portion must occur for the match to succeed. *, +, ?, {m}, {m,n}. When used alone, the quantifier metacharacters *, +, and ? are all greedy, meaning they produce the longest possible match means they are used to search multiple characters.\n",
    "\n",
    "| Wild Card | Description         \n",
    "| :-:       |:-------------\n",
    "| **\\***    |The preceding character/expression is repeated zero or more times\n",
    "| **+**     |The preceding character/expression is repeated one or more times, <br>- `ab+c` will be matched for the string abc, abbc, dabc, but will not be matched for ac, abdc because there is no b in ac and d is not followed by c in abdc.\n",
    "| **?**     |The preceding character/expression is optional (zero or one occurrence). <br>- `ab?c` will be matched for the string ac, abc, acb, dabc, dac but will not be matched for abbc because there are two b. Similarly, it will not be matched for abdc because b is not followed by c.\n",
    "| **{n,m}** |The preceding character/expression is repeated from n to m times (both enclusive). <br> - `a{2,4}` will be matched for the string aaab, baaaac, gaad, but will not be matched for strings like abc, bc because there is only one a or no a in both the cases.\n",
    "| **{n}**   |The preceding character/expression is repeated n times.<br>- `a{6}` will match exactly six 'a' characters, but not five.           \n",
    "| **{n,}**  |The preceding character/expression is repeated atleast n times \n",
    "| **{,m}**  |The preceding character/expression is repeated upto m times"
   ]
  },
  {
   "cell_type": "code",
   "execution_count": null,
   "id": "68e10fe6",
   "metadata": {},
   "outputs": [],
   "source": []
  },
  {
   "cell_type": "markdown",
   "id": "3cb10f31",
   "metadata": {},
   "source": [
    "## Escape Codes\n",
    "- You can use special escape codes to find specific types of patterns in your data, such as digits, non-digits,whitespace, and more. \n",
    "- The following list of special sequences isn’t complete.\n",
    "\n",
    "| Code | Description         \n",
    "| :-:  |:-------------\n",
    "| **\\d** |Matches any decimal digit. This is equivalent to [0-9]                              \n",
    "| **\\D** |Matches any non-digit character. This is equivalent to [^0-9] or [^\\d]                           \n",
    "| **\\s** |Matches any whitespace character. This is equivalent to [ \\r\\n\\t\\b\\f]                \n",
    "| **\\S** |Matches any non-whitespace character. This is equivalent to [^ \\r\\t\\n\\f] or [^\\s]                         \n",
    "| **\\w** |Matches alphanumeric character. This is equivalent to [a-zA-Z0-9_]                  \n",
    "| **\\W** |Matches any non-alphanumeric character. This is equivalent to [^a-zA-Z0-9_] or [^\\w]                  \n",
    "| **\\b** |Matches where the specified characters are at the beginning or at the end of a word r\"\\bain\" OR r\"ain\\b\"\n",
    "| **\\B** |Matches where the specified characters are present, but NOT or at the end of a word r\"Bain\" OR r\"ain\\B\" "
   ]
  },
  {
   "cell_type": "code",
   "execution_count": null,
   "id": "793f5d84",
   "metadata": {},
   "outputs": [],
   "source": []
  },
  {
   "cell_type": "markdown",
   "id": "7d5b31e5",
   "metadata": {},
   "source": [
    "##  Practice Regular Expressions\n",
    "\n",
    "\n",
    "[Visit reges101](https://regex101.com/)\n",
    "\n",
    "\n",
    "- There are some grand tools online these days that allow you to write and test just about any regular expression out there using color coding, code explanation, substitution, etc.\n",
    "- The best regular expressions tester is Regex101 since it boasts the most features and supports the most language flavors. "
   ]
  },
  {
   "cell_type": "code",
   "execution_count": null,
   "id": "af663233",
   "metadata": {},
   "outputs": [],
   "source": []
  },
  {
   "cell_type": "markdown",
   "id": "bf39c315",
   "metadata": {},
   "source": [
    "#### We will perform following some tasks/activities in regex101.\n",
    "- perform single `.`\n",
    "- perform multiple dots `....`\n",
    "- perform `\\.`\n",
    "- To search `\\` we perform double backslaches `\\\\`\n",
    "- To search `*` we perform `\\*` and other characters also like this.\n",
    "- To search single digit like 1,2,3,... , we perform `\\d`.\n",
    "- To search non-digit characters, we perform `\\D`.\n",
    "- To search for boundary , we perform `\\b`. like `Ha\\b`. We can also put boundary on both sides like `\\bHa\\b`.\n",
    "- Perform caret symbol like `^Ha` , this gives a string that's start with `Ha`.\n",
    "- Search for a valid numbe using `\\d`.\n",
    "- Search for all valid numbers using `[.-]` like `\\d\\d\\d[.-]`\n",
    "- Search for a range by using this method `[A-z]`, Note this is differene of `-` in between and in end/start.\n",
    "- What is return of `[^0-9]`? And what is difference between `[0-9]` and `[^0-9]`.\n",
    "- find all the words ends with `at` but not start with `b`.\n",
    "- select all the valid hexa-decimal numbers using quantifier. `0[xX][0-9a-fA-F]+\\b`\n",
    "- what is difference between `\\d\\d\\d[.-]\\d\\d\\d[.-]\\d\\d\\d\\d` and `\\d{3}[.-]\\d{3}[.-]\\d{4}`.\n",
    "- Here `M[sr]s?` , character ? is optional .\n",
    "- Select all the valid names from given text."
   ]
  },
  {
   "cell_type": "code",
   "execution_count": null,
   "id": "24e47db9",
   "metadata": {},
   "outputs": [],
   "source": []
  },
  {
   "cell_type": "markdown",
   "id": "e05e9f85",
   "metadata": {},
   "source": [
    "abcdefghijklmnopqurtuvwxyz     \n",
    "ABCDEFGHIJKLMNOPQRSTUVWXYZ    \n",
    "1234567890    \n",
    "Ha HaHa      \n",
    "MetaCharacters (Need to be escaped):     \n",
    ".[{()\\^$|?*+     \n",
    "helloworld.me      \n",
    "321-555-4321         \n",
    "123.555.1234       \n",
    "111#923#9234        \n",
    "cat          \n",
    "mat        \n",
    "bat        \n",
    "0x45         \n",
    "0X4Ad         \n",
    "0x2g3       \n",
    "0x349ABf         \n",
    "0x      "
   ]
  },
  {
   "cell_type": "code",
   "execution_count": null,
   "id": "2011d6bd",
   "metadata": {},
   "outputs": [],
   "source": []
  },
  {
   "cell_type": "markdown",
   "id": "1bed286e",
   "metadata": {},
   "source": [
    "#### Select only valid names"
   ]
  },
  {
   "cell_type": "markdown",
   "id": "a0cc2851",
   "metadata": {},
   "source": [
    "Hello World   \n",
    "Mr. Ehtisham    \n",
    "Mr Tayyab   \n",
    "Ms Sonia   \n",
    "Mrs. Ayesha   \n",
    "Mr. B   \n",
    "Learning is Data Science"
   ]
  },
  {
   "cell_type": "code",
   "execution_count": null,
   "id": "d73ecb8f",
   "metadata": {},
   "outputs": [],
   "source": []
  },
  {
   "cell_type": "markdown",
   "id": "129f934e",
   "metadata": {},
   "source": [
    "#### Check validaity of emails\n",
    "\n",
    "- `[a-zA-Z0-9._%+-]+@[a-zA-Z0-9]+\\.[a-zA-Z0-9.-]+` this regex is used to select valid emails."
   ]
  },
  {
   "cell_type": "code",
   "execution_count": null,
   "id": "2eadb293",
   "metadata": {},
   "outputs": [],
   "source": []
  },
  {
   "cell_type": "markdown",
   "id": "c54e1d32",
   "metadata": {},
   "source": [
    "**List of Valid Email Addresses**\n",
    "\n",
    "ehtisham@pucit.edu.pk     \n",
    "ehtisham.ds@pu.edu.pk        \n",
    "ehtishampucit@gmail.com        \n",
    "ehtisham.pucit@pu.edu.pk          \n",
    "first+123.5@example.com          \n",
    "abc%xyz@subdomain.example.com          \n",
    "my_name@example.com          \n",
    "first-last@example.com     \n",
    "\n",
    "\n",
    "**List of Invalid Email Addresses**   \n",
    "\n",
    "#@%^%#$@#$@#.com     \n",
    "abc.def@mail      \n",
    "abc.def@mail#archive.com       \n",
    "@example.com       \n",
    "ehtisham sadiq @example.com       \n",
    "Tayyab#@gmail.com      \n",
    "Abc.example.com       "
   ]
  },
  {
   "cell_type": "code",
   "execution_count": null,
   "id": "5deaa629",
   "metadata": {},
   "outputs": [],
   "source": []
  },
  {
   "cell_type": "code",
   "execution_count": null,
   "id": "b617e47f",
   "metadata": {},
   "outputs": [],
   "source": []
  },
  {
   "cell_type": "markdown",
   "id": "a098f5e7",
   "metadata": {},
   "source": [
    "**Select valid URL**\n",
    " \n",
    "- https://www.google.com\n",
    "- http://ehtisham.me\n",
    "- https://youtube.com\n",
    "- https://www.yahoo.com\n",
    "- http://facebook.com"
   ]
  },
  {
   "cell_type": "code",
   "execution_count": null,
   "id": "80f77f75",
   "metadata": {},
   "outputs": [],
   "source": []
  },
  {
   "cell_type": "code",
   "execution_count": null,
   "id": "7ace107a",
   "metadata": {},
   "outputs": [],
   "source": []
  },
  {
   "cell_type": "code",
   "execution_count": null,
   "id": "497da2b6",
   "metadata": {},
   "outputs": [],
   "source": []
  },
  {
   "cell_type": "code",
   "execution_count": null,
   "id": "d68a9dc6",
   "metadata": {},
   "outputs": [],
   "source": []
  },
  {
   "cell_type": "markdown",
   "id": "a06c063f",
   "metadata": {},
   "source": [
    "## Practice Questions:"
   ]
  },
  {
   "cell_type": "markdown",
   "id": "8933443f",
   "metadata": {},
   "source": [
    "### Example 1: Write a regular expression to search digit inside a string.\n",
    "- Input : \"My roll number is 25\"\n",
    "- Output : [2,5]"
   ]
  },
  {
   "cell_type": "code",
   "execution_count": null,
   "id": "e0bb0550",
   "metadata": {},
   "outputs": [],
   "source": [
    "import re\n",
    "targetString = \"My roll number is 25\"\n",
    "reg = r\"\\d\"\n",
    "result = re.findall(reg,targetString)\n",
    "result"
   ]
  },
  {
   "cell_type": "code",
   "execution_count": null,
   "id": "c5a55b90",
   "metadata": {},
   "outputs": [],
   "source": []
  },
  {
   "cell_type": "markdown",
   "id": "497518a0",
   "metadata": {},
   "source": [
    "### Write a Python program that matches a string that has an a followed by zero or more b's."
   ]
  },
  {
   "cell_type": "code",
   "execution_count": null,
   "id": "9cb73ed8",
   "metadata": {},
   "outputs": [],
   "source": [
    "# write your answer"
   ]
  },
  {
   "cell_type": "markdown",
   "id": "9a9d6ee4",
   "metadata": {},
   "source": [
    "### Write a Python program that matches a string that has an a followed by zero or one 'b'."
   ]
  },
  {
   "cell_type": "markdown",
   "id": "e9c4cfeb",
   "metadata": {},
   "source": [
    "Hint :         patterns = 'ab?'"
   ]
  },
  {
   "cell_type": "code",
   "execution_count": null,
   "id": "8627cea4",
   "metadata": {},
   "outputs": [],
   "source": []
  },
  {
   "cell_type": "markdown",
   "id": "06f9ad6a",
   "metadata": {},
   "source": [
    "### Write a Python program to find sequences of lowercase letters joined with a underscore."
   ]
  },
  {
   "cell_type": "markdown",
   "id": "70f2a58c",
   "metadata": {},
   "source": [
    "Hint : ^[a-z]+_[a-z]+$"
   ]
  },
  {
   "cell_type": "markdown",
   "id": "8989c63c",
   "metadata": {},
   "source": [
    "### Write a Python program that matches a word at the beginning of a string."
   ]
  },
  {
   "cell_type": "code",
   "execution_count": null,
   "id": "e3cac137",
   "metadata": {},
   "outputs": [],
   "source": [
    "# import re\n",
    "# def text_match(text):\n",
    "#     pattern = r\"^\\w\"\n",
    "#     if re.search(pattern,text):\n",
    "#         print(\"Text Found!\")\n",
    "#     else:\n",
    "#         print(\"Text not found\")\n",
    "        \n",
    "# text_match(\"The quick brown fox jumps over the lazy dog.\")\n",
    "# text_match(\" The quick brown fox jumps over the lazy dog.\")"
   ]
  },
  {
   "cell_type": "code",
   "execution_count": null,
   "id": "45419cbd",
   "metadata": {},
   "outputs": [],
   "source": []
  },
  {
   "cell_type": "markdown",
   "id": "680fa70c",
   "metadata": {},
   "source": [
    "### Write a Python program that matches a word at the end of a string, with optional punctuation."
   ]
  },
  {
   "cell_type": "code",
   "execution_count": null,
   "id": "47e74e89",
   "metadata": {},
   "outputs": [],
   "source": [
    "# import re\n",
    "# def text_match(text):\n",
    "#         patterns = '\\w+\\S*$'\n",
    "#         if re.search(patterns,  text):\n",
    "#                 return 'Found a match!'\n",
    "#         else:\n",
    "#                 return('Not matched!')\n",
    "\n",
    "# print(text_match(\"The quick brown fox jumps over the lazy dog.\"))\n",
    "# print(text_match(\"The quick brown fox jumps over the lazy dog. \"))\n",
    "# print(text_match(\"The quick brown fox jumps over the lazy dog \"))"
   ]
  },
  {
   "cell_type": "code",
   "execution_count": null,
   "id": "04432bc7",
   "metadata": {},
   "outputs": [],
   "source": []
  },
  {
   "cell_type": "markdown",
   "id": "9e5a0172",
   "metadata": {},
   "source": [
    "### Write a Python program that matches a word containing 'z'."
   ]
  },
  {
   "cell_type": "code",
   "execution_count": null,
   "id": "299ae779",
   "metadata": {},
   "outputs": [],
   "source": [
    "# import re\n",
    "# def text_match(text):\n",
    "#         patterns = '\\w*z.\\w*'\n",
    "#         if re.search(patterns,  text):\n",
    "#                 return 'Found a match!'\n",
    "#         else:\n",
    "#                 return('Not matched!')\n",
    "\n",
    "# print(text_match(\"The quick brown fox jumps over the lazy dog.\"))\n",
    "# print(text_match(\"Python Exercises.\"))"
   ]
  },
  {
   "cell_type": "code",
   "execution_count": null,
   "id": "e687af69",
   "metadata": {},
   "outputs": [],
   "source": []
  },
  {
   "cell_type": "markdown",
   "id": "d4209d9d",
   "metadata": {},
   "source": [
    "### Write a Python program to match a string that contains only upper and lowercase letters, numbers, and underscores.\n"
   ]
  },
  {
   "cell_type": "code",
   "execution_count": null,
   "id": "9ad84a91",
   "metadata": {},
   "outputs": [],
   "source": [
    "# import re\n",
    "# def text_match(text):\n",
    "#         patterns = '^[a-zA-Z0-9_]*$'\n",
    "#         if re.search(patterns,  text):\n",
    "#                 return 'Found a match!'\n",
    "#         else:\n",
    "#                 return('Not matched!')\n",
    "\n",
    "# print(text_match(\"The quick brown fox jumps over the lazy dog.\"))\n",
    "# print(text_match(\"Python_Exercises_1\"))"
   ]
  },
  {
   "cell_type": "code",
   "execution_count": null,
   "id": "40b181b4",
   "metadata": {},
   "outputs": [],
   "source": []
  },
  {
   "cell_type": "code",
   "execution_count": null,
   "id": "c92285b3",
   "metadata": {},
   "outputs": [],
   "source": [
    "# import re\n",
    "# def match_num(string):\n",
    "#     text = re.compile(r\"^5\")\n",
    "#     if text.match(string):\n",
    "#         return True\n",
    "#     else:\n",
    "#         return False\n",
    "# print(match_num('5-2345861'))\n",
    "# print(match_num('6-2345861'))"
   ]
  },
  {
   "cell_type": "code",
   "execution_count": null,
   "id": "d35dd089",
   "metadata": {},
   "outputs": [],
   "source": []
  },
  {
   "cell_type": "code",
   "execution_count": null,
   "id": "87d627b3",
   "metadata": {},
   "outputs": [],
   "source": []
  },
  {
   "cell_type": "code",
   "execution_count": null,
   "id": "8a1a1761",
   "metadata": {},
   "outputs": [],
   "source": []
  },
  {
   "cell_type": "code",
   "execution_count": null,
   "id": "daa57da8",
   "metadata": {},
   "outputs": [],
   "source": []
  },
  {
   "cell_type": "code",
   "execution_count": null,
   "id": "f4694dad",
   "metadata": {},
   "outputs": [],
   "source": []
  },
  {
   "cell_type": "code",
   "execution_count": null,
   "id": "b6a66a55",
   "metadata": {},
   "outputs": [],
   "source": []
  },
  {
   "cell_type": "markdown",
   "id": "a8c5ca3c",
   "metadata": {},
   "source": [
    "<h2 align=\"center\">  Regular Expressions Part-II </h2>"
   ]
  },
  {
   "cell_type": "markdown",
   "id": "4362dcea",
   "metadata": {},
   "source": [
    "<img align=\"left\" width=\"600\" height=\"600\"  src=\"images/re.jpeg\"  >\n",
    "<img align=\"right\" width=\"300\" height=\"300\"  src=\"images/tm.jpg\"  >"
   ]
  },
  {
   "cell_type": "markdown",
   "id": "4126c633",
   "metadata": {},
   "source": [
    "## Learning Agenda\n",
    "2. The Python `re` Module\n",
    "    1. The `re.compile()` Method\n",
    "    2. The `re.Pattern.search()` Method\n",
    "    3. The `re.Pattern.match()` Method\n",
    "    4. The `re.Pattern.findall()` Method\n",
    "    5. The `re.Pattern.finditer()` Method\n",
    "3. Practical Example\n",
    "    1. Extracting Names\n",
    "    2. Extracting Date of Births\n",
    "    3. Extracting Emails and Usernames\n",
    "    4. Extracting valid Cell phones\n",
    "    5. Extracting Domain names from URLs\n",
    "4. Modifying Strings\n",
    "    1. The `re.Pattern.split()` Method\n",
    "    2. The `re.Pattern.sub()`  Method\n",
    "    3. The `re.Pattern.subn()` Method"
   ]
  },
  {
   "cell_type": "code",
   "execution_count": null,
   "id": "d21e80ee",
   "metadata": {},
   "outputs": [],
   "source": []
  },
  {
   "cell_type": "markdown",
   "id": "af0832f8",
   "metadata": {},
   "source": [
    "### a. Wild Card / Meta Characters\n",
    "Special characters are characters that do not match themselves as seen but have a special meaning when used in a regular expression. Some commonly used wild cards or meta characters are listed below:\n",
    "\n",
    "\n",
    "| Wild Card | Description         \n",
    "| :-:       |:-------------\n",
    "| **^**     |Caret symbol specifies that the match must start at the beginning of the string, and in MULTILINE mode also matches immediately after each newline<br>- `^b` will check if the string starts with 'b' such as baba, boss, basic, b, by, etc.<br>- `^si` will check if the string starts with 'si' such as simple, sister, si, etc.\n",
    "| **$**     |Specifies that the match must occur at the end of the string <br> - `s$` will check for the string that ends with a such as geeks, ends, s, etc.<br>- `ing$` will check for the string that ends with ing such as going, seeing, ing, etc.\n",
    "| **.**     |Represent a single occurrance of any character except new line <br> - `a.b` will check for the string that contains any character at the place of the dot such as acb, acbd, abbb, etc<br> - `..` will check if the string contains at least 2 characters\n",
    "| **\\\\**    |Used to drop special meaning of a character following it or used to refer to a special character. <br> - Since dot `(.)` is a metacharacter, so if you want to search it in a string you have to use the backslash `(\\)` just before the dot `(.)`  so that it will lose its specialty. \n",
    "| **[...]** |Matches a single character in the listed set. If caret is the first character inside it, it means negation<br>- `[abc]` means match any single character out of this set<br>- `[123]` means match any single digit out of this set<br>- `[a-z]` means match any single character out of lower case alphabets<br>- `[0-9]` means match any single digit out of this set<br>- `[^0-3]` means any number except 0, 1, 2, or 3<br>- `[^a-c]` means any character except a, b, or c<br>- [0-5][0-9] will match all the two-digits numbers from 00 to 59<br>- `[0-9A-Fa-f]` will match any hexadecimal digit.<br>- Special characters lose their special meaning inside sets, so `[(+*)]` will match any of the literal characters '(', '+', '*', or ')'.<br>- To match a literal ']' inside a set, precede it with a backslash, or place it at the beginning of the set, so `[()[\\]{}]` and `[]()[{}]` will both match parenthesis.\n",
    "| **^[...]**|Matches any character in the set at the beginning of the string\n",
    "| **[^...]**|Matches any character except those NOT in the listed set (negation)\n",
    "| **\\|**    |Or symbol works as the OR operator meaning it checks whether the pattern before or after the or symbol is present in the string or not<br>- `a\\|b` will match any string that contains a or b such as acd, bcd, abcd, etc.<br>- To match a literal '\\|', use `\\|`, or enclose it inside a character class, as in `[\\|]`.\n",
    "| **( )**   |Used to capture and group"
   ]
  },
  {
   "cell_type": "code",
   "execution_count": null,
   "id": "bee5eb9d",
   "metadata": {},
   "outputs": [],
   "source": []
  },
  {
   "cell_type": "markdown",
   "id": "1a40818f",
   "metadata": {},
   "source": [
    "### b. Quantifiers\n",
    "- A quantifier metacharacter immediately follows a portion of a <regex> and indicates how many times that portion must occur for the match to succeed. *, +, ?, {m}, {m,n}. When used alone, the quantifier metacharacters *, +, and ? are all greedy, meaning they produce the longest possible match. Basically they are used to select more than one characters. \n",
    "\n",
    "| Wild Card | Description         \n",
    "| :-:       |:-------------\n",
    "| **\\***    |The preceding character/expression is repeated zero or more times\n",
    "| **+**     |The preceding character/expression is repeated one or more times, <br>- `ab+c` will be matched for the string abc, abbc, dabc, but will not be matched for ac, abdc because there is no b in ac and d is not followed by c in abdc.\n",
    "| **?**     |The preceding character/expression is optional (zero or one occurrence). <br>- `ab?c` will be matched for the string ac, abc, acb, dabc, dac but will not be matched for abbc because there are two b. Similarly, it will not be matched for abdc because b is not followed by c.\n",
    "| **{n,m}** |The preceding character/expression is repeated from n to m times (both enclusive). <br> - `a{2,4}` will be matched for the string aaab, baaaac, gaad, but will not be matched for strings like abc, bc because there is only one a or no a in both the cases.\n",
    "| **{n}**   |The preceding character/expression is repeated n times.<br>- `a{6}` will match exactly six 'a' characters, but not five.           \n",
    "| **{n,}**  |The preceding character/expression is repeated atleast n times \n",
    "| **{,m}**  |The preceding character/expression is repeated upto m times\n",
    "    \n",
    "    \n",
    "Note: The repeat characters (`*` and `+`) perform greedy search to match the largest possible string. However, you can performa a non greedy search by: `*?` (0 or more characters but non-greedy) `+?` (1 or more characters but non-greedy)"
   ]
  },
  {
   "cell_type": "code",
   "execution_count": null,
   "id": "b2e6d9fa",
   "metadata": {},
   "outputs": [],
   "source": []
  },
  {
   "cell_type": "markdown",
   "id": "53a7b442",
   "metadata": {},
   "source": [
    "### c. Escape Codes\n",
    "- You can use special escape codes to find specific types of patterns in your data, such as digits, non-digits,whitespace, and more. \n",
    "- The following list of special sequences isn’t complete.\n",
    "\n",
    "| Code | Description         \n",
    "| :-:  |:-------------\n",
    "| **\\d** |Matches any decimal digit. This is equivalent to [0-9]                              \n",
    "| **\\D** |Matches any non-digit character. This is equivalent to [^0-9] or [^\\d]                           \n",
    "| **\\s** |Matches any whitespace character. This is equivalent to [ \\r\\n\\t\\b\\f]                \n",
    "| **\\S** |Matches any non-whitespace character. This is equivalent to [^ \\r\\t\\n\\f] or [^\\s]                         \n",
    "| **\\w** |Matches alphanumeric character. This is equivalent to [a-zA-Z0-9_]                  \n",
    "| **\\W** |Matches any non-alphanumeric character. This is equivalent to [^a-zA-Z0-9_] or [^\\w]                  \n",
    "| **\\b** |Matches where the specified characters are at the beginning or at the end of a word r\"\\bain\" OR r\"ain\\b\"\n",
    "| **\\B** |Matches where the specified characters are present, but NOT or at the end of a word r\"Bain\" OR r\"ain\\B\" "
   ]
  },
  {
   "cell_type": "markdown",
   "id": "c0f18cf9",
   "metadata": {},
   "source": [
    "## 2. The Python `re` Module"
   ]
  },
  {
   "cell_type": "code",
   "execution_count": 1,
   "id": "a3e77f46",
   "metadata": {},
   "outputs": [
    {
     "name": "stdout",
     "output_type": "stream",
     "text": [
      "['A', 'ASCII', 'DEBUG', 'DOTALL', 'I', 'IGNORECASE', 'L', 'LOCALE', 'M', 'MULTILINE', 'Match', 'Pattern', 'RegexFlag', 'S', 'Scanner', 'T', 'TEMPLATE', 'U', 'UNICODE', 'VERBOSE', 'X', '_MAXCACHE', '__all__', '__builtins__', '__cached__', '__doc__', '__file__', '__loader__', '__name__', '__package__', '__spec__', '__version__', '_cache', '_compile', '_compile_repl', '_expand', '_locale', '_pickle', '_special_chars_map', '_subx', 'compile', 'copyreg', 'enum', 'error', 'escape', 'findall', 'finditer', 'fullmatch', 'functools', 'match', 'purge', 'search', 'split', 'sre_compile', 'sre_parse', 'sub', 'subn', 'template']\n"
     ]
    }
   ],
   "source": [
    "import re\n",
    "print(dir(re))"
   ]
  },
  {
   "cell_type": "code",
   "execution_count": 6,
   "id": "3a9be088",
   "metadata": {},
   "outputs": [],
   "source": [
    "# text = \"Today's date is 2023-10-26\"\n",
    "# # match = re.search(r\"(\\d{4})-(\\d{2})-(\\d{2})\", text)\n",
    "# print(match.group(0))\n",
    "# print(match.group(1))\n",
    "# print(match.group(2))\n",
    "# print(match.group(3))"
   ]
  },
  {
   "cell_type": "code",
   "execution_count": null,
   "id": "b5953541",
   "metadata": {},
   "outputs": [],
   "source": []
  },
  {
   "cell_type": "code",
   "execution_count": null,
   "id": "3dbf6e8e",
   "metadata": {},
   "outputs": [],
   "source": []
  },
  {
   "cell_type": "code",
   "execution_count": null,
   "id": "98402a4d",
   "metadata": {},
   "outputs": [],
   "source": []
  },
  {
   "cell_type": "markdown",
   "id": "7af8d1dd",
   "metadata": {},
   "source": [
    "### a. The `re.compile()` Method\n",
    "This method is used to compile a regular expression pattern into a regular expression object, which can be used for matching using its `match()`, `search()` and other methods.\n",
    "\n",
    "**`re.compile(pattern, flags=0)`**\n",
    "\n",
    "Where,\n",
    "   - `pattern` is the regular expression which you want to compile that you need to search/modify in a string or may be on a corpus of documents.\n",
    "   - `flags` arguments can be used to modify the expression’s behaviour. Values can be any of the following variables, combined using bitwise OR (the | operator):\n",
    "        - `IGNORECASE` or `I` to do a case in-sensitive search\n",
    "        - `LOCALE` or `L` to perform a locale aware match.\n",
    "        - `MULTILINE`, `M` to do multiline matching, affecting `^` and `$`\n",
    "        - `DOTALL` or `S` to make the '.' special character match any character, including a newline; without this flag, '.' will match anything except a newline.\n",
    "\n",
    "Once you have an `Pattern object` representing a compiled regular expression, you can use its methods to perform various operations on a string or may be in a corpus of documents:\n",
    "- `p.match()`: Determine if the RE matches at the beginning of the string.\n",
    "- `p.search()`: Scan through a string, looking for any location where this RE matches.\n",
    "- `p.findall()`: Find all substrings where the RE matches, and returns them as a list.\n",
    "- `p.finditer()`: Find all substrings where the RE matches, and returns them as an iterator.\n",
    "- `p.split()`: Used to split string by the occurrences of pattern.\n",
    "- `p.sub()`: Used for for find and replace purpose..\n",
    "\n",
    "**Note:** Creating a regex object with `re.compile` is highly recommended if you intend to apply the same expression to many strings; doing so will save CPU cycles."
   ]
  },
  {
   "cell_type": "code",
   "execution_count": null,
   "id": "43225c4e",
   "metadata": {},
   "outputs": [],
   "source": []
  },
  {
   "cell_type": "code",
   "execution_count": null,
   "id": "1099db63",
   "metadata": {},
   "outputs": [],
   "source": [
    "import re\n",
    "# The regular expression look for a string that starts with one or more uppercase 'A' alphabet, followed by \n",
    "# zero or more lower case alphabets in multi-line mode\n",
    "p = re.compile(r\"[A]+[a-z]*\", flags=re.M)  "
   ]
  },
  {
   "cell_type": "code",
   "execution_count": null,
   "id": "0a736ff1",
   "metadata": {},
   "outputs": [],
   "source": [
    "print(p)\n",
    "print(type(p))"
   ]
  },
  {
   "cell_type": "markdown",
   "id": "dc9ee288",
   "metadata": {},
   "source": [
    "Once you have got a pattern object, you can use its various methods for searching from a string"
   ]
  },
  {
   "cell_type": "code",
   "execution_count": null,
   "id": "f26f0321",
   "metadata": {},
   "outputs": [],
   "source": [
    "# p."
   ]
  },
  {
   "cell_type": "markdown",
   "id": "d724dbd3",
   "metadata": {},
   "source": [
    "### b. The `re.Pattern.search()` Method\n",
    "- Scan through string looking for the first location where the pattern object `p` produces a match, and return a corresponding match object. Return None if no position in the string matches the pattern.\n",
    "\n",
    "**`p.search(string, pos=0 endpos=9223372036854775807)`**\n",
    "\n",
    "- Where,\n",
    "   - `p` is the compiled pattern object\n",
    "   - `string` is the test string from which we want to search\n",
    "   - `pos` and `endpos` can be used to specify the portion of test string from where to search"
   ]
  },
  {
   "cell_type": "code",
   "execution_count": 7,
   "id": "9d427527",
   "metadata": {},
   "outputs": [],
   "source": [
    "import re\n",
    "# The regular expression look for a string that starts with one or more uppercase 'A' alphabet, followed by \n",
    "# zero or more lower case alphabets in multi-line mode\n",
    "p = re.compile(r\"[A]+[a-z]*\", flags=re.M)  "
   ]
  },
  {
   "cell_type": "code",
   "execution_count": 8,
   "id": "3e0a5df4",
   "metadata": {},
   "outputs": [],
   "source": [
    "str1 = \"Ehtisham, Ali, Jamil and Ahmad are good at playing acrobatic games.  AAA is triple As. Ali Sadiq.\"\n",
    "match = p.search(str1)"
   ]
  },
  {
   "cell_type": "code",
   "execution_count": 9,
   "id": "1a148325",
   "metadata": {},
   "outputs": [
    {
     "name": "stdout",
     "output_type": "stream",
     "text": [
      "<re.Match object; span=(10, 13), match='Ali'>\n",
      "<class 're.Match'>\n"
     ]
    }
   ],
   "source": [
    "print(match)\n",
    "print(type(match))\n"
   ]
  },
  {
   "cell_type": "code",
   "execution_count": null,
   "id": "72ea4ac3",
   "metadata": {},
   "outputs": [],
   "source": []
  },
  {
   "cell_type": "code",
   "execution_count": null,
   "id": "dccec3e6",
   "metadata": {},
   "outputs": [],
   "source": []
  },
  {
   "cell_type": "markdown",
   "id": "e7eab265",
   "metadata": {},
   "source": [
    "### c. The `re.Pattern.match()` Method\n",
    "- Look for the pattern at the beginning of the string and if found returns a corresponding match object. Return None if the string does not match the pattern.\n",
    "\n",
    "**`p.match(string, pos=0 endpos=9223372036854775807)`**\n",
    "\n",
    "- Where,\n",
    "   - `p` is the compiled pattern object\n",
    "   - `string` is the test string from which we want to search\n",
    "   - `pos` and `endpos` can be used to specify the portion of test string from where to search\n",
    "\n",
    "Note: \n",
    "- Even in MULTILINE mode, `re.match()` will only match at the beginning of the string and not at the beginning of each line.\n",
    "- If you want to locate a match anywhere in string, use `search()` instead "
   ]
  },
  {
   "cell_type": "code",
   "execution_count": 10,
   "id": "7da73734",
   "metadata": {},
   "outputs": [],
   "source": [
    "import re\n",
    "# str1 = \"Ehtisham, Jamil and Ahmad are good at playing acrobatic games.  AAA is triple As. Ali Sadiq.\"\n",
    "str2 = \"Mr. Ehtisham, Jamil and Ahmad are good at playing acrobatic games.  AAA is triple As. Ali Sadiq.\""
   ]
  },
  {
   "cell_type": "code",
   "execution_count": 14,
   "id": "494543e0",
   "metadata": {},
   "outputs": [
    {
     "name": "stdout",
     "output_type": "stream",
     "text": [
      "<re.Match object; span=(0, 8), match='Ehtisham'>\n",
      "<class 're.Match'>\n"
     ]
    }
   ],
   "source": [
    "# The regular expression look for a string that starts with one or more uppercase 'A' alphabet, followed by \n",
    "# zero or more lower case alphabets in multi-line mode\n",
    "p = re.compile(r\"[E]+[a-z]*\", flags=re.M)  \n",
    "\n",
    "rv = p.match(str1)\n",
    "print(rv)\n",
    "print(type(rv))"
   ]
  },
  {
   "cell_type": "code",
   "execution_count": 15,
   "id": "89db4c68",
   "metadata": {},
   "outputs": [
    {
     "name": "stdout",
     "output_type": "stream",
     "text": [
      "None\n",
      "<class 'NoneType'>\n"
     ]
    }
   ],
   "source": [
    "# The regular expression look for a string that starts with one or more uppercase 'A' alphabet, followed by \n",
    "# zero or more lower case alphabets in multi-line mode\n",
    "p = re.compile(r\"[E]+[a-z]*\", flags=re.M)  \n",
    "\n",
    "rv = p.match(str2)\n",
    "print(rv)\n",
    "print(type(rv))"
   ]
  },
  {
   "cell_type": "code",
   "execution_count": null,
   "id": "b9adae9c",
   "metadata": {},
   "outputs": [],
   "source": []
  },
  {
   "cell_type": "markdown",
   "id": "e87a6f71",
   "metadata": {},
   "source": [
    "### d. The `re.Pattern.findall()` Method\n",
    "- The `search()` only returns the first match, `match()` only matches at the beginning of the string, while `findall()`  returns all matches in a string.\n",
    "- Return all non-overlapping matches of pattern in string, as a list of strings or tuples. The string is scanned left-to-right, and matches are returned in the order found. Empty matches are included in the result.\n",
    "- If pattern `p` does not match, it returns an empty list.\n",
    "\n",
    "**`p.findall(string, pos=0 endpos=9223372036854775807)`**\n",
    "\n",
    "- Where,\n",
    "   - `p` is the compiled pattern object\n",
    "   - `string` is the test string from which we want to search\n",
    "   - `pos` and `endpos` can be used to specify the portion of test string from where to search\n",
    "   \n",
    "Note: The result depends on the number of capturing groups in the pattern. If there are no groups, return a list of strings matching the whole pattern. If there is exactly one group, return a list of strings matching that group. If multiple groups are present, return a list of tuples of strings matching the groups. Non-capturing groups do not affect the form of the result."
   ]
  },
  {
   "cell_type": "code",
   "execution_count": 16,
   "id": "c2109514",
   "metadata": {},
   "outputs": [
    {
     "name": "stdout",
     "output_type": "stream",
     "text": [
      "['Ahmad', 'AAA', 'As', 'Ali']\n",
      "<class 'list'>\n"
     ]
    }
   ],
   "source": [
    "import re\n",
    "str1 = \"Ehtisham, Jamil and Ahmad are good at playing acrobatic games. AAA is triple As. Ali Sadiq.\"\n",
    "# The regular expression look for a string that starts with one or more uppercase 'A' alphabet, followed by \n",
    "# zero or more lower case alphabets in multi-line mode\n",
    "p = re.compile(r\"[A]+[a-z]*\", flags=re.M)  \n",
    "\n",
    "\n",
    "rv = p.findall(str1)\n",
    "print(rv)\n",
    "print(type(rv))"
   ]
  },
  {
   "cell_type": "code",
   "execution_count": null,
   "id": "9ac11878",
   "metadata": {},
   "outputs": [],
   "source": []
  },
  {
   "cell_type": "markdown",
   "id": "daa64e6b",
   "metadata": {},
   "source": [
    "### e. The `re.Pattern.finditer()` Method\n",
    "- Return an iterator yielding match objects over all non-overlapping matches for the RE pattern in string. The string is scanned left-to-right, and matches are returned in the order found. Empty matches are included in the result.\n",
    "\n",
    "**`p.finditer(string, pos=0 endpos=9223372036854775807)`**\n",
    "\n",
    "- Where,\n",
    "   - `p` is the compiled pattern object\n",
    "   - `string` is the test string from which we want to search\n",
    "   - `pos` and `endpos` can be used to specify the portion of test string from where to search\n",
    "   "
   ]
  },
  {
   "cell_type": "code",
   "execution_count": 18,
   "id": "83e49cd6",
   "metadata": {},
   "outputs": [
    {
     "name": "stdout",
     "output_type": "stream",
     "text": [
      "<callable_iterator object at 0x7f122bafff40>\n",
      "<class 'callable_iterator'>\n"
     ]
    }
   ],
   "source": [
    "import re\n",
    "str1 = \"Ehtisham, Ali, Jamil and Ahmad are good at playing acrobatic games.  AAA is triple As. Ehtisham Sadiq.\"\n",
    "\n",
    "# The regular expression look for a string that starts with one or more uppercase 'A' alphabet, followed by \n",
    "# zero or more lower case alphabets in multi-line mode\n",
    "p = re.compile(r\"[A]+[a-z]*\", flags=re.M)  \n",
    "\n",
    "# matches = p.finditer(str1)\n",
    "# print(matches)\n",
    "# print(type(matches))\n",
    "\n",
    "\n",
    "rv =p.finditer(str1)\n",
    "print(rv)\n",
    "print(type(rv))"
   ]
  },
  {
   "cell_type": "code",
   "execution_count": null,
   "id": "b4056b48",
   "metadata": {},
   "outputs": [],
   "source": []
  },
  {
   "cell_type": "markdown",
   "id": "2bbb2991",
   "metadata": {},
   "source": [
    ">- **Once we have got the iterator of `Match object`, we can iterate it using a `for` loop.**\n",
    ">- **Let us see how many match objects are there in this iterator named `matches`.**"
   ]
  },
  {
   "cell_type": "code",
   "execution_count": 19,
   "id": "629eee90",
   "metadata": {},
   "outputs": [
    {
     "name": "stdout",
     "output_type": "stream",
     "text": [
      "<re.Match object; span=(10, 13), match='Ali'>\n",
      "<class 're.Match'>\n",
      "<re.Match object; span=(25, 30), match='Ahmad'>\n",
      "<class 're.Match'>\n",
      "<re.Match object; span=(69, 72), match='AAA'>\n",
      "<class 're.Match'>\n",
      "<re.Match object; span=(83, 85), match='As'>\n",
      "<class 're.Match'>\n"
     ]
    }
   ],
   "source": [
    "for i in rv:\n",
    "    print(i)\n",
    "    print(type(i))"
   ]
  },
  {
   "cell_type": "code",
   "execution_count": null,
   "id": "e090d9ca",
   "metadata": {},
   "outputs": [],
   "source": []
  },
  {
   "cell_type": "code",
   "execution_count": null,
   "id": "61861968",
   "metadata": {},
   "outputs": [],
   "source": []
  },
  {
   "cell_type": "markdown",
   "id": "e5186bd2",
   "metadata": {},
   "source": [
    ">- **Every match object has many associated methods.**\n",
    ">- **Let us see different attributes of each match object using these methods.**"
   ]
  },
  {
   "cell_type": "markdown",
   "id": "8ad323a9",
   "metadata": {},
   "source": [
    "The **`group()`** method of the match object, return subgroups of the match (if they exist). By default return the entire match."
   ]
  },
  {
   "cell_type": "code",
   "execution_count": 20,
   "id": "bccf0177",
   "metadata": {},
   "outputs": [
    {
     "name": "stdout",
     "output_type": "stream",
     "text": [
      "Ali\n",
      "Ahmad\n",
      "AAA\n",
      "As\n"
     ]
    }
   ],
   "source": [
    "import re\n",
    "str1 = \"Ehtisham, Ali, Jamil and Ahmad are good at playing acrobatic games.  AAA is triple As. Ehtisham Sadiq.\"\n",
    "\n",
    "p = re.compile(r\"[A]+[a-z]*\")  \n",
    "matches = p.finditer(str1)\n",
    "\n",
    "for m in matches:\n",
    "    print(m.group(0))"
   ]
  },
  {
   "cell_type": "markdown",
   "id": "95d4245d",
   "metadata": {},
   "source": [
    "The **`span()`** method of the match object, return a 2-tuple containing the start and end index (end index not inclusive)"
   ]
  },
  {
   "cell_type": "code",
   "execution_count": 21,
   "id": "1b392b71",
   "metadata": {},
   "outputs": [
    {
     "name": "stdout",
     "output_type": "stream",
     "text": [
      "Ali\n",
      "(10, 13)\n",
      "Ahmad\n",
      "(25, 30)\n",
      "AAA\n",
      "(69, 72)\n",
      "As\n",
      "(83, 85)\n"
     ]
    }
   ],
   "source": [
    "import re\n",
    "str1 = \"Ehtisham, Ali, Jamil and Ahmad are good at playing acrobatic games.  AAA is triple As. Ehtisham Sadiq.\"\n",
    "\n",
    "p = re.compile(r\"[A]+[a-z]*\")  \n",
    "matches = p.finditer(str1)\n",
    "\n",
    "for m in matches:\n",
    "    print(m.group())\n",
    "    print(m.span())"
   ]
  },
  {
   "cell_type": "markdown",
   "id": "a1200ba9",
   "metadata": {},
   "source": [
    "The **`start(group=0)`** method of the match object, return index of the start of the substring matched by group."
   ]
  },
  {
   "cell_type": "code",
   "execution_count": 22,
   "id": "8697591e",
   "metadata": {},
   "outputs": [
    {
     "name": "stdout",
     "output_type": "stream",
     "text": [
      "10\n",
      "25\n",
      "69\n",
      "83\n"
     ]
    }
   ],
   "source": [
    "import re\n",
    "str1 = \"Ehtisham, Ali, Jamil and Ahmad are good at playing acrobatic games.  AAA is triple As. Ehtisham Sadiq.\"\n",
    "str2 = \"Mr. Ehtisham, Jamil and Ahmad are good at playing acrobatic games.  AAA is triple As. Ehtisham Sadiq.\"\n",
    "p = re.compile(r\"[A]+[a-z]*\")  \n",
    "matches = p.finditer(str1)\n",
    "\n",
    "for m in matches:\n",
    "    print(m.start())"
   ]
  },
  {
   "cell_type": "markdown",
   "id": "a9cbe56a",
   "metadata": {},
   "source": [
    "The `end(group=0)` method of the match object, return index of the end of the substring matched by group."
   ]
  },
  {
   "cell_type": "code",
   "execution_count": 23,
   "id": "bc08495d",
   "metadata": {},
   "outputs": [
    {
     "name": "stdout",
     "output_type": "stream",
     "text": [
      "(10, 13)\n",
      "13\n",
      "(25, 30)\n",
      "30\n",
      "(69, 72)\n",
      "72\n",
      "(83, 85)\n",
      "85\n"
     ]
    }
   ],
   "source": [
    "import re\n",
    "str1 = \"Ehtisham, Ali, Jamil and Ahmad are good at playing acrobatic games.  AAA is triple As. Ehtisham Sadiq.\"\n",
    "str2 = \"Mr. Ehtisham, Jamil and Ahmad are good at playing acrobatic games.  AAA is triple As. Ehtisham Sadiq.\"\n",
    "p = re.compile(r\"[A]+[a-z]*\")  \n",
    "matches = p.finditer(str1)\n",
    "\n",
    "for m in matches:\n",
    "    print(m.span())\n",
    "    print(m.end())"
   ]
  },
  {
   "cell_type": "code",
   "execution_count": null,
   "id": "fb975548",
   "metadata": {},
   "outputs": [],
   "source": []
  },
  {
   "cell_type": "code",
   "execution_count": null,
   "id": "dbb6fdc8",
   "metadata": {},
   "outputs": [],
   "source": [
    "# pattern = re.compile()\n",
    "# pattern.search() -> scan whole document, but returns only first match\n",
    "# pattern.match() -> At the begining of the string.\n",
    "# pattern.findall() -> returns all the matches in a list\n",
    "# pattern.finditer() -> return callable iterator(group, match, span, start, end)"
   ]
  },
  {
   "cell_type": "code",
   "execution_count": null,
   "id": "78bb9372",
   "metadata": {},
   "outputs": [],
   "source": []
  },
  {
   "cell_type": "code",
   "execution_count": null,
   "id": "b6f57d9e",
   "metadata": {},
   "outputs": [],
   "source": []
  },
  {
   "cell_type": "code",
   "execution_count": null,
   "id": "382138b7",
   "metadata": {},
   "outputs": [],
   "source": []
  },
  {
   "cell_type": "code",
   "execution_count": null,
   "id": "dd26a068",
   "metadata": {},
   "outputs": [],
   "source": []
  },
  {
   "cell_type": "markdown",
   "id": "de97f34c",
   "metadata": {},
   "source": [
    "## 3. Practical Example"
   ]
  },
  {
   "cell_type": "markdown",
   "id": "247c42cb",
   "metadata": {},
   "source": [
    "**Read a text file**"
   ]
  },
  {
   "cell_type": "code",
   "execution_count": null,
   "id": "3ccbf6f1",
   "metadata": {},
   "outputs": [],
   "source": [
    "!"
   ]
  },
  {
   "cell_type": "code",
   "execution_count": 24,
   "id": "561b15b4",
   "metadata": {},
   "outputs": [
    {
     "name": "stdout",
     "output_type": "stream",
     "text": [
      "Mr. Ehtisham Sadiq\r\n",
      "615-555-7164\r\n",
      "131 Model Town, Lahore\r\n",
      "02-01-2001\r\n",
      "ehtishampucit@gmail.com\r\n",
      "http://www.ehtisham.me\r\n",
      "\r\n",
      "\r\n",
      "Mrs. Azka Noreen\r\n",
      "317.615.9124\r\n",
      "33 Garden Town, Lahore\r\n",
      "20/02/2000\r\n",
      "azka-123@gmail.com\r\n",
      "http://azka.pu.edu.pk\r\n",
      "\r\n",
      "\r\n",
      "\r\n",
      "Mr. Ahmed Shahzad\r\n",
      "321#521#9254\r\n",
      "69, A Wapda Town, Lahore\r\n",
      "12.09.2000\r\n",
      "Ahmed3@yahoo.com\r\n",
      "https://www.Ahmed.pu.edu.pk\r\n",
      "\r\n",
      "\r\n",
      "Ms Aqsa\r\n",
      "123.555.1997\r\n",
      "56 Joher Town, Lahore\r\n",
      "12/08/2001\r\n",
      "aqsa_007@gmail.com\r\n",
      "http://youtube.com\r\n",
      "\r\n",
      "Mr. B\r\n",
      "321-555-4321\r\n",
      "19 Township, Lahore\r\n",
      "05-07-2002\r\n",
      "mrB@yahoo.com\r\n",
      "http://facebook.com"
     ]
    }
   ],
   "source": [
    "! cat datasets/names_addresses.txt"
   ]
  },
  {
   "cell_type": "code",
   "execution_count": 25,
   "id": "4fdd049e",
   "metadata": {},
   "outputs": [
    {
     "name": "stdout",
     "output_type": "stream",
     "text": [
      "Mr. Ehtisham Sadiq\n",
      "615-555-7164\n",
      "131 Model Town, Lahore\n",
      "02-01-2001\n",
      "ehtishampucit@gmail.com\n",
      "http://www.ehtisham.me\n",
      "\n",
      "\n",
      "Mrs. Azka Noreen\n",
      "317.615.9124\n",
      "33 Garden Town, Lahore\n",
      "20/02/2000\n",
      "azka-123@gmail.com\n",
      "http://azka.pu.edu.pk\n",
      "\n",
      "\n",
      "\n",
      "Mr. Ahmed Shahzad\n",
      "321#521#9254\n",
      "69, A Wapda Town, Lahore\n",
      "12.09.2000\n",
      "Ahmed3@yahoo.com\n",
      "https://www.Ahmed.pu.edu.pk\n",
      "\n",
      "\n",
      "Ms Aqsa\n",
      "123.555.1997\n",
      "56 Joher Town, Lahore\n",
      "12/08/2001\n",
      "aqsa_007@gmail.com\n",
      "http://youtube.com\n",
      "\n",
      "Mr. B\n",
      "321-555-4321\n",
      "19 Township, Lahore\n",
      "05-07-2002\n",
      "mrB@yahoo.com\n",
      "http://facebook.com\n"
     ]
    }
   ],
   "source": [
    "with open(\"datasets/names_addresses.txt\", \"r\") as fd:\n",
    "    print(fd.read()) # read() method returns all information as a string"
   ]
  },
  {
   "cell_type": "code",
   "execution_count": null,
   "id": "06bb08a6",
   "metadata": {},
   "outputs": [],
   "source": []
  },
  {
   "cell_type": "markdown",
   "id": "549d96f8",
   "metadata": {},
   "source": [
    "**Let us read the data from the file in a string**"
   ]
  },
  {
   "cell_type": "code",
   "execution_count": 26,
   "id": "04ec382d",
   "metadata": {
    "scrolled": true
   },
   "outputs": [
    {
     "data": {
      "text/plain": [
       "str"
      ]
     },
     "execution_count": 26,
     "metadata": {},
     "output_type": "execute_result"
    }
   ],
   "source": [
    "with open(\"datasets/names_addresses.txt\", \"r\") as fd:\n",
    "    teststring = fd.read()\n",
    "type(teststring)\n",
    "# print(teststring)"
   ]
  },
  {
   "cell_type": "code",
   "execution_count": null,
   "id": "a91390ca",
   "metadata": {},
   "outputs": [],
   "source": []
  },
  {
   "cell_type": "markdown",
   "id": "e63f46d2",
   "metadata": {},
   "source": [
    "### a. Extracting Names\n",
    "- Assume that every name starts with Mr or Ms or Mrs, with an optional dot, a space and then followed by alphanumeric characters"
   ]
  },
  {
   "cell_type": "code",
   "execution_count": null,
   "id": "4242b3ad",
   "metadata": {},
   "outputs": [],
   "source": []
  },
  {
   "cell_type": "code",
   "execution_count": 27,
   "id": "1f0ffe74",
   "metadata": {},
   "outputs": [],
   "source": [
    "import re\n",
    "p = re.compile(r'(Mr|Ms|Mrs)\\.?\\s\\w+')  \n"
   ]
  },
  {
   "cell_type": "code",
   "execution_count": 28,
   "id": "11d53ef8",
   "metadata": {},
   "outputs": [
    {
     "name": "stdout",
     "output_type": "stream",
     "text": [
      "<re.Match object; span=(0, 12), match='Mr. Ehtisham'>\n",
      "<re.Match object; span=(115, 124), match='Mrs. Azka'>\n",
      "<re.Match object; span=(223, 232), match='Mr. Ahmed'>\n",
      "<re.Match object; span=(337, 344), match='Ms Aqsa'>\n",
      "<re.Match object; span=(430, 435), match='Mr. B'>\n"
     ]
    }
   ],
   "source": [
    "#teststring contains data read from file\n",
    "matches = p.finditer(teststring)\n",
    "for match in matches:\n",
    "    print(match)"
   ]
  },
  {
   "cell_type": "code",
   "execution_count": null,
   "id": "711b1355",
   "metadata": {},
   "outputs": [],
   "source": []
  },
  {
   "cell_type": "code",
   "execution_count": null,
   "id": "19e9db57",
   "metadata": {},
   "outputs": [],
   "source": []
  },
  {
   "cell_type": "code",
   "execution_count": 29,
   "id": "5d321152",
   "metadata": {},
   "outputs": [
    {
     "name": "stdout",
     "output_type": "stream",
     "text": [
      "Mr. Ehtisham\n",
      "Mrs. Azka\n",
      "Mr. Ahmed\n",
      "Ms Aqsa\n",
      "Mr. B\n"
     ]
    }
   ],
   "source": [
    "p = re.compile(r'(Mr|Ms|Mrs)\\.?\\s\\w+')  \n",
    "\n",
    "#teststring contains data read from file\n",
    "matches = p.finditer(teststring)\n",
    "\n",
    "for match in matches:\n",
    "    print(match.group())\n",
    "    "
   ]
  },
  {
   "cell_type": "code",
   "execution_count": null,
   "id": "802a6fd5",
   "metadata": {},
   "outputs": [],
   "source": []
  },
  {
   "cell_type": "markdown",
   "id": "e1e0940e",
   "metadata": {},
   "source": [
    "What if we want to get the complete name"
   ]
  },
  {
   "cell_type": "code",
   "execution_count": 34,
   "id": "2d9d41a0",
   "metadata": {},
   "outputs": [
    {
     "name": "stdout",
     "output_type": "stream",
     "text": [
      "Mr. Ehtisham Sadiq\n",
      "Mrs. Azka Noreen\n",
      "Mr. Ahmed Shahzad\n",
      "Ms Aqsa\n",
      "\n",
      "Mr. B\n",
      "\n"
     ]
    }
   ],
   "source": [
    "p = re.compile(r'(Mr|Ms|Mrs)\\.?\\s\\w+\\s[A-Za-z]*')  \n",
    "\n",
    "#teststring contains data read from file\n",
    "matches = p.finditer(teststring)\n",
    "\n",
    "for match in matches:\n",
    "    print(match.group(0))\n",
    "    "
   ]
  },
  {
   "cell_type": "code",
   "execution_count": 37,
   "id": "63362e7a",
   "metadata": {},
   "outputs": [],
   "source": [
    "# !cat datasets/names_addresses.txt"
   ]
  },
  {
   "cell_type": "markdown",
   "id": "7e49118e",
   "metadata": {},
   "source": [
    "### b. Extracting Date of Births\n",
    "- Assume that the the date, month and year are of two, two and four digits respectively. Moreover, they are separated by either a dot, a hyphen or a slash"
   ]
  },
  {
   "cell_type": "code",
   "execution_count": 38,
   "id": "8e6cbbd3",
   "metadata": {},
   "outputs": [
    {
     "name": "stdout",
     "output_type": "stream",
     "text": [
      "02-01-2001\n",
      "20/02/2000\n",
      "12.09.2000\n",
      "12/08/2001\n",
      "05-07-2002\n"
     ]
    }
   ],
   "source": [
    "p = re.compile(r'\\d{2}.\\d{2}.\\d{4}')  \n",
    "\n",
    "#teststring contains data read from file\n",
    "matches = p.finditer(teststring)\n",
    "\n",
    "for match in matches:\n",
    "    print(match.group())\n",
    "    "
   ]
  },
  {
   "cell_type": "markdown",
   "id": "e422df1b",
   "metadata": {},
   "source": [
    "What if we just want to get the date, month and year separately"
   ]
  },
  {
   "cell_type": "code",
   "execution_count": 39,
   "id": "81694292",
   "metadata": {},
   "outputs": [
    {
     "name": "stdout",
     "output_type": "stream",
     "text": [
      "02-01-2001\n",
      "20/02/2000\n",
      "12.09.2000\n",
      "12/08/2001\n",
      "05-07-2002\n"
     ]
    }
   ],
   "source": [
    "p = re.compile(r'(\\d{2}).(\\d{2}).(\\d{4})')  \n",
    "\n",
    "#teststring contains data read from file\n",
    "matches = p.finditer(teststring)\n",
    "\n",
    "for match in matches:\n",
    "    print(match.group())\n",
    "    "
   ]
  },
  {
   "cell_type": "code",
   "execution_count": 40,
   "id": "3da8b5e6",
   "metadata": {},
   "outputs": [
    {
     "name": "stdout",
     "output_type": "stream",
     "text": [
      "02\n",
      "20\n",
      "12\n",
      "12\n",
      "05\n"
     ]
    }
   ],
   "source": [
    "p = re.compile(r'(\\d{2}).(\\d{2}).(\\d{4})')  \n",
    "\n",
    "#teststring contains data read from file\n",
    "matches = p.finditer(teststring)\n",
    "\n",
    "for match in matches:\n",
    "    print(match.group(1))\n",
    "    "
   ]
  },
  {
   "cell_type": "code",
   "execution_count": 41,
   "id": "68686abe",
   "metadata": {},
   "outputs": [
    {
     "name": "stdout",
     "output_type": "stream",
     "text": [
      "01\n",
      "02\n",
      "09\n",
      "08\n",
      "07\n"
     ]
    }
   ],
   "source": [
    "p = re.compile(r'(\\d{2}).(\\d{2}).(\\d{4})')  \n",
    "\n",
    "#teststring contains data read from file\n",
    "matches = p.finditer(teststring)\n",
    "\n",
    "for match in matches:\n",
    "    print(match.group(2))\n",
    "    "
   ]
  },
  {
   "cell_type": "code",
   "execution_count": 42,
   "id": "42cde37f",
   "metadata": {},
   "outputs": [
    {
     "name": "stdout",
     "output_type": "stream",
     "text": [
      "2001\n",
      "2000\n",
      "2000\n",
      "2001\n",
      "2002\n"
     ]
    }
   ],
   "source": [
    "p = re.compile(r'(\\d{2}).(\\d{2}).(\\d{4})')  \n",
    "\n",
    "#teststring contains data read from file\n",
    "matches = p.finditer(teststring)\n",
    "\n",
    "for match in matches:\n",
    "    print(match.group(3))\n",
    "    "
   ]
  },
  {
   "cell_type": "code",
   "execution_count": null,
   "id": "04352c9b",
   "metadata": {},
   "outputs": [],
   "source": []
  },
  {
   "cell_type": "markdown",
   "id": "244a5e57",
   "metadata": {},
   "source": [
    "### c. Extracting Emails and Usernames\n",
    "**Valid Name Part:**\n",
    "- Lowercase case alphabets\n",
    "- Uppercase case alphabets\n",
    "- Digits: 0123456789,\n",
    "- dot: . (not first or last character)\n",
    "- For simplicity assume no special characters allowed\n",
    "\n",
    "**Valid Domain Part:**\n",
    "- Lowercase case alphabets\n",
    "- Uppercase case alphabets\n",
    "- Digits: 0123456789,\n",
    "- Hyphen: - (not first or last character),\n",
    "- Can contain IP address surrounded by square brackets: test@[192.168.2.4] or test@[IPv6:2018:db8::1]."
   ]
  },
  {
   "cell_type": "code",
   "execution_count": 43,
   "id": "b2e71404",
   "metadata": {},
   "outputs": [
    {
     "name": "stdout",
     "output_type": "stream",
     "text": [
      "Mr. Ehtisham Sadiq\r\n",
      "615-555-7164\r\n",
      "131 Model Town, Lahore\r\n",
      "02-01-2001\r\n",
      "ehtishampucit@gmail.com\r\n",
      "http://www.ehtisham.me\r\n",
      "\r\n",
      "\r\n",
      "Mrs. Azka Noreen\r\n",
      "317.615.9124\r\n",
      "33 Garden Town, Lahore\r\n",
      "20/02/2000\r\n",
      "azka-123@gmail.com\r\n",
      "http://azka.pu.edu.pk\r\n",
      "\r\n",
      "\r\n",
      "\r\n",
      "Mr. Ahmed Shahzad\r\n",
      "321#521#9254\r\n",
      "69, A Wapda Town, Lahore\r\n",
      "12.09.2000\r\n",
      "Ahmed3@yahoo.com\r\n",
      "https://www.Ahmed.pu.edu.pk\r\n",
      "\r\n",
      "\r\n",
      "Ms Aqsa\r\n",
      "123.555.1997\r\n",
      "56 Joher Town, Lahore\r\n",
      "12/08/2001\r\n",
      "aqsa_007@gmail.com\r\n",
      "http://youtube.com\r\n",
      "\r\n",
      "Mr. B\r\n",
      "321-555-4321\r\n",
      "19 Township, Lahore\r\n",
      "05-07-2002\r\n",
      "mrB@yahoo.com\r\n",
      "http://facebook.com"
     ]
    }
   ],
   "source": [
    "!cat datasets/names_addresses.txt"
   ]
  },
  {
   "cell_type": "code",
   "execution_count": null,
   "id": "597d17c6",
   "metadata": {},
   "outputs": [],
   "source": [
    "raiehtisham"
   ]
  },
  {
   "cell_type": "code",
   "execution_count": 44,
   "id": "9f64ef19",
   "metadata": {},
   "outputs": [
    {
     "name": "stdout",
     "output_type": "stream",
     "text": [
      "ehtishampucit@gmail.com\n",
      "azka-123@gmail.com\n",
      "Ahmed3@yahoo.com\n",
      "aqsa_007@gmail.com\n",
      "mrB@yahoo.com\n"
     ]
    }
   ],
   "source": [
    "pattern = re.compile(r'[a-zA-Z0-9_.+-]+@[a-zA-Z0-9-]+\\.[a-z]{2,3}')\n",
    "\n",
    "#teststring contains data read from file\n",
    "matches = pattern.finditer(teststring)\n",
    "\n",
    "for match in matches:\n",
    "    print(match.group())"
   ]
  },
  {
   "cell_type": "code",
   "execution_count": null,
   "id": "8a45bbad",
   "metadata": {},
   "outputs": [],
   "source": []
  },
  {
   "cell_type": "markdown",
   "id": "46728040",
   "metadata": {},
   "source": [
    "What if we want to just extract the usernames"
   ]
  },
  {
   "cell_type": "code",
   "execution_count": 45,
   "id": "decac4e4",
   "metadata": {},
   "outputs": [
    {
     "name": "stdout",
     "output_type": "stream",
     "text": [
      "ehtishampucit\n",
      "azka-123\n",
      "Ahmed3\n",
      "aqsa_007\n",
      "mrB\n"
     ]
    }
   ],
   "source": [
    "p = re.compile(r'([a-zA-Z0-9_.+-]+)@([a-zA-Z0-9-]+)(\\.[a-z]{2,3})')\n",
    "\n",
    "#teststring contains data read from file\n",
    "matches = p.finditer(teststring)\n",
    "\n",
    "for match in matches:                          \n",
    "    print(match.group(1))"
   ]
  },
  {
   "cell_type": "code",
   "execution_count": 46,
   "id": "03d3df90",
   "metadata": {},
   "outputs": [
    {
     "name": "stdout",
     "output_type": "stream",
     "text": [
      "gmail\n",
      "gmail\n",
      "yahoo\n",
      "gmail\n",
      "yahoo\n"
     ]
    }
   ],
   "source": [
    "p = re.compile(r'([a-zA-Z0-9_.+-]+)@([a-zA-Z0-9-]+)(\\.[a-z]{2,3})')\n",
    "\n",
    "#teststring contains data read from file\n",
    "matches = p.finditer(teststring)\n",
    "\n",
    "for match in matches:                          \n",
    "    print(match.group(2))"
   ]
  },
  {
   "cell_type": "code",
   "execution_count": 47,
   "id": "195add44",
   "metadata": {},
   "outputs": [
    {
     "name": "stdout",
     "output_type": "stream",
     "text": [
      ".com\n",
      ".com\n",
      ".com\n",
      ".com\n",
      ".com\n"
     ]
    }
   ],
   "source": [
    "p = re.compile(r'([a-zA-Z0-9_.+-]+)@([a-zA-Z0-9-]+)(\\.[a-z]{2,3})')\n",
    "\n",
    "#teststring contains data read from file\n",
    "matches = p.finditer(teststring)\n",
    "\n",
    "for match in matches:                          \n",
    "    print(match.group(3))"
   ]
  },
  {
   "cell_type": "code",
   "execution_count": null,
   "id": "40b80e5f",
   "metadata": {},
   "outputs": [],
   "source": []
  },
  {
   "cell_type": "code",
   "execution_count": 49,
   "id": "acc44a14",
   "metadata": {},
   "outputs": [],
   "source": [
    "# !cat datasets/names_addresses.txt"
   ]
  },
  {
   "cell_type": "markdown",
   "id": "20196c7f",
   "metadata": {},
   "source": [
    "### d. Extracting valid Cell phones\n",
    "Assume that every valid phone number consiste of 10 digits in three groups of three, three and four digits. The three groups are separated by either a `-`, `.` or `/` symbol"
   ]
  },
  {
   "cell_type": "code",
   "execution_count": 52,
   "id": "fc1dc661",
   "metadata": {},
   "outputs": [
    {
     "name": "stdout",
     "output_type": "stream",
     "text": [
      "615-555-7164\n",
      "317.615.9124\n",
      "321#521#9254\n",
      "123.555.1997\n",
      "321-555-4321\n"
     ]
    }
   ],
   "source": [
    "p = re.compile(r'(\\d{3})[./#-](\\d{3})[./#-](\\d{4})')\n",
    "\n",
    "#teststring contains data read from file\n",
    "matches = p.finditer(teststring)\n",
    "\n",
    "for match in matches:\n",
    "    print(match.group())\n",
    "    "
   ]
  },
  {
   "cell_type": "markdown",
   "id": "c5445400",
   "metadata": {},
   "source": [
    "You can easily extract the city codes, country codes and so on at your own by creating groups inside your regular expressions."
   ]
  },
  {
   "cell_type": "code",
   "execution_count": null,
   "id": "e6ef7066",
   "metadata": {},
   "outputs": [],
   "source": []
  },
  {
   "cell_type": "markdown",
   "id": "adc6b387",
   "metadata": {},
   "source": [
    "### e. Extracting Domain names from URLs\n",
    "- Assume simple URLs, having the protocol either `http://` or `https://`\n",
    "- Then we have optional `www.` string\n",
    "- Then we have group of characters that make up our domain name, followed by top level domain"
   ]
  },
  {
   "cell_type": "code",
   "execution_count": 53,
   "id": "db9ed774",
   "metadata": {},
   "outputs": [
    {
     "name": "stdout",
     "output_type": "stream",
     "text": [
      "http://www.ehtisham.me\n",
      "http://azka.pu\n",
      "https://www.Ahmed.pu\n",
      "http://youtube.com\n",
      "http://facebook.com\n"
     ]
    }
   ],
   "source": [
    "p = re.compile(r'https?://(www\\.)?(\\w+)(\\.\\w+)')\n",
    "\n",
    "#teststring contains data read from file\n",
    "matches = p.finditer(teststring)\n",
    "\n",
    "for match in matches:\n",
    "    print(match.group())   "
   ]
  },
  {
   "cell_type": "code",
   "execution_count": null,
   "id": "0cfae26b",
   "metadata": {},
   "outputs": [],
   "source": []
  },
  {
   "cell_type": "markdown",
   "id": "c95c3ef1",
   "metadata": {},
   "source": [
    "Let us extract the top level domain (TLDs) only."
   ]
  },
  {
   "cell_type": "code",
   "execution_count": 54,
   "id": "ee4b2933",
   "metadata": {},
   "outputs": [
    {
     "name": "stdout",
     "output_type": "stream",
     "text": [
      ".me\n",
      ".pu\n",
      ".pu\n",
      ".com\n",
      ".com\n"
     ]
    }
   ],
   "source": [
    "p = re.compile(r'https?://(www\\.)?(\\w+)(\\.\\w+)')\n",
    "\n",
    "#teststring contains data read from file\n",
    "matches = p.finditer(teststring)\n",
    "\n",
    "for match in matches:\n",
    "    print(match.group(3))   "
   ]
  },
  {
   "cell_type": "code",
   "execution_count": 55,
   "id": "bf17fd81",
   "metadata": {},
   "outputs": [
    {
     "name": "stdout",
     "output_type": "stream",
     "text": [
      "ehtisham\n",
      "azka\n",
      "Ahmed\n",
      "youtube\n",
      "facebook\n"
     ]
    }
   ],
   "source": [
    "p = re.compile(r'https?://(www\\.)?(\\w+)(\\.\\w+)')\n",
    "\n",
    "#teststring contains data read from file\n",
    "matches = p.finditer(teststring)\n",
    "\n",
    "for match in matches:\n",
    "    print(match.group(2))   "
   ]
  },
  {
   "cell_type": "code",
   "execution_count": null,
   "id": "9d3707d6",
   "metadata": {},
   "outputs": [],
   "source": []
  },
  {
   "cell_type": "code",
   "execution_count": null,
   "id": "a558f6a0",
   "metadata": {},
   "outputs": [],
   "source": []
  },
  {
   "cell_type": "markdown",
   "id": "a58adefb",
   "metadata": {},
   "source": [
    "## 4. Modifying Strings\n",
    "- Up to this point, we’ve simply performed searches against a static string. Regular expressions are also commonly used to modify strings in various ways, using the following pattern methods:\n",
    "\n",
    "        - split(): Split the string into a list, splitting it wherever the RE matches\n",
    "        - sub(): Find all substrings where the RE matches, and replace them with a different string\n",
    "        - subn(): Does the same thing as sub(), but returns the new string and the number of replacements"
   ]
  },
  {
   "cell_type": "code",
   "execution_count": null,
   "id": "abefd6d3",
   "metadata": {},
   "outputs": [],
   "source": []
  },
  {
   "cell_type": "markdown",
   "id": "41c31ada",
   "metadata": {},
   "source": [
    "### a. The `re.Pattern.split()` Method\n",
    "- It split the target string as per the regular expression pattern, and the matches are returned in the form of a list.\n",
    "**`p.split(string, maxsplit=0)`**\n",
    "\n",
    "- Where,\n",
    "    - `string`: The variable pointing to the target string (i.e., the string we want to split).\n",
    "    - `maxsplit`: The number of splits you wanted to perform. If maxsplit is 2, at most two splits occur, and the remainder of the string is returned as the final element of the list.\n",
    "    \n",
    "\n",
    "Note: \n",
    "It’s similar to the `split()` method of strings but provides much more generality in the delimiters that you can split by; string split() only supports splitting by whitespace or by a fixed string."
   ]
  },
  {
   "cell_type": "code",
   "execution_count": 56,
   "id": "3ad5ffe3",
   "metadata": {
    "scrolled": false
   },
   "outputs": [
    {
     "data": {
      "text/plain": [
       "['My',\n",
       " 'name',\n",
       " '',\n",
       " '',\n",
       " '',\n",
       " '',\n",
       " '',\n",
       " '',\n",
       " '',\n",
       " '',\n",
       " '',\n",
       " '',\n",
       " '',\n",
       " '',\n",
       " 'is',\n",
       " 'Ehtisham',\n",
       " 'and',\n",
       " 'my',\n",
       " 'lucky',\n",
       " 'number',\n",
       " 'is',\n",
       " '21',\n",
       " 'and',\n",
       " '143']"
      ]
     },
     "execution_count": 56,
     "metadata": {},
     "output_type": "execute_result"
    }
   ],
   "source": [
    "# defining string\n",
    "mystring = \"My name             is Ehtisham and my lucky number is 21 and 143\"\n",
    "mylist = mystring.split(sep=' ')\n",
    "mylist"
   ]
  },
  {
   "cell_type": "code",
   "execution_count": 57,
   "id": "48b033ea",
   "metadata": {},
   "outputs": [
    {
     "data": {
      "text/plain": [
       "re.compile(r'\\s+', re.UNICODE)"
      ]
     },
     "execution_count": 57,
     "metadata": {},
     "output_type": "execute_result"
    }
   ],
   "source": [
    "# importing required libraries\n",
    "import re\n",
    "\n",
    "# defining string\n",
    "mystring = \"My name             is Ehtisham and my lucky number is 21 and 143\"\n",
    "p = re.compile(r\"\\s+\")\n",
    "p"
   ]
  },
  {
   "cell_type": "code",
   "execution_count": 63,
   "id": "277a5f81",
   "metadata": {},
   "outputs": [
    {
     "name": "stdout",
     "output_type": "stream",
     "text": [
      "['My', 'name', 'is', 'Ehtisham', 'and', 'my', 'lucky', 'number', 'is', '21', 'and', '143']\n"
     ]
    }
   ],
   "source": [
    "word_list = p.split(mystring, maxsplit=0)\n",
    "\n",
    "print(word_list)"
   ]
  },
  {
   "cell_type": "code",
   "execution_count": null,
   "id": "a32a2923",
   "metadata": {},
   "outputs": [],
   "source": []
  },
  {
   "cell_type": "markdown",
   "id": "914f36db",
   "metadata": {},
   "source": [
    "The `maxsplit` parameter of `split()` is used to define how many splits you want to perform. In simple words, if the maxsplit is 2, then two splits will be done, and the remainder of the string is returned as the final element of the list."
   ]
  },
  {
   "cell_type": "code",
   "execution_count": 64,
   "id": "d371245a",
   "metadata": {},
   "outputs": [
    {
     "name": "stdout",
     "output_type": "stream",
     "text": [
      "['My', 'name', 'is', 'Ehtisham and my roll number is 21 and 143']\n"
     ]
    }
   ],
   "source": [
    "import re\n",
    "\n",
    "# defining string\n",
    "mystring = \"My name             is Ehtisham and my roll number is 21 and 143\"\n",
    "\n",
    "p = re.compile(r\"\\s+\")\n",
    "\n",
    "word_list = p.split(mystring, maxsplit=3)\n",
    "\n",
    "print(word_list)"
   ]
  },
  {
   "cell_type": "markdown",
   "id": "f6c871a5",
   "metadata": {},
   "source": [
    "- The `split()` method of strings allows you to split by whitespace or by a fixed string.\n",
    "- The regex `split()` method allows you to specify a regex pattern for the delimiters where you can specify multiple delimiters.\n",
    "- For example, using the regular expression re.split() method, we can split the string either by the `comma` or by `space`."
   ]
  },
  {
   "cell_type": "markdown",
   "id": "4a2719d4",
   "metadata": {},
   "source": [
    "- Let us split by the `comma` or by `hyphen`."
   ]
  },
  {
   "cell_type": "code",
   "execution_count": 69,
   "id": "16836216",
   "metadata": {},
   "outputs": [
    {
     "name": "stdout",
     "output_type": "stream",
     "text": [
      "['12', '45', '78', '85', '17', '89']\n"
     ]
    }
   ],
   "source": [
    "import re\n",
    "\n",
    "# defining string\n",
    "mystring = \"12,45,78,85-17-89\"\n",
    "\n",
    "p = re.compile(r\"-|,\")\n",
    "p = re.compile(r\"[-,]\")\n",
    "\n",
    "word_list = p.split(mystring)\n",
    "\n",
    "print(word_list)\n"
   ]
  },
  {
   "cell_type": "code",
   "execution_count": 68,
   "id": "9fa5ff04",
   "metadata": {},
   "outputs": [],
   "source": [
    "# mystring.split(\"-\")"
   ]
  },
  {
   "cell_type": "code",
   "execution_count": 70,
   "id": "9519a1a6",
   "metadata": {},
   "outputs": [
    {
     "name": "stdout",
     "output_type": "stream",
     "text": [
      "['12', '45', '78', '85', '17', '89', '97', '54']\n"
     ]
    }
   ],
   "source": [
    "import re\n",
    "\n",
    "# defining string\n",
    "mystring = \"12and45, 78and85-17and89-97,54\"\n",
    "\n",
    "p = re.compile(r\"and|[\\s,-]+\")\n",
    "\n",
    "word_list = p.split(mystring)\n",
    "\n",
    "print(word_list)\n"
   ]
  },
  {
   "cell_type": "code",
   "execution_count": null,
   "id": "0435dc2a",
   "metadata": {},
   "outputs": [],
   "source": []
  },
  {
   "cell_type": "markdown",
   "id": "f1463696",
   "metadata": {},
   "source": [
    "### b. The `re.Pattern.sub()` and `re.Pattern.subn()` Methods\n",
    "- - Python regex offers `sub()` the `subn()` methods to `search` and `replace` patterns in a string. Using these methods we can replace one or more occurrences of a regex pattern in the target string with a substitute string.\n",
    "\n",
    "- The `sub()` method return the string obtained by replacing the leftmost non-overlapping occurrences of pattern in `string` by the replacement `repl`.\n",
    "\n",
    "**`p.sub(repl, string, count=0)`**\n",
    "\n",
    "- Where,\n",
    "    - `repl`: The replacement that we are going to insert for each occurrence of a pattern. The replacement can be a string or function.\n",
    "    - `string`: The variable pointing to the target string (In which we want to perform the replacement).\n",
    "    - `count`: The default value of count is zero, means, find and replace all occurrences of pattern with replacement. For count=n, means replace first n occurrencesof pattern with the replacement\n",
    "    \n",
    "    \n",
    "\n",
    "- It returns the string obtained by replacing the pattern occurrences in the string with the replacement string. If the pattern isn’t found, the string is returned unchanged."
   ]
  },
  {
   "cell_type": "markdown",
   "id": "eb6fea21",
   "metadata": {},
   "source": [
    "Replace white space with underscore character"
   ]
  },
  {
   "cell_type": "code",
   "execution_count": 71,
   "id": "b757f36e",
   "metadata": {},
   "outputs": [
    {
     "name": "stdout",
     "output_type": "stream",
     "text": [
      "Learning_Data_Science_and_Machine_Learning\n"
     ]
    }
   ],
   "source": [
    "import re\n",
    "\n",
    "# defining string\n",
    "mystring = \"Learning Data Science and Machine Learning\"\n",
    "\n",
    "p = re.compile(r\"\\s\")\n",
    "\n",
    "word_list = p.sub(\"_\", mystring)\n",
    "\n",
    "print(word_list)"
   ]
  },
  {
   "cell_type": "code",
   "execution_count": null,
   "id": "211ed06a",
   "metadata": {},
   "outputs": [],
   "source": []
  },
  {
   "cell_type": "markdown",
   "id": "bbaaa1b7",
   "metadata": {},
   "source": [
    "Remove whitespaces from a string"
   ]
  },
  {
   "cell_type": "code",
   "execution_count": 72,
   "id": "60288c16",
   "metadata": {},
   "outputs": [
    {
     "name": "stdout",
     "output_type": "stream",
     "text": [
      "LearningDataScienceandMachineLearning\n"
     ]
    }
   ],
   "source": [
    "import re\n",
    "\n",
    "# defining string\n",
    "mystring = \"Learning Data Science and Machine Learning\"\n",
    "\n",
    "p = re.compile(r\"\\s+\")\n",
    "\n",
    "word_list = p.sub(\"\", mystring)\n",
    "\n",
    "print(word_list)"
   ]
  },
  {
   "cell_type": "code",
   "execution_count": null,
   "id": "9e4a368b",
   "metadata": {},
   "outputs": [],
   "source": []
  },
  {
   "cell_type": "markdown",
   "id": "0c220e65",
   "metadata": {},
   "source": [
    "Remove leading Spaces from a string"
   ]
  },
  {
   "cell_type": "code",
   "execution_count": 73,
   "id": "f5c26a56",
   "metadata": {},
   "outputs": [
    {
     "name": "stdout",
     "output_type": "stream",
     "text": [
      "Learning Data Science and Machine Learning\n"
     ]
    }
   ],
   "source": [
    "import re\n",
    "\n",
    "# defining string\n",
    "mystring = \"         Learning Data Science and Machine Learning\"\n",
    "\n",
    "\n",
    "# ^\\s+ remove only leading spaces\n",
    "# caret (^) matches only at the start of the string\n",
    "p = re.compile(r\"^\\s+\")\n",
    "\n",
    "word_list = p.sub(\"\", mystring)\n",
    "\n",
    "print(word_list)"
   ]
  },
  {
   "cell_type": "code",
   "execution_count": null,
   "id": "76da9f55",
   "metadata": {},
   "outputs": [],
   "source": []
  },
  {
   "cell_type": "markdown",
   "id": "55865bc9",
   "metadata": {},
   "source": [
    "Remove both leading and trailing spaces"
   ]
  },
  {
   "cell_type": "code",
   "execution_count": 74,
   "id": "2fb34ee4",
   "metadata": {},
   "outputs": [
    {
     "name": "stdout",
     "output_type": "stream",
     "text": [
      "Learning Data Science and Machine Learning        \t.\n"
     ]
    }
   ],
   "source": [
    "import re\n",
    "\n",
    "# defining string\n",
    "mystring = \"          Learning Data Science and Machine Learning        \\t. \"\n",
    "\n",
    "# ^\\s+ remove leading spaces\n",
    "# ^\\s+$ removes trailing spaces\n",
    "p = re.compile(r\"^\\s+|\\s+$\")\n",
    "\n",
    "word_list = p.sub(\"\", mystring)\n",
    "\n",
    "print(word_list)"
   ]
  },
  {
   "cell_type": "code",
   "execution_count": null,
   "id": "e8529b7a",
   "metadata": {},
   "outputs": [],
   "source": []
  },
  {
   "cell_type": "code",
   "execution_count": null,
   "id": "6d3fc245",
   "metadata": {},
   "outputs": [],
   "source": []
  },
  {
   "cell_type": "markdown",
   "id": "5d4c1535",
   "metadata": {},
   "source": [
    "### Write a Python program to find all words starting with 'a' or 'e' in a given string."
   ]
  },
  {
   "cell_type": "code",
   "execution_count": 76,
   "id": "472097d5",
   "metadata": {},
   "outputs": [
    {
     "name": "stdout",
     "output_type": "stream",
     "text": [
      "example\n",
      "eates\n",
      "an\n",
      "ayList\n",
      "apacity\n",
      "elements\n",
      "elements\n",
      "are\n",
      "en\n",
      "added\n",
      "ayList\n",
      "and\n",
      "ayList\n",
      "ed\n",
      "accordingly\n"
     ]
    }
   ],
   "source": [
    "import re\n",
    "# Input.\n",
    "text = \"\"\"The following example creates an ArrayList with a capacity of 50 elements. \n",
    "        Four elements are then added to the ArrayList and the ArrayList is trimmed accordingly.\n",
    "\"\"\"\n",
    "#find all the words starting with 'a' or 'e'\n",
    "p = re.compile(r\"[ae]\\w+\")\n",
    "list1 = p.finditer(text)\n",
    "# Print result.\n",
    "for i in list1:\n",
    "    print(i.group())"
   ]
  },
  {
   "cell_type": "code",
   "execution_count": null,
   "id": "e1f32f47",
   "metadata": {},
   "outputs": [],
   "source": []
  },
  {
   "cell_type": "markdown",
   "id": "4345f742",
   "metadata": {},
   "source": [
    "### Write a Python program to separate and print the numbers and their position of a given string."
   ]
  },
  {
   "cell_type": "code",
   "execution_count": 77,
   "id": "62769684",
   "metadata": {},
   "outputs": [
    {
     "name": "stdout",
     "output_type": "stream",
     "text": [
      "<re.Match object; span=(62, 64), match='50'>\n",
      "62\n"
     ]
    }
   ],
   "source": [
    "import re\n",
    "text = \"The following example creates an ArrayList with a capacity of 50 elements. Four elements are then added to the ArrayList and the ArrayList is trimmed accordingly.\"\n",
    "p = re.compile(r\"\\d+\")\n",
    "iterobject = p.finditer(text)\n",
    "for i in iterobject:\n",
    "    print(i)\n",
    "    print(i.start())"
   ]
  },
  {
   "cell_type": "code",
   "execution_count": 79,
   "id": "883c0a36",
   "metadata": {},
   "outputs": [],
   "source": [
    "# text[62:64]"
   ]
  },
  {
   "cell_type": "code",
   "execution_count": null,
   "id": "4c6bd427",
   "metadata": {},
   "outputs": [],
   "source": []
  },
  {
   "cell_type": "code",
   "execution_count": 80,
   "id": "89c8bbef",
   "metadata": {},
   "outputs": [
    {
     "data": {
      "text/plain": [
       "'Boys hostel no 17, university of the punjab, new campus, lhr'"
      ]
     },
     "execution_count": 80,
     "metadata": {},
     "output_type": "execute_result"
    }
   ],
   "source": [
    "import re\n",
    "text = \"Boys hostel no 17, university of the punjab, new campus, Lahore\"\n",
    "p = re.compile(r\"Lahore$\")\n",
    "iterobj = p.sub(\"lhr\", text)\n",
    "iterobj"
   ]
  },
  {
   "cell_type": "code",
   "execution_count": null,
   "id": "bfbe8512",
   "metadata": {},
   "outputs": [],
   "source": []
  },
  {
   "cell_type": "code",
   "execution_count": null,
   "id": "97121586",
   "metadata": {},
   "outputs": [],
   "source": []
  },
  {
   "cell_type": "code",
   "execution_count": null,
   "id": "933f69b6",
   "metadata": {},
   "outputs": [],
   "source": []
  },
  {
   "cell_type": "code",
   "execution_count": null,
   "id": "1539eddb",
   "metadata": {},
   "outputs": [],
   "source": []
  },
  {
   "cell_type": "code",
   "execution_count": null,
   "id": "8262aa78",
   "metadata": {},
   "outputs": [],
   "source": []
  },
  {
   "cell_type": "code",
   "execution_count": null,
   "id": "26e50ed5",
   "metadata": {},
   "outputs": [],
   "source": []
  },
  {
   "cell_type": "code",
   "execution_count": null,
   "id": "32441141",
   "metadata": {},
   "outputs": [],
   "source": []
  },
  {
   "cell_type": "code",
   "execution_count": null,
   "id": "85b10d76",
   "metadata": {},
   "outputs": [],
   "source": []
  },
  {
   "cell_type": "code",
   "execution_count": null,
   "id": "610706a8",
   "metadata": {},
   "outputs": [],
   "source": []
  },
  {
   "cell_type": "code",
   "execution_count": null,
   "id": "58292318",
   "metadata": {},
   "outputs": [],
   "source": []
  },
  {
   "cell_type": "code",
   "execution_count": null,
   "id": "e2d07e48",
   "metadata": {},
   "outputs": [],
   "source": []
  }
 ],
 "metadata": {
  "kernelspec": {
   "display_name": "Python 3 (ipykernel)",
   "language": "python",
   "name": "python3"
  },
  "language_info": {
   "codemirror_mode": {
    "name": "ipython",
    "version": 3
   },
   "file_extension": ".py",
   "mimetype": "text/x-python",
   "name": "python",
   "nbconvert_exporter": "python",
   "pygments_lexer": "ipython3",
   "version": "3.8.10"
  }
 },
 "nbformat": 4,
 "nbformat_minor": 5
}
