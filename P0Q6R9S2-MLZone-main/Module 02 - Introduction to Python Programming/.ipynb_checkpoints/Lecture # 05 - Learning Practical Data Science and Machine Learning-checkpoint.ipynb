{
 "cells": [
  {
   "cell_type": "markdown",
   "id": "f06c925b",
   "metadata": {},
   "source": [
    "<img src=\"images/intro5.png\" height=1000px width=1000px>\n"
   ]
  },
  {
   "cell_type": "code",
   "execution_count": null,
   "id": "498f0afc",
   "metadata": {},
   "outputs": [],
   "source": []
  },
  {
   "cell_type": "code",
   "execution_count": null,
   "id": "253c9698",
   "metadata": {},
   "outputs": [],
   "source": [
    "# string = input(\"Enter a five digit number separated by comma like 1 2 3 4 5\")"
   ]
  },
  {
   "cell_type": "code",
   "execution_count": null,
   "id": "54782e40",
   "metadata": {},
   "outputs": [],
   "source": []
  },
  {
   "cell_type": "code",
   "execution_count": null,
   "id": "ea15bb23",
   "metadata": {},
   "outputs": [],
   "source": []
  },
  {
   "cell_type": "code",
   "execution_count": null,
   "id": "9d8b468e",
   "metadata": {},
   "outputs": [],
   "source": []
  },
  {
   "cell_type": "code",
   "execution_count": null,
   "id": "c57ef7a6",
   "metadata": {},
   "outputs": [],
   "source": []
  },
  {
   "cell_type": "markdown",
   "id": "exciting-person",
   "metadata": {},
   "source": [
    "<img align=\"center\" width=\"800\" height=\"800\"  src=\"images/datatypes1.png\" > "
   ]
  },
  {
   "cell_type": "code",
   "execution_count": null,
   "id": "weighted-geneva",
   "metadata": {},
   "outputs": [],
   "source": []
  },
  {
   "cell_type": "markdown",
   "id": "burning-exclusion",
   "metadata": {},
   "source": [
    "<img align=\"center\" width=\"600\" height=\"1200\"  src=\"images/listvsarray.png\" > \n",
    "Lists in Python however, tend to be more flexible than arrays in other languages for a two good reasons: \n",
    "\n",
    "- They have no fixed size (meaning we don't have to specify how big a list will be).\n",
    "- They have no fixed type constraint."
   ]
  },
  {
   "cell_type": "markdown",
   "id": "blocked-pension",
   "metadata": {},
   "source": [
    "> **A List is a numerically ordered sequence of elements that can store elements of heterogeneous types, is iterable, mutable and allows duplicate elements.**"
   ]
  },
  {
   "cell_type": "code",
   "execution_count": null,
   "id": "5720c85d",
   "metadata": {},
   "outputs": [],
   "source": []
  },
  {
   "cell_type": "code",
   "execution_count": null,
   "id": "abandoned-orbit",
   "metadata": {},
   "outputs": [],
   "source": []
  },
  {
   "cell_type": "code",
   "execution_count": null,
   "id": "e2c3a2a7",
   "metadata": {},
   "outputs": [],
   "source": []
  },
  {
   "cell_type": "markdown",
   "id": "serial-locking",
   "metadata": {},
   "source": [
    "<img align=\"right\" width=\"300\" height=\"800\"  src=\"images/pythonlist.png\" > \n",
    "\n",
    "\n",
    "\n",
    "## Learning agenda of this notebook\n",
    "* **Data Structures** are a particular way of organizing data in computer. A clever way of laying out your data to make sure the data does what you want it to do. Most of the variables types that we have studied so far (numbers and strings) have one value in them, when we put a new value in them the old value is overwritten.\n",
    "* **Collections** allows us to put many values in a single variable. Lists, Sets, Tuples, and Dictionaries are some types of Python collections\n",
    "* **Sequences** are collections of objects, however, each object in a sequence is assigned an index and the items of a sequence can be manipulated using its respective index. List and Tuples fall into this category.\n",
    "* Today we are going to talk about **Python Lists**, which is a collection of arbitrary objects, somewhat akin to an array in many other programming languages, but more flexible. Unlike strings, Lists are mutable, meaning the elements inside a list can be changed.\n",
    "\n",
    "1. How to create lists?\n",
    "2. Proof of concepts: Lists are heterogeneous, ordered, mutable, nested, and allow duplicate elements\n",
    "3. Different ways to access list elements\n",
    "4. Slicing Lists\n",
    "5. List concatenation and repetition\n",
    "6. Modifying/Adding elements to a List using `append()`, `extend()`, and `insert()` methods\n",
    "7. Removing elements from a list using `pop()` and `remove()` methods\n",
    "8. Converting string object to list and vice-versa (using type casting, `split()` and `join()`)\n",
    "9. Aliasing vs Shallow Copy vs Deep Copy\n",
    "10. Sorting a list and Custom sorting\n",
    "11. Misc Concepts"
   ]
  },
  {
   "cell_type": "code",
   "execution_count": null,
   "id": "dad80b35",
   "metadata": {},
   "outputs": [],
   "source": []
  },
  {
   "cell_type": "code",
   "execution_count": null,
   "id": "parental-lloyd",
   "metadata": {},
   "outputs": [],
   "source": [
    "help(list)"
   ]
  },
  {
   "cell_type": "markdown",
   "id": "statistical-bishop",
   "metadata": {},
   "source": [
    "## 1. How to Create Lists?\n",
    ">- **A Python List is a numerically ordered sequence of elements that can store multiple items of heterogeneous types and allows duplicate elements.**\n",
    ">- **A Python List can be created by placing comma separated values in square brackets.**"
   ]
  },
  {
   "cell_type": "code",
   "execution_count": null,
   "id": "abroad-annotation",
   "metadata": {},
   "outputs": [],
   "source": [
    "# It allows us to store elements of different data types (number, boolean, string, list) in one container.\n",
    "\n",
    "list1 = [1,2,3,4,5]   #list of integers\n",
    "print(list1)"
   ]
  },
  {
   "cell_type": "code",
   "execution_count": null,
   "id": "58c0f9ef",
   "metadata": {},
   "outputs": [],
   "source": []
  },
  {
   "cell_type": "code",
   "execution_count": null,
   "id": "19cf1ba7",
   "metadata": {},
   "outputs": [],
   "source": [
    "list2 = [3.7, 6.5, 3.8, 7.95 ]   #list of floats\n",
    "print(list2)"
   ]
  },
  {
   "cell_type": "code",
   "execution_count": null,
   "id": "b2bef6e6",
   "metadata": {},
   "outputs": [],
   "source": [
    "list3 = [\"hello\", \"this\", \"F\", \"good show\"]   #list of strings\n",
    "print(list3)\n",
    "\n",
    "list4 = [True, False, True]   #list of boolean\n",
    "print(list4)\n",
    "\n",
    "list5 = []   #this will create an empty list\n",
    "print(list5)\n"
   ]
  },
  {
   "cell_type": "code",
   "execution_count": null,
   "id": "9ca86044",
   "metadata": {},
   "outputs": [],
   "source": [
    "print(type(list5))"
   ]
  },
  {
   "cell_type": "code",
   "execution_count": null,
   "id": "f7f3649e",
   "metadata": {},
   "outputs": [],
   "source": [
    "# another method to create a list\n",
    "var = list()\n",
    "var"
   ]
  },
  {
   "cell_type": "code",
   "execution_count": null,
   "id": "66c11040",
   "metadata": {},
   "outputs": [],
   "source": []
  },
  {
   "cell_type": "code",
   "execution_count": null,
   "id": "8fe8e098",
   "metadata": {},
   "outputs": [],
   "source": []
  },
  {
   "cell_type": "code",
   "execution_count": null,
   "id": "1b7dc95a",
   "metadata": {},
   "outputs": [],
   "source": []
  },
  {
   "cell_type": "markdown",
   "id": "bearing-chemical",
   "metadata": {},
   "source": [
    "> **List inside list is called nested list**"
   ]
  },
  {
   "cell_type": "code",
   "execution_count": null,
   "id": "lyric-microwave",
   "metadata": {},
   "outputs": [],
   "source": [
    "# Nested list: lists can also have another list as an item\n",
    "list1 = [\"Ehtisham\", 30, 5.5, [10,[\"Ahmed\",\"Noor\"],'ali']]\n",
    "print(len(list1))\n",
    "list1[0]"
   ]
  },
  {
   "cell_type": "code",
   "execution_count": null,
   "id": "8b49408e",
   "metadata": {},
   "outputs": [],
   "source": [
    "list1[1]"
   ]
  },
  {
   "cell_type": "code",
   "execution_count": null,
   "id": "194f34fb",
   "metadata": {},
   "outputs": [],
   "source": [
    "list1[2]"
   ]
  },
  {
   "cell_type": "code",
   "execution_count": null,
   "id": "4c5cd738",
   "metadata": {},
   "outputs": [],
   "source": [
    "list1[3]"
   ]
  },
  {
   "cell_type": "code",
   "execution_count": null,
   "id": "ae56d6a0",
   "metadata": {},
   "outputs": [],
   "source": []
  },
  {
   "cell_type": "code",
   "execution_count": null,
   "id": "385789e7",
   "metadata": {},
   "outputs": [],
   "source": []
  },
  {
   "cell_type": "code",
   "execution_count": null,
   "id": "95927f4b",
   "metadata": {},
   "outputs": [],
   "source": []
  },
  {
   "cell_type": "code",
   "execution_count": null,
   "id": "czech-fluid",
   "metadata": {},
   "outputs": [],
   "source": [
    "# we can create empty list\n",
    "empty_list = []\n",
    "print (empty_list)"
   ]
  },
  {
   "cell_type": "code",
   "execution_count": null,
   "id": "07decc81",
   "metadata": {},
   "outputs": [],
   "source": []
  },
  {
   "cell_type": "markdown",
   "id": "plastic-blues",
   "metadata": {},
   "source": [
    "> **printing multiple lists using single print() function**"
   ]
  },
  {
   "cell_type": "code",
   "execution_count": null,
   "id": "ethical-grill",
   "metadata": {},
   "outputs": [],
   "source": [
    "#printing multiple lists\n",
    "list1 = [1,2,3,4,5]\n",
    "\n",
    "\n",
    "list2 = [\"Ehtisham\", 30, 5.5, [10,'ali']]\n",
    "\n",
    "empty_list = []\n",
    "\n",
    "print(list1, list2, empty_list,sep=\"\\n\")"
   ]
  },
  {
   "cell_type": "code",
   "execution_count": null,
   "id": "5d05a3e0",
   "metadata": {},
   "outputs": [],
   "source": []
  },
  {
   "cell_type": "code",
   "execution_count": null,
   "id": "b8333ff9",
   "metadata": {},
   "outputs": [],
   "source": []
  },
  {
   "cell_type": "markdown",
   "id": "prospective-electronics",
   "metadata": {},
   "source": [
    "## 2. Proof of concepts"
   ]
  },
  {
   "cell_type": "markdown",
   "id": "golden-policy",
   "metadata": {},
   "source": [
    "### a. Lists are heterogeneous\n",
    "- Lists are heterogeneous, as their elements/items can be of any data type"
   ]
  },
  {
   "cell_type": "code",
   "execution_count": null,
   "id": "governing-junction",
   "metadata": {},
   "outputs": [],
   "source": [
    "list1 = [\"Ehtisham\", 30, 5.5]\n",
    "print(\"list1: \", list1)"
   ]
  },
  {
   "cell_type": "code",
   "execution_count": null,
   "id": "4fdf0f01",
   "metadata": {},
   "outputs": [],
   "source": []
  },
  {
   "cell_type": "code",
   "execution_count": null,
   "id": "ba093e8a",
   "metadata": {},
   "outputs": [],
   "source": []
  },
  {
   "cell_type": "markdown",
   "id": "excessive-router",
   "metadata": {},
   "source": [
    "### b. Lists are ordered\n",
    "- Lists are ordered means every element is associated by an index\n",
    "- Every time you access list elements they will show up in same sequence. \n",
    "- Moreover, two lists having same elements in different order are not same."
   ]
  },
  {
   "cell_type": "code",
   "execution_count": null,
   "id": "uniform-tribe",
   "metadata": {},
   "outputs": [],
   "source": [
    "x = 10\n",
    "y = 10\n",
    "id(x), id(y)"
   ]
  },
  {
   "cell_type": "code",
   "execution_count": null,
   "id": "turned-parliament",
   "metadata": {},
   "outputs": [],
   "source": [
    "x = [1, 2, 3]\n",
    "y = [1, 2, 3]\n",
    "\n",
    "\n",
    "print(id(x), id(y)) \n"
   ]
  },
  {
   "cell_type": "code",
   "execution_count": null,
   "id": "c70942a5",
   "metadata": {},
   "outputs": [],
   "source": [
    "print(x is y)\n",
    "print(x == y)"
   ]
  },
  {
   "cell_type": "code",
   "execution_count": null,
   "id": "aaddfd84",
   "metadata": {},
   "outputs": [],
   "source": []
  },
  {
   "cell_type": "code",
   "execution_count": null,
   "id": "enhanced-pharmaceutical",
   "metadata": {},
   "outputs": [],
   "source": [
    "a = [1, 2, 3]\n",
    "b = [2, 3, 1]\n",
    "\n",
    "\n",
    "print(id(a), id(b), a is b, a == b, sep=\"\\n\")"
   ]
  },
  {
   "cell_type": "code",
   "execution_count": null,
   "id": "a83e107a",
   "metadata": {},
   "outputs": [],
   "source": []
  },
  {
   "cell_type": "code",
   "execution_count": null,
   "id": "4d4c3b62",
   "metadata": {},
   "outputs": [],
   "source": []
  },
  {
   "cell_type": "markdown",
   "id": "naughty-headquarters",
   "metadata": {},
   "source": [
    "### c. Lists are mutable\n",
    "- We have seen in previous session that Strings are **immutable**, i.e., we cannot change the contents of a string, however, we can assign an entirely new string to a variable\n",
    "- List on the contrary are **mutable**, i.e., once a List object is created, you can change an element of the list using the index `[]` and assignment `=' operator"
   ]
  },
  {
   "cell_type": "code",
   "execution_count": null,
   "id": "assured-possibility",
   "metadata": {},
   "outputs": [],
   "source": [
    "numbers = [10, 20, 30, 40, 50]\n",
    "\n",
    "numbers"
   ]
  },
  {
   "cell_type": "code",
   "execution_count": null,
   "id": "2ce40732",
   "metadata": {},
   "outputs": [],
   "source": [
    "numbers[2] = 555\n",
    "\n",
    "print(\"numbers: \", numbers)"
   ]
  },
  {
   "cell_type": "code",
   "execution_count": null,
   "id": "c3fad71b",
   "metadata": {},
   "outputs": [],
   "source": []
  },
  {
   "cell_type": "markdown",
   "id": "cardiac-glasgow",
   "metadata": {},
   "source": [
    "### d. Lists can have duplicate emements"
   ]
  },
  {
   "cell_type": "code",
   "execution_count": null,
   "id": "broken-future",
   "metadata": {},
   "outputs": [],
   "source": [
    "# lists allow duplicate elements\n",
    "names = ['Ehtisham', 'Ali', 'Ayesha', 'Ehtisham', 'Ahmed']\n",
    "names"
   ]
  },
  {
   "cell_type": "code",
   "execution_count": null,
   "id": "f9925619",
   "metadata": {},
   "outputs": [],
   "source": [
    "set1 = set(names)\n",
    "set1"
   ]
  },
  {
   "cell_type": "code",
   "execution_count": null,
   "id": "f18b6528",
   "metadata": {},
   "outputs": [],
   "source": [
    "print(names)\n",
    "print(set1)"
   ]
  },
  {
   "cell_type": "code",
   "execution_count": null,
   "id": "195ead01",
   "metadata": {},
   "outputs": [],
   "source": []
  },
  {
   "cell_type": "code",
   "execution_count": null,
   "id": "0a818372",
   "metadata": {},
   "outputs": [],
   "source": []
  },
  {
   "cell_type": "markdown",
   "id": "transsexual-airplane",
   "metadata": {},
   "source": [
    "### e. Lists can be nested to arbitrary depth\n",
    "- You can have list within list and that can be done to an arbitrary depth. You are only restricted to the available memory on your system"
   ]
  },
  {
   "cell_type": "code",
   "execution_count": null,
   "id": "coordinated-table",
   "metadata": {},
   "outputs": [],
   "source": [
    "# A list having two sub-lists within it\n",
    "a = [1,2,3,[4,5],[6,7,8,9],10,11]\n",
    "print(a)\n"
   ]
  },
  {
   "cell_type": "code",
   "execution_count": null,
   "id": "91a8125e",
   "metadata": {},
   "outputs": [],
   "source": [
    "# A list having a sublist, which is further having a sublist and that again having a sublist\n",
    "b = [1,2,3,[4,5,[6,7,8,[9,10,11]]]]\n",
    "# a, b\n",
    "print(b , len(b))"
   ]
  },
  {
   "cell_type": "code",
   "execution_count": null,
   "id": "57fb3b7f",
   "metadata": {},
   "outputs": [],
   "source": []
  },
  {
   "cell_type": "code",
   "execution_count": null,
   "id": "e001e1e3",
   "metadata": {},
   "outputs": [],
   "source": []
  },
  {
   "cell_type": "markdown",
   "id": "reported-assignment",
   "metadata": {},
   "source": [
    "### f. Packing and Unpacking Lists"
   ]
  },
  {
   "cell_type": "code",
   "execution_count": null,
   "id": "surprising-extra",
   "metadata": {},
   "outputs": [],
   "source": [
    "# you can unpack list elements\n",
    "mylist = ['Learning', 'Practical', 'Data', 'Science', 'with', 'Ehtisham', 'Sadiq']\n",
    "\n",
    "\n",
    "mylist"
   ]
  },
  {
   "cell_type": "code",
   "execution_count": null,
   "id": "e0a6a535",
   "metadata": {},
   "outputs": [],
   "source": [
    "a, b, c, d, e, f, g = mylist # the number of variables on the left must match the number of elements in the list\n",
    "\n",
    "print (a, b,c,d, e,f,g, sep=\"\\n\")\n",
    "\n"
   ]
  },
  {
   "cell_type": "code",
   "execution_count": null,
   "id": "c9bdea0d",
   "metadata": {},
   "outputs": [],
   "source": [
    "print(type(a))"
   ]
  },
  {
   "cell_type": "code",
   "execution_count": null,
   "id": "d319c08f",
   "metadata": {},
   "outputs": [],
   "source": []
  },
  {
   "cell_type": "code",
   "execution_count": null,
   "id": "superb-drunk",
   "metadata": {},
   "outputs": [],
   "source": [
    "# you can pack individual elements to a list\n",
    "tuple1 = a,b,c,d,e,f,g\n",
    "print(tuple1)\n",
    "print(type(tuple1))"
   ]
  },
  {
   "cell_type": "code",
   "execution_count": null,
   "id": "4040f628",
   "metadata": {},
   "outputs": [],
   "source": [
    "mylist2 = list(tuple1)\n",
    "print(mylist2)\n",
    "print(type(mylist2))"
   ]
  },
  {
   "cell_type": "code",
   "execution_count": null,
   "id": "f422d5e7",
   "metadata": {},
   "outputs": [],
   "source": []
  },
  {
   "cell_type": "code",
   "execution_count": null,
   "id": "d91e93df",
   "metadata": {},
   "outputs": [],
   "source": []
  },
  {
   "cell_type": "code",
   "execution_count": null,
   "id": "abroad-creek",
   "metadata": {},
   "outputs": [],
   "source": []
  },
  {
   "cell_type": "code",
   "execution_count": null,
   "id": "b1ff02dd",
   "metadata": {},
   "outputs": [],
   "source": []
  },
  {
   "cell_type": "code",
   "execution_count": null,
   "id": "2e249bb8",
   "metadata": {},
   "outputs": [],
   "source": []
  },
  {
   "cell_type": "markdown",
   "id": "champion-israel",
   "metadata": {},
   "source": [
    "## 3. Different ways to access elements of a list\n",
    "- Since Lists like Strings are of type sequence, and any element within a sequence can be accessed by entrying an index within square brackets. So naturally this must work for Lists as well strings.\n",
    "- Similarly, if we want to find out the index of a specific item/element, we can use the `index()` method of List class"
   ]
  },
  {
   "cell_type": "code",
   "execution_count": null,
   "id": "hollywood-venice",
   "metadata": {},
   "outputs": [],
   "source": [
    "#You can access elements of list using indexing which starts from zero\n",
    "list1 = [\"Ehtisham\", 30, 5.5, [10,'ali']]\n",
    "print(list1[3])"
   ]
  },
  {
   "cell_type": "code",
   "execution_count": null,
   "id": "b6442511",
   "metadata": {},
   "outputs": [],
   "source": []
  },
  {
   "cell_type": "code",
   "execution_count": null,
   "id": "a6172c28",
   "metadata": {},
   "outputs": [],
   "source": []
  },
  {
   "cell_type": "code",
   "execution_count": null,
   "id": "6b7f291e",
   "metadata": {},
   "outputs": [],
   "source": [
    "#accessing Nested list element\n",
    "print(list1[0])\n",
    "print(list1[0][2])              #accessing third element of string at index 0\n"
   ]
  },
  {
   "cell_type": "code",
   "execution_count": null,
   "id": "e0ca2be4",
   "metadata": {},
   "outputs": [],
   "source": [
    "print(list1[3][1])              #accessing second element of Nested list"
   ]
  },
  {
   "cell_type": "code",
   "execution_count": null,
   "id": "f3bc0935",
   "metadata": {},
   "outputs": [],
   "source": []
  },
  {
   "cell_type": "code",
   "execution_count": null,
   "id": "d8e76c2e",
   "metadata": {},
   "outputs": [],
   "source": []
  },
  {
   "cell_type": "code",
   "execution_count": null,
   "id": "c1888fa1",
   "metadata": {},
   "outputs": [],
   "source": []
  },
  {
   "cell_type": "code",
   "execution_count": null,
   "id": "earlier-career",
   "metadata": {},
   "outputs": [],
   "source": [
    "#Negative indexing starts looking at the list from the right hand side\n",
    "list1 = [\"Ehtisham\", 30, 5.5, [10,'ali']]\n",
    "list1"
   ]
  },
  {
   "cell_type": "code",
   "execution_count": null,
   "id": "404d8e4e",
   "metadata": {},
   "outputs": [],
   "source": [
    "print(list1[-1])                #accessing last element\n",
    "print(list1[-2])                #accessing second last element"
   ]
  },
  {
   "cell_type": "code",
   "execution_count": null,
   "id": "f055a6bc",
   "metadata": {},
   "outputs": [],
   "source": []
  },
  {
   "cell_type": "code",
   "execution_count": null,
   "id": "satisfactory-failure",
   "metadata": {},
   "outputs": [],
   "source": [
    "help(list1.index)"
   ]
  },
  {
   "cell_type": "code",
   "execution_count": null,
   "id": "ranking-animation",
   "metadata": {},
   "outputs": [],
   "source": [
    "# index(value) method is used when you know the list element and wants to get its index\n",
    "# index(value) method returns the index of the first matched item with its only argument\n",
    "mylist = [27, 4.5, 'Ehtisham', 64, 'ali', 19, 'Ehtisham']\n"
   ]
  },
  {
   "cell_type": "code",
   "execution_count": null,
   "id": "0ccf6315",
   "metadata": {},
   "outputs": [],
   "source": [
    "print(\"\\nmylist: \", mylist)\n"
   ]
  },
  {
   "cell_type": "code",
   "execution_count": null,
   "id": "00cb6943",
   "metadata": {},
   "outputs": [],
   "source": [
    "mylist.index('ahmed')"
   ]
  },
  {
   "cell_type": "code",
   "execution_count": null,
   "id": "883c5e7c",
   "metadata": {},
   "outputs": [],
   "source": [
    "mylist.index(\"Ehtisham\")"
   ]
  },
  {
   "cell_type": "code",
   "execution_count": null,
   "id": "3604c40c",
   "metadata": {},
   "outputs": [],
   "source": [
    "# mylist[2]"
   ]
  },
  {
   "cell_type": "code",
   "execution_count": null,
   "id": "42d5f883",
   "metadata": {},
   "outputs": [],
   "source": []
  },
  {
   "cell_type": "code",
   "execution_count": null,
   "id": "taken-wallpaper",
   "metadata": {},
   "outputs": [],
   "source": []
  },
  {
   "cell_type": "markdown",
   "id": "ongoing-velvet",
   "metadata": {},
   "source": [
    "## 4. Slicing Lists\n",
    "- Like anyother sequence object we can perform slicing with lists as well.\n",
    "- Slicing is the process of obtaining a portion of a list by using its indices.\n",
    "- Given a list, we can use the following template to slice it and obtain a sublist:\n",
    "```\n",
    "mylist[start:end:step]\n",
    "```\n",
    "\n",
    "- **start** is the index from where we want the sublist to start. If start is not provided, slicing starts from the beginning.\n",
    "- **end** is the index where we want our sublist to end (not inclusive in the sublist). If end is not provided, slicing goes till the last element of the list.\n",
    "- **step** is the step through which we want to skip elements in the list. The default step is 1, so we iterate through every element of the list."
   ]
  },
  {
   "cell_type": "code",
   "execution_count": null,
   "id": "dying-salem",
   "metadata": {},
   "outputs": [],
   "source": [
    "list1 = ['a','b','c','d','e','f','g','h','i']\n",
    "list1"
   ]
  },
  {
   "cell_type": "code",
   "execution_count": null,
   "id": "diverse-message",
   "metadata": {},
   "outputs": [],
   "source": [
    "list1[::]"
   ]
  },
  {
   "cell_type": "code",
   "execution_count": null,
   "id": "executive-august",
   "metadata": {},
   "outputs": [],
   "source": [
    "list1[3:]"
   ]
  },
  {
   "cell_type": "code",
   "execution_count": null,
   "id": "neutral-carbon",
   "metadata": {},
   "outputs": [],
   "source": [
    "list1[:4]"
   ]
  },
  {
   "cell_type": "code",
   "execution_count": null,
   "id": "behavioral-retail",
   "metadata": {},
   "outputs": [],
   "source": [
    "list1[2:5]"
   ]
  },
  {
   "cell_type": "code",
   "execution_count": null,
   "id": "viral-template",
   "metadata": {},
   "outputs": [],
   "source": [
    "list1[:-2]"
   ]
  },
  {
   "cell_type": "code",
   "execution_count": null,
   "id": "aboriginal-drink",
   "metadata": {},
   "outputs": [],
   "source": [
    "list1[-1]"
   ]
  },
  {
   "cell_type": "code",
   "execution_count": null,
   "id": "b3a98a25",
   "metadata": {},
   "outputs": [],
   "source": []
  },
  {
   "cell_type": "code",
   "execution_count": null,
   "id": "7634af09",
   "metadata": {},
   "outputs": [],
   "source": []
  },
  {
   "cell_type": "code",
   "execution_count": null,
   "id": "incorporate-crown",
   "metadata": {},
   "outputs": [],
   "source": [
    "# Slicing by using strides\n",
    "list1 = ['a','b','c','d','e','f','g','h','i']\n",
    "print(list1[::])  # A default step of 1\n",
    "print(list1[::1])  # A step of 1\n",
    "print(list1[::2])  # A step of 2\n",
    "print(list1[::3])  # A step of 3"
   ]
  },
  {
   "cell_type": "code",
   "execution_count": null,
   "id": "4e4dd6cd",
   "metadata": {},
   "outputs": [],
   "source": []
  },
  {
   "cell_type": "code",
   "execution_count": null,
   "id": "interior-beaver",
   "metadata": {},
   "outputs": [],
   "source": [
    "# Reverse slicing\n",
    "list1 = ['a','b','c','d','e','f','g','h','i']\n",
    "\n",
    "print(list1[::-1]) # Take 1 step back each time\n",
    "\n"
   ]
  },
  {
   "cell_type": "code",
   "execution_count": null,
   "id": "cf30ce23",
   "metadata": {},
   "outputs": [],
   "source": [
    "print(list1[5:1:-1]) # Take 1 step back each time\n",
    "# if start is less than end in case of a negative step, it will return empty string"
   ]
  },
  {
   "cell_type": "code",
   "execution_count": null,
   "id": "f7574b09",
   "metadata": {},
   "outputs": [],
   "source": [
    "\n",
    "print(list1[2:10:-1])\n",
    "\n"
   ]
  },
  {
   "cell_type": "code",
   "execution_count": null,
   "id": "f6248cdb",
   "metadata": {},
   "outputs": [],
   "source": [
    "print(list1[::-2]) # Take 2 steps back"
   ]
  },
  {
   "cell_type": "code",
   "execution_count": null,
   "id": "31f67520",
   "metadata": {},
   "outputs": [],
   "source": [
    "len(list1)"
   ]
  },
  {
   "cell_type": "code",
   "execution_count": null,
   "id": "exotic-armor",
   "metadata": {},
   "outputs": [],
   "source": []
  },
  {
   "cell_type": "markdown",
   "id": "electoral-buffer",
   "metadata": {},
   "source": [
    "Here are some experiments you should try out:\n",
    "\n",
    "* Try setting one or both indices of the range are larger than the size of the list, e.g., `a_list[2:10]`\n",
    "* Try setting the start index of the range to be larger than the end index, e.g., `a_list[12:10]`\n",
    "* Try leaving out the start or end index of a range, e.g., `a_list[2:]` or `a_list[:5]`\n",
    "* Try using negative indices for the range, e.g., `a_list[-2:-5]` or `a_list[-5:-2]` (can you explain the results?)\n",
    "\n",
    "> The flexible and interactive nature of Jupyter notebooks makes them an excellent tool for learning and experimentation. If you are new to Python, you can resolve most questions as soon as they arise simply by typing the code into a cell and executing it. **Let your curiosity run wild, discover what Python is capable of and what it isn't!**"
   ]
  },
  {
   "cell_type": "markdown",
   "id": "legislative-latest",
   "metadata": {},
   "source": [
    "## 5. List Concatenation and Repetition"
   ]
  },
  {
   "cell_type": "markdown",
   "id": "competent-antibody",
   "metadata": {},
   "source": [
    "### a. Concatenating Lists\n",
    "- Like Strings, the `+` operator can be used to concatenate two or more lists"
   ]
  },
  {
   "cell_type": "code",
   "execution_count": null,
   "id": "naked-guest",
   "metadata": {},
   "outputs": [],
   "source": [
    "# Add some elements to the end of an existing list using concatenation operator\n",
    "a = [1,2,3]\n",
    "b = a + [4,5]\n",
    "\n",
    "\n",
    "print(a)\n",
    "print(b)"
   ]
  },
  {
   "cell_type": "code",
   "execution_count": null,
   "id": "5eb8d1b7",
   "metadata": {},
   "outputs": [],
   "source": [
    "# Add some elements to the beginning of an existing list using concatenation operator\n",
    "c = [0] + b\n",
    "print(a, b, c, sep=\"\\n\")"
   ]
  },
  {
   "cell_type": "code",
   "execution_count": null,
   "id": "north-benefit",
   "metadata": {},
   "outputs": [],
   "source": [
    "# use + operator to concatenate two lists\n",
    "\n",
    "food_items1 = ['fruits', 'bread', 'veggies'] \n",
    "food_items2 = ['meat', 'spices', 'burger']\n",
    "food = food_items1 + food_items2\n",
    "print(food)"
   ]
  },
  {
   "cell_type": "code",
   "execution_count": null,
   "id": "cb02565b",
   "metadata": {},
   "outputs": [],
   "source": []
  },
  {
   "cell_type": "code",
   "execution_count": null,
   "id": "wanted-claim",
   "metadata": {},
   "outputs": [],
   "source": [
    "# You can concatenate two heterogeneous lists\n",
    "list1 = [5, 3.4, 'hello']\n",
    "list2 = [31, 9.7, 'bye']\n",
    "list3 = list1 + list2\n",
    "print(list3)"
   ]
  },
  {
   "cell_type": "code",
   "execution_count": null,
   "id": "b714ee70",
   "metadata": {},
   "outputs": [],
   "source": []
  },
  {
   "cell_type": "code",
   "execution_count": null,
   "id": "sensitive-report",
   "metadata": {},
   "outputs": [],
   "source": [
    "num1 = [1,2,3]\n",
    "num2 = num1 + [4, 5, 6, [7, 8]]\n",
    "print (num2)"
   ]
  },
  {
   "cell_type": "code",
   "execution_count": null,
   "id": "4615f997",
   "metadata": {},
   "outputs": [],
   "source": []
  },
  {
   "cell_type": "code",
   "execution_count": null,
   "id": "7e46452b",
   "metadata": {},
   "outputs": [],
   "source": []
  },
  {
   "cell_type": "markdown",
   "id": "acceptable-commercial",
   "metadata": {},
   "source": [
    "### b. Replicating Lists\n",
    "- Like Strings, the `*` operator can be used to repeat or replicate a list multiple times"
   ]
  },
  {
   "cell_type": "code",
   "execution_count": null,
   "id": "polish-stand",
   "metadata": {},
   "outputs": [],
   "source": [
    "# use list * n syntax to create large lists by repeating the list n times\n",
    "name = ['Ehtisham', 'Ali', 'Ahmed']\n",
    "a = name * 3\n",
    "print(a)"
   ]
  },
  {
   "cell_type": "code",
   "execution_count": null,
   "id": "7ddf59ea",
   "metadata": {},
   "outputs": [],
   "source": []
  },
  {
   "cell_type": "code",
   "execution_count": null,
   "id": "textile-senator",
   "metadata": {},
   "outputs": [],
   "source": [
    "#list of 100 A's\n",
    "buf = ['A']\n",
    "newbuf = buf * 100\n",
    "print(newbuf)"
   ]
  },
  {
   "cell_type": "code",
   "execution_count": null,
   "id": "9fda84e8",
   "metadata": {},
   "outputs": [],
   "source": []
  },
  {
   "cell_type": "code",
   "execution_count": null,
   "id": "1eb85315",
   "metadata": {},
   "outputs": [],
   "source": []
  },
  {
   "cell_type": "markdown",
   "id": "military-easter",
   "metadata": {},
   "source": [
    "## 6. Modifying/Adding elements to a list\n",
    "\n",
    "- We have worked on different methods of String class in our previous session. Similarly there are several built-in methods of the List class. \n",
    "> **Remember, unlike String methods, most methods of List class modify the original List rather than returning a new one.**\n",
    "- Lists are dynamic, as we write our Python program, we can actually make changes to our already created list, whithout having to go for compiling it again. \n",
    "- If we have to add certain elements to an already created list, the original list gorws dynamically without the need of compiling/running the program again (as in case of heap memory in C/C++)\n",
    "\n",
    "- We can use a list methods to perform various tasks on a list object and modify it. \n",
    "- Some list methods that can be used to alter a list are (append, insert, extend, remove, pop, clear, index, count, sort, reverse, split and join)\n",
    "- Check out some common list operations here: https://www.w3schools.com/python/python_ref_list.asp ."
   ]
  },
  {
   "cell_type": "markdown",
   "id": "royal-ratio",
   "metadata": {},
   "source": [
    "### a. Modifying/Adding elements to a list using [ ] operator"
   ]
  },
  {
   "cell_type": "code",
   "execution_count": null,
   "id": "prostate-manner",
   "metadata": {},
   "outputs": [],
   "source": [
    "mylist = ['data science', 'machine learning', 2, 5, 7]\n",
    "# Let us change the second element of this list\n",
    "print(\"Original List : \", mylist)\n",
    "\n"
   ]
  },
  {
   "cell_type": "code",
   "execution_count": null,
   "id": "2fda6e20",
   "metadata": {},
   "outputs": [],
   "source": [
    "mylist[1] = 'big data' #item assignment\n",
    "\n",
    "print(len(mylist))\n",
    "print(\"New List/ Modified List : \",mylist)"
   ]
  },
  {
   "cell_type": "code",
   "execution_count": null,
   "id": "9348279d",
   "metadata": {},
   "outputs": [],
   "source": []
  },
  {
   "cell_type": "code",
   "execution_count": null,
   "id": "c361d122",
   "metadata": {},
   "outputs": [],
   "source": []
  },
  {
   "cell_type": "code",
   "execution_count": null,
   "id": "3a4eaf54",
   "metadata": {},
   "outputs": [],
   "source": []
  },
  {
   "cell_type": "code",
   "execution_count": null,
   "id": "capital-knitting",
   "metadata": {},
   "outputs": [],
   "source": [
    "# We can use the slice index to modify multiple list elements in one go\n",
    "mylist = ['data science', 'machine learning', 2, 5, 7]\n",
    "print(\"Original List : \", mylist)\n",
    "\n"
   ]
  },
  {
   "cell_type": "code",
   "execution_count": null,
   "id": "e7f202ba",
   "metadata": {},
   "outputs": [],
   "source": [
    "mylist[0:2] = ['english', 'urdu'] # Note we are replacing two elements with two elements\n",
    "\n",
    "print(len(mylist))\n",
    "\n",
    "print(\"Modified List : \", mylist)"
   ]
  },
  {
   "cell_type": "code",
   "execution_count": null,
   "id": "0aa1ee9f",
   "metadata": {},
   "outputs": [],
   "source": []
  },
  {
   "cell_type": "code",
   "execution_count": null,
   "id": "expected-operation",
   "metadata": {},
   "outputs": [],
   "source": [
    "# We can replace more number of elements with lesser number of elements in a list\n",
    "mylist = ['data science', 'machine learning', 2, 5, 7]\n",
    "\n",
    "mylist"
   ]
  },
  {
   "cell_type": "code",
   "execution_count": null,
   "id": "120f9c6c",
   "metadata": {},
   "outputs": [],
   "source": [
    "mylist[0:2] = ['BIG DATA'] # Note we are replacing two elements with one element\n",
    "mylist"
   ]
  },
  {
   "cell_type": "code",
   "execution_count": null,
   "id": "c8ff15c3",
   "metadata": {},
   "outputs": [],
   "source": [
    "mylist[0:2] = 'BIG DATA' # Note we are replacing two elements with one element\n",
    "mylist"
   ]
  },
  {
   "cell_type": "code",
   "execution_count": null,
   "id": "d466d82a",
   "metadata": {},
   "outputs": [],
   "source": []
  },
  {
   "cell_type": "code",
   "execution_count": null,
   "id": "4732e266",
   "metadata": {},
   "outputs": [],
   "source": []
  },
  {
   "cell_type": "code",
   "execution_count": null,
   "id": "4fe9b6cc",
   "metadata": {},
   "outputs": [],
   "source": []
  },
  {
   "cell_type": "code",
   "execution_count": null,
   "id": "potential-operation",
   "metadata": {},
   "outputs": [],
   "source": [
    "# We can replace one element with more number of elements in a list\n",
    "mylist = ['data science', 'machine learning', 2, 5, 7]\n",
    "\n",
    "mylist"
   ]
  },
  {
   "cell_type": "code",
   "execution_count": null,
   "id": "e96b0139",
   "metadata": {},
   "outputs": [],
   "source": [
    "mylist[0] = ['math', 'stat'] # Note we are replacing one element with two elements\n",
    "\n",
    "mylist"
   ]
  },
  {
   "cell_type": "code",
   "execution_count": null,
   "id": "3409a9f6",
   "metadata": {},
   "outputs": [],
   "source": []
  },
  {
   "cell_type": "markdown",
   "id": "residential-syndication",
   "metadata": {},
   "source": [
    "- Note the elements have been added, but as a sub-list. The first element 'data science' is replaced by a sub-list having two elements 'math' and 'stat'\n",
    "- If you want the elements to be individually placed in the list do as follows:"
   ]
  },
  {
   "cell_type": "code",
   "execution_count": null,
   "id": "growing-fitting",
   "metadata": {},
   "outputs": [],
   "source": [
    "mylist = ['data science', 'machine learning', 2, 5, 7]\n",
    "mylist[0:1] = ['math', 'stat'] # Note we using a slice instead of single index, although it means just zero\n",
    "mylist"
   ]
  },
  {
   "cell_type": "code",
   "execution_count": null,
   "id": "expressed-vision",
   "metadata": {},
   "outputs": [],
   "source": []
  },
  {
   "cell_type": "code",
   "execution_count": null,
   "id": "collaborative-somewhere",
   "metadata": {},
   "outputs": [],
   "source": [
    "\n"
   ]
  },
  {
   "cell_type": "code",
   "execution_count": null,
   "id": "pointed-discount",
   "metadata": {},
   "outputs": [],
   "source": []
  },
  {
   "cell_type": "code",
   "execution_count": null,
   "id": "dominican-familiar",
   "metadata": {},
   "outputs": [],
   "source": []
  },
  {
   "cell_type": "markdown",
   "id": "modified-referral",
   "metadata": {},
   "source": [
    "### b. Adding elements to a list using `list.append(value)` method\n",
    "- `list.append(value)` method is used when you want to add a single element at the end of the list\n",
    "- It is passed one argument which is the element to be inserted and returns none/void"
   ]
  },
  {
   "cell_type": "code",
   "execution_count": null,
   "id": "3aed284d",
   "metadata": {},
   "outputs": [],
   "source": []
  },
  {
   "cell_type": "code",
   "execution_count": null,
   "id": "146618fe",
   "metadata": {},
   "outputs": [],
   "source": []
  },
  {
   "cell_type": "code",
   "execution_count": null,
   "id": "ordered-region",
   "metadata": {},
   "outputs": [],
   "source": [
    "list1 = []\n",
    "help(list1.append)"
   ]
  },
  {
   "cell_type": "code",
   "execution_count": null,
   "id": "becoming-activity",
   "metadata": {},
   "outputs": [],
   "source": [
    "list1 = [2, 4, 6, 8]\n",
    "print(list1)\n"
   ]
  },
  {
   "cell_type": "code",
   "execution_count": null,
   "id": "advisory-optimization",
   "metadata": {},
   "outputs": [],
   "source": [
    "list1.append(4.631)\n"
   ]
  },
  {
   "cell_type": "code",
   "execution_count": null,
   "id": "exciting-absorption",
   "metadata": {},
   "outputs": [],
   "source": [
    "list1"
   ]
  },
  {
   "cell_type": "code",
   "execution_count": null,
   "id": "91552b1b",
   "metadata": {},
   "outputs": [],
   "source": [
    "list1.append('hello')\n",
    "list1"
   ]
  },
  {
   "cell_type": "code",
   "execution_count": null,
   "id": "96c38172",
   "metadata": {},
   "outputs": [],
   "source": []
  },
  {
   "cell_type": "code",
   "execution_count": null,
   "id": "mysterious-hearing",
   "metadata": {},
   "outputs": [],
   "source": []
  },
  {
   "cell_type": "code",
   "execution_count": null,
   "id": "fifty-dylan",
   "metadata": {},
   "outputs": [],
   "source": [
    "# You cannot add multiple elements using append\n",
    "# If you try it will actually add those elements as a sub-list\n",
    "list1 = [2, 4, 6, 8]\n",
    "\n",
    "list1.append([4.631, 'hello'])\n"
   ]
  },
  {
   "cell_type": "code",
   "execution_count": null,
   "id": "2232d9e1",
   "metadata": {},
   "outputs": [],
   "source": [
    "list1"
   ]
  },
  {
   "cell_type": "code",
   "execution_count": null,
   "id": "622a99a2",
   "metadata": {},
   "outputs": [],
   "source": [
    "list1.append(['ali',32,4,4])\n",
    "\n",
    "list1"
   ]
  },
  {
   "cell_type": "code",
   "execution_count": null,
   "id": "5f4a0052",
   "metadata": {},
   "outputs": [],
   "source": []
  },
  {
   "cell_type": "markdown",
   "id": "defensive-circle",
   "metadata": {},
   "source": [
    "### c. Adding elements to a list using `list.extend(sublist)` method\n",
    "- `list.extend(sublist)` method is used when you want to add multiple elements at the end of the list\n",
    "- It is passed a list to be added at the end and returns none/void"
   ]
  },
  {
   "cell_type": "code",
   "execution_count": null,
   "id": "figured-arrangement",
   "metadata": {},
   "outputs": [],
   "source": [
    "list1 = []\n",
    "help(list1.extend)"
   ]
  },
  {
   "cell_type": "code",
   "execution_count": null,
   "id": "cheap-persian",
   "metadata": {},
   "outputs": [],
   "source": [
    "list1 = [2, 4, 6, 8]\n",
    "print(\"Original List : \", list1)\n",
    "list1.extend([4.631, 'hello'])\n",
    "list1.extend('Ali')\n",
    "list1"
   ]
  },
  {
   "cell_type": "code",
   "execution_count": null,
   "id": "a3447af9",
   "metadata": {},
   "outputs": [],
   "source": []
  },
  {
   "cell_type": "code",
   "execution_count": null,
   "id": "f3827230",
   "metadata": {},
   "outputs": [],
   "source": []
  },
  {
   "cell_type": "code",
   "execution_count": null,
   "id": "interpreted-burton",
   "metadata": {},
   "outputs": [],
   "source": [
    "# another example of extend()\n",
    "fruits = ['apple', 'banana', 'cherry']\n",
    "vegs = ['potato', 'tomato', 'radish']\n",
    "fruits.extend(vegs)\n",
    "fruits"
   ]
  },
  {
   "cell_type": "code",
   "execution_count": null,
   "id": "f4a24795",
   "metadata": {},
   "outputs": [],
   "source": []
  },
  {
   "cell_type": "code",
   "execution_count": null,
   "id": "c944d795",
   "metadata": {},
   "outputs": [],
   "source": []
  },
  {
   "cell_type": "markdown",
   "id": "convinced-savannah",
   "metadata": {},
   "source": [
    "### d. Adding elements to a list using `list.insert(index, value)` method\n",
    "- `list.insert(index, value)` method is used when you want to add an element at a specific location in the list\n",
    "- It is passed index and value and returns none/void"
   ]
  },
  {
   "cell_type": "code",
   "execution_count": null,
   "id": "thermal-belarus",
   "metadata": {},
   "outputs": [],
   "source": [
    "list1 = []\n",
    "help(list1.insert)"
   ]
  },
  {
   "cell_type": "code",
   "execution_count": null,
   "id": "eligible-shuttle",
   "metadata": {},
   "outputs": [],
   "source": []
  },
  {
   "cell_type": "code",
   "execution_count": null,
   "id": "constitutional-illustration",
   "metadata": {},
   "outputs": [],
   "source": [
    "myfamily = [\"Ehtisham\", 'Ali', 'Ayesha']\n",
    "\n",
    "print(\"\\nOriginal family list: \", myfamily)\n"
   ]
  },
  {
   "cell_type": "code",
   "execution_count": null,
   "id": "de371ea2",
   "metadata": {},
   "outputs": [],
   "source": [
    "myfamily.insert(2,'Dua')\n",
    "\n",
    "print(\"After insert: \", myfamily)"
   ]
  },
  {
   "cell_type": "code",
   "execution_count": null,
   "id": "6acebed8",
   "metadata": {},
   "outputs": [],
   "source": []
  },
  {
   "cell_type": "code",
   "execution_count": null,
   "id": "earned-voltage",
   "metadata": {},
   "outputs": [],
   "source": [
    "myfamily.insert(3,'Adeen')\n",
    "print(\"After insert: \", myfamily)"
   ]
  },
  {
   "cell_type": "code",
   "execution_count": null,
   "id": "11ea9ca3",
   "metadata": {},
   "outputs": [],
   "source": []
  },
  {
   "cell_type": "code",
   "execution_count": null,
   "id": "da7154d8",
   "metadata": {},
   "outputs": [],
   "source": []
  },
  {
   "cell_type": "code",
   "execution_count": null,
   "id": "absent-usage",
   "metadata": {},
   "outputs": [],
   "source": [
    "# you can insert a sub-list\n",
    "\n",
    "myfamily = [\"Ehtisham\", 'Ali', 'Ayesha']\n",
    "\n",
    "myfamily.insert(5,['Dua','Adeen'])\n",
    "\n",
    "print(len(myfamily))\n",
    "\n",
    "print(myfamily)"
   ]
  },
  {
   "cell_type": "code",
   "execution_count": null,
   "id": "d951b317",
   "metadata": {},
   "outputs": [],
   "source": [
    "myfamily[3]"
   ]
  },
  {
   "cell_type": "code",
   "execution_count": null,
   "id": "566a2369",
   "metadata": {},
   "outputs": [],
   "source": []
  },
  {
   "cell_type": "markdown",
   "id": "accessory-advancement",
   "metadata": {},
   "source": [
    "## 7. Removing elements from a list using `list.pop()` and `list.remove()` methods\n",
    "- Lists are dynamic, as we write our Python program, we can actually make changes to our already created list, whithout having to go for compiling it again. \n",
    "- If we have to remove certain elements from an already created list, the original list shrinks dynamically without the need of compiling/running the program again (as in case of heap memory in C/C++)"
   ]
  },
  {
   "cell_type": "markdown",
   "id": "ruled-lambda",
   "metadata": {},
   "source": [
    "### a. Removing element from a List using `list.pop(index)` method\n",
    "- The `list.pop()` method without any argument removes the last item (right most element) in the list and returns it\n",
    "- If given an argument/index, will remove that item from list whose index is given and returns it"
   ]
  },
  {
   "cell_type": "code",
   "execution_count": null,
   "id": "charming-shield",
   "metadata": {},
   "outputs": [],
   "source": [
    "list1 = []\n",
    "help(list1.pop)"
   ]
  },
  {
   "cell_type": "code",
   "execution_count": null,
   "id": "collectible-farmer",
   "metadata": {},
   "outputs": [],
   "source": [
    "mylist = ['Learning', 'Practical', 'Data', 'Science', 'with', 'Ehtisham', 'Sadiq']\n",
    "\n",
    "\n",
    "print(\"Original list: \", mylist)\n"
   ]
  },
  {
   "cell_type": "code",
   "execution_count": null,
   "id": "6db28e84",
   "metadata": {},
   "outputs": [],
   "source": [
    "x  = mylist.pop()\n",
    "print(\"\\nAfter pop(): \", mylist)\n",
    "print(\"Element popped is: \", x)"
   ]
  },
  {
   "cell_type": "code",
   "execution_count": null,
   "id": "2135547c",
   "metadata": {},
   "outputs": [],
   "source": []
  },
  {
   "cell_type": "code",
   "execution_count": null,
   "id": "proper-shock",
   "metadata": {},
   "outputs": [],
   "source": [
    "y = mylist.pop(2)\n",
    "print(\"\\nAfter pop(2): \", mylist)\n",
    "print(\"Element popped is: \", y)"
   ]
  },
  {
   "cell_type": "code",
   "execution_count": null,
   "id": "9def327d",
   "metadata": {},
   "outputs": [],
   "source": []
  },
  {
   "cell_type": "code",
   "execution_count": null,
   "id": "muslim-illustration",
   "metadata": {},
   "outputs": [],
   "source": [
    "z = mylist.pop(-2)\n",
    "print(\"\\nAfter pop(-2): \", mylist)\n",
    "print(\"Element popped is: \", z)"
   ]
  },
  {
   "cell_type": "code",
   "execution_count": null,
   "id": "endangered-decrease",
   "metadata": {},
   "outputs": [],
   "source": [
    "list2 = []\n",
    "list2.pop()"
   ]
  },
  {
   "cell_type": "code",
   "execution_count": null,
   "id": "0f3c7717",
   "metadata": {},
   "outputs": [],
   "source": [
    "len(mylist), mylist[5]"
   ]
  },
  {
   "cell_type": "code",
   "execution_count": null,
   "id": "60fdceba",
   "metadata": {},
   "outputs": [],
   "source": []
  },
  {
   "cell_type": "markdown",
   "id": "asian-edmonton",
   "metadata": {},
   "source": [
    "### b. Removing element from a list using `list.remove(val)` method\n",
    "- The `list.remove(value)` method is used when you want to remove a specific element without returning it\n",
    "- It is passed exactly one argument, which is the value to be removed and returns none/void\n",
    "- In case of multiple occurrances, it removes the first occurrence of the element"
   ]
  },
  {
   "cell_type": "code",
   "execution_count": null,
   "id": "russian-smoke",
   "metadata": {},
   "outputs": [],
   "source": [
    "list1 = []\n",
    "help(list1.remove)"
   ]
  },
  {
   "cell_type": "code",
   "execution_count": null,
   "id": "electoral-siemens",
   "metadata": {},
   "outputs": [],
   "source": [
    "mylist = ['Learning', 'Practical', 'Data', 'Science', 'with', 'Ehtisham', 'Sadiq']\n",
    "\n",
    "print(\"\\nOriginal list: \", mylist)"
   ]
  },
  {
   "cell_type": "code",
   "execution_count": null,
   "id": "828bf6be",
   "metadata": {},
   "outputs": [],
   "source": [
    "x = mylist.remove('Data')\n",
    "\n",
    "print(\"After remove('Data'): \", mylist)\n",
    "print(\"Return value of remove() is: \", x)"
   ]
  },
  {
   "cell_type": "code",
   "execution_count": null,
   "id": "a8b1ec08",
   "metadata": {},
   "outputs": [],
   "source": [
    "x = mylist.remove('Ali')\n",
    "\n",
    "print(\"After remove('Data'): \", mylist)\n",
    "print(\"Return value of remove() is: \", x)"
   ]
  },
  {
   "cell_type": "code",
   "execution_count": null,
   "id": "2a53ede4",
   "metadata": {},
   "outputs": [],
   "source": []
  },
  {
   "cell_type": "code",
   "execution_count": null,
   "id": "670e5bf3",
   "metadata": {},
   "outputs": [],
   "source": []
  },
  {
   "cell_type": "markdown",
   "id": "objective-stand",
   "metadata": {},
   "source": [
    "### c. Using `list.clear()` method to remove all the list elements"
   ]
  },
  {
   "cell_type": "code",
   "execution_count": null,
   "id": "arctic-brave",
   "metadata": {},
   "outputs": [],
   "source": [
    "list1 = []\n",
    "help(list1.clear)"
   ]
  },
  {
   "cell_type": "code",
   "execution_count": null,
   "id": "altered-extra",
   "metadata": {},
   "outputs": [],
   "source": [
    "mylist = ['Learning', 'Practical', 'Data', 'Science', 'with', 'Ehtisham', 'Sadiq']\n",
    "print(id(mylist))\n",
    "\n",
    "mylist.clear()\n",
    "\n",
    "print(\"\\nAfter clear() the list becomes empty: \", mylist)\n",
    "print(id(mylist))"
   ]
  },
  {
   "cell_type": "code",
   "execution_count": null,
   "id": "217022b2",
   "metadata": {},
   "outputs": [],
   "source": []
  },
  {
   "cell_type": "code",
   "execution_count": null,
   "id": "d732931e",
   "metadata": {},
   "outputs": [],
   "source": []
  },
  {
   "cell_type": "markdown",
   "id": "overall-burton",
   "metadata": {},
   "source": [
    "### d. Using `del` Keyword to delete one or more list items or delete the list entirely from memory"
   ]
  },
  {
   "cell_type": "code",
   "execution_count": null,
   "id": "expanded-parts",
   "metadata": {},
   "outputs": [],
   "source": [
    "help('del')"
   ]
  },
  {
   "cell_type": "code",
   "execution_count": null,
   "id": "willing-rabbit",
   "metadata": {},
   "outputs": [],
   "source": [
    "# use del keyword to delete one or more list items by using index or to delete the list entirely from memory\n",
    "list3 = [1,2,3,4,5,6,7,8,9]\n",
    "\n",
    "del list3[3:6]\n",
    "\n",
    "list3"
   ]
  },
  {
   "cell_type": "code",
   "execution_count": null,
   "id": "48241d3e",
   "metadata": {},
   "outputs": [],
   "source": []
  },
  {
   "cell_type": "code",
   "execution_count": null,
   "id": "aboriginal-carnival",
   "metadata": {},
   "outputs": [],
   "source": [
    "# use del keyword to delete one or more list items by using index or to delete the list entirely from memory\n",
    "list3 = [1,2,3,[53, 41, 99, 12], 8,9]\n",
    "\n",
    "print(\"\\nOriginal list\", list3)\n",
    "\n",
    "del list3[3]\n",
    "\n",
    "print(\"After del list1[3] the list becomes\", list3)"
   ]
  },
  {
   "cell_type": "code",
   "execution_count": null,
   "id": "5234e228",
   "metadata": {},
   "outputs": [],
   "source": []
  },
  {
   "cell_type": "code",
   "execution_count": null,
   "id": "f75d5b6c",
   "metadata": {},
   "outputs": [],
   "source": []
  },
  {
   "cell_type": "code",
   "execution_count": null,
   "id": "nasty-reason",
   "metadata": {},
   "outputs": [],
   "source": [
    "#to delete entire list\n",
    "mylist = ['Learning', 'Practical', 'Data', 'Science', 'with', 'Ehtisham', 'Sadiq']\n",
    "\n",
    "del mylist\n",
    "\n",
    "mylist"
   ]
  },
  {
   "cell_type": "code",
   "execution_count": null,
   "id": "12d765c2",
   "metadata": {},
   "outputs": [],
   "source": []
  },
  {
   "cell_type": "markdown",
   "id": "hairy-lighter",
   "metadata": {},
   "source": [
    "## 8. Converting String object to List and vice-versa"
   ]
  },
  {
   "cell_type": "code",
   "execution_count": null,
   "id": "empirical-lightning",
   "metadata": {},
   "outputs": [],
   "source": [
    "# convert a string into list using list()\n",
    "str1 =  \"Learning Practical Data Science with Ehtisham Sadiq\"\n",
    "\n",
    "print(\"Original string: \", str1, \"and its type is:  \", type(str1), sep=\"\\n\")"
   ]
  },
  {
   "cell_type": "code",
   "execution_count": null,
   "id": "85584d82",
   "metadata": {},
   "outputs": [],
   "source": [
    "l1 = list(str1)\n",
    "print(\"l1: \", l1, \"and its type is:  \", type(l1), sep=\"\\n\")"
   ]
  },
  {
   "cell_type": "code",
   "execution_count": null,
   "id": "35458f8d",
   "metadata": {},
   "outputs": [],
   "source": []
  },
  {
   "cell_type": "code",
   "execution_count": null,
   "id": "8ff1e5c3",
   "metadata": {},
   "outputs": [],
   "source": [
    "l1 = list(str1)\n",
    "print(\"l1: \", l1, \"and its type is:  \", type(l1), sep=\"\\n\")"
   ]
  },
  {
   "cell_type": "code",
   "execution_count": null,
   "id": "a98de3c0",
   "metadata": {},
   "outputs": [],
   "source": []
  },
  {
   "cell_type": "markdown",
   "id": "still-boost",
   "metadata": {},
   "source": [
    "### b. Use `str.split()` to Split a String into List\n",
    "- Used to tokenize a string based on some delimiter, which can be stored in a list\n",
    "- It returns a list having tokens of the string based on spaces if no argument is passed"
   ]
  },
  {
   "cell_type": "code",
   "execution_count": null,
   "id": "regional-possession",
   "metadata": {},
   "outputs": [],
   "source": [
    "str1 = \"\"\n",
    "help(str1.split)"
   ]
  },
  {
   "cell_type": "code",
   "execution_count": null,
   "id": "discrete-aviation",
   "metadata": {},
   "outputs": [],
   "source": [
    "#this is a string\n",
    "str1 =  \"Learning Practical Data Science with Ehtisham Sadiq\"\n",
    "\n",
    "list1 = str1.split(\"i\")\n",
    "list1"
   ]
  },
  {
   "cell_type": "code",
   "execution_count": null,
   "id": "complicated-physics",
   "metadata": {},
   "outputs": [],
   "source": [
    "str2 = \"Data Science is GR8 Degree\"    #this is a string\n",
    "list2 = str2.split('c')\n",
    "list2"
   ]
  },
  {
   "cell_type": "code",
   "execution_count": null,
   "id": "6c47f665",
   "metadata": {},
   "outputs": [],
   "source": []
  },
  {
   "cell_type": "markdown",
   "id": "distant-aruba",
   "metadata": {},
   "source": [
    "### c. Use `str.join()` to Join List into a String\n",
    "- It is the reverse of `str.split()` method, and is used to joing multiple strings by inserting the string in between on which this method is called"
   ]
  },
  {
   "cell_type": "code",
   "execution_count": null,
   "id": "lyric-cholesterol",
   "metadata": {},
   "outputs": [],
   "source": [
    "str1 = \"\"\n",
    "help(str1.join)"
   ]
  },
  {
   "cell_type": "code",
   "execution_count": null,
   "id": "numerical-latest",
   "metadata": {},
   "outputs": [],
   "source": [
    "list1 = ['This', 'is', 'getting', 'more', 'and', 'more', 'interesting']\n",
    "list1"
   ]
  },
  {
   "cell_type": "code",
   "execution_count": null,
   "id": "boxed-somalia",
   "metadata": {},
   "outputs": [],
   "source": [
    "str2 = ' '.join(list1)\n",
    "print(str2)\n",
    "print(type(str2))"
   ]
  },
  {
   "cell_type": "code",
   "execution_count": null,
   "id": "adequate-prescription",
   "metadata": {},
   "outputs": [],
   "source": [
    "delimiter = \" # \"\n",
    "str3 = delimiter.join(list1)\n"
   ]
  },
  {
   "cell_type": "code",
   "execution_count": null,
   "id": "4bac0162",
   "metadata": {},
   "outputs": [],
   "source": [
    "print(str3)\n",
    "print(type(str3))"
   ]
  },
  {
   "cell_type": "code",
   "execution_count": null,
   "id": "5f0eb3fe",
   "metadata": {},
   "outputs": [],
   "source": []
  },
  {
   "cell_type": "code",
   "execution_count": null,
   "id": "4f671916",
   "metadata": {},
   "outputs": [],
   "source": []
  },
  {
   "cell_type": "markdown",
   "id": "muslim-verification",
   "metadata": {},
   "source": [
    "### d. Some Built-in Functions that can be used on Lists"
   ]
  },
  {
   "cell_type": "code",
   "execution_count": null,
   "id": "educational-superior",
   "metadata": {},
   "outputs": [],
   "source": [
    "help(len)"
   ]
  },
  {
   "cell_type": "code",
   "execution_count": null,
   "id": "growing-assumption",
   "metadata": {},
   "outputs": [],
   "source": [
    "help(min)"
   ]
  },
  {
   "cell_type": "code",
   "execution_count": null,
   "id": "documentary-piece",
   "metadata": {},
   "outputs": [],
   "source": [
    "help(max)"
   ]
  },
  {
   "cell_type": "code",
   "execution_count": null,
   "id": "linear-michigan",
   "metadata": {},
   "outputs": [],
   "source": [
    "list_num = [3, 8, 1, 6, 0, 8, 4]\n",
    "\n",
    "list_num"
   ]
  },
  {
   "cell_type": "code",
   "execution_count": null,
   "id": "124779c9",
   "metadata": {},
   "outputs": [],
   "source": [
    "print(\"length of list: \", len(list_num))\n",
    "\n",
    "print(\"max element in list: \", max(list_num))\n",
    "\n",
    "print(\"min element in list: \",min(list_num))\n",
    "\n",
    "print(\"Sum of element in list: \",sum(list_num))"
   ]
  },
  {
   "cell_type": "code",
   "execution_count": null,
   "id": "6980821a",
   "metadata": {},
   "outputs": [],
   "source": []
  },
  {
   "cell_type": "code",
   "execution_count": null,
   "id": "d978da2d",
   "metadata": {},
   "outputs": [],
   "source": []
  },
  {
   "cell_type": "code",
   "execution_count": null,
   "id": "415ccb60",
   "metadata": {},
   "outputs": [],
   "source": [
    "# functions vs Methods\n",
    "# function\n",
    "# len(list/str/tuple/set)\n",
    "\n",
    "# method\n",
    "# str.pop"
   ]
  },
  {
   "cell_type": "code",
   "execution_count": null,
   "id": "1bbc65c8",
   "metadata": {},
   "outputs": [],
   "source": []
  },
  {
   "cell_type": "code",
   "execution_count": null,
   "id": "b4c67d23",
   "metadata": {},
   "outputs": [],
   "source": []
  },
  {
   "cell_type": "code",
   "execution_count": null,
   "id": "87c468ec",
   "metadata": {},
   "outputs": [],
   "source": []
  },
  {
   "cell_type": "markdown",
   "id": "minus-stevens",
   "metadata": {},
   "source": [
    "## 9. Simple Assignment (aliasing) vs Shallow Copy vs Deep Copy\n",
    "\n",
    "<img src=\"images/deep-shallow.png\" height=500px width=500px>"
   ]
  },
  {
   "cell_type": "code",
   "execution_count": null,
   "id": "bd5b3ae9",
   "metadata": {},
   "outputs": [],
   "source": []
  },
  {
   "cell_type": "code",
   "execution_count": null,
   "id": "892c1b30",
   "metadata": {},
   "outputs": [],
   "source": []
  },
  {
   "cell_type": "markdown",
   "id": "hearing-removal",
   "metadata": {},
   "source": [
    "### a. Aliasing: Making an Alias of a List object using simple Assignment `=` Operator\n",
    "- In Python, we use `=` operator to create a copy/alias of an object. \n",
    "- Remember it doesnot create a new object, rather creates a new variable that shares the reference of the original object."
   ]
  },
  {
   "cell_type": "code",
   "execution_count": null,
   "id": "passive-start",
   "metadata": {},
   "outputs": [],
   "source": []
  },
  {
   "cell_type": "code",
   "execution_count": null,
   "id": "attempted-table",
   "metadata": {},
   "outputs": [],
   "source": [
    "list1 = [1, 2, 3, 4]\n",
    "list2 = list1\n",
    "\n",
    "# Both variables point to same memory object, so have the same ID\n",
    "print('ID of Old List:', id(list1))\n",
    "print('ID of New List:', id(list2))"
   ]
  },
  {
   "cell_type": "code",
   "execution_count": null,
   "id": "entire-nitrogen",
   "metadata": {},
   "outputs": [],
   "source": [
    "# If you modify an element of one object, the change will be visible in both\n",
    "list2[2] = 9\n",
    "\n",
    "print('\\nOld List:', list1)\n",
    "print('New List:', list2)\n"
   ]
  },
  {
   "cell_type": "code",
   "execution_count": null,
   "id": "ad87d510",
   "metadata": {},
   "outputs": [],
   "source": []
  },
  {
   "cell_type": "code",
   "execution_count": null,
   "id": "be82b926",
   "metadata": {},
   "outputs": [],
   "source": []
  },
  {
   "cell_type": "markdown",
   "id": "civic-fraction",
   "metadata": {},
   "source": [
    "### b. Shallow Copy\n",
    "- Shallow copy creates a new list object.\n",
    "- There are two ways of making a shallow copy\n",
    "    - On the right hand side of  `=` operator use slice operator\n",
    "    - Use `copy.copy()` method"
   ]
  },
  {
   "cell_type": "code",
   "execution_count": null,
   "id": "direct-identifier",
   "metadata": {},
   "outputs": [],
   "source": [
    "# Shallow copy using slice operator while doing assignment\n",
    "list1 = [1, 2, 3, 4]\n",
    "list2 = list1[:]\n",
    "\n",
    "# Both variables point to different memory objects, so have the different ID\n",
    "print(list1, list2)\n",
    "print('ID of Old List:', id(list1))\n",
    "print('ID of New List:', id(list2))"
   ]
  },
  {
   "cell_type": "code",
   "execution_count": null,
   "id": "2753f067",
   "metadata": {},
   "outputs": [],
   "source": []
  },
  {
   "cell_type": "code",
   "execution_count": null,
   "id": "9ecb4e8c",
   "metadata": {},
   "outputs": [],
   "source": []
  },
  {
   "cell_type": "code",
   "execution_count": null,
   "id": "former-electricity",
   "metadata": {},
   "outputs": [],
   "source": [
    "# If you modify an element of one object, the change will be not visible in both\n",
    "list2[2] = 9\n",
    "\n",
    "print('\\nOld List:', list1)\n",
    "print('New List:', list2)"
   ]
  },
  {
   "cell_type": "code",
   "execution_count": null,
   "id": "failing-batman",
   "metadata": {},
   "outputs": [],
   "source": []
  },
  {
   "cell_type": "code",
   "execution_count": null,
   "id": "occupied-invention",
   "metadata": {},
   "outputs": [],
   "source": [
    "# Shallow copy using the `copy.copy()` method\n",
    "import copy\n",
    "list1 = [1, 2, 3, 4]\n",
    "list2 = copy.copy(list1)\n",
    "\n",
    "# Both variables point to different memory objects, so have different ID\n",
    "print('ID of Old List:', id(list1))\n",
    "print('ID of New List:', id(list2))"
   ]
  },
  {
   "cell_type": "code",
   "execution_count": null,
   "id": "wanted-phase",
   "metadata": {},
   "outputs": [],
   "source": [
    "# If you modify an element of one object, the change will not be visible in other\n",
    "list2[3] = 'a'\n",
    "\n",
    "print('\\nOld List:', list1)\n",
    "print('New List:', list2)"
   ]
  },
  {
   "cell_type": "code",
   "execution_count": null,
   "id": "4b488fe9",
   "metadata": {},
   "outputs": [],
   "source": []
  },
  {
   "cell_type": "markdown",
   "id": "stupid-farmer",
   "metadata": {},
   "source": [
    "**This seems woking fine, then why this is called shallow copy**"
   ]
  },
  {
   "cell_type": "markdown",
   "id": "sustainable-railway",
   "metadata": {},
   "source": [
    "**Limitation of Shallow Copy**\n",
    "- Above examples seems fine. But shallow copy doesn't create a copy of nested objects, instead it just copies the reference of nested objects. This means, a copy process does not recurse or create copies of nested objects itself.\n",
    "- Let us understand this by an example"
   ]
  },
  {
   "cell_type": "code",
   "execution_count": null,
   "id": "western-mountain",
   "metadata": {},
   "outputs": [],
   "source": [
    "import copy\n",
    "old_list = [[1, 2, 3], [4, 5, 6], [7, 8, 9]]\n",
    "new_list = copy.copy(old_list)\n",
    "\n"
   ]
  },
  {
   "cell_type": "code",
   "execution_count": null,
   "id": "639c30eb",
   "metadata": {},
   "outputs": [],
   "source": [
    "# Both variables point to different memory object, having same references of original object elements\n",
    "print('ID of Old List:', id(old_list))\n",
    "print('ID of New List:', id(new_list))\n",
    "print(old_list)\n",
    "print(new_list)"
   ]
  },
  {
   "cell_type": "code",
   "execution_count": null,
   "id": "9f685fe9",
   "metadata": {},
   "outputs": [],
   "source": []
  },
  {
   "cell_type": "code",
   "execution_count": null,
   "id": "d3f11813",
   "metadata": {},
   "outputs": [],
   "source": []
  },
  {
   "cell_type": "code",
   "execution_count": null,
   "id": "better-tours",
   "metadata": {},
   "outputs": [],
   "source": [
    "# If you modify an element of one object, the change will be visible in both\n",
    "new_list[2][2] = 'a'\n",
    "\n",
    "# See contents of both lists\n",
    "print('\\nOld List:', old_list)\n",
    "print('New List:', new_list)"
   ]
  },
  {
   "cell_type": "code",
   "execution_count": null,
   "id": "abd01ce2",
   "metadata": {},
   "outputs": [],
   "source": [
    "# If you modify an element of one object, the change will be visible in both\n",
    "old_list[1][2] = 'b'\n",
    "\n",
    "# See contents of both lists\n",
    "print('\\nOld List:', old_list)\n",
    "print('New List:', new_list)"
   ]
  },
  {
   "cell_type": "code",
   "execution_count": null,
   "id": "bc0e614f",
   "metadata": {},
   "outputs": [],
   "source": []
  },
  {
   "cell_type": "markdown",
   "id": "endangered-chorus",
   "metadata": {},
   "source": [
    "### c. Deep Copy: Making a Copy of an Object using `copy.deepcopy()` Method\n",
    "- Deep copy creates a new object and recursively creates independent copy of original object and all its nested objects."
   ]
  },
  {
   "cell_type": "code",
   "execution_count": null,
   "id": "nominated-poster",
   "metadata": {},
   "outputs": [],
   "source": []
  },
  {
   "cell_type": "code",
   "execution_count": null,
   "id": "cardiac-melissa",
   "metadata": {},
   "outputs": [],
   "source": [
    "import copy\n",
    "old_list = [[1, 2, 3], [4, 5, 6], [7, 8, 9]]\n",
    "new_list = copy.deepcopy(old_list)\n",
    "\n",
    "# Both variables point to different memory object, having their own object elements\n",
    "print('ID of Old List:', id(old_list))\n",
    "print('ID of New List:', id(new_list))\n"
   ]
  },
  {
   "cell_type": "code",
   "execution_count": null,
   "id": "cosmetic-people",
   "metadata": {},
   "outputs": [],
   "source": [
    "# If you modify an element of one object, the change will be made only to that object element\n",
    "new_list[2][2] = 'a'\n",
    "\n",
    "# See contents of both lists\n",
    "print('\\nOld List:', old_list)\n",
    "print('New List:', new_list)"
   ]
  },
  {
   "cell_type": "code",
   "execution_count": null,
   "id": "f62f3f30",
   "metadata": {},
   "outputs": [],
   "source": []
  },
  {
   "cell_type": "code",
   "execution_count": null,
   "id": "e5e80fa5",
   "metadata": {},
   "outputs": [],
   "source": []
  },
  {
   "cell_type": "markdown",
   "id": "productive-joint",
   "metadata": {},
   "source": [
    "## 10. Sorting a List\n",
    "- You can use following three methods to sort list elements\n",
    "    - The `list.sort()` method can sort the list elements (ascending + descending) on which it is called and returns None (modifies the list on which it is called).\n",
    "    - The `list.reverse()` method simply reverse the list elements on which it is called and returns None (modifies the list on which it is called).\n",
    "    - The `sorted(iterable)` is a built-in function, which returns a sorted version of the list, which is passed to it as parameter (list remains as it is). Limitation is it is a bit slow as it makes a copy of the list. Advantage is that it can sort any iterable."
   ]
  },
  {
   "cell_type": "markdown",
   "id": "special-reservation",
   "metadata": {},
   "source": [
    "### a. The `list.sort()` method"
   ]
  },
  {
   "cell_type": "code",
   "execution_count": null,
   "id": "acoustic-definition",
   "metadata": {},
   "outputs": [],
   "source": [
    "# Modifies list on which it is called and returns none/void\n",
    "list_num = [3, 8, 1, 6, 0, 8, 4]\n",
    "print(\"Original numbers list: \", list_num)\n",
    "\n"
   ]
  },
  {
   "cell_type": "code",
   "execution_count": null,
   "id": "97972f83",
   "metadata": {},
   "outputs": [],
   "source": [
    "list_num.sort()\n",
    "print(\"Ascending Sort: \", list_num)\n"
   ]
  },
  {
   "cell_type": "code",
   "execution_count": null,
   "id": "bc0b376b",
   "metadata": {},
   "outputs": [],
   "source": [
    "list_num.sort(reverse=True)\n",
    "print(\"Descending Sort: \", list_num)\n"
   ]
  },
  {
   "cell_type": "code",
   "execution_count": null,
   "id": "a663093f",
   "metadata": {},
   "outputs": [],
   "source": []
  },
  {
   "cell_type": "code",
   "execution_count": null,
   "id": "e795a55d",
   "metadata": {},
   "outputs": [],
   "source": []
  },
  {
   "cell_type": "code",
   "execution_count": null,
   "id": "6a58ab5a",
   "metadata": {},
   "outputs": [],
   "source": []
  },
  {
   "cell_type": "code",
   "execution_count": null,
   "id": "accessible-explorer",
   "metadata": {},
   "outputs": [],
   "source": [
    "list_names = [\"XYZ\", \"ABC\", \"MNO\", \"Ehtisham\"]\n",
    "print(\"\\nOriginal names list: \", list_names)\n",
    "\n"
   ]
  },
  {
   "cell_type": "code",
   "execution_count": null,
   "id": "7be541e5",
   "metadata": {},
   "outputs": [],
   "source": [
    "list_names.sort()         \n",
    "print(\"Ascending Sort: \", list_names)\n",
    "\n",
    "list_names.sort(reverse=True)         \n",
    "print(\"Descending Sort: \", list_names)"
   ]
  },
  {
   "cell_type": "code",
   "execution_count": null,
   "id": "545a16e9",
   "metadata": {},
   "outputs": [],
   "source": []
  },
  {
   "cell_type": "code",
   "execution_count": null,
   "id": "a22aa52d",
   "metadata": {},
   "outputs": [],
   "source": []
  },
  {
   "cell_type": "code",
   "execution_count": null,
   "id": "cb2f5311",
   "metadata": {},
   "outputs": [],
   "source": []
  },
  {
   "cell_type": "code",
   "execution_count": null,
   "id": "20ec9f95",
   "metadata": {},
   "outputs": [],
   "source": []
  },
  {
   "cell_type": "code",
   "execution_count": null,
   "id": "d4f6772f",
   "metadata": {},
   "outputs": [],
   "source": []
  },
  {
   "cell_type": "markdown",
   "id": "soviet-mission",
   "metadata": {},
   "source": [
    "### b. Custom Sorting using `list.sort()` Method"
   ]
  },
  {
   "cell_type": "markdown",
   "id": "animated-kelly",
   "metadata": {},
   "source": [
    "**Example 1: Suppose given a list with elements `['ccc', 'aaaaa', 'd', 'bb']` and I want to sort it by length of strings within the list so that the output list is like : `['d', 'bb', 'ccc', 'aaaaa']`**\n",
    "\n",
    "```\n",
    "    list.sort(*, key=None, reverse=False)\n",
    "```\n",
    "- We write a one argument function, and pass that function to the `key` parameter of `list.sort()` method\n",
    "- The `list.sort()` method will run this one argument function on all the elements of the list and return a single value, and build up a shadow list of those new values. \n",
    "- Suppose the one argument function in this case is the Python built-in function `len()`, which when called on every element of `list1` will return a shadow list containing length of every string within the original list containing `[3,4,2,1]`\n",
    "- The `list1.sort()` method will then sort `list1` elements based on the values of the shadow list and generate the required sorted list :)"
   ]
  },
  {
   "cell_type": "code",
   "execution_count": null,
   "id": "informed-regulation",
   "metadata": {},
   "outputs": [],
   "source": [
    "list1 = ['ccc', 'aaaaa', 'd', 'bb']\n",
    "list1.sort()\n",
    "list1"
   ]
  },
  {
   "cell_type": "code",
   "execution_count": null,
   "id": "9b81bfe2",
   "metadata": {},
   "outputs": [],
   "source": []
  },
  {
   "cell_type": "code",
   "execution_count": null,
   "id": "8f03a863",
   "metadata": {},
   "outputs": [],
   "source": []
  },
  {
   "cell_type": "code",
   "execution_count": null,
   "id": "iraqi-cement",
   "metadata": {},
   "outputs": [],
   "source": [
    "#Example 1:\n",
    "list1 = ['ccc', 'aaaaa', 'd', 'bb']\n",
    "list1.sort(key=len)\n",
    "list1"
   ]
  },
  {
   "cell_type": "code",
   "execution_count": null,
   "id": "15b3e1ef",
   "metadata": {},
   "outputs": [],
   "source": [
    "#Example 1:\n",
    "list1 = ['ccc', 'aaaaa', 'd', 'bb']\n",
    "list1.sort(key=len, reverse=True)\n",
    "list1"
   ]
  },
  {
   "cell_type": "code",
   "execution_count": null,
   "id": "2a1152ee",
   "metadata": {},
   "outputs": [],
   "source": []
  },
  {
   "cell_type": "code",
   "execution_count": null,
   "id": "78b11892",
   "metadata": {},
   "outputs": [],
   "source": []
  },
  {
   "cell_type": "markdown",
   "id": "speaking-radical",
   "metadata": {},
   "source": [
    "**Example 2: Suppose given a list with elements `['abcz', 'xyza', 'bas', 'Ehtisham']` and I want to sort it by last character of strings within the list so that the output list is like : `['xyza', 'Ehtisham', 'bas', 'abcz']`**\n",
    "\n",
    "```\n",
    "    list.sort(*, key=None, reverse=False)\n",
    "```\n",
    "- We write a one argument function, and pass that function to the `key` parameter of `list.sort()` method\n",
    "- The `list.sort()` method will run this one argument function on all the elements of the list and return a single value, and build up a shadow list of those new values. \n",
    "- This time the one argument function is a custom built function that receives a string and returns its last character. When called on every element of `list1` will return a shadow list containing only the last character of every string within the original list containing `['z', 'a', 's', 'f']`\n",
    "- The `list1.sort()` method will then sort `list1` elements based on the values of the shadow list and generate the required sorted list :)"
   ]
  },
  {
   "cell_type": "code",
   "execution_count": null,
   "id": "located-dragon",
   "metadata": {},
   "outputs": [],
   "source": [
    "def last(s):\n",
    "    return s[-2]\n",
    "\n",
    "list1 = ['abcz', 'xyza', 'bas', 'Ehtisham']\n",
    "\n",
    "list1.sort(key=last)\n",
    "list1"
   ]
  },
  {
   "cell_type": "code",
   "execution_count": null,
   "id": "secure-bench",
   "metadata": {},
   "outputs": [],
   "source": [
    "list10 = [32,4,34,5,45,425,325,32,5,325]"
   ]
  },
  {
   "cell_type": "code",
   "execution_count": null,
   "id": "fluid-animal",
   "metadata": {},
   "outputs": [],
   "source": [
    "# list10.reverse()\n",
    "list10"
   ]
  },
  {
   "cell_type": "code",
   "execution_count": null,
   "id": "4a7ea6a1",
   "metadata": {},
   "outputs": [],
   "source": [
    "list10.reverse()"
   ]
  },
  {
   "cell_type": "code",
   "execution_count": null,
   "id": "7bfb46b3",
   "metadata": {},
   "outputs": [],
   "source": [
    "list10"
   ]
  },
  {
   "cell_type": "code",
   "execution_count": null,
   "id": "082041a9",
   "metadata": {},
   "outputs": [],
   "source": []
  },
  {
   "cell_type": "code",
   "execution_count": null,
   "id": "1f9a9254",
   "metadata": {},
   "outputs": [],
   "source": []
  },
  {
   "cell_type": "markdown",
   "id": "suspended-trout",
   "metadata": {},
   "source": [
    "## 11. Misc Concepts"
   ]
  },
  {
   "cell_type": "markdown",
   "id": "outdoor-grounds",
   "metadata": {},
   "source": [
    "### a. Use of  `in` Operator on Lists"
   ]
  },
  {
   "cell_type": "code",
   "execution_count": null,
   "id": "binary-patrick",
   "metadata": {},
   "outputs": [],
   "source": [
    "help('in')"
   ]
  },
  {
   "cell_type": "code",
   "execution_count": null,
   "id": "pregnant-price",
   "metadata": {},
   "outputs": [],
   "source": [
    "list_num = [3, 8, 1, 6, 0, 8, 4]\n",
    "rv1 = 9 in list_num\n",
    "print(rv1)\n"
   ]
  },
  {
   "cell_type": "code",
   "execution_count": null,
   "id": "0ad7d5ed",
   "metadata": {},
   "outputs": [],
   "source": [
    "\n",
    "rv2 = 9 not in list_num\n",
    "print(rv2)\n",
    "\n"
   ]
  },
  {
   "cell_type": "code",
   "execution_count": null,
   "id": "0eee54c5",
   "metadata": {},
   "outputs": [],
   "source": [
    "list_names = [\"XYZ\", \"ABC\", \"MNO\", \"Ehtisham\"]\n",
    "name = \"Ehtisham\"\n",
    "rv3 = name in list_names\n",
    "print(rv3)"
   ]
  },
  {
   "cell_type": "code",
   "execution_count": null,
   "id": "ff16a0af",
   "metadata": {},
   "outputs": [],
   "source": []
  },
  {
   "cell_type": "markdown",
   "id": "hazardous-surge",
   "metadata": {},
   "source": [
    "### b. Comparing objects and values"
   ]
  },
  {
   "cell_type": "code",
   "execution_count": null,
   "id": "incorporated-future",
   "metadata": {},
   "outputs": [],
   "source": [
    "help(id)"
   ]
  },
  {
   "cell_type": "code",
   "execution_count": null,
   "id": "distributed-nomination",
   "metadata": {},
   "outputs": [],
   "source": [
    "# in case of strings, both a and b refers to the same memory location containing string 'hello'\n",
    "a = 'hello'\n",
    "b = 'hello'\n",
    "id(a), id(b)"
   ]
  },
  {
   "cell_type": "code",
   "execution_count": null,
   "id": "auburn-musician",
   "metadata": {},
   "outputs": [],
   "source": [
    "# in case of list, both a and b refers to two different objects in the memory having same values\n",
    "x = ['hello']\n",
    "y = ['hello']\n",
    "id(x), id(y)"
   ]
  },
  {
   "cell_type": "code",
   "execution_count": null,
   "id": "gothic-oklahoma",
   "metadata": {},
   "outputs": [],
   "source": [
    "help('is')"
   ]
  },
  {
   "cell_type": "code",
   "execution_count": null,
   "id": "proper-adult",
   "metadata": {},
   "outputs": [],
   "source": [
    "x = ['hello']\n",
    "y = ['hello']\n",
    "print (x is y) # is operator is checking the memory address (ID) of two lists\n",
    "print (x == y) # == operator is checking the contents of two lists"
   ]
  },
  {
   "cell_type": "code",
   "execution_count": null,
   "id": "surprised-gather",
   "metadata": {},
   "outputs": [],
   "source": [
    "x = 'hello'\n",
    "y = 'hello'\n",
    "print (x is y) # is operator is checking the memory address (ID) of two strings\n",
    "print (x == y) # == operator is checking the contents of two strings"
   ]
  },
  {
   "cell_type": "code",
   "execution_count": null,
   "id": "a5331c8c",
   "metadata": {},
   "outputs": [],
   "source": []
  },
  {
   "cell_type": "code",
   "execution_count": null,
   "id": "3f6ed893",
   "metadata": {},
   "outputs": [],
   "source": []
  },
  {
   "cell_type": "code",
   "execution_count": null,
   "id": "fad04814",
   "metadata": {},
   "outputs": [],
   "source": []
  },
  {
   "cell_type": "markdown",
   "id": "modern-background",
   "metadata": {},
   "source": [
    "## Check your Concepts\n",
    "\n",
    "Try answering the following questions to test your understanding of the topics covered in this notebook:\n",
    "\n",
    "1. What is a list in Python?\n",
    "2. How do you create a list?\n",
    "3. Can a Python list contain values of different data types?\n",
    "4. Can a list contain another list as an element within it?\n",
    "5. Can you create a list without any values?\n",
    "6. How do you check the length of a list in Python?\n",
    "7. How do you retrieve a value from a list?\n",
    "8. What is the smallest and largest index you can use to access elements from a list containing five elements?\n",
    "9. What happens if you try to access an index equal to or larger than the size of a list?\n",
    "10. What happens if you try to access a negative index within a list?\n",
    "11. How do you access a range of elements from a list?\n",
    "12. How many elements does the list returned by the expression `a_list[2:5]` contain?\n",
    "13. What do the ranges `a_list[:2]` and `a_list[2:]` represent?\n",
    "14. How do you change the item stored at a specific index within a list?\n",
    "15. How do you insert a new item at the beginning, middle, or end of a list?\n",
    "16. How do you remove an item from al list?\n",
    "17. How do you remove the item at a given index from a list?\n",
    "18. How do you check if a list contains a value?\n",
    "19. How do you combine two or most lists to create a larger list?\n",
    "20. How do you create a copy of a list?\n",
    "21. Does the expression `a_new_list = a_list` create a copy of the list `a_list`?\n",
    "22. How can you find the list of all the methods supported by lists?\n",
    "23. Understand the difference between creating an alias of a list, and shallow copy and deep copy"
   ]
  },
  {
   "cell_type": "markdown",
   "id": "demographic-capital",
   "metadata": {},
   "source": [
    "**Go to https://pythontutor.com/ and copy paste following code to visualize aliasing, shallow and deep copy**"
   ]
  },
  {
   "cell_type": "code",
   "execution_count": null,
   "id": "straight-prefix",
   "metadata": {},
   "outputs": [],
   "source": []
  },
  {
   "cell_type": "markdown",
   "id": "ranking-karaoke",
   "metadata": {},
   "source": [
    "# Practice Programs"
   ]
  },
  {
   "cell_type": "markdown",
   "id": "inclusive-picking",
   "metadata": {},
   "source": [
    "**1. The program takes a list and prints the largest number in the list.**"
   ]
  },
  {
   "cell_type": "code",
   "execution_count": null,
   "id": "horizontal-throw",
   "metadata": {},
   "outputs": [],
   "source": [
    "list1 = [12, 35, 9, 56, 24]"
   ]
  },
  {
   "cell_type": "code",
   "execution_count": null,
   "id": "40c60353",
   "metadata": {},
   "outputs": [],
   "source": [
    "print(\"Original list : \", list1)"
   ]
  },
  {
   "cell_type": "code",
   "execution_count": null,
   "id": "28455ee8",
   "metadata": {},
   "outputs": [],
   "source": [
    "list1.sort()"
   ]
  },
  {
   "cell_type": "code",
   "execution_count": null,
   "id": "adef833f",
   "metadata": {},
   "outputs": [],
   "source": [
    "list1"
   ]
  },
  {
   "cell_type": "code",
   "execution_count": null,
   "id": "395c6eaf",
   "metadata": {},
   "outputs": [],
   "source": [
    "large = list1[-1]\n",
    "print(\"Largest element in the list is : \", large)"
   ]
  },
  {
   "cell_type": "code",
   "execution_count": null,
   "id": "c3ff83b4",
   "metadata": {},
   "outputs": [],
   "source": []
  },
  {
   "cell_type": "code",
   "execution_count": null,
   "id": "f6a0558e",
   "metadata": {},
   "outputs": [],
   "source": []
  },
  {
   "cell_type": "markdown",
   "id": "blessed-bankruptcy",
   "metadata": {},
   "source": [
    "2. Python program to interchange first and last elements in a list\n",
    "- Input : [12, 35, 9, 56, 24]\n",
    "- Output : [24, 35, 9, 56, 12]\n"
   ]
  },
  {
   "cell_type": "code",
   "execution_count": null,
   "id": "mobile-reverse",
   "metadata": {},
   "outputs": [],
   "source": [
    "list1"
   ]
  },
  {
   "cell_type": "code",
   "execution_count": null,
   "id": "palestinian-breeding",
   "metadata": {},
   "outputs": [],
   "source": [
    "# swapping\n",
    "list1[0], list1[-1] = list1[-1], list1[0]"
   ]
  },
  {
   "cell_type": "code",
   "execution_count": null,
   "id": "ebca0f2b",
   "metadata": {},
   "outputs": [],
   "source": [
    "# a = 12\n",
    "# b = 24\n",
    "# print(\"Before swapping : \", a,b)\n",
    "\n",
    "# a , b = b , a\n",
    "# print(\"After Swapping : \", a , b)"
   ]
  },
  {
   "cell_type": "code",
   "execution_count": null,
   "id": "2622c258",
   "metadata": {},
   "outputs": [],
   "source": []
  },
  {
   "cell_type": "code",
   "execution_count": null,
   "id": "709f8c1c",
   "metadata": {},
   "outputs": [],
   "source": [
    "list1"
   ]
  },
  {
   "cell_type": "code",
   "execution_count": null,
   "id": "319da76a",
   "metadata": {},
   "outputs": [],
   "source": []
  },
  {
   "cell_type": "code",
   "execution_count": null,
   "id": "3f44dfac",
   "metadata": {},
   "outputs": [],
   "source": []
  }
 ],
 "metadata": {
  "kernelspec": {
   "display_name": "Python 3 (ipykernel)",
   "language": "python",
   "name": "python3"
  },
  "language_info": {
   "codemirror_mode": {
    "name": "ipython",
    "version": 3
   },
   "file_extension": ".py",
   "mimetype": "text/x-python",
   "name": "python",
   "nbconvert_exporter": "python",
   "pygments_lexer": "ipython3",
   "version": "3.8.10"
  }
 },
 "nbformat": 4,
 "nbformat_minor": 5
}
