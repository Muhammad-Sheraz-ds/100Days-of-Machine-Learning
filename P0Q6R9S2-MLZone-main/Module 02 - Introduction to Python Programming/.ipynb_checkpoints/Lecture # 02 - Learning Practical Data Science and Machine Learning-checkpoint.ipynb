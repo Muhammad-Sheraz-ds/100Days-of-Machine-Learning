{
 "cells": [
  {
   "cell_type": "markdown",
   "id": "ef255bb1",
   "metadata": {},
   "source": [
    "<img src=\"images/s19.png\">"
   ]
  },
  {
   "cell_type": "code",
   "execution_count": null,
   "id": "18c2f956",
   "metadata": {},
   "outputs": [],
   "source": []
  },
  {
   "cell_type": "code",
   "execution_count": null,
   "id": "a671000a",
   "metadata": {},
   "outputs": [],
   "source": []
  },
  {
   "cell_type": "markdown",
   "id": "a45d4ee9",
   "metadata": {},
   "source": [
    "## Learning agenda of this notebook\n",
    "\n",
    "- **Introduction to Python(Why, and what Python)**\n",
    "- **Code Editor and IDE, why jupyter Notebook?**\n",
    "- **Variables in Python**\n",
    "- **Datatypes** "
   ]
  },
  {
   "cell_type": "code",
   "execution_count": null,
   "id": "67c972fe",
   "metadata": {},
   "outputs": [],
   "source": []
  },
  {
   "cell_type": "code",
   "execution_count": null,
   "id": "f8d062b1",
   "metadata": {},
   "outputs": [],
   "source": []
  },
  {
   "cell_type": "code",
   "execution_count": 1,
   "id": "13de3417",
   "metadata": {},
   "outputs": [],
   "source": [
    "# C++ -> Compile -> Execute \n",
    "# Python -> Execute(Interpreted)"
   ]
  },
  {
   "cell_type": "markdown",
   "id": "5f5f4b0c",
   "metadata": {},
   "source": [
    "<h2 align=center style=\"color:red;\">  Introduction to Python  </h2>\n",
    "\n",
    "#### History\n",
    "\n",
    "- Python is an interpreted, general-purpose, high-level programming language developed by Guido van Rossum\n",
    "- Version 1.0 was released in 1994, with features like exception handling, lambda, map, filter, and reduce. •\n",
    "- Version 2.0 was released in 2000 with features including, list comprehensions and garbage collection. \n",
    "- Version 3.0 was released in 2008. \n",
    "- Version 3.9.6 is latest stable version released in 2021\n",
    "\n",
    "#### Key Features of Python\n",
    "\n",
    "- Python is a simple language due to its resemblance with English language, which increases its readability, writability, and makes it easy to learn. It cuts down the code about 20 percent of its actual size. 200-300 loc in Java = 50-60 loc in Python.\n",
    "- It is free and open source, which means one can freely distribute its copies, reads its source code, and modify it to experience different flavors of python.\n",
    "- Python is a high-level language, which makes programmers need not to bother about low-level details such as memory allocation etc., while practicing scripting in Python.\n",
    "- Python supports multiple programming paradigm as it provides procedural programming as well as object-oriented programming support.\n",
    "- It is a portable language as supported by many platforms like Linux, MS Windows, Mac, Free BSD, Solaris, BeOS and many more.\n",
    "- Python has extensive support for different libraries, that aims to provide assistance for performing complex tasks without starting from scratch.\n",
    "\n",
    "\n",
    "<img src=\"images/python-features.png\" height=500px width=500px>\n"
   ]
  },
  {
   "cell_type": "code",
   "execution_count": null,
   "id": "3908725f",
   "metadata": {},
   "outputs": [],
   "source": []
  },
  {
   "cell_type": "code",
   "execution_count": null,
   "id": "78eb1632",
   "metadata": {},
   "outputs": [],
   "source": []
  },
  {
   "cell_type": "markdown",
   "id": "76d06090",
   "metadata": {},
   "source": [
    "### Importance of Python\n",
    "\n",
    "<img align=\"center\" width=\"900\" height=\"800\"  src=\"images/1_RtbFZYTMO9nptOxNSQdUTw.png\" > "
   ]
  },
  {
   "cell_type": "code",
   "execution_count": null,
   "id": "7bc41c77",
   "metadata": {},
   "outputs": [],
   "source": []
  },
  {
   "cell_type": "code",
   "execution_count": null,
   "id": "2ed75023",
   "metadata": {},
   "outputs": [],
   "source": []
  },
  {
   "cell_type": "code",
   "execution_count": null,
   "id": "ade79763",
   "metadata": {},
   "outputs": [],
   "source": []
  },
  {
   "cell_type": "markdown",
   "id": "9c7567cc",
   "metadata": {},
   "source": [
    "### Important Libraries and Frame Works\n",
    "\n",
    "<img align=\"center\" width=\"600px\" height=\"500px\"  src=\"images/5.jpg\" >\n"
   ]
  },
  {
   "cell_type": "code",
   "execution_count": null,
   "id": "5f212030",
   "metadata": {},
   "outputs": [],
   "source": []
  },
  {
   "cell_type": "code",
   "execution_count": null,
   "id": "f8b55ced",
   "metadata": {},
   "outputs": [],
   "source": []
  },
  {
   "cell_type": "markdown",
   "id": "ab26afca",
   "metadata": {},
   "source": [
    "### Applications of Python\n",
    "\n",
    "- **Web Development:**\n",
    "    - Make web-applications at a rapid rate, because of frameworks it uses (Django, flask, pyramid, FASTAPI).\n",
    "- **Games Development:**\n",
    "     - Used in developing interactive games, Uses PySoy and PyGame libraries.\n",
    "- **Data Analysis:**\n",
    "     - Libraires such as NumPy and Pandas help in data analysis and data extraction.\n",
    "- **Machine Learning and AI:**\n",
    "     - Libraires such as Pandas, Scikit-learn, NumPy helps in Machine learning and AI related tasks.\n",
    "- **Web Scraping:** \n",
    "     - Pull large amount of data from websites to use in real-world processes.\n",
    "\n",
    "\n",
    "<img src=\"images/python-applications.png\" height=300px width=300px>"
   ]
  },
  {
   "cell_type": "code",
   "execution_count": null,
   "id": "527b1757",
   "metadata": {},
   "outputs": [],
   "source": []
  },
  {
   "cell_type": "code",
   "execution_count": null,
   "id": "8b9f93ab",
   "metadata": {},
   "outputs": [],
   "source": []
  },
  {
   "cell_type": "code",
   "execution_count": null,
   "id": "3ebdd0e7",
   "metadata": {},
   "outputs": [],
   "source": []
  },
  {
   "cell_type": "code",
   "execution_count": null,
   "id": "ca2dce62",
   "metadata": {},
   "outputs": [],
   "source": []
  },
  {
   "cell_type": "markdown",
   "id": "91521b7b",
   "metadata": {},
   "source": [
    "<h2 align=center style=\"color:red;\"> Introduction to Jupyter Notebook </h2>\n",
    "\n",
    "\n",
    "<img src=\"images/code_ide.png\" height=500px width=500px>\n",
    "\n",
    "#### What is Jupyter Notebook\n",
    "\n",
    "- Jupyter Notebook is an open-source, web-based interactive environment, which allows you to create and share documents that contain live code, mathematical equations, graphics, maps, plots, visualizations, and narrative text. It integrates with many programming languages like Python, PHP, R, C#, etc. Jupyter Notebook mainly used for Python because Python is used with Artificial Intelligence (AI), Machine learning, as well as Deep learning.\n",
    "- Notebook is a single document where you can run code, display the output, and also add explanations, formulas, charts, and make your work more transparent, understandable, repeatable, and shareable.\n",
    "\n",
    "#### Why to use Jupyter Notebook\n",
    "\n",
    "- Jupyter Notebook allows users to compile all aspects of a data project in one place making it easier to show the entire process of a project to your intended audience. Through the web-based application, users can create data visualizations and other components of a project to share with others via the platform."
   ]
  },
  {
   "cell_type": "code",
   "execution_count": null,
   "id": "5d15b23e",
   "metadata": {},
   "outputs": [],
   "source": []
  },
  {
   "cell_type": "code",
   "execution_count": null,
   "id": "46eec90e",
   "metadata": {},
   "outputs": [],
   "source": []
  },
  {
   "cell_type": "code",
   "execution_count": null,
   "id": "378092c1",
   "metadata": {},
   "outputs": [],
   "source": []
  },
  {
   "cell_type": "code",
   "execution_count": null,
   "id": "475fa4d6",
   "metadata": {},
   "outputs": [],
   "source": []
  },
  {
   "cell_type": "markdown",
   "id": "2959739e",
   "metadata": {},
   "source": [
    "<h2 align=center style=\"color:red;\">  Variables in Python  </h2>\n",
    "\n",
    "\n",
    "- **print() Function / Built-in function**\n",
    "- **Variables in Python**\n",
    "    - Variables Names\n",
    "    - What is variable\n",
    "    - Declaring Variables and Assigning Values\n",
    "    - Object References\n",
    "    - Object Identity\n",
    "    - Multiple Assignments\n",
    "    - Python Variables Types\n",
    "    - Delete a variable\n",
    "    - Maximum possible value of integer in python\n",
    "    - Print single and multiple variables in python\n",
    "- **Python Data Types**\n",
    "    - Immutable\n",
    "    - Mutable\n",
    "- **Input(), int(), float() functions**\n",
    "\n",
    "\n",
    "\n",
    "<img src=\"images/Python-Variables.jpg\" height=500px width=500px>\n"
   ]
  },
  {
   "cell_type": "code",
   "execution_count": null,
   "id": "339578a2",
   "metadata": {},
   "outputs": [],
   "source": []
  },
  {
   "cell_type": "code",
   "execution_count": null,
   "id": "beabef64",
   "metadata": {},
   "outputs": [],
   "source": []
  },
  {
   "cell_type": "code",
   "execution_count": null,
   "id": "4ac717c2",
   "metadata": {},
   "outputs": [],
   "source": []
  },
  {
   "cell_type": "code",
   "execution_count": null,
   "id": "e7fea253",
   "metadata": {},
   "outputs": [],
   "source": []
  },
  {
   "cell_type": "markdown",
   "id": "9da09014",
   "metadata": {},
   "source": [
    "#### Python `print()` Function\n",
    "- This function prints the given object on the screen or other standard output devices.\n",
    "\n",
    "**Syntax:**\n",
    "\n",
    "\n",
    "\n",
    "print(object(s) , sep= separator, end=end)\n",
    "\n",
    "- `object(s)`: It is an object to be printed. The Symbol * indicates that there may be more than one object.\n",
    "- `sep` ='separator' (optional): The objects are separated by sep. The default value of sep is “ ”.\n",
    "- `end` = 'end' (optional): it determines which object should be print at last.\n",
    "\n",
    "\n",
    "<img src=\"images/print-func.png\" height=500px width=500px>\n"
   ]
  },
  {
   "cell_type": "code",
   "execution_count": 2,
   "id": "1941948a",
   "metadata": {},
   "outputs": [
    {
     "name": "stdout",
     "output_type": "stream",
     "text": [
      "Learning Practical Data Science\n"
     ]
    }
   ],
   "source": [
    "print(\"Learning Practical Data Science\")"
   ]
  },
  {
   "cell_type": "code",
   "execution_count": 3,
   "id": "9a912c2b",
   "metadata": {},
   "outputs": [
    {
     "name": "stdout",
     "output_type": "stream",
     "text": [
      "Ehtisham Sadiq\n"
     ]
    }
   ],
   "source": [
    "print('Ehtisham Sadiq')"
   ]
  },
  {
   "cell_type": "code",
   "execution_count": 4,
   "id": "7075846e",
   "metadata": {},
   "outputs": [
    {
     "name": "stdout",
     "output_type": "stream",
     "text": [
      "10\n"
     ]
    }
   ],
   "source": [
    "print(\"10\")"
   ]
  },
  {
   "cell_type": "code",
   "execution_count": null,
   "id": "e86c9463",
   "metadata": {},
   "outputs": [],
   "source": []
  },
  {
   "cell_type": "code",
   "execution_count": null,
   "id": "fd755a39",
   "metadata": {},
   "outputs": [],
   "source": []
  },
  {
   "cell_type": "code",
   "execution_count": null,
   "id": "6c59a51d",
   "metadata": {},
   "outputs": [],
   "source": []
  },
  {
   "cell_type": "markdown",
   "id": "ac07e823",
   "metadata": {},
   "source": [
    "#### 1. what is a variable and variable names\n",
    "\n",
    "- Variable is a name that is used to refer to memory location. Python variable is also known as an identifier and used to hold value.\n",
    "- In Python, we don't need to specify the type of variable because Python is a infer language and smart enough to get variable type.\n",
    "- Variable names can be a group of both the letters and digits, but they have to begin with a letter or an underscore.\n",
    "\n",
    "- It is recommended to use lowercase letters for the variable name. `name` and `NAME` both are two different variables because it is case sensitive language.\n",
    "\n",
    "\n",
    "<img src=\"images/variable-rules.jpg\" height=500px width=500px>\n",
    "    "
   ]
  },
  {
   "cell_type": "code",
   "execution_count": 5,
   "id": "84376143",
   "metadata": {},
   "outputs": [],
   "source": [
    "name = \"Ali\"\n",
    "NAME = \"Ehtisham\"\n"
   ]
  },
  {
   "cell_type": "code",
   "execution_count": 6,
   "id": "eb0461d9",
   "metadata": {},
   "outputs": [
    {
     "name": "stdout",
     "output_type": "stream",
     "text": [
      "Ali\n",
      "Ehtisham\n"
     ]
    }
   ],
   "source": [
    "print(name)\n",
    "print(NAME)\n"
   ]
  },
  {
   "cell_type": "code",
   "execution_count": 7,
   "id": "b3b3c40a",
   "metadata": {},
   "outputs": [
    {
     "name": "stdout",
     "output_type": "stream",
     "text": [
      "139670330602032\n",
      "139670381507504\n"
     ]
    }
   ],
   "source": [
    "print(id(name))\n",
    "print(id(NAME))"
   ]
  },
  {
   "cell_type": "code",
   "execution_count": null,
   "id": "452312b2",
   "metadata": {},
   "outputs": [],
   "source": []
  },
  {
   "cell_type": "code",
   "execution_count": null,
   "id": "8dd8db15",
   "metadata": {},
   "outputs": [],
   "source": []
  },
  {
   "cell_type": "code",
   "execution_count": null,
   "id": "c77ba7d6",
   "metadata": {},
   "outputs": [],
   "source": []
  },
  {
   "cell_type": "code",
   "execution_count": null,
   "id": "cb7497a3",
   "metadata": {},
   "outputs": [],
   "source": []
  },
  {
   "cell_type": "markdown",
   "id": "9f4c7ec6",
   "metadata": {},
   "source": [
    "#### 2. Declaring Variable and Assigning Values\n",
    "Python does not bind us to declare a variable before using it in the application. It allows us to create a variable at the required time.\n",
    "The equal (=) operator is used to assign value to a variable."
   ]
  },
  {
   "cell_type": "code",
   "execution_count": 8,
   "id": "1520b9e1",
   "metadata": {},
   "outputs": [],
   "source": [
    "x = 21\n",
    "y = 30\n",
    "z = 75"
   ]
  },
  {
   "cell_type": "code",
   "execution_count": 9,
   "id": "63961deb",
   "metadata": {},
   "outputs": [
    {
     "name": "stdout",
     "output_type": "stream",
     "text": [
      "21 30 75\n"
     ]
    }
   ],
   "source": [
    "print(x,y,z, sep=\" \")"
   ]
  },
  {
   "cell_type": "code",
   "execution_count": 10,
   "id": "bd0755ce",
   "metadata": {},
   "outputs": [
    {
     "name": "stdout",
     "output_type": "stream",
     "text": [
      "213075\n"
     ]
    }
   ],
   "source": [
    "print(x,y,z, sep=\"\")"
   ]
  },
  {
   "cell_type": "code",
   "execution_count": null,
   "id": "be7801e4",
   "metadata": {},
   "outputs": [],
   "source": []
  },
  {
   "cell_type": "code",
   "execution_count": 11,
   "id": "96aa3427",
   "metadata": {},
   "outputs": [],
   "source": [
    "name = \"Ehtisham Sadiq\"\n",
    "age = 21\n",
    "marks = 75.4\n",
    "city = \"Okara\"\n",
    "address = \"Pak Villas Housing Society, Near City School, Sikandar Iqbal Road,District Okara\""
   ]
  },
  {
   "cell_type": "code",
   "execution_count": 12,
   "id": "ed94936c",
   "metadata": {},
   "outputs": [
    {
     "name": "stdout",
     "output_type": "stream",
     "text": [
      "Ehtisham Sadiq\n",
      "21\n",
      "Okara\n",
      "Pak Villas Housing Society, Near City School, Sikandar Iqbal Road,District Okara\n"
     ]
    }
   ],
   "source": [
    "print(name)\n",
    "print(age)\n",
    "print(city)\n",
    "print(address)"
   ]
  },
  {
   "cell_type": "code",
   "execution_count": null,
   "id": "75b064b4",
   "metadata": {},
   "outputs": [],
   "source": []
  },
  {
   "cell_type": "code",
   "execution_count": null,
   "id": "14fd630f",
   "metadata": {},
   "outputs": [],
   "source": []
  },
  {
   "cell_type": "code",
   "execution_count": null,
   "id": "096974e2",
   "metadata": {},
   "outputs": [],
   "source": []
  },
  {
   "cell_type": "markdown",
   "id": "78f29d7d",
   "metadata": {},
   "source": [
    "#### 3. Object References\n",
    "- It is necessary to understand how the Python interpreter works when we declare a variable. The process of treating variables is somewhat different from many other programming languages.\n",
    "- In python, each variable belongs to specific data type or class.\n",
    "- To check the type of variable , we use a Python built-in `type()` function.\n",
    "- The variables are used to denote objects by that name."
   ]
  },
  {
   "cell_type": "code",
   "execution_count": 13,
   "id": "5f3cc3ac",
   "metadata": {},
   "outputs": [
    {
     "data": {
      "text/plain": [
       "float"
      ]
     },
     "execution_count": 13,
     "metadata": {},
     "output_type": "execute_result"
    }
   ],
   "source": [
    "type(marks)"
   ]
  },
  {
   "cell_type": "code",
   "execution_count": null,
   "id": "0e8db8cd",
   "metadata": {},
   "outputs": [],
   "source": []
  },
  {
   "cell_type": "code",
   "execution_count": 14,
   "id": "128b1212",
   "metadata": {},
   "outputs": [
    {
     "name": "stdout",
     "output_type": "stream",
     "text": [
      "<class 'int'>\n"
     ]
    }
   ],
   "source": [
    "a = 50\n",
    "# -infinity to +infinity\n",
    "#  the variable a refers to an integer object.\n",
    "print(type(a))"
   ]
  },
  {
   "cell_type": "markdown",
   "id": "e28c9d31",
   "metadata": {},
   "source": [
    "<img src=\"images/var-1.png\" height=200px width=200px>"
   ]
  },
  {
   "cell_type": "code",
   "execution_count": 15,
   "id": "dcb94819",
   "metadata": {},
   "outputs": [
    {
     "name": "stdout",
     "output_type": "stream",
     "text": [
      "9794656\n",
      "9794656\n"
     ]
    }
   ],
   "source": [
    "# Suppose we assign the integer value 50 to a new variable b.\n",
    "a = 50\n",
    "b = a\n",
    "print(id(a))\n",
    "print(id(b))"
   ]
  },
  {
   "cell_type": "markdown",
   "id": "c29be131",
   "metadata": {},
   "source": [
    "<img src=\"images/var-2.png\" height=200px width=200px>"
   ]
  },
  {
   "cell_type": "markdown",
   "id": "12dc1d83",
   "metadata": {},
   "source": [
    "The variable `b` refers to the same object that `a` points to, because Python does not create another object."
   ]
  },
  {
   "cell_type": "code",
   "execution_count": null,
   "id": "f2b700d9",
   "metadata": {},
   "outputs": [],
   "source": []
  },
  {
   "cell_type": "code",
   "execution_count": null,
   "id": "8609d095",
   "metadata": {},
   "outputs": [],
   "source": []
  },
  {
   "cell_type": "code",
   "execution_count": 16,
   "id": "8f48a04f",
   "metadata": {},
   "outputs": [
    {
     "name": "stdout",
     "output_type": "stream",
     "text": [
      "9794656\n",
      "9796256\n"
     ]
    }
   ],
   "source": [
    "# Let's assign the new value to b. Now both variables will refer to the different objects.\n",
    "a = 50\n",
    "b = 100\n",
    "print(id(a))\n",
    "print(id(b))"
   ]
  },
  {
   "cell_type": "markdown",
   "id": "71df37b5",
   "metadata": {},
   "source": [
    "<img src=\"images/var-3.png\" height=200px width=200px>"
   ]
  },
  {
   "cell_type": "code",
   "execution_count": null,
   "id": "5f340113",
   "metadata": {},
   "outputs": [],
   "source": []
  },
  {
   "cell_type": "code",
   "execution_count": null,
   "id": "a000f9ea",
   "metadata": {},
   "outputs": [],
   "source": []
  },
  {
   "cell_type": "markdown",
   "id": "75e4d575",
   "metadata": {},
   "source": [
    "Python manages memory efficiently if we assign the same variable to two different values."
   ]
  },
  {
   "cell_type": "code",
   "execution_count": null,
   "id": "73bef302",
   "metadata": {},
   "outputs": [],
   "source": []
  },
  {
   "cell_type": "code",
   "execution_count": null,
   "id": "038c351e",
   "metadata": {},
   "outputs": [],
   "source": []
  },
  {
   "cell_type": "markdown",
   "id": "21bb46ee",
   "metadata": {},
   "source": [
    "#### 4. Object Identity\n",
    "\n",
    "- In Python, every created object identifies uniquely in Python. Python provides the guaranteed that no two objects will have the same identifier. The built-in `id()` function, is used to identify the object identifier.\n",
    "\n",
    "<img src=\"images/object-id.png\" height=250px width=250px>"
   ]
  },
  {
   "cell_type": "code",
   "execution_count": 17,
   "id": "a72174ce",
   "metadata": {},
   "outputs": [
    {
     "name": "stdout",
     "output_type": "stream",
     "text": [
      "9794656\n",
      "9794656\n"
     ]
    }
   ],
   "source": [
    "a = 50  \n",
    "b = a  \n",
    "print(id(a))  \n",
    "print(id(b))  \n",
    "# Reassigned variable a  \n"
   ]
  },
  {
   "cell_type": "code",
   "execution_count": 18,
   "id": "ecc58cfa",
   "metadata": {},
   "outputs": [
    {
     "name": "stdout",
     "output_type": "stream",
     "text": [
      "139670381750992\n"
     ]
    }
   ],
   "source": [
    "a = 500  \n",
    "print(id(a))  "
   ]
  },
  {
   "cell_type": "code",
   "execution_count": 19,
   "id": "d339fdee",
   "metadata": {},
   "outputs": [
    {
     "name": "stdout",
     "output_type": "stream",
     "text": [
      "9794656\n"
     ]
    }
   ],
   "source": [
    "print(id(b))"
   ]
  },
  {
   "cell_type": "code",
   "execution_count": null,
   "id": "fd597ed0",
   "metadata": {},
   "outputs": [],
   "source": []
  },
  {
   "cell_type": "markdown",
   "id": "aa62a454",
   "metadata": {},
   "source": [
    "#### 5. Multiple Assignment\n",
    "Python allows us to assign a value to multiple variables in a single statement, which is also known as multiple assignments."
   ]
  },
  {
   "cell_type": "markdown",
   "id": "ffdb7dcc",
   "metadata": {},
   "source": [
    "##### Assigning single value to multiple variables"
   ]
  },
  {
   "cell_type": "code",
   "execution_count": 20,
   "id": "1a1416fb",
   "metadata": {},
   "outputs": [
    {
     "name": "stdout",
     "output_type": "stream",
     "text": [
      "30\n",
      "30\n",
      "30\n"
     ]
    }
   ],
   "source": [
    "x=y=z=30 # single statement\n",
    "print(x)\n",
    "print(y)\n",
    "print(z)"
   ]
  },
  {
   "cell_type": "code",
   "execution_count": null,
   "id": "551602fa",
   "metadata": {},
   "outputs": [],
   "source": []
  },
  {
   "cell_type": "code",
   "execution_count": null,
   "id": "1fdc2167",
   "metadata": {},
   "outputs": [],
   "source": []
  },
  {
   "cell_type": "markdown",
   "id": "8e4c0a9c",
   "metadata": {},
   "source": [
    "##### Assigning multiple values to multiple variables"
   ]
  },
  {
   "cell_type": "code",
   "execution_count": 21,
   "id": "4ffec1a6",
   "metadata": {},
   "outputs": [
    {
     "name": "stdout",
     "output_type": "stream",
     "text": [
      "Lahore\n",
      "21\n",
      "3.43\n"
     ]
    }
   ],
   "source": [
    "x , y, z = \"Lahore\", 21, 3.43 # single statement\n",
    "print(x)\n",
    "print(y)\n",
    "print(z)"
   ]
  },
  {
   "cell_type": "code",
   "execution_count": null,
   "id": "0af92b81",
   "metadata": {},
   "outputs": [],
   "source": []
  },
  {
   "cell_type": "code",
   "execution_count": null,
   "id": "f54a7d22",
   "metadata": {},
   "outputs": [],
   "source": []
  },
  {
   "cell_type": "markdown",
   "id": "3b618788",
   "metadata": {},
   "source": [
    "#### 6. Python Variables Types\n",
    "There are two types of variables in Python   \n",
    "-  Local variable    \n",
    "-  Global variable.  \n",
    "\n",
    "\n",
    "<img src=\"images/local-global-python.jpg\" height=300px width=300px>"
   ]
  },
  {
   "cell_type": "markdown",
   "id": "6bb54c0c",
   "metadata": {},
   "source": [
    "**Local Variable:**\n",
    "\n",
    "- Local variables are the variables that declared inside the function and have scope within the function."
   ]
  },
  {
   "cell_type": "code",
   "execution_count": 22,
   "id": "0ce086bd",
   "metadata": {},
   "outputs": [
    {
     "name": "stdout",
     "output_type": "stream",
     "text": [
      "The sum is: 50\n"
     ]
    }
   ],
   "source": [
    "# Declaring a function  \n",
    "def add():  \n",
    "    # Defining local variables. They has scope only within a function  \n",
    "    aa = 20  \n",
    "    bb = 30  \n",
    "    cc = aa + bb  \n",
    "    print(\"The sum is:\", cc)  \n",
    "\n",
    "    \n",
    "# Calling a function  \n",
    "add()"
   ]
  },
  {
   "cell_type": "code",
   "execution_count": null,
   "id": "44f84605",
   "metadata": {},
   "outputs": [],
   "source": []
  },
  {
   "cell_type": "code",
   "execution_count": null,
   "id": "fe0934d5",
   "metadata": {},
   "outputs": [],
   "source": []
  },
  {
   "cell_type": "code",
   "execution_count": 23,
   "id": "feceb3e6",
   "metadata": {},
   "outputs": [
    {
     "ename": "NameError",
     "evalue": "name 'aa' is not defined",
     "output_type": "error",
     "traceback": [
      "\u001b[0;31m---------------------------------------------------------------------------\u001b[0m",
      "\u001b[0;31mNameError\u001b[0m                                 Traceback (most recent call last)",
      "Cell \u001b[0;32mIn[23], line 1\u001b[0m\n\u001b[0;32m----> 1\u001b[0m \u001b[38;5;28mprint\u001b[39m(\u001b[43maa\u001b[49m)\n\u001b[1;32m      2\u001b[0m \u001b[38;5;28mprint\u001b[39m(bb)\n",
      "\u001b[0;31mNameError\u001b[0m: name 'aa' is not defined"
     ]
    }
   ],
   "source": [
    "print(aa)\n",
    "print(bb)"
   ]
  },
  {
   "cell_type": "code",
   "execution_count": null,
   "id": "3fe3a1f1",
   "metadata": {},
   "outputs": [],
   "source": []
  },
  {
   "cell_type": "code",
   "execution_count": null,
   "id": "2432fe40",
   "metadata": {},
   "outputs": [],
   "source": []
  },
  {
   "cell_type": "markdown",
   "id": "01bcb2e4",
   "metadata": {},
   "source": [
    "**Global Variable:**\n",
    "\n",
    "- Global variables can be used throughout the program, and its scope is in the entire program. We can use global variables inside or outside the function.\n",
    "- A variable declared outside the function is the global variable by default. Python provides the `global` keyword to use global variable inside the function."
   ]
  },
  {
   "cell_type": "code",
   "execution_count": 24,
   "id": "bd19cd13",
   "metadata": {},
   "outputs": [],
   "source": [
    "# Declare a variable and initialize it  \n",
    "x = 101  \n",
    "  \n",
    "# Global variable in function  \n",
    "def mainFunction():  \n",
    "    \n",
    "    # printing a global variable  \n",
    "    global x \n",
    "    \n",
    "    print(x)  \n",
    "    \n",
    "    # modifying a global variable  \n",
    "    x = 'Welcome To Python programming'  \n",
    "    print(x)  \n",
    "  \n"
   ]
  },
  {
   "cell_type": "code",
   "execution_count": 25,
   "id": "32b58fa1",
   "metadata": {},
   "outputs": [
    {
     "name": "stdout",
     "output_type": "stream",
     "text": [
      "101\n",
      "Welcome To Python programming\n"
     ]
    }
   ],
   "source": [
    "mainFunction()  \n"
   ]
  },
  {
   "cell_type": "code",
   "execution_count": 26,
   "id": "36a6acd3",
   "metadata": {},
   "outputs": [
    {
     "name": "stdout",
     "output_type": "stream",
     "text": [
      "Welcome To Python programming\n"
     ]
    }
   ],
   "source": [
    "print(x)"
   ]
  },
  {
   "cell_type": "code",
   "execution_count": null,
   "id": "c07e3bab",
   "metadata": {},
   "outputs": [],
   "source": []
  },
  {
   "cell_type": "markdown",
   "id": "a8f8d1a9",
   "metadata": {},
   "source": [
    "#### 7. Deleting a Variable\n",
    "\n",
    "- We can delete the variable using the `del` keyword."
   ]
  },
  {
   "cell_type": "code",
   "execution_count": 27,
   "id": "553ef88a",
   "metadata": {},
   "outputs": [
    {
     "name": "stdout",
     "output_type": "stream",
     "text": [
      "6\n"
     ]
    }
   ],
   "source": [
    "# Assigning a value to x  \n",
    "x = 6  \n",
    "\n",
    "print(x) \n",
    "\n",
    "\n"
   ]
  },
  {
   "cell_type": "code",
   "execution_count": 28,
   "id": "4a868542",
   "metadata": {},
   "outputs": [],
   "source": [
    "# deleting a variable.   \n",
    "del x  \n"
   ]
  },
  {
   "cell_type": "code",
   "execution_count": null,
   "id": "49cf4897",
   "metadata": {},
   "outputs": [],
   "source": []
  },
  {
   "cell_type": "code",
   "execution_count": null,
   "id": "d18945aa",
   "metadata": {},
   "outputs": [],
   "source": []
  },
  {
   "cell_type": "code",
   "execution_count": 29,
   "id": "ea16c91e",
   "metadata": {},
   "outputs": [
    {
     "ename": "NameError",
     "evalue": "name 'x' is not defined",
     "output_type": "error",
     "traceback": [
      "\u001b[0;31m---------------------------------------------------------------------------\u001b[0m",
      "\u001b[0;31mNameError\u001b[0m                                 Traceback (most recent call last)",
      "Cell \u001b[0;32mIn[29], line 1\u001b[0m\n\u001b[0;32m----> 1\u001b[0m \u001b[38;5;28mprint\u001b[39m(\u001b[43mx\u001b[49m)\n",
      "\u001b[0;31mNameError\u001b[0m: name 'x' is not defined"
     ]
    }
   ],
   "source": [
    "print(x)"
   ]
  },
  {
   "cell_type": "code",
   "execution_count": null,
   "id": "7aae9f9c",
   "metadata": {},
   "outputs": [],
   "source": []
  },
  {
   "cell_type": "code",
   "execution_count": null,
   "id": "775f5f90",
   "metadata": {},
   "outputs": [],
   "source": []
  },
  {
   "cell_type": "markdown",
   "id": "cb6269d9",
   "metadata": {},
   "source": [
    "#### 8. Maximum Possible Value of an Integer in Python\n",
    "Unlike the other programming languages, Python doesn't have long int or float data types. It treats all integer values as an int data type."
   ]
  },
  {
   "cell_type": "code",
   "execution_count": 30,
   "id": "334d9c12",
   "metadata": {},
   "outputs": [
    {
     "name": "stdout",
     "output_type": "stream",
     "text": [
      "<class 'int'>\n",
      "10000000000000000000000000000000000000000001\n"
     ]
    }
   ],
   "source": [
    "# A Python program to display that we can store large numbers in Python  \n",
    "  \n",
    "a = 10000000000000000000000000000000000000000000\n",
    "\n",
    "a = a + 1  \n",
    "print(type(a))  \n",
    "print (a) "
   ]
  },
  {
   "cell_type": "code",
   "execution_count": 31,
   "id": "6f5d2aa9",
   "metadata": {},
   "outputs": [
    {
     "data": {
      "text/plain": [
       "139670324744672"
      ]
     },
     "execution_count": 31,
     "metadata": {},
     "output_type": "execute_result"
    }
   ],
   "source": [
    "id(a)"
   ]
  },
  {
   "cell_type": "code",
   "execution_count": null,
   "id": "babc4d74",
   "metadata": {},
   "outputs": [],
   "source": []
  },
  {
   "cell_type": "code",
   "execution_count": 32,
   "id": "45c3bbf7",
   "metadata": {},
   "outputs": [
    {
     "name": "stdout",
     "output_type": "stream",
     "text": [
      "<class 'float'>\n",
      "1e+43\n"
     ]
    }
   ],
   "source": [
    "# A Python program to display that we can store large numbers in Python  \n",
    "  \n",
    "a = 10000000000000000000000000000000000000000000.12\n",
    "\n",
    "a = a + 1  \n",
    "print(type(a))  \n",
    "print (a) "
   ]
  },
  {
   "cell_type": "code",
   "execution_count": null,
   "id": "bdceeed0",
   "metadata": {},
   "outputs": [],
   "source": []
  },
  {
   "cell_type": "code",
   "execution_count": null,
   "id": "76e53e74",
   "metadata": {},
   "outputs": [],
   "source": []
  },
  {
   "cell_type": "markdown",
   "id": "d92ec1ac",
   "metadata": {},
   "source": [
    "Python doesn't have any special data type to store larger numbers."
   ]
  },
  {
   "cell_type": "code",
   "execution_count": null,
   "id": "f2d90b15",
   "metadata": {},
   "outputs": [],
   "source": []
  },
  {
   "cell_type": "code",
   "execution_count": null,
   "id": "d0e208a4",
   "metadata": {},
   "outputs": [],
   "source": []
  },
  {
   "cell_type": "markdown",
   "id": "fb5ece01",
   "metadata": {},
   "source": [
    "#### 9. Print Single and Multiple Variables in Python\n",
    "We can print multiple variables within the single print statement."
   ]
  },
  {
   "cell_type": "code",
   "execution_count": 33,
   "id": "461cd4f9",
   "metadata": {},
   "outputs": [
    {
     "name": "stdout",
     "output_type": "stream",
     "text": [
      "5\n",
      "5\n"
     ]
    }
   ],
   "source": [
    "# printing single value   \n",
    "a = 5  \n",
    "print(a)  \n",
    "print((a))  "
   ]
  },
  {
   "cell_type": "code",
   "execution_count": 34,
   "id": "b2d850e5",
   "metadata": {},
   "outputs": [
    {
     "name": "stdout",
     "output_type": "stream",
     "text": [
      "5 6\n"
     ]
    }
   ],
   "source": [
    "a = 5  \n",
    "b = 6  \n",
    "# printing multiple variables  \n",
    "print(a,b)  \n"
   ]
  },
  {
   "cell_type": "code",
   "execution_count": 35,
   "id": "976597a9",
   "metadata": {},
   "outputs": [
    {
     "name": "stdout",
     "output_type": "stream",
     "text": [
      "1 2 3 4 5 6 7 8\n"
     ]
    }
   ],
   "source": [
    "# separate the variables by the comma  \n",
    "print(1, 2, 3, 4, 5, 6, 7, 8)"
   ]
  },
  {
   "cell_type": "code",
   "execution_count": null,
   "id": "c7dcb2bb",
   "metadata": {},
   "outputs": [],
   "source": []
  },
  {
   "cell_type": "code",
   "execution_count": null,
   "id": "dd7b461c",
   "metadata": {},
   "outputs": [],
   "source": []
  },
  {
   "cell_type": "markdown",
   "id": "525deb26",
   "metadata": {},
   "source": [
    "<h1 align=\"center\" style = \"color:red\">Python Data Types</h1>\n",
    "\n",
    "\n",
    "<img src=\"images/7.jpeg\" height=400px width=400px>"
   ]
  },
  {
   "cell_type": "markdown",
   "id": "c71cc40f",
   "metadata": {},
   "source": [
    "- Variables can hold values, and every value has a data-type. Python is a dynamically typed language; hence we do not need to define the type of the variable while declaring it. The interpreter implicitly binds the value with its type.\n",
    "- The variable `a` holds integer value `five` and we did not define its type. Python interpreter will automatically interpret variables `a` as an integer type."
   ]
  },
  {
   "cell_type": "code",
   "execution_count": 36,
   "id": "ea1c2a63",
   "metadata": {},
   "outputs": [],
   "source": [
    "x = 5\n",
    "a = 10  \n",
    "b = \"Hi Python\"  \n",
    "c = 10.5  \n"
   ]
  },
  {
   "cell_type": "code",
   "execution_count": 37,
   "id": "418cab07",
   "metadata": {},
   "outputs": [
    {
     "name": "stdout",
     "output_type": "stream",
     "text": [
      "<class 'int'>\n",
      "<class 'str'>\n",
      "<class 'float'>\n",
      "<class 'int'>\n"
     ]
    }
   ],
   "source": [
    "print(type(a))  \n",
    "print(type(b))  \n",
    "print(type(c))  \n",
    "print(type(x))"
   ]
  },
  {
   "cell_type": "code",
   "execution_count": null,
   "id": "3b2a73ac",
   "metadata": {},
   "outputs": [],
   "source": []
  },
  {
   "cell_type": "markdown",
   "id": "8cb85920",
   "metadata": {},
   "source": [
    "- A variable can hold different types of values. **For example**, a person's name must be stored as a string whereas its id must be stored as an integer.\n",
    "- Python provides various standard data types that define the storage method on each of them."
   ]
  },
  {
   "cell_type": "code",
   "execution_count": null,
   "id": "fadb1095",
   "metadata": {},
   "outputs": [],
   "source": []
  },
  {
   "cell_type": "code",
   "execution_count": null,
   "id": "5d6a7684",
   "metadata": {},
   "outputs": [],
   "source": []
  },
  {
   "cell_type": "markdown",
   "id": "69e36514",
   "metadata": {},
   "source": [
    "#### Numbers:\n",
    "Number stores numeric values. The `integer`, `float`, and `complex` values belong to a Python `Numbers` data-type. Python provides the `type()` function to know the data-type of the variable.\n",
    "\n",
    "\n",
    "<img src=\"images/numbers-in-python--image.webp\" height=500px width=500px>"
   ]
  },
  {
   "cell_type": "code",
   "execution_count": 38,
   "id": "64fdca05",
   "metadata": {},
   "outputs": [
    {
     "name": "stdout",
     "output_type": "stream",
     "text": [
      "The type of a <class 'int'>\n",
      "The type of b <class 'float'>\n",
      "The type of c <class 'complex'>\n"
     ]
    }
   ],
   "source": [
    "a = 5  \n",
    "print(\"The type of a\", type(a))  \n",
    "  \n",
    "b = 40.5  \n",
    "print(\"The type of b\", type(b))  \n",
    "  \n",
    "c = 1+3j  \n",
    "print(\"The type of c\", type(c))  "
   ]
  },
  {
   "cell_type": "code",
   "execution_count": null,
   "id": "56d8ae12",
   "metadata": {},
   "outputs": [],
   "source": []
  },
  {
   "cell_type": "code",
   "execution_count": null,
   "id": "7b52489c",
   "metadata": {},
   "outputs": [],
   "source": []
  },
  {
   "cell_type": "code",
   "execution_count": null,
   "id": "6980f1df",
   "metadata": {},
   "outputs": [],
   "source": []
  },
  {
   "cell_type": "markdown",
   "id": "60a5b978",
   "metadata": {},
   "source": [
    "Python supports three types of numeric data.\n",
    "\n",
    "1. **Int** - Integer value can be any length such as integers 10, 2, 29, -20, -150 etc. Python has no restriction on the length of an integer. Its value belongs to int\n",
    "2. **Float** - Float is used to store floating-point numbers like 1.9, 9.902, 15.2, etc. It is accurate upto 15 decimal points.\n",
    "3. **complex** - A complex number contains an ordered pair, i.e., x + iy where x and y denote the real and imaginary parts, respectively. The complex numbers like 2.14j, 2.0 + 2.3j, etc.\n",
    "4. **Boolean:** Also known as bool data type allows us to choose between two values: True and False. Booleans have the type bool. A Boolean is used to determine whether the logic of an expression or a comparison is correct. It plays a huge role in data comparisons."
   ]
  },
  {
   "cell_type": "code",
   "execution_count": 39,
   "id": "2ff41821",
   "metadata": {},
   "outputs": [
    {
     "name": "stdout",
     "output_type": "stream",
     "text": [
      "False\n"
     ]
    }
   ],
   "source": [
    "print(5<2)"
   ]
  },
  {
   "cell_type": "code",
   "execution_count": 40,
   "id": "62863db8",
   "metadata": {},
   "outputs": [
    {
     "name": "stdout",
     "output_type": "stream",
     "text": [
      "<class 'int'>\n",
      "<class 'float'>\n",
      "<class 'complex'>\n",
      "<class 'bool'>\n"
     ]
    }
   ],
   "source": [
    "w = 10\n",
    "x = 20.5\n",
    "y = complex(3, 2)  \n",
    "y = 3 + 2j\n",
    "z = True\n",
    "print(type(w))\n",
    "print(type(x))\n",
    "print(type(y))\n",
    "print(type(z))"
   ]
  },
  {
   "cell_type": "code",
   "execution_count": 41,
   "id": "593b7117",
   "metadata": {},
   "outputs": [
    {
     "name": "stdout",
     "output_type": "stream",
     "text": [
      "True\n",
      "<class 'bool'>\n"
     ]
    }
   ],
   "source": [
    "# Example of Boolean data type \n",
    "y = 10 < 100\n",
    "print(y)\n",
    "print(type(y))"
   ]
  },
  {
   "cell_type": "code",
   "execution_count": null,
   "id": "a7c40482",
   "metadata": {},
   "outputs": [],
   "source": []
  },
  {
   "cell_type": "code",
   "execution_count": null,
   "id": "6c0bb670",
   "metadata": {},
   "outputs": [],
   "source": []
  },
  {
   "cell_type": "code",
   "execution_count": 42,
   "id": "5ab69ebb",
   "metadata": {},
   "outputs": [
    {
     "name": "stdout",
     "output_type": "stream",
     "text": [
      "True\n",
      "False\n"
     ]
    }
   ],
   "source": [
    "a = True\n",
    "print(a)\n",
    "b = False\n",
    "print(b)"
   ]
  },
  {
   "cell_type": "code",
   "execution_count": 2,
   "id": "3286e612",
   "metadata": {},
   "outputs": [
    {
     "name": "stdout",
     "output_type": "stream",
     "text": [
      "True\n",
      "False\n",
      "True\n",
      "False\n"
     ]
    }
   ],
   "source": [
    "# In Python, True represents the value as 1 and False as 0. \n",
    "print(bool(1))\n",
    "print(bool(0))\n",
    "\n",
    "print(bool(True))\n",
    "print(bool(False))"
   ]
  },
  {
   "cell_type": "code",
   "execution_count": null,
   "id": "e0380a61",
   "metadata": {},
   "outputs": [],
   "source": []
  },
  {
   "cell_type": "code",
   "execution_count": null,
   "id": "60c4e553",
   "metadata": {},
   "outputs": [],
   "source": []
  }
 ],
 "metadata": {
  "kernelspec": {
   "display_name": "Python 3 (ipykernel)",
   "language": "python",
   "name": "python3"
  },
  "language_info": {
   "codemirror_mode": {
    "name": "ipython",
    "version": 3
   },
   "file_extension": ".py",
   "mimetype": "text/x-python",
   "name": "python",
   "nbconvert_exporter": "python",
   "pygments_lexer": "ipython3",
   "version": "3.8.10"
  }
 },
 "nbformat": 4,
 "nbformat_minor": 5
}
