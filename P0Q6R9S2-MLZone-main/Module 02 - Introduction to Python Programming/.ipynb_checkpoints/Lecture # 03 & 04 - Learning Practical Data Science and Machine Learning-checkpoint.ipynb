{
 "cells": [
  {
   "cell_type": "markdown",
   "id": "fbaed424",
   "metadata": {},
   "source": [
    "<img src=\"images/lecture-3-4.png\" height=1000px width=1000px>\n"
   ]
  },
  {
   "cell_type": "code",
   "execution_count": null,
   "id": "e83acd2f",
   "metadata": {},
   "outputs": [],
   "source": []
  },
  {
   "cell_type": "code",
   "execution_count": null,
   "id": "2a629cbc",
   "metadata": {},
   "outputs": [],
   "source": []
  },
  {
   "cell_type": "code",
   "execution_count": null,
   "id": "b284c88e",
   "metadata": {},
   "outputs": [],
   "source": []
  },
  {
   "cell_type": "markdown",
   "id": "18c34acc",
   "metadata": {},
   "source": [
    "# Learning Agenda of this Notebook\n",
    "\n",
    "- Comments in Python\n",
    "- Data Types and Operators in Python\n",
    "- String Data Structure "
   ]
  },
  {
   "cell_type": "code",
   "execution_count": null,
   "id": "11a61a5e",
   "metadata": {},
   "outputs": [],
   "source": []
  },
  {
   "cell_type": "code",
   "execution_count": null,
   "id": "94d622c6",
   "metadata": {},
   "outputs": [],
   "source": []
  },
  {
   "cell_type": "code",
   "execution_count": null,
   "id": "b3a597a7",
   "metadata": {},
   "outputs": [],
   "source": []
  },
  {
   "cell_type": "markdown",
   "id": "37519949",
   "metadata": {},
   "source": [
    "<h1 align=\"center\" style = \"color:red\">Comments in Python </h1>\n",
    "\n",
    "\n",
    "<img src=\"images/comment-1.png\" height=400px width=400px align=\"left\">\n",
    "<img src=\"images/comment-2.png\" height=400px width=400px align=\"right\">"
   ]
  },
  {
   "cell_type": "code",
   "execution_count": null,
   "id": "7d5e0839",
   "metadata": {},
   "outputs": [],
   "source": []
  },
  {
   "cell_type": "code",
   "execution_count": null,
   "id": "b4011fff",
   "metadata": {},
   "outputs": [],
   "source": [
    "# a is integer type variable\n",
    "a = 23\n",
    "print(type(a))"
   ]
  },
  {
   "cell_type": "code",
   "execution_count": null,
   "id": "5c59fe31",
   "metadata": {},
   "outputs": [],
   "source": [
    "\"\"\"\n",
    "This is example of multi-line comment\n",
    "\"\"\"\n",
    "\n",
    "'''\n",
    "This is another example of multi-line comment\n",
    "'''\n",
    "\n",
    "# This is a single line comment\n",
    "print(a)"
   ]
  },
  {
   "cell_type": "code",
   "execution_count": null,
   "id": "903d0ece",
   "metadata": {},
   "outputs": [],
   "source": []
  },
  {
   "cell_type": "code",
   "execution_count": null,
   "id": "da181fc0",
   "metadata": {},
   "outputs": [],
   "source": []
  },
  {
   "cell_type": "code",
   "execution_count": null,
   "id": "5b47e944",
   "metadata": {},
   "outputs": [],
   "source": []
  },
  {
   "cell_type": "code",
   "execution_count": null,
   "id": "86e2fc13",
   "metadata": {},
   "outputs": [],
   "source": []
  },
  {
   "cell_type": "markdown",
   "id": "285eff76",
   "metadata": {},
   "source": [
    "<h1 align=\"center\" style = \"color:red\">Python Data Types</h1>\n",
    "\n",
    "\n",
    "<img src=\"images/7.jpeg\" height=500px width=500px>"
   ]
  },
  {
   "cell_type": "markdown",
   "id": "d1e96c17",
   "metadata": {},
   "source": [
    "- Variables can hold values, and every value has a data-type. Python is a dynamically typed language; hence we do not need to define the type of the variable while declaring it. The interpreter implicitly binds the value with its type.\n",
    "- The variable `a` holds integer value `five` and we did not define its type. Python interpreter will automatically interpret variables `a` as an integer type."
   ]
  },
  {
   "cell_type": "code",
   "execution_count": null,
   "id": "14803b4e",
   "metadata": {},
   "outputs": [],
   "source": [
    "x = 5\n",
    "a = 10  \n",
    "b = \"Hi Python\"  \n",
    "c = 10.5  \n"
   ]
  },
  {
   "cell_type": "code",
   "execution_count": null,
   "id": "923b9f90",
   "metadata": {},
   "outputs": [],
   "source": [
    "print(type(a))  \n",
    "print(type(b))  \n",
    "print(type(c))  \n",
    "print(type(x))"
   ]
  },
  {
   "cell_type": "code",
   "execution_count": null,
   "id": "69bc9cc1",
   "metadata": {},
   "outputs": [],
   "source": []
  },
  {
   "cell_type": "code",
   "execution_count": null,
   "id": "c4f6cefa",
   "metadata": {},
   "outputs": [],
   "source": []
  },
  {
   "cell_type": "code",
   "execution_count": null,
   "id": "ad22055b",
   "metadata": {},
   "outputs": [],
   "source": []
  },
  {
   "cell_type": "markdown",
   "id": "2fa79216",
   "metadata": {},
   "source": [
    "- A variable can hold different types of values. **For example**, a person's name must be stored as a string whereas its id must be stored as an integer.\n",
    "- Python provides various standard data types that define the storage method on each of them."
   ]
  },
  {
   "cell_type": "markdown",
   "id": "26303e4e",
   "metadata": {},
   "source": [
    "#### Numbers:\n",
    "Number stores numeric values. The `integer`, `float`, and `complex` values belong to a Python `Numbers` data-type. Python provides the `type()` function to know the data-type of the variable.\n",
    "\n",
    "\n",
    "<img src=\"images/numbers-in-python--image.webp\" height=500px width=500px>\n",
    "\n",
    "\n",
    "\n",
    "\n",
    "Python supports three types of numeric data.\n",
    "\n",
    "1. **Int** - Integer value can be any length such as integers 10, 2, 29, -20, -150 etc. Python has no restriction on the length of an integer. Its value belongs to int\n",
    "2. **Float** - Float is used to store floating-point numbers like 1.9, 9.902, 15.2, etc. It is accurate upto 15 decimal points.\n",
    "3. **complex** - A complex number contains an ordered pair, i.e., x + iy where x and y denote the real and imaginary parts, respectively. The complex numbers like 2.14j, 2.0 + 2.3j, etc.\n",
    "4. **Boolean:** Also known as bool data type allows us to choose between two values: True and False. Booleans have the type bool. A Boolean is used to determine whether the logic of an expression or a comparison is correct. It plays a huge role in data comparisons."
   ]
  },
  {
   "cell_type": "code",
   "execution_count": null,
   "id": "fa76ad18",
   "metadata": {},
   "outputs": [],
   "source": [
    "a = 5  \n",
    "print(\"The type of a\", type(a))  \n",
    "  \n",
    "b = 40.5  \n",
    "print(\"The type of b\", type(b))  \n",
    "  \n",
    "c = 1+3j  \n",
    "print(\"The type of c\", type(c))  "
   ]
  },
  {
   "cell_type": "code",
   "execution_count": null,
   "id": "43889ad8",
   "metadata": {},
   "outputs": [],
   "source": []
  },
  {
   "cell_type": "code",
   "execution_count": null,
   "id": "cfc706d4",
   "metadata": {},
   "outputs": [],
   "source": [
    "5 < 2 # `<` is a less than operator"
   ]
  },
  {
   "cell_type": "code",
   "execution_count": null,
   "id": "f9827cd5",
   "metadata": {},
   "outputs": [],
   "source": [
    "print(5 < 2)"
   ]
  },
  {
   "cell_type": "code",
   "execution_count": null,
   "id": "487dc1a3",
   "metadata": {},
   "outputs": [],
   "source": [
    "result = 5 < 2 \n",
    "type(result)"
   ]
  },
  {
   "cell_type": "code",
   "execution_count": null,
   "id": "1173ea49",
   "metadata": {},
   "outputs": [],
   "source": []
  },
  {
   "cell_type": "code",
   "execution_count": null,
   "id": "52fc4352",
   "metadata": {},
   "outputs": [],
   "source": [
    "w = 10\n",
    "x = 20.5\n",
    "y = complex(3, 2)  \n",
    "y = 3 + 2j\n",
    "z = True\n"
   ]
  },
  {
   "cell_type": "code",
   "execution_count": null,
   "id": "520e1442",
   "metadata": {},
   "outputs": [],
   "source": [
    "print(type(w))\n",
    "print(type(x))\n",
    "print(type(y))\n",
    "print(type(z))"
   ]
  },
  {
   "cell_type": "code",
   "execution_count": null,
   "id": "a9ece7cf",
   "metadata": {},
   "outputs": [],
   "source": [
    "# Example of Boolean data type \n",
    "y = 10 < 100\n",
    "print(y)\n",
    "print(type(y))"
   ]
  },
  {
   "cell_type": "code",
   "execution_count": null,
   "id": "423dfbf4",
   "metadata": {},
   "outputs": [],
   "source": []
  },
  {
   "cell_type": "code",
   "execution_count": null,
   "id": "a7c4a5b0",
   "metadata": {},
   "outputs": [],
   "source": [
    "a = True\n",
    "print(a)\n",
    "b = False\n",
    "print(b)"
   ]
  },
  {
   "cell_type": "code",
   "execution_count": null,
   "id": "8ee8b0f5",
   "metadata": {},
   "outputs": [],
   "source": []
  },
  {
   "cell_type": "code",
   "execution_count": null,
   "id": "cc75982f",
   "metadata": {},
   "outputs": [],
   "source": [
    "# In Python, True represents the value as 1 and False as 0. \n",
    "print(bool(1))\n",
    "print(bool(0))\n",
    "\n",
    "print(bool(True))\n",
    "print(bool(False))"
   ]
  },
  {
   "cell_type": "code",
   "execution_count": null,
   "id": "948df26b",
   "metadata": {},
   "outputs": [],
   "source": []
  },
  {
   "cell_type": "code",
   "execution_count": null,
   "id": "2cf201c3",
   "metadata": {},
   "outputs": [],
   "source": []
  },
  {
   "cell_type": "code",
   "execution_count": null,
   "id": "f7594521",
   "metadata": {},
   "outputs": [],
   "source": []
  },
  {
   "cell_type": "markdown",
   "id": "6ba57b48",
   "metadata": {},
   "source": [
    "###  Conversion/Type Casting\n",
    "\n",
    "\n",
    "<br>\n",
    "<br>\n",
    "<br>\n",
    "\n",
    "\n",
    "<img src=\"images/type-casting.png\" height=400px width=400px align=right>\n",
    "<img src=\"images/type_casting.jpg\" height=350px width=350px align=left>\n",
    "\n",
    "\n",
    "<br>\n",
    "<br>\n",
    "<br>\n",
    "\n",
    "<br>\n",
    "<br>\n",
    "<br>\n",
    "<br>\n",
    "<br>\n",
    "<br>\n",
    "<br>\n",
    "<br>\n",
    "<br>\n",
    "<br>\n",
    "<br>\n",
    "<br>\n",
    "<br>\n",
    "<br>\n",
    "<br>\n",
    "<br>\n",
    "<br>\n",
    "<br>\n",
    "<br>\n",
    "\n",
    "- **Implicit Type Conversion:** While performing arithmetic operations, integers are automatically converted to `float` if any of the operands is a `float`. Also, the division operator `/` always returns a `float`, even if both operands are integers. Use the `//` operator if you want the result of the division to be an `int`.\n",
    "\n",
    "- **Explicit Type Conversion or Type Casting** refers to the conversion of an object from one data type to another"
   ]
  },
  {
   "cell_type": "code",
   "execution_count": null,
   "id": "43e2f733",
   "metadata": {},
   "outputs": [],
   "source": [
    "age = 21\n",
    "marks = 74.2\n",
    "c = age + marks\n",
    "print(c)"
   ]
  },
  {
   "cell_type": "code",
   "execution_count": null,
   "id": "c4995c85",
   "metadata": {},
   "outputs": [],
   "source": [
    "print(type(c))"
   ]
  },
  {
   "cell_type": "code",
   "execution_count": null,
   "id": "ba5b03fa",
   "metadata": {},
   "outputs": [],
   "source": []
  },
  {
   "cell_type": "code",
   "execution_count": null,
   "id": "e775e8e6",
   "metadata": {},
   "outputs": [],
   "source": []
  },
  {
   "cell_type": "code",
   "execution_count": null,
   "id": "ebd7efdf",
   "metadata": {},
   "outputs": [],
   "source": [
    "number1 = 63\n",
    "number2 = 8\n",
    "print(number1/number2)\n",
    "print(number1//number2)"
   ]
  },
  {
   "cell_type": "code",
   "execution_count": null,
   "id": "6c8da618",
   "metadata": {},
   "outputs": [],
   "source": [
    "age = 21\n",
    "name = \"Ehtisham\"\n",
    "age + name"
   ]
  },
  {
   "cell_type": "code",
   "execution_count": null,
   "id": "9ada0797",
   "metadata": {},
   "outputs": [],
   "source": [
    "str(age)"
   ]
  },
  {
   "cell_type": "code",
   "execution_count": null,
   "id": "ce635fc6",
   "metadata": {},
   "outputs": [],
   "source": [
    "str(age)+name"
   ]
  },
  {
   "cell_type": "code",
   "execution_count": null,
   "id": "8d4be1d2",
   "metadata": {},
   "outputs": [],
   "source": []
  },
  {
   "cell_type": "code",
   "execution_count": null,
   "id": "8ba26cc6",
   "metadata": {},
   "outputs": [],
   "source": []
  },
  {
   "cell_type": "code",
   "execution_count": null,
   "id": "df9bbc32",
   "metadata": {},
   "outputs": [],
   "source": []
  },
  {
   "cell_type": "markdown",
   "id": "2d7998f5",
   "metadata": {},
   "source": [
    "### a. Implicit Type Conversion"
   ]
  },
  {
   "cell_type": "code",
   "execution_count": null,
   "id": "5a6425d7",
   "metadata": {},
   "outputs": [],
   "source": [
    "a = 2 + 3\n",
    "b = 2 + 3.0\n",
    "type(a), type(b)"
   ]
  },
  {
   "cell_type": "code",
   "execution_count": null,
   "id": "f42c598c",
   "metadata": {},
   "outputs": [],
   "source": [
    "a = 3 * 5\n",
    "b = 3 * 5.0\n",
    "type(a), type(b)"
   ]
  },
  {
   "cell_type": "code",
   "execution_count": null,
   "id": "7b636b61",
   "metadata": {},
   "outputs": [],
   "source": [
    "a = 4/2\n",
    "b = 4/2.0\n",
    "print(type(a), type(b))\n"
   ]
  },
  {
   "cell_type": "code",
   "execution_count": null,
   "id": "710bb008",
   "metadata": {},
   "outputs": [],
   "source": [
    "print(a,b)"
   ]
  },
  {
   "cell_type": "code",
   "execution_count": null,
   "id": "5ba7b4cd",
   "metadata": {},
   "outputs": [],
   "source": []
  },
  {
   "cell_type": "code",
   "execution_count": null,
   "id": "8a782322",
   "metadata": {},
   "outputs": [],
   "source": []
  },
  {
   "cell_type": "code",
   "execution_count": null,
   "id": "402a10dc",
   "metadata": {},
   "outputs": [],
   "source": []
  },
  {
   "cell_type": "code",
   "execution_count": null,
   "id": "6fa9e31c",
   "metadata": {},
   "outputs": [],
   "source": []
  },
  {
   "cell_type": "markdown",
   "id": "40ba46a0",
   "metadata": {},
   "source": [
    "### b. Explicit Type Conversion (Type Casting)\n",
    "\n",
    "\n",
    "<img src=\"images/Tye-Conversion-and-Type-Casting-in-Python.jpg\" height=450px width=450px>\n",
    "\n",
    "####  Convert to Integer using ` int (a)`  function"
   ]
  },
  {
   "cell_type": "code",
   "execution_count": null,
   "id": "75ba4592",
   "metadata": {},
   "outputs": [],
   "source": []
  },
  {
   "cell_type": "markdown",
   "id": "7d72d8ee",
   "metadata": {},
   "source": [
    "**int() Function:**    \n",
    "- The `int()` method is used to convert a string to an integer in Python. This can be useful if you need to store a value as an integer or perform mathematical operations on a value stored as a string."
   ]
  },
  {
   "cell_type": "code",
   "execution_count": null,
   "id": "c7801f23",
   "metadata": {},
   "outputs": [],
   "source": [
    "a = \"32\"\n",
    "b = 45"
   ]
  },
  {
   "cell_type": "code",
   "execution_count": null,
   "id": "6a3b7b36",
   "metadata": {},
   "outputs": [],
   "source": [
    "print(type(a), type(b))"
   ]
  },
  {
   "cell_type": "code",
   "execution_count": null,
   "id": "d91ec124",
   "metadata": {},
   "outputs": [],
   "source": [
    "a+b"
   ]
  },
  {
   "cell_type": "code",
   "execution_count": null,
   "id": "baf72fc8",
   "metadata": {},
   "outputs": [],
   "source": [
    "type(a),type(int(a))"
   ]
  },
  {
   "cell_type": "code",
   "execution_count": null,
   "id": "b66749f0",
   "metadata": {},
   "outputs": [],
   "source": [
    "c = int(a) + b"
   ]
  },
  {
   "cell_type": "code",
   "execution_count": null,
   "id": "77a524fd",
   "metadata": {},
   "outputs": [],
   "source": [
    "print(c)"
   ]
  },
  {
   "cell_type": "code",
   "execution_count": null,
   "id": "4907d9f5",
   "metadata": {},
   "outputs": [],
   "source": [
    "# convert float into integer using `int()` \n",
    "num1 = 3.5\n",
    "type(num1)"
   ]
  },
  {
   "cell_type": "code",
   "execution_count": null,
   "id": "68eac1fc",
   "metadata": {},
   "outputs": [],
   "source": [
    "type(int(num1))"
   ]
  },
  {
   "cell_type": "code",
   "execution_count": null,
   "id": "8e8c97f3",
   "metadata": {},
   "outputs": [],
   "source": []
  },
  {
   "cell_type": "code",
   "execution_count": null,
   "id": "956a8f29",
   "metadata": {},
   "outputs": [],
   "source": []
  },
  {
   "cell_type": "code",
   "execution_count": null,
   "id": "785d18f7",
   "metadata": {},
   "outputs": [],
   "source": []
  },
  {
   "cell_type": "code",
   "execution_count": null,
   "id": "4f4a8289",
   "metadata": {},
   "outputs": [],
   "source": []
  },
  {
   "cell_type": "markdown",
   "id": "70550c76",
   "metadata": {},
   "source": [
    "**float() Function:**\n",
    "- The `float()` method is a built-in Python function that is used to convert an integer or a string to a floating-point value."
   ]
  },
  {
   "cell_type": "code",
   "execution_count": null,
   "id": "26197abb",
   "metadata": {},
   "outputs": [],
   "source": [
    "a = 5\n",
    "b = 8\n",
    "c = a + b\n",
    "print(c)"
   ]
  },
  {
   "cell_type": "code",
   "execution_count": null,
   "id": "73c18f3e",
   "metadata": {},
   "outputs": [],
   "source": [
    "print(float(c))"
   ]
  },
  {
   "cell_type": "code",
   "execution_count": null,
   "id": "2c2e9806",
   "metadata": {},
   "outputs": [],
   "source": []
  },
  {
   "cell_type": "code",
   "execution_count": null,
   "id": "63e746bf",
   "metadata": {},
   "outputs": [],
   "source": []
  },
  {
   "cell_type": "markdown",
   "id": "6352f511",
   "metadata": {},
   "source": [
    "**str() Function:**\n",
    "- The `str()` function converts the specified value into a string."
   ]
  },
  {
   "cell_type": "code",
   "execution_count": null,
   "id": "8f69d91e",
   "metadata": {},
   "outputs": [],
   "source": [
    "x = 21\n",
    "print(type(x), x)"
   ]
  },
  {
   "cell_type": "code",
   "execution_count": null,
   "id": "b2560d04",
   "metadata": {},
   "outputs": [],
   "source": [
    "y = str(x)\n",
    "type(y), y"
   ]
  },
  {
   "cell_type": "code",
   "execution_count": null,
   "id": "a4ac887a",
   "metadata": {},
   "outputs": [],
   "source": [
    "z = bool(-5)\n",
    "type(z), z"
   ]
  },
  {
   "cell_type": "code",
   "execution_count": null,
   "id": "96d9aa80",
   "metadata": {},
   "outputs": [],
   "source": []
  },
  {
   "cell_type": "code",
   "execution_count": null,
   "id": "42ee771e",
   "metadata": {},
   "outputs": [],
   "source": []
  },
  {
   "cell_type": "code",
   "execution_count": null,
   "id": "0fab6a00",
   "metadata": {},
   "outputs": [],
   "source": [
    "# Convert to Float  using  `float (a)` function\n",
    "\n",
    "a = 54\n",
    "type(a), a"
   ]
  },
  {
   "cell_type": "code",
   "execution_count": null,
   "id": "479a3307",
   "metadata": {},
   "outputs": [],
   "source": []
  },
  {
   "cell_type": "code",
   "execution_count": null,
   "id": "3927732d",
   "metadata": {},
   "outputs": [],
   "source": [
    "b = float(a)\n",
    "type(b), b"
   ]
  },
  {
   "cell_type": "code",
   "execution_count": null,
   "id": "a6af409d",
   "metadata": {},
   "outputs": [],
   "source": []
  },
  {
   "cell_type": "code",
   "execution_count": null,
   "id": "69b7d18f",
   "metadata": {},
   "outputs": [],
   "source": [
    "# Note that a and be are two different objects\n",
    "id(a), id(b)"
   ]
  },
  {
   "cell_type": "code",
   "execution_count": null,
   "id": "6d391325",
   "metadata": {},
   "outputs": [],
   "source": []
  },
  {
   "cell_type": "code",
   "execution_count": null,
   "id": "3997f803",
   "metadata": {},
   "outputs": [],
   "source": [
    "num = 341\n",
    "type(num), num"
   ]
  },
  {
   "cell_type": "code",
   "execution_count": null,
   "id": "2cfef6b8",
   "metadata": {},
   "outputs": [],
   "source": []
  },
  {
   "cell_type": "code",
   "execution_count": null,
   "id": "a3114efd",
   "metadata": {},
   "outputs": [],
   "source": [
    "mystr = str(num)\n",
    "type(mystr), mystr"
   ]
  },
  {
   "cell_type": "code",
   "execution_count": null,
   "id": "70c796b4",
   "metadata": {},
   "outputs": [],
   "source": []
  },
  {
   "cell_type": "code",
   "execution_count": null,
   "id": "a3f6a7da",
   "metadata": {},
   "outputs": [],
   "source": [
    "# Convert two Floats to Complex Data type  using  `complex (a, b)`  function\n",
    "\n",
    "a = 2.6\n",
    "b = 3.2\n",
    "x = complex(a,b)\n",
    "type(x), x"
   ]
  },
  {
   "cell_type": "code",
   "execution_count": null,
   "id": "008b8a81",
   "metadata": {},
   "outputs": [],
   "source": []
  },
  {
   "cell_type": "code",
   "execution_count": null,
   "id": "e7f7d0b7",
   "metadata": {},
   "outputs": [],
   "source": []
  },
  {
   "cell_type": "markdown",
   "id": "6d0ae898",
   "metadata": {},
   "source": [
    "**Note:**\n",
    "- Is it possible to convert `str1 =\"abc123\"` into integer variable/value?"
   ]
  },
  {
   "cell_type": "code",
   "execution_count": null,
   "id": "18aa443d",
   "metadata": {},
   "outputs": [],
   "source": [
    "str1 = \"123\""
   ]
  },
  {
   "cell_type": "code",
   "execution_count": null,
   "id": "eda779c0",
   "metadata": {},
   "outputs": [],
   "source": [
    "int(str1)"
   ]
  },
  {
   "cell_type": "code",
   "execution_count": null,
   "id": "92ec16a0",
   "metadata": {},
   "outputs": [],
   "source": []
  },
  {
   "cell_type": "code",
   "execution_count": null,
   "id": "45fa3a65",
   "metadata": {},
   "outputs": [],
   "source": []
  },
  {
   "cell_type": "code",
   "execution_count": null,
   "id": "3a7e52b4",
   "metadata": {},
   "outputs": [],
   "source": []
  },
  {
   "cell_type": "markdown",
   "id": "f2a1b555",
   "metadata": {},
   "source": [
    "### Working of `input()` Function"
   ]
  },
  {
   "cell_type": "markdown",
   "id": "764c1d7a",
   "metadata": {},
   "source": [
    "**write a program to swap two numbers**"
   ]
  },
  {
   "cell_type": "code",
   "execution_count": null,
   "id": "2c856183",
   "metadata": {},
   "outputs": [],
   "source": [
    "name = input(\"Enter your name: \")\n"
   ]
  },
  {
   "cell_type": "code",
   "execution_count": null,
   "id": "e96c4358",
   "metadata": {},
   "outputs": [],
   "source": [
    "type(name)"
   ]
  },
  {
   "cell_type": "code",
   "execution_count": null,
   "id": "ba022fc5",
   "metadata": {},
   "outputs": [],
   "source": [
    "age = input(\"Enter your age : \")"
   ]
  },
  {
   "cell_type": "code",
   "execution_count": null,
   "id": "a4bfc309",
   "metadata": {},
   "outputs": [],
   "source": [
    "type(age)"
   ]
  },
  {
   "cell_type": "code",
   "execution_count": null,
   "id": "99990044",
   "metadata": {},
   "outputs": [],
   "source": []
  },
  {
   "cell_type": "code",
   "execution_count": null,
   "id": "c2b2bce5",
   "metadata": {},
   "outputs": [],
   "source": [
    "number1 = int(input(\"Enter First Number : \"))\n",
    "\n",
    "number2 = int(input(\"Enter second number : \"))\n"
   ]
  },
  {
   "cell_type": "code",
   "execution_count": null,
   "id": "b442db49",
   "metadata": {},
   "outputs": [],
   "source": [
    "print(\"Before swapping numbers are : \", number1 , number2)\n"
   ]
  },
  {
   "cell_type": "code",
   "execution_count": null,
   "id": "427b53eb",
   "metadata": {},
   "outputs": [],
   "source": [
    "# code to swap two numbers\n",
    "number1, number2 = number2, number1\n"
   ]
  },
  {
   "cell_type": "code",
   "execution_count": null,
   "id": "2f41d145",
   "metadata": {},
   "outputs": [],
   "source": []
  },
  {
   "cell_type": "code",
   "execution_count": null,
   "id": "248ff586",
   "metadata": {},
   "outputs": [],
   "source": [
    "print('After swapping numbers are : ', number1, number2)"
   ]
  },
  {
   "cell_type": "code",
   "execution_count": null,
   "id": "b341dbb1",
   "metadata": {},
   "outputs": [],
   "source": []
  },
  {
   "cell_type": "code",
   "execution_count": null,
   "id": "cb88b422",
   "metadata": {},
   "outputs": [],
   "source": []
  },
  {
   "cell_type": "markdown",
   "id": "dbdc6026",
   "metadata": {},
   "source": [
    "### Check your Concepts\n",
    "\n",
    "Try answering the following questions to test your understanding of the topics covered in this notebook:\n",
    "\n",
    "1. What is a variable in Python?\n",
    "2. How do you create a variable?\n",
    "3. How do you check the value within a variable?\n",
    "4. How do you create multiple variables in a single statement?\n",
    "5. How do you create multiple variables with the same value?\n",
    "6. How do you change the value of a variable?\n",
    "7. How do you reassign a variable by modifying the previous value?\n",
    "8. What are the rules for naming a variable?\n",
    "9. Are variable names case-sensitive? Do `a_variable`, `A_Variable`, and `A_VARIABLE` represent the same variable or different ones?\n",
    "10. How do you check the data type of a variable?\n",
    "11. What are the built-in data types in Python?\n",
    "12. What kind of data does the Integer data type represent?\n",
    "13. What are the numerical limits of the integer data type?\n",
    "14. What kind of data does the float data type represent?\n",
    "15. How does Python decide if a given number is a float or an integer?\n",
    "16. How can you create a variable which stores a whole number, e.g., 4 but has the float data type?\n",
    "17. What are the differences between integers and floats?\n",
    "18. How do you convert an integer to a float?\n",
    "19. How do you convert a float to an integer?\n",
    "20. What is the result obtained when you convert 1.99 to an integer?\n",
    "21. What are the data types of the results of the division operators `/` and `//`?\n",
    "22. What kind of data does the Boolean data type represent?\n",
    "23. Which types of Python operators return booleans as a result?\n",
    "24. What happens if you try to use a boolean in arithmetic operation?\n",
    "25. How can any value in Python be covered to a boolean?"
   ]
  },
  {
   "cell_type": "code",
   "execution_count": null,
   "id": "e3e39b35",
   "metadata": {},
   "outputs": [],
   "source": []
  },
  {
   "cell_type": "code",
   "execution_count": null,
   "id": "da2e49ec",
   "metadata": {},
   "outputs": [],
   "source": []
  },
  {
   "cell_type": "code",
   "execution_count": null,
   "id": "b59c084e",
   "metadata": {},
   "outputs": [],
   "source": []
  },
  {
   "cell_type": "code",
   "execution_count": null,
   "id": "0f39f36d",
   "metadata": {},
   "outputs": [],
   "source": []
  },
  {
   "cell_type": "code",
   "execution_count": null,
   "id": "e70d9124",
   "metadata": {},
   "outputs": [],
   "source": []
  },
  {
   "cell_type": "code",
   "execution_count": null,
   "id": "133f92e7",
   "metadata": {},
   "outputs": [],
   "source": []
  },
  {
   "cell_type": "markdown",
   "id": "4f5a1a24",
   "metadata": {},
   "source": [
    "<h1 align=\"center\" style = \"color:red\">Operators in Python </h1>\n",
    "\n",
    "\n",
    "<br>\n",
    "<br>\n",
    "<br>\n",
    "\n",
    "<img src=\"images/operator.png\" height=300px width=300px align=\"left\">\n",
    "<img align=\"center\" width=\"400px\" height=\"250px\"  src=\"images/operators.png\" align= \"right\">"
   ]
  },
  {
   "cell_type": "markdown",
   "id": "5d65677b",
   "metadata": {},
   "source": [
    "The operator can be defined as a symbol which is responsible for a particular operation between two operands. Operators are the pillars of a program on which the logic is built in a specific programming language. Python provides a variety of operators, which are described as follows.\n",
    "\n"
   ]
  },
  {
   "cell_type": "code",
   "execution_count": null,
   "id": "2b707968",
   "metadata": {},
   "outputs": [],
   "source": []
  },
  {
   "cell_type": "markdown",
   "id": "123602bb",
   "metadata": {},
   "source": [
    "### i. Arithmetic operators in Python\n",
    "- Arithmetic operators are used to perform arithmetic operations between two operands.\n",
    "- Python supports the following arithmetic operators:\n",
    "\n",
    "| Operator   | Purpose           | Example     | Result    |\n",
    "|------------|-------------------|-------------|-----------|\n",
    "| `+`        | Addition          | `2 + 3`     | `5`       |\n",
    "| `-`        | Subtraction       | `3 - 2`     | `1`       |\n",
    "| `*`        | Multiplication    | `8 * 12`    | `96`      |\n",
    "| `/`        | Division          | `100 / 7`   | `14.28..` |\n",
    "| `//`       | Floor Division    | `100 // 7`  | `14`      |    \n",
    "| `%`        | Modulus/Remainder | `100 % 7`   | `2`       |\n",
    "| `**`       | Exponent          | `5 ** 3`    | `125`     |\n"
   ]
  },
  {
   "cell_type": "code",
   "execution_count": null,
   "id": "fb8aef98",
   "metadata": {},
   "outputs": [],
   "source": [
    "# Here x and y are operands\n",
    "x = 10\n",
    "y = 3\n",
    "\n",
    "# Output: x + y \n",
    "print('x + y =',x+y)\n",
    "\n",
    "# Output: x - y \n",
    "print('x - y =',x-y)\n",
    "\n",
    "# Output: x * y \n",
    "print('x * y =',x*y)\n",
    "\n",
    "# Output: x / y \n",
    "print('x / y =',x/y)\n",
    "\n",
    "# Floor Division: Output: x // y \n",
    "print('x // y =',x//y)\n",
    "\n",
    "# Output: x ^ y \n",
    "# Ouput of Exponent\n",
    "print('x ** y =',x**y)\n",
    "# x = 10 , y =3 , 1000\n",
    "\n",
    "# Output: x % y \n",
    "print('x % y =',x%y)"
   ]
  },
  {
   "cell_type": "code",
   "execution_count": null,
   "id": "2b52d2ec",
   "metadata": {},
   "outputs": [],
   "source": []
  },
  {
   "cell_type": "code",
   "execution_count": null,
   "id": "c5c7d154",
   "metadata": {},
   "outputs": [],
   "source": []
  },
  {
   "cell_type": "markdown",
   "id": "81859e04",
   "metadata": {},
   "source": [
    "### ii.Assignment Operators\n",
    "- The assignment operators are used to assign the value of the right expression to the left operand.\n",
    "- Python supports the following Assignment operators:\n",
    "- If a = 10, b = 20\n",
    "\n",
    "| Operator | Description | Representation | Example | Result |\n",
    "|----------|-------------|----------------|---------|--------|\n",
    "| =        | It assigns the value of the right expression to the left operand | = | a=b | 20 |\n",
    "| +=       | It increases the value of the left operand by the value of the right operand and assigns the modified value back to left operand. | a+ = b will be equal to a = a+ b | a+=b | 30 |\n",
    "| -=       | It decreases the value of the left operand by the value of the right operand and assigns the modified value back to left operand. | a- = b will be equal to a = a- b  | a-=b | -10 |\n",
    "| *=       | It multiplies the value of the left operand by the value of the right operand and assigns the modified value back to then the left operand. | a*=b will be equal to a = a*b | a*=b | 200 |\n",
    "| %=       | It divides the value of the left operand by the value of the right operand and assigns the reminder back to the left operand. | a%=b will be equala to a = a%b | a%=b | 1 |\n"
   ]
  },
  {
   "cell_type": "code",
   "execution_count": null,
   "id": "f43d6b9a",
   "metadata": {},
   "outputs": [],
   "source": []
  },
  {
   "cell_type": "code",
   "execution_count": null,
   "id": "21304e13",
   "metadata": {},
   "outputs": [],
   "source": [
    "#Assignment operators in Python\n",
    "x = 4\n",
    "\n",
    "\n",
    "x += 5    # <->  x = x + 5\n",
    "print(x)\n",
    "\n",
    "#    x = x - 5\n",
    "x -= 5      \n",
    "print(x)\n",
    "\n",
    "#    x = x * 5\n",
    "x *= 5     \n",
    "print(x)\n",
    "\n",
    "#    x = x / 5\n",
    "x /= 5  \n",
    "print(x)\n",
    "\n",
    "#    x = x % 5\n",
    "#    x %= 5       \n",
    "\n",
    "#    x = x // 5\n",
    "#    x //= 5      \n",
    "\n",
    "#    x = x ** 5\n",
    "x **= 5      \n",
    "print(x)"
   ]
  },
  {
   "cell_type": "code",
   "execution_count": null,
   "id": "13c9f8c5",
   "metadata": {},
   "outputs": [],
   "source": []
  },
  {
   "cell_type": "code",
   "execution_count": null,
   "id": "9e0e14e1",
   "metadata": {},
   "outputs": [],
   "source": []
  },
  {
   "cell_type": "markdown",
   "id": "1e23e406",
   "metadata": {},
   "source": [
    "### iii. Comparison Operators\n",
    "- Comparison operators are used to comparing the value of the two operands and returns Boolean true or false accordingly.\n",
    "\n",
    "| Operator | Description |\n",
    "|----------|-------------|\n",
    "| ==       | If the value of two operands is equal, then the condition becomes true. |\n",
    "| !=       | If the value of two operands is not equal, then the condition becomes true. |\n",
    "| <=       | If the first operand is less than or equal to the second operand, then the condition becomes true. |\n",
    "| >=       | If the first operand is greater than or equal to the second operand, then the condition becomes true. |\n",
    "| >        | If the first operand is greater than the second operand, then the condition becomes true. |\n",
    "| <        | If the first operand is less than the second operand, then the condition becomes true. |\n"
   ]
  },
  {
   "cell_type": "code",
   "execution_count": null,
   "id": "4d363002",
   "metadata": {},
   "outputs": [],
   "source": []
  },
  {
   "cell_type": "code",
   "execution_count": null,
   "id": "43368607",
   "metadata": {},
   "outputs": [],
   "source": []
  },
  {
   "cell_type": "code",
   "execution_count": null,
   "id": "6c72de9a",
   "metadata": {},
   "outputs": [],
   "source": [
    "#Comparison operators in Python\n",
    "\n",
    "x = 10\n",
    "y = 12\n",
    "\n",
    "# Output: x > y \n",
    "print('x > y is',x>y)\n",
    "\n",
    "# Output: x < y \n",
    "print('x < y is',x<y)\n",
    "\n",
    "# Output: x == y \n",
    "print('x == y is',x==y)\n",
    "\n",
    "# Output: x != y \n",
    "print('x != y is',x!=y)\n",
    "\n",
    "# Output: x >= y \n",
    "print('x >= y is',x>=y)\n",
    "\n",
    "# Output: x <= y \n",
    "print('x <= y is',x<=y)\n",
    "\n",
    "\n"
   ]
  },
  {
   "cell_type": "code",
   "execution_count": null,
   "id": "d6fc3684",
   "metadata": {},
   "outputs": [],
   "source": [
    "a = (x <= y)\n",
    "print(a)"
   ]
  },
  {
   "cell_type": "code",
   "execution_count": null,
   "id": "a39addaf",
   "metadata": {},
   "outputs": [],
   "source": []
  },
  {
   "cell_type": "code",
   "execution_count": null,
   "id": "0be82d1e",
   "metadata": {},
   "outputs": [],
   "source": []
  },
  {
   "cell_type": "markdown",
   "id": "6b24b671",
   "metadata": {},
   "source": [
    "### iv. Bitwise Operators\n",
    "- The bitwise operators perform bit by bit operation on the values of the two operands.\n",
    "\n",
    "\n",
    "| Operator | Description |\n",
    "|----------|-------------|\n",
    "| a&b      | If both the bits at the same place in two operands are 1, then 1 is copied to the result. Otherwise, 0 is copied. |\n",
    "| a or b   | The resulting bit will be 0 if both the bits are zero; otherwise, the resulting bit will be 1. |\n"
   ]
  },
  {
   "cell_type": "code",
   "execution_count": 4,
   "id": "45837987",
   "metadata": {},
   "outputs": [
    {
     "name": "stdout",
     "output_type": "stream",
     "text": [
      "x & y is 0\n"
     ]
    }
   ],
   "source": [
    "#Bitwise operators in Python\n",
    "x = 10   # 00001010\n",
    "y = 4    # 00000100\n",
    "\n",
    "\n",
    "# Bitwise and\n",
    "print('x & y is',x&y)"
   ]
  },
  {
   "cell_type": "code",
   "execution_count": 5,
   "id": "b645cecc",
   "metadata": {},
   "outputs": [
    {
     "name": "stdout",
     "output_type": "stream",
     "text": [
      "x | y is 14\n"
     ]
    }
   ],
   "source": [
    "# Bitwise or\n",
    "print('x | y is',x|y)"
   ]
  },
  {
   "cell_type": "code",
   "execution_count": null,
   "id": "3abad322",
   "metadata": {},
   "outputs": [],
   "source": []
  },
  {
   "cell_type": "code",
   "execution_count": null,
   "id": "a51f6a91",
   "metadata": {},
   "outputs": [],
   "source": []
  },
  {
   "cell_type": "markdown",
   "id": "89d5c802",
   "metadata": {},
   "source": [
    "### v. Logical Operator\n",
    "- The logical operators are used primarily in the expression evaluation to make a decision. \n",
    "- When Python is processing a logical expression such as `x >= 2 and (x/y) > 2` , it evaluates the expression from left to right.\n",
    "- The logical operators `and`, `or` and `not` operate upon conditions and `True` & `False` values. The `and` and `or` operate on two conditions, whereas `not` operates on a single condition.\n",
    "\n",
    "- The `and` operator returns `True` when both the conditions evaluate to `True`. Otherwise, it returns `False`.\n",
    "\n",
    "| `a`     | `b`    | `a and b` |\n",
    "|---------|--------|-----------|\n",
    "|  `True` | `True` | `True`    |\n",
    "|  `True` | `False`| `False`   |\n",
    "|  `False`| `True` | `False`   |\n",
    "|  `False`| `False`| `False`   |\n",
    "\n",
    "- The `or` operator returns `True` if at least one of the conditions evaluates to `True`. It returns `False` only if both conditions are `False`.\n",
    "\n",
    "| `a`     | `b`    | `a or b`  |\n",
    "|---------|--------|-----------|\n",
    "|  `True` | `True` | `True`    |\n",
    "|  `True` | `False`| `True`    |\n",
    "|  `False`| `True` | `True`    |\n",
    "|  `False`| `False`| `False`   |\n",
    "\n",
    "- The `not` operator returns `False` if a condition is `True` and `True` if the condition is `False`."
   ]
  },
  {
   "cell_type": "code",
   "execution_count": null,
   "id": "78220aa4",
   "metadata": {},
   "outputs": [],
   "source": [
    "x = True\n",
    "y = False\n",
    "\n",
    "print('x and y is',x and y)\n",
    "\n",
    "print('x or y is',x or y)\n",
    "\n",
    "print('not x is',not x)"
   ]
  },
  {
   "cell_type": "code",
   "execution_count": 1,
   "id": "b6341bac",
   "metadata": {},
   "outputs": [
    {
     "data": {
      "text/plain": [
       "False"
      ]
     },
     "execution_count": 1,
     "metadata": {},
     "output_type": "execute_result"
    }
   ],
   "source": [
    "# A short circuit happens in 'and' operation, when the first condition evaluates to False\n",
    "x = 3\n",
    "y = 0\n",
    "z = ((x>=6) and (x/y))\n",
    "z"
   ]
  },
  {
   "cell_type": "code",
   "execution_count": null,
   "id": "1be1b6d9",
   "metadata": {},
   "outputs": [],
   "source": []
  },
  {
   "cell_type": "code",
   "execution_count": null,
   "id": "fb5b37c9",
   "metadata": {},
   "outputs": [],
   "source": []
  },
  {
   "cell_type": "markdown",
   "id": "2f440b63",
   "metadata": {},
   "source": [
    "### vi. Identity Operators in Python\n",
    "- Identity operators are used to compare the ID of objects (not their values)\n",
    "- Returns True if both objects refer to same memory location\n",
    "- The two identity operators in Python are `is` and `is not`.\n",
    "\n",
    "\n",
    "| Operator | Description |\n",
    "|----------|-------------|\n",
    "| is       | It is evaluated to be true if the reference present at both sides point to the same object. |\n",
    "| is not   | It is evaluated to be true if the reference present at both sides do not point to the same object. |\n"
   ]
  },
  {
   "cell_type": "code",
   "execution_count": 6,
   "id": "ce826561",
   "metadata": {},
   "outputs": [
    {
     "name": "stdout",
     "output_type": "stream",
     "text": [
      "9793216\n",
      "140016245662416\n",
      "False\n",
      "True\n"
     ]
    }
   ],
   "source": [
    "#Identity operators in Python\n",
    "a = 5\n",
    "b = 5.0\n",
    "print(id(a))\n",
    "print(id(b))\n",
    "\n",
    "\n",
    "\n",
    "\n",
    "print(a is b)\n",
    "print(a==b)\n"
   ]
  },
  {
   "cell_type": "code",
   "execution_count": null,
   "id": "f8882b55",
   "metadata": {},
   "outputs": [],
   "source": []
  },
  {
   "cell_type": "code",
   "execution_count": 7,
   "id": "19c1c42c",
   "metadata": {},
   "outputs": [
    {
     "name": "stdout",
     "output_type": "stream",
     "text": [
      "False\n",
      "True\n"
     ]
    }
   ],
   "source": [
    "a = 'Hello'\n",
    "b = 'Hello'\n",
    "\n",
    "# Output: False\n",
    "print(a is not b)\n",
    "\n",
    "# Output: True\n",
    "print(a is b)"
   ]
  },
  {
   "cell_type": "code",
   "execution_count": null,
   "id": "eed639bc",
   "metadata": {},
   "outputs": [],
   "source": []
  },
  {
   "cell_type": "code",
   "execution_count": null,
   "id": "256360d1",
   "metadata": {},
   "outputs": [],
   "source": []
  },
  {
   "cell_type": "markdown",
   "id": "9470f45e",
   "metadata": {},
   "source": [
    "### vi. Membership Operators\n",
    "- Python membership operators are used to check the membership of value inside a Python data structure. If the value is present in the data structure, then the resulting value is true otherwise it returns false.\n",
    "\n",
    "\n",
    "| Operator | Description |\n",
    "|----------|-------------|\n",
    "| in       | It is evaluated to be true if the first operand is found in the second operand (list, tuple, or dictionary). |\n",
    "| not in   | It is evaluated to be true if the first operand is not found in the second operand (list, tuple, or dictionary). |\n"
   ]
  },
  {
   "cell_type": "code",
   "execution_count": 8,
   "id": "c263b45f",
   "metadata": {},
   "outputs": [
    {
     "name": "stdout",
     "output_type": "stream",
     "text": [
      "True\n",
      "False\n"
     ]
    }
   ],
   "source": [
    "name = \"Ehtisham Sadiq\"\n",
    "\n",
    "a = 'a'\n",
    "b = 'b'\n",
    "\n",
    "# check `a` in name\n",
    "rv = a in name\n",
    "print(rv)\n",
    "\n",
    "# check `b` in name\n",
    "rv = b in name\n",
    "print(rv)"
   ]
  },
  {
   "cell_type": "code",
   "execution_count": 10,
   "id": "8d01384c",
   "metadata": {},
   "outputs": [
    {
     "name": "stdout",
     "output_type": "stream",
     "text": [
      "Not Exist\n"
     ]
    }
   ],
   "source": [
    "list1 = [2,3,4,5,6,6,7,8]\n",
    "if 22 in list1:\n",
    "    print(\"Exist\")\n",
    "else:\n",
    "    print(\"Not Exist\")"
   ]
  },
  {
   "cell_type": "code",
   "execution_count": null,
   "id": "f5a9c338",
   "metadata": {},
   "outputs": [],
   "source": []
  },
  {
   "cell_type": "code",
   "execution_count": null,
   "id": "e816f8cf",
   "metadata": {},
   "outputs": [],
   "source": []
  },
  {
   "cell_type": "code",
   "execution_count": null,
   "id": "79bbbc23",
   "metadata": {},
   "outputs": [],
   "source": []
  },
  {
   "cell_type": "code",
   "execution_count": null,
   "id": "662fb8cc",
   "metadata": {},
   "outputs": [],
   "source": []
  },
  {
   "cell_type": "markdown",
   "id": "93fbe8d9",
   "metadata": {},
   "source": [
    "### viii. Operator Precedence in Python\n",
    "- The precedence of the operators is essential to find out since it enables us to know which operator should be evaluated first.\n",
    "\n",
    "<img align=\"center\" width=\"450\" height=\"580\"  src=\"images/python-operator-precedence.jpg\"> \n"
   ]
  },
  {
   "cell_type": "code",
   "execution_count": 11,
   "id": "b014dd84",
   "metadata": {},
   "outputs": [
    {
     "name": "stdout",
     "output_type": "stream",
     "text": [
      "11\n",
      "16\n"
     ]
    }
   ],
   "source": [
    "print(5 + 3 * 2)\n",
    "print((5 + 3) * 2)"
   ]
  },
  {
   "cell_type": "code",
   "execution_count": 12,
   "id": "b48bc933",
   "metadata": {},
   "outputs": [
    {
     "name": "stdout",
     "output_type": "stream",
     "text": [
      "512\n",
      "64\n"
     ]
    }
   ],
   "source": [
    "print(2 ** 3 ** 2)\n",
    "print((2 ** 3) ** 2)"
   ]
  },
  {
   "cell_type": "code",
   "execution_count": 13,
   "id": "a38196bc",
   "metadata": {},
   "outputs": [
    {
     "name": "stdout",
     "output_type": "stream",
     "text": [
      "20\n"
     ]
    }
   ],
   "source": [
    "num1, num2, num3 = 2, 3, 4\n",
    "print ((num1 + num2) * num3)"
   ]
  },
  {
   "cell_type": "code",
   "execution_count": 14,
   "id": "1fee1d6f",
   "metadata": {},
   "outputs": [
    {
     "name": "stdout",
     "output_type": "stream",
     "text": [
      "12\n"
     ]
    }
   ],
   "source": [
    "num1, num2, num3 = 2, 3, 4\n",
    "print (num1 ** num2 + num3)"
   ]
  },
  {
   "cell_type": "code",
   "execution_count": null,
   "id": "cf30ce33",
   "metadata": {},
   "outputs": [],
   "source": []
  },
  {
   "cell_type": "markdown",
   "id": "c6ad97b4",
   "metadata": {},
   "source": [
    "### Check your Concepts\n",
    "\n",
    "Try answering the following questions to test your understanding of the topics covered in this notebook:\n",
    "\n",
    "1. What the different arithmetic operations supported in Python?\n",
    "2. How do you perform arithmetic operations using Python?\n",
    "3. What is the difference between the `/` and the `//` operators?\n",
    "4. What is the difference between the `*` and the `**` operators?\n",
    "5. What do you mean by precedence of operators?\n",
    "5. What is the order of precedence for arithmetic operators in Python?\n",
    "6. How do you specify the order in which arithmetic operations are performed in an expression involving multiple operators?\n",
    "7. How do you solve a multi-step arithmetic word problem using Python?\n",
    "8. What are variables? Why are they useful?\n",
    "9. How do you create a variable in Python?\n",
    "10. What is the assignment operator in Python?\n",
    "11. What are the rules for naming a variable in Python?\n",
    "12. How do you view the value of a variable?\n",
    "13. How do you store the result of an arithmetic expression in a variable?\n",
    "14. What happens if you try to access a variable that has not been defined?\n",
    "15. How do you display messages in Python?\n",
    "16. What type of inputs can the print function accept?\n",
    "17. What are code comments? How are they useful?\n",
    "18. What are the different ways of creating comments in Python code?\n",
    "19. What are the different comparison operations supported in Python?\n",
    "20. What is the result of a comparison operation?\n",
    "21. What is the difference between `=` and `==` in Python?\n",
    "22. What are the logical operators supported in Python?\n",
    "23. What is the difference between the `and` and `or` operators?\n",
    "24. Can you use comparison and logical operators in the same expression?\n",
    "25. What is the purpose of using parentheses in arithmetic or logical expressions?\n"
   ]
  },
  {
   "cell_type": "code",
   "execution_count": null,
   "id": "b2bb3a69",
   "metadata": {},
   "outputs": [],
   "source": []
  },
  {
   "cell_type": "code",
   "execution_count": null,
   "id": "55d5997e",
   "metadata": {},
   "outputs": [],
   "source": []
  },
  {
   "cell_type": "code",
   "execution_count": null,
   "id": "df9e8e4b",
   "metadata": {},
   "outputs": [],
   "source": []
  },
  {
   "cell_type": "code",
   "execution_count": null,
   "id": "47661213",
   "metadata": {},
   "outputs": [],
   "source": []
  },
  {
   "cell_type": "code",
   "execution_count": null,
   "id": "17c29702",
   "metadata": {},
   "outputs": [],
   "source": []
  },
  {
   "cell_type": "markdown",
   "id": "9c808883",
   "metadata": {},
   "source": [
    "<h2 align=center style=\"color:red;\"> String Data Structure </h2>\n",
    "\n",
    "\n",
    "- What is Data  Structure?\n",
    "- String Data Structure\n",
    "- Defining Strings in the Python\n",
    "- Accessing characters  of  a  String (Indexing)\n",
    "- Strings  are  immutable(Reassigning String)\n",
    "- Strings  Slicing \n",
    "- String  Concatenation\n",
    "- Create large Strings\n",
    "- Operations on string Data structure\n",
    "- Strings method\n",
    "    - `lower()`, `upper()`, `strip()`, `startswith()`, `endswith()`, `split()`, `join()`, `find()`, `replace()`, `format()`, `len()`, `min()`, `max()`, `sorted()`, `title()/capitalize`, `swapcase()`, `count()`, `find()`, `index()`, `isalnum() / isalpha()`, `isdigit()`, \n",
    "- String  Deletion\n",
    "- String Membership test\n",
    "\n"
   ]
  },
  {
   "cell_type": "code",
   "execution_count": null,
   "id": "0e8786cb",
   "metadata": {},
   "outputs": [],
   "source": []
  },
  {
   "cell_type": "code",
   "execution_count": null,
   "id": "8dd1d91e",
   "metadata": {},
   "outputs": [],
   "source": []
  },
  {
   "cell_type": "markdown",
   "id": "4b40b037",
   "metadata": {},
   "source": [
    "### What is Data Structure?\n",
    "\n",
    "- Data structure is a particular way of storing and organizing data in a computer so that it can be used efficiently. A data structure is a special format for organizing and storing data .\n",
    "\n",
    "\n",
    "<img src=\"images/data_structure.gif\" height=400px width=400px>"
   ]
  },
  {
   "cell_type": "code",
   "execution_count": null,
   "id": "433462f2",
   "metadata": {},
   "outputs": [],
   "source": []
  },
  {
   "cell_type": "code",
   "execution_count": null,
   "id": "968d1cdc",
   "metadata": {},
   "outputs": [],
   "source": []
  },
  {
   "cell_type": "markdown",
   "id": "51dbe149",
   "metadata": {},
   "source": [
    "### String Data Structure\n",
    "\n",
    "\n",
    "- Python string is the collection of the characters surrounded by single quotes, double quotes, or triple quotes. The computer does not understand the characters; internally, it stores manipulated character as the combination of the 0's and 1's.\n",
    "- Each character is encoded in the ASCII or Unicode character. So we can say that Python strings are also called the collection of Unicode characters.\n",
    "- In Python, strings can be created by enclosing the character or the sequence of characters in the quotes. Python allows us to use single quotes, double quotes, or triple quotes to create the string.\n",
    "\n",
    "<img src=\"images/Ways-to-declare-a-string-In-Python-1024x576.png\" height=500px width=500px align ='left'>\n",
    "<img src=\"images/string-ds.gif\" height=400px width=400px right=\"right\">"
   ]
  },
  {
   "cell_type": "code",
   "execution_count": null,
   "id": "2bb9ef67",
   "metadata": {},
   "outputs": [],
   "source": []
  },
  {
   "cell_type": "code",
   "execution_count": 15,
   "id": "922ab84b",
   "metadata": {},
   "outputs": [
    {
     "name": "stdout",
     "output_type": "stream",
     "text": [
      "<class 'str'>\n"
     ]
    }
   ],
   "source": [
    "str1 = \"Ehtisham Sadiq 1262163 &&**(*@#$$%)\"\n",
    "print(type(str1))"
   ]
  },
  {
   "cell_type": "code",
   "execution_count": 16,
   "id": "91ac7ef5",
   "metadata": {},
   "outputs": [
    {
     "name": "stdout",
     "output_type": "stream",
     "text": [
      "<class 'str'>\n",
      "<class 'str'>\n",
      "<class 'str'>\n"
     ]
    }
   ],
   "source": [
    "str1 = \"Ehtisham\"\n",
    "str2 = 'Ehtisham'\n",
    "str3 = \"\"\"Ehtisham\"\"\"\n",
    "print(type(str1))\n",
    "print(type(str2))\n",
    "print(type(str3))\n"
   ]
  },
  {
   "cell_type": "code",
   "execution_count": 17,
   "id": "e5235407",
   "metadata": {},
   "outputs": [
    {
     "name": "stdout",
     "output_type": "stream",
     "text": [
      "<class 'str'>\n",
      "<class 'str'>\n",
      "<class 'str'>\n"
     ]
    }
   ],
   "source": [
    "str4 = 'A'\n",
    "str5 = \"B\"\n",
    "str6 = \"\"\"C\"\"\"\n",
    "print(type(str4))\n",
    "print(type(str5))\n",
    "print(type(str6))"
   ]
  },
  {
   "cell_type": "code",
   "execution_count": null,
   "id": "26d30699",
   "metadata": {},
   "outputs": [],
   "source": []
  },
  {
   "cell_type": "code",
   "execution_count": null,
   "id": "d20928ef",
   "metadata": {},
   "outputs": [],
   "source": []
  },
  {
   "cell_type": "markdown",
   "id": "88365eba",
   "metadata": {},
   "source": [
    "###  Defining/Creating of a string\n",
    "\n",
    "- A string is a collection of character(s) closed within single or double quotation marks. (There is no `char` data type in Python as in C/C++)\n",
    "- A string can also contain a single character or be entirely empty.\n",
    "- To make a single quote part of a string, define the string using double quotes and vice versa. You can also make use of escape sequence\n",
    "- Python also provides triple-quotes to represent the string, but it is generally used for multiline string or docstrings.\n",
    "\n",
    "\n",
    "\n"
   ]
  },
  {
   "cell_type": "code",
   "execution_count": 18,
   "id": "910656bd",
   "metadata": {},
   "outputs": [
    {
     "name": "stdout",
     "output_type": "stream",
     "text": [
      "Hello\n",
      "World\n",
      "\n",
      "A\n"
     ]
    }
   ],
   "source": [
    "string1 = 'Hello'\n",
    "print(string1)\n",
    "\n",
    "string2 = \"World\"\n",
    "print(string2)\n",
    "\n",
    "string3 = \"\"\n",
    "print(string3)\n",
    "\n",
    "string4 = \"A\"\n",
    "print(string4)"
   ]
  },
  {
   "cell_type": "code",
   "execution_count": 19,
   "id": "1d39cda8",
   "metadata": {},
   "outputs": [
    {
     "name": "stdout",
     "output_type": "stream",
     "text": [
      "Hello, This is\n",
      "            multi-line string\n",
      "Hello, This is\n",
      "            multi-line string\n"
     ]
    }
   ],
   "source": [
    "# triple quotes string can extend multiple lines\n",
    "\n",
    "string5 = \"\"\"Hello, This is\n",
    "            multi-line string\"\"\"\n",
    "print(string5)\n",
    "\n",
    "string5 = '''Hello, This is\n",
    "            multi-line string'''\n",
    "print(string5)"
   ]
  },
  {
   "cell_type": "code",
   "execution_count": 20,
   "id": "84352929",
   "metadata": {},
   "outputs": [
    {
     "name": "stdout",
     "output_type": "stream",
     "text": [
      "I'm student of software engineering!\n",
      "I\"m student\n",
      "i\"m a student\n",
      " To display the current time, we have used the getTime()\n",
      "method of Calendar class. The getTime() is an instance method of Calendar class,\n",
      "so we have called it after getting the instance of\n",
      "Calendar class by the getInstance() method \n"
     ]
    }
   ],
   "source": [
    "str6 = \"I'm student of software engineering!\"\n",
    "print(str6)\n",
    "str7 = 'I\"m student'\n",
    "print(str7)\n",
    "str8 = 'i\"m a student'\n",
    "print(str8)\n",
    "str8 = \"\"\" To display the current time, we have used the getTime()\n",
    "method of Calendar class. The getTime() is an instance method of Calendar class,\n",
    "so we have called it after getting the instance of\n",
    "Calendar class by the getInstance() method \"\"\"\n",
    "print(str8)"
   ]
  },
  {
   "cell_type": "code",
   "execution_count": 21,
   "id": "19809ebc",
   "metadata": {},
   "outputs": [
    {
     "ename": "SyntaxError",
     "evalue": "invalid syntax (2198476966.py, line 2)",
     "output_type": "error",
     "traceback": [
      "\u001b[0;36m  Cell \u001b[0;32mIn[21], line 2\u001b[0;36m\u001b[0m\n\u001b[0;31m    'I'm using single quotes, but will create an error'\u001b[0m\n\u001b[0m       ^\u001b[0m\n\u001b[0;31mSyntaxError\u001b[0m\u001b[0;31m:\u001b[0m invalid syntax\n"
     ]
    }
   ],
   "source": [
    "# Be careful with quotes!\n",
    "'I'm using single quotes, but will create an error'"
   ]
  },
  {
   "cell_type": "code",
   "execution_count": 22,
   "id": "a0171fff",
   "metadata": {},
   "outputs": [
    {
     "data": {
      "text/plain": [
       "\"I'm using single quotes, but will create an error\""
      ]
     },
     "execution_count": 22,
     "metadata": {},
     "output_type": "execute_result"
    }
   ],
   "source": [
    "# Be careful with quotes!\n",
    "\"I'm using single quotes, but will create an error\""
   ]
  },
  {
   "cell_type": "markdown",
   "id": "08dd3de4",
   "metadata": {},
   "source": [
    "The reason for the error above is because the single quote in I'm stopped the string. You can use combinations of double and single quotes to get the complete statement."
   ]
  },
  {
   "cell_type": "code",
   "execution_count": null,
   "id": "b8435535",
   "metadata": {},
   "outputs": [],
   "source": []
  },
  {
   "cell_type": "code",
   "execution_count": null,
   "id": "2c88ca36",
   "metadata": {},
   "outputs": [],
   "source": []
  },
  {
   "cell_type": "markdown",
   "id": "2ba5fc1d",
   "metadata": {},
   "source": [
    "### Accessing Characters of a String (Indexing)\n",
    "Like other languages, the indexing of the Python strings starts from 0. Since string is of type sequence, and any component within a sequence can be accessed by entrying an index within square brackets. So naturally this work for strings as well List.\n",
    "For example, The string \"HELLO\" is indexed as given in the below figure.\n",
    "![](images/2.png)\n",
    "\n",
    "\n",
    "As shown in Python, the slice operator [] is used to access the individual characters of the string. However, we can use the : (colon) operator in Python to access the substring from the given string. Consider the following example.\n",
    "### Syntax:    \n",
    "**str[start:end-1]**"
   ]
  },
  {
   "cell_type": "code",
   "execution_count": 23,
   "id": "68b06f90",
   "metadata": {},
   "outputs": [
    {
     "name": "stdout",
     "output_type": "stream",
     "text": [
      "5\n"
     ]
    }
   ],
   "source": [
    "string = \"HELLO\"  \n",
    "print(len(string)) "
   ]
  },
  {
   "cell_type": "code",
   "execution_count": 24,
   "id": "ca12b155",
   "metadata": {},
   "outputs": [
    {
     "name": "stdout",
     "output_type": "stream",
     "text": [
      "H\n",
      "E\n",
      "L\n",
      "L\n",
      "O\n"
     ]
    }
   ],
   "source": [
    "print(string[0])  \n",
    "print(string[1])  \n",
    "print(string[2])  \n",
    "print(string[3])  \n",
    "print(string[4]) "
   ]
  },
  {
   "cell_type": "code",
   "execution_count": 25,
   "id": "58e0a6ce",
   "metadata": {},
   "outputs": [
    {
     "ename": "IndexError",
     "evalue": "string index out of range",
     "output_type": "error",
     "traceback": [
      "\u001b[0;31m---------------------------------------------------------------------------\u001b[0m",
      "\u001b[0;31mIndexError\u001b[0m                                Traceback (most recent call last)",
      "Cell \u001b[0;32mIn[25], line 2\u001b[0m\n\u001b[1;32m      1\u001b[0m \u001b[38;5;66;03m# It returns the IndexError because 6th index doesn't exist  \u001b[39;00m\n\u001b[0;32m----> 2\u001b[0m \u001b[38;5;28mprint\u001b[39m(\u001b[43mstring\u001b[49m\u001b[43m[\u001b[49m\u001b[38;5;241;43m6\u001b[39;49m\u001b[43m]\u001b[49m)\n\u001b[1;32m      3\u001b[0m \u001b[38;5;66;03m# 1-4\u001b[39;00m\n",
      "\u001b[0;31mIndexError\u001b[0m: string index out of range"
     ]
    }
   ],
   "source": [
    "# It returns the IndexError because 6th index doesn't exist  \n",
    "print(string[6])\n",
    "# 1-4"
   ]
  },
  {
   "cell_type": "code",
   "execution_count": null,
   "id": "005bad56",
   "metadata": {},
   "outputs": [],
   "source": []
  },
  {
   "cell_type": "markdown",
   "id": "0421b358",
   "metadata": {},
   "source": [
    "![](images/3.png)\n",
    "Here, we must notice that the upper range given in the slice operator is always exclusive i.e., if str = 'HELLO' is given, then str[1:3] will always include str[1] = 'E', str[2] = 'L' and nothing else."
   ]
  },
  {
   "cell_type": "code",
   "execution_count": 26,
   "id": "cd1a8cab",
   "metadata": {},
   "outputs": [
    {
     "name": "stdout",
     "output_type": "stream",
     "text": [
      "9\n"
     ]
    }
   ],
   "source": [
    "string2 = \"Dua Sadiq\"  \n",
    "print(len(string2))\n",
    "\n"
   ]
  },
  {
   "cell_type": "code",
   "execution_count": 27,
   "id": "2ca650c5",
   "metadata": {},
   "outputs": [
    {
     "name": "stdout",
     "output_type": "stream",
     "text": [
      "Dua Sadiq\n",
      "ua S\n",
      "a \n",
      "Dua\n",
      "Sad\n"
     ]
    }
   ],
   "source": [
    "# Start Oth index to end  \n",
    "print(string2[0:])  \n",
    "\n",
    "# Starts 1th index to 4th index  \n",
    "print(string2[1:5])  \n",
    "\n",
    "# Starts 2nd index to 3rd index  \n",
    "print(string2[2:4])  \n",
    "\n",
    "# Starts 0th to 2nd index  \n",
    "print(string2[:3])  \n",
    "\n",
    "#Starts 4th to 6th index  \n",
    "print(string2[4:7])  "
   ]
  },
  {
   "cell_type": "code",
   "execution_count": null,
   "id": "2ace5473",
   "metadata": {},
   "outputs": [],
   "source": []
  },
  {
   "cell_type": "markdown",
   "id": "e3399499",
   "metadata": {},
   "source": [
    "We can do the negative slicing in the string; it starts from the rightmost character, which is indicated as -1. The second rightmost index indicates -2, and so on.\n",
    "![](images/4.png)"
   ]
  },
  {
   "cell_type": "code",
   "execution_count": null,
   "id": "71064782",
   "metadata": {},
   "outputs": [],
   "source": []
  },
  {
   "cell_type": "code",
   "execution_count": 30,
   "id": "d52ed075",
   "metadata": {},
   "outputs": [
    {
     "name": "stdout",
     "output_type": "stream",
     "text": [
      "9\n",
      "q\n",
      "d\n",
      "iq\n",
      "adi\n",
      "i Sad\n",
      "qidaS ilA\n"
     ]
    }
   ],
   "source": [
    "string3 = 'Ali Sadiq'  \n",
    "print(len(string3))\n",
    "print(string3[-1])  \n",
    "print(string3[-3])  \n",
    "print(string3[-2:])  \n",
    "print(string3[-4:-1])  \n",
    "print(string3[-7:-2])  \n",
    "\n",
    "# Reversing the given string  \n",
    "print(string3[::-1])  \n"
   ]
  },
  {
   "cell_type": "code",
   "execution_count": 31,
   "id": "11d3571a",
   "metadata": {},
   "outputs": [
    {
     "ename": "IndexError",
     "evalue": "string index out of range",
     "output_type": "error",
     "traceback": [
      "\u001b[0;31m---------------------------------------------------------------------------\u001b[0m",
      "\u001b[0;31mIndexError\u001b[0m                                Traceback (most recent call last)",
      "Cell \u001b[0;32mIn[31], line 1\u001b[0m\n\u001b[0;32m----> 1\u001b[0m \u001b[38;5;28mprint\u001b[39m(\u001b[43mstring3\u001b[49m\u001b[43m[\u001b[49m\u001b[38;5;241;43m-\u001b[39;49m\u001b[38;5;241;43m12\u001b[39;49m\u001b[43m]\u001b[49m)\n",
      "\u001b[0;31mIndexError\u001b[0m: string index out of range"
     ]
    }
   ],
   "source": [
    "print(string3[-12])\n"
   ]
  },
  {
   "cell_type": "code",
   "execution_count": null,
   "id": "d27758e5",
   "metadata": {},
   "outputs": [],
   "source": []
  },
  {
   "cell_type": "code",
   "execution_count": null,
   "id": "421150dd",
   "metadata": {},
   "outputs": [],
   "source": []
  },
  {
   "cell_type": "markdown",
   "id": "6bf4fe93",
   "metadata": {},
   "source": [
    "###  Strings are immutable/ Reassigning Strings\n",
    "Updating the content of the strings is as easy as assigning it to a new string. The string object doesn't support item assignment i.e., A string can only be replaced with new string since its content cannot be partially replaced. Strings are immutable in Python.\n",
    "\n",
    "<img src=\"images/datatypes1.png\" height=700px width=700px>"
   ]
  },
  {
   "cell_type": "code",
   "execution_count": 32,
   "id": "d3836844",
   "metadata": {},
   "outputs": [
    {
     "ename": "TypeError",
     "evalue": "'str' object does not support item assignment",
     "output_type": "error",
     "traceback": [
      "\u001b[0;31m---------------------------------------------------------------------------\u001b[0m",
      "\u001b[0;31mTypeError\u001b[0m                                 Traceback (most recent call last)",
      "Cell \u001b[0;32mIn[32], line 2\u001b[0m\n\u001b[1;32m      1\u001b[0m str1 \u001b[38;5;241m=\u001b[39m \u001b[38;5;124m\"\u001b[39m\u001b[38;5;124mAyesha Sadiq\u001b[39m\u001b[38;5;124m\"\u001b[39m\n\u001b[0;32m----> 2\u001b[0m \u001b[43mstr1\u001b[49m\u001b[43m[\u001b[49m\u001b[38;5;241;43m3\u001b[39;49m\u001b[43m]\u001b[49m \u001b[38;5;241m=\u001b[39m \u001b[38;5;124m\"\u001b[39m\u001b[38;5;124mM\u001b[39m\u001b[38;5;124m\"\u001b[39m\n\u001b[1;32m      3\u001b[0m \u001b[38;5;28mprint\u001b[39m(str1)\n",
      "\u001b[0;31mTypeError\u001b[0m: 'str' object does not support item assignment"
     ]
    }
   ],
   "source": [
    "str1 = \"Ayesha Sadiq\"\n",
    "str1[3] = \"M\"\n",
    "print(str1)"
   ]
  },
  {
   "cell_type": "code",
   "execution_count": 33,
   "id": "1f6969c5",
   "metadata": {},
   "outputs": [
    {
     "name": "stdout",
     "output_type": "stream",
     "text": [
      "140015947125936\n",
      "140016315772784\n"
     ]
    }
   ],
   "source": [
    "#assigning a new value is valid\n",
    "print(id(str1))\n",
    "str1 = 'python'\n",
    "\n",
    "print(id(str1))"
   ]
  },
  {
   "cell_type": "code",
   "execution_count": null,
   "id": "fbed4d4a",
   "metadata": {},
   "outputs": [],
   "source": []
  },
  {
   "cell_type": "code",
   "execution_count": null,
   "id": "cdf7b691",
   "metadata": {},
   "outputs": [],
   "source": []
  },
  {
   "cell_type": "markdown",
   "id": "ba204f7b",
   "metadata": {},
   "source": [
    "The object `Ayesha Sadiq` is now orphan, since there is no variable referring to it now and will be collected by Python garbage collector."
   ]
  },
  {
   "cell_type": "code",
   "execution_count": null,
   "id": "d0fb62f4",
   "metadata": {},
   "outputs": [],
   "source": []
  },
  {
   "cell_type": "code",
   "execution_count": null,
   "id": "289e87d8",
   "metadata": {},
   "outputs": [],
   "source": []
  },
  {
   "cell_type": "markdown",
   "id": "01a9a58c",
   "metadata": {},
   "source": [
    "###  String Slicing\n",
    "- Slicing is the process of obtaining a portion (substring) of a string by using its indices.\n",
    "- Given a string, we can use the following syntax to slice it and obtain a substring:\n",
    "```\n",
    "string[start:end]\n",
    "```\n",
    "- **start** is the index from where we want the substring to start. If start is not provided, slicing starts from the beginning.\n",
    "- **end** is the index where we want our substring to end (not inclusive in the substring). If end is not provided, slicing goes till the end of the string (includes the last character of the string).\n",
    "\n",
    "\n",
    "<img src=\"images/Python-String.png\" height=500px width=500px>"
   ]
  },
  {
   "cell_type": "code",
   "execution_count": null,
   "id": "24794f23",
   "metadata": {},
   "outputs": [],
   "source": [
    "# var[:] -> Full string return\n",
    "# var[0:]-> Full string return\n",
    "# var[:len(string)] -> Full string return \n",
    "# var[::-1] -> Full reverse string return"
   ]
  },
  {
   "cell_type": "code",
   "execution_count": 34,
   "id": "aed05d09",
   "metadata": {},
   "outputs": [
    {
     "name": "stdout",
     "output_type": "stream",
     "text": [
      "59\n"
     ]
    }
   ],
   "source": [
    "str1 = 'Introduction to data analyst and data science for beginners'\n",
    "print(len(str1))\n"
   ]
  },
  {
   "cell_type": "code",
   "execution_count": 35,
   "id": "76c3f4ce",
   "metadata": {},
   "outputs": [
    {
     "name": "stdout",
     "output_type": "stream",
     "text": [
      "Intr\n"
     ]
    }
   ],
   "source": [
    "print(str1[0:4]) # From the start till before the 4th index\n",
    "\n"
   ]
  },
  {
   "cell_type": "code",
   "execution_count": 36,
   "id": "01f70fa7",
   "metadata": {},
   "outputs": [
    {
     "name": "stdout",
     "output_type": "stream",
     "text": [
      "Intr\n"
     ]
    }
   ],
   "source": [
    "print(str1[:4]) # From the start till before the 4th index\n"
   ]
  },
  {
   "cell_type": "code",
   "execution_count": 37,
   "id": "6bfc24ad",
   "metadata": {},
   "outputs": [
    {
     "name": "stdout",
     "output_type": "stream",
     "text": [
      "n to \n"
     ]
    }
   ],
   "source": [
    "print(str1[11:16])\n",
    "\n"
   ]
  },
  {
   "cell_type": "code",
   "execution_count": 38,
   "id": "4ec3cac8",
   "metadata": {},
   "outputs": [
    {
     "name": "stdout",
     "output_type": "stream",
     "text": [
      "a analyst and data science for beginners\n",
      "duction to data analyst and data science for begin\n"
     ]
    }
   ],
   "source": [
    "print(str1[19:]) # From the 19th index till the end\n",
    "print(str1[5:-4])\n",
    "\n"
   ]
  },
  {
   "cell_type": "code",
   "execution_count": 39,
   "id": "01a9dc27",
   "metadata": {},
   "outputs": [
    {
     "name": "stdout",
     "output_type": "stream",
     "text": [
      "\n",
      "a analyst and data science for beginners\n"
     ]
    }
   ],
   "source": [
    "#if start is greater than end, it will return empty string\n",
    "print(str1[5:2])\n",
    "\n",
    "print(str1[19:len(str1)]) # From the 19th index till the end\n"
   ]
  },
  {
   "cell_type": "code",
   "execution_count": null,
   "id": "b15866e5",
   "metadata": {},
   "outputs": [],
   "source": []
  },
  {
   "cell_type": "code",
   "execution_count": null,
   "id": "346f0858",
   "metadata": {},
   "outputs": [],
   "source": []
  },
  {
   "cell_type": "code",
   "execution_count": null,
   "id": "bfd44527",
   "metadata": {},
   "outputs": [],
   "source": []
  },
  {
   "cell_type": "code",
   "execution_count": null,
   "id": "117bd303",
   "metadata": {},
   "outputs": [],
   "source": []
  },
  {
   "cell_type": "code",
   "execution_count": null,
   "id": "56189b56",
   "metadata": {},
   "outputs": [],
   "source": []
  },
  {
   "cell_type": "markdown",
   "id": "eca3f664",
   "metadata": {},
   "source": [
    "**Slicing with a Step**\n",
    "\n",
    "- In the above example, we’ve used slicing to obtain a contiguous piece of a string, i.e., all the characters from the starting index to before the ending index are retrieved.\n",
    "- However, we can define a step through which we can skip characters in the string. The default step is 1, so we iterate through the string one character at a time.\n",
    "- The step is defined after the end index:\n",
    "```\n",
    "string[start:end:step]\n",
    "```"
   ]
  },
  {
   "cell_type": "code",
   "execution_count": 2,
   "id": "c4f92743",
   "metadata": {},
   "outputs": [
    {
     "name": "stdout",
     "output_type": "stream",
     "text": [
      "40\n"
     ]
    }
   ],
   "source": [
    "str1 = 'Introductiontodatasciencewithusingpython'\n",
    "print(len(str1))\n"
   ]
  },
  {
   "cell_type": "code",
   "execution_count": 4,
   "id": "ebff1efc",
   "metadata": {},
   "outputs": [
    {
     "name": "stdout",
     "output_type": "stream",
     "text": [
      "Introductiontodatasciencewithusingpython\n"
     ]
    }
   ],
   "source": [
    "print(str1[::])  # A default step of 1\n"
   ]
  },
  {
   "cell_type": "code",
   "execution_count": 5,
   "id": "ef832793",
   "metadata": {},
   "outputs": [
    {
     "name": "stdout",
     "output_type": "stream",
     "text": [
      "Introductiontodatasciencewithusingpython\n"
     ]
    }
   ],
   "source": [
    "print(str1[::1])  # A step of 1\n"
   ]
  },
  {
   "cell_type": "code",
   "execution_count": 6,
   "id": "89d72a1d",
   "metadata": {},
   "outputs": [
    {
     "name": "stdout",
     "output_type": "stream",
     "text": [
      "nohtypgnisuhtiwecneicsatadotnoitcudortnI\n"
     ]
    }
   ],
   "source": [
    "print(str1[::-1])  # A step of "
   ]
  },
  {
   "cell_type": "code",
   "execution_count": 7,
   "id": "61c0e1ec",
   "metadata": {},
   "outputs": [
    {
     "name": "stdout",
     "output_type": "stream",
     "text": [
      "Introductiontodatasciencewithusingpython\n",
      "Itoutotdtsineihsnpto\n"
     ]
    }
   ],
   "source": [
    "print(str1)\n",
    "print(str1[::2])  # A step of 2"
   ]
  },
  {
   "cell_type": "code",
   "execution_count": null,
   "id": "8a1448b1",
   "metadata": {},
   "outputs": [],
   "source": []
  },
  {
   "cell_type": "markdown",
   "id": "bd81eb79",
   "metadata": {},
   "source": [
    "**Reverse Slicing**\n",
    "\n",
    "- Strings can also be sliced to return a reversed substring. \n",
    "- For reverse slicing we need to give a negative step\n",
    "- For reverse slicing the `start` index must be greater than the `end` index, otherwise an empty string will be returned"
   ]
  },
  {
   "cell_type": "code",
   "execution_count": 8,
   "id": "d959983e",
   "metadata": {},
   "outputs": [
    {
     "name": "stdout",
     "output_type": "stream",
     "text": [
      "9876543210\n"
     ]
    }
   ],
   "source": [
    "str1 = '0123456789'\n",
    "print(str1[::-1]) \n"
   ]
  },
  {
   "cell_type": "code",
   "execution_count": 9,
   "id": "b87f8ebb",
   "metadata": {},
   "outputs": [
    {
     "name": "stdout",
     "output_type": "stream",
     "text": [
      "5432\n"
     ]
    }
   ],
   "source": [
    "print(str1[5:1:-1]) \n"
   ]
  },
  {
   "cell_type": "code",
   "execution_count": 14,
   "id": "eb688e85",
   "metadata": {},
   "outputs": [
    {
     "name": "stdout",
     "output_type": "stream",
     "text": [
      "\n"
     ]
    }
   ],
   "source": [
    "print(str1[2:10:-1])"
   ]
  },
  {
   "cell_type": "code",
   "execution_count": 12,
   "id": "dcf3c86e",
   "metadata": {},
   "outputs": [
    {
     "name": "stdout",
     "output_type": "stream",
     "text": [
      "97531\n"
     ]
    }
   ],
   "source": [
    "print(str1[::-2]) "
   ]
  },
  {
   "cell_type": "code",
   "execution_count": null,
   "id": "567d5d2f",
   "metadata": {},
   "outputs": [],
   "source": []
  },
  {
   "cell_type": "markdown",
   "id": "3b6ead99",
   "metadata": {},
   "source": [
    "### String Concatenation\n",
    "- Two strings can be joined or concatenated using the `+` operator"
   ]
  },
  {
   "cell_type": "code",
   "execution_count": 15,
   "id": "757f673e",
   "metadata": {},
   "outputs": [],
   "source": [
    "str1 = 'Hello'\n",
    "str2 =' World!'\n",
    "str3 = str1 + str2\n"
   ]
  },
  {
   "cell_type": "code",
   "execution_count": 19,
   "id": "19cda0d5",
   "metadata": {},
   "outputs": [
    {
     "name": "stdout",
     "output_type": "stream",
     "text": [
      "str1 + str2 =  Hello World!\n"
     ]
    }
   ],
   "source": [
    "print('str1 + str2 = ', str3)"
   ]
  },
  {
   "cell_type": "code",
   "execution_count": null,
   "id": "eb2a9f5f",
   "metadata": {},
   "outputs": [],
   "source": []
  },
  {
   "cell_type": "code",
   "execution_count": null,
   "id": "467294ac",
   "metadata": {},
   "outputs": [],
   "source": []
  },
  {
   "cell_type": "code",
   "execution_count": 20,
   "id": "d14d55c6",
   "metadata": {},
   "outputs": [
    {
     "name": "stdout",
     "output_type": "stream",
     "text": [
      "Yello World!\n"
     ]
    }
   ],
   "source": [
    "print(\"Y\" + str3[1:])"
   ]
  },
  {
   "cell_type": "code",
   "execution_count": null,
   "id": "21e33b79",
   "metadata": {},
   "outputs": [],
   "source": []
  },
  {
   "cell_type": "code",
   "execution_count": null,
   "id": "d2d033a6",
   "metadata": {},
   "outputs": [],
   "source": []
  },
  {
   "cell_type": "markdown",
   "id": "8130bee4",
   "metadata": {},
   "source": [
    "### Creating large strings\n",
    "- A string can be replicated/repeated using the `*` operator"
   ]
  },
  {
   "cell_type": "code",
   "execution_count": 21,
   "id": "8268f39e",
   "metadata": {},
   "outputs": [
    {
     "name": "stdout",
     "output_type": "stream",
     "text": [
      "str1 * 5 = HelloHelloHelloHelloHello\n"
     ]
    }
   ],
   "source": [
    "str1 = 'Hello'\n",
    "print('str1 * 5 =', str1 * 5)\n"
   ]
  },
  {
   "cell_type": "code",
   "execution_count": 26,
   "id": "81f02d74",
   "metadata": {},
   "outputs": [
    {
     "name": "stdout",
     "output_type": "stream",
     "text": [
      "EhtishamEhtishamEhtishamEhtishamEhtishamEhtishamEhtishamEhtishamEhtishamEhtisham\n"
     ]
    }
   ],
   "source": [
    "str2 = \"Ehtisham\"\n",
    "print(str2*10)\n"
   ]
  },
  {
   "cell_type": "code",
   "execution_count": 23,
   "id": "7c4cbccb",
   "metadata": {},
   "outputs": [
    {
     "name": "stdout",
     "output_type": "stream",
     "text": [
      "AAAAAAAAAAAAAAAAAAAAAAAAAAAAAAAAAAAAAAAAAAAAAAAAAAAAAAAAAAAAAAAAAAAAAAAAAAAAAAAAAAAAAAAAAAAAAAAAAAAA\n"
     ]
    }
   ],
   "source": [
    "buffer = 'A' * 100\n",
    "print(buffer)"
   ]
  },
  {
   "cell_type": "code",
   "execution_count": null,
   "id": "b2fdfbba",
   "metadata": {},
   "outputs": [],
   "source": []
  },
  {
   "cell_type": "code",
   "execution_count": null,
   "id": "6be3831e",
   "metadata": {},
   "outputs": [],
   "source": []
  },
  {
   "cell_type": "code",
   "execution_count": null,
   "id": "ad0b3650",
   "metadata": {},
   "outputs": [],
   "source": []
  },
  {
   "cell_type": "code",
   "execution_count": null,
   "id": "88ced5f3",
   "metadata": {},
   "outputs": [],
   "source": []
  },
  {
   "cell_type": "markdown",
   "id": "b4875c98",
   "metadata": {},
   "source": [
    "###  Operations on String Data Structure \n",
    "\n",
    "\n",
    "|Operator|Description|\n",
    "|--------|-----------|\n",
    "|+|It is known as concatenation operator used to join the strings given either side of the operator. |\n",
    "|*|It is known as repetition operator. It concatenates the multiple copies of the same string. |\n",
    "|[]|It is known as slice operator. It is used to access the sub-strings of a particular string. |\n",
    "|[:]|It is known as range slice operator. It is used to access the characters from the specified range. |\n",
    "|in|It is known as membership operator. It returns if a particular sub-string is present in the specified string. |\n",
    "|not in |It is also a membership operator and does the exact reverse of in. It returns true if a particular substring is not present in the specified string. |\n"
   ]
  },
  {
   "cell_type": "code",
   "execution_count": null,
   "id": "9b8248d8",
   "metadata": {},
   "outputs": [],
   "source": []
  },
  {
   "cell_type": "code",
   "execution_count": null,
   "id": "777239ae",
   "metadata": {},
   "outputs": [],
   "source": []
  },
  {
   "cell_type": "markdown",
   "id": "c349e4ca",
   "metadata": {},
   "source": [
    "### String Membership test using `in` operator"
   ]
  },
  {
   "cell_type": "code",
   "execution_count": 27,
   "id": "8ff66112",
   "metadata": {},
   "outputs": [
    {
     "data": {
      "text/plain": [
       "True"
      ]
     },
     "execution_count": 27,
     "metadata": {},
     "output_type": "execute_result"
    }
   ],
   "source": [
    "'a' in 'DataScience'"
   ]
  },
  {
   "cell_type": "code",
   "execution_count": 28,
   "id": "1c01d585",
   "metadata": {},
   "outputs": [
    {
     "data": {
      "text/plain": [
       "True"
      ]
     },
     "execution_count": 28,
     "metadata": {},
     "output_type": "execute_result"
    }
   ],
   "source": [
    "'thf' not in 'python'"
   ]
  },
  {
   "cell_type": "code",
   "execution_count": 29,
   "id": "f7a90f5c",
   "metadata": {},
   "outputs": [
    {
     "data": {
      "text/plain": [
       "False"
      ]
     },
     "execution_count": 29,
     "metadata": {},
     "output_type": "execute_result"
    }
   ],
   "source": [
    "'aa' in 'DataScience'"
   ]
  },
  {
   "cell_type": "code",
   "execution_count": null,
   "id": "4b385dfc",
   "metadata": {},
   "outputs": [],
   "source": []
  },
  {
   "cell_type": "code",
   "execution_count": null,
   "id": "5cd95754",
   "metadata": {},
   "outputs": [],
   "source": []
  },
  {
   "cell_type": "markdown",
   "id": "29b9af69",
   "metadata": {},
   "source": [
    "### String Deletion\n",
    "As we know that strings are immutable. We cannot delete or remove the characters from the string.  But we can delete the entire string using the `del` keyword."
   ]
  },
  {
   "cell_type": "code",
   "execution_count": 30,
   "id": "a0a9f1cf",
   "metadata": {},
   "outputs": [
    {
     "name": "stdout",
     "output_type": "stream",
     "text": [
      "Data\n"
     ]
    }
   ],
   "source": [
    "string5 = \"Data\"\n",
    "print(string5)"
   ]
  },
  {
   "cell_type": "code",
   "execution_count": 31,
   "id": "9411ed10",
   "metadata": {},
   "outputs": [],
   "source": [
    "del string5\n"
   ]
  },
  {
   "cell_type": "code",
   "execution_count": 32,
   "id": "ba3c4d59",
   "metadata": {},
   "outputs": [
    {
     "ename": "NameError",
     "evalue": "name 'string5' is not defined",
     "output_type": "error",
     "traceback": [
      "\u001b[0;31m---------------------------------------------------------------------------\u001b[0m",
      "\u001b[0;31mNameError\u001b[0m                                 Traceback (most recent call last)",
      "Cell \u001b[0;32mIn[32], line 1\u001b[0m\n\u001b[0;32m----> 1\u001b[0m \u001b[38;5;28mprint\u001b[39m(\u001b[43mstring5\u001b[49m)\n",
      "\u001b[0;31mNameError\u001b[0m: name 'string5' is not defined"
     ]
    }
   ],
   "source": [
    "print(string5)"
   ]
  },
  {
   "cell_type": "code",
   "execution_count": null,
   "id": "350909fc",
   "metadata": {},
   "outputs": [],
   "source": []
  },
  {
   "cell_type": "code",
   "execution_count": null,
   "id": "0649498b",
   "metadata": {},
   "outputs": [],
   "source": []
  },
  {
   "cell_type": "code",
   "execution_count": null,
   "id": "59372abd",
   "metadata": {},
   "outputs": [],
   "source": []
  },
  {
   "cell_type": "markdown",
   "id": "089f3e84",
   "metadata": {},
   "source": [
    "###  Comparing two strings using `is` operator and `==` operator"
   ]
  },
  {
   "cell_type": "code",
   "execution_count": 33,
   "id": "a8e81dae",
   "metadata": {},
   "outputs": [
    {
     "name": "stdout",
     "output_type": "stream",
     "text": [
      "9793376 9793376\n"
     ]
    }
   ],
   "source": [
    "x = 10\n",
    "y = 10\n",
    "print(id(x), id(y))"
   ]
  },
  {
   "cell_type": "code",
   "execution_count": 34,
   "id": "849a2916",
   "metadata": {},
   "outputs": [
    {
     "data": {
      "text/plain": [
       "True"
      ]
     },
     "execution_count": 34,
     "metadata": {},
     "output_type": "execute_result"
    }
   ],
   "source": [
    "x == y"
   ]
  },
  {
   "cell_type": "code",
   "execution_count": 35,
   "id": "d86ab78d",
   "metadata": {},
   "outputs": [
    {
     "data": {
      "text/plain": [
       "True"
      ]
     },
     "execution_count": 35,
     "metadata": {},
     "output_type": "execute_result"
    }
   ],
   "source": [
    "x is y"
   ]
  },
  {
   "cell_type": "code",
   "execution_count": null,
   "id": "0574dcfd",
   "metadata": {},
   "outputs": [],
   "source": []
  },
  {
   "cell_type": "code",
   "execution_count": null,
   "id": "c80fe35b",
   "metadata": {},
   "outputs": [],
   "source": []
  },
  {
   "cell_type": "code",
   "execution_count": 36,
   "id": "86f6ec7f",
   "metadata": {},
   "outputs": [
    {
     "name": "stdout",
     "output_type": "stream",
     "text": [
      "9793728\n",
      "9793696\n"
     ]
    }
   ],
   "source": [
    "a = 21\n",
    "b = 20\n",
    "print(id(a))\n",
    "print(id(b))"
   ]
  },
  {
   "cell_type": "code",
   "execution_count": 37,
   "id": "d1513871",
   "metadata": {},
   "outputs": [
    {
     "data": {
      "text/plain": [
       "False"
      ]
     },
     "execution_count": 37,
     "metadata": {},
     "output_type": "execute_result"
    }
   ],
   "source": [
    "a == b"
   ]
  },
  {
   "cell_type": "code",
   "execution_count": 38,
   "id": "27111cb9",
   "metadata": {},
   "outputs": [
    {
     "data": {
      "text/plain": [
       "False"
      ]
     },
     "execution_count": 38,
     "metadata": {},
     "output_type": "execute_result"
    }
   ],
   "source": [
    "a is b"
   ]
  },
  {
   "cell_type": "code",
   "execution_count": null,
   "id": "127ab0a0",
   "metadata": {},
   "outputs": [],
   "source": []
  },
  {
   "cell_type": "code",
   "execution_count": 39,
   "id": "aee8cdcf",
   "metadata": {},
   "outputs": [
    {
     "name": "stdout",
     "output_type": "stream",
     "text": [
      "140698320454960 140698320454960\n"
     ]
    }
   ],
   "source": [
    "# Let us check out the IDs of the following two variables. Like numbers type of variable, \n",
    "# they are same as both a and b refers to the same memory location containing same string 'hello'\n",
    "a = 'hello'\n",
    "b = 'hello'\n",
    "print(id(a), id(b))"
   ]
  },
  {
   "cell_type": "code",
   "execution_count": 41,
   "id": "34d6d57f",
   "metadata": {},
   "outputs": [
    {
     "name": "stdout",
     "output_type": "stream",
     "text": [
      "True\n",
      "True\n"
     ]
    }
   ],
   "source": [
    "# in case of strings, both a and b refers to the same memory location containing string 'hello'\n",
    "a = 'hello'\n",
    "b = 'hello'\n",
    "\n",
    "# The `is` operator returns True if the memory addresses of two strings / variables are same\n",
    "print (a is b) \n",
    "# The `==` operator checks the contents of two strings\n",
    "print (a == b) \n",
    "\n",
    "\n"
   ]
  },
  {
   "cell_type": "code",
   "execution_count": 43,
   "id": "3399f309",
   "metadata": {},
   "outputs": [
    {
     "name": "stdout",
     "output_type": "stream",
     "text": [
      "False\n",
      "False\n"
     ]
    }
   ],
   "source": [
    "print(a is not b)\n",
    "print (a != b)"
   ]
  },
  {
   "cell_type": "code",
   "execution_count": null,
   "id": "877c6e02",
   "metadata": {},
   "outputs": [],
   "source": []
  },
  {
   "cell_type": "code",
   "execution_count": 44,
   "id": "42f92ad3",
   "metadata": {},
   "outputs": [
    {
     "name": "stdout",
     "output_type": "stream",
     "text": [
      "False\n",
      "False\n",
      "True\n",
      "True\n"
     ]
    }
   ],
   "source": [
    "# both x and y refers to two different memory locations containing string 'hello'\n",
    "x = 'hello'\n",
    "y = 'bye'\n",
    "\n",
    "# The `is` operator checks the memory address of two strings \n",
    "print (x is y) \n",
    "# The `==` operator checks the contents of two strings\n",
    "print (x == y) \n",
    "\n",
    "\n",
    "print(x is not y)\n",
    "print (x != y)"
   ]
  },
  {
   "cell_type": "code",
   "execution_count": null,
   "id": "718f7e64",
   "metadata": {},
   "outputs": [],
   "source": []
  },
  {
   "cell_type": "code",
   "execution_count": null,
   "id": "a5a3150e",
   "metadata": {},
   "outputs": [],
   "source": []
  },
  {
   "cell_type": "markdown",
   "id": "894effa2",
   "metadata": {},
   "source": [
    "###  String Methods\n",
    "\n",
    "- Now the most important part of a string is string functions which you used everywhere whenever you built any project. Now we will study all-important string functions which are frequently used.\n",
    "- These are functions that you get on all other iterator data types like list, tuple, set, and also available in string."
   ]
  },
  {
   "cell_type": "markdown",
   "id": "215a45da",
   "metadata": {},
   "source": [
    "####  The `len()`, `str.lower()`, `str.upper()` and `str.capitalize()` methods\n",
    "- The `len()` is a built-in function that returns the number of items of a container data type passed as argument. We can check the length of any data types that are collections with built-in `len()` function.\n",
    "It is considered a built-in function.\n",
    "- The `str.lower()` method return a copy of the string converted to lowercase.\n",
    "- The `str.upper()` method return a copy of the string converted to uppercase.\n",
    "- The `str.capitalize()` method return a capitalized version of the string."
   ]
  },
  {
   "cell_type": "code",
   "execution_count": null,
   "id": "eca0bc59",
   "metadata": {},
   "outputs": [],
   "source": []
  },
  {
   "cell_type": "code",
   "execution_count": 47,
   "id": "ce0443f1",
   "metadata": {},
   "outputs": [
    {
     "name": "stdout",
     "output_type": "stream",
     "text": [
      "Help on built-in function len in module builtins:\n",
      "\n",
      "len(obj, /)\n",
      "    Return the number of items in a container.\n",
      "\n"
     ]
    }
   ],
   "source": [
    "help(len)"
   ]
  },
  {
   "cell_type": "code",
   "execution_count": 49,
   "id": "61565aa6",
   "metadata": {},
   "outputs": [],
   "source": [
    "str1 = \"Hello World\""
   ]
  },
  {
   "cell_type": "code",
   "execution_count": 50,
   "id": "d4733ed9",
   "metadata": {},
   "outputs": [
    {
     "name": "stdout",
     "output_type": "stream",
     "text": [
      "HELLO WORLD\n"
     ]
    }
   ],
   "source": [
    "print(str1.upper())\n"
   ]
  },
  {
   "cell_type": "code",
   "execution_count": 51,
   "id": "296f401c",
   "metadata": {},
   "outputs": [
    {
     "name": "stdout",
     "output_type": "stream",
     "text": [
      "<class 'str'>\n"
     ]
    }
   ],
   "source": [
    "print(type(str1))"
   ]
  },
  {
   "cell_type": "code",
   "execution_count": 52,
   "id": "50cf2d7f",
   "metadata": {},
   "outputs": [
    {
     "data": {
      "text/plain": [
       "'Hello World'"
      ]
     },
     "execution_count": 52,
     "metadata": {},
     "output_type": "execute_result"
    }
   ],
   "source": [
    "str1"
   ]
  },
  {
   "cell_type": "code",
   "execution_count": 55,
   "id": "7b024b17",
   "metadata": {},
   "outputs": [
    {
     "name": "stdout",
     "output_type": "stream",
     "text": [
      "11 5\n"
     ]
    }
   ],
   "source": [
    "str1= \"Hello World\"\n",
    "\n",
    "mylist = [1,2,3,4,5]\n",
    "\n",
    "\n",
    "print(len(str1),len(mylist))"
   ]
  },
  {
   "cell_type": "code",
   "execution_count": null,
   "id": "bf39cc32",
   "metadata": {},
   "outputs": [],
   "source": []
  },
  {
   "cell_type": "code",
   "execution_count": null,
   "id": "b820b2c6",
   "metadata": {},
   "outputs": [],
   "source": []
  },
  {
   "cell_type": "markdown",
   "id": "bd92a8bd",
   "metadata": {},
   "source": [
    "### Hints\n",
    "- To know what all methods the object of string class support. Just type the name of the object, place a dot and then press <tab> to view the list of its attributes and methods it support. \n",
    "`str.<tab>`\n",
    "- Similarly to get help about a method, after the method name press <shift+tab>, to get information about what the method do, what parameters it take, its return value\n",
    "`str.lower<shift+tab>`"
   ]
  },
  {
   "cell_type": "code",
   "execution_count": null,
   "id": "88d342bf",
   "metadata": {},
   "outputs": [],
   "source": []
  },
  {
   "cell_type": "code",
   "execution_count": null,
   "id": "692ab2c4",
   "metadata": {},
   "outputs": [],
   "source": [
    "string6 = \"Data Science\"\n",
    "string6."
   ]
  },
  {
   "cell_type": "code",
   "execution_count": 56,
   "id": "3ed4698e",
   "metadata": {},
   "outputs": [
    {
     "name": "stdout",
     "output_type": "stream",
     "text": [
      "Orignial string =  introduction to Data science using python\n",
      "len(string7) =  41\n"
     ]
    }
   ],
   "source": [
    "string7 = \"introduction to Data science using python\"\n",
    "print('Orignial string = ', string7)\n",
    "\n",
    "rv = len(string7)\n",
    "print('len(string7) = ', rv)\n"
   ]
  },
  {
   "cell_type": "code",
   "execution_count": null,
   "id": "ca52c722",
   "metadata": {},
   "outputs": [],
   "source": []
  },
  {
   "cell_type": "code",
   "execution_count": null,
   "id": "2ba5d990",
   "metadata": {},
   "outputs": [],
   "source": []
  },
  {
   "cell_type": "code",
   "execution_count": 57,
   "id": "47346199",
   "metadata": {},
   "outputs": [
    {
     "name": "stdout",
     "output_type": "stream",
     "text": [
      "string7.lower() =  introduction to data science using python\n",
      "string7.upper() =  INTRODUCTION TO DATA SCIENCE USING PYTHON\n"
     ]
    }
   ],
   "source": [
    "rv1 = string7.lower()\n",
    "print('string7.lower() = ', rv1)\n",
    "      \n",
    "print('string7.upper() = ', string7.upper())\n"
   ]
  },
  {
   "cell_type": "code",
   "execution_count": null,
   "id": "463d7d09",
   "metadata": {},
   "outputs": [],
   "source": []
  },
  {
   "cell_type": "code",
   "execution_count": 58,
   "id": "4d6fffee",
   "metadata": {},
   "outputs": [
    {
     "data": {
      "text/plain": [
       "'introduction to Data science using python'"
      ]
     },
     "execution_count": 58,
     "metadata": {},
     "output_type": "execute_result"
    }
   ],
   "source": [
    "string7"
   ]
  },
  {
   "cell_type": "code",
   "execution_count": 59,
   "id": "2e0773f7",
   "metadata": {},
   "outputs": [
    {
     "name": "stdout",
     "output_type": "stream",
     "text": [
      "string7.capitalize() =  Introduction to data science using python\n",
      "Orignial string =  introduction to Data science using python\n",
      "strinh7.title = Introduction To Data Science Using Python\n"
     ]
    }
   ],
   "source": [
    "rv2 = string7.capitalize()\n",
    "\n",
    "print('string7.capitalize() = ', rv2)\n",
    "print('Orignial string = ', string7)\n",
    "print(\"strinh7.title =\", string7.title())"
   ]
  },
  {
   "cell_type": "code",
   "execution_count": null,
   "id": "d43d24e9",
   "metadata": {},
   "outputs": [],
   "source": []
  },
  {
   "cell_type": "code",
   "execution_count": null,
   "id": "856fc5dc",
   "metadata": {},
   "outputs": [],
   "source": []
  },
  {
   "cell_type": "code",
   "execution_count": null,
   "id": "6f24b071",
   "metadata": {},
   "outputs": [],
   "source": []
  },
  {
   "cell_type": "markdown",
   "id": "ab632c02",
   "metadata": {},
   "source": [
    "###  The `str.strip()` method\n",
    "- The `str.strip()` method removes whitespace characters from the beginning and end of a string.\n",
    "- The `str.lstrip()` method removes whitespace characters from the beginning of a string.\n",
    "- The `str.rstrip()` method removes whitespace characters from the end of a string.\n"
   ]
  },
  {
   "cell_type": "code",
   "execution_count": 60,
   "id": "53137a08",
   "metadata": {},
   "outputs": [
    {
     "name": "stdout",
     "output_type": "stream",
     "text": [
      "    hello world, this is       Ehtisham Sadiq      \n",
      "hello world, this is       Ehtisham Sadiq\n"
     ]
    }
   ],
   "source": [
    "buffer =\"    hello world, this is       Ehtisham Sadiq      \"\n",
    "rv = buffer.strip()\n",
    "print(buffer)\n",
    "print(rv)"
   ]
  },
  {
   "cell_type": "code",
   "execution_count": null,
   "id": "4006723f",
   "metadata": {},
   "outputs": [],
   "source": []
  },
  {
   "cell_type": "code",
   "execution_count": 61,
   "id": "3566767c",
   "metadata": {},
   "outputs": [
    {
     "name": "stdout",
     "output_type": "stream",
     "text": [
      "    hello world, this is       Ehtisham Sadiq      \n",
      "hello world, this is       Ehtisham Sadiq      \n",
      "    hello world, this is       Ehtisham Sadiq\n"
     ]
    }
   ],
   "source": [
    "print(buffer)\n",
    "print(buffer.lstrip())\n",
    "print(buffer.rstrip())"
   ]
  },
  {
   "cell_type": "code",
   "execution_count": null,
   "id": "75529ec2",
   "metadata": {},
   "outputs": [],
   "source": []
  },
  {
   "cell_type": "code",
   "execution_count": null,
   "id": "8aef0ca2",
   "metadata": {},
   "outputs": [],
   "source": []
  },
  {
   "cell_type": "markdown",
   "id": "74517ca3",
   "metadata": {},
   "source": [
    "###  The `str.startswith()` method\n",
    "The `str.startswith()` method return True if str starts with the specified prefix, False otherwise.\n",
    "```\n",
    "str.startswith(prefix[, start[, end]])\n",
    "```"
   ]
  },
  {
   "cell_type": "code",
   "execution_count": 62,
   "id": "1bfdcf5d",
   "metadata": {},
   "outputs": [
    {
     "name": "stdout",
     "output_type": "stream",
     "text": [
      "True\n"
     ]
    }
   ],
   "source": [
    "string8 = \"Learning Practical Data Science with Ehtisham Sadiq\"\n",
    "\n",
    "rv3 = string8.startswith('Learning')\n",
    "print(rv3)\n",
    "\n"
   ]
  },
  {
   "cell_type": "code",
   "execution_count": 63,
   "id": "89ca63b7",
   "metadata": {},
   "outputs": [
    {
     "name": "stdout",
     "output_type": "stream",
     "text": [
      "False\n"
     ]
    }
   ],
   "source": [
    "rv4 = string8.startswith('Ali')\n",
    "print(rv4)\n"
   ]
  },
  {
   "cell_type": "code",
   "execution_count": null,
   "id": "10a22d9a",
   "metadata": {},
   "outputs": [],
   "source": []
  },
  {
   "cell_type": "code",
   "execution_count": 64,
   "id": "140d7136",
   "metadata": {},
   "outputs": [
    {
     "name": "stdout",
     "output_type": "stream",
     "text": [
      "False\n"
     ]
    }
   ],
   "source": [
    "rv5 = string8.startswith('Ehtisham', 21)\n",
    "print(rv5)\n",
    "\n"
   ]
  },
  {
   "cell_type": "code",
   "execution_count": 65,
   "id": "bd8a45a5",
   "metadata": {},
   "outputs": [
    {
     "name": "stdout",
     "output_type": "stream",
     "text": [
      "False\n"
     ]
    }
   ],
   "source": [
    "# # case sensitive\n",
    "rv6 = string8.startswith('ali', 21)\n",
    "print(rv6)\n"
   ]
  },
  {
   "cell_type": "code",
   "execution_count": 66,
   "id": "0727c14a",
   "metadata": {},
   "outputs": [
    {
     "name": "stdout",
     "output_type": "stream",
     "text": [
      "False\n"
     ]
    }
   ],
   "source": [
    "\n",
    "rv6 = string8.startswith('in', 2, 11)  # character at ending index is not included\n",
    "print(rv6)"
   ]
  },
  {
   "cell_type": "code",
   "execution_count": null,
   "id": "13a285e9",
   "metadata": {},
   "outputs": [],
   "source": []
  },
  {
   "cell_type": "code",
   "execution_count": null,
   "id": "c8efd9d6",
   "metadata": {},
   "outputs": [],
   "source": []
  },
  {
   "cell_type": "markdown",
   "id": "969bb07f",
   "metadata": {},
   "source": [
    "### The `str.endsswith()` method\n",
    "The `str.startswith()` method return True if str ends with the specified prefix, False otherwise."
   ]
  },
  {
   "cell_type": "code",
   "execution_count": null,
   "id": "4f02226a",
   "metadata": {},
   "outputs": [],
   "source": []
  },
  {
   "cell_type": "code",
   "execution_count": 67,
   "id": "8ae091e0",
   "metadata": {},
   "outputs": [
    {
     "name": "stdout",
     "output_type": "stream",
     "text": [
      "False\n",
      "True\n"
     ]
    }
   ],
   "source": [
    "s = \"ali\"\n",
    "print(s.endswith(\"f\"))\n",
    "print(s.endswith(\"i\"))"
   ]
  },
  {
   "cell_type": "code",
   "execution_count": null,
   "id": "82442d5b",
   "metadata": {},
   "outputs": [],
   "source": []
  },
  {
   "cell_type": "markdown",
   "id": "89f523f3",
   "metadata": {},
   "source": [
    "### The `str.split()` and `str.join()` method\n",
    "- The `str.split()` method splits a string into a list of strings at every occurrence of space character by default. You may pass a parameter `sep='i'` to split method to split at that specific character instead.\n",
    "- The `sep.join(list)` method is passed a list/iterable as parameter and is called on a separater character. It joins the strings inside the list to a single string and returns"
   ]
  },
  {
   "cell_type": "code",
   "execution_count": 68,
   "id": "db327830",
   "metadata": {},
   "outputs": [
    {
     "name": "stdout",
     "output_type": "stream",
     "text": [
      "DS\n",
      "Help on built-in function split:\n",
      "\n",
      "split(sep=None, maxsplit=-1) method of builtins.str instance\n",
      "    Return a list of the words in the string, using sep as the delimiter string.\n",
      "    \n",
      "    sep\n",
      "      The delimiter according which to split the string.\n",
      "      None (the default value) means split according to any whitespace,\n",
      "      and discard empty strings from the result.\n",
      "    maxsplit\n",
      "      Maximum number of splits to do.\n",
      "      -1 (the default value) means no limit.\n",
      "\n"
     ]
    }
   ],
   "source": [
    "str1=\"DS\"\n",
    "print(str1)\n",
    "help(str1.split)"
   ]
  },
  {
   "cell_type": "code",
   "execution_count": null,
   "id": "341a11e3",
   "metadata": {},
   "outputs": [],
   "source": []
  },
  {
   "cell_type": "code",
   "execution_count": 69,
   "id": "bb9eee27",
   "metadata": {},
   "outputs": [
    {
     "name": "stdout",
     "output_type": "stream",
     "text": [
      "51\n",
      "['Learning', 'Practical', 'Data', 'Science', 'with', 'Ehtisham', 'Sadiq']\n"
     ]
    }
   ],
   "source": [
    "str1 =  \"Learning Practical Data Science with Ehtisham Sadiq\"\n",
    "print(len(str1))\n",
    "rv = str1.split()\n",
    "print(rv)\n"
   ]
  },
  {
   "cell_type": "code",
   "execution_count": null,
   "id": "080ff1dd",
   "metadata": {},
   "outputs": [],
   "source": []
  },
  {
   "cell_type": "code",
   "execution_count": 70,
   "id": "43afff7b",
   "metadata": {},
   "outputs": [
    {
     "name": "stdout",
     "output_type": "stream",
     "text": [
      "7\n",
      "<class 'list'>\n"
     ]
    }
   ],
   "source": [
    "print(len(rv))\n",
    "print(type(rv))"
   ]
  },
  {
   "cell_type": "code",
   "execution_count": null,
   "id": "12cc80f4",
   "metadata": {},
   "outputs": [],
   "source": []
  },
  {
   "cell_type": "code",
   "execution_count": 72,
   "id": "1e780023",
   "metadata": {},
   "outputs": [],
   "source": [
    "str1 =  \"Learning Practical Data Science with Ehtisham Sadiq\"\n",
    "rv = str1.split(sep='i')\n"
   ]
  },
  {
   "cell_type": "code",
   "execution_count": 73,
   "id": "cccde418",
   "metadata": {},
   "outputs": [
    {
     "name": "stdout",
     "output_type": "stream",
     "text": [
      "['Learn', 'ng Pract', 'cal Data Sc', 'ence w', 'th Eht', 'sham Sad', 'q']\n",
      "<class 'list'>\n"
     ]
    }
   ],
   "source": [
    "print(rv)\n",
    "print(type(rv))"
   ]
  },
  {
   "cell_type": "code",
   "execution_count": null,
   "id": "829ffffc",
   "metadata": {},
   "outputs": [],
   "source": []
  },
  {
   "cell_type": "code",
   "execution_count": 74,
   "id": "5fa6cf99",
   "metadata": {},
   "outputs": [
    {
     "name": "stdout",
     "output_type": "stream",
     "text": [
      "Help on built-in function join:\n",
      "\n",
      "join(iterable, /) method of builtins.str instance\n",
      "    Concatenate any number of strings.\n",
      "    \n",
      "    The string whose method is called is inserted in between each given string.\n",
      "    The result is returned as a new string.\n",
      "    \n",
      "    Example: '.'.join(['ab', 'pq', 'rs']) -> 'ab.pq.rs'\n",
      "\n"
     ]
    }
   ],
   "source": [
    "str1=\"DS\"\n",
    "help(str1.join)"
   ]
  },
  {
   "cell_type": "code",
   "execution_count": 75,
   "id": "0d96210e",
   "metadata": {},
   "outputs": [
    {
     "data": {
      "text/plain": [
       "['L', 'e', 'a', 'r', 'n', 'i', 'n', 'g']"
      ]
     },
     "execution_count": 75,
     "metadata": {},
     "output_type": "execute_result"
    }
   ],
   "source": [
    "mystr = \"L e a r n i n g\"\n",
    "mystr.split(\" \")"
   ]
  },
  {
   "cell_type": "code",
   "execution_count": null,
   "id": "84d1ba87",
   "metadata": {},
   "outputs": [],
   "source": []
  },
  {
   "cell_type": "code",
   "execution_count": 82,
   "id": "813241dd",
   "metadata": {},
   "outputs": [],
   "source": [
    "# The join() method takes all items in an iterable and joins them into one string.\n",
    "mylist = ['Learning', 'Practical', 'Data', 'Science', 'with', 'Ehtisham', 'Sadiq']\n",
    "\n",
    "#Note the separator is space character\n",
    "mystr = ' '.join(mylist)\n",
    "\n"
   ]
  },
  {
   "cell_type": "code",
   "execution_count": 83,
   "id": "d9ce324f",
   "metadata": {},
   "outputs": [
    {
     "name": "stdout",
     "output_type": "stream",
     "text": [
      "['Learning', 'Practical', 'Data', 'Science', 'with', 'Ehtisham', 'Sadiq'] <class 'list'>\n",
      "Learning Practical Data Science with Ehtisham Sadiq <class 'str'>\n"
     ]
    }
   ],
   "source": [
    "print(mylist, type(mylist))\n",
    "print(mystr, type(mystr))"
   ]
  },
  {
   "cell_type": "code",
   "execution_count": null,
   "id": "c2eedcb6",
   "metadata": {},
   "outputs": [],
   "source": []
  },
  {
   "cell_type": "code",
   "execution_count": 88,
   "id": "d8eefda2",
   "metadata": {},
   "outputs": [],
   "source": [
    "# You can call join() method on a separator or your choice\n",
    "mylist = ['Ehtisham', 'Ali', 'Ayesha', 'Dua', 'Adeen', 'Khubaib', str(21), str(18)]\n",
    "\n",
    "#Note the separator is hash character\n",
    "mystr = ' '.join(mylist)\n",
    "\n"
   ]
  },
  {
   "cell_type": "code",
   "execution_count": 89,
   "id": "228d6086",
   "metadata": {},
   "outputs": [
    {
     "name": "stdout",
     "output_type": "stream",
     "text": [
      "['Ehtisham', 'Ali', 'Ayesha', 'Dua', 'Adeen', 'Khubaib', '21', '18'] <class 'list'>\n",
      "Ehtisham Ali Ayesha Dua Adeen Khubaib 21 18 <class 'str'>\n"
     ]
    }
   ],
   "source": [
    "print(mylist, type(mylist))\n",
    "print(mystr, type(mystr))"
   ]
  },
  {
   "cell_type": "code",
   "execution_count": 90,
   "id": "e24e2faa",
   "metadata": {},
   "outputs": [
    {
     "data": {
      "text/plain": [
       "'Ehtisham Ali Ayesha Dua Adeen Khubaib 21 18'"
      ]
     },
     "execution_count": 90,
     "metadata": {},
     "output_type": "execute_result"
    }
   ],
   "source": [
    "mystr"
   ]
  },
  {
   "cell_type": "code",
   "execution_count": null,
   "id": "28459d2f",
   "metadata": {},
   "outputs": [],
   "source": []
  },
  {
   "cell_type": "code",
   "execution_count": null,
   "id": "f916f668",
   "metadata": {},
   "outputs": [],
   "source": []
  },
  {
   "cell_type": "markdown",
   "id": "1f02a9de",
   "metadata": {},
   "source": [
    "###  The `str.find()` method\n",
    "- The `str.find()` method is used to find a substring from within a string, which returns the first index at which a substring occurs in a string. If no instance of the substring is found, the method returns -1.\n",
    "```\n",
    "str.find(substring, start, end)\n",
    "```\n",
    "where \n",
    "    - `substring` is what we are searching for,\n",
    "    - `start` is the index from where we want to start searching (default value is 0)\n",
    "    - `end` is the index where we want to stop our search (default value is len(str) -1)"
   ]
  },
  {
   "cell_type": "code",
   "execution_count": null,
   "id": "8ae9548c",
   "metadata": {},
   "outputs": [],
   "source": []
  },
  {
   "cell_type": "code",
   "execution_count": 91,
   "id": "27f7f0b4",
   "metadata": {},
   "outputs": [
    {
     "name": "stdout",
     "output_type": "stream",
     "text": [
      "45\n",
      "17\n",
      "-1\n"
     ]
    }
   ],
   "source": [
    "str1 =  \"LearningPracticalDataSciencewithEhtishamSadiq\"\n",
    "print(len(str1))\n",
    "print(str1.find('Data'))\n",
    "print(str1.find('And1'))\n",
    "\n",
    "\n"
   ]
  },
  {
   "cell_type": "code",
   "execution_count": 92,
   "id": "c8e98e5a",
   "metadata": {},
   "outputs": [
    {
     "name": "stdout",
     "output_type": "stream",
     "text": [
      "21\n",
      "36\n"
     ]
    }
   ],
   "source": [
    "print(str1.find('S',2)) # second argument starts searching from that index\n",
    "print(str1.find('s',30)) # case sensitive\n",
    "\n"
   ]
  },
  {
   "cell_type": "code",
   "execution_count": 93,
   "id": "c8923645",
   "metadata": {},
   "outputs": [
    {
     "name": "stdout",
     "output_type": "stream",
     "text": [
      "-1\n",
      "-1\n"
     ]
    }
   ],
   "source": [
    "print(str1.find('S',0, 4)) # third argument stops searching uptill that index\n",
    "print(str1.find('S',0, 5)) "
   ]
  },
  {
   "cell_type": "code",
   "execution_count": 94,
   "id": "6e7484f5",
   "metadata": {},
   "outputs": [
    {
     "name": "stdout",
     "output_type": "stream",
     "text": [
      "21\n"
     ]
    }
   ],
   "source": [
    "print(str1.find('S',21, 23)) "
   ]
  },
  {
   "cell_type": "code",
   "execution_count": null,
   "id": "c60ac436",
   "metadata": {},
   "outputs": [],
   "source": []
  },
  {
   "cell_type": "markdown",
   "id": "68ad597d",
   "metadata": {},
   "source": [
    "### Use `str.replace()` method to find a substring\n",
    "- The `str.replace()` method returns a string after replacing all occurrences of `substring_to_be_replaced` with `new_string`.\n",
    "```\n",
    "str.replace(substring_to_be_replaced, new_string, count = -1)\n",
    "```\n",
    "- Note that `replace` returns a new string, and the original string is not modified."
   ]
  },
  {
   "cell_type": "code",
   "execution_count": 95,
   "id": "10224a4a",
   "metadata": {},
   "outputs": [
    {
     "name": "stdout",
     "output_type": "stream",
     "text": [
      "Help on built-in function replace:\n",
      "\n",
      "replace(old, new, count=-1, /) method of builtins.str instance\n",
      "    Return a copy with all occurrences of substring old replaced by new.\n",
      "    \n",
      "      count\n",
      "        Maximum number of occurrences to replace.\n",
      "        -1 (the default value) means replace all occurrences.\n",
      "    \n",
      "    If the optional argument count is given, only the first count occurrences are\n",
      "    replaced.\n",
      "\n"
     ]
    }
   ],
   "source": [
    "str1=\"DS\"\n",
    "help(str1.replace)"
   ]
  },
  {
   "cell_type": "code",
   "execution_count": 96,
   "id": "41cd4912",
   "metadata": {},
   "outputs": [
    {
     "name": "stdout",
     "output_type": "stream",
     "text": [
      "hallo\n",
      "hello\n"
     ]
    }
   ],
   "source": [
    "a = \"hello\"\n",
    "print(a.replace(\"e\",\"a\"))\n",
    "print(a)"
   ]
  },
  {
   "cell_type": "code",
   "execution_count": 97,
   "id": "a31f0b05",
   "metadata": {},
   "outputs": [
    {
     "name": "stdout",
     "output_type": "stream",
     "text": [
      "Learning Practical Data Science with Ehtisham Sadiq\n",
      "Learning Practical Life with Ehtisham Sadiq\n"
     ]
    }
   ],
   "source": [
    "str1 =  \"Learning Practical Data Science with Ehtisham Sadiq\"\n",
    "newstring = str1.replace('Data Science', 'Life')\n",
    "print(str1)\n",
    "print(newstring)"
   ]
  },
  {
   "cell_type": "code",
   "execution_count": null,
   "id": "553df570",
   "metadata": {},
   "outputs": [],
   "source": []
  },
  {
   "cell_type": "code",
   "execution_count": null,
   "id": "5a54032d",
   "metadata": {},
   "outputs": [],
   "source": []
  },
  {
   "cell_type": "markdown",
   "id": "5a57c2f5",
   "metadata": {},
   "source": [
    "### The `str.format()` method\n",
    "\n",
    "- The `str.format()` method combines values of other data types, e.g., integers, floats, booleans, lists, etc. with strings. \n",
    "- You can use `str.format()` to construct output messages for display in the Python built-in `print()` function.\n",
    "- You put placeholders `{}` within the format string of `print()` function, and the arguments to the `str.format()` method are the variable names\n",
    "- The values of the variables are replaced with the arguments provided to the `str.format()` method."
   ]
  },
  {
   "cell_type": "code",
   "execution_count": 98,
   "id": "cb281aab",
   "metadata": {},
   "outputs": [
    {
     "name": "stdout",
     "output_type": "stream",
     "text": [
      "Mr. Ehtisham Sadiq, you are 22 years old.\n"
     ]
    }
   ],
   "source": [
    "age = 22\n",
    "name = \"Ehtisham Sadiq\"\n",
    "\n",
    "print(\"Mr. {}, you are {} years old.\" .format(name, age))"
   ]
  },
  {
   "cell_type": "code",
   "execution_count": null,
   "id": "d657265c",
   "metadata": {},
   "outputs": [],
   "source": []
  },
  {
   "cell_type": "code",
   "execution_count": null,
   "id": "ab85484a",
   "metadata": {},
   "outputs": [],
   "source": []
  },
  {
   "cell_type": "code",
   "execution_count": 100,
   "id": "5c5787f7",
   "metadata": {},
   "outputs": [
    {
     "name": "stdout",
     "output_type": "stream",
     "text": [
      "Mr. Ali Sadiq, your total cost is 100, percentage discount is 0.2, and bill is 80.0\n"
     ]
    }
   ],
   "source": [
    "name = \"Ali Sadiq\"\n",
    "cost = 100\n",
    "discount = .2\n",
    "bill = cost - cost * discount\n",
    "\n",
    "print(\"Mr. {2}, your total cost is {1}, percentage discount is {3}, and bill is {0}\" \n",
    "      . format(bill, cost, name, discount))"
   ]
  },
  {
   "cell_type": "code",
   "execution_count": null,
   "id": "71cbec81",
   "metadata": {},
   "outputs": [],
   "source": []
  },
  {
   "cell_type": "code",
   "execution_count": 101,
   "id": "da9e1824",
   "metadata": {},
   "outputs": [
    {
     "name": "stdout",
     "output_type": "stream",
     "text": [
      "Mr. Ali Sadiq, your total cost is 100, percentage discount is 0.2, and bill is 80.0\n"
     ]
    }
   ],
   "source": [
    "name=\"Ali Sadiq\"\n",
    "cost = 100\n",
    "discount = .2\n",
    "bill = cost - cost * discount\n",
    "\n",
    "print(f\"Mr. {name}, your total cost is {cost}, percentage discount is {discount}, and bill is {bill}\" \n",
    "      . format(bill, cost, name, discount))\n"
   ]
  },
  {
   "cell_type": "code",
   "execution_count": 102,
   "id": "9ddead3f",
   "metadata": {},
   "outputs": [
    {
     "name": "stdout",
     "output_type": "stream",
     "text": [
      "My name is Ehtisham and my age is 22\n"
     ]
    }
   ],
   "source": [
    "name = \"Ehtisham\"\n",
    "age = 22\n",
    "print(f\"My name is {name} and my age is {age}\")"
   ]
  },
  {
   "cell_type": "code",
   "execution_count": null,
   "id": "04e89794",
   "metadata": {},
   "outputs": [],
   "source": []
  },
  {
   "cell_type": "code",
   "execution_count": null,
   "id": "c6a466ff",
   "metadata": {},
   "outputs": [],
   "source": []
  },
  {
   "cell_type": "code",
   "execution_count": null,
   "id": "5030be64",
   "metadata": {},
   "outputs": [],
   "source": []
  },
  {
   "cell_type": "code",
   "execution_count": null,
   "id": "a57dcaa5",
   "metadata": {},
   "outputs": [],
   "source": []
  },
  {
   "cell_type": "markdown",
   "id": "f5490b1c",
   "metadata": {},
   "source": [
    "### Check your Concepts\n",
    "\n",
    "Try answering the following questions to test your understanding of the topics covered in this notebook:\n",
    "\n",
    "1. What are the container types available in Python?\n",
    "2. What kind of data does the String data type represent?\n",
    "3. What are the different ways of creating strings in Python?\n",
    "4. What is the difference between strings created using single quotes, i.e. `'` and `'` vs. those created using double quotes, i.e. `\"` and `\"`?\n",
    "5. How do you create multi-line strings in Python?\n",
    "6. What is the newline character, `\\n`?\n",
    "8. How do you check the length of a string?\n",
    "9. How do you convert a string into a list of characters?\n",
    "10. How do you access a specific character from a string?\n",
    "11. How do you access a range of characters from a string?\n",
    "12. How do you check if a specific character occurs in a string?\n",
    "13. How do you check if a smaller string occurs within a bigger string?\n",
    "14. How do you join two or more strings?\n",
    "15. What are \"methods\" in Python? How are they different from functions?\n",
    "16. What do the `.count`, `.isalnum` and `.isalpha` methods on strings do?\n",
    "17. How do you replace a specific part of a string with something else?\n",
    "18. How do you split the string \"Sun,Mon,Tue,Wed,Thu,Fri,Sat\" into a list of days?\n",
    "19. How do you remove whitespace from the beginning and end of a string?\n",
    "20. What is the string `.format` method used for? Can you give an example?\n",
    "21. What are the benefits of using the `.format` method instead of string concatenation?\n",
    "22. How do you convert a value of another type to a string?\n",
    "23. How do you check if two strings have the same value?\n",
    "24. Where can you find the list of all the methods supported by strings?"
   ]
  },
  {
   "cell_type": "code",
   "execution_count": null,
   "id": "64383aba",
   "metadata": {},
   "outputs": [],
   "source": []
  },
  {
   "cell_type": "code",
   "execution_count": null,
   "id": "391e585d",
   "metadata": {},
   "outputs": [],
   "source": []
  },
  {
   "cell_type": "code",
   "execution_count": null,
   "id": "d43e1d82",
   "metadata": {},
   "outputs": [],
   "source": []
  },
  {
   "cell_type": "code",
   "execution_count": null,
   "id": "d6ba9762",
   "metadata": {},
   "outputs": [],
   "source": []
  },
  {
   "cell_type": "code",
   "execution_count": null,
   "id": "23edb561",
   "metadata": {},
   "outputs": [],
   "source": []
  },
  {
   "cell_type": "markdown",
   "id": "17fe762f",
   "metadata": {},
   "source": [
    "### Practice Question"
   ]
  },
  {
   "cell_type": "code",
   "execution_count": null,
   "id": "c60766ed",
   "metadata": {},
   "outputs": [],
   "source": []
  },
  {
   "cell_type": "code",
   "execution_count": null,
   "id": "b1d5334a",
   "metadata": {},
   "outputs": [],
   "source": []
  },
  {
   "cell_type": "code",
   "execution_count": null,
   "id": "ec5c3dfd",
   "metadata": {},
   "outputs": [],
   "source": []
  },
  {
   "cell_type": "code",
   "execution_count": null,
   "id": "94c9d6af",
   "metadata": {},
   "outputs": [],
   "source": []
  }
 ],
 "metadata": {
  "kernelspec": {
   "display_name": "Python 3 (ipykernel)",
   "language": "python",
   "name": "python3"
  },
  "language_info": {
   "codemirror_mode": {
    "name": "ipython",
    "version": 3
   },
   "file_extension": ".py",
   "mimetype": "text/x-python",
   "name": "python",
   "nbconvert_exporter": "python",
   "pygments_lexer": "ipython3",
   "version": "3.8.10"
  }
 },
 "nbformat": 4,
 "nbformat_minor": 5
}
